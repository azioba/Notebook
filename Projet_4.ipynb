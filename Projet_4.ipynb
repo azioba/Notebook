{
 "cells": [
  {
   "cell_type": "code",
   "execution_count": 138,
   "metadata": {},
   "outputs": [],
   "source": [
    "%matplotlib inline\n",
    "import pandas as pd\n",
    "import numpy as np\n",
    "import matplotlib.pyplot as plt\n",
    "import seaborn as sns\n",
    "import shap\n",
    "import lime\n",
    "\n",
    "from sklearn.preprocessing import StandardScaler, OneHotEncoder, LabelBinarizer\n",
    "from sklearn.model_selection import train_test_split, GridSearchCV\n",
    "from sklearn.ensemble import RandomForestRegressor\n",
    "from sklearn.linear_model import Ridge\n",
    "from sklearn.neighbors import KNeighborsRegressor\n",
    "from sklearn.tree import DecisionTreeRegressor\n",
    "from sklearn.metrics import mean_absolute_error as m_a_e, mean_squared_error as m_s_e, r2_score as r2\n",
    "from sklearn.pipeline import Pipeline, make_pipeline\n",
    "from sklearn.dummy import DummyRegressor\n",
    "from sklearn.ensemble import GradientBoostingRegressor\n",
    "from xgboost import XGBRegressor\n",
    "from lime import lime_tabular\n",
    "\n",
    "from scipy.stats.mstats import winsorize"
   ]
  },
  {
   "cell_type": "code",
   "execution_count": 139,
   "metadata": {},
   "outputs": [],
   "source": [
    "import warnings\n",
    "warnings.filterwarnings('ignore')"
   ]
  },
  {
   "cell_type": "code",
   "execution_count": 140,
   "metadata": {},
   "outputs": [],
   "source": [
    "dataset = \"E:/Formation Data Scientist/Projet_4/2016_Building_Energy_Benchmarking.csv\""
   ]
  },
  {
   "cell_type": "code",
   "execution_count": 141,
   "metadata": {},
   "outputs": [],
   "source": [
    "df = pd.read_csv(dataset)"
   ]
  },
  {
   "cell_type": "markdown",
   "metadata": {},
   "source": [
    "### <a name='C2'> EDA et Choix des features   </a>"
   ]
  },
  {
   "cell_type": "code",
   "execution_count": 142,
   "metadata": {},
   "outputs": [
    {
     "data": {
      "text/html": [
       "<div>\n",
       "<style scoped>\n",
       "    .dataframe tbody tr th:only-of-type {\n",
       "        vertical-align: middle;\n",
       "    }\n",
       "\n",
       "    .dataframe tbody tr th {\n",
       "        vertical-align: top;\n",
       "    }\n",
       "\n",
       "    .dataframe thead th {\n",
       "        text-align: right;\n",
       "    }\n",
       "</style>\n",
       "<table border=\"1\" class=\"dataframe\">\n",
       "  <thead>\n",
       "    <tr style=\"text-align: right;\">\n",
       "      <th></th>\n",
       "      <th>OSEBuildingID</th>\n",
       "      <th>DataYear</th>\n",
       "      <th>BuildingType</th>\n",
       "      <th>PrimaryPropertyType</th>\n",
       "      <th>PropertyName</th>\n",
       "      <th>Address</th>\n",
       "      <th>City</th>\n",
       "      <th>State</th>\n",
       "      <th>ZipCode</th>\n",
       "      <th>TaxParcelIdentificationNumber</th>\n",
       "      <th>...</th>\n",
       "      <th>Electricity(kWh)</th>\n",
       "      <th>Electricity(kBtu)</th>\n",
       "      <th>NaturalGas(therms)</th>\n",
       "      <th>NaturalGas(kBtu)</th>\n",
       "      <th>DefaultData</th>\n",
       "      <th>Comments</th>\n",
       "      <th>ComplianceStatus</th>\n",
       "      <th>Outlier</th>\n",
       "      <th>TotalGHGEmissions</th>\n",
       "      <th>GHGEmissionsIntensity</th>\n",
       "    </tr>\n",
       "  </thead>\n",
       "  <tbody>\n",
       "    <tr>\n",
       "      <th>0</th>\n",
       "      <td>1</td>\n",
       "      <td>2016</td>\n",
       "      <td>NonResidential</td>\n",
       "      <td>Hotel</td>\n",
       "      <td>Mayflower park hotel</td>\n",
       "      <td>405 Olive way</td>\n",
       "      <td>Seattle</td>\n",
       "      <td>WA</td>\n",
       "      <td>98101.0</td>\n",
       "      <td>0659000030</td>\n",
       "      <td>...</td>\n",
       "      <td>1.156514e+06</td>\n",
       "      <td>3946027.0</td>\n",
       "      <td>12764.52930</td>\n",
       "      <td>1276453.0</td>\n",
       "      <td>False</td>\n",
       "      <td>NaN</td>\n",
       "      <td>Compliant</td>\n",
       "      <td>NaN</td>\n",
       "      <td>249.98</td>\n",
       "      <td>2.83</td>\n",
       "    </tr>\n",
       "    <tr>\n",
       "      <th>1</th>\n",
       "      <td>2</td>\n",
       "      <td>2016</td>\n",
       "      <td>NonResidential</td>\n",
       "      <td>Hotel</td>\n",
       "      <td>Paramount Hotel</td>\n",
       "      <td>724 Pine street</td>\n",
       "      <td>Seattle</td>\n",
       "      <td>WA</td>\n",
       "      <td>98101.0</td>\n",
       "      <td>0659000220</td>\n",
       "      <td>...</td>\n",
       "      <td>9.504252e+05</td>\n",
       "      <td>3242851.0</td>\n",
       "      <td>51450.81641</td>\n",
       "      <td>5145082.0</td>\n",
       "      <td>False</td>\n",
       "      <td>NaN</td>\n",
       "      <td>Compliant</td>\n",
       "      <td>NaN</td>\n",
       "      <td>295.86</td>\n",
       "      <td>2.86</td>\n",
       "    </tr>\n",
       "    <tr>\n",
       "      <th>2</th>\n",
       "      <td>3</td>\n",
       "      <td>2016</td>\n",
       "      <td>NonResidential</td>\n",
       "      <td>Hotel</td>\n",
       "      <td>5673-The Westin Seattle</td>\n",
       "      <td>1900 5th Avenue</td>\n",
       "      <td>Seattle</td>\n",
       "      <td>WA</td>\n",
       "      <td>98101.0</td>\n",
       "      <td>0659000475</td>\n",
       "      <td>...</td>\n",
       "      <td>1.451544e+07</td>\n",
       "      <td>49526664.0</td>\n",
       "      <td>14938.00000</td>\n",
       "      <td>1493800.0</td>\n",
       "      <td>False</td>\n",
       "      <td>NaN</td>\n",
       "      <td>Compliant</td>\n",
       "      <td>NaN</td>\n",
       "      <td>2089.28</td>\n",
       "      <td>2.19</td>\n",
       "    </tr>\n",
       "  </tbody>\n",
       "</table>\n",
       "<p>3 rows × 46 columns</p>\n",
       "</div>"
      ],
      "text/plain": [
       "   OSEBuildingID  DataYear    BuildingType PrimaryPropertyType  \\\n",
       "0              1      2016  NonResidential               Hotel   \n",
       "1              2      2016  NonResidential               Hotel   \n",
       "2              3      2016  NonResidential               Hotel   \n",
       "\n",
       "              PropertyName          Address     City State  ZipCode  \\\n",
       "0     Mayflower park hotel    405 Olive way  Seattle    WA  98101.0   \n",
       "1          Paramount Hotel  724 Pine street  Seattle    WA  98101.0   \n",
       "2  5673-The Westin Seattle  1900 5th Avenue  Seattle    WA  98101.0   \n",
       "\n",
       "  TaxParcelIdentificationNumber  ...  Electricity(kWh) Electricity(kBtu)  \\\n",
       "0                    0659000030  ...      1.156514e+06         3946027.0   \n",
       "1                    0659000220  ...      9.504252e+05         3242851.0   \n",
       "2                    0659000475  ...      1.451544e+07        49526664.0   \n",
       "\n",
       "   NaturalGas(therms)  NaturalGas(kBtu)  DefaultData  Comments  \\\n",
       "0         12764.52930         1276453.0        False       NaN   \n",
       "1         51450.81641         5145082.0        False       NaN   \n",
       "2         14938.00000         1493800.0        False       NaN   \n",
       "\n",
       "   ComplianceStatus  Outlier  TotalGHGEmissions  GHGEmissionsIntensity  \n",
       "0         Compliant      NaN             249.98                   2.83  \n",
       "1         Compliant      NaN             295.86                   2.86  \n",
       "2         Compliant      NaN            2089.28                   2.19  \n",
       "\n",
       "[3 rows x 46 columns]"
      ]
     },
     "execution_count": 142,
     "metadata": {},
     "output_type": "execute_result"
    }
   ],
   "source": [
    "df.head(3)"
   ]
  },
  {
   "cell_type": "code",
   "execution_count": 143,
   "metadata": {},
   "outputs": [
    {
     "name": "stdout",
     "output_type": "stream",
     "text": [
      "<class 'pandas.core.frame.DataFrame'>\n",
      "RangeIndex: 3376 entries, 0 to 3375\n",
      "Data columns (total 46 columns):\n",
      " #   Column                           Non-Null Count  Dtype  \n",
      "---  ------                           --------------  -----  \n",
      " 0   OSEBuildingID                    3376 non-null   int64  \n",
      " 1   DataYear                         3376 non-null   int64  \n",
      " 2   BuildingType                     3376 non-null   object \n",
      " 3   PrimaryPropertyType              3376 non-null   object \n",
      " 4   PropertyName                     3376 non-null   object \n",
      " 5   Address                          3376 non-null   object \n",
      " 6   City                             3376 non-null   object \n",
      " 7   State                            3376 non-null   object \n",
      " 8   ZipCode                          3360 non-null   float64\n",
      " 9   TaxParcelIdentificationNumber    3376 non-null   object \n",
      " 10  CouncilDistrictCode              3376 non-null   int64  \n",
      " 11  Neighborhood                     3376 non-null   object \n",
      " 12  Latitude                         3376 non-null   float64\n",
      " 13  Longitude                        3376 non-null   float64\n",
      " 14  YearBuilt                        3376 non-null   int64  \n",
      " 15  NumberofBuildings                3368 non-null   float64\n",
      " 16  NumberofFloors                   3376 non-null   int64  \n",
      " 17  PropertyGFATotal                 3376 non-null   int64  \n",
      " 18  PropertyGFAParking               3376 non-null   int64  \n",
      " 19  PropertyGFABuilding(s)           3376 non-null   int64  \n",
      " 20  ListOfAllPropertyUseTypes        3367 non-null   object \n",
      " 21  LargestPropertyUseType           3356 non-null   object \n",
      " 22  LargestPropertyUseTypeGFA        3356 non-null   float64\n",
      " 23  SecondLargestPropertyUseType     1679 non-null   object \n",
      " 24  SecondLargestPropertyUseTypeGFA  1679 non-null   float64\n",
      " 25  ThirdLargestPropertyUseType      596 non-null    object \n",
      " 26  ThirdLargestPropertyUseTypeGFA   596 non-null    float64\n",
      " 27  YearsENERGYSTARCertified         119 non-null    object \n",
      " 28  ENERGYSTARScore                  2533 non-null   float64\n",
      " 29  SiteEUI(kBtu/sf)                 3369 non-null   float64\n",
      " 30  SiteEUIWN(kBtu/sf)               3370 non-null   float64\n",
      " 31  SourceEUI(kBtu/sf)               3367 non-null   float64\n",
      " 32  SourceEUIWN(kBtu/sf)             3367 non-null   float64\n",
      " 33  SiteEnergyUse(kBtu)              3371 non-null   float64\n",
      " 34  SiteEnergyUseWN(kBtu)            3370 non-null   float64\n",
      " 35  SteamUse(kBtu)                   3367 non-null   float64\n",
      " 36  Electricity(kWh)                 3367 non-null   float64\n",
      " 37  Electricity(kBtu)                3367 non-null   float64\n",
      " 38  NaturalGas(therms)               3367 non-null   float64\n",
      " 39  NaturalGas(kBtu)                 3367 non-null   float64\n",
      " 40  DefaultData                      3376 non-null   bool   \n",
      " 41  Comments                         0 non-null      float64\n",
      " 42  ComplianceStatus                 3376 non-null   object \n",
      " 43  Outlier                          32 non-null     object \n",
      " 44  TotalGHGEmissions                3367 non-null   float64\n",
      " 45  GHGEmissionsIntensity            3367 non-null   float64\n",
      "dtypes: bool(1), float64(22), int64(8), object(15)\n",
      "memory usage: 1.2+ MB\n"
     ]
    }
   ],
   "source": [
    "df.info()"
   ]
  },
  {
   "cell_type": "markdown",
   "metadata": {},
   "source": []
  },
  {
   "cell_type": "code",
   "execution_count": 144,
   "metadata": {},
   "outputs": [
    {
     "data": {
      "text/plain": [
       "(3376, 46)"
      ]
     },
     "execution_count": 144,
     "metadata": {},
     "output_type": "execute_result"
    }
   ],
   "source": [
    "df.shape"
   ]
  },
  {
   "cell_type": "markdown",
   "metadata": {},
   "source": []
  },
  {
   "cell_type": "markdown",
   "metadata": {},
   "source": [
    "- Exploration des valeurs nulles"
   ]
  },
  {
   "cell_type": "code",
   "execution_count": 145,
   "metadata": {},
   "outputs": [
    {
     "data": {
      "image/png": "[encoded data removed]",
      "text/plain": [
       "<Figure size 1152x864 with 1 Axes>"
      ]
     },
     "metadata": {
      "needs_background": "light"
     },
     "output_type": "display_data"
    }
   ],
   "source": [
    "plt.figure(figsize=(16,12))\n",
    "sns.heatmap(df.isna(),cbar=False)\n",
    "plt.show()"
   ]
  },
  {
   "cell_type": "markdown",
   "metadata": {},
   "source": []
  },
  {
   "cell_type": "markdown",
   "metadata": {},
   "source": [
    "- Typologie des variables"
   ]
  },
  {
   "cell_type": "code",
   "execution_count": 146,
   "metadata": {},
   "outputs": [
    {
     "data": {
      "text/plain": [
       "float64    22\n",
       "object     15\n",
       "int64       8\n",
       "bool        1\n",
       "dtype: int64"
      ]
     },
     "execution_count": 146,
     "metadata": {},
     "output_type": "execute_result"
    }
   ],
   "source": [
    "df.dtypes.value_counts()"
   ]
  },
  {
   "cell_type": "markdown",
   "metadata": {},
   "source": []
  },
  {
   "cell_type": "markdown",
   "metadata": {},
   "source": [
    "- Nombre de variables différentes par Feature"
   ]
  },
  {
   "cell_type": "code",
   "execution_count": 147,
   "metadata": {},
   "outputs": [
    {
     "data": {
      "text/plain": [
       "OSEBuildingID                      3376\n",
       "DataYear                              1\n",
       "BuildingType                          8\n",
       "PrimaryPropertyType                  24\n",
       "PropertyName                       3362\n",
       "Address                            3354\n",
       "City                                  1\n",
       "State                                 1\n",
       "ZipCode                              55\n",
       "TaxParcelIdentificationNumber      3268\n",
       "CouncilDistrictCode                   7\n",
       "Neighborhood                         19\n",
       "Latitude                           2876\n",
       "Longitude                          2656\n",
       "YearBuilt                           113\n",
       "NumberofBuildings                    17\n",
       "NumberofFloors                       50\n",
       "PropertyGFATotal                   3195\n",
       "PropertyGFAParking                  496\n",
       "PropertyGFABuilding(s)             3193\n",
       "ListOfAllPropertyUseTypes           466\n",
       "LargestPropertyUseType               56\n",
       "LargestPropertyUseTypeGFA          3122\n",
       "SecondLargestPropertyUseType         50\n",
       "SecondLargestPropertyUseTypeGFA    1352\n",
       "ThirdLargestPropertyUseType          44\n",
       "ThirdLargestPropertyUseTypeGFA      501\n",
       "YearsENERGYSTARCertified             65\n",
       "ENERGYSTARScore                     100\n",
       "SiteEUI(kBtu/sf)                   1085\n",
       "SiteEUIWN(kBtu/sf)                 1105\n",
       "SourceEUI(kBtu/sf)                 1648\n",
       "SourceEUIWN(kBtu/sf)               1694\n",
       "SiteEnergyUse(kBtu)                3354\n",
       "SiteEnergyUseWN(kBtu)              3341\n",
       "SteamUse(kBtu)                      131\n",
       "Electricity(kWh)                   3352\n",
       "Electricity(kBtu)                  3351\n",
       "NaturalGas(therms)                 2109\n",
       "NaturalGas(kBtu)                   2109\n",
       "DefaultData                           2\n",
       "Comments                              0\n",
       "ComplianceStatus                      4\n",
       "Outlier                               2\n",
       "TotalGHGEmissions                  2818\n",
       "GHGEmissionsIntensity               511\n",
       "dtype: int64"
      ]
     },
     "execution_count": 147,
     "metadata": {},
     "output_type": "execute_result"
    }
   ],
   "source": [
    "df.nunique()"
   ]
  },
  {
   "cell_type": "code",
   "execution_count": 148,
   "metadata": {},
   "outputs": [
    {
     "data": {
      "text/plain": [
       "Low outlier     23\n",
       "High outlier     9\n",
       "Name: Outlier, dtype: int64"
      ]
     },
     "execution_count": 148,
     "metadata": {},
     "output_type": "execute_result"
    }
   ],
   "source": [
    "df['Outlier'].value_counts()"
   ]
  },
  {
   "cell_type": "code",
   "execution_count": 149,
   "metadata": {},
   "outputs": [
    {
     "data": {
      "text/plain": [
       "Compliant                       3211\n",
       "Error - Correct Default Data     113\n",
       "Non-Compliant                     37\n",
       "Missing Data                      15\n",
       "Name: ComplianceStatus, dtype: int64"
      ]
     },
     "execution_count": 149,
     "metadata": {},
     "output_type": "execute_result"
    }
   ],
   "source": [
    "df['ComplianceStatus'].value_counts()"
   ]
  },
  {
   "cell_type": "markdown",
   "metadata": {},
   "source": [
    "On a 8 types de buiding, seuls les buildings résidentiels nous interressent dans le cadre de notre étude"
   ]
  },
  {
   "cell_type": "code",
   "execution_count": 150,
   "metadata": {},
   "outputs": [
    {
     "data": {
      "text/plain": [
       "NonResidential          1460\n",
       "Multifamily LR (1-4)    1018\n",
       "Multifamily MR (5-9)     580\n",
       "Multifamily HR (10+)     110\n",
       "SPS-District K-12         98\n",
       "Nonresidential COS        85\n",
       "Campus                    24\n",
       "Nonresidential WA          1\n",
       "Name: BuildingType, dtype: int64"
      ]
     },
     "execution_count": 150,
     "metadata": {},
     "output_type": "execute_result"
    }
   ],
   "source": [
    "df.iloc[:,2].value_counts()"
   ]
  },
  {
   "cell_type": "markdown",
   "metadata": {},
   "source": [
    "Ici ce sont les buildings de type Multifamily qui nous interressent (rajouter Campus??)"
   ]
  },
  {
   "cell_type": "code",
   "execution_count": 151,
   "metadata": {},
   "outputs": [
    {
     "data": {
      "text/plain": [
       "Low-Rise Multifamily           987\n",
       "Mid-Rise Multifamily           564\n",
       "Small- and Mid-Sized Office    293\n",
       "Other                          256\n",
       "Warehouse                      187\n",
       "Large Office                   173\n",
       "K-12 School                    139\n",
       "Mixed Use Property             133\n",
       "High-Rise Multifamily          105\n",
       "Retail Store                    91\n",
       "Hotel                           77\n",
       "Worship Facility                71\n",
       "Distribution Center             53\n",
       "Senior Care Community           45\n",
       "Supermarket / Grocery Store     40\n",
       "Medical Office                  39\n",
       "Self-Storage Facility           28\n",
       "University                      25\n",
       "Residence Hall                  23\n",
       "Refrigerated Warehouse          12\n",
       "Restaurant                      12\n",
       "Hospital                        10\n",
       "Laboratory                      10\n",
       "Office                           3\n",
       "Name: PrimaryPropertyType, dtype: int64"
      ]
     },
     "execution_count": 151,
     "metadata": {},
     "output_type": "execute_result"
    }
   ],
   "source": [
    "df.iloc[:,3].value_counts()"
   ]
  },
  {
   "cell_type": "code",
   "execution_count": null,
   "metadata": {},
   "outputs": [],
   "source": []
  },
  {
   "cell_type": "markdown",
   "metadata": {},
   "source": [
    "- Nombre de valeures nulles par feature"
   ]
  },
  {
   "cell_type": "code",
   "execution_count": 152,
   "metadata": {},
   "outputs": [
    {
     "data": {
      "text/plain": [
       "OSEBuildingID                         0\n",
       "DataYear                              0\n",
       "BuildingType                          0\n",
       "PrimaryPropertyType                   0\n",
       "PropertyName                          0\n",
       "Address                               0\n",
       "City                                  0\n",
       "State                                 0\n",
       "ZipCode                              16\n",
       "TaxParcelIdentificationNumber         0\n",
       "CouncilDistrictCode                   0\n",
       "Neighborhood                          0\n",
       "Latitude                              0\n",
       "Longitude                             0\n",
       "YearBuilt                             0\n",
       "NumberofBuildings                     8\n",
       "NumberofFloors                        0\n",
       "PropertyGFATotal                      0\n",
       "PropertyGFAParking                    0\n",
       "PropertyGFABuilding(s)                0\n",
       "ListOfAllPropertyUseTypes             9\n",
       "LargestPropertyUseType               20\n",
       "LargestPropertyUseTypeGFA            20\n",
       "SecondLargestPropertyUseType       1697\n",
       "SecondLargestPropertyUseTypeGFA    1697\n",
       "ThirdLargestPropertyUseType        2780\n",
       "ThirdLargestPropertyUseTypeGFA     2780\n",
       "YearsENERGYSTARCertified           3257\n",
       "ENERGYSTARScore                     843\n",
       "SiteEUI(kBtu/sf)                      7\n",
       "SiteEUIWN(kBtu/sf)                    6\n",
       "SourceEUI(kBtu/sf)                    9\n",
       "SourceEUIWN(kBtu/sf)                  9\n",
       "SiteEnergyUse(kBtu)                   5\n",
       "SiteEnergyUseWN(kBtu)                 6\n",
       "SteamUse(kBtu)                        9\n",
       "Electricity(kWh)                      9\n",
       "Electricity(kBtu)                     9\n",
       "NaturalGas(therms)                    9\n",
       "NaturalGas(kBtu)                      9\n",
       "DefaultData                           0\n",
       "Comments                           3376\n",
       "ComplianceStatus                      0\n",
       "Outlier                            3344\n",
       "TotalGHGEmissions                     9\n",
       "GHGEmissionsIntensity                 9\n",
       "dtype: int64"
      ]
     },
     "execution_count": 152,
     "metadata": {},
     "output_type": "execute_result"
    }
   ],
   "source": [
    "df.isna().sum()"
   ]
  },
  {
   "cell_type": "markdown",
   "metadata": {},
   "source": []
  },
  {
   "cell_type": "markdown",
   "metadata": {},
   "source": [
    "### <a name='C2'> Feature Engineering   </a>"
   ]
  },
  {
   "cell_type": "code",
   "execution_count": 307,
   "metadata": {},
   "outputs": [],
   "source": [
    "building_type = ['NonResidential','NonResidential COS','NonResidential WA','Campus','SPS-District K-12'] \n",
    "\n",
    "nonRes = df[df['BuildingType'].isin(building_type)].reset_index(drop=True)"
   ]
  },
  {
   "cell_type": "markdown",
   "metadata": {},
   "source": [
    "- Nos deux targets sont **TotalGHGEmissions** et **SiteEnergyUse(kBtu)**"
   ]
  },
  {
   "cell_type": "code",
   "execution_count": 308,
   "metadata": {},
   "outputs": [],
   "source": [
    "compliant = ['Compliant']\n",
    "\n",
    "nonRes = nonRes[nonRes['ComplianceStatus'].isin(compliant)].reset_index(drop=True)"
   ]
  },
  {
   "cell_type": "code",
   "execution_count": 309,
   "metadata": {},
   "outputs": [
    {
     "data": {
      "text/plain": [
       "(1466, 46)"
      ]
     },
     "execution_count": 309,
     "metadata": {},
     "output_type": "execute_result"
    }
   ],
   "source": [
    "nonRes.shape"
   ]
  },
  {
   "cell_type": "code",
   "execution_count": 310,
   "metadata": {},
   "outputs": [
    {
     "data": {
      "text/html": [
       "<div>\n",
       "<style scoped>\n",
       "    .dataframe tbody tr th:only-of-type {\n",
       "        vertical-align: middle;\n",
       "    }\n",
       "\n",
       "    .dataframe tbody tr th {\n",
       "        vertical-align: top;\n",
       "    }\n",
       "\n",
       "    .dataframe thead th {\n",
       "        text-align: right;\n",
       "    }\n",
       "</style>\n",
       "<table border=\"1\" class=\"dataframe\">\n",
       "  <thead>\n",
       "    <tr style=\"text-align: right;\">\n",
       "      <th></th>\n",
       "      <th>OSEBuildingID</th>\n",
       "      <th>DataYear</th>\n",
       "      <th>BuildingType</th>\n",
       "      <th>PrimaryPropertyType</th>\n",
       "      <th>PropertyName</th>\n",
       "      <th>Address</th>\n",
       "      <th>City</th>\n",
       "      <th>State</th>\n",
       "      <th>ZipCode</th>\n",
       "      <th>TaxParcelIdentificationNumber</th>\n",
       "      <th>...</th>\n",
       "      <th>Electricity(kWh)</th>\n",
       "      <th>Electricity(kBtu)</th>\n",
       "      <th>NaturalGas(therms)</th>\n",
       "      <th>NaturalGas(kBtu)</th>\n",
       "      <th>DefaultData</th>\n",
       "      <th>Comments</th>\n",
       "      <th>ComplianceStatus</th>\n",
       "      <th>Outlier</th>\n",
       "      <th>TotalGHGEmissions</th>\n",
       "      <th>GHGEmissionsIntensity</th>\n",
       "    </tr>\n",
       "  </thead>\n",
       "  <tbody>\n",
       "    <tr>\n",
       "      <th>0</th>\n",
       "      <td>1</td>\n",
       "      <td>2016</td>\n",
       "      <td>NonResidential</td>\n",
       "      <td>Hotel</td>\n",
       "      <td>Mayflower park hotel</td>\n",
       "      <td>405 Olive way</td>\n",
       "      <td>Seattle</td>\n",
       "      <td>WA</td>\n",
       "      <td>98101.0</td>\n",
       "      <td>0659000030</td>\n",
       "      <td>...</td>\n",
       "      <td>1156514.25</td>\n",
       "      <td>3946027.0</td>\n",
       "      <td>12764.5293</td>\n",
       "      <td>1276453.0</td>\n",
       "      <td>False</td>\n",
       "      <td>NaN</td>\n",
       "      <td>Compliant</td>\n",
       "      <td>NaN</td>\n",
       "      <td>249.98</td>\n",
       "      <td>2.83</td>\n",
       "    </tr>\n",
       "  </tbody>\n",
       "</table>\n",
       "<p>1 rows × 46 columns</p>\n",
       "</div>"
      ],
      "text/plain": [
       "   OSEBuildingID  DataYear    BuildingType PrimaryPropertyType  \\\n",
       "0              1      2016  NonResidential               Hotel   \n",
       "\n",
       "           PropertyName        Address     City State  ZipCode  \\\n",
       "0  Mayflower park hotel  405 Olive way  Seattle    WA  98101.0   \n",
       "\n",
       "  TaxParcelIdentificationNumber  ...  Electricity(kWh) Electricity(kBtu)  \\\n",
       "0                    0659000030  ...        1156514.25         3946027.0   \n",
       "\n",
       "   NaturalGas(therms)  NaturalGas(kBtu)  DefaultData  Comments  \\\n",
       "0          12764.5293         1276453.0        False       NaN   \n",
       "\n",
       "   ComplianceStatus  Outlier  TotalGHGEmissions  GHGEmissionsIntensity  \n",
       "0         Compliant      NaN             249.98                   2.83  \n",
       "\n",
       "[1 rows x 46 columns]"
      ]
     },
     "execution_count": 310,
     "metadata": {},
     "output_type": "execute_result"
    }
   ],
   "source": [
    "nonRes.head(1)"
   ]
  },
  {
   "cell_type": "code",
   "execution_count": 311,
   "metadata": {},
   "outputs": [],
   "source": [
    "#nonRes[nonRes['BuildingType'] == 'Campus']"
   ]
  },
  {
   "cell_type": "code",
   "execution_count": 312,
   "metadata": {},
   "outputs": [
    {
     "data": {
      "text/plain": [
       "Small- and Mid-Sized Office    282\n",
       "Other                          190\n",
       "Warehouse                      178\n",
       "Large Office                   165\n",
       "Mixed Use Property             105\n",
       "Retail Store                    85\n",
       "Hotel                           75\n",
       "Worship Facility                69\n",
       "Distribution Center             51\n",
       "K-12 School                     50\n",
       "Supermarket / Grocery Store     40\n",
       "Medical Office                  38\n",
       "Self-Storage Facility           28\n",
       "University                      23\n",
       "Residence Hall                  21\n",
       "Senior Care Community           20\n",
       "Refrigerated Warehouse          12\n",
       "Restaurant                      12\n",
       "Hospital                        10\n",
       "Laboratory                      10\n",
       "Low-Rise Multifamily             2\n",
       "Name: PrimaryPropertyType, dtype: int64"
      ]
     },
     "execution_count": 312,
     "metadata": {},
     "output_type": "execute_result"
    }
   ],
   "source": [
    "nonRes.iloc[:,3].value_counts()"
   ]
  },
  {
   "cell_type": "markdown",
   "metadata": {},
   "source": [
    "- Nettoyage et choix des features à utiliser"
   ]
  },
  {
   "cell_type": "code",
   "execution_count": 313,
   "metadata": {},
   "outputs": [],
   "source": [
    "nonRes = nonRes.drop(nonRes[nonRes['PrimaryPropertyType'] == 'Low-Rise Multifamily'].index)\n",
    "nonRes = nonRes.drop(nonRes[nonRes['PrimaryPropertyType'] == 'Residence Hall'].index)\n",
    "nonRes = nonRes.drop(nonRes[nonRes['PrimaryPropertyType'] == 'Other'].index)"
   ]
  },
  {
   "cell_type": "code",
   "execution_count": 314,
   "metadata": {},
   "outputs": [
    {
     "data": {
      "text/plain": [
       "Small- and Mid-Sized Office    282\n",
       "Warehouse                      178\n",
       "Large Office                   165\n",
       "Mixed Use Property             105\n",
       "Retail Store                    85\n",
       "Hotel                           75\n",
       "Worship Facility                69\n",
       "Distribution Center             51\n",
       "K-12 School                     50\n",
       "Supermarket / Grocery Store     40\n",
       "Medical Office                  38\n",
       "Self-Storage Facility           28\n",
       "University                      23\n",
       "Senior Care Community           20\n",
       "Refrigerated Warehouse          12\n",
       "Restaurant                      12\n",
       "Hospital                        10\n",
       "Laboratory                      10\n",
       "Name: PrimaryPropertyType, dtype: int64"
      ]
     },
     "execution_count": 314,
     "metadata": {},
     "output_type": "execute_result"
    }
   ],
   "source": [
    "nonRes.iloc[:,3].value_counts()"
   ]
  },
  {
   "cell_type": "code",
   "execution_count": 315,
   "metadata": {},
   "outputs": [
    {
     "data": {
      "text/plain": [
       "OSEBuildingID                         0\n",
       "DataYear                              0\n",
       "BuildingType                          0\n",
       "PrimaryPropertyType                   0\n",
       "PropertyName                          0\n",
       "Address                               0\n",
       "City                                  0\n",
       "State                                 0\n",
       "ZipCode                               0\n",
       "TaxParcelIdentificationNumber         0\n",
       "CouncilDistrictCode                   0\n",
       "Neighborhood                          0\n",
       "Latitude                              0\n",
       "Longitude                             0\n",
       "YearBuilt                             0\n",
       "NumberofBuildings                     0\n",
       "NumberofFloors                        0\n",
       "PropertyGFATotal                      0\n",
       "PropertyGFAParking                    0\n",
       "PropertyGFABuilding(s)                0\n",
       "ListOfAllPropertyUseTypes             0\n",
       "LargestPropertyUseType                4\n",
       "LargestPropertyUseTypeGFA             4\n",
       "SecondLargestPropertyUseType        552\n",
       "SecondLargestPropertyUseTypeGFA     552\n",
       "ThirdLargestPropertyUseType         965\n",
       "ThirdLargestPropertyUseTypeGFA      965\n",
       "YearsENERGYSTARCertified           1158\n",
       "ENERGYSTARScore                     295\n",
       "SiteEUI(kBtu/sf)                      0\n",
       "SiteEUIWN(kBtu/sf)                    1\n",
       "SourceEUI(kBtu/sf)                    0\n",
       "SourceEUIWN(kBtu/sf)                  0\n",
       "SiteEnergyUse(kBtu)                   0\n",
       "SiteEnergyUseWN(kBtu)                 1\n",
       "SteamUse(kBtu)                        0\n",
       "Electricity(kWh)                      0\n",
       "Electricity(kBtu)                     0\n",
       "NaturalGas(therms)                    0\n",
       "NaturalGas(kBtu)                      0\n",
       "DefaultData                           0\n",
       "Comments                           1253\n",
       "ComplianceStatus                      0\n",
       "Outlier                            1253\n",
       "TotalGHGEmissions                     0\n",
       "GHGEmissionsIntensity                 0\n",
       "dtype: int64"
      ]
     },
     "execution_count": 315,
     "metadata": {},
     "output_type": "execute_result"
    }
   ],
   "source": [
    "nonRes.isna().sum()"
   ]
  },
  {
   "cell_type": "code",
   "execution_count": 316,
   "metadata": {},
   "outputs": [
    {
     "data": {
      "text/plain": [
       "Compliant    1253\n",
       "Name: ComplianceStatus, dtype: int64"
      ]
     },
     "execution_count": 316,
     "metadata": {},
     "output_type": "execute_result"
    }
   ],
   "source": [
    "nonRes['ComplianceStatus'].value_counts()"
   ]
  },
  {
   "cell_type": "code",
   "execution_count": 317,
   "metadata": {},
   "outputs": [
    {
     "data": {
      "text/plain": [
       "Series([], Name: Outlier, dtype: int64)"
      ]
     },
     "execution_count": 317,
     "metadata": {},
     "output_type": "execute_result"
    }
   ],
   "source": [
    "nonRes['Outlier'].value_counts()"
   ]
  },
  {
   "cell_type": "code",
   "execution_count": 318,
   "metadata": {},
   "outputs": [],
   "source": [
    "nonRes = nonRes[nonRes.Outlier.isnull()]"
   ]
  },
  {
   "cell_type": "code",
   "execution_count": 319,
   "metadata": {},
   "outputs": [],
   "source": [
    "nonResidential = nonRes[['PrimaryPropertyType','Latitude','Longitude','YearBuilt','NumberofBuildings','NumberofFloors'\\\n",
    "            ,'PropertyGFABuilding(s)','PropertyGFAParking','LargestPropertyUseTypeGFA','SteamUse(kBtu)','Electricity(kBtu)','NaturalGas(kBtu)','TotalGHGEmissions','SiteEnergyUse(kBtu)']]"
   ]
  },
  {
   "cell_type": "code",
   "execution_count": 320,
   "metadata": {},
   "outputs": [
    {
     "data": {
      "image/png": "[encoded data removed]",
      "text/plain": [
       "<Figure size 432x288 with 1 Axes>"
      ]
     },
     "metadata": {
      "needs_background": "light"
     },
     "output_type": "display_data"
    }
   ],
   "source": [
    "plt.scatter(nonResidential['TotalGHGEmissions'],nonResidential['SiteEnergyUse(kBtu)'])\n",
    "plt.xlabel('TotalGHGEmissions')\n",
    "plt.ylabel('SiteEnergyUse(kBtu)')\n",
    "plt.show()"
   ]
  },
  {
   "cell_type": "code",
   "execution_count": 321,
   "metadata": {},
   "outputs": [
    {
     "data": {
      "text/html": [
       "<div>\n",
       "<style scoped>\n",
       "    .dataframe tbody tr th:only-of-type {\n",
       "        vertical-align: middle;\n",
       "    }\n",
       "\n",
       "    .dataframe tbody tr th {\n",
       "        vertical-align: top;\n",
       "    }\n",
       "\n",
       "    .dataframe thead th {\n",
       "        text-align: right;\n",
       "    }\n",
       "</style>\n",
       "<table border=\"1\" class=\"dataframe\">\n",
       "  <thead>\n",
       "    <tr style=\"text-align: right;\">\n",
       "      <th></th>\n",
       "      <th>PrimaryPropertyType</th>\n",
       "      <th>Latitude</th>\n",
       "      <th>Longitude</th>\n",
       "      <th>YearBuilt</th>\n",
       "      <th>NumberofBuildings</th>\n",
       "      <th>NumberofFloors</th>\n",
       "      <th>PropertyGFABuilding(s)</th>\n",
       "      <th>PropertyGFAParking</th>\n",
       "      <th>LargestPropertyUseTypeGFA</th>\n",
       "      <th>SteamUse(kBtu)</th>\n",
       "      <th>Electricity(kBtu)</th>\n",
       "      <th>NaturalGas(kBtu)</th>\n",
       "      <th>TotalGHGEmissions</th>\n",
       "      <th>SiteEnergyUse(kBtu)</th>\n",
       "    </tr>\n",
       "  </thead>\n",
       "  <tbody>\n",
       "    <tr>\n",
       "      <th>1443</th>\n",
       "      <td>University</td>\n",
       "      <td>47.65644</td>\n",
       "      <td>-122.31041</td>\n",
       "      <td>1900</td>\n",
       "      <td>111.0</td>\n",
       "      <td>0</td>\n",
       "      <td>9320156</td>\n",
       "      <td>0</td>\n",
       "      <td>9320156.0</td>\n",
       "      <td>84985240.0</td>\n",
       "      <td>657074389.0</td>\n",
       "      <td>0.0</td>\n",
       "      <td>11140.56</td>\n",
       "      <td>873923712.0</td>\n",
       "    </tr>\n",
       "  </tbody>\n",
       "</table>\n",
       "</div>"
      ],
      "text/plain": [
       "     PrimaryPropertyType  Latitude  Longitude  YearBuilt  NumberofBuildings  \\\n",
       "1443          University  47.65644 -122.31041       1900              111.0   \n",
       "\n",
       "      NumberofFloors  PropertyGFABuilding(s)  PropertyGFAParking  \\\n",
       "1443               0                 9320156                   0   \n",
       "\n",
       "      LargestPropertyUseTypeGFA  SteamUse(kBtu)  Electricity(kBtu)  \\\n",
       "1443                  9320156.0      84985240.0        657074389.0   \n",
       "\n",
       "      NaturalGas(kBtu)  TotalGHGEmissions  SiteEnergyUse(kBtu)  \n",
       "1443               0.0           11140.56          873923712.0  "
      ]
     },
     "execution_count": 321,
     "metadata": {},
     "output_type": "execute_result"
    }
   ],
   "source": [
    "nonResidential[nonResidential['SiteEnergyUse(kBtu)'] > 600000000]"
   ]
  },
  {
   "cell_type": "markdown",
   "metadata": {},
   "source": [
    "- Drop des Outliers"
   ]
  },
  {
   "cell_type": "code",
   "execution_count": 322,
   "metadata": {},
   "outputs": [
    {
     "data": {
      "text/html": [
       "<div>\n",
       "<style scoped>\n",
       "    .dataframe tbody tr th:only-of-type {\n",
       "        vertical-align: middle;\n",
       "    }\n",
       "\n",
       "    .dataframe tbody tr th {\n",
       "        vertical-align: top;\n",
       "    }\n",
       "\n",
       "    .dataframe thead th {\n",
       "        text-align: right;\n",
       "    }\n",
       "</style>\n",
       "<table border=\"1\" class=\"dataframe\">\n",
       "  <thead>\n",
       "    <tr style=\"text-align: right;\">\n",
       "      <th></th>\n",
       "      <th>PrimaryPropertyType</th>\n",
       "      <th>Latitude</th>\n",
       "      <th>Longitude</th>\n",
       "      <th>YearBuilt</th>\n",
       "      <th>NumberofBuildings</th>\n",
       "      <th>NumberofFloors</th>\n",
       "      <th>PropertyGFABuilding(s)</th>\n",
       "      <th>PropertyGFAParking</th>\n",
       "      <th>LargestPropertyUseTypeGFA</th>\n",
       "      <th>SteamUse(kBtu)</th>\n",
       "      <th>Electricity(kBtu)</th>\n",
       "      <th>NaturalGas(kBtu)</th>\n",
       "      <th>TotalGHGEmissions</th>\n",
       "      <th>SiteEnergyUse(kBtu)</th>\n",
       "    </tr>\n",
       "  </thead>\n",
       "  <tbody>\n",
       "    <tr>\n",
       "      <th>28</th>\n",
       "      <td>Mixed Use Property</td>\n",
       "      <td>47.534930</td>\n",
       "      <td>-122.317880</td>\n",
       "      <td>1992</td>\n",
       "      <td>1.0</td>\n",
       "      <td>3</td>\n",
       "      <td>494835</td>\n",
       "      <td>0</td>\n",
       "      <td>757027.0</td>\n",
       "      <td>0.0</td>\n",
       "      <td>150476283.0</td>\n",
       "      <td>297909000.0</td>\n",
       "      <td>16870.98</td>\n",
       "      <td>448385312.0</td>\n",
       "    </tr>\n",
       "    <tr>\n",
       "      <th>117</th>\n",
       "      <td>Hospital</td>\n",
       "      <td>47.603990</td>\n",
       "      <td>-122.323770</td>\n",
       "      <td>2000</td>\n",
       "      <td>9.0</td>\n",
       "      <td>8</td>\n",
       "      <td>1158691</td>\n",
       "      <td>0</td>\n",
       "      <td>1350182.0</td>\n",
       "      <td>122575032.0</td>\n",
       "      <td>168683602.0</td>\n",
       "      <td>1832129.0</td>\n",
       "      <td>10734.57</td>\n",
       "      <td>293090784.0</td>\n",
       "    </tr>\n",
       "    <tr>\n",
       "      <th>532</th>\n",
       "      <td>Hospital</td>\n",
       "      <td>47.608951</td>\n",
       "      <td>-122.322402</td>\n",
       "      <td>1994</td>\n",
       "      <td>7.0</td>\n",
       "      <td>14</td>\n",
       "      <td>1765970</td>\n",
       "      <td>0</td>\n",
       "      <td>1639334.0</td>\n",
       "      <td>134943456.0</td>\n",
       "      <td>139354828.0</td>\n",
       "      <td>17316120.0</td>\n",
       "      <td>12307.16</td>\n",
       "      <td>291614432.0</td>\n",
       "    </tr>\n",
       "    <tr>\n",
       "      <th>1443</th>\n",
       "      <td>University</td>\n",
       "      <td>47.656440</td>\n",
       "      <td>-122.310410</td>\n",
       "      <td>1900</td>\n",
       "      <td>111.0</td>\n",
       "      <td>0</td>\n",
       "      <td>9320156</td>\n",
       "      <td>0</td>\n",
       "      <td>9320156.0</td>\n",
       "      <td>84985240.0</td>\n",
       "      <td>657074389.0</td>\n",
       "      <td>0.0</td>\n",
       "      <td>11140.56</td>\n",
       "      <td>873923712.0</td>\n",
       "    </tr>\n",
       "  </tbody>\n",
       "</table>\n",
       "</div>"
      ],
      "text/plain": [
       "     PrimaryPropertyType   Latitude   Longitude  YearBuilt  NumberofBuildings  \\\n",
       "28    Mixed Use Property  47.534930 -122.317880       1992                1.0   \n",
       "117             Hospital  47.603990 -122.323770       2000                9.0   \n",
       "532             Hospital  47.608951 -122.322402       1994                7.0   \n",
       "1443          University  47.656440 -122.310410       1900              111.0   \n",
       "\n",
       "      NumberofFloors  PropertyGFABuilding(s)  PropertyGFAParking  \\\n",
       "28                 3                  494835                   0   \n",
       "117                8                 1158691                   0   \n",
       "532               14                 1765970                   0   \n",
       "1443               0                 9320156                   0   \n",
       "\n",
       "      LargestPropertyUseTypeGFA  SteamUse(kBtu)  Electricity(kBtu)  \\\n",
       "28                     757027.0             0.0        150476283.0   \n",
       "117                   1350182.0     122575032.0        168683602.0   \n",
       "532                   1639334.0     134943456.0        139354828.0   \n",
       "1443                  9320156.0      84985240.0        657074389.0   \n",
       "\n",
       "      NaturalGas(kBtu)  TotalGHGEmissions  SiteEnergyUse(kBtu)  \n",
       "28         297909000.0           16870.98          448385312.0  \n",
       "117          1832129.0           10734.57          293090784.0  \n",
       "532         17316120.0           12307.16          291614432.0  \n",
       "1443               0.0           11140.56          873923712.0  "
      ]
     },
     "execution_count": 322,
     "metadata": {},
     "output_type": "execute_result"
    }
   ],
   "source": [
    "nonResidential[nonResidential['TotalGHGEmissions'] > 10000]"
   ]
  },
  {
   "cell_type": "code",
   "execution_count": 323,
   "metadata": {},
   "outputs": [],
   "source": [
    "# suppression des valeurs GHGE > 10000\n",
    "#nonResidential = nonResidential[nonResidential['TotalGHGEmissions'] < 10000]"
   ]
  },
  {
   "cell_type": "code",
   "execution_count": 324,
   "metadata": {},
   "outputs": [],
   "source": [
    "# suppression des valeurs energy > 600000000\n",
    "nonResidential = nonResidential[nonResidential['SiteEnergyUse(kBtu)'] < 600000000]"
   ]
  },
  {
   "cell_type": "code",
   "execution_count": 325,
   "metadata": {},
   "outputs": [
    {
     "data": {
      "text/plain": [
       "PrimaryPropertyType          0\n",
       "Latitude                     0\n",
       "Longitude                    0\n",
       "YearBuilt                    0\n",
       "NumberofBuildings            0\n",
       "NumberofFloors               0\n",
       "PropertyGFABuilding(s)       0\n",
       "PropertyGFAParking           0\n",
       "LargestPropertyUseTypeGFA    4\n",
       "SteamUse(kBtu)               0\n",
       "Electricity(kBtu)            0\n",
       "NaturalGas(kBtu)             0\n",
       "TotalGHGEmissions            0\n",
       "SiteEnergyUse(kBtu)          0\n",
       "dtype: int64"
      ]
     },
     "execution_count": 325,
     "metadata": {},
     "output_type": "execute_result"
    }
   ],
   "source": [
    "nonResidential.isna().sum()"
   ]
  },
  {
   "cell_type": "code",
   "execution_count": 326,
   "metadata": {},
   "outputs": [
    {
     "data": {
      "text/html": [
       "<div>\n",
       "<style scoped>\n",
       "    .dataframe tbody tr th:only-of-type {\n",
       "        vertical-align: middle;\n",
       "    }\n",
       "\n",
       "    .dataframe tbody tr th {\n",
       "        vertical-align: top;\n",
       "    }\n",
       "\n",
       "    .dataframe thead th {\n",
       "        text-align: right;\n",
       "    }\n",
       "</style>\n",
       "<table border=\"1\" class=\"dataframe\">\n",
       "  <thead>\n",
       "    <tr style=\"text-align: right;\">\n",
       "      <th></th>\n",
       "      <th>PrimaryPropertyType</th>\n",
       "      <th>Latitude</th>\n",
       "      <th>Longitude</th>\n",
       "      <th>YearBuilt</th>\n",
       "      <th>NumberofBuildings</th>\n",
       "      <th>NumberofFloors</th>\n",
       "      <th>PropertyGFABuilding(s)</th>\n",
       "      <th>PropertyGFAParking</th>\n",
       "      <th>LargestPropertyUseTypeGFA</th>\n",
       "      <th>SteamUse(kBtu)</th>\n",
       "      <th>Electricity(kBtu)</th>\n",
       "      <th>NaturalGas(kBtu)</th>\n",
       "      <th>TotalGHGEmissions</th>\n",
       "      <th>SiteEnergyUse(kBtu)</th>\n",
       "    </tr>\n",
       "  </thead>\n",
       "  <tbody>\n",
       "    <tr>\n",
       "      <th>281</th>\n",
       "      <td>Self-Storage Facility</td>\n",
       "      <td>47.66838</td>\n",
       "      <td>-122.39310</td>\n",
       "      <td>1946</td>\n",
       "      <td>2.0</td>\n",
       "      <td>2</td>\n",
       "      <td>111445</td>\n",
       "      <td>0</td>\n",
       "      <td>NaN</td>\n",
       "      <td>0.0</td>\n",
       "      <td>3007514.0</td>\n",
       "      <td>2689958.0</td>\n",
       "      <td>163.83</td>\n",
       "      <td>5.697472e+06</td>\n",
       "    </tr>\n",
       "    <tr>\n",
       "      <th>726</th>\n",
       "      <td>Hotel</td>\n",
       "      <td>47.61203</td>\n",
       "      <td>-122.34165</td>\n",
       "      <td>1910</td>\n",
       "      <td>1.0</td>\n",
       "      <td>8</td>\n",
       "      <td>61721</td>\n",
       "      <td>0</td>\n",
       "      <td>NaN</td>\n",
       "      <td>0.0</td>\n",
       "      <td>2534592.0</td>\n",
       "      <td>362488.0</td>\n",
       "      <td>36.92</td>\n",
       "      <td>2.897080e+06</td>\n",
       "    </tr>\n",
       "    <tr>\n",
       "      <th>1201</th>\n",
       "      <td>Small- and Mid-Sized Office</td>\n",
       "      <td>47.64747</td>\n",
       "      <td>-122.34086</td>\n",
       "      <td>2008</td>\n",
       "      <td>1.0</td>\n",
       "      <td>4</td>\n",
       "      <td>48350</td>\n",
       "      <td>0</td>\n",
       "      <td>NaN</td>\n",
       "      <td>0.0</td>\n",
       "      <td>3168131.0</td>\n",
       "      <td>0.0</td>\n",
       "      <td>22.09</td>\n",
       "      <td>3.168131e+06</td>\n",
       "    </tr>\n",
       "    <tr>\n",
       "      <th>1217</th>\n",
       "      <td>Restaurant</td>\n",
       "      <td>47.59697</td>\n",
       "      <td>-122.32474</td>\n",
       "      <td>1913</td>\n",
       "      <td>1.0</td>\n",
       "      <td>3</td>\n",
       "      <td>28800</td>\n",
       "      <td>0</td>\n",
       "      <td>NaN</td>\n",
       "      <td>0.0</td>\n",
       "      <td>402907.0</td>\n",
       "      <td>497017.0</td>\n",
       "      <td>29.21</td>\n",
       "      <td>8.999242e+05</td>\n",
       "    </tr>\n",
       "  </tbody>\n",
       "</table>\n",
       "</div>"
      ],
      "text/plain": [
       "              PrimaryPropertyType  Latitude  Longitude  YearBuilt  \\\n",
       "281         Self-Storage Facility  47.66838 -122.39310       1946   \n",
       "726                         Hotel  47.61203 -122.34165       1910   \n",
       "1201  Small- and Mid-Sized Office  47.64747 -122.34086       2008   \n",
       "1217                   Restaurant  47.59697 -122.32474       1913   \n",
       "\n",
       "      NumberofBuildings  NumberofFloors  PropertyGFABuilding(s)  \\\n",
       "281                 2.0               2                  111445   \n",
       "726                 1.0               8                   61721   \n",
       "1201                1.0               4                   48350   \n",
       "1217                1.0               3                   28800   \n",
       "\n",
       "      PropertyGFAParking  LargestPropertyUseTypeGFA  SteamUse(kBtu)  \\\n",
       "281                    0                        NaN             0.0   \n",
       "726                    0                        NaN             0.0   \n",
       "1201                   0                        NaN             0.0   \n",
       "1217                   0                        NaN             0.0   \n",
       "\n",
       "      Electricity(kBtu)  NaturalGas(kBtu)  TotalGHGEmissions  \\\n",
       "281           3007514.0         2689958.0             163.83   \n",
       "726           2534592.0          362488.0              36.92   \n",
       "1201          3168131.0               0.0              22.09   \n",
       "1217           402907.0          497017.0              29.21   \n",
       "\n",
       "      SiteEnergyUse(kBtu)  \n",
       "281          5.697472e+06  \n",
       "726          2.897080e+06  \n",
       "1201         3.168131e+06  \n",
       "1217         8.999242e+05  "
      ]
     },
     "execution_count": 326,
     "metadata": {},
     "output_type": "execute_result"
    }
   ],
   "source": [
    "nonResidential[nonResidential['LargestPropertyUseTypeGFA'].isna()]"
   ]
  },
  {
   "cell_type": "code",
   "execution_count": 327,
   "metadata": {},
   "outputs": [
    {
     "data": {
      "text/plain": [
       "Small- and Mid-Sized Office    282\n",
       "Warehouse                      178\n",
       "Large Office                   165\n",
       "Mixed Use Property             105\n",
       "Retail Store                    85\n",
       "Hotel                           75\n",
       "Worship Facility                69\n",
       "Distribution Center             51\n",
       "K-12 School                     50\n",
       "Supermarket / Grocery Store     40\n",
       "Medical Office                  38\n",
       "Self-Storage Facility           28\n",
       "University                      22\n",
       "Senior Care Community           20\n",
       "Refrigerated Warehouse          12\n",
       "Restaurant                      12\n",
       "Hospital                        10\n",
       "Laboratory                      10\n",
       "Name: PrimaryPropertyType, dtype: int64"
      ]
     },
     "execution_count": 327,
     "metadata": {},
     "output_type": "execute_result"
    }
   ],
   "source": [
    "nonResidential['PrimaryPropertyType'].value_counts()"
   ]
  },
  {
   "cell_type": "code",
   "execution_count": 328,
   "metadata": {},
   "outputs": [],
   "source": [
    "nonResidential = nonResidential.dropna(axis=0) "
   ]
  },
  {
   "cell_type": "code",
   "execution_count": 329,
   "metadata": {},
   "outputs": [
    {
     "data": {
      "text/plain": [
       "1.0     1181\n",
       "0.0       37\n",
       "2.0        9\n",
       "3.0        6\n",
       "4.0        3\n",
       "6.0        3\n",
       "14.0       2\n",
       "5.0        2\n",
       "27.0       1\n",
       "11.0       1\n",
       "9.0        1\n",
       "7.0        1\n",
       "8.0        1\n",
       "Name: NumberofBuildings, dtype: int64"
      ]
     },
     "execution_count": 329,
     "metadata": {},
     "output_type": "execute_result"
    }
   ],
   "source": [
    "nonResidential['NumberofBuildings'].value_counts()"
   ]
  },
  {
   "cell_type": "markdown",
   "metadata": {},
   "source": [
    "- Calcul de l'age des batiments"
   ]
  },
  {
   "cell_type": "code",
   "execution_count": 330,
   "metadata": {},
   "outputs": [],
   "source": [
    "df1 = nonResidential.copy()"
   ]
  },
  {
   "cell_type": "code",
   "execution_count": 331,
   "metadata": {},
   "outputs": [],
   "source": [
    "def fill_date(data):\n",
    "    if data<= 1920:\n",
    "        return \"_1920\"\n",
    "    elif 1920<data<=1940:\n",
    "        return \"1920_1940\"\n",
    "    elif 1940<data<=1960:\n",
    "        return \"1940_1960\"\n",
    "    elif 1960<data<=1980:\n",
    "        return \"1960_1980\"\n",
    "    elif 1980<data<=2000:\n",
    "        return \"1980_2000\"\n",
    "    elif data>2000:\n",
    "        return \"2000_\""
   ]
  },
  {
   "cell_type": "code",
   "execution_count": 332,
   "metadata": {},
   "outputs": [],
   "source": [
    "df1['YearBuilt'] = df1['YearBuilt'].apply(fill_date)"
   ]
  },
  {
   "cell_type": "code",
   "execution_count": 333,
   "metadata": {},
   "outputs": [],
   "source": [
    "df1['SteamUse(kBtu)'] = df1['SteamUse(kBtu)'].apply(lambda x : 1 if x > 0 else 0 )\n",
    "df1['Electricity(kBtu)'] = df1['Electricity(kBtu)'].apply(lambda x : 1 if x > 0 else 0 )\n",
    "df1['NaturalGas(kBtu)'] = df1['NaturalGas(kBtu)'].apply(lambda x : 1 if x > 0 else 0 )"
   ]
  },
  {
   "cell_type": "code",
   "execution_count": 334,
   "metadata": {},
   "outputs": [],
   "source": [
    "df2_code = pd.get_dummies(df1 ,columns=['PrimaryPropertyType','YearBuilt'])"
   ]
  },
  {
   "cell_type": "code",
   "execution_count": 335,
   "metadata": {},
   "outputs": [],
   "source": [
    "train, test = train_test_split(df2_code, test_size=0.3, random_state=0) "
   ]
  },
  {
   "cell_type": "code",
   "execution_count": 336,
   "metadata": {},
   "outputs": [],
   "source": [
    "X_train, y1_train, X_test, y1_test = train.drop(columns = [\"TotalGHGEmissions\",\"SiteEnergyUse(kBtu)\"]), train[\"TotalGHGEmissions\"],test.drop(columns = [\"TotalGHGEmissions\",'SiteEnergyUse(kBtu)']) ,test[\"TotalGHGEmissions\"]\n",
    "X_train, y2_train, X_test, y2_test = train.drop(columns = [\"TotalGHGEmissions\",\"SiteEnergyUse(kBtu)\"]), train[\"SiteEnergyUse(kBtu)\"],test.drop(columns = [\"TotalGHGEmissions\",'SiteEnergyUse(kBtu)']) ,test[\"SiteEnergyUse(kBtu)\"]"
   ]
  },
  {
   "cell_type": "markdown",
   "metadata": {},
   "source": [
    "### <a name='C2'> Prédictions de TotalGHGEmissions   </a>"
   ]
  },
  {
   "cell_type": "code",
   "execution_count": 337,
   "metadata": {},
   "outputs": [],
   "source": [
    "r_forest = RandomForestRegressor(random_state=0)"
   ]
  },
  {
   "cell_type": "code",
   "execution_count": 338,
   "metadata": {},
   "outputs": [
    {
     "data": {
      "text/plain": [
       "RandomForestRegressor(random_state=0)"
      ]
     },
     "execution_count": 338,
     "metadata": {},
     "output_type": "execute_result"
    }
   ],
   "source": [
    "# entrainement du modèle\n",
    "r_forest.fit(X_train, y1_train)"
   ]
  },
  {
   "cell_type": "code",
   "execution_count": 339,
   "metadata": {},
   "outputs": [
    {
     "name": "stdout",
     "output_type": "stream",
     "text": [
      "349.35056711095416\n"
     ]
    }
   ],
   "source": [
    "# prédiction\n",
    "preds = r_forest.predict(X_test)\n",
    "\n",
    "# calcul du RMSE\n",
    "print(m_s_e(y1_test,preds, squared=False))"
   ]
  },
  {
   "cell_type": "code",
   "execution_count": 340,
   "metadata": {},
   "outputs": [
    {
     "data": {
      "text/plain": [
       "<matplotlib.collections.PathCollection at 0x1e0d9c8ec40>"
      ]
     },
     "execution_count": 340,
     "metadata": {},
     "output_type": "execute_result"
    },
    {
     "data": {
      "image/png": "[encoded data removed]",
      "text/plain": [
       "<Figure size 432x288 with 1 Axes>"
      ]
     },
     "metadata": {
      "needs_background": "light"
     },
     "output_type": "display_data"
    }
   ],
   "source": [
    "plt.scatter(preds,y1_test)"
   ]
  },
  {
   "cell_type": "code",
   "execution_count": 341,
   "metadata": {},
   "outputs": [],
   "source": [
    "def get_error(n_estimator, X_train, X_test, y_train, y_test):\n",
    "    model = RandomForestRegressor(n_estimators=n_estimator, random_state=0)\n",
    "    model.fit(X_train, y_train)\n",
    "    preds_val = model.predict(X_test)\n",
    "    rmse = m_s_e(y_test, preds_val,squared=False)\n",
    "    mae = m_a_e(y_test, preds_val)\n",
    "    r_2 = r2(y_test,preds_val)\n",
    "    return(rmse, mae, r_2)"
   ]
  },
  {
   "cell_type": "markdown",
   "metadata": {},
   "source": []
  },
  {
   "cell_type": "code",
   "execution_count": 342,
   "metadata": {},
   "outputs": [],
   "source": [
    "def get_dummy_error(strategy, X_train, X_test, y_train, y_test):\n",
    "    model = DummyRegressor(strategy=strategy)\n",
    "    model.fit(X_train, y_train)\n",
    "    preds_val = model.predict(X_test)\n",
    "    rmse = m_s_e(y_test, preds_val,squared=False)\n",
    "    mae = m_a_e(y_test, preds_val)\n",
    "    r_2 = r2(y_test,preds_val)\n",
    "    return(rmse, mae, r_2)"
   ]
  },
  {
   "cell_type": "code",
   "execution_count": 343,
   "metadata": {},
   "outputs": [
    {
     "name": "stdout",
     "output_type": "stream",
     "text": [
      "strategy: mean  \t\t RMSE:  709.615859  \t\t MAE: 217.192231  \t\t R2:  -0.000171\n",
      "strategy: median  \t\t RMSE:  722.267294  \t\t MAE: 160.996640  \t\t R2:  -0.036152\n"
     ]
    }
   ],
   "source": [
    "# comparer RMSE et r2 avec differents valeurs de n_estimator\n",
    "lst_rmse = []\n",
    "lst_mae = []\n",
    "lst_r2 = []\n",
    "for strategy in ['mean', 'median']:\n",
    "    my_rmse = get_dummy_error(strategy, X_train, X_test, y1_train, y1_test)\n",
    "    lst_rmse.append(my_rmse[0])\n",
    "    lst_mae.append(my_rmse[1])\n",
    "    lst_r2.append(my_rmse[2])\n",
    "    print(\"strategy: %s  \\t\\t RMSE:  %f  \\t\\t MAE: %f  \\t\\t R2:  %f\" %(strategy, my_rmse[0], my_rmse[1], my_rmse[2]))"
   ]
  },
  {
   "cell_type": "code",
   "execution_count": 344,
   "metadata": {},
   "outputs": [
    {
     "name": "stdout",
     "output_type": "stream",
     "text": [
      "N_Estimator: 100  \t\t RMSE:  349.350567  \t\t MAE: 110.412561  \t\t R2:  0.757590\n",
      "N_Estimator: 200  \t\t RMSE:  343.488144  \t\t MAE: 108.673535  \t\t R2:  0.765657\n",
      "N_Estimator: 300  \t\t RMSE:  347.744377  \t\t MAE: 109.483335  \t\t R2:  0.759814\n",
      "N_Estimator: 400  \t\t RMSE:  339.222208  \t\t MAE: 108.232433  \t\t R2:  0.771442\n",
      "N_Estimator: 500  \t\t RMSE:  340.767848  \t\t MAE: 109.449622  \t\t R2:  0.769354\n"
     ]
    }
   ],
   "source": [
    "# comparer RMSE et r2 avec differents valeurs de n_estimator\n",
    "lst_rmse = []\n",
    "lst_mae = []\n",
    "lst_r2 = []\n",
    "for n_estimator in [100, 200, 300, 400, 500]:\n",
    "    my_rmse = get_error(n_estimator, X_train, X_test, y1_train, y1_test)\n",
    "    lst_rmse.append(my_rmse[0])\n",
    "    lst_mae.append(my_rmse[1])\n",
    "    lst_r2.append(my_rmse[2])\n",
    "    print(\"N_Estimator: %d  \\t\\t RMSE:  %f  \\t\\t MAE: %f  \\t\\t R2:  %f\" %(n_estimator, my_rmse[0], my_rmse[1], my_rmse[2]))"
   ]
  },
  {
   "cell_type": "code",
   "execution_count": 345,
   "metadata": {},
   "outputs": [
    {
     "data": {
      "image/png": "[encoded data removed]",
      "text/plain": [
       "<Figure size 432x288 with 2 Axes>"
      ]
     },
     "metadata": {
      "needs_background": "light"
     },
     "output_type": "display_data"
    }
   ],
   "source": [
    "fig,(ax1,ax2) = plt.subplots(2,1)\n",
    "fig.suptitle('Résultat de l\\'entrainement')\n",
    "\n",
    "ax1.plot(lst_rmse)\n",
    "ax1.set_ylabel('RMSE')\n",
    "ax1.set_xlabel('entrainement no')\n",
    "ax1.grid()\n",
    "\n",
    "ax2.plot(lst_r2)\n",
    "ax2.set_ylabel('R2')\n",
    "ax2.set_xlabel('entrainement no')\n",
    "ax2.grid()\n",
    "\n",
    "plt.show()"
   ]
  },
  {
   "cell_type": "code",
   "execution_count": 346,
   "metadata": {},
   "outputs": [],
   "source": [
    "scores = []\n",
    "best_scores = []"
   ]
  },
  {
   "cell_type": "markdown",
   "metadata": {},
   "source": [
    "### - Dummy Regressor"
   ]
  },
  {
   "cell_type": "code",
   "execution_count": 347,
   "metadata": {},
   "outputs": [],
   "source": [
    "dummy_param_grid = {'strategy' : ['mean','median']}"
   ]
  },
  {
   "cell_type": "code",
   "execution_count": 348,
   "metadata": {},
   "outputs": [
    {
     "data": {
      "text/plain": [
       "GridSearchCV(cv=5, estimator=DummyRegressor(),\n",
       "             param_grid={'strategy': ['mean', 'median']}, refit='r2',\n",
       "             scoring=['r2', 'neg_mean_absolute_error',\n",
       "                      'neg_root_mean_squared_error'])"
      ]
     },
     "execution_count": 348,
     "metadata": {},
     "output_type": "execute_result"
    }
   ],
   "source": [
    "CV_dummy_mean = GridSearchCV(estimator=DummyRegressor(), param_grid=dummy_param_grid, cv= 5,scoring=['r2','neg_mean_absolute_error','neg_root_mean_squared_error'],refit='r2')\n",
    "CV_dummy_mean.fit(X_train, y1_train)"
   ]
  },
  {
   "cell_type": "code",
   "execution_count": 349,
   "metadata": {},
   "outputs": [
    {
     "data": {
      "text/plain": [
       "-0.021884142270444506"
      ]
     },
     "execution_count": 349,
     "metadata": {},
     "output_type": "execute_result"
    }
   ],
   "source": [
    "CV_dummy_mean.best_score_"
   ]
  },
  {
   "cell_type": "code",
   "execution_count": 350,
   "metadata": {},
   "outputs": [],
   "source": [
    "dummy_model = CV_dummy_mean.best_estimator_"
   ]
  },
  {
   "cell_type": "code",
   "execution_count": 351,
   "metadata": {},
   "outputs": [
    {
     "data": {
      "text/plain": [
       "-0.00017130173991253272"
      ]
     },
     "execution_count": 351,
     "metadata": {},
     "output_type": "execute_result"
    }
   ],
   "source": [
    "dummy_model.score(X_test,y1_test)"
   ]
  },
  {
   "cell_type": "code",
   "execution_count": 352,
   "metadata": {},
   "outputs": [
    {
     "name": "stdout",
     "output_type": "stream",
     "text": [
      "Score - training data: 0.0 %\n",
      "Score - test data: -0.02 %\n"
     ]
    }
   ],
   "source": [
    "print(f\"Score - training data: {round(CV_dummy_mean.score(X_train,y1_train)*100,2)} %\")\n",
    "print(f\"Score - test data: {round(CV_dummy_mean.score(X_test,y1_test)*100,2)} %\")"
   ]
  },
  {
   "cell_type": "code",
   "execution_count": 353,
   "metadata": {},
   "outputs": [],
   "source": [
    "scores.append(dummy_model.score(X_test,y1_test))\n",
    "best_scores.append(CV_dummy_mean.best_score_)"
   ]
  },
  {
   "cell_type": "code",
   "execution_count": 354,
   "metadata": {},
   "outputs": [],
   "source": [
    "res_dummy = pd.DataFrame(CV_dummy_mean.cv_results_)"
   ]
  },
  {
   "cell_type": "markdown",
   "metadata": {},
   "source": [
    "### - Random Forest Regressor\n"
   ]
  },
  {
   "cell_type": "code",
   "execution_count": 355,
   "metadata": {},
   "outputs": [],
   "source": [
    "rfc_param_grid = {'n_estimators' : [100,200,300,400,500],\n",
    "              'max_features': ['auto', 'sqrt', 'log2'],\n",
    "              'max_depth' : [4,5,6,7,8],\n",
    "              'random_state': [12]}"
   ]
  },
  {
   "cell_type": "code",
   "execution_count": 356,
   "metadata": {},
   "outputs": [
    {
     "data": {
      "text/plain": [
       "GridSearchCV(cv=5, estimator=RandomForestRegressor(),\n",
       "             param_grid={'max_depth': [4, 5, 6, 7, 8],\n",
       "                         'max_features': ['auto', 'sqrt', 'log2'],\n",
       "                         'n_estimators': [100, 200, 300, 400, 500],\n",
       "                         'random_state': [12]},\n",
       "             refit='r2',\n",
       "             scoring=['r2', 'neg_mean_squared_error',\n",
       "                      'neg_root_mean_squared_error'])"
      ]
     },
     "execution_count": 356,
     "metadata": {},
     "output_type": "execute_result"
    }
   ],
   "source": [
    "CV_rfc = GridSearchCV(estimator=RandomForestRegressor(), param_grid=rfc_param_grid, cv= 5,scoring=['r2','neg_mean_squared_error','neg_root_mean_squared_error'],refit='r2')\n",
    "CV_rfc.fit(X_train, y1_train)"
   ]
  },
  {
   "cell_type": "code",
   "execution_count": 357,
   "metadata": {},
   "outputs": [
    {
     "data": {
      "text/plain": [
       "{'max_depth': 8,\n",
       " 'max_features': 'sqrt',\n",
       " 'n_estimators': 300,\n",
       " 'random_state': 12}"
      ]
     },
     "execution_count": 357,
     "metadata": {},
     "output_type": "execute_result"
    }
   ],
   "source": [
    "CV_rfc.best_params_"
   ]
  },
  {
   "cell_type": "code",
   "execution_count": 358,
   "metadata": {},
   "outputs": [
    {
     "data": {
      "text/plain": [
       "0.5180586538522316"
      ]
     },
     "execution_count": 358,
     "metadata": {},
     "output_type": "execute_result"
    }
   ],
   "source": [
    "CV_rfc.best_score_"
   ]
  },
  {
   "cell_type": "code",
   "execution_count": 359,
   "metadata": {},
   "outputs": [],
   "source": [
    "rfc_model= CV_rfc.best_estimator_"
   ]
  },
  {
   "cell_type": "code",
   "execution_count": 360,
   "metadata": {},
   "outputs": [
    {
     "data": {
      "text/plain": [
       "0.7387428222624004"
      ]
     },
     "execution_count": 360,
     "metadata": {},
     "output_type": "execute_result"
    }
   ],
   "source": [
    "rfc_model.score(X_test,y1_test)"
   ]
  },
  {
   "cell_type": "code",
   "execution_count": 361,
   "metadata": {},
   "outputs": [
    {
     "name": "stdout",
     "output_type": "stream",
     "text": [
      "Score - training data: 88.1 %\n",
      "Score - test data: 73.9 %\n"
     ]
    }
   ],
   "source": [
    "print(f\"Score - training data: {round(CV_rfc.score(X_train,y1_train)*100,1)} %\")\n",
    "print(f\"Score - test data: {round(CV_rfc.score(X_test,y1_test)*100,1)} %\")"
   ]
  },
  {
   "cell_type": "code",
   "execution_count": 362,
   "metadata": {},
   "outputs": [],
   "source": [
    "scores.append(rfc_model.score(X_test,y1_test))\n",
    "best_scores.append(CV_rfc.best_score_)"
   ]
  },
  {
   "cell_type": "code",
   "execution_count": 363,
   "metadata": {},
   "outputs": [],
   "source": [
    "res_forest = pd.DataFrame(CV_rfc.cv_results_)"
   ]
  },
  {
   "cell_type": "markdown",
   "metadata": {},
   "source": []
  },
  {
   "cell_type": "markdown",
   "metadata": {},
   "source": [
    "### - Ridge Regressor"
   ]
  },
  {
   "cell_type": "code",
   "execution_count": 364,
   "metadata": {},
   "outputs": [],
   "source": [
    "ridge_param_grid = {'alpha' : [1e-3, 1e-2, 1e-1, 1, 2, 5, 10],\n",
    "              }"
   ]
  },
  {
   "cell_type": "code",
   "execution_count": 365,
   "metadata": {},
   "outputs": [
    {
     "data": {
      "text/plain": [
       "GridSearchCV(cv=6, estimator=Ridge(),\n",
       "             param_grid={'alpha': [0.001, 0.01, 0.1, 1, 2, 5, 10]}, refit='r2',\n",
       "             scoring=['r2', 'neg_mean_absolute_error',\n",
       "                      'neg_root_mean_squared_error'])"
      ]
     },
     "execution_count": 365,
     "metadata": {},
     "output_type": "execute_result"
    }
   ],
   "source": [
    "CV_ridge = GridSearchCV(estimator=Ridge(), param_grid=ridge_param_grid, cv= 5,scoring=['r2','neg_mean_absolute_error','neg_root_mean_squared_error'],refit='r2')\n",
    "CV_ridge.fit(X_train, y1_train)"
   ]
  },
  {
   "cell_type": "code",
   "execution_count": 366,
   "metadata": {},
   "outputs": [
    {
     "data": {
      "text/plain": [
       "-2.400811043204986"
      ]
     },
     "execution_count": 366,
     "metadata": {},
     "output_type": "execute_result"
    }
   ],
   "source": [
    "CV_ridge.best_score_"
   ]
  },
  {
   "cell_type": "code",
   "execution_count": 367,
   "metadata": {},
   "outputs": [
    {
     "name": "stdout",
     "output_type": "stream",
     "text": [
      "Ridge(alpha=0.001)\n"
     ]
    }
   ],
   "source": [
    "model_ridge = CV_ridge.best_estimator_\n",
    "print(model_ridge)"
   ]
  },
  {
   "cell_type": "code",
   "execution_count": 368,
   "metadata": {},
   "outputs": [
    {
     "data": {
      "text/plain": [
       "0.6398364662968836"
      ]
     },
     "execution_count": 368,
     "metadata": {},
     "output_type": "execute_result"
    }
   ],
   "source": [
    "model_ridge.score(X_test,y1_test)"
   ]
  },
  {
   "cell_type": "code",
   "execution_count": 369,
   "metadata": {},
   "outputs": [
    {
     "name": "stdout",
     "output_type": "stream",
     "text": [
      "Score - training data: 54.9 %\n",
      "Score - test data: 64.0 %\n"
     ]
    }
   ],
   "source": [
    "print(f\"Score - training data: {round(CV_ridge.score(X_train,y1_train)*100,1)} %\")\n",
    "print(f\"Score - test data: {round(CV_ridge.score(X_test,y1_test)*100,1)} %\")"
   ]
  },
  {
   "cell_type": "code",
   "execution_count": 370,
   "metadata": {},
   "outputs": [],
   "source": [
    "scores.append(model_ridge.score(X_test,y1_test))\n",
    "best_scores.append(CV_ridge.best_score_)"
   ]
  },
  {
   "cell_type": "code",
   "execution_count": 371,
   "metadata": {},
   "outputs": [],
   "source": [
    "res_ridge = pd.DataFrame(CV_ridge.cv_results_)"
   ]
  },
  {
   "cell_type": "markdown",
   "metadata": {},
   "source": []
  },
  {
   "cell_type": "code",
   "execution_count": null,
   "metadata": {},
   "outputs": [],
   "source": []
  },
  {
   "cell_type": "markdown",
   "metadata": {},
   "source": [
    "### - KNN Regressor"
   ]
  },
  {
   "cell_type": "code",
   "execution_count": 372,
   "metadata": {},
   "outputs": [],
   "source": [
    "knn_param_grid = {'n_neighbors' : list(range(10, 100)),\n",
    "              }"
   ]
  },
  {
   "cell_type": "code",
   "execution_count": 373,
   "metadata": {},
   "outputs": [
    {
     "data": {
      "text/plain": [
       "GridSearchCV(cv=6, estimator=KNeighborsRegressor(),\n",
       "             param_grid={'n_neighbors': [10, 11, 12, 13, 14, 15, 16, 17, 18, 19,\n",
       "                                         20, 21, 22, 23, 24, 25, 26, 27, 28, 29,\n",
       "                                         30, 31, 32, 33, 34, 35, 36, 37, 38, 39, ...]},\n",
       "             refit='r2',\n",
       "             scoring=['r2', 'neg_mean_absolute_error',\n",
       "                      'neg_root_mean_squared_error'])"
      ]
     },
     "execution_count": 373,
     "metadata": {},
     "output_type": "execute_result"
    }
   ],
   "source": [
    "CV_knn = GridSearchCV(estimator=KNeighborsRegressor(), param_grid=knn_param_grid, cv= 6,scoring=['r2','neg_mean_absolute_error','neg_root_mean_squared_error'],refit='r2')\n",
    "CV_knn.fit(X_train, y1_train)"
   ]
  },
  {
   "cell_type": "code",
   "execution_count": 374,
   "metadata": {},
   "outputs": [
    {
     "data": {
      "text/plain": [
       "0.22313630074837096"
      ]
     },
     "execution_count": 374,
     "metadata": {},
     "output_type": "execute_result"
    }
   ],
   "source": [
    "CV_knn.best_score_"
   ]
  },
  {
   "cell_type": "code",
   "execution_count": 375,
   "metadata": {},
   "outputs": [],
   "source": [
    "model_knn = CV_knn.best_estimator_"
   ]
  },
  {
   "cell_type": "code",
   "execution_count": 376,
   "metadata": {},
   "outputs": [
    {
     "data": {
      "text/plain": [
       "0.18055423032448614"
      ]
     },
     "execution_count": 376,
     "metadata": {},
     "output_type": "execute_result"
    }
   ],
   "source": [
    "model_knn.score(X_test,y1_test)"
   ]
  },
  {
   "cell_type": "code",
   "execution_count": 377,
   "metadata": {},
   "outputs": [
    {
     "name": "stdout",
     "output_type": "stream",
     "text": [
      "Score - training data: 19.1 %\n",
      "Score - test data: 18.1 %\n"
     ]
    }
   ],
   "source": [
    "print(f\"Score - training data: {round(CV_knn.score(X_train,y1_train)*100,1)} %\")\n",
    "print(f\"Score - test data: {round(CV_knn.score(X_test,y1_test)*100,1)} %\")"
   ]
  },
  {
   "cell_type": "code",
   "execution_count": 378,
   "metadata": {},
   "outputs": [],
   "source": [
    "scores.append(model_knn.score(X_test,y1_test))\n",
    "best_scores.append(CV_knn.best_score_)"
   ]
  },
  {
   "cell_type": "code",
   "execution_count": 379,
   "metadata": {},
   "outputs": [
    {
     "data": {
      "text/plain": [
       "{'n_neighbors': 68}"
      ]
     },
     "execution_count": 379,
     "metadata": {},
     "output_type": "execute_result"
    }
   ],
   "source": [
    "CV_knn.best_params_"
   ]
  },
  {
   "cell_type": "code",
   "execution_count": 380,
   "metadata": {},
   "outputs": [],
   "source": [
    "res_knn = pd.DataFrame(CV_knn.cv_results_)"
   ]
  },
  {
   "cell_type": "markdown",
   "metadata": {},
   "source": [
    "### - XGBoost"
   ]
  },
  {
   "cell_type": "code",
   "execution_count": 381,
   "metadata": {},
   "outputs": [],
   "source": [
    "xgboost_param_grid = {'n_estimators' : [100,200,300,400,500],\n",
    "              'max_features': ['auto', 'sqrt', 'log2'],\n",
    "              'max_depth' : [4,5,6,7,8],\n",
    "              'random_state': [12]}"
   ]
  },
  {
   "cell_type": "code",
   "execution_count": 382,
   "metadata": {},
   "outputs": [
    {
     "data": {
      "text/plain": [
       "GridSearchCV(cv=5, estimator=GradientBoostingRegressor(),\n",
       "             param_grid={'max_depth': [4, 5, 6, 7, 8],\n",
       "                         'max_features': ['auto', 'sqrt', 'log2'],\n",
       "                         'n_estimators': [100, 200, 300, 400, 500],\n",
       "                         'random_state': [12]},\n",
       "             refit='r2',\n",
       "             scoring=['r2', 'neg_mean_absolute_error',\n",
       "                      'neg_root_mean_squared_error'])"
      ]
     },
     "execution_count": 382,
     "metadata": {},
     "output_type": "execute_result"
    }
   ],
   "source": [
    "CV_xgboost = GridSearchCV(estimator=GradientBoostingRegressor(), param_grid=xgboost_param_grid, cv= 5,scoring=['r2','neg_mean_absolute_error','neg_root_mean_squared_error'],refit='r2')\n",
    "CV_xgboost.fit(X_train, y1_train)"
   ]
  },
  {
   "cell_type": "code",
   "execution_count": 383,
   "metadata": {},
   "outputs": [
    {
     "data": {
      "text/plain": [
       "0.537012029176452"
      ]
     },
     "execution_count": 383,
     "metadata": {},
     "output_type": "execute_result"
    }
   ],
   "source": [
    "CV_xgboost.best_score_"
   ]
  },
  {
   "cell_type": "code",
   "execution_count": 384,
   "metadata": {},
   "outputs": [],
   "source": [
    "model_boosted = CV_xgboost.best_estimator_"
   ]
  },
  {
   "cell_type": "code",
   "execution_count": 385,
   "metadata": {},
   "outputs": [
    {
     "data": {
      "text/plain": [
       "0.8271243204925245"
      ]
     },
     "execution_count": 385,
     "metadata": {},
     "output_type": "execute_result"
    }
   ],
   "source": [
    "model_boosted.score(X_test,y1_test)"
   ]
  },
  {
   "cell_type": "code",
   "execution_count": 386,
   "metadata": {},
   "outputs": [],
   "source": [
    "y_pred = model_boosted.predict(X_test)"
   ]
  },
  {
   "cell_type": "code",
   "execution_count": 387,
   "metadata": {},
   "outputs": [
    {
     "data": {
      "text/plain": [
       "108.85200979390075"
      ]
     },
     "execution_count": 387,
     "metadata": {},
     "output_type": "execute_result"
    }
   ],
   "source": [
    "m_a_e(y1_test,y_pred)"
   ]
  },
  {
   "cell_type": "code",
   "execution_count": 388,
   "metadata": {},
   "outputs": [
    {
     "data": {
      "text/plain": [
       "0.8271243204925245"
      ]
     },
     "execution_count": 388,
     "metadata": {},
     "output_type": "execute_result"
    }
   ],
   "source": [
    "r2(y1_test,y_pred)"
   ]
  },
  {
   "cell_type": "code",
   "execution_count": 389,
   "metadata": {},
   "outputs": [
    {
     "data": {
      "text/plain": [
       "295.02109358776835"
      ]
     },
     "execution_count": 389,
     "metadata": {},
     "output_type": "execute_result"
    }
   ],
   "source": [
    "m_s_e(y1_test,y_pred,squared=False)"
   ]
  },
  {
   "cell_type": "code",
   "execution_count": 390,
   "metadata": {},
   "outputs": [
    {
     "data": {
      "text/plain": [
       "181.5233866666667"
      ]
     },
     "execution_count": 390,
     "metadata": {},
     "output_type": "execute_result"
    }
   ],
   "source": [
    "np.mean(y1_test)"
   ]
  },
  {
   "cell_type": "code",
   "execution_count": 391,
   "metadata": {},
   "outputs": [
    {
     "data": {
      "text/plain": [
       "{'max_depth': 5,\n",
       " 'max_features': 'sqrt',\n",
       " 'n_estimators': 100,\n",
       " 'random_state': 12}"
      ]
     },
     "execution_count": 391,
     "metadata": {},
     "output_type": "execute_result"
    }
   ],
   "source": [
    "CV_xgboost.best_params_"
   ]
  },
  {
   "cell_type": "code",
   "execution_count": 392,
   "metadata": {},
   "outputs": [
    {
     "name": "stdout",
     "output_type": "stream",
     "text": [
      "Score - training data: 99.6 %\n",
      "Score - test data: 82.7 %\n"
     ]
    }
   ],
   "source": [
    "print(f\"Score - training data: {round(CV_xgboost.score(X_train,y1_train)*100,1)} %\")\n",
    "print(f\"Score - test data: {round(CV_xgboost.score(X_test,y1_test)*100,1)} %\")"
   ]
  },
  {
   "cell_type": "code",
   "execution_count": 393,
   "metadata": {},
   "outputs": [
    {
     "data": {
      "text/plain": [
       "array([1.32041678e-01, 2.34907569e-02, 1.10618657e-01, 5.99265971e-02,\n",
       "       1.02867817e-01, 8.02459815e-03, 2.92026011e-01, 1.77686629e-02,\n",
       "       1.11736529e-05, 1.39020526e-02, 1.26331517e-04, 1.01132372e-01,\n",
       "       3.93415220e-03, 3.64858738e-06, 4.09700084e-03, 4.80870564e-02,\n",
       "       4.05849511e-03, 1.71291580e-02, 0.00000000e+00, 9.97806680e-05,\n",
       "       3.11705309e-04, 1.08031633e-04, 5.25587228e-04, 2.08244104e-03,\n",
       "       3.21938697e-03, 6.68661187e-04, 3.63828739e-04, 1.02710363e-04,\n",
       "       2.08034755e-03, 5.11647794e-03, 3.77415427e-03, 3.25651212e-02,\n",
       "       1.40201219e-03, 8.33353458e-03])"
      ]
     },
     "execution_count": 393,
     "metadata": {},
     "output_type": "execute_result"
    }
   ],
   "source": [
    "model_boosted.feature_importances_"
   ]
  },
  {
   "cell_type": "code",
   "execution_count": 394,
   "metadata": {},
   "outputs": [
    {
     "name": "stdout",
     "output_type": "stream",
     "text": [
      "    Feature Importance                                     Feature Name\n",
      "6             0.292026                        LargestPropertyUseTypeGFA\n",
      "0             0.132042                                         Latitude\n",
      "2             0.110619                                NumberofBuildings\n",
      "4             0.102868                           PropertyGFABuilding(s)\n",
      "11            0.101132                     PrimaryPropertyType_Hospital\n",
      "3             0.059927                                   NumberofFloors\n",
      "15            0.048087                 PrimaryPropertyType_Large Office\n",
      "31            0.032565                              YearBuilt_1980_2000\n",
      "1             0.023491                                        Longitude\n",
      "7             0.017769                                   SteamUse(kBtu)\n",
      "17            0.017129           PrimaryPropertyType_Mixed Use Property\n",
      "9             0.013902                                 NaturalGas(kBtu)\n",
      "33            0.008334                                  YearBuilt__1920\n",
      "5             0.008025                               PropertyGFAParking\n",
      "29            0.005116                              YearBuilt_1940_1960\n",
      "14            0.004097                   PrimaryPropertyType_Laboratory\n",
      "16            0.004058               PrimaryPropertyType_Medical Office\n",
      "12            0.003934                        PrimaryPropertyType_Hotel\n",
      "30            0.003774                              YearBuilt_1960_1980\n",
      "24            0.003219  PrimaryPropertyType_Supermarket / Grocery Store\n",
      "23            0.002082  PrimaryPropertyType_Small- and Mid-Sized Office\n",
      "28            0.002080                              YearBuilt_1920_1940\n",
      "32            0.001402                                  YearBuilt_2000_\n",
      "25            0.000669                   PrimaryPropertyType_University\n",
      "22            0.000526        PrimaryPropertyType_Senior Care Community\n",
      "26            0.000364                    PrimaryPropertyType_Warehouse\n",
      "20            0.000312                 PrimaryPropertyType_Retail Store\n",
      "10            0.000126          PrimaryPropertyType_Distribution Center\n",
      "21            0.000108        PrimaryPropertyType_Self-Storage Facility\n",
      "27            0.000103             PrimaryPropertyType_Worship Facility\n",
      "19            0.000100                   PrimaryPropertyType_Restaurant\n",
      "8             0.000011                                Electricity(kBtu)\n",
      "13            0.000004                  PrimaryPropertyType_K-12 School\n",
      "18            0.000000       PrimaryPropertyType_Refrigerated Warehouse\n"
     ]
    },
    {
     "data": {
      "image/png": "[encoded data removed]",
      "text/plain": [
       "<Figure size 432x288 with 1 Axes>"
      ]
     },
     "metadata": {
      "needs_background": "light"
     },
     "output_type": "display_data"
    }
   ],
   "source": [
    "def display_feat_imp_xgboost(boosted):\n",
    "  feat_imp = model_boosted.feature_importances_\n",
    "  df_featimp = pd.DataFrame(feat_imp, columns = {\"Feature Importance\"})\n",
    "  df_featimp[\"Feature Name\"] = X_train.columns\n",
    "  df_featimp = df_featimp.sort_values(by=\"Feature Importance\", ascending=False)\n",
    "  print(df_featimp)\n",
    "  df_featimp.plot.barh(y=\"Feature Importance\", x=\"Feature Name\", title=\"Feature importance\", color=\"red\")\n",
    " \n",
    "display_feat_imp_xgboost(model_boosted)"
   ]
  },
  {
   "cell_type": "code",
   "execution_count": 395,
   "metadata": {},
   "outputs": [],
   "source": [
    "scores.append(model_boosted.score(X_test,y1_test))\n",
    "best_scores.append(CV_xgboost.best_score_)"
   ]
  },
  {
   "cell_type": "code",
   "execution_count": 396,
   "metadata": {},
   "outputs": [],
   "source": [
    "res_xgboost = pd.DataFrame(CV_xgboost.cv_results_)"
   ]
  },
  {
   "cell_type": "code",
   "execution_count": 397,
   "metadata": {},
   "outputs": [],
   "source": [
    "index = ['Dummy','Random Forest','Ridge','KNN','XGBoost']\n",
    "columns = ['test score']\n",
    "columns_b = ['validation score']"
   ]
  },
  {
   "cell_type": "code",
   "execution_count": 398,
   "metadata": {},
   "outputs": [],
   "source": [
    "df_scores = pd.DataFrame(data=scores,index=index,columns=columns)\n",
    "df_best_scores = pd.DataFrame(data=best_scores,index=index,columns=columns_b)"
   ]
  },
  {
   "cell_type": "code",
   "execution_count": 399,
   "metadata": {},
   "outputs": [
    {
     "data": {
      "text/html": [
       "<div>\n",
       "<style scoped>\n",
       "    .dataframe tbody tr th:only-of-type {\n",
       "        vertical-align: middle;\n",
       "    }\n",
       "\n",
       "    .dataframe tbody tr th {\n",
       "        vertical-align: top;\n",
       "    }\n",
       "\n",
       "    .dataframe thead th {\n",
       "        text-align: right;\n",
       "    }\n",
       "</style>\n",
       "<table border=\"1\" class=\"dataframe\">\n",
       "  <thead>\n",
       "    <tr style=\"text-align: right;\">\n",
       "      <th></th>\n",
       "      <th>test score</th>\n",
       "    </tr>\n",
       "  </thead>\n",
       "  <tbody>\n",
       "    <tr>\n",
       "      <th>Dummy</th>\n",
       "      <td>-0.000171</td>\n",
       "    </tr>\n",
       "    <tr>\n",
       "      <th>Random Forest</th>\n",
       "      <td>0.738743</td>\n",
       "    </tr>\n",
       "    <tr>\n",
       "      <th>Ridge</th>\n",
       "      <td>0.639836</td>\n",
       "    </tr>\n",
       "    <tr>\n",
       "      <th>KNN</th>\n",
       "      <td>0.180554</td>\n",
       "    </tr>\n",
       "    <tr>\n",
       "      <th>XGBoost</th>\n",
       "      <td>0.827124</td>\n",
       "    </tr>\n",
       "  </tbody>\n",
       "</table>\n",
       "</div>"
      ],
      "text/plain": [
       "               test score\n",
       "Dummy           -0.000171\n",
       "Random Forest    0.738743\n",
       "Ridge            0.639836\n",
       "KNN              0.180554\n",
       "XGBoost          0.827124"
      ]
     },
     "execution_count": 399,
     "metadata": {},
     "output_type": "execute_result"
    }
   ],
   "source": [
    "df_scores"
   ]
  },
  {
   "cell_type": "code",
   "execution_count": 400,
   "metadata": {},
   "outputs": [
    {
     "data": {
      "text/html": [
       "<div>\n",
       "<style scoped>\n",
       "    .dataframe tbody tr th:only-of-type {\n",
       "        vertical-align: middle;\n",
       "    }\n",
       "\n",
       "    .dataframe tbody tr th {\n",
       "        vertical-align: top;\n",
       "    }\n",
       "\n",
       "    .dataframe thead th {\n",
       "        text-align: right;\n",
       "    }\n",
       "</style>\n",
       "<table border=\"1\" class=\"dataframe\">\n",
       "  <thead>\n",
       "    <tr style=\"text-align: right;\">\n",
       "      <th></th>\n",
       "      <th>validation score</th>\n",
       "    </tr>\n",
       "  </thead>\n",
       "  <tbody>\n",
       "    <tr>\n",
       "      <th>Dummy</th>\n",
       "      <td>-0.021884</td>\n",
       "    </tr>\n",
       "    <tr>\n",
       "      <th>Random Forest</th>\n",
       "      <td>0.518059</td>\n",
       "    </tr>\n",
       "    <tr>\n",
       "      <th>Ridge</th>\n",
       "      <td>-2.400811</td>\n",
       "    </tr>\n",
       "    <tr>\n",
       "      <th>KNN</th>\n",
       "      <td>0.223136</td>\n",
       "    </tr>\n",
       "    <tr>\n",
       "      <th>XGBoost</th>\n",
       "      <td>0.537012</td>\n",
       "    </tr>\n",
       "  </tbody>\n",
       "</table>\n",
       "</div>"
      ],
      "text/plain": [
       "               validation score\n",
       "Dummy                 -0.021884\n",
       "Random Forest          0.518059\n",
       "Ridge                 -2.400811\n",
       "KNN                    0.223136\n",
       "XGBoost                0.537012"
      ]
     },
     "execution_count": 400,
     "metadata": {},
     "output_type": "execute_result"
    }
   ],
   "source": [
    "df_best_scores"
   ]
  },
  {
   "cell_type": "markdown",
   "metadata": {},
   "source": []
  },
  {
   "cell_type": "markdown",
   "metadata": {},
   "source": [
    "### Energy Star Score"
   ]
  },
  {
   "cell_type": "markdown",
   "metadata": {},
   "source": []
  },
  {
   "cell_type": "code",
   "execution_count": 401,
   "metadata": {},
   "outputs": [],
   "source": [
    "energyStar = nonRes[['PrimaryPropertyType','Latitude','Longitude','YearBuilt','NumberofBuildings','NumberofFloors'\\\n",
    "            ,'PropertyGFABuilding(s)','PropertyGFAParking','LargestPropertyUseTypeGFA','SteamUse(kBtu)','Electricity(kBtu)','NaturalGas(kBtu)','TotalGHGEmissions','ENERGYSTARScore']]"
   ]
  },
  {
   "cell_type": "code",
   "execution_count": 402,
   "metadata": {},
   "outputs": [],
   "source": [
    "energyStar = energyStar.dropna(axis=0)"
   ]
  },
  {
   "cell_type": "code",
   "execution_count": 403,
   "metadata": {},
   "outputs": [
    {
     "data": {
      "text/plain": [
       "PrimaryPropertyType          0\n",
       "Latitude                     0\n",
       "Longitude                    0\n",
       "YearBuilt                    0\n",
       "NumberofBuildings            0\n",
       "NumberofFloors               0\n",
       "PropertyGFABuilding(s)       0\n",
       "PropertyGFAParking           0\n",
       "LargestPropertyUseTypeGFA    0\n",
       "SteamUse(kBtu)               0\n",
       "Electricity(kBtu)            0\n",
       "NaturalGas(kBtu)             0\n",
       "TotalGHGEmissions            0\n",
       "ENERGYSTARScore              0\n",
       "dtype: int64"
      ]
     },
     "execution_count": 403,
     "metadata": {},
     "output_type": "execute_result"
    }
   ],
   "source": [
    "energyStar.isna().sum()"
   ]
  },
  {
   "cell_type": "code",
   "execution_count": 404,
   "metadata": {},
   "outputs": [],
   "source": [
    "energyStar['YearBuilt'] = energyStar['YearBuilt'].apply(fill_date)"
   ]
  },
  {
   "cell_type": "code",
   "execution_count": 405,
   "metadata": {},
   "outputs": [],
   "source": [
    "energyStar['SteamUse(kBtu)'] = energyStar['SteamUse(kBtu)'].apply(lambda x : 1 if x > 0 else 0 )\n",
    "energyStar['Electricity(kBtu)'] = energyStar['Electricity(kBtu)'].apply(lambda x : 1 if x > 0 else 0 )\n",
    "energyStar['NaturalGas(kBtu)'] = energyStar['NaturalGas(kBtu)'].apply(lambda x : 1 if x > 0 else 0 )"
   ]
  },
  {
   "cell_type": "code",
   "execution_count": 406,
   "metadata": {},
   "outputs": [],
   "source": [
    "energyStar_code = pd.get_dummies(energyStar ,columns=['PrimaryPropertyType','YearBuilt'])"
   ]
  },
  {
   "cell_type": "code",
   "execution_count": 407,
   "metadata": {},
   "outputs": [],
   "source": [
    "train_EStar, test_EStar = train_test_split(energyStar_code, test_size=0.3, random_state=0) "
   ]
  },
  {
   "cell_type": "code",
   "execution_count": 408,
   "metadata": {},
   "outputs": [],
   "source": [
    "Xe_train, ye_train, Xe_test, ye_test = train_EStar.drop(columns = ['TotalGHGEmissions']), train_EStar['TotalGHGEmissions'],test_EStar.drop(columns = ['TotalGHGEmissions']) ,test_EStar['TotalGHGEmissions']"
   ]
  },
  {
   "cell_type": "code",
   "execution_count": 409,
   "metadata": {},
   "outputs": [],
   "source": [
    "#CV_xgboost_Estar = GridSearchCV(estimator=GradientBoostingRegressor(), param_grid=xgboost_param_grid, cv= 5,scoring=['r2','neg_mean_absolute_error','neg_root_mean_squared_error'],refit='r2')\n",
    "#CV_xgboost_Estar.fit(Xe_train, ye_train)"
   ]
  },
  {
   "cell_type": "code",
   "execution_count": 410,
   "metadata": {},
   "outputs": [],
   "source": [
    "rfr_eStar = GradientBoostingRegressor(**CV_xgboost.best_params_)"
   ]
  },
  {
   "cell_type": "code",
   "execution_count": 411,
   "metadata": {},
   "outputs": [
    {
     "data": {
      "text/plain": [
       "GradientBoostingRegressor(max_depth=5, max_features='sqrt', random_state=12)"
      ]
     },
     "execution_count": 411,
     "metadata": {},
     "output_type": "execute_result"
    }
   ],
   "source": [
    "rfr_eStar.fit(Xe_train, ye_train)"
   ]
  },
  {
   "cell_type": "code",
   "execution_count": 412,
   "metadata": {},
   "outputs": [
    {
     "data": {
      "text/plain": [
       "0.40794061442828733"
      ]
     },
     "execution_count": 412,
     "metadata": {},
     "output_type": "execute_result"
    }
   ],
   "source": [
    "rfr_eStar.score(Xe_test,ye_test)"
   ]
  },
  {
   "cell_type": "code",
   "execution_count": 413,
   "metadata": {},
   "outputs": [
    {
     "name": "stdout",
     "output_type": "stream",
     "text": [
      "    Feature Importance                                     Feature Name\n",
      "12            0.386251                     PrimaryPropertyType_Hospital\n",
      "6             0.142451                        LargestPropertyUseTypeGFA\n",
      "4             0.104098                           PropertyGFABuilding(s)\n",
      "1             0.071021                                        Longitude\n",
      "2             0.046952                                NumberofBuildings\n",
      "3             0.046818                                   NumberofFloors\n",
      "30            0.046347                                  YearBuilt__1920\n",
      "10            0.026978                                  ENERGYSTARScore\n",
      "7             0.024717                                   SteamUse(kBtu)\n",
      "29            0.017783                                  YearBuilt_2000_\n",
      "9             0.013088                                 NaturalGas(kBtu)\n",
      "26            0.012344                              YearBuilt_1940_1960\n",
      "0             0.011672                                         Latitude\n",
      "28            0.009694                              YearBuilt_1980_2000\n",
      "13            0.007325                        PrimaryPropertyType_Hotel\n",
      "15            0.006612                 PrimaryPropertyType_Large Office\n",
      "5             0.006258                               PropertyGFAParking\n",
      "27            0.006025                              YearBuilt_1960_1980\n",
      "22            0.004062  PrimaryPropertyType_Supermarket / Grocery Store\n",
      "20            0.002622        PrimaryPropertyType_Senior Care Community\n",
      "21            0.002066  PrimaryPropertyType_Small- and Mid-Sized Office\n",
      "23            0.001404                    PrimaryPropertyType_Warehouse\n",
      "25            0.001219                              YearBuilt_1920_1940\n",
      "16            0.001091               PrimaryPropertyType_Medical Office\n",
      "24            0.000377             PrimaryPropertyType_Worship Facility\n",
      "19            0.000366                 PrimaryPropertyType_Retail Store\n",
      "17            0.000184           PrimaryPropertyType_Mixed Use Property\n",
      "11            0.000096          PrimaryPropertyType_Distribution Center\n",
      "14            0.000038                  PrimaryPropertyType_K-12 School\n",
      "8             0.000020                                Electricity(kBtu)\n",
      "18            0.000020       PrimaryPropertyType_Refrigerated Warehouse\n"
     ]
    },
    {
     "data": {
      "image/png": "[encoded data removed]",
      "text/plain": [
       "<Figure size 432x288 with 1 Axes>"
      ]
     },
     "metadata": {
      "needs_background": "light"
     },
     "output_type": "display_data"
    }
   ],
   "source": [
    "def display_feat_imp_xgboost(boosted):\n",
    "  feat_imp = rfr_eStar.feature_importances_\n",
    "  df_featimp = pd.DataFrame(feat_imp, columns = {\"Feature Importance\"})\n",
    "  df_featimp[\"Feature Name\"] = Xe_train.columns\n",
    "  df_featimp = df_featimp.sort_values(by=\"Feature Importance\", ascending=False)\n",
    "  print(df_featimp)\n",
    "  df_featimp.plot.barh(y=\"Feature Importance\", x=\"Feature Name\", title=\"Feature importance\", color=\"red\")\n",
    " \n",
    "display_feat_imp_xgboost(rfr_eStar)"
   ]
  },
  {
   "cell_type": "code",
   "execution_count": 414,
   "metadata": {},
   "outputs": [],
   "source": [
    "Xee_train, yee_train, Xee_test, yee_test = train_EStar.drop(columns = ['TotalGHGEmissions','ENERGYSTARScore']), train_EStar['TotalGHGEmissions'],test_EStar.drop(columns = ['TotalGHGEmissions','ENERGYSTARScore']) ,test_EStar['TotalGHGEmissions']"
   ]
  },
  {
   "cell_type": "code",
   "execution_count": 415,
   "metadata": {},
   "outputs": [],
   "source": [
    "#CV_xgboost_EEstar = GridSearchCV(estimator=GradientBoostingRegressor(), param_grid=xgboost_param_grid, cv= 5,scoring=['r2','neg_mean_absolute_error','neg_root_mean_squared_error'],refit='r2')\n",
    "#CV_xgboost_EEstar.fit(Xee_train, yee_train)"
   ]
  },
  {
   "cell_type": "code",
   "execution_count": 416,
   "metadata": {},
   "outputs": [
    {
     "data": {
      "text/plain": [
       "GradientBoostingRegressor(max_depth=5, max_features='sqrt', random_state=12)"
      ]
     },
     "execution_count": 416,
     "metadata": {},
     "output_type": "execute_result"
    }
   ],
   "source": [
    "rfr_eStar.fit(Xee_train,yee_train)"
   ]
  },
  {
   "cell_type": "code",
   "execution_count": 417,
   "metadata": {},
   "outputs": [
    {
     "data": {
      "text/plain": [
       "0.45434755979623165"
      ]
     },
     "execution_count": 417,
     "metadata": {},
     "output_type": "execute_result"
    }
   ],
   "source": [
    "rfr_eStar.score(Xee_test,yee_test)"
   ]
  },
  {
   "cell_type": "markdown",
   "metadata": {},
   "source": [
    "### <a name='C2'> Prédictions de SiteEnergyUse(kbtu)   </a>"
   ]
  },
  {
   "cell_type": "markdown",
   "metadata": {},
   "source": [
    "### - Dummy Regressor"
   ]
  },
  {
   "cell_type": "code",
   "execution_count": 418,
   "metadata": {},
   "outputs": [
    {
     "data": {
      "text/plain": [
       "GridSearchCV(cv=5, estimator=DummyRegressor(),\n",
       "             param_grid={'strategy': ['mean', 'median']}, refit='r2',\n",
       "             scoring=['r2', 'neg_mean_absolute_error',\n",
       "                      'neg_root_mean_squared_error'])"
      ]
     },
     "execution_count": 418,
     "metadata": {},
     "output_type": "execute_result"
    }
   ],
   "source": [
    "CV_dummy_en = GridSearchCV(estimator=DummyRegressor(), param_grid=dummy_param_grid, cv= 5,scoring=['r2','neg_mean_absolute_error','neg_root_mean_squared_error'],refit='r2')\n",
    "CV_dummy_en.fit(X_train, y2_train)"
   ]
  },
  {
   "cell_type": "code",
   "execution_count": 419,
   "metadata": {},
   "outputs": [
    {
     "data": {
      "text/plain": [
       "-0.03000655841076001"
      ]
     },
     "execution_count": 419,
     "metadata": {},
     "output_type": "execute_result"
    }
   ],
   "source": [
    "CV_dummy_en.best_score_"
   ]
  },
  {
   "cell_type": "code",
   "execution_count": 420,
   "metadata": {},
   "outputs": [
    {
     "name": "stdout",
     "output_type": "stream",
     "text": [
      "Score - training data: 0.0 %\n",
      "Score - test data: -0.12 %\n"
     ]
    }
   ],
   "source": [
    "print(f\"Score - training data: {round(CV_dummy_en.score(X_train,y2_train)*100,2)} %\")\n",
    "print(f\"Score - test data: {round(CV_dummy_en.score(X_test,y2_test)*100,2)} %\")"
   ]
  },
  {
   "cell_type": "markdown",
   "metadata": {},
   "source": [
    "### - Random Forest"
   ]
  },
  {
   "cell_type": "code",
   "execution_count": 421,
   "metadata": {},
   "outputs": [
    {
     "data": {
      "text/plain": [
       "GridSearchCV(cv=5, estimator=RandomForestRegressor(),\n",
       "             param_grid={'max_depth': [4, 5, 6, 7, 8],\n",
       "                         'max_features': ['auto', 'sqrt', 'log2'],\n",
       "                         'n_estimators': [100, 200, 300, 400, 500],\n",
       "                         'random_state': [12]},\n",
       "             refit='r2',\n",
       "             scoring=['r2', 'neg_mean_squared_error',\n",
       "                      'neg_root_mean_squared_error'])"
      ]
     },
     "execution_count": 421,
     "metadata": {},
     "output_type": "execute_result"
    }
   ],
   "source": [
    "CV_rfr_en = GridSearchCV(estimator=RandomForestRegressor(), param_grid=rfc_param_grid, cv= 5,scoring=['r2','neg_mean_squared_error','neg_root_mean_squared_error'],refit='r2')\n",
    "CV_rfr_en.fit(X_train, y2_train)"
   ]
  },
  {
   "cell_type": "code",
   "execution_count": 422,
   "metadata": {},
   "outputs": [
    {
     "data": {
      "text/plain": [
       "0.6550712653564286"
      ]
     },
     "execution_count": 422,
     "metadata": {},
     "output_type": "execute_result"
    }
   ],
   "source": [
    "CV_rfr_en.best_score_"
   ]
  },
  {
   "cell_type": "code",
   "execution_count": 423,
   "metadata": {},
   "outputs": [
    {
     "name": "stdout",
     "output_type": "stream",
     "text": [
      "Score - training data: 89.37 %\n",
      "Score - test data: 84.92 %\n"
     ]
    }
   ],
   "source": [
    "print(f\"Score - training data: {round(CV_rfr_en.score(X_train,y2_train)*100,2)} %\")\n",
    "print(f\"Score - test data: {round(CV_rfr_en.score(X_test,y2_test)*100,2)} %\")"
   ]
  },
  {
   "cell_type": "markdown",
   "metadata": {},
   "source": [
    "### - Ridge Regressor"
   ]
  },
  {
   "cell_type": "code",
   "execution_count": 424,
   "metadata": {},
   "outputs": [
    {
     "data": {
      "text/plain": [
       "GridSearchCV(cv=6, estimator=Ridge(),\n",
       "             param_grid={'alpha': [0.001, 0.01, 0.1, 1, 2, 5, 10]}, refit='r2',\n",
       "             scoring=['r2', 'neg_mean_absolute_error',\n",
       "                      'neg_root_mean_squared_error'])"
      ]
     },
     "execution_count": 424,
     "metadata": {},
     "output_type": "execute_result"
    }
   ],
   "source": [
    "CV_ridge_en = GridSearchCV(estimator=Ridge(), param_grid=ridge_param_grid, cv= 5,scoring=['r2','neg_mean_absolute_error','neg_root_mean_squared_error'],refit='r2')\n",
    "CV_ridge_en.fit(X_train, y2_train)"
   ]
  },
  {
   "cell_type": "code",
   "execution_count": 425,
   "metadata": {},
   "outputs": [
    {
     "data": {
      "text/plain": [
       "-0.008805671203176527"
      ]
     },
     "execution_count": 425,
     "metadata": {},
     "output_type": "execute_result"
    }
   ],
   "source": [
    "CV_ridge_en.best_score_"
   ]
  },
  {
   "cell_type": "code",
   "execution_count": 426,
   "metadata": {},
   "outputs": [
    {
     "name": "stdout",
     "output_type": "stream",
     "text": [
      "Score - training data: 63.42 %\n",
      "Score - test data: 71.94 %\n"
     ]
    }
   ],
   "source": [
    "print(f\"Score - training data: {round(CV_ridge_en.score(X_train,y2_train)*100,2)} %\")\n",
    "print(f\"Score - test data: {round(CV_ridge_en.score(X_test,y2_test)*100,2)} %\")"
   ]
  },
  {
   "cell_type": "markdown",
   "metadata": {},
   "source": [
    "### - KNN Regressor"
   ]
  },
  {
   "cell_type": "code",
   "execution_count": 427,
   "metadata": {},
   "outputs": [
    {
     "data": {
      "text/plain": [
       "GridSearchCV(cv=6, estimator=KNeighborsRegressor(),\n",
       "             param_grid={'n_neighbors': [10, 11, 12, 13, 14, 15, 16, 17, 18, 19,\n",
       "                                         20, 21, 22, 23, 24, 25, 26, 27, 28, 29,\n",
       "                                         30, 31, 32, 33, 34, 35, 36, 37, 38, 39, ...]},\n",
       "             refit='r2',\n",
       "             scoring=['r2', 'neg_mean_absolute_error',\n",
       "                      'neg_root_mean_squared_error'])"
      ]
     },
     "execution_count": 427,
     "metadata": {},
     "output_type": "execute_result"
    }
   ],
   "source": [
    "CV_knn_en = GridSearchCV(estimator=KNeighborsRegressor(), param_grid=knn_param_grid, cv= 5,scoring=['r2','neg_mean_absolute_error','neg_root_mean_squared_error'],refit='r2')\n",
    "CV_knn_en.fit(X_train, y2_train)"
   ]
  },
  {
   "cell_type": "code",
   "execution_count": 428,
   "metadata": {},
   "outputs": [
    {
     "data": {
      "text/plain": [
       "0.4854593321674532"
      ]
     },
     "execution_count": 428,
     "metadata": {},
     "output_type": "execute_result"
    }
   ],
   "source": [
    "CV_knn_en.best_score_"
   ]
  },
  {
   "cell_type": "code",
   "execution_count": 429,
   "metadata": {},
   "outputs": [
    {
     "name": "stdout",
     "output_type": "stream",
     "text": [
      "Score - training data: 44.7 %\n",
      "Score - test data: 50.4 %\n"
     ]
    }
   ],
   "source": [
    "print(f\"Score - training data: {round(CV_knn_en.score(X_train,y2_train)*100,1)} %\")\n",
    "print(f\"Score - test data: {round(CV_knn_en.score(X_test,y2_test)*100,1)} %\")"
   ]
  },
  {
   "cell_type": "markdown",
   "metadata": {},
   "source": [
    "### - XGBoost"
   ]
  },
  {
   "cell_type": "code",
   "execution_count": 430,
   "metadata": {},
   "outputs": [
    {
     "data": {
      "text/plain": [
       "GridSearchCV(cv=5, estimator=GradientBoostingRegressor(),\n",
       "             param_grid={'max_depth': [4, 5, 6, 7, 8],\n",
       "                         'max_features': ['auto', 'sqrt', 'log2'],\n",
       "                         'n_estimators': [100, 200, 300, 400, 500],\n",
       "                         'random_state': [12]},\n",
       "             refit='r2',\n",
       "             scoring=['r2', 'neg_mean_absolute_error',\n",
       "                      'neg_root_mean_squared_error'])"
      ]
     },
     "execution_count": 430,
     "metadata": {},
     "output_type": "execute_result"
    }
   ],
   "source": [
    "CV_xgboost_en = GridSearchCV(estimator=GradientBoostingRegressor(), param_grid=xgboost_param_grid, cv= 5,scoring=['r2','neg_mean_absolute_error','neg_root_mean_squared_error'],refit='r2')\n",
    "CV_xgboost_en.fit(X_train, y2_train)"
   ]
  },
  {
   "cell_type": "code",
   "execution_count": 431,
   "metadata": {},
   "outputs": [
    {
     "data": {
      "text/plain": [
       "0.6776582574984114"
      ]
     },
     "execution_count": 431,
     "metadata": {},
     "output_type": "execute_result"
    }
   ],
   "source": [
    "CV_xgboost_en.best_score_"
   ]
  },
  {
   "cell_type": "code",
   "execution_count": 432,
   "metadata": {},
   "outputs": [
    {
     "data": {
      "text/plain": [
       "{'mean_fit_time': array([0.17260442, 0.32661204, 0.5014153 , 0.67763848, 0.83037777,\n",
       "        0.04553518, 0.09186616, 0.13987088, 0.17409434, 0.22238183,\n",
       "        0.04569054, 0.09251037, 0.13506413, 0.17745328, 0.21935062,\n",
       "        0.19971881, 0.395327  , 0.57813473, 0.80496459, 0.99659448,\n",
       "        0.05267329, 0.10347462, 0.1576921 , 0.20908575, 0.26069674,\n",
       "        0.05263724, 0.10498724, 0.16117997, 0.21094112, 0.2592186 ,\n",
       "        0.23525791, 0.45105257, 0.65959692, 0.91540508, 1.17642198,\n",
       "        0.06140718, 0.12013063, 0.17962346, 0.2485518 , 0.30497303,\n",
       "        0.07798014, 0.1257534 , 0.18333101, 0.23441339, 0.29004183,\n",
       "        0.26432314, 0.51462593, 0.77754965, 1.07528744, 1.3503993 ,\n",
       "        0.0677259 , 0.13507028, 0.19770322, 0.27226453, 0.32741838,\n",
       "        0.06629233, 0.12934804, 0.19692054, 0.26434422, 0.32668762,\n",
       "        0.2967906 , 0.57554979, 0.84670343, 1.10594039, 1.39104424,\n",
       "        0.0688817 , 0.13506069, 0.20560122, 0.26837726, 0.33684273,\n",
       "        0.08415418, 0.13431506, 0.2018508 , 0.27266793, 0.34418445]),\n",
       " 'std_fit_time': array([0.00785569, 0.00596219, 0.01171766, 0.00357541, 0.0069385 ,\n",
       "        0.00083718, 0.00165332, 0.00205108, 0.00173466, 0.00290717,\n",
       "        0.00100888, 0.00578463, 0.00314484, 0.00359128, 0.00113958,\n",
       "        0.00063654, 0.00472857, 0.01076312, 0.02150355, 0.0170654 ,\n",
       "        0.00170327, 0.00167994, 0.00399518, 0.00492556, 0.00659495,\n",
       "        0.00090805, 0.00127591, 0.0046313 , 0.00680009, 0.00794668,\n",
       "        0.01322546, 0.00433928, 0.00168467, 0.02127144, 0.05503695,\n",
       "        0.00057908, 0.0028575 , 0.00783866, 0.01050066, 0.01525079,\n",
       "        0.00662187, 0.00722125, 0.00435769, 0.00267743, 0.00222829,\n",
       "        0.00264079, 0.0170784 , 0.02824563, 0.00668476, 0.0175611 ,\n",
       "        0.00089408, 0.00311802, 0.00493681, 0.01827846, 0.00385173,\n",
       "        0.00125338, 0.00154608, 0.00383038, 0.00246585, 0.00313241,\n",
       "        0.00282717, 0.0119134 , 0.01715714, 0.00514368, 0.0064402 ,\n",
       "        0.0008231 , 0.00308579, 0.00209995, 0.00344799, 0.00366379,\n",
       "        0.00914662, 0.00167133, 0.00306956, 0.00707643, 0.01369411]),\n",
       " 'mean_score_time': array([0.00238771, 0.00317078, 0.00348368, 0.0039371 , 0.00378814,\n",
       "        0.00206022, 0.00243249, 0.0034061 , 0.00324745, 0.00399466,\n",
       "        0.00229049, 0.00272975, 0.003299  , 0.0035964 , 0.00399547,\n",
       "        0.00263734, 0.00254421, 0.00407863, 0.00395799, 0.00414205,\n",
       "        0.00235195, 0.00331144, 0.0036427 , 0.00406704, 0.00439973,\n",
       "        0.0022253 , 0.0026289 , 0.00346866, 0.00400524, 0.00474305,\n",
       "        0.00256615, 0.00337911, 0.00376077, 0.0043746 , 0.00490952,\n",
       "        0.00283732, 0.0033803 , 0.00379524, 0.00524611, 0.0052619 ,\n",
       "        0.00320554, 0.00258079, 0.00434375, 0.00421882, 0.00519433,\n",
       "        0.00275612, 0.00339847, 0.0043663 , 0.00481238, 0.00575418,\n",
       "        0.00269551, 0.00397921, 0.00432453, 0.00551062, 0.00600867,\n",
       "        0.00258651, 0.00358181, 0.00469761, 0.00530252, 0.00600004,\n",
       "        0.00259366, 0.00340958, 0.00448937, 0.00494981, 0.00557094,\n",
       "        0.00299311, 0.00419564, 0.00470123, 0.00570045, 0.00635896,\n",
       "        0.00396767, 0.00323539, 0.00583296, 0.00591187, 0.00728273]),\n",
       " 'std_score_time': array([4.79994013e-04, 4.10283238e-04, 4.15222191e-04, 1.25849386e-04,\n",
       "        3.92377896e-04, 1.52400050e-04, 4.77673669e-04, 4.93099456e-04,\n",
       "        3.81908683e-04, 2.85182643e-04, 4.79565634e-04, 3.44451981e-04,\n",
       "        4.58058918e-04, 5.10370164e-04, 6.18904771e-04, 4.97434284e-04,\n",
       "        4.40611555e-04, 4.89393310e-04, 5.85551215e-04, 4.09509711e-04,\n",
       "        5.62725719e-04, 3.16980183e-04, 7.46462834e-04, 6.75428189e-04,\n",
       "        4.79185032e-04, 4.03154230e-04, 5.08285789e-04, 3.76007600e-04,\n",
       "        6.29741459e-04, 3.91976630e-04, 4.93405217e-04, 6.19035501e-04,\n",
       "        7.52972051e-04, 5.38647263e-04, 8.96910554e-04, 4.07539767e-04,\n",
       "        7.78671021e-04, 4.02001231e-04, 9.00980478e-04, 6.14169036e-04,\n",
       "        7.44250470e-04, 4.81469366e-04, 3.73464116e-04, 3.87526588e-04,\n",
       "        7.57479211e-04, 8.07437626e-04, 4.97360663e-04, 4.75288274e-04,\n",
       "        6.47538727e-04, 3.67176855e-04, 3.77984469e-04, 6.23571914e-04,\n",
       "        4.13768739e-04, 5.45332860e-04, 6.21297178e-04, 4.83896561e-04,\n",
       "        4.98379317e-04, 3.99702342e-04, 3.67496223e-04, 1.86454914e-05,\n",
       "        4.89222018e-04, 4.78629116e-04, 4.45789609e-04, 1.98108423e-04,\n",
       "        3.70206997e-04, 2.48628400e-05, 4.86069388e-04, 7.41610035e-04,\n",
       "        4.73719360e-04, 3.75984258e-04, 1.15749231e-03, 3.89607981e-04,\n",
       "        1.37744908e-03, 8.44178362e-04, 4.20465613e-04]),\n",
       " 'param_max_depth': masked_array(data=[4, 4, 4, 4, 4, 4, 4, 4, 4, 4, 4, 4, 4, 4, 4, 5, 5, 5,\n",
       "                    5, 5, 5, 5, 5, 5, 5, 5, 5, 5, 5, 5, 6, 6, 6, 6, 6, 6,\n",
       "                    6, 6, 6, 6, 6, 6, 6, 6, 6, 7, 7, 7, 7, 7, 7, 7, 7, 7,\n",
       "                    7, 7, 7, 7, 7, 7, 8, 8, 8, 8, 8, 8, 8, 8, 8, 8, 8, 8,\n",
       "                    8, 8, 8],\n",
       "              mask=[False, False, False, False, False, False, False, False,\n",
       "                    False, False, False, False, False, False, False, False,\n",
       "                    False, False, False, False, False, False, False, False,\n",
       "                    False, False, False, False, False, False, False, False,\n",
       "                    False, False, False, False, False, False, False, False,\n",
       "                    False, False, False, False, False, False, False, False,\n",
       "                    False, False, False, False, False, False, False, False,\n",
       "                    False, False, False, False, False, False, False, False,\n",
       "                    False, False, False, False, False, False, False, False,\n",
       "                    False, False, False],\n",
       "        fill_value='?',\n",
       "             dtype=object),\n",
       " 'param_max_features': masked_array(data=['auto', 'auto', 'auto', 'auto', 'auto', 'sqrt', 'sqrt',\n",
       "                    'sqrt', 'sqrt', 'sqrt', 'log2', 'log2', 'log2', 'log2',\n",
       "                    'log2', 'auto', 'auto', 'auto', 'auto', 'auto', 'sqrt',\n",
       "                    'sqrt', 'sqrt', 'sqrt', 'sqrt', 'log2', 'log2', 'log2',\n",
       "                    'log2', 'log2', 'auto', 'auto', 'auto', 'auto', 'auto',\n",
       "                    'sqrt', 'sqrt', 'sqrt', 'sqrt', 'sqrt', 'log2', 'log2',\n",
       "                    'log2', 'log2', 'log2', 'auto', 'auto', 'auto', 'auto',\n",
       "                    'auto', 'sqrt', 'sqrt', 'sqrt', 'sqrt', 'sqrt', 'log2',\n",
       "                    'log2', 'log2', 'log2', 'log2', 'auto', 'auto', 'auto',\n",
       "                    'auto', 'auto', 'sqrt', 'sqrt', 'sqrt', 'sqrt', 'sqrt',\n",
       "                    'log2', 'log2', 'log2', 'log2', 'log2'],\n",
       "              mask=[False, False, False, False, False, False, False, False,\n",
       "                    False, False, False, False, False, False, False, False,\n",
       "                    False, False, False, False, False, False, False, False,\n",
       "                    False, False, False, False, False, False, False, False,\n",
       "                    False, False, False, False, False, False, False, False,\n",
       "                    False, False, False, False, False, False, False, False,\n",
       "                    False, False, False, False, False, False, False, False,\n",
       "                    False, False, False, False, False, False, False, False,\n",
       "                    False, False, False, False, False, False, False, False,\n",
       "                    False, False, False],\n",
       "        fill_value='?',\n",
       "             dtype=object),\n",
       " 'param_n_estimators': masked_array(data=[100, 200, 300, 400, 500, 100, 200, 300, 400, 500, 100,\n",
       "                    200, 300, 400, 500, 100, 200, 300, 400, 500, 100, 200,\n",
       "                    300, 400, 500, 100, 200, 300, 400, 500, 100, 200, 300,\n",
       "                    400, 500, 100, 200, 300, 400, 500, 100, 200, 300, 400,\n",
       "                    500, 100, 200, 300, 400, 500, 100, 200, 300, 400, 500,\n",
       "                    100, 200, 300, 400, 500, 100, 200, 300, 400, 500, 100,\n",
       "                    200, 300, 400, 500, 100, 200, 300, 400, 500],\n",
       "              mask=[False, False, False, False, False, False, False, False,\n",
       "                    False, False, False, False, False, False, False, False,\n",
       "                    False, False, False, False, False, False, False, False,\n",
       "                    False, False, False, False, False, False, False, False,\n",
       "                    False, False, False, False, False, False, False, False,\n",
       "                    False, False, False, False, False, False, False, False,\n",
       "                    False, False, False, False, False, False, False, False,\n",
       "                    False, False, False, False, False, False, False, False,\n",
       "                    False, False, False, False, False, False, False, False,\n",
       "                    False, False, False],\n",
       "        fill_value='?',\n",
       "             dtype=object),\n",
       " 'param_random_state': masked_array(data=[12, 12, 12, 12, 12, 12, 12, 12, 12, 12, 12, 12, 12, 12,\n",
       "                    12, 12, 12, 12, 12, 12, 12, 12, 12, 12, 12, 12, 12, 12,\n",
       "                    12, 12, 12, 12, 12, 12, 12, 12, 12, 12, 12, 12, 12, 12,\n",
       "                    12, 12, 12, 12, 12, 12, 12, 12, 12, 12, 12, 12, 12, 12,\n",
       "                    12, 12, 12, 12, 12, 12, 12, 12, 12, 12, 12, 12, 12, 12,\n",
       "                    12, 12, 12, 12, 12],\n",
       "              mask=[False, False, False, False, False, False, False, False,\n",
       "                    False, False, False, False, False, False, False, False,\n",
       "                    False, False, False, False, False, False, False, False,\n",
       "                    False, False, False, False, False, False, False, False,\n",
       "                    False, False, False, False, False, False, False, False,\n",
       "                    False, False, False, False, False, False, False, False,\n",
       "                    False, False, False, False, False, False, False, False,\n",
       "                    False, False, False, False, False, False, False, False,\n",
       "                    False, False, False, False, False, False, False, False,\n",
       "                    False, False, False],\n",
       "        fill_value='?',\n",
       "             dtype=object),\n",
       " 'params': [{'max_depth': 4,\n",
       "   'max_features': 'auto',\n",
       "   'n_estimators': 100,\n",
       "   'random_state': 12},\n",
       "  {'max_depth': 4,\n",
       "   'max_features': 'auto',\n",
       "   'n_estimators': 200,\n",
       "   'random_state': 12},\n",
       "  {'max_depth': 4,\n",
       "   'max_features': 'auto',\n",
       "   'n_estimators': 300,\n",
       "   'random_state': 12},\n",
       "  {'max_depth': 4,\n",
       "   'max_features': 'auto',\n",
       "   'n_estimators': 400,\n",
       "   'random_state': 12},\n",
       "  {'max_depth': 4,\n",
       "   'max_features': 'auto',\n",
       "   'n_estimators': 500,\n",
       "   'random_state': 12},\n",
       "  {'max_depth': 4,\n",
       "   'max_features': 'sqrt',\n",
       "   'n_estimators': 100,\n",
       "   'random_state': 12},\n",
       "  {'max_depth': 4,\n",
       "   'max_features': 'sqrt',\n",
       "   'n_estimators': 200,\n",
       "   'random_state': 12},\n",
       "  {'max_depth': 4,\n",
       "   'max_features': 'sqrt',\n",
       "   'n_estimators': 300,\n",
       "   'random_state': 12},\n",
       "  {'max_depth': 4,\n",
       "   'max_features': 'sqrt',\n",
       "   'n_estimators': 400,\n",
       "   'random_state': 12},\n",
       "  {'max_depth': 4,\n",
       "   'max_features': 'sqrt',\n",
       "   'n_estimators': 500,\n",
       "   'random_state': 12},\n",
       "  {'max_depth': 4,\n",
       "   'max_features': 'log2',\n",
       "   'n_estimators': 100,\n",
       "   'random_state': 12},\n",
       "  {'max_depth': 4,\n",
       "   'max_features': 'log2',\n",
       "   'n_estimators': 200,\n",
       "   'random_state': 12},\n",
       "  {'max_depth': 4,\n",
       "   'max_features': 'log2',\n",
       "   'n_estimators': 300,\n",
       "   'random_state': 12},\n",
       "  {'max_depth': 4,\n",
       "   'max_features': 'log2',\n",
       "   'n_estimators': 400,\n",
       "   'random_state': 12},\n",
       "  {'max_depth': 4,\n",
       "   'max_features': 'log2',\n",
       "   'n_estimators': 500,\n",
       "   'random_state': 12},\n",
       "  {'max_depth': 5,\n",
       "   'max_features': 'auto',\n",
       "   'n_estimators': 100,\n",
       "   'random_state': 12},\n",
       "  {'max_depth': 5,\n",
       "   'max_features': 'auto',\n",
       "   'n_estimators': 200,\n",
       "   'random_state': 12},\n",
       "  {'max_depth': 5,\n",
       "   'max_features': 'auto',\n",
       "   'n_estimators': 300,\n",
       "   'random_state': 12},\n",
       "  {'max_depth': 5,\n",
       "   'max_features': 'auto',\n",
       "   'n_estimators': 400,\n",
       "   'random_state': 12},\n",
       "  {'max_depth': 5,\n",
       "   'max_features': 'auto',\n",
       "   'n_estimators': 500,\n",
       "   'random_state': 12},\n",
       "  {'max_depth': 5,\n",
       "   'max_features': 'sqrt',\n",
       "   'n_estimators': 100,\n",
       "   'random_state': 12},\n",
       "  {'max_depth': 5,\n",
       "   'max_features': 'sqrt',\n",
       "   'n_estimators': 200,\n",
       "   'random_state': 12},\n",
       "  {'max_depth': 5,\n",
       "   'max_features': 'sqrt',\n",
       "   'n_estimators': 300,\n",
       "   'random_state': 12},\n",
       "  {'max_depth': 5,\n",
       "   'max_features': 'sqrt',\n",
       "   'n_estimators': 400,\n",
       "   'random_state': 12},\n",
       "  {'max_depth': 5,\n",
       "   'max_features': 'sqrt',\n",
       "   'n_estimators': 500,\n",
       "   'random_state': 12},\n",
       "  {'max_depth': 5,\n",
       "   'max_features': 'log2',\n",
       "   'n_estimators': 100,\n",
       "   'random_state': 12},\n",
       "  {'max_depth': 5,\n",
       "   'max_features': 'log2',\n",
       "   'n_estimators': 200,\n",
       "   'random_state': 12},\n",
       "  {'max_depth': 5,\n",
       "   'max_features': 'log2',\n",
       "   'n_estimators': 300,\n",
       "   'random_state': 12},\n",
       "  {'max_depth': 5,\n",
       "   'max_features': 'log2',\n",
       "   'n_estimators': 400,\n",
       "   'random_state': 12},\n",
       "  {'max_depth': 5,\n",
       "   'max_features': 'log2',\n",
       "   'n_estimators': 500,\n",
       "   'random_state': 12},\n",
       "  {'max_depth': 6,\n",
       "   'max_features': 'auto',\n",
       "   'n_estimators': 100,\n",
       "   'random_state': 12},\n",
       "  {'max_depth': 6,\n",
       "   'max_features': 'auto',\n",
       "   'n_estimators': 200,\n",
       "   'random_state': 12},\n",
       "  {'max_depth': 6,\n",
       "   'max_features': 'auto',\n",
       "   'n_estimators': 300,\n",
       "   'random_state': 12},\n",
       "  {'max_depth': 6,\n",
       "   'max_features': 'auto',\n",
       "   'n_estimators': 400,\n",
       "   'random_state': 12},\n",
       "  {'max_depth': 6,\n",
       "   'max_features': 'auto',\n",
       "   'n_estimators': 500,\n",
       "   'random_state': 12},\n",
       "  {'max_depth': 6,\n",
       "   'max_features': 'sqrt',\n",
       "   'n_estimators': 100,\n",
       "   'random_state': 12},\n",
       "  {'max_depth': 6,\n",
       "   'max_features': 'sqrt',\n",
       "   'n_estimators': 200,\n",
       "   'random_state': 12},\n",
       "  {'max_depth': 6,\n",
       "   'max_features': 'sqrt',\n",
       "   'n_estimators': 300,\n",
       "   'random_state': 12},\n",
       "  {'max_depth': 6,\n",
       "   'max_features': 'sqrt',\n",
       "   'n_estimators': 400,\n",
       "   'random_state': 12},\n",
       "  {'max_depth': 6,\n",
       "   'max_features': 'sqrt',\n",
       "   'n_estimators': 500,\n",
       "   'random_state': 12},\n",
       "  {'max_depth': 6,\n",
       "   'max_features': 'log2',\n",
       "   'n_estimators': 100,\n",
       "   'random_state': 12},\n",
       "  {'max_depth': 6,\n",
       "   'max_features': 'log2',\n",
       "   'n_estimators': 200,\n",
       "   'random_state': 12},\n",
       "  {'max_depth': 6,\n",
       "   'max_features': 'log2',\n",
       "   'n_estimators': 300,\n",
       "   'random_state': 12},\n",
       "  {'max_depth': 6,\n",
       "   'max_features': 'log2',\n",
       "   'n_estimators': 400,\n",
       "   'random_state': 12},\n",
       "  {'max_depth': 6,\n",
       "   'max_features': 'log2',\n",
       "   'n_estimators': 500,\n",
       "   'random_state': 12},\n",
       "  {'max_depth': 7,\n",
       "   'max_features': 'auto',\n",
       "   'n_estimators': 100,\n",
       "   'random_state': 12},\n",
       "  {'max_depth': 7,\n",
       "   'max_features': 'auto',\n",
       "   'n_estimators': 200,\n",
       "   'random_state': 12},\n",
       "  {'max_depth': 7,\n",
       "   'max_features': 'auto',\n",
       "   'n_estimators': 300,\n",
       "   'random_state': 12},\n",
       "  {'max_depth': 7,\n",
       "   'max_features': 'auto',\n",
       "   'n_estimators': 400,\n",
       "   'random_state': 12},\n",
       "  {'max_depth': 7,\n",
       "   'max_features': 'auto',\n",
       "   'n_estimators': 500,\n",
       "   'random_state': 12},\n",
       "  {'max_depth': 7,\n",
       "   'max_features': 'sqrt',\n",
       "   'n_estimators': 100,\n",
       "   'random_state': 12},\n",
       "  {'max_depth': 7,\n",
       "   'max_features': 'sqrt',\n",
       "   'n_estimators': 200,\n",
       "   'random_state': 12},\n",
       "  {'max_depth': 7,\n",
       "   'max_features': 'sqrt',\n",
       "   'n_estimators': 300,\n",
       "   'random_state': 12},\n",
       "  {'max_depth': 7,\n",
       "   'max_features': 'sqrt',\n",
       "   'n_estimators': 400,\n",
       "   'random_state': 12},\n",
       "  {'max_depth': 7,\n",
       "   'max_features': 'sqrt',\n",
       "   'n_estimators': 500,\n",
       "   'random_state': 12},\n",
       "  {'max_depth': 7,\n",
       "   'max_features': 'log2',\n",
       "   'n_estimators': 100,\n",
       "   'random_state': 12},\n",
       "  {'max_depth': 7,\n",
       "   'max_features': 'log2',\n",
       "   'n_estimators': 200,\n",
       "   'random_state': 12},\n",
       "  {'max_depth': 7,\n",
       "   'max_features': 'log2',\n",
       "   'n_estimators': 300,\n",
       "   'random_state': 12},\n",
       "  {'max_depth': 7,\n",
       "   'max_features': 'log2',\n",
       "   'n_estimators': 400,\n",
       "   'random_state': 12},\n",
       "  {'max_depth': 7,\n",
       "   'max_features': 'log2',\n",
       "   'n_estimators': 500,\n",
       "   'random_state': 12},\n",
       "  {'max_depth': 8,\n",
       "   'max_features': 'auto',\n",
       "   'n_estimators': 100,\n",
       "   'random_state': 12},\n",
       "  {'max_depth': 8,\n",
       "   'max_features': 'auto',\n",
       "   'n_estimators': 200,\n",
       "   'random_state': 12},\n",
       "  {'max_depth': 8,\n",
       "   'max_features': 'auto',\n",
       "   'n_estimators': 300,\n",
       "   'random_state': 12},\n",
       "  {'max_depth': 8,\n",
       "   'max_features': 'auto',\n",
       "   'n_estimators': 400,\n",
       "   'random_state': 12},\n",
       "  {'max_depth': 8,\n",
       "   'max_features': 'auto',\n",
       "   'n_estimators': 500,\n",
       "   'random_state': 12},\n",
       "  {'max_depth': 8,\n",
       "   'max_features': 'sqrt',\n",
       "   'n_estimators': 100,\n",
       "   'random_state': 12},\n",
       "  {'max_depth': 8,\n",
       "   'max_features': 'sqrt',\n",
       "   'n_estimators': 200,\n",
       "   'random_state': 12},\n",
       "  {'max_depth': 8,\n",
       "   'max_features': 'sqrt',\n",
       "   'n_estimators': 300,\n",
       "   'random_state': 12},\n",
       "  {'max_depth': 8,\n",
       "   'max_features': 'sqrt',\n",
       "   'n_estimators': 400,\n",
       "   'random_state': 12},\n",
       "  {'max_depth': 8,\n",
       "   'max_features': 'sqrt',\n",
       "   'n_estimators': 500,\n",
       "   'random_state': 12},\n",
       "  {'max_depth': 8,\n",
       "   'max_features': 'log2',\n",
       "   'n_estimators': 100,\n",
       "   'random_state': 12},\n",
       "  {'max_depth': 8,\n",
       "   'max_features': 'log2',\n",
       "   'n_estimators': 200,\n",
       "   'random_state': 12},\n",
       "  {'max_depth': 8,\n",
       "   'max_features': 'log2',\n",
       "   'n_estimators': 300,\n",
       "   'random_state': 12},\n",
       "  {'max_depth': 8,\n",
       "   'max_features': 'log2',\n",
       "   'n_estimators': 400,\n",
       "   'random_state': 12},\n",
       "  {'max_depth': 8,\n",
       "   'max_features': 'log2',\n",
       "   'n_estimators': 500,\n",
       "   'random_state': 12}],\n",
       " 'split0_test_r2': array([-0.20741781, -0.20501254, -0.20233423, -0.20035664, -0.2014038 ,\n",
       "         0.66421764,  0.66145087,  0.66165189,  0.66149763,  0.66157857,\n",
       "         0.66421764,  0.66145087,  0.66165189,  0.66149763,  0.66157857,\n",
       "        -0.34546932, -0.3400175 , -0.33862739, -0.33736695, -0.33769039,\n",
       "         0.49501948,  0.49944057,  0.50062184,  0.50056606,  0.50119043,\n",
       "         0.49501948,  0.49944057,  0.50062184,  0.50056606,  0.50119043,\n",
       "        -0.56102977, -0.55699717, -0.55404693, -0.55425575, -0.55425871,\n",
       "         0.60026896,  0.59955573,  0.60065597,  0.60083673,  0.6013043 ,\n",
       "         0.60026896,  0.59955573,  0.60065597,  0.60083673,  0.6013043 ,\n",
       "        -0.33705672, -0.33511645, -0.33450926, -0.33467926, -0.33466548,\n",
       "         0.68544247,  0.6837849 ,  0.68459358,  0.68486817,  0.68493223,\n",
       "         0.68544247,  0.6837849 ,  0.68459358,  0.68486817,  0.68493223,\n",
       "        -0.47172217, -0.46950055, -0.46956568, -0.46959325, -0.46959628,\n",
       "         0.46418469,  0.46606322,  0.4665958 ,  0.46674094,  0.46677933,\n",
       "         0.46418469,  0.46606322,  0.4665958 ,  0.46674094,  0.46677933]),\n",
       " 'split1_test_r2': array([0.91114358, 0.90949745, 0.90994078, 0.91006859, 0.91017536,\n",
       "        0.82527487, 0.82447467, 0.82338016, 0.82226931, 0.82222333,\n",
       "        0.82527487, 0.82447467, 0.82338016, 0.82226931, 0.82222333,\n",
       "        0.95639205, 0.95708346, 0.9571288 , 0.9568682 , 0.95679465,\n",
       "        0.84249065, 0.84096592, 0.84003263, 0.84032969, 0.8402631 ,\n",
       "        0.84249065, 0.84096592, 0.84003263, 0.84032969, 0.8402631 ,\n",
       "        0.90622843, 0.90641042, 0.90661093, 0.90652005, 0.90647919,\n",
       "        0.76826488, 0.76797351, 0.76789971, 0.76803821, 0.76803036,\n",
       "        0.76826488, 0.76797351, 0.76789971, 0.76803821, 0.76803036,\n",
       "        0.93558661, 0.93560715, 0.9355548 , 0.93552216, 0.93551114,\n",
       "        0.78970764, 0.78904674, 0.78904189, 0.78901337, 0.78898829,\n",
       "        0.78970764, 0.78904674, 0.78904189, 0.78901337, 0.78898829,\n",
       "        0.92949074, 0.92910308, 0.92908908, 0.92906466, 0.92906088,\n",
       "        0.81745098, 0.81759596, 0.8175101 , 0.81748214, 0.81748117,\n",
       "        0.81745098, 0.81759596, 0.8175101 , 0.81748214, 0.81748117]),\n",
       " 'split2_test_r2': array([0.82329029, 0.81503529, 0.8153276 , 0.81516477, 0.81479763,\n",
       "        0.84622228, 0.84891294, 0.84999641, 0.84922248, 0.84854423,\n",
       "        0.84622228, 0.84891294, 0.84999641, 0.84922248, 0.84854423,\n",
       "        0.67897339, 0.68058776, 0.68200664, 0.6832315 , 0.68343003,\n",
       "        0.71680394, 0.72590519, 0.725767  , 0.7268528 , 0.72661519,\n",
       "        0.71680394, 0.72590519, 0.725767  , 0.7268528 , 0.72661519,\n",
       "        0.6434944 , 0.6455516 , 0.64724452, 0.64729692, 0.64750604,\n",
       "        0.805369  , 0.80643712, 0.80582593, 0.80599537, 0.80601483,\n",
       "        0.805369  , 0.80643712, 0.80582593, 0.80599537, 0.80601483,\n",
       "        0.63297817, 0.634787  , 0.63529428, 0.63523017, 0.63522417,\n",
       "        0.69507417, 0.69738567, 0.69703273, 0.69692227, 0.69694459,\n",
       "        0.69507417, 0.69738567, 0.69703273, 0.69692227, 0.69694459,\n",
       "        0.64861864, 0.64903223, 0.64916563, 0.64923047, 0.64922871,\n",
       "        0.87139211, 0.87170457, 0.87179812, 0.87178548, 0.87178509,\n",
       "        0.87139211, 0.87170457, 0.87179812, 0.87178548, 0.87178509]),\n",
       " 'split3_test_r2': array([0.71667529, 0.70150729, 0.70349771, 0.70418985, 0.70402212,\n",
       "        0.72000938, 0.71959394, 0.71792375, 0.71852731, 0.7193674 ,\n",
       "        0.72000938, 0.71959394, 0.71792375, 0.71852731, 0.7193674 ,\n",
       "        0.69836287, 0.69451474, 0.69293974, 0.69486079, 0.69455647,\n",
       "        0.65195803, 0.65308886, 0.65558   , 0.65644119, 0.65563696,\n",
       "        0.65195803, 0.65308886, 0.65558   , 0.65644119, 0.65563696,\n",
       "        0.61133909, 0.60838831, 0.61048269, 0.61091133, 0.6110705 ,\n",
       "        0.6763484 , 0.68044556, 0.68084136, 0.68136403, 0.68172051,\n",
       "        0.6763484 , 0.68044556, 0.68084136, 0.68136403, 0.68172051,\n",
       "        0.61215545, 0.61532771, 0.61603019, 0.61585811, 0.61582926,\n",
       "        0.74397645, 0.74650226, 0.74696952, 0.7469461 , 0.74686349,\n",
       "        0.74397645, 0.74650226, 0.74696952, 0.7469461 , 0.74686349,\n",
       "        0.58747697, 0.58859567, 0.5883972 , 0.58845279, 0.58843053,\n",
       "        0.73387465, 0.7360087 , 0.73605489, 0.73599188, 0.73597469,\n",
       "        0.73387465, 0.7360087 , 0.73605489, 0.73599188, 0.73597469]),\n",
       " 'split4_test_r2': array([0.3890926 , 0.38974543, 0.39157701, 0.39261189, 0.39305483,\n",
       "        0.32930422, 0.33385887, 0.33185486, 0.33103579, 0.3304287 ,\n",
       "        0.32930422, 0.33385887, 0.33185486, 0.33103579, 0.3304287 ,\n",
       "        0.34737013, 0.35116105, 0.35179951, 0.3523621 , 0.35248333,\n",
       "        0.36220214, 0.36331641, 0.36191134, 0.36286435, 0.36359147,\n",
       "        0.36220214, 0.36331641, 0.36191134, 0.36286435, 0.36359147,\n",
       "        0.35243208, 0.35573417, 0.35660879, 0.35645147, 0.35650213,\n",
       "        0.40474363, 0.40867186, 0.40937231, 0.40955725, 0.40956866,\n",
       "        0.40474363, 0.40867186, 0.40937231, 0.40955725, 0.40956866,\n",
       "        0.30653069, 0.30627533, 0.30647358, 0.30649406, 0.3065082 ,\n",
       "        0.38440001, 0.38403757, 0.38393864, 0.38397252, 0.38396692,\n",
       "        0.38440001, 0.38403757, 0.38393864, 0.38397252, 0.38396692,\n",
       "        0.30483972, 0.30532262, 0.30550104, 0.3054967 , 0.30550493,\n",
       "        0.35820295, 0.35867713, 0.35875178, 0.35875139, 0.35874846,\n",
       "        0.35820295, 0.35867713, 0.35875178, 0.35875139, 0.35874846]),\n",
       " 'mean_test_r2': array([0.52655679, 0.52215458, 0.52360177, 0.52433569, 0.52412923,\n",
       "        0.67700568, 0.67765826, 0.67696141, 0.6765105 , 0.67642844,\n",
       "        0.67700568, 0.67765826, 0.67696141, 0.6765105 , 0.67642844,\n",
       "        0.46712582, 0.4686659 , 0.46904946, 0.46999113, 0.46991482,\n",
       "        0.61369485, 0.61654339, 0.61678256, 0.61741082, 0.61745943,\n",
       "        0.61369485, 0.61654339, 0.61678256, 0.61741082, 0.61745943,\n",
       "        0.39049285, 0.39181747, 0.39338   , 0.3933848 , 0.39345983,\n",
       "        0.65099897, 0.65261676, 0.65291906, 0.65315832, 0.65332773,\n",
       "        0.65099897, 0.65261676, 0.65291906, 0.65315832, 0.65332773,\n",
       "        0.43003884, 0.43137615, 0.43176872, 0.43168505, 0.43168145,\n",
       "        0.65972015, 0.66015143, 0.66031527, 0.66034449, 0.6603391 ,\n",
       "        0.65972015, 0.66015143, 0.66031527, 0.66034449, 0.6603391 ,\n",
       "        0.39974078, 0.40051061, 0.40051745, 0.40053027, 0.40052576,\n",
       "        0.64902108, 0.65000992, 0.65014214, 0.65015037, 0.65015375,\n",
       "        0.64902108, 0.65000992, 0.65014214, 0.65015037, 0.65015375]),\n",
       " 'std_test_r2': array([0.40736174, 0.4035555 , 0.40277486, 0.40205698, 0.40235802,\n",
       "        0.18629394, 0.18498785, 0.18568273, 0.18569795, 0.18582792,\n",
       "        0.18629394, 0.18498785, 0.18568273, 0.18569795, 0.18582792,\n",
       "        0.44997415, 0.44771565, 0.4471663 , 0.44693417, 0.44701698,\n",
       "        0.16838973, 0.16822486, 0.16833068, 0.16830944, 0.16791748,\n",
       "        0.16838973, 0.16822486, 0.16833068, 0.16830944, 0.16791748,\n",
       "        0.50707198, 0.50549799, 0.5047686 , 0.50487298, 0.5048998 ,\n",
       "        0.1424354 , 0.14146866, 0.14101572, 0.14101854, 0.14099725,\n",
       "        0.1424354 , 0.14146866, 0.14101572, 0.14101854, 0.14099725,\n",
       "        0.43211555, 0.43188521, 0.43175367, 0.43178449, 0.43177318,\n",
       "        0.1426244 , 0.14300647, 0.14310916, 0.14309181, 0.14308281,\n",
       "        0.1426244 , 0.14300647, 0.14310916, 0.14309181, 0.14308281,\n",
       "        0.47880559, 0.47802283, 0.47803461, 0.47805054, 0.47804854,\n",
       "        0.20186991, 0.20166337, 0.20155496, 0.20151585, 0.201508  ,\n",
       "        0.20186991, 0.20166337, 0.20155496, 0.20151585, 0.201508  ]),\n",
       " 'rank_test_r2': array([51, 55, 54, 52, 53,  3,  1,  5,  7,  9,  3,  1,  5,  7,  9, 60, 59,\n",
       "        58, 56, 57, 49, 47, 45, 43, 41, 49, 47, 45, 43, 41, 75, 74, 73, 72,\n",
       "        71, 29, 27, 25, 23, 21, 29, 27, 25, 23, 21, 65, 64, 61, 62, 63, 19,\n",
       "        17, 15, 11, 13, 19, 17, 15, 11, 13, 70, 69, 68, 66, 67, 39, 37, 35,\n",
       "        33, 31, 39, 37, 35, 33, 31]),\n",
       " 'split0_test_neg_mean_absolute_error': array([-4908316.05779635, -4863790.99354017, -4838757.64971196,\n",
       "        -4818871.94257005, -4826927.33744896, -4182921.9052291 ,\n",
       "        -4111737.12103875, -4068976.37164949, -4025544.65135201,\n",
       "        -4024225.51912928, -4182921.9052291 , -4111737.12103875,\n",
       "        -4068976.37164949, -4025544.65135201, -4024225.51912928,\n",
       "        -5214673.96420693, -5148170.59900296, -5137228.27096621,\n",
       "        -5136855.87266551, -5139669.26168704, -5147134.60579589,\n",
       "        -5059602.41038096, -5067622.84318747, -5073529.67318958,\n",
       "        -5073333.32403466, -5147134.60579589, -5059602.41038096,\n",
       "        -5067622.84318747, -5073529.67318958, -5073333.32403466,\n",
       "        -5211433.14453975, -5218768.78857592, -5223045.73527128,\n",
       "        -5223149.34292775, -5223073.80921094, -4792722.78565246,\n",
       "        -4744376.48315644, -4741294.15670356, -4743095.140209  ,\n",
       "        -4741001.2887503 , -4792722.78565246, -4744376.48315644,\n",
       "        -4741294.15670356, -4743095.140209  , -4741001.2887503 ,\n",
       "        -5263247.82404831, -5253722.44104438, -5252342.05439563,\n",
       "        -5251128.56570561, -5250539.55502349, -4391989.44608282,\n",
       "        -4403739.08118172, -4398029.95407121, -4399371.10702844,\n",
       "        -4398882.7382083 , -4391989.44608282, -4403739.08118172,\n",
       "        -4398029.95407121, -4399371.10702844, -4398882.7382083 ,\n",
       "        -5367804.07570225, -5373782.18762339, -5373965.13953023,\n",
       "        -5373353.85340485, -5373456.28288482, -5219113.65491417,\n",
       "        -5205498.39039791, -5204010.17740006, -5202667.14870584,\n",
       "        -5202403.56246446, -5219113.65491417, -5205498.39039791,\n",
       "        -5204010.17740006, -5202667.14870584, -5202403.56246446]),\n",
       " 'split1_test_neg_mean_absolute_error': array([-3213588.03784595, -3226012.04433487, -3255122.71873643,\n",
       "        -3285568.02965216, -3304101.71140153, -4162482.59336358,\n",
       "        -4099819.17066797, -4109136.63485057, -4120644.61465906,\n",
       "        -4106997.24196019, -4162482.59336358, -4099819.17066797,\n",
       "        -4109136.63485057, -4120644.61465906, -4106997.24196019,\n",
       "        -2695872.57466625, -2694060.48525246, -2723294.36767077,\n",
       "        -2739353.59431469, -2752121.02040892, -3960771.15151309,\n",
       "        -3936884.50841253, -3939188.53201394, -3930626.43976327,\n",
       "        -3934383.4759074 , -3960771.15151309, -3936884.50841253,\n",
       "        -3939188.53201394, -3930626.43976327, -3934383.4759074 ,\n",
       "        -3324879.54223243, -3349467.09275562, -3354173.59025136,\n",
       "        -3356627.58973597, -3361188.34952139, -4279128.30903031,\n",
       "        -4273959.80974802, -4279770.80479587, -4278002.21787257,\n",
       "        -4281117.91930635, -4279128.30903031, -4273959.80974802,\n",
       "        -4279770.80479587, -4278002.21787257, -4281117.91930635,\n",
       "        -3052944.7884839 , -3080908.68004327, -3091663.66384746,\n",
       "        -3094687.21724539, -3095363.78191522, -4051657.30387556,\n",
       "        -4064930.08026174, -4070684.88814123, -4072100.44139689,\n",
       "        -4071472.29606731, -4051657.30387556, -4064930.08026174,\n",
       "        -4070684.88814123, -4072100.44139689, -4071472.29606731,\n",
       "        -3129417.30013779, -3139719.96275338, -3140855.5309833 ,\n",
       "        -3141187.03952598, -3141383.05165756, -4060524.88788671,\n",
       "        -4063537.27110473, -4065884.60689201, -4065827.51613288,\n",
       "        -4065887.79334226, -4060524.88788671, -4063537.27110473,\n",
       "        -4065884.60689201, -4065827.51613288, -4065887.79334226]),\n",
       " 'split2_test_neg_mean_absolute_error': array([-2462394.27632513, -2532554.081358  , -2554499.06994833,\n",
       "        -2551985.30547395, -2554290.8424705 , -2548168.22907615,\n",
       "        -2497450.41041957, -2475476.79192456, -2481295.65407729,\n",
       "        -2485633.75346934, -2548168.22907615, -2497450.41041957,\n",
       "        -2475476.79192456, -2481295.65407729, -2485633.75346934,\n",
       "        -2621567.17212084, -2616758.3368057 , -2612876.92603593,\n",
       "        -2627268.66242364, -2637512.27605355, -2814474.53960199,\n",
       "        -2759615.43170564, -2737459.06207662, -2730556.83095765,\n",
       "        -2739824.75532024, -2814474.53960199, -2759615.43170564,\n",
       "        -2737459.06207662, -2730556.83095765, -2739824.75532024,\n",
       "        -2702096.9584577 , -2709872.68148332, -2703423.84581894,\n",
       "        -2707752.60557308, -2706680.51359209, -2627311.98084266,\n",
       "        -2630763.55196268, -2630046.05556558, -2633902.92568814,\n",
       "        -2632712.98843042, -2627311.98084266, -2630763.55196268,\n",
       "        -2630046.05556558, -2633902.92568814, -2632712.98843042,\n",
       "        -2594895.72241519, -2620549.68899986, -2622865.89315171,\n",
       "        -2627220.65391347, -2628502.98744016, -3150497.32979938,\n",
       "        -3137940.9859776 , -3144825.24354764, -3141955.80919282,\n",
       "        -3141805.12425241, -3150497.32979938, -3137940.9859776 ,\n",
       "        -3144825.24354764, -3141955.80919282, -3141805.12425241,\n",
       "        -2523858.1516132 , -2543694.62488582, -2546696.25222669,\n",
       "        -2547047.50145541, -2547256.98846991, -2439416.30099424,\n",
       "        -2443498.41020524, -2442489.62522209, -2442590.40567586,\n",
       "        -2442510.03253427, -2439416.30099424, -2443498.41020524,\n",
       "        -2442489.62522209, -2442590.40567586, -2442510.03253427]),\n",
       " 'split3_test_neg_mean_absolute_error': array([-2565430.22426539, -2669923.36855727, -2710831.9288273 ,\n",
       "        -2727537.80373652, -2743244.46391002, -2550952.60239264,\n",
       "        -2539140.88157276, -2572880.0502955 , -2589600.30230463,\n",
       "        -2616934.54229234, -2550952.60239264, -2539140.88157276,\n",
       "        -2572880.0502955 , -2589600.30230463, -2616934.54229234,\n",
       "        -2576938.90151143, -2623865.23182257, -2671376.93794224,\n",
       "        -2675011.2750739 , -2681153.77008183, -2586143.8934087 ,\n",
       "        -2636426.44129489, -2665150.47163647, -2688967.76120783,\n",
       "        -2714802.03573213, -2586143.8934087 , -2636426.44129489,\n",
       "        -2665150.47163647, -2688967.76120783, -2714802.03573213,\n",
       "        -2790274.76085416, -2840309.00539414, -2852815.23115706,\n",
       "        -2856964.96720241, -2859847.67559945, -2684268.29734913,\n",
       "        -2726800.87580986, -2734745.38628344, -2737584.02744519,\n",
       "        -2738277.14190197, -2684268.29734913, -2726800.87580986,\n",
       "        -2734745.38628344, -2737584.02744519, -2738277.14190197,\n",
       "        -2766210.51638445, -2785102.43076218, -2788638.73094694,\n",
       "        -2791723.53514697, -2792713.34578384, -2495967.67795222,\n",
       "        -2531804.39105686, -2545974.56519436, -2548514.21075081,\n",
       "        -2550239.60782206, -2495967.67795222, -2531804.39105686,\n",
       "        -2545974.56519436, -2548514.21075081, -2550239.60782206,\n",
       "        -2910250.62119582, -2929931.1532363 , -2937220.12460508,\n",
       "        -2937782.56424957, -2938309.74119404, -2594431.76224988,\n",
       "        -2632569.41577106, -2640180.76717703, -2640596.89876326,\n",
       "        -2640944.12398506, -2594431.76224988, -2632569.41577106,\n",
       "        -2640180.76717703, -2640596.89876326, -2640944.12398506]),\n",
       " 'split4_test_neg_mean_absolute_error': array([-5965602.89444102, -5941687.4979734 , -5933936.2570014 ,\n",
       "        -5951511.65899329, -5956513.61800684, -6144946.35780897,\n",
       "        -6153686.35932571, -6211831.16768668, -6216176.01809999,\n",
       "        -6222817.28746664, -6144946.35780897, -6153686.35932571,\n",
       "        -6211831.16768668, -6216176.01809999, -6222817.28746664,\n",
       "        -6009483.90103961, -5997220.1894647 , -6017564.95057911,\n",
       "        -6017850.63036123, -6019517.10399587, -5862563.82496256,\n",
       "        -5862069.38181407, -5859700.82709642, -5850748.51587522,\n",
       "        -5849295.65798073, -5862563.82496256, -5862069.38181407,\n",
       "        -5859700.82709642, -5850748.51587522, -5849295.65798073,\n",
       "        -6149815.59623134, -6130683.02242792, -6126826.88918858,\n",
       "        -6126807.55029994, -6127078.00002622, -5727039.34391422,\n",
       "        -5678858.03518393, -5669371.00262826, -5666727.49779311,\n",
       "        -5664433.2584135 , -5727039.34391422, -5678858.03518393,\n",
       "        -5669371.00262826, -5666727.49779311, -5664433.2584135 ,\n",
       "        -6433369.50205746, -6422740.01447276, -6419796.08625269,\n",
       "        -6419712.97161726, -6420344.3829482 , -5740330.01746861,\n",
       "        -5723535.7604611 , -5718159.83563668, -5720285.41396441,\n",
       "        -5720790.81970375, -5740330.01746861, -5723535.7604611 ,\n",
       "        -5718159.83563668, -5720285.41396441, -5720790.81970375,\n",
       "        -6416667.70906537, -6408443.47828809, -6405317.71137185,\n",
       "        -6405208.91085427, -6405184.10121641, -5818359.23667153,\n",
       "        -5806814.67001679, -5804831.5231337 , -5804618.55541314,\n",
       "        -5804665.81710637, -5818359.23667153, -5806814.67001679,\n",
       "        -5804831.5231337 , -5804618.55541314, -5804665.81710637]),\n",
       " 'mean_test_neg_mean_absolute_error': array([-3823066.29813477, -3846793.59715274, -3858629.52484509,\n",
       "        -3867094.94808519, -3877015.59464757, -3917894.33757409,\n",
       "        -3880366.78860495, -3887660.20328136, -3886652.2480986 ,\n",
       "        -3891321.66886356, -3917894.33757409, -3880366.78860495,\n",
       "        -3887660.20328136, -3886652.2480986 , -3891321.66886356,\n",
       "        -3823707.30270901, -3816014.96846968, -3832468.29063885,\n",
       "        -3839268.00696779, -3845994.68644544, -4074217.60305645,\n",
       "        -4050919.63472162, -4053824.34720218, -4054885.84419871,\n",
       "        -4062327.84979503, -4074217.60305645, -4050919.63472162,\n",
       "        -4053824.34720218, -4054885.84419871, -4062327.84979503,\n",
       "        -4035700.00046308, -4049820.11812738, -4052057.05833744,\n",
       "        -4054260.41114783, -4055573.66959002, -4022094.14335776,\n",
       "        -4010951.75117219, -4011045.48119534, -4011862.3618016 ,\n",
       "        -4011508.51936051, -4022094.14335776, -4010951.75117219,\n",
       "        -4011045.48119534, -4011862.3618016 , -4011508.51936051,\n",
       "        -4022133.67067786, -4032604.65106449, -4035061.28571889,\n",
       "        -4036894.58872574, -4037492.81062218, -3966088.35503572,\n",
       "        -3972390.0597878 , -3975534.89731822, -3976445.39646667,\n",
       "        -3976638.11721077, -3966088.35503572, -3972390.0597878 ,\n",
       "        -3975534.89731822, -3976445.39646667, -3976638.11721077,\n",
       "        -4069599.57154288, -4079114.2813574 , -4080810.95174343,\n",
       "        -4080915.97389801, -4081118.03308455, -4026369.16854331,\n",
       "        -4030383.63149914, -4031479.33996498, -4031260.1049382 ,\n",
       "        -4031282.26588648, -4026369.16854331, -4030383.63149914,\n",
       "        -4031479.33996498, -4031260.1049382 , -4031282.26588648]),\n",
       " 'std_test_neg_mean_absolute_error': array([1383674.14533588, 1335700.78506409, 1315291.99826664,\n",
       "        1312779.4853768 , 1310718.30786015, 1329248.1368805 ,\n",
       "        1340225.21182773, 1356952.97430927, 1353373.22485253,\n",
       "        1349079.11329671, 1329248.1368805 , 1340225.21182773,\n",
       "        1356952.97430927, 1353373.22485253, 1349079.11329671,\n",
       "        1482159.98493974, 1459487.18155703, 1452091.52857933,\n",
       "        1446665.43335047, 1443027.18617013, 1277772.99649096,\n",
       "        1263247.07775751, 1262010.4054867 , 1256803.71818406,\n",
       "        1248727.03451998, 1277772.99649096, 1263247.07775751,\n",
       "        1262010.4054867 , 1256803.71818406, 1248727.03451998,\n",
       "        1391882.17915822, 1374430.94010423, 1372582.83316615,\n",
       "        1370769.43232058, 1370082.56238523, 1208467.49883209,\n",
       "        1178385.28372845, 1174020.55420877, 1171893.16053225,\n",
       "        1171256.11023058, 1208467.49883209, 1178385.28372845,\n",
       "        1174020.55420877, 1171893.16053225, 1171256.11023058,\n",
       "        1543249.86933711, 1527073.14423565, 1523587.64916575,\n",
       "        1521681.56213642, 1521302.03210837, 1110233.37967364,\n",
       "        1098428.80737616, 1091606.02246721, 1092186.28386459,\n",
       "        1091871.01113386, 1110233.37967364, 1098428.80737616,\n",
       "        1091606.02246721, 1092186.28386459, 1091871.01113386,\n",
       "        1536971.89344597, 1527254.82906108, 1524493.58891098,\n",
       "        1524160.77119658, 1524025.16858852, 1356753.37232429,\n",
       "        1342370.32016223, 1340252.98245356, 1339851.12070999,\n",
       "        1339764.84592357, 1356753.37232429, 1342370.32016223,\n",
       "        1340252.98245356, 1339851.12070999, 1339764.84592357]),\n",
       " 'rank_test_neg_mean_absolute_error': array([ 2,  7,  8,  9, 10, 19, 11, 15, 13, 17, 19, 11, 15, 13, 17,  3,  1,\n",
       "         4,  5,  6, 70, 58, 61, 64, 67, 70, 58, 61, 64, 67, 54, 57, 60, 63,\n",
       "        66, 39, 31, 33, 37, 35, 39, 31, 33, 37, 35, 41, 52, 53, 55, 56, 21,\n",
       "        23, 25, 27, 29, 21, 23, 25, 27, 29, 69, 72, 73, 74, 75, 42, 44, 50,\n",
       "        46, 48, 42, 44, 50, 46, 48]),\n",
       " 'split0_test_neg_root_mean_squared_error': array([-17613557.07506766, -17596004.53390556, -17576438.84631615,\n",
       "        -17561978.09713348, -17569636.75467042,  -9288534.99579215,\n",
       "         -9326724.21128695,  -9323954.85002977,  -9326080.10032038,\n",
       "         -9324965.02133718,  -9288534.99579215,  -9326724.21128695,\n",
       "         -9323954.85002977,  -9326080.10032038,  -9324965.02133718,\n",
       "        -18593244.52062363, -18555536.51540791, -18545909.41034134,\n",
       "        -18537176.02093355, -18539417.51685034, -11390835.83568253,\n",
       "        -11340863.02080124, -11327473.46589347, -11328106.09883548,\n",
       "        -11321022.92751651, -11390835.83568253, -11340863.02080124,\n",
       "        -11327473.46589347, -11328106.09883548, -11321022.92751651,\n",
       "        -20027367.84201999, -20001482.80737721, -19982524.14906764,\n",
       "        -19983866.6447265 , -19983885.68750568, -10134497.48490114,\n",
       "        -10143534.74508313, -10129590.32410691, -10127297.54506059,\n",
       "        -10121364.29042917, -10134497.48490114, -10143534.74508313,\n",
       "        -10129590.32410691, -10127297.54506059, -10121364.29042917,\n",
       "        -18535025.90949454, -18521572.4474334 , -18517360.29970863,\n",
       "        -18518539.73822582, -18518444.14714875,  -8990178.77029701,\n",
       "         -9013834.61938617,  -9002301.3303521 ,  -8998381.77792311,\n",
       "         -8997467.15361952,  -8990178.77029701,  -9013834.61938617,\n",
       "         -9002301.3303521 ,  -8998381.77792311,  -8997467.15361952,\n",
       "        -19446041.02586745, -19431358.1843794 , -19431788.80210877,\n",
       "        -19431971.08429946, -19431991.08802365, -11733453.02753343,\n",
       "        -11712866.73704887, -11707023.6786528 , -11705430.8330527 ,\n",
       "        -11705009.49989019, -11733453.02753343, -11712866.73704887,\n",
       "        -11707023.6786528 , -11705430.8330527 , -11705009.49989019]),\n",
       " 'split1_test_neg_root_mean_squared_error': array([ -7595443.88458376,  -7665476.83936537,  -7646678.8364781 ,\n",
       "         -7641250.86300641,  -7636713.54771302, -10650903.56096374,\n",
       "        -10675264.95062578, -10708496.46939227, -10742119.45688287,\n",
       "        -10743508.91853457, -10650903.56096374, -10675264.95062578,\n",
       "        -10708496.46939227, -10742119.45688287, -10743508.91853457,\n",
       "         -5320979.58288949,  -5278628.38780496,  -5275839.86441246,\n",
       "         -5291850.55236085,  -5296360.41990507, -10112578.94988445,\n",
       "        -10161407.23362025, -10191179.81550493, -10181712.73447072,\n",
       "        -10183835.84337148, -10112578.94988445, -10161407.23362025,\n",
       "        -10191179.81550493, -10181712.73447072, -10183835.84337148,\n",
       "         -7802689.89995407,  -7795114.58658636,  -7786759.82851786,\n",
       "         -7790547.90239155,  -7792250.04156161, -12266048.88636869,\n",
       "        -12273757.77823093, -12275709.46236684, -12272046.30292848,\n",
       "        -12272253.87171791, -12266048.88636869, -12273757.77823093,\n",
       "        -12275709.46236684, -12272046.30292848, -12272253.87171791,\n",
       "         -6466910.21356463,  -6465878.91351035,  -6468506.99497931,\n",
       "         -6470144.91576447,  -6470697.76626052, -11684779.02677403,\n",
       "        -11703126.0387207 , -11703260.54610924, -11704051.6276042 ,\n",
       "        -11704747.27461285, -11684779.02677403, -11703126.0387207 ,\n",
       "        -11703260.54610924, -11704051.6276042 , -11704747.27461285,\n",
       "         -6765997.76727188,  -6784571.97860954,  -6785241.85355782,\n",
       "         -6786410.04082538,  -6786590.66225785, -10886756.635563  ,\n",
       "        -10882432.48400289, -10884993.57102038, -10885827.42035623,\n",
       "        -10885856.41202367, -10886756.635563  , -10882432.48400289,\n",
       "        -10884993.57102038, -10885827.42035623, -10885856.41202367]),\n",
       " 'split2_test_neg_root_mean_squared_error': array([-5556862.92519641, -5685176.02986803, -5680682.04634116,\n",
       "        -5683185.80992616, -5688827.37248123, -5183775.61934982,\n",
       "        -5138225.03214187, -5119768.38165922, -5132958.76131664,\n",
       "        -5144490.74252359, -5183775.61934982, -5138225.03214187,\n",
       "        -5119768.38165922, -5132958.76131664, -5144490.74252359,\n",
       "        -7489796.18619684, -7470940.21786022, -7454328.15203956,\n",
       "        -7439957.8115974 , -7437626.03181264, -7034659.61202565,\n",
       "        -6920697.84811888, -6922442.19592108, -6908724.23779708,\n",
       "        -6911728.48602818, -7034659.61202565, -6920697.84811888,\n",
       "        -6922442.19592108, -6908724.23779708, -6911728.48602818,\n",
       "        -7892828.36354281, -7870022.78684439, -7851205.85341875,\n",
       "        -7850622.7440146 , -7848295.01438001, -5831838.47358134,\n",
       "        -5815814.17223427, -5824988.79335953, -5822446.82718099,\n",
       "        -5822154.76725172, -5831838.47358134, -5815814.17223427,\n",
       "        -5824988.79335953, -5822446.82718099, -5822154.76725172,\n",
       "        -8008394.00828646, -7988635.33870592, -7983085.30460187,\n",
       "        -7983786.91532324, -7983852.60403531, -7299558.41748611,\n",
       "        -7271838.50286482, -7276077.83441248, -7277404.15515994,\n",
       "        -7277136.19657897, -7299558.41748611, -7271838.50286482,\n",
       "        -7276077.83441248, -7277404.15515994, -7277136.19657897,\n",
       "        -7835899.19620831, -7831286.32044239, -7829797.83412579,\n",
       "        -7829074.27191482, -7829093.89160712, -4740599.73805283,\n",
       "        -4734837.42216744, -4733110.82623852, -4733344.20473755,\n",
       "        -4733351.49033352, -4740599.73805283, -4734837.42216744,\n",
       "        -4733110.82623852, -4733344.20473755, -4733351.49033352]),\n",
       " 'split3_test_neg_root_mean_squared_error': array([-5672940.78222196, -5822813.61720703, -5803367.15749636,\n",
       "        -5796589.62827395, -5798232.78010545, -5639463.1933626 ,\n",
       "        -5643645.36690659, -5660428.16427684, -5654369.08449478,\n",
       "        -5645924.74605311, -5639463.1933626 , -5643645.36690659,\n",
       "        -5660428.16427684, -5654369.08449478, -5645924.74605311,\n",
       "        -5853402.97126574, -5890621.97084259, -5905787.62394385,\n",
       "        -5887284.61250909, -5890219.64462518, -6287555.46518876,\n",
       "        -6277332.66742416, -6254753.60314969, -6246928.97413267,\n",
       "        -6254236.32260884, -6287555.46518876, -6277332.66742416,\n",
       "        -6254753.60314969, -6246928.97413267, -6254236.32260884,\n",
       "        -6644333.9917764 , -6669508.6933016 , -6651650.20378427,\n",
       "        -6647989.32255972, -6646629.40468676, -6063242.00002637,\n",
       "        -6024741.94945747, -6021009.69653907, -6016077.49244088,\n",
       "        -6012711.25909685, -6063242.00002637, -6024741.94945747,\n",
       "        -6021009.69653907, -6016077.49244088, -6012711.25909685,\n",
       "        -6637352.25712697, -6610152.42333169, -6604114.00486263,\n",
       "        -6605593.70222476, -6605841.757471  , -5392696.50963256,\n",
       "        -5366029.66104114, -5361081.9252786 , -5361330.01516989,\n",
       "        -5362205.03052056, -5392696.50963256, -5366029.66104114,\n",
       "        -5361081.9252786 , -5361330.01516989, -5362205.03052056,\n",
       "        -6845262.70899007, -6835974.75983272, -6837623.5095483 ,\n",
       "        -6837161.72355828, -6837346.63540599, -5498055.84654973,\n",
       "        -5475967.10004903, -5475488.0460691 , -5476141.50111418,\n",
       "        -5476319.80794847, -5498055.84654973, -5475967.10004903,\n",
       "        -5475488.0460691 , -5476141.50111418, -5476319.80794847]),\n",
       " 'split4_test_neg_root_mean_squared_error': array([-32389388.6035074 , -32372077.86706586, -32323461.6525925 ,\n",
       "        -32295959.92354874, -32284181.96505858, -33937343.3637734 ,\n",
       "        -33821913.91439634, -33872750.44209214, -33893506.28093842,\n",
       "        -33908881.88612935, -33937343.3637734 , -33821913.91439634,\n",
       "        -33872750.44209214, -33893506.28093842, -33908881.88612935,\n",
       "        -33477153.98173944, -33379783.26287853, -33363356.24320745,\n",
       "        -33348874.72773468, -33345753.17950051, -33094557.89555816,\n",
       "        -33065636.38393182, -33102101.65925276, -33077372.92809857,\n",
       "        -33058492.96488851, -33094557.89555816, -33065636.38393182,\n",
       "        -33102101.65925276, -33077372.92809857, -33058492.96488851,\n",
       "        -33347072.94131349, -33261942.23310748, -33239357.3133891 ,\n",
       "        -33243420.7922417 , -33242112.30787425, -31971799.45331962,\n",
       "        -31866130.40416289, -31847251.45394422, -31842265.10522885,\n",
       "        -31841957.48447382, -31971799.45331962, -31866130.40416289,\n",
       "        -31847251.45394422, -31842265.10522885, -31841957.48447382,\n",
       "        -34508706.37485198, -34515059.44795346, -34510127.23930023,\n",
       "        -34509617.78728006, -34509266.01791821, -32513547.42659655,\n",
       "        -32523117.38140407, -32525729.21207791, -32524834.7942447 ,\n",
       "        -32524982.45533832, -32513547.42659655, -32523117.38140407,\n",
       "        -32525729.21207791, -32524834.7942447 , -32524982.45533832,\n",
       "        -34550754.16752774, -34538751.59109645, -34534315.73599184,\n",
       "        -34534423.62624518, -34534218.92147992, -33198152.4181728 ,\n",
       "        -33185886.12709274, -33183954.69971223, -33183964.78515171,\n",
       "        -33184040.61710121, -33198152.4181728 , -33185886.12709274,\n",
       "        -33183954.69971223, -33183964.78515171, -33184040.61710121]),\n",
       " 'mean_test_neg_root_mean_squared_error': array([-13765638.65411544, -13828309.77748237, -13806125.70784486,\n",
       "        -13795792.86437775, -13795518.48400574, -12940004.14664834,\n",
       "        -12921154.69507151, -12937079.66149005, -12949806.73679062,\n",
       "        -12953554.26291556, -12940004.14664834, -12921154.69507151,\n",
       "        -12937079.66149005, -12949806.73679062, -12953554.26291556,\n",
       "        -14146915.44854303, -14115102.07095884, -14109044.25878893,\n",
       "        -14101028.74502712, -14101875.35853875, -13584037.5516679 ,\n",
       "        -13553187.43077927, -13559590.14794439, -13548568.9946669 ,\n",
       "        -13545863.3088827 , -13584037.5516679 , -13553187.43077927,\n",
       "        -13559590.14794439, -13548568.9946669 , -13545863.3088827 ,\n",
       "        -15142858.60772135, -15119614.22144341, -15102299.46963552,\n",
       "        -15103289.48118682, -15102634.49120166, -13253485.25963943,\n",
       "        -13224795.80983374, -13219709.94606331, -13216026.65456796,\n",
       "        -13214088.33459389, -13253485.25963943, -13224795.80983374,\n",
       "        -13219709.94606331, -13216026.65456796, -13214088.33459389,\n",
       "        -14831277.75266491, -14820259.71418696, -14816638.76869053,\n",
       "        -14817536.61176367, -14817620.45856676, -13176152.03015725,\n",
       "        -13175589.24068338, -13173690.16964607, -13173200.47402037,\n",
       "        -13173307.62213404, -13176152.03015725, -13175589.24068338,\n",
       "        -13173690.16964607, -13173200.47402037, -13173307.62213404,\n",
       "        -15088790.97317309, -15084388.5668721 , -15083753.5470665 ,\n",
       "        -15083808.14936862, -15083848.23975491, -13211403.53317436,\n",
       "        -13198397.97407219, -13196914.16433861, -13196941.74888247,\n",
       "        -13196915.56545941, -13211403.53317436, -13198397.97407219,\n",
       "        -13196914.16433861, -13196941.74888247, -13196915.56545941]),\n",
       " 'std_test_neg_root_mean_squared_error': array([10320829.42073142, 10261052.23224882, 10248051.09789572,\n",
       "        10238362.81154109, 10234066.09014583, 10704377.06574592,\n",
       "        10661536.69365533, 10680670.18158235, 10686162.55975432,\n",
       "        10691675.62476323, 10704377.06574592, 10661536.69365533,\n",
       "        10680670.18158235, 10686162.55975432, 10691675.62476323,\n",
       "        10811333.8118475 , 10776971.98922039, 10770501.08507282,\n",
       "        10766578.44175546, 10764750.02944347,  9936343.03871235,\n",
       "         9940444.62739715,  9956411.59356935,  9950294.92029057,\n",
       "         9941583.66105335,  9936343.03871235,  9940444.62739715,\n",
       "         9956411.59356935,  9950294.92029057,  9941583.66105335,\n",
       "        10333612.97718394, 10301318.95321665, 10298333.96269258,\n",
       "        10300037.49898789, 10299887.89038652,  9673250.13356909,\n",
       "         9639831.77283754,  9632533.05239894,  9631950.95334518,\n",
       "         9632756.7900509 ,  9673250.13356909,  9639831.77283754,\n",
       "         9632533.05239894,  9631950.95334518,  9632756.7900509 ,\n",
       "        10812712.42136191, 10820882.44460863, 10820010.61040579,\n",
       "        10819339.85559907, 10819074.00627087,  9887345.02901755,\n",
       "         9896046.56584918,  9898310.3817048 ,  9898070.4649062 ,\n",
       "         9898078.53211026,  9887345.02901755,  9896046.56584918,\n",
       "         9898310.3817048 ,  9898070.4649062 ,  9898078.53211026,\n",
       "        10840504.81775699, 10834197.37185878, 10832484.57605741,\n",
       "        10832526.20227322, 10832395.84353608, 10376017.55354999,\n",
       "        10376299.7035969 , 10375961.91297697, 10375839.08856639,\n",
       "        10375851.40269256, 10376017.55354999, 10376299.7035969 ,\n",
       "        10375961.91297697, 10375839.08856639, 10375851.40269256]),\n",
       " 'rank_test_neg_root_mean_squared_error': array([51, 55, 54, 53, 52,  5,  1,  3,  7,  9,  5,  1,  3,  7,  9, 60, 59,\n",
       "        58, 56, 57, 49, 45, 47, 43, 41, 49, 45, 47, 43, 41, 75, 74, 71, 73,\n",
       "        72, 39, 37, 35, 33, 31, 39, 37, 35, 33, 31, 65, 64, 61, 62, 63, 19,\n",
       "        17, 15, 11, 13, 19, 17, 15, 11, 13, 70, 69, 66, 67, 68, 29, 27, 21,\n",
       "        25, 23, 29, 27, 21, 25, 23])}"
      ]
     },
     "execution_count": 432,
     "metadata": {},
     "output_type": "execute_result"
    }
   ],
   "source": [
    "CV_xgboost_en.cv_results_"
   ]
  },
  {
   "cell_type": "code",
   "execution_count": 433,
   "metadata": {},
   "outputs": [
    {
     "name": "stdout",
     "output_type": "stream",
     "text": [
      "Score - training data: 99.4 %\n",
      "Score - test data: 83.2 %\n"
     ]
    }
   ],
   "source": [
    "print(f\"Score - training data: {round(CV_xgboost_en.score(X_train,y2_train)*100,1)} %\")\n",
    "print(f\"Score - test data: {round(CV_xgboost_en.score(X_test,y2_test)*100,1)} %\")"
   ]
  },
  {
   "cell_type": "code",
   "execution_count": null,
   "metadata": {},
   "outputs": [],
   "source": []
  },
  {
   "cell_type": "markdown",
   "metadata": {},
   "source": []
  }
 ],
 "metadata": {
  "kernelspec": {
   "display_name": "Python 3.9.12 ('base')",
   "language": "python",
   "name": "python3"
  },
  "language_info": {
   "codemirror_mode": {
    "name": "ipython",
    "version": 3
   },
   "file_extension": ".py",
   "mimetype": "text/x-python",
   "name": "python",
   "nbconvert_exporter": "python",
   "pygments_lexer": "ipython3",
   "version": "3.9.12"
  },
  "orig_nbformat": 4,
  "vscode": {
   "interpreter": {
    "hash": "bd081ec4775106110a6ec263dfd69dc0c4175c1ef4a4b7bd7cc17da957142225"
   }
  }
 },
 "nbformat": 4,
 "nbformat_minor": 2
}
