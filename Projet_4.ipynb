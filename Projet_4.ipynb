{
 "cells": [
  {
   "cell_type": "code",
   "execution_count": 153,
   "metadata": {},
   "outputs": [],
   "source": [
    "%matplotlib inline\n",
    "import pandas as pd\n",
    "import numpy as np\n",
    "import matplotlib.pyplot as plt\n",
    "import seaborn as sns\n",
    "import shap\n",
    "\n",
    "from sklearn.preprocessing import StandardScaler, OneHotEncoder, LabelBinarizer\n",
    "from sklearn.model_selection import train_test_split, GridSearchCV\n",
    "from sklearn.ensemble import RandomForestRegressor\n",
    "from sklearn.linear_model import Ridge\n",
    "from sklearn.neighbors import KNeighborsRegressor\n",
    "from sklearn.tree import DecisionTreeRegressor\n",
    "from sklearn.metrics import mean_absolute_error as m_a_e, mean_squared_error as m_s_e, r2_score as r2\n",
    "from sklearn.pipeline import Pipeline\n",
    "from sklearn.metrics import confusion_matrix\n",
    "from sklearn.dummy import DummyRegressor\n",
    "from sklearn.ensemble import GradientBoostingRegressor\n",
    "\n",
    "from scipy.stats.mstats import winsorize"
   ]
  },
  {
   "cell_type": "code",
   "execution_count": 2,
   "metadata": {},
   "outputs": [],
   "source": [
    "import warnings\n",
    "warnings.filterwarnings('ignore')"
   ]
  },
  {
   "cell_type": "code",
   "execution_count": 3,
   "metadata": {},
   "outputs": [],
   "source": [
    "dataset = \"E:/Formation Data Scientist/Projet_4/2016_Building_Energy_Benchmarking.csv\""
   ]
  },
  {
   "cell_type": "code",
   "execution_count": 4,
   "metadata": {},
   "outputs": [],
   "source": [
    "df = pd.read_csv(dataset)"
   ]
  },
  {
   "cell_type": "markdown",
   "metadata": {},
   "source": [
    "### <a name='C2'> EDA et Choix des features   </a>"
   ]
  },
  {
   "cell_type": "code",
   "execution_count": 5,
   "metadata": {},
   "outputs": [
    {
     "data": {
      "text/html": [
       "<div>\n",
       "<style scoped>\n",
       "    .dataframe tbody tr th:only-of-type {\n",
       "        vertical-align: middle;\n",
       "    }\n",
       "\n",
       "    .dataframe tbody tr th {\n",
       "        vertical-align: top;\n",
       "    }\n",
       "\n",
       "    .dataframe thead th {\n",
       "        text-align: right;\n",
       "    }\n",
       "</style>\n",
       "<table border=\"1\" class=\"dataframe\">\n",
       "  <thead>\n",
       "    <tr style=\"text-align: right;\">\n",
       "      <th></th>\n",
       "      <th>OSEBuildingID</th>\n",
       "      <th>DataYear</th>\n",
       "      <th>BuildingType</th>\n",
       "      <th>PrimaryPropertyType</th>\n",
       "      <th>PropertyName</th>\n",
       "      <th>Address</th>\n",
       "      <th>City</th>\n",
       "      <th>State</th>\n",
       "      <th>ZipCode</th>\n",
       "      <th>TaxParcelIdentificationNumber</th>\n",
       "      <th>...</th>\n",
       "      <th>Electricity(kWh)</th>\n",
       "      <th>Electricity(kBtu)</th>\n",
       "      <th>NaturalGas(therms)</th>\n",
       "      <th>NaturalGas(kBtu)</th>\n",
       "      <th>DefaultData</th>\n",
       "      <th>Comments</th>\n",
       "      <th>ComplianceStatus</th>\n",
       "      <th>Outlier</th>\n",
       "      <th>TotalGHGEmissions</th>\n",
       "      <th>GHGEmissionsIntensity</th>\n",
       "    </tr>\n",
       "  </thead>\n",
       "  <tbody>\n",
       "    <tr>\n",
       "      <th>0</th>\n",
       "      <td>1</td>\n",
       "      <td>2016</td>\n",
       "      <td>NonResidential</td>\n",
       "      <td>Hotel</td>\n",
       "      <td>Mayflower park hotel</td>\n",
       "      <td>405 Olive way</td>\n",
       "      <td>Seattle</td>\n",
       "      <td>WA</td>\n",
       "      <td>98101.0</td>\n",
       "      <td>0659000030</td>\n",
       "      <td>...</td>\n",
       "      <td>1.156514e+06</td>\n",
       "      <td>3946027.0</td>\n",
       "      <td>12764.52930</td>\n",
       "      <td>1276453.0</td>\n",
       "      <td>False</td>\n",
       "      <td>NaN</td>\n",
       "      <td>Compliant</td>\n",
       "      <td>NaN</td>\n",
       "      <td>249.98</td>\n",
       "      <td>2.83</td>\n",
       "    </tr>\n",
       "    <tr>\n",
       "      <th>1</th>\n",
       "      <td>2</td>\n",
       "      <td>2016</td>\n",
       "      <td>NonResidential</td>\n",
       "      <td>Hotel</td>\n",
       "      <td>Paramount Hotel</td>\n",
       "      <td>724 Pine street</td>\n",
       "      <td>Seattle</td>\n",
       "      <td>WA</td>\n",
       "      <td>98101.0</td>\n",
       "      <td>0659000220</td>\n",
       "      <td>...</td>\n",
       "      <td>9.504252e+05</td>\n",
       "      <td>3242851.0</td>\n",
       "      <td>51450.81641</td>\n",
       "      <td>5145082.0</td>\n",
       "      <td>False</td>\n",
       "      <td>NaN</td>\n",
       "      <td>Compliant</td>\n",
       "      <td>NaN</td>\n",
       "      <td>295.86</td>\n",
       "      <td>2.86</td>\n",
       "    </tr>\n",
       "    <tr>\n",
       "      <th>2</th>\n",
       "      <td>3</td>\n",
       "      <td>2016</td>\n",
       "      <td>NonResidential</td>\n",
       "      <td>Hotel</td>\n",
       "      <td>5673-The Westin Seattle</td>\n",
       "      <td>1900 5th Avenue</td>\n",
       "      <td>Seattle</td>\n",
       "      <td>WA</td>\n",
       "      <td>98101.0</td>\n",
       "      <td>0659000475</td>\n",
       "      <td>...</td>\n",
       "      <td>1.451544e+07</td>\n",
       "      <td>49526664.0</td>\n",
       "      <td>14938.00000</td>\n",
       "      <td>1493800.0</td>\n",
       "      <td>False</td>\n",
       "      <td>NaN</td>\n",
       "      <td>Compliant</td>\n",
       "      <td>NaN</td>\n",
       "      <td>2089.28</td>\n",
       "      <td>2.19</td>\n",
       "    </tr>\n",
       "  </tbody>\n",
       "</table>\n",
       "<p>3 rows × 46 columns</p>\n",
       "</div>"
      ],
      "text/plain": [
       "   OSEBuildingID  DataYear    BuildingType PrimaryPropertyType  \\\n",
       "0              1      2016  NonResidential               Hotel   \n",
       "1              2      2016  NonResidential               Hotel   \n",
       "2              3      2016  NonResidential               Hotel   \n",
       "\n",
       "              PropertyName          Address     City State  ZipCode  \\\n",
       "0     Mayflower park hotel    405 Olive way  Seattle    WA  98101.0   \n",
       "1          Paramount Hotel  724 Pine street  Seattle    WA  98101.0   \n",
       "2  5673-The Westin Seattle  1900 5th Avenue  Seattle    WA  98101.0   \n",
       "\n",
       "  TaxParcelIdentificationNumber  ...  Electricity(kWh) Electricity(kBtu)  \\\n",
       "0                    0659000030  ...      1.156514e+06         3946027.0   \n",
       "1                    0659000220  ...      9.504252e+05         3242851.0   \n",
       "2                    0659000475  ...      1.451544e+07        49526664.0   \n",
       "\n",
       "   NaturalGas(therms)  NaturalGas(kBtu)  DefaultData  Comments  \\\n",
       "0         12764.52930         1276453.0        False       NaN   \n",
       "1         51450.81641         5145082.0        False       NaN   \n",
       "2         14938.00000         1493800.0        False       NaN   \n",
       "\n",
       "   ComplianceStatus  Outlier  TotalGHGEmissions  GHGEmissionsIntensity  \n",
       "0         Compliant      NaN             249.98                   2.83  \n",
       "1         Compliant      NaN             295.86                   2.86  \n",
       "2         Compliant      NaN            2089.28                   2.19  \n",
       "\n",
       "[3 rows x 46 columns]"
      ]
     },
     "execution_count": 5,
     "metadata": {},
     "output_type": "execute_result"
    }
   ],
   "source": [
    "df.head(3)"
   ]
  },
  {
   "cell_type": "code",
   "execution_count": 6,
   "metadata": {},
   "outputs": [
    {
     "name": "stdout",
     "output_type": "stream",
     "text": [
      "<class 'pandas.core.frame.DataFrame'>\n",
      "RangeIndex: 3376 entries, 0 to 3375\n",
      "Data columns (total 46 columns):\n",
      " #   Column                           Non-Null Count  Dtype  \n",
      "---  ------                           --------------  -----  \n",
      " 0   OSEBuildingID                    3376 non-null   int64  \n",
      " 1   DataYear                         3376 non-null   int64  \n",
      " 2   BuildingType                     3376 non-null   object \n",
      " 3   PrimaryPropertyType              3376 non-null   object \n",
      " 4   PropertyName                     3376 non-null   object \n",
      " 5   Address                          3376 non-null   object \n",
      " 6   City                             3376 non-null   object \n",
      " 7   State                            3376 non-null   object \n",
      " 8   ZipCode                          3360 non-null   float64\n",
      " 9   TaxParcelIdentificationNumber    3376 non-null   object \n",
      " 10  CouncilDistrictCode              3376 non-null   int64  \n",
      " 11  Neighborhood                     3376 non-null   object \n",
      " 12  Latitude                         3376 non-null   float64\n",
      " 13  Longitude                        3376 non-null   float64\n",
      " 14  YearBuilt                        3376 non-null   int64  \n",
      " 15  NumberofBuildings                3368 non-null   float64\n",
      " 16  NumberofFloors                   3376 non-null   int64  \n",
      " 17  PropertyGFATotal                 3376 non-null   int64  \n",
      " 18  PropertyGFAParking               3376 non-null   int64  \n",
      " 19  PropertyGFABuilding(s)           3376 non-null   int64  \n",
      " 20  ListOfAllPropertyUseTypes        3367 non-null   object \n",
      " 21  LargestPropertyUseType           3356 non-null   object \n",
      " 22  LargestPropertyUseTypeGFA        3356 non-null   float64\n",
      " 23  SecondLargestPropertyUseType     1679 non-null   object \n",
      " 24  SecondLargestPropertyUseTypeGFA  1679 non-null   float64\n",
      " 25  ThirdLargestPropertyUseType      596 non-null    object \n",
      " 26  ThirdLargestPropertyUseTypeGFA   596 non-null    float64\n",
      " 27  YearsENERGYSTARCertified         119 non-null    object \n",
      " 28  ENERGYSTARScore                  2533 non-null   float64\n",
      " 29  SiteEUI(kBtu/sf)                 3369 non-null   float64\n",
      " 30  SiteEUIWN(kBtu/sf)               3370 non-null   float64\n",
      " 31  SourceEUI(kBtu/sf)               3367 non-null   float64\n",
      " 32  SourceEUIWN(kBtu/sf)             3367 non-null   float64\n",
      " 33  SiteEnergyUse(kBtu)              3371 non-null   float64\n",
      " 34  SiteEnergyUseWN(kBtu)            3370 non-null   float64\n",
      " 35  SteamUse(kBtu)                   3367 non-null   float64\n",
      " 36  Electricity(kWh)                 3367 non-null   float64\n",
      " 37  Electricity(kBtu)                3367 non-null   float64\n",
      " 38  NaturalGas(therms)               3367 non-null   float64\n",
      " 39  NaturalGas(kBtu)                 3367 non-null   float64\n",
      " 40  DefaultData                      3376 non-null   bool   \n",
      " 41  Comments                         0 non-null      float64\n",
      " 42  ComplianceStatus                 3376 non-null   object \n",
      " 43  Outlier                          32 non-null     object \n",
      " 44  TotalGHGEmissions                3367 non-null   float64\n",
      " 45  GHGEmissionsIntensity            3367 non-null   float64\n",
      "dtypes: bool(1), float64(22), int64(8), object(15)\n",
      "memory usage: 1.2+ MB\n"
     ]
    }
   ],
   "source": [
    "df.info()"
   ]
  },
  {
   "cell_type": "markdown",
   "metadata": {},
   "source": []
  },
  {
   "cell_type": "code",
   "execution_count": 7,
   "metadata": {},
   "outputs": [
    {
     "data": {
      "text/plain": [
       "(3376, 46)"
      ]
     },
     "execution_count": 7,
     "metadata": {},
     "output_type": "execute_result"
    }
   ],
   "source": [
    "df.shape"
   ]
  },
  {
   "cell_type": "markdown",
   "metadata": {},
   "source": []
  },
  {
   "cell_type": "markdown",
   "metadata": {},
   "source": [
    "- Exploration des valeurs nulles"
   ]
  },
  {
   "cell_type": "code",
   "execution_count": 8,
   "metadata": {},
   "outputs": [
    {
     "data": {
      "image/png": "[encoded data removed]",
      "text/plain": [
       "<Figure size 1152x864 with 1 Axes>"
      ]
     },
     "metadata": {
      "needs_background": "light"
     },
     "output_type": "display_data"
    }
   ],
   "source": [
    "plt.figure(figsize=(16,12))\n",
    "sns.heatmap(df.isna(),cbar=False)\n",
    "plt.show()"
   ]
  },
  {
   "cell_type": "markdown",
   "metadata": {},
   "source": []
  },
  {
   "cell_type": "markdown",
   "metadata": {},
   "source": [
    "- Typologie des variables"
   ]
  },
  {
   "cell_type": "code",
   "execution_count": 9,
   "metadata": {},
   "outputs": [
    {
     "data": {
      "text/plain": [
       "float64    22\n",
       "object     15\n",
       "int64       8\n",
       "bool        1\n",
       "dtype: int64"
      ]
     },
     "execution_count": 9,
     "metadata": {},
     "output_type": "execute_result"
    }
   ],
   "source": [
    "df.dtypes.value_counts()"
   ]
  },
  {
   "cell_type": "markdown",
   "metadata": {},
   "source": []
  },
  {
   "cell_type": "markdown",
   "metadata": {},
   "source": [
    "- Nombre de variables différentes par Feature"
   ]
  },
  {
   "cell_type": "code",
   "execution_count": 10,
   "metadata": {},
   "outputs": [
    {
     "data": {
      "text/plain": [
       "OSEBuildingID                      3376\n",
       "DataYear                              1\n",
       "BuildingType                          8\n",
       "PrimaryPropertyType                  24\n",
       "PropertyName                       3362\n",
       "Address                            3354\n",
       "City                                  1\n",
       "State                                 1\n",
       "ZipCode                              55\n",
       "TaxParcelIdentificationNumber      3268\n",
       "CouncilDistrictCode                   7\n",
       "Neighborhood                         19\n",
       "Latitude                           2876\n",
       "Longitude                          2656\n",
       "YearBuilt                           113\n",
       "NumberofBuildings                    17\n",
       "NumberofFloors                       50\n",
       "PropertyGFATotal                   3195\n",
       "PropertyGFAParking                  496\n",
       "PropertyGFABuilding(s)             3193\n",
       "ListOfAllPropertyUseTypes           466\n",
       "LargestPropertyUseType               56\n",
       "LargestPropertyUseTypeGFA          3122\n",
       "SecondLargestPropertyUseType         50\n",
       "SecondLargestPropertyUseTypeGFA    1352\n",
       "ThirdLargestPropertyUseType          44\n",
       "ThirdLargestPropertyUseTypeGFA      501\n",
       "YearsENERGYSTARCertified             65\n",
       "ENERGYSTARScore                     100\n",
       "SiteEUI(kBtu/sf)                   1085\n",
       "SiteEUIWN(kBtu/sf)                 1105\n",
       "SourceEUI(kBtu/sf)                 1648\n",
       "SourceEUIWN(kBtu/sf)               1694\n",
       "SiteEnergyUse(kBtu)                3354\n",
       "SiteEnergyUseWN(kBtu)              3341\n",
       "SteamUse(kBtu)                      131\n",
       "Electricity(kWh)                   3352\n",
       "Electricity(kBtu)                  3351\n",
       "NaturalGas(therms)                 2109\n",
       "NaturalGas(kBtu)                   2109\n",
       "DefaultData                           2\n",
       "Comments                              0\n",
       "ComplianceStatus                      4\n",
       "Outlier                               2\n",
       "TotalGHGEmissions                  2818\n",
       "GHGEmissionsIntensity               511\n",
       "dtype: int64"
      ]
     },
     "execution_count": 10,
     "metadata": {},
     "output_type": "execute_result"
    }
   ],
   "source": [
    "df.nunique()"
   ]
  },
  {
   "cell_type": "code",
   "execution_count": 11,
   "metadata": {},
   "outputs": [
    {
     "data": {
      "text/plain": [
       "Low outlier     23\n",
       "High outlier     9\n",
       "Name: Outlier, dtype: int64"
      ]
     },
     "execution_count": 11,
     "metadata": {},
     "output_type": "execute_result"
    }
   ],
   "source": [
    "df['Outlier'].value_counts()"
   ]
  },
  {
   "cell_type": "code",
   "execution_count": 12,
   "metadata": {},
   "outputs": [
    {
     "data": {
      "text/plain": [
       "Compliant                       3211\n",
       "Error - Correct Default Data     113\n",
       "Non-Compliant                     37\n",
       "Missing Data                      15\n",
       "Name: ComplianceStatus, dtype: int64"
      ]
     },
     "execution_count": 12,
     "metadata": {},
     "output_type": "execute_result"
    }
   ],
   "source": [
    "df['ComplianceStatus'].value_counts()"
   ]
  },
  {
   "cell_type": "markdown",
   "metadata": {},
   "source": [
    "On a 8 types de buiding, seuls les buildings résidentiels nous interressent dans le cadre de notre étude"
   ]
  },
  {
   "cell_type": "code",
   "execution_count": 13,
   "metadata": {},
   "outputs": [
    {
     "data": {
      "text/plain": [
       "NonResidential          1460\n",
       "Multifamily LR (1-4)    1018\n",
       "Multifamily MR (5-9)     580\n",
       "Multifamily HR (10+)     110\n",
       "SPS-District K-12         98\n",
       "Nonresidential COS        85\n",
       "Campus                    24\n",
       "Nonresidential WA          1\n",
       "Name: BuildingType, dtype: int64"
      ]
     },
     "execution_count": 13,
     "metadata": {},
     "output_type": "execute_result"
    }
   ],
   "source": [
    "df.iloc[:,2].value_counts()"
   ]
  },
  {
   "cell_type": "markdown",
   "metadata": {},
   "source": [
    "Ici ce sont les buildings de type Multifamily qui nous interressent (rajouter Campus??)"
   ]
  },
  {
   "cell_type": "code",
   "execution_count": 14,
   "metadata": {},
   "outputs": [
    {
     "data": {
      "text/plain": [
       "Low-Rise Multifamily           987\n",
       "Mid-Rise Multifamily           564\n",
       "Small- and Mid-Sized Office    293\n",
       "Other                          256\n",
       "Warehouse                      187\n",
       "Large Office                   173\n",
       "K-12 School                    139\n",
       "Mixed Use Property             133\n",
       "High-Rise Multifamily          105\n",
       "Retail Store                    91\n",
       "Hotel                           77\n",
       "Worship Facility                71\n",
       "Distribution Center             53\n",
       "Senior Care Community           45\n",
       "Supermarket / Grocery Store     40\n",
       "Medical Office                  39\n",
       "Self-Storage Facility           28\n",
       "University                      25\n",
       "Residence Hall                  23\n",
       "Refrigerated Warehouse          12\n",
       "Restaurant                      12\n",
       "Hospital                        10\n",
       "Laboratory                      10\n",
       "Office                           3\n",
       "Name: PrimaryPropertyType, dtype: int64"
      ]
     },
     "execution_count": 14,
     "metadata": {},
     "output_type": "execute_result"
    }
   ],
   "source": [
    "df.iloc[:,3].value_counts()"
   ]
  },
  {
   "cell_type": "code",
   "execution_count": null,
   "metadata": {},
   "outputs": [],
   "source": []
  },
  {
   "cell_type": "markdown",
   "metadata": {},
   "source": [
    "- Nombre de valeures nulles par feature"
   ]
  },
  {
   "cell_type": "code",
   "execution_count": 15,
   "metadata": {},
   "outputs": [
    {
     "data": {
      "text/plain": [
       "OSEBuildingID                         0\n",
       "DataYear                              0\n",
       "BuildingType                          0\n",
       "PrimaryPropertyType                   0\n",
       "PropertyName                          0\n",
       "Address                               0\n",
       "City                                  0\n",
       "State                                 0\n",
       "ZipCode                              16\n",
       "TaxParcelIdentificationNumber         0\n",
       "CouncilDistrictCode                   0\n",
       "Neighborhood                          0\n",
       "Latitude                              0\n",
       "Longitude                             0\n",
       "YearBuilt                             0\n",
       "NumberofBuildings                     8\n",
       "NumberofFloors                        0\n",
       "PropertyGFATotal                      0\n",
       "PropertyGFAParking                    0\n",
       "PropertyGFABuilding(s)                0\n",
       "ListOfAllPropertyUseTypes             9\n",
       "LargestPropertyUseType               20\n",
       "LargestPropertyUseTypeGFA            20\n",
       "SecondLargestPropertyUseType       1697\n",
       "SecondLargestPropertyUseTypeGFA    1697\n",
       "ThirdLargestPropertyUseType        2780\n",
       "ThirdLargestPropertyUseTypeGFA     2780\n",
       "YearsENERGYSTARCertified           3257\n",
       "ENERGYSTARScore                     843\n",
       "SiteEUI(kBtu/sf)                      7\n",
       "SiteEUIWN(kBtu/sf)                    6\n",
       "SourceEUI(kBtu/sf)                    9\n",
       "SourceEUIWN(kBtu/sf)                  9\n",
       "SiteEnergyUse(kBtu)                   5\n",
       "SiteEnergyUseWN(kBtu)                 6\n",
       "SteamUse(kBtu)                        9\n",
       "Electricity(kWh)                      9\n",
       "Electricity(kBtu)                     9\n",
       "NaturalGas(therms)                    9\n",
       "NaturalGas(kBtu)                      9\n",
       "DefaultData                           0\n",
       "Comments                           3376\n",
       "ComplianceStatus                      0\n",
       "Outlier                            3344\n",
       "TotalGHGEmissions                     9\n",
       "GHGEmissionsIntensity                 9\n",
       "dtype: int64"
      ]
     },
     "execution_count": 15,
     "metadata": {},
     "output_type": "execute_result"
    }
   ],
   "source": [
    "df.isna().sum()"
   ]
  },
  {
   "cell_type": "markdown",
   "metadata": {},
   "source": []
  },
  {
   "cell_type": "code",
   "execution_count": 16,
   "metadata": {},
   "outputs": [],
   "source": [
    "building_type = ['NonResidential','NonResidential COS','NonResidential WA'] # Réflechir sur rajouter ou non Campus comme building résidentiel,'Campus','SPS-District K-12',\n",
    "\n",
    "nonResidential = df[df['BuildingType'].isin(building_type)].reset_index(drop=True)"
   ]
  },
  {
   "cell_type": "markdown",
   "metadata": {},
   "source": [
    "- Nos deux targets sont **TotalGHGEmissions** et **SiteEnergyUse(kBtu)**"
   ]
  },
  {
   "cell_type": "code",
   "execution_count": 17,
   "metadata": {},
   "outputs": [],
   "source": [
    "compliant = ['Compliant']\n",
    "\n",
    "nonResidential = nonResidential[nonResidential['ComplianceStatus'].isin(compliant)].reset_index(drop=True)"
   ]
  },
  {
   "cell_type": "code",
   "execution_count": 18,
   "metadata": {},
   "outputs": [
    {
     "data": {
      "text/plain": [
       "(1432, 46)"
      ]
     },
     "execution_count": 18,
     "metadata": {},
     "output_type": "execute_result"
    }
   ],
   "source": [
    "nonResidential.shape"
   ]
  },
  {
   "cell_type": "code",
   "execution_count": 19,
   "metadata": {},
   "outputs": [
    {
     "data": {
      "text/plain": [
       "Small- and Mid-Sized Office    282\n",
       "Other                          181\n",
       "Warehouse                      178\n",
       "Large Office                   164\n",
       "Mixed Use Property             101\n",
       "Retail Store                    85\n",
       "Hotel                           75\n",
       "Worship Facility                69\n",
       "Distribution Center             51\n",
       "Supermarket / Grocery Store     40\n",
       "Medical Office                  38\n",
       "K-12 School                     38\n",
       "Self-Storage Facility           28\n",
       "Residence Hall                  21\n",
       "Senior Care Community           20\n",
       "University                      17\n",
       "Refrigerated Warehouse          12\n",
       "Restaurant                      11\n",
       "Hospital                        10\n",
       "Laboratory                      10\n",
       "Low-Rise Multifamily             1\n",
       "Name: PrimaryPropertyType, dtype: int64"
      ]
     },
     "execution_count": 19,
     "metadata": {},
     "output_type": "execute_result"
    }
   ],
   "source": [
    "nonResidential.iloc[:,3].value_counts()"
   ]
  },
  {
   "cell_type": "markdown",
   "metadata": {},
   "source": [
    "- Nettoyage et choix des features à utiliser"
   ]
  },
  {
   "cell_type": "code",
   "execution_count": 20,
   "metadata": {},
   "outputs": [],
   "source": [
    "nonResidential = nonResidential.drop(nonResidential[nonResidential['PrimaryPropertyType'] == 'Low-Rise Multifamily'].index)"
   ]
  },
  {
   "cell_type": "code",
   "execution_count": 21,
   "metadata": {},
   "outputs": [],
   "source": [
    "nonResidential = nonResidential.drop(nonResidential[nonResidential['PrimaryPropertyType'] == 'Residence Hall'].index)"
   ]
  },
  {
   "cell_type": "code",
   "execution_count": 22,
   "metadata": {},
   "outputs": [
    {
     "data": {
      "text/plain": [
       "Small- and Mid-Sized Office    282\n",
       "Other                          181\n",
       "Warehouse                      178\n",
       "Large Office                   164\n",
       "Mixed Use Property             101\n",
       "Retail Store                    85\n",
       "Hotel                           75\n",
       "Worship Facility                69\n",
       "Distribution Center             51\n",
       "Supermarket / Grocery Store     40\n",
       "K-12 School                     38\n",
       "Medical Office                  38\n",
       "Self-Storage Facility           28\n",
       "Senior Care Community           20\n",
       "University                      17\n",
       "Refrigerated Warehouse          12\n",
       "Restaurant                      11\n",
       "Hospital                        10\n",
       "Laboratory                      10\n",
       "Name: PrimaryPropertyType, dtype: int64"
      ]
     },
     "execution_count": 22,
     "metadata": {},
     "output_type": "execute_result"
    }
   ],
   "source": [
    "nonResidential.iloc[:,3].value_counts()"
   ]
  },
  {
   "cell_type": "code",
   "execution_count": 23,
   "metadata": {},
   "outputs": [
    {
     "data": {
      "text/plain": [
       "OSEBuildingID                         0\n",
       "DataYear                              0\n",
       "BuildingType                          0\n",
       "PrimaryPropertyType                   0\n",
       "PropertyName                          0\n",
       "Address                               0\n",
       "City                                  0\n",
       "State                                 0\n",
       "ZipCode                               0\n",
       "TaxParcelIdentificationNumber         0\n",
       "CouncilDistrictCode                   0\n",
       "Neighborhood                          0\n",
       "Latitude                              0\n",
       "Longitude                             0\n",
       "YearBuilt                             0\n",
       "NumberofBuildings                     0\n",
       "NumberofFloors                        0\n",
       "PropertyGFATotal                      0\n",
       "PropertyGFAParking                    0\n",
       "PropertyGFABuilding(s)                0\n",
       "ListOfAllPropertyUseTypes             0\n",
       "LargestPropertyUseType                4\n",
       "LargestPropertyUseTypeGFA             4\n",
       "SecondLargestPropertyUseType        633\n",
       "SecondLargestPropertyUseTypeGFA     633\n",
       "ThirdLargestPropertyUseType        1102\n",
       "ThirdLargestPropertyUseTypeGFA     1102\n",
       "YearsENERGYSTARCertified           1320\n",
       "ENERGYSTARScore                     454\n",
       "SiteEUI(kBtu/sf)                      0\n",
       "SiteEUIWN(kBtu/sf)                    1\n",
       "SourceEUI(kBtu/sf)                    0\n",
       "SourceEUIWN(kBtu/sf)                  0\n",
       "SiteEnergyUse(kBtu)                   0\n",
       "SiteEnergyUseWN(kBtu)                 1\n",
       "SteamUse(kBtu)                        0\n",
       "Electricity(kWh)                      0\n",
       "Electricity(kBtu)                     0\n",
       "NaturalGas(therms)                    0\n",
       "NaturalGas(kBtu)                      0\n",
       "DefaultData                           0\n",
       "Comments                           1410\n",
       "ComplianceStatus                      0\n",
       "Outlier                            1410\n",
       "TotalGHGEmissions                     0\n",
       "GHGEmissionsIntensity                 0\n",
       "dtype: int64"
      ]
     },
     "execution_count": 23,
     "metadata": {},
     "output_type": "execute_result"
    }
   ],
   "source": [
    "nonResidential.isna().sum()"
   ]
  },
  {
   "cell_type": "code",
   "execution_count": 24,
   "metadata": {},
   "outputs": [
    {
     "data": {
      "text/plain": [
       "Compliant    1410\n",
       "Name: ComplianceStatus, dtype: int64"
      ]
     },
     "execution_count": 24,
     "metadata": {},
     "output_type": "execute_result"
    }
   ],
   "source": [
    "nonResidential['ComplianceStatus'].value_counts()"
   ]
  },
  {
   "cell_type": "code",
   "execution_count": 25,
   "metadata": {},
   "outputs": [
    {
     "data": {
      "text/plain": [
       "Series([], Name: Outlier, dtype: int64)"
      ]
     },
     "execution_count": 25,
     "metadata": {},
     "output_type": "execute_result"
    }
   ],
   "source": [
    "nonResidential['Outlier'].value_counts()"
   ]
  },
  {
   "cell_type": "code",
   "execution_count": 26,
   "metadata": {},
   "outputs": [],
   "source": [
    "nonResidential = nonResidential[nonResidential.Outlier.isnull()]"
   ]
  },
  {
   "cell_type": "code",
   "execution_count": 27,
   "metadata": {},
   "outputs": [],
   "source": [
    "nonResidential = nonResidential[['PrimaryPropertyType','Latitude','Longitude','YearBuilt','NumberofBuildings','NumberofFloors'\\\n",
    "            ,'PropertyGFABuilding(s)','PropertyGFAParking','LargestPropertyUseTypeGFA','SteamUse(kBtu)','Electricity(kBtu)','NaturalGas(kBtu)','TotalGHGEmissions']]"
   ]
  },
  {
   "cell_type": "code",
   "execution_count": 28,
   "metadata": {},
   "outputs": [
    {
     "data": {
      "image/png": "[encoded data removed]",
      "text/plain": [
       "<Figure size 432x288 with 1 Axes>"
      ]
     },
     "metadata": {
      "needs_background": "light"
     },
     "output_type": "display_data"
    }
   ],
   "source": [
    "plt.scatter(nonResidential['Electricity(kBtu)'],nonResidential['NaturalGas(kBtu)'])\n",
    "plt.xlabel('Electricity')\n",
    "plt.ylabel('Natural Gas')\n",
    "plt.show()"
   ]
  },
  {
   "cell_type": "code",
   "execution_count": 29,
   "metadata": {},
   "outputs": [
    {
     "data": {
      "text/plain": [
       "PrimaryPropertyType          0\n",
       "Latitude                     0\n",
       "Longitude                    0\n",
       "YearBuilt                    0\n",
       "NumberofBuildings            0\n",
       "NumberofFloors               0\n",
       "PropertyGFABuilding(s)       0\n",
       "PropertyGFAParking           0\n",
       "LargestPropertyUseTypeGFA    4\n",
       "SteamUse(kBtu)               0\n",
       "Electricity(kBtu)            0\n",
       "NaturalGas(kBtu)             0\n",
       "TotalGHGEmissions            0\n",
       "dtype: int64"
      ]
     },
     "execution_count": 29,
     "metadata": {},
     "output_type": "execute_result"
    }
   ],
   "source": [
    "nonResidential.isna().sum()"
   ]
  },
  {
   "cell_type": "code",
   "execution_count": 30,
   "metadata": {},
   "outputs": [],
   "source": [
    "nonResidential = nonResidential.dropna(axis=0) "
   ]
  },
  {
   "cell_type": "code",
   "execution_count": 31,
   "metadata": {},
   "outputs": [
    {
     "data": {
      "text/plain": [
       "1.0    1329\n",
       "0.0      44\n",
       "2.0      11\n",
       "3.0      10\n",
       "6.0       4\n",
       "5.0       3\n",
       "4.0       2\n",
       "9.0       1\n",
       "7.0       1\n",
       "8.0       1\n",
       "Name: NumberofBuildings, dtype: int64"
      ]
     },
     "execution_count": 31,
     "metadata": {},
     "output_type": "execute_result"
    }
   ],
   "source": [
    "nonResidential['NumberofBuildings'].value_counts()"
   ]
  },
  {
   "cell_type": "markdown",
   "metadata": {},
   "source": [
    "- Calcul de l'age des batiments"
   ]
  },
  {
   "cell_type": "code",
   "execution_count": 32,
   "metadata": {},
   "outputs": [],
   "source": [
    "df1 = nonResidential.copy()"
   ]
  },
  {
   "cell_type": "code",
   "execution_count": 33,
   "metadata": {},
   "outputs": [],
   "source": [
    "def fill_date(data):\n",
    "    if data<= 1920:\n",
    "        return \"_1920\"\n",
    "    elif 1920<data<=1940:\n",
    "        return \"1920_1940\"\n",
    "    elif 1940<data<=1960:\n",
    "        return \"1940_1960\"\n",
    "    elif 1960<data<=1980:\n",
    "        return \"1960_1980\"\n",
    "    elif 1980<data<=2000:\n",
    "        return \"1980_2000\"\n",
    "    elif data>2000:\n",
    "        return \"2000_\""
   ]
  },
  {
   "cell_type": "code",
   "execution_count": 34,
   "metadata": {},
   "outputs": [],
   "source": [
    "df1['YearBuilt'] = df1['YearBuilt'].apply(fill_date)"
   ]
  },
  {
   "cell_type": "code",
   "execution_count": 35,
   "metadata": {},
   "outputs": [],
   "source": [
    "df1['SteamUse(kBtu)'] = df1['SteamUse(kBtu)'].apply(lambda x : 1 if x > 0 else 0 )\n",
    "df1['Electricity(kBtu)'] = df1['Electricity(kBtu)'].apply(lambda x : 1 if x > 0 else 0 )\n",
    "df1['NaturalGas(kBtu)'] = df1['NaturalGas(kBtu)'].apply(lambda x : 1 if x > 0 else 0 )"
   ]
  },
  {
   "cell_type": "code",
   "execution_count": 36,
   "metadata": {},
   "outputs": [],
   "source": [
    "df2_code = pd.get_dummies(df1 ,columns=['PrimaryPropertyType','YearBuilt'])"
   ]
  },
  {
   "cell_type": "code",
   "execution_count": 115,
   "metadata": {},
   "outputs": [],
   "source": [
    "train, test = train_test_split(df2_code, test_size=0.3, random_state=10) "
   ]
  },
  {
   "cell_type": "code",
   "execution_count": 78,
   "metadata": {},
   "outputs": [],
   "source": [
    "X_train, y_train, X_test, y_test = train.drop(columns = \"TotalGHGEmissions\"), train[\"TotalGHGEmissions\"],test.drop(columns = \"TotalGHGEmissions\") ,test[\"TotalGHGEmissions\"]"
   ]
  },
  {
   "cell_type": "code",
   "execution_count": 79,
   "metadata": {},
   "outputs": [],
   "source": [
    "r_forest = RandomForestRegressor(random_state=0)"
   ]
  },
  {
   "cell_type": "code",
   "execution_count": 80,
   "metadata": {},
   "outputs": [
    {
     "data": {
      "text/plain": [
       "RandomForestRegressor(random_state=0)"
      ]
     },
     "execution_count": 80,
     "metadata": {},
     "output_type": "execute_result"
    }
   ],
   "source": [
    "# entrainement du modèle\n",
    "r_forest.fit(X_train, y_train)"
   ]
  },
  {
   "cell_type": "code",
   "execution_count": 81,
   "metadata": {},
   "outputs": [
    {
     "name": "stdout",
     "output_type": "stream",
     "text": [
      "316.6531540736589\n"
     ]
    }
   ],
   "source": [
    "# prédiction\n",
    "preds = r_forest.predict(X_test)\n",
    "\n",
    "# calcul du RMSE\n",
    "print(m_s_e(y_test,preds, squared=False))"
   ]
  },
  {
   "cell_type": "code",
   "execution_count": 82,
   "metadata": {},
   "outputs": [
    {
     "data": {
      "text/plain": [
       "<matplotlib.collections.PathCollection at 0x1d2d4bdbfd0>"
      ]
     },
     "execution_count": 82,
     "metadata": {},
     "output_type": "execute_result"
    },
    {
     "data": {
      "image/png": "[encoded data removed]",
      "text/plain": [
       "<Figure size 432x288 with 1 Axes>"
      ]
     },
     "metadata": {
      "needs_background": "light"
     },
     "output_type": "display_data"
    }
   ],
   "source": [
    "plt.scatter(preds,y_test)"
   ]
  },
  {
   "cell_type": "code",
   "execution_count": 83,
   "metadata": {},
   "outputs": [],
   "source": [
    "def get_error(n_estimator, X_train, X_test, y_train, y_test):\n",
    "    model = RandomForestRegressor(n_estimators=n_estimator, random_state=0)\n",
    "    model.fit(X_train, y_train)\n",
    "    preds_val = model.predict(X_test)\n",
    "    rmse = m_s_e(y_test, preds_val,squared=False)\n",
    "    mae = m_a_e(y_test, preds_val)\n",
    "    r_2 = r2(y_test,preds_val)\n",
    "    return(rmse, mae, r_2)"
   ]
  },
  {
   "cell_type": "markdown",
   "metadata": {},
   "source": []
  },
  {
   "cell_type": "code",
   "execution_count": 84,
   "metadata": {},
   "outputs": [],
   "source": [
    "def get_dummy_error(strategy, X_train, X_test, y_train, y_test):\n",
    "    model = DummyRegressor(strategy=strategy)\n",
    "    model.fit(X_train, y_train)\n",
    "    preds_val = model.predict(X_test)\n",
    "    rmse = m_s_e(y_test, preds_val,squared=False)\n",
    "    mae = m_a_e(y_test, preds_val)\n",
    "    r_2 = r2(y_test,preds_val)\n",
    "    return(rmse, mae, r_2)"
   ]
  },
  {
   "cell_type": "code",
   "execution_count": 85,
   "metadata": {},
   "outputs": [
    {
     "name": "stdout",
     "output_type": "stream",
     "text": [
      "strategy: mean  \t\t RMSE:  587.754537  \t\t MAE: 188.531540  \t\t R2:  -0.000113\n",
      "strategy: median  \t\t RMSE:  599.508725  \t\t MAE: 143.741825  \t\t R2:  -0.040514\n"
     ]
    }
   ],
   "source": [
    "# comparer RMSE et r2 avec differents valeurs de n_estimator\n",
    "lst_rmse = []\n",
    "lst_mae = []\n",
    "lst_r2 = []\n",
    "for strategy in ['mean', 'median']:\n",
    "    my_rmse = get_dummy_error(strategy, X_train, X_test, y_train, y_test)\n",
    "    lst_rmse.append(my_rmse[0])\n",
    "    lst_mae.append(my_rmse[1])\n",
    "    lst_r2.append(my_rmse[2])\n",
    "    print(\"strategy: %s  \\t\\t RMSE:  %f  \\t\\t MAE: %f  \\t\\t R2:  %f\" %(strategy, my_rmse[0], my_rmse[1], my_rmse[2]))"
   ]
  },
  {
   "cell_type": "code",
   "execution_count": 86,
   "metadata": {},
   "outputs": [
    {
     "name": "stdout",
     "output_type": "stream",
     "text": [
      "N_Estimator: 100  \t\t RMSE:  316.653154  \t\t MAE: 116.100057  \t\t R2:  0.709715\n",
      "N_Estimator: 200  \t\t RMSE:  324.984572  \t\t MAE: 117.226858  \t\t R2:  0.694239\n",
      "N_Estimator: 300  \t\t RMSE:  323.581833  \t\t MAE: 117.557896  \t\t R2:  0.696873\n",
      "N_Estimator: 400  \t\t RMSE:  318.383983  \t\t MAE: 116.458528  \t\t R2:  0.706533\n",
      "N_Estimator: 500  \t\t RMSE:  317.596023  \t\t MAE: 116.739072  \t\t R2:  0.707984\n"
     ]
    }
   ],
   "source": [
    "# comparer RMSE et r2 avec differents valeurs de n_estimator\n",
    "lst_rmse = []\n",
    "lst_mae = []\n",
    "lst_r2 = []\n",
    "for n_estimator in [100, 200, 300, 400, 500]:\n",
    "    my_rmse = get_error(n_estimator, X_train, X_test, y_train, y_test)\n",
    "    lst_rmse.append(my_rmse[0])\n",
    "    lst_mae.append(my_rmse[1])\n",
    "    lst_r2.append(my_rmse[2])\n",
    "    print(\"N_Estimator: %d  \\t\\t RMSE:  %f  \\t\\t MAE: %f  \\t\\t R2:  %f\" %(n_estimator, my_rmse[0], my_rmse[1], my_rmse[2]))"
   ]
  },
  {
   "cell_type": "code",
   "execution_count": 87,
   "metadata": {},
   "outputs": [
    {
     "data": {
      "image/png": "[encoded data removed]",
      "text/plain": [
       "<Figure size 432x288 with 2 Axes>"
      ]
     },
     "metadata": {
      "needs_background": "light"
     },
     "output_type": "display_data"
    }
   ],
   "source": [
    "fig,(ax1,ax2) = plt.subplots(2,1)\n",
    "fig.suptitle('Résultat de l\\'entrainement')\n",
    "\n",
    "ax1.plot(lst_rmse)\n",
    "ax1.set_ylabel('RMSE')\n",
    "ax1.set_xlabel('entrainement no')\n",
    "ax1.grid()\n",
    "\n",
    "ax2.plot(lst_r2)\n",
    "ax2.set_ylabel('R2')\n",
    "ax2.set_xlabel('entrainement no')\n",
    "ax2.grid()\n",
    "\n",
    "plt.show()"
   ]
  },
  {
   "cell_type": "markdown",
   "metadata": {},
   "source": [
    "### - Dummy Resgressor"
   ]
  },
  {
   "cell_type": "code",
   "execution_count": 88,
   "metadata": {},
   "outputs": [],
   "source": [
    "dummy_param_grid = {'strategy' : ['mean','median']}"
   ]
  },
  {
   "cell_type": "code",
   "execution_count": 89,
   "metadata": {},
   "outputs": [
    {
     "data": {
      "text/plain": [
       "GridSearchCV(cv=5, estimator=DummyRegressor(),\n",
       "             param_grid={'strategy': ['mean', 'median']}, scoring='r2')"
      ]
     },
     "execution_count": 89,
     "metadata": {},
     "output_type": "execute_result"
    }
   ],
   "source": [
    "CV_dummy_mean = GridSearchCV(estimator=DummyRegressor(), param_grid=dummy_param_grid, cv= 5,scoring='r2')\n",
    "CV_dummy_mean.fit(X_train, y_train)"
   ]
  },
  {
   "cell_type": "code",
   "execution_count": 90,
   "metadata": {},
   "outputs": [
    {
     "data": {
      "text/plain": [
       "-0.024135399164125194"
      ]
     },
     "execution_count": 90,
     "metadata": {},
     "output_type": "execute_result"
    }
   ],
   "source": [
    "CV_dummy_mean.best_score_"
   ]
  },
  {
   "cell_type": "code",
   "execution_count": 91,
   "metadata": {},
   "outputs": [],
   "source": [
    "dummy_model = CV_dummy_mean.best_estimator_"
   ]
  },
  {
   "cell_type": "code",
   "execution_count": 92,
   "metadata": {},
   "outputs": [
    {
     "data": {
      "text/plain": [
       "-0.00011283286795671366"
      ]
     },
     "execution_count": 92,
     "metadata": {},
     "output_type": "execute_result"
    }
   ],
   "source": [
    "dummy_model.score(X_test,y_test)"
   ]
  },
  {
   "cell_type": "code",
   "execution_count": 93,
   "metadata": {},
   "outputs": [
    {
     "data": {
      "text/html": [
       "<div>\n",
       "<style scoped>\n",
       "    .dataframe tbody tr th:only-of-type {\n",
       "        vertical-align: middle;\n",
       "    }\n",
       "\n",
       "    .dataframe tbody tr th {\n",
       "        vertical-align: top;\n",
       "    }\n",
       "\n",
       "    .dataframe thead th {\n",
       "        text-align: right;\n",
       "    }\n",
       "</style>\n",
       "<table border=\"1\" class=\"dataframe\">\n",
       "  <thead>\n",
       "    <tr style=\"text-align: right;\">\n",
       "      <th></th>\n",
       "      <th>mean_fit_time</th>\n",
       "      <th>std_fit_time</th>\n",
       "      <th>mean_score_time</th>\n",
       "      <th>std_score_time</th>\n",
       "      <th>param_strategy</th>\n",
       "      <th>params</th>\n",
       "      <th>split0_test_score</th>\n",
       "      <th>split1_test_score</th>\n",
       "      <th>split2_test_score</th>\n",
       "      <th>split3_test_score</th>\n",
       "      <th>split4_test_score</th>\n",
       "      <th>mean_test_score</th>\n",
       "      <th>std_test_score</th>\n",
       "      <th>rank_test_score</th>\n",
       "    </tr>\n",
       "  </thead>\n",
       "  <tbody>\n",
       "    <tr>\n",
       "      <th>0</th>\n",
       "      <td>0.001485</td>\n",
       "      <td>0.000222</td>\n",
       "      <td>0.000615</td>\n",
       "      <td>0.000193</td>\n",
       "      <td>mean</td>\n",
       "      <td>{'strategy': 'mean'}</td>\n",
       "      <td>-0.010375</td>\n",
       "      <td>-0.079476</td>\n",
       "      <td>-0.000762</td>\n",
       "      <td>-0.003946</td>\n",
       "      <td>-0.026119</td>\n",
       "      <td>-0.024135</td>\n",
       "      <td>0.029017</td>\n",
       "      <td>1</td>\n",
       "    </tr>\n",
       "    <tr>\n",
       "      <th>1</th>\n",
       "      <td>0.002055</td>\n",
       "      <td>0.001046</td>\n",
       "      <td>0.000689</td>\n",
       "      <td>0.000215</td>\n",
       "      <td>median</td>\n",
       "      <td>{'strategy': 'median'}</td>\n",
       "      <td>-0.037629</td>\n",
       "      <td>-0.186226</td>\n",
       "      <td>-0.071255</td>\n",
       "      <td>-0.041990</td>\n",
       "      <td>-0.131254</td>\n",
       "      <td>-0.093671</td>\n",
       "      <td>0.057084</td>\n",
       "      <td>2</td>\n",
       "    </tr>\n",
       "  </tbody>\n",
       "</table>\n",
       "</div>"
      ],
      "text/plain": [
       "   mean_fit_time  std_fit_time  mean_score_time  std_score_time  \\\n",
       "0       0.001485      0.000222         0.000615        0.000193   \n",
       "1       0.002055      0.001046         0.000689        0.000215   \n",
       "\n",
       "  param_strategy                  params  split0_test_score  \\\n",
       "0           mean    {'strategy': 'mean'}          -0.010375   \n",
       "1         median  {'strategy': 'median'}          -0.037629   \n",
       "\n",
       "   split1_test_score  split2_test_score  split3_test_score  split4_test_score  \\\n",
       "0          -0.079476          -0.000762          -0.003946          -0.026119   \n",
       "1          -0.186226          -0.071255          -0.041990          -0.131254   \n",
       "\n",
       "   mean_test_score  std_test_score  rank_test_score  \n",
       "0        -0.024135        0.029017                1  \n",
       "1        -0.093671        0.057084                2  "
      ]
     },
     "execution_count": 93,
     "metadata": {},
     "output_type": "execute_result"
    }
   ],
   "source": [
    "pd.DataFrame(CV_dummy_mean.cv_results_)"
   ]
  },
  {
   "cell_type": "markdown",
   "metadata": {},
   "source": [
    "### - Random Forest Resgressor\n"
   ]
  },
  {
   "cell_type": "code",
   "execution_count": 129,
   "metadata": {},
   "outputs": [],
   "source": [
    "rfc_param_grid = {'n_estimators' : [100,200,300,400,500],\n",
    "              'max_features': ['auto', 'sqrt', 'log2'],\n",
    "              'max_depth' : [4,8,16,32,64],\n",
    "              'random_state': [12]}"
   ]
  },
  {
   "cell_type": "code",
   "execution_count": 130,
   "metadata": {},
   "outputs": [
    {
     "data": {
      "text/plain": [
       "GridSearchCV(cv=5, estimator=RandomForestRegressor(),\n",
       "             param_grid={'max_depth': [4, 8, 16, 32, 64],\n",
       "                         'max_features': ['auto', 'sqrt', 'log2'],\n",
       "                         'n_estimators': [100, 200, 300, 400, 500],\n",
       "                         'random_state': [12]},\n",
       "             refit='r2', scoring=['r2'])"
      ]
     },
     "execution_count": 130,
     "metadata": {},
     "output_type": "execute_result"
    }
   ],
   "source": [
    "CV_rfc = GridSearchCV(estimator=RandomForestRegressor(), param_grid=rfc_param_grid, cv= 5,scoring=['r2'],refit='r2')\n",
    "CV_rfc.fit(X_train, y_train)"
   ]
  },
  {
   "cell_type": "code",
   "execution_count": 131,
   "metadata": {},
   "outputs": [
    {
     "data": {
      "text/plain": [
       "{'max_depth': 32,\n",
       " 'max_features': 'sqrt',\n",
       " 'n_estimators': 100,\n",
       " 'random_state': 12}"
      ]
     },
     "execution_count": 131,
     "metadata": {},
     "output_type": "execute_result"
    }
   ],
   "source": [
    "CV_rfc.best_params_"
   ]
  },
  {
   "cell_type": "code",
   "execution_count": 132,
   "metadata": {},
   "outputs": [
    {
     "data": {
      "text/plain": [
       "0.6313452864582934"
      ]
     },
     "execution_count": 132,
     "metadata": {},
     "output_type": "execute_result"
    }
   ],
   "source": [
    "CV_rfc.best_score_"
   ]
  },
  {
   "cell_type": "code",
   "execution_count": 133,
   "metadata": {},
   "outputs": [],
   "source": [
    "model = CV_rfc.best_estimator_"
   ]
  },
  {
   "cell_type": "code",
   "execution_count": 134,
   "metadata": {},
   "outputs": [
    {
     "data": {
      "text/plain": [
       "0.7545265960782539"
      ]
     },
     "execution_count": 134,
     "metadata": {},
     "output_type": "execute_result"
    }
   ],
   "source": [
    "model.score(X_test,y_test)"
   ]
  },
  {
   "cell_type": "code",
   "execution_count": 135,
   "metadata": {},
   "outputs": [
    {
     "data": {
      "text/html": [
       "<div>\n",
       "<style scoped>\n",
       "    .dataframe tbody tr th:only-of-type {\n",
       "        vertical-align: middle;\n",
       "    }\n",
       "\n",
       "    .dataframe tbody tr th {\n",
       "        vertical-align: top;\n",
       "    }\n",
       "\n",
       "    .dataframe thead th {\n",
       "        text-align: right;\n",
       "    }\n",
       "</style>\n",
       "<table border=\"1\" class=\"dataframe\">\n",
       "  <thead>\n",
       "    <tr style=\"text-align: right;\">\n",
       "      <th></th>\n",
       "      <th>0</th>\n",
       "    </tr>\n",
       "  </thead>\n",
       "  <tbody>\n",
       "    <tr>\n",
       "      <th>0</th>\n",
       "      <td>0.037755</td>\n",
       "    </tr>\n",
       "    <tr>\n",
       "      <th>1</th>\n",
       "      <td>0.055060</td>\n",
       "    </tr>\n",
       "    <tr>\n",
       "      <th>2</th>\n",
       "      <td>0.160578</td>\n",
       "    </tr>\n",
       "    <tr>\n",
       "      <th>3</th>\n",
       "      <td>0.059358</td>\n",
       "    </tr>\n",
       "    <tr>\n",
       "      <th>4</th>\n",
       "      <td>0.179056</td>\n",
       "    </tr>\n",
       "    <tr>\n",
       "      <th>5</th>\n",
       "      <td>0.011379</td>\n",
       "    </tr>\n",
       "    <tr>\n",
       "      <th>6</th>\n",
       "      <td>0.163703</td>\n",
       "    </tr>\n",
       "    <tr>\n",
       "      <th>7</th>\n",
       "      <td>0.016788</td>\n",
       "    </tr>\n",
       "    <tr>\n",
       "      <th>8</th>\n",
       "      <td>0.000008</td>\n",
       "    </tr>\n",
       "    <tr>\n",
       "      <th>9</th>\n",
       "      <td>0.012321</td>\n",
       "    </tr>\n",
       "    <tr>\n",
       "      <th>10</th>\n",
       "      <td>0.000194</td>\n",
       "    </tr>\n",
       "    <tr>\n",
       "      <th>11</th>\n",
       "      <td>0.195666</td>\n",
       "    </tr>\n",
       "    <tr>\n",
       "      <th>12</th>\n",
       "      <td>0.003524</td>\n",
       "    </tr>\n",
       "    <tr>\n",
       "      <th>13</th>\n",
       "      <td>0.000401</td>\n",
       "    </tr>\n",
       "    <tr>\n",
       "      <th>14</th>\n",
       "      <td>0.003947</td>\n",
       "    </tr>\n",
       "    <tr>\n",
       "      <th>15</th>\n",
       "      <td>0.015721</td>\n",
       "    </tr>\n",
       "    <tr>\n",
       "      <th>16</th>\n",
       "      <td>0.005724</td>\n",
       "    </tr>\n",
       "    <tr>\n",
       "      <th>17</th>\n",
       "      <td>0.004519</td>\n",
       "    </tr>\n",
       "    <tr>\n",
       "      <th>18</th>\n",
       "      <td>0.005845</td>\n",
       "    </tr>\n",
       "    <tr>\n",
       "      <th>19</th>\n",
       "      <td>0.000007</td>\n",
       "    </tr>\n",
       "    <tr>\n",
       "      <th>20</th>\n",
       "      <td>0.000252</td>\n",
       "    </tr>\n",
       "    <tr>\n",
       "      <th>21</th>\n",
       "      <td>0.000498</td>\n",
       "    </tr>\n",
       "    <tr>\n",
       "      <th>22</th>\n",
       "      <td>0.000136</td>\n",
       "    </tr>\n",
       "    <tr>\n",
       "      <th>23</th>\n",
       "      <td>0.003095</td>\n",
       "    </tr>\n",
       "    <tr>\n",
       "      <th>24</th>\n",
       "      <td>0.002230</td>\n",
       "    </tr>\n",
       "    <tr>\n",
       "      <th>25</th>\n",
       "      <td>0.002776</td>\n",
       "    </tr>\n",
       "    <tr>\n",
       "      <th>26</th>\n",
       "      <td>0.000762</td>\n",
       "    </tr>\n",
       "    <tr>\n",
       "      <th>27</th>\n",
       "      <td>0.001217</td>\n",
       "    </tr>\n",
       "    <tr>\n",
       "      <th>28</th>\n",
       "      <td>0.000256</td>\n",
       "    </tr>\n",
       "    <tr>\n",
       "      <th>29</th>\n",
       "      <td>0.002149</td>\n",
       "    </tr>\n",
       "    <tr>\n",
       "      <th>30</th>\n",
       "      <td>0.019701</td>\n",
       "    </tr>\n",
       "    <tr>\n",
       "      <th>31</th>\n",
       "      <td>0.011958</td>\n",
       "    </tr>\n",
       "    <tr>\n",
       "      <th>32</th>\n",
       "      <td>0.013843</td>\n",
       "    </tr>\n",
       "    <tr>\n",
       "      <th>33</th>\n",
       "      <td>0.003709</td>\n",
       "    </tr>\n",
       "    <tr>\n",
       "      <th>34</th>\n",
       "      <td>0.005864</td>\n",
       "    </tr>\n",
       "  </tbody>\n",
       "</table>\n",
       "</div>"
      ],
      "text/plain": [
       "           0\n",
       "0   0.037755\n",
       "1   0.055060\n",
       "2   0.160578\n",
       "3   0.059358\n",
       "4   0.179056\n",
       "5   0.011379\n",
       "6   0.163703\n",
       "7   0.016788\n",
       "8   0.000008\n",
       "9   0.012321\n",
       "10  0.000194\n",
       "11  0.195666\n",
       "12  0.003524\n",
       "13  0.000401\n",
       "14  0.003947\n",
       "15  0.015721\n",
       "16  0.005724\n",
       "17  0.004519\n",
       "18  0.005845\n",
       "19  0.000007\n",
       "20  0.000252\n",
       "21  0.000498\n",
       "22  0.000136\n",
       "23  0.003095\n",
       "24  0.002230\n",
       "25  0.002776\n",
       "26  0.000762\n",
       "27  0.001217\n",
       "28  0.000256\n",
       "29  0.002149\n",
       "30  0.019701\n",
       "31  0.011958\n",
       "32  0.013843\n",
       "33  0.003709\n",
       "34  0.005864"
      ]
     },
     "execution_count": 135,
     "metadata": {},
     "output_type": "execute_result"
    }
   ],
   "source": [
    "pd.DataFrame(model.feature_importances_)"
   ]
  },
  {
   "cell_type": "code",
   "execution_count": 136,
   "metadata": {},
   "outputs": [
    {
     "data": {
      "text/html": [
       "<div>\n",
       "<style scoped>\n",
       "    .dataframe tbody tr th:only-of-type {\n",
       "        vertical-align: middle;\n",
       "    }\n",
       "\n",
       "    .dataframe tbody tr th {\n",
       "        vertical-align: top;\n",
       "    }\n",
       "\n",
       "    .dataframe thead th {\n",
       "        text-align: right;\n",
       "    }\n",
       "</style>\n",
       "<table border=\"1\" class=\"dataframe\">\n",
       "  <thead>\n",
       "    <tr style=\"text-align: right;\">\n",
       "      <th></th>\n",
       "      <th>mean_fit_time</th>\n",
       "      <th>std_fit_time</th>\n",
       "      <th>mean_score_time</th>\n",
       "      <th>std_score_time</th>\n",
       "      <th>param_max_depth</th>\n",
       "      <th>param_max_features</th>\n",
       "      <th>param_n_estimators</th>\n",
       "      <th>param_random_state</th>\n",
       "      <th>params</th>\n",
       "      <th>split0_test_r2</th>\n",
       "      <th>split1_test_r2</th>\n",
       "      <th>split2_test_r2</th>\n",
       "      <th>split3_test_r2</th>\n",
       "      <th>split4_test_r2</th>\n",
       "      <th>mean_test_r2</th>\n",
       "      <th>std_test_r2</th>\n",
       "      <th>rank_test_r2</th>\n",
       "    </tr>\n",
       "  </thead>\n",
       "  <tbody>\n",
       "    <tr>\n",
       "      <th>0</th>\n",
       "      <td>0.193464</td>\n",
       "      <td>0.015530</td>\n",
       "      <td>0.008140</td>\n",
       "      <td>0.000408</td>\n",
       "      <td>4</td>\n",
       "      <td>auto</td>\n",
       "      <td>100</td>\n",
       "      <td>12</td>\n",
       "      <td>{'max_depth': 4, 'max_features': 'auto', 'n_es...</td>\n",
       "      <td>0.614140</td>\n",
       "      <td>0.425831</td>\n",
       "      <td>0.475099</td>\n",
       "      <td>0.529999</td>\n",
       "      <td>0.374154</td>\n",
       "      <td>0.483845</td>\n",
       "      <td>0.083164</td>\n",
       "      <td>74</td>\n",
       "    </tr>\n",
       "    <tr>\n",
       "      <th>1</th>\n",
       "      <td>0.368575</td>\n",
       "      <td>0.010814</td>\n",
       "      <td>0.014250</td>\n",
       "      <td>0.000754</td>\n",
       "      <td>4</td>\n",
       "      <td>auto</td>\n",
       "      <td>200</td>\n",
       "      <td>12</td>\n",
       "      <td>{'max_depth': 4, 'max_features': 'auto', 'n_es...</td>\n",
       "      <td>0.615223</td>\n",
       "      <td>0.431633</td>\n",
       "      <td>0.431646</td>\n",
       "      <td>0.509514</td>\n",
       "      <td>0.394342</td>\n",
       "      <td>0.476472</td>\n",
       "      <td>0.078878</td>\n",
       "      <td>75</td>\n",
       "    </tr>\n",
       "    <tr>\n",
       "      <th>2</th>\n",
       "      <td>0.609181</td>\n",
       "      <td>0.029603</td>\n",
       "      <td>0.021430</td>\n",
       "      <td>0.000795</td>\n",
       "      <td>4</td>\n",
       "      <td>auto</td>\n",
       "      <td>300</td>\n",
       "      <td>12</td>\n",
       "      <td>{'max_depth': 4, 'max_features': 'auto', 'n_es...</td>\n",
       "      <td>0.619129</td>\n",
       "      <td>0.438878</td>\n",
       "      <td>0.485169</td>\n",
       "      <td>0.507403</td>\n",
       "      <td>0.399035</td>\n",
       "      <td>0.489923</td>\n",
       "      <td>0.074684</td>\n",
       "      <td>72</td>\n",
       "    </tr>\n",
       "    <tr>\n",
       "      <th>3</th>\n",
       "      <td>0.834277</td>\n",
       "      <td>0.023541</td>\n",
       "      <td>0.030661</td>\n",
       "      <td>0.002481</td>\n",
       "      <td>4</td>\n",
       "      <td>auto</td>\n",
       "      <td>400</td>\n",
       "      <td>12</td>\n",
       "      <td>{'max_depth': 4, 'max_features': 'auto', 'n_es...</td>\n",
       "      <td>0.625115</td>\n",
       "      <td>0.437644</td>\n",
       "      <td>0.497359</td>\n",
       "      <td>0.513892</td>\n",
       "      <td>0.396936</td>\n",
       "      <td>0.494189</td>\n",
       "      <td>0.077711</td>\n",
       "      <td>71</td>\n",
       "    </tr>\n",
       "    <tr>\n",
       "      <th>4</th>\n",
       "      <td>0.953214</td>\n",
       "      <td>0.024945</td>\n",
       "      <td>0.035174</td>\n",
       "      <td>0.005252</td>\n",
       "      <td>4</td>\n",
       "      <td>auto</td>\n",
       "      <td>500</td>\n",
       "      <td>12</td>\n",
       "      <td>{'max_depth': 4, 'max_features': 'auto', 'n_es...</td>\n",
       "      <td>0.623314</td>\n",
       "      <td>0.434975</td>\n",
       "      <td>0.468432</td>\n",
       "      <td>0.528709</td>\n",
       "      <td>0.394049</td>\n",
       "      <td>0.489896</td>\n",
       "      <td>0.079963</td>\n",
       "      <td>73</td>\n",
       "    </tr>\n",
       "    <tr>\n",
       "      <th>...</th>\n",
       "      <td>...</td>\n",
       "      <td>...</td>\n",
       "      <td>...</td>\n",
       "      <td>...</td>\n",
       "      <td>...</td>\n",
       "      <td>...</td>\n",
       "      <td>...</td>\n",
       "      <td>...</td>\n",
       "      <td>...</td>\n",
       "      <td>...</td>\n",
       "      <td>...</td>\n",
       "      <td>...</td>\n",
       "      <td>...</td>\n",
       "      <td>...</td>\n",
       "      <td>...</td>\n",
       "      <td>...</td>\n",
       "      <td>...</td>\n",
       "    </tr>\n",
       "    <tr>\n",
       "      <th>70</th>\n",
       "      <td>0.170101</td>\n",
       "      <td>0.001879</td>\n",
       "      <td>0.010361</td>\n",
       "      <td>0.000416</td>\n",
       "      <td>64</td>\n",
       "      <td>log2</td>\n",
       "      <td>100</td>\n",
       "      <td>12</td>\n",
       "      <td>{'max_depth': 64, 'max_features': 'log2', 'n_e...</td>\n",
       "      <td>0.532829</td>\n",
       "      <td>0.601635</td>\n",
       "      <td>0.800467</td>\n",
       "      <td>0.670640</td>\n",
       "      <td>0.505751</td>\n",
       "      <td>0.622265</td>\n",
       "      <td>0.105921</td>\n",
       "      <td>5</td>\n",
       "    </tr>\n",
       "    <tr>\n",
       "      <th>71</th>\n",
       "      <td>0.334345</td>\n",
       "      <td>0.003499</td>\n",
       "      <td>0.019578</td>\n",
       "      <td>0.000371</td>\n",
       "      <td>64</td>\n",
       "      <td>log2</td>\n",
       "      <td>200</td>\n",
       "      <td>12</td>\n",
       "      <td>{'max_depth': 64, 'max_features': 'log2', 'n_e...</td>\n",
       "      <td>0.537431</td>\n",
       "      <td>0.588428</td>\n",
       "      <td>0.819518</td>\n",
       "      <td>0.635807</td>\n",
       "      <td>0.519152</td>\n",
       "      <td>0.620067</td>\n",
       "      <td>0.107742</td>\n",
       "      <td>7</td>\n",
       "    </tr>\n",
       "    <tr>\n",
       "      <th>72</th>\n",
       "      <td>0.504728</td>\n",
       "      <td>0.004475</td>\n",
       "      <td>0.027467</td>\n",
       "      <td>0.000558</td>\n",
       "      <td>64</td>\n",
       "      <td>log2</td>\n",
       "      <td>300</td>\n",
       "      <td>12</td>\n",
       "      <td>{'max_depth': 64, 'max_features': 'log2', 'n_e...</td>\n",
       "      <td>0.543149</td>\n",
       "      <td>0.591241</td>\n",
       "      <td>0.819457</td>\n",
       "      <td>0.599565</td>\n",
       "      <td>0.504045</td>\n",
       "      <td>0.611492</td>\n",
       "      <td>0.109560</td>\n",
       "      <td>13</td>\n",
       "    </tr>\n",
       "    <tr>\n",
       "      <th>73</th>\n",
       "      <td>0.698118</td>\n",
       "      <td>0.039564</td>\n",
       "      <td>0.036462</td>\n",
       "      <td>0.000751</td>\n",
       "      <td>64</td>\n",
       "      <td>log2</td>\n",
       "      <td>400</td>\n",
       "      <td>12</td>\n",
       "      <td>{'max_depth': 64, 'max_features': 'log2', 'n_e...</td>\n",
       "      <td>0.541073</td>\n",
       "      <td>0.592627</td>\n",
       "      <td>0.815156</td>\n",
       "      <td>0.602559</td>\n",
       "      <td>0.506195</td>\n",
       "      <td>0.611522</td>\n",
       "      <td>0.107667</td>\n",
       "      <td>11</td>\n",
       "    </tr>\n",
       "    <tr>\n",
       "      <th>74</th>\n",
       "      <td>0.903506</td>\n",
       "      <td>0.075949</td>\n",
       "      <td>0.047850</td>\n",
       "      <td>0.005016</td>\n",
       "      <td>64</td>\n",
       "      <td>log2</td>\n",
       "      <td>500</td>\n",
       "      <td>12</td>\n",
       "      <td>{'max_depth': 64, 'max_features': 'log2', 'n_e...</td>\n",
       "      <td>0.543375</td>\n",
       "      <td>0.593753</td>\n",
       "      <td>0.810256</td>\n",
       "      <td>0.592374</td>\n",
       "      <td>0.508412</td>\n",
       "      <td>0.609634</td>\n",
       "      <td>0.105295</td>\n",
       "      <td>19</td>\n",
       "    </tr>\n",
       "  </tbody>\n",
       "</table>\n",
       "<p>75 rows × 17 columns</p>\n",
       "</div>"
      ],
      "text/plain": [
       "    mean_fit_time  std_fit_time  mean_score_time  std_score_time  \\\n",
       "0        0.193464      0.015530         0.008140        0.000408   \n",
       "1        0.368575      0.010814         0.014250        0.000754   \n",
       "2        0.609181      0.029603         0.021430        0.000795   \n",
       "3        0.834277      0.023541         0.030661        0.002481   \n",
       "4        0.953214      0.024945         0.035174        0.005252   \n",
       "..            ...           ...              ...             ...   \n",
       "70       0.170101      0.001879         0.010361        0.000416   \n",
       "71       0.334345      0.003499         0.019578        0.000371   \n",
       "72       0.504728      0.004475         0.027467        0.000558   \n",
       "73       0.698118      0.039564         0.036462        0.000751   \n",
       "74       0.903506      0.075949         0.047850        0.005016   \n",
       "\n",
       "   param_max_depth param_max_features param_n_estimators param_random_state  \\\n",
       "0                4               auto                100                 12   \n",
       "1                4               auto                200                 12   \n",
       "2                4               auto                300                 12   \n",
       "3                4               auto                400                 12   \n",
       "4                4               auto                500                 12   \n",
       "..             ...                ...                ...                ...   \n",
       "70              64               log2                100                 12   \n",
       "71              64               log2                200                 12   \n",
       "72              64               log2                300                 12   \n",
       "73              64               log2                400                 12   \n",
       "74              64               log2                500                 12   \n",
       "\n",
       "                                               params  split0_test_r2  \\\n",
       "0   {'max_depth': 4, 'max_features': 'auto', 'n_es...        0.614140   \n",
       "1   {'max_depth': 4, 'max_features': 'auto', 'n_es...        0.615223   \n",
       "2   {'max_depth': 4, 'max_features': 'auto', 'n_es...        0.619129   \n",
       "3   {'max_depth': 4, 'max_features': 'auto', 'n_es...        0.625115   \n",
       "4   {'max_depth': 4, 'max_features': 'auto', 'n_es...        0.623314   \n",
       "..                                                ...             ...   \n",
       "70  {'max_depth': 64, 'max_features': 'log2', 'n_e...        0.532829   \n",
       "71  {'max_depth': 64, 'max_features': 'log2', 'n_e...        0.537431   \n",
       "72  {'max_depth': 64, 'max_features': 'log2', 'n_e...        0.543149   \n",
       "73  {'max_depth': 64, 'max_features': 'log2', 'n_e...        0.541073   \n",
       "74  {'max_depth': 64, 'max_features': 'log2', 'n_e...        0.543375   \n",
       "\n",
       "    split1_test_r2  split2_test_r2  split3_test_r2  split4_test_r2  \\\n",
       "0         0.425831        0.475099        0.529999        0.374154   \n",
       "1         0.431633        0.431646        0.509514        0.394342   \n",
       "2         0.438878        0.485169        0.507403        0.399035   \n",
       "3         0.437644        0.497359        0.513892        0.396936   \n",
       "4         0.434975        0.468432        0.528709        0.394049   \n",
       "..             ...             ...             ...             ...   \n",
       "70        0.601635        0.800467        0.670640        0.505751   \n",
       "71        0.588428        0.819518        0.635807        0.519152   \n",
       "72        0.591241        0.819457        0.599565        0.504045   \n",
       "73        0.592627        0.815156        0.602559        0.506195   \n",
       "74        0.593753        0.810256        0.592374        0.508412   \n",
       "\n",
       "    mean_test_r2  std_test_r2  rank_test_r2  \n",
       "0       0.483845     0.083164            74  \n",
       "1       0.476472     0.078878            75  \n",
       "2       0.489923     0.074684            72  \n",
       "3       0.494189     0.077711            71  \n",
       "4       0.489896     0.079963            73  \n",
       "..           ...          ...           ...  \n",
       "70      0.622265     0.105921             5  \n",
       "71      0.620067     0.107742             7  \n",
       "72      0.611492     0.109560            13  \n",
       "73      0.611522     0.107667            11  \n",
       "74      0.609634     0.105295            19  \n",
       "\n",
       "[75 rows x 17 columns]"
      ]
     },
     "execution_count": 136,
     "metadata": {},
     "output_type": "execute_result"
    }
   ],
   "source": [
    "pd.DataFrame(CV_rfc.cv_results_)"
   ]
  },
  {
   "cell_type": "code",
   "execution_count": null,
   "metadata": {},
   "outputs": [],
   "source": []
  },
  {
   "cell_type": "markdown",
   "metadata": {},
   "source": []
  },
  {
   "cell_type": "markdown",
   "metadata": {},
   "source": [
    "### - Ridge Regressor"
   ]
  },
  {
   "cell_type": "code",
   "execution_count": 137,
   "metadata": {},
   "outputs": [],
   "source": [
    "ridge_param_grid = {'alpha' : [1e-3, 1e-2, 1e-1, 1, 2, 5, 10],\n",
    "              }"
   ]
  },
  {
   "cell_type": "code",
   "execution_count": 138,
   "metadata": {},
   "outputs": [
    {
     "data": {
      "text/plain": [
       "GridSearchCV(cv=6, estimator=Ridge(),\n",
       "             param_grid={'alpha': [0.001, 0.01, 0.1, 1, 2, 5, 10]},\n",
       "             scoring='r2')"
      ]
     },
     "execution_count": 138,
     "metadata": {},
     "output_type": "execute_result"
    }
   ],
   "source": [
    "CV_ridge = GridSearchCV(estimator=Ridge(), param_grid=ridge_param_grid, cv= 6,scoring='r2')\n",
    "CV_ridge.fit(X_train, y_train)"
   ]
  },
  {
   "cell_type": "code",
   "execution_count": 139,
   "metadata": {},
   "outputs": [
    {
     "data": {
      "text/plain": [
       "0.49700082432752973"
      ]
     },
     "execution_count": 139,
     "metadata": {},
     "output_type": "execute_result"
    }
   ],
   "source": [
    "CV_ridge.best_score_"
   ]
  },
  {
   "cell_type": "code",
   "execution_count": 140,
   "metadata": {},
   "outputs": [
    {
     "name": "stdout",
     "output_type": "stream",
     "text": [
      "Ridge(alpha=0.1)\n"
     ]
    }
   ],
   "source": [
    "model_ridge = CV_ridge.best_estimator_\n",
    "print(model_ridge)"
   ]
  },
  {
   "cell_type": "code",
   "execution_count": 141,
   "metadata": {},
   "outputs": [
    {
     "data": {
      "text/plain": [
       "0.6642685252901456"
      ]
     },
     "execution_count": 141,
     "metadata": {},
     "output_type": "execute_result"
    }
   ],
   "source": [
    "model_ridge.score(X_test,y_test)"
   ]
  },
  {
   "cell_type": "code",
   "execution_count": 142,
   "metadata": {},
   "outputs": [
    {
     "data": {
      "text/html": [
       "<div>\n",
       "<style scoped>\n",
       "    .dataframe tbody tr th:only-of-type {\n",
       "        vertical-align: middle;\n",
       "    }\n",
       "\n",
       "    .dataframe tbody tr th {\n",
       "        vertical-align: top;\n",
       "    }\n",
       "\n",
       "    .dataframe thead th {\n",
       "        text-align: right;\n",
       "    }\n",
       "</style>\n",
       "<table border=\"1\" class=\"dataframe\">\n",
       "  <thead>\n",
       "    <tr style=\"text-align: right;\">\n",
       "      <th></th>\n",
       "      <th>mean_fit_time</th>\n",
       "      <th>std_fit_time</th>\n",
       "      <th>mean_score_time</th>\n",
       "      <th>std_score_time</th>\n",
       "      <th>param_alpha</th>\n",
       "      <th>params</th>\n",
       "      <th>split0_test_score</th>\n",
       "      <th>split1_test_score</th>\n",
       "      <th>split2_test_score</th>\n",
       "      <th>split3_test_score</th>\n",
       "      <th>split4_test_score</th>\n",
       "      <th>split5_test_score</th>\n",
       "      <th>mean_test_score</th>\n",
       "      <th>std_test_score</th>\n",
       "      <th>rank_test_score</th>\n",
       "    </tr>\n",
       "  </thead>\n",
       "  <tbody>\n",
       "    <tr>\n",
       "      <th>0</th>\n",
       "      <td>0.003542</td>\n",
       "      <td>0.000679</td>\n",
       "      <td>0.001791</td>\n",
       "      <td>0.000418</td>\n",
       "      <td>0.001</td>\n",
       "      <td>{'alpha': 0.001}</td>\n",
       "      <td>0.693437</td>\n",
       "      <td>0.779090</td>\n",
       "      <td>0.370965</td>\n",
       "      <td>0.591487</td>\n",
       "      <td>0.510696</td>\n",
       "      <td>0.020892</td>\n",
       "      <td>0.494428</td>\n",
       "      <td>0.248261</td>\n",
       "      <td>3</td>\n",
       "    </tr>\n",
       "    <tr>\n",
       "      <th>1</th>\n",
       "      <td>0.002979</td>\n",
       "      <td>0.000980</td>\n",
       "      <td>0.001896</td>\n",
       "      <td>0.000672</td>\n",
       "      <td>0.01</td>\n",
       "      <td>{'alpha': 0.01}</td>\n",
       "      <td>0.693391</td>\n",
       "      <td>0.779081</td>\n",
       "      <td>0.371278</td>\n",
       "      <td>0.591039</td>\n",
       "      <td>0.514211</td>\n",
       "      <td>0.019346</td>\n",
       "      <td>0.494724</td>\n",
       "      <td>0.248732</td>\n",
       "      <td>2</td>\n",
       "    </tr>\n",
       "    <tr>\n",
       "      <th>2</th>\n",
       "      <td>0.003045</td>\n",
       "      <td>0.000649</td>\n",
       "      <td>0.001837</td>\n",
       "      <td>0.000760</td>\n",
       "      <td>0.1</td>\n",
       "      <td>{'alpha': 0.1}</td>\n",
       "      <td>0.692881</td>\n",
       "      <td>0.778903</td>\n",
       "      <td>0.374141</td>\n",
       "      <td>0.586346</td>\n",
       "      <td>0.545947</td>\n",
       "      <td>0.003787</td>\n",
       "      <td>0.497001</td>\n",
       "      <td>0.253828</td>\n",
       "      <td>1</td>\n",
       "    </tr>\n",
       "    <tr>\n",
       "      <th>3</th>\n",
       "      <td>0.003314</td>\n",
       "      <td>0.000968</td>\n",
       "      <td>0.001631</td>\n",
       "      <td>0.000533</td>\n",
       "      <td>1</td>\n",
       "      <td>{'alpha': 1}</td>\n",
       "      <td>0.687182</td>\n",
       "      <td>0.772166</td>\n",
       "      <td>0.390963</td>\n",
       "      <td>0.540331</td>\n",
       "      <td>0.680710</td>\n",
       "      <td>-0.136896</td>\n",
       "      <td>0.489076</td>\n",
       "      <td>0.305561</td>\n",
       "      <td>4</td>\n",
       "    </tr>\n",
       "    <tr>\n",
       "      <th>4</th>\n",
       "      <td>0.002925</td>\n",
       "      <td>0.000426</td>\n",
       "      <td>0.001597</td>\n",
       "      <td>0.000707</td>\n",
       "      <td>2</td>\n",
       "      <td>{'alpha': 2}</td>\n",
       "      <td>0.681766</td>\n",
       "      <td>0.762036</td>\n",
       "      <td>0.398973</td>\n",
       "      <td>0.501607</td>\n",
       "      <td>0.701954</td>\n",
       "      <td>-0.256812</td>\n",
       "      <td>0.464921</td>\n",
       "      <td>0.345947</td>\n",
       "      <td>5</td>\n",
       "    </tr>\n",
       "    <tr>\n",
       "      <th>5</th>\n",
       "      <td>0.002708</td>\n",
       "      <td>0.000580</td>\n",
       "      <td>0.001760</td>\n",
       "      <td>0.000373</td>\n",
       "      <td>5</td>\n",
       "      <td>{'alpha': 5}</td>\n",
       "      <td>0.670293</td>\n",
       "      <td>0.738781</td>\n",
       "      <td>0.406044</td>\n",
       "      <td>0.433329</td>\n",
       "      <td>0.673585</td>\n",
       "      <td>-0.477992</td>\n",
       "      <td>0.407340</td>\n",
       "      <td>0.415206</td>\n",
       "      <td>6</td>\n",
       "    </tr>\n",
       "    <tr>\n",
       "      <th>6</th>\n",
       "      <td>0.002307</td>\n",
       "      <td>0.000363</td>\n",
       "      <td>0.002031</td>\n",
       "      <td>0.000239</td>\n",
       "      <td>10</td>\n",
       "      <td>{'alpha': 10}</td>\n",
       "      <td>0.658374</td>\n",
       "      <td>0.718421</td>\n",
       "      <td>0.410147</td>\n",
       "      <td>0.381661</td>\n",
       "      <td>0.631761</td>\n",
       "      <td>-0.650951</td>\n",
       "      <td>0.358235</td>\n",
       "      <td>0.468390</td>\n",
       "      <td>7</td>\n",
       "    </tr>\n",
       "  </tbody>\n",
       "</table>\n",
       "</div>"
      ],
      "text/plain": [
       "   mean_fit_time  std_fit_time  mean_score_time  std_score_time param_alpha  \\\n",
       "0       0.003542      0.000679         0.001791        0.000418       0.001   \n",
       "1       0.002979      0.000980         0.001896        0.000672        0.01   \n",
       "2       0.003045      0.000649         0.001837        0.000760         0.1   \n",
       "3       0.003314      0.000968         0.001631        0.000533           1   \n",
       "4       0.002925      0.000426         0.001597        0.000707           2   \n",
       "5       0.002708      0.000580         0.001760        0.000373           5   \n",
       "6       0.002307      0.000363         0.002031        0.000239          10   \n",
       "\n",
       "             params  split0_test_score  split1_test_score  split2_test_score  \\\n",
       "0  {'alpha': 0.001}           0.693437           0.779090           0.370965   \n",
       "1   {'alpha': 0.01}           0.693391           0.779081           0.371278   \n",
       "2    {'alpha': 0.1}           0.692881           0.778903           0.374141   \n",
       "3      {'alpha': 1}           0.687182           0.772166           0.390963   \n",
       "4      {'alpha': 2}           0.681766           0.762036           0.398973   \n",
       "5      {'alpha': 5}           0.670293           0.738781           0.406044   \n",
       "6     {'alpha': 10}           0.658374           0.718421           0.410147   \n",
       "\n",
       "   split3_test_score  split4_test_score  split5_test_score  mean_test_score  \\\n",
       "0           0.591487           0.510696           0.020892         0.494428   \n",
       "1           0.591039           0.514211           0.019346         0.494724   \n",
       "2           0.586346           0.545947           0.003787         0.497001   \n",
       "3           0.540331           0.680710          -0.136896         0.489076   \n",
       "4           0.501607           0.701954          -0.256812         0.464921   \n",
       "5           0.433329           0.673585          -0.477992         0.407340   \n",
       "6           0.381661           0.631761          -0.650951         0.358235   \n",
       "\n",
       "   std_test_score  rank_test_score  \n",
       "0        0.248261                3  \n",
       "1        0.248732                2  \n",
       "2        0.253828                1  \n",
       "3        0.305561                4  \n",
       "4        0.345947                5  \n",
       "5        0.415206                6  \n",
       "6        0.468390                7  "
      ]
     },
     "execution_count": 142,
     "metadata": {},
     "output_type": "execute_result"
    }
   ],
   "source": [
    "pd.DataFrame(CV_ridge.cv_results_)"
   ]
  },
  {
   "cell_type": "markdown",
   "metadata": {},
   "source": []
  },
  {
   "cell_type": "code",
   "execution_count": null,
   "metadata": {},
   "outputs": [],
   "source": []
  },
  {
   "cell_type": "code",
   "execution_count": 143,
   "metadata": {},
   "outputs": [
    {
     "data": {
      "image/png": "[encoded data removed]",
      "text/plain": [
       "<Figure size 432x288 with 1 Axes>"
      ]
     },
     "metadata": {
      "needs_background": "light"
     },
     "output_type": "display_data"
    }
   ],
   "source": [
    "alphas = [1e-3, 1e-2, 1e-1, 1, 2, 5, 10]\n",
    "coefs = []\n",
    "for a in alphas:\n",
    "    ridge = Ridge(alpha=a, fit_intercept=False)\n",
    "    ridge.fit(X_train, y_train)\n",
    "    coefs.append(ridge.coef_)\n",
    "\n",
    "ax = plt.gca()\n",
    "ax.plot(alphas, coefs)\n",
    "ax.set_xscale('log')\n",
    "ax.set_xlim(ax.get_xlim()[::-1])  # reverse axis\n",
    "plt.xlabel('alpha')\n",
    "plt.ylabel('weights')\n",
    "plt.title('Ridge coefficients as a function of the regularization')\n",
    "plt.axis('tight')\n",
    "plt.show()"
   ]
  },
  {
   "cell_type": "markdown",
   "metadata": {},
   "source": [
    "### - KNN Regressor"
   ]
  },
  {
   "cell_type": "code",
   "execution_count": 144,
   "metadata": {},
   "outputs": [],
   "source": [
    "knn_param_grid = {'n_neighbors' : list(range(10, 100)),\n",
    "              }"
   ]
  },
  {
   "cell_type": "code",
   "execution_count": 145,
   "metadata": {},
   "outputs": [
    {
     "data": {
      "text/plain": [
       "GridSearchCV(cv=6, estimator=KNeighborsRegressor(),\n",
       "             param_grid={'n_neighbors': [10, 11, 12, 13, 14, 15, 16, 17, 18, 19,\n",
       "                                         20, 21, 22, 23, 24, 25, 26, 27, 28, 29,\n",
       "                                         30, 31, 32, 33, 34, 35, 36, 37, 38, 39, ...]},\n",
       "             scoring='r2')"
      ]
     },
     "execution_count": 145,
     "metadata": {},
     "output_type": "execute_result"
    }
   ],
   "source": [
    "CV_knn = GridSearchCV(estimator=KNeighborsRegressor(), param_grid=knn_param_grid, cv= 6,scoring='r2')\n",
    "CV_knn.fit(X_train, y_train)"
   ]
  },
  {
   "cell_type": "code",
   "execution_count": 146,
   "metadata": {},
   "outputs": [
    {
     "data": {
      "text/plain": [
       "0.2655328158973051"
      ]
     },
     "execution_count": 146,
     "metadata": {},
     "output_type": "execute_result"
    }
   ],
   "source": [
    "CV_knn.best_score_"
   ]
  },
  {
   "cell_type": "code",
   "execution_count": 147,
   "metadata": {},
   "outputs": [],
   "source": [
    "model_knn = CV_knn.best_estimator_"
   ]
  },
  {
   "cell_type": "code",
   "execution_count": 148,
   "metadata": {},
   "outputs": [
    {
     "data": {
      "text/plain": [
       "0.24517472980989985"
      ]
     },
     "execution_count": 148,
     "metadata": {},
     "output_type": "execute_result"
    }
   ],
   "source": [
    "model_knn.score(X_test,y_test)"
   ]
  },
  {
   "cell_type": "code",
   "execution_count": 149,
   "metadata": {},
   "outputs": [
    {
     "data": {
      "text/plain": [
       "{'n_neighbors': 21}"
      ]
     },
     "execution_count": 149,
     "metadata": {},
     "output_type": "execute_result"
    }
   ],
   "source": [
    "CV_knn.best_params_"
   ]
  },
  {
   "cell_type": "code",
   "execution_count": 150,
   "metadata": {},
   "outputs": [
    {
     "data": {
      "text/html": [
       "<div>\n",
       "<style scoped>\n",
       "    .dataframe tbody tr th:only-of-type {\n",
       "        vertical-align: middle;\n",
       "    }\n",
       "\n",
       "    .dataframe tbody tr th {\n",
       "        vertical-align: top;\n",
       "    }\n",
       "\n",
       "    .dataframe thead th {\n",
       "        text-align: right;\n",
       "    }\n",
       "</style>\n",
       "<table border=\"1\" class=\"dataframe\">\n",
       "  <thead>\n",
       "    <tr style=\"text-align: right;\">\n",
       "      <th></th>\n",
       "      <th>mean_fit_time</th>\n",
       "      <th>std_fit_time</th>\n",
       "      <th>mean_score_time</th>\n",
       "      <th>std_score_time</th>\n",
       "      <th>param_n_neighbors</th>\n",
       "      <th>params</th>\n",
       "      <th>split0_test_score</th>\n",
       "      <th>split1_test_score</th>\n",
       "      <th>split2_test_score</th>\n",
       "      <th>split3_test_score</th>\n",
       "      <th>split4_test_score</th>\n",
       "      <th>split5_test_score</th>\n",
       "      <th>mean_test_score</th>\n",
       "      <th>std_test_score</th>\n",
       "      <th>rank_test_score</th>\n",
       "    </tr>\n",
       "  </thead>\n",
       "  <tbody>\n",
       "    <tr>\n",
       "      <th>0</th>\n",
       "      <td>0.001995</td>\n",
       "      <td>0.000003</td>\n",
       "      <td>0.005215</td>\n",
       "      <td>0.000591</td>\n",
       "      <td>10</td>\n",
       "      <td>{'n_neighbors': 10}</td>\n",
       "      <td>0.239306</td>\n",
       "      <td>0.248983</td>\n",
       "      <td>0.237243</td>\n",
       "      <td>0.258456</td>\n",
       "      <td>0.443246</td>\n",
       "      <td>0.096452</td>\n",
       "      <td>0.253948</td>\n",
       "      <td>0.100976</td>\n",
       "      <td>18</td>\n",
       "    </tr>\n",
       "    <tr>\n",
       "      <th>1</th>\n",
       "      <td>0.002053</td>\n",
       "      <td>0.000588</td>\n",
       "      <td>0.004954</td>\n",
       "      <td>0.000465</td>\n",
       "      <td>11</td>\n",
       "      <td>{'n_neighbors': 11}</td>\n",
       "      <td>0.224621</td>\n",
       "      <td>0.235810</td>\n",
       "      <td>0.294121</td>\n",
       "      <td>0.212625</td>\n",
       "      <td>0.437696</td>\n",
       "      <td>0.156313</td>\n",
       "      <td>0.260198</td>\n",
       "      <td>0.089043</td>\n",
       "      <td>8</td>\n",
       "    </tr>\n",
       "    <tr>\n",
       "      <th>2</th>\n",
       "      <td>0.002242</td>\n",
       "      <td>0.000541</td>\n",
       "      <td>0.004617</td>\n",
       "      <td>0.001029</td>\n",
       "      <td>12</td>\n",
       "      <td>{'n_neighbors': 12}</td>\n",
       "      <td>0.210287</td>\n",
       "      <td>0.228949</td>\n",
       "      <td>0.314322</td>\n",
       "      <td>0.215540</td>\n",
       "      <td>0.441201</td>\n",
       "      <td>0.157361</td>\n",
       "      <td>0.261277</td>\n",
       "      <td>0.092846</td>\n",
       "      <td>5</td>\n",
       "    </tr>\n",
       "    <tr>\n",
       "      <th>3</th>\n",
       "      <td>0.002061</td>\n",
       "      <td>0.000153</td>\n",
       "      <td>0.004746</td>\n",
       "      <td>0.000636</td>\n",
       "      <td>13</td>\n",
       "      <td>{'n_neighbors': 13}</td>\n",
       "      <td>0.200625</td>\n",
       "      <td>0.259594</td>\n",
       "      <td>0.319224</td>\n",
       "      <td>0.233641</td>\n",
       "      <td>0.414608</td>\n",
       "      <td>0.137949</td>\n",
       "      <td>0.260940</td>\n",
       "      <td>0.088055</td>\n",
       "      <td>6</td>\n",
       "    </tr>\n",
       "    <tr>\n",
       "      <th>4</th>\n",
       "      <td>0.001879</td>\n",
       "      <td>0.000277</td>\n",
       "      <td>0.005103</td>\n",
       "      <td>0.000389</td>\n",
       "      <td>14</td>\n",
       "      <td>{'n_neighbors': 14}</td>\n",
       "      <td>0.247248</td>\n",
       "      <td>0.263735</td>\n",
       "      <td>0.314171</td>\n",
       "      <td>0.206774</td>\n",
       "      <td>0.400884</td>\n",
       "      <td>0.153416</td>\n",
       "      <td>0.264371</td>\n",
       "      <td>0.078568</td>\n",
       "      <td>4</td>\n",
       "    </tr>\n",
       "    <tr>\n",
       "      <th>...</th>\n",
       "      <td>...</td>\n",
       "      <td>...</td>\n",
       "      <td>...</td>\n",
       "      <td>...</td>\n",
       "      <td>...</td>\n",
       "      <td>...</td>\n",
       "      <td>...</td>\n",
       "      <td>...</td>\n",
       "      <td>...</td>\n",
       "      <td>...</td>\n",
       "      <td>...</td>\n",
       "      <td>...</td>\n",
       "      <td>...</td>\n",
       "      <td>...</td>\n",
       "      <td>...</td>\n",
       "    </tr>\n",
       "    <tr>\n",
       "      <th>85</th>\n",
       "      <td>0.001988</td>\n",
       "      <td>0.000574</td>\n",
       "      <td>0.005673</td>\n",
       "      <td>0.000683</td>\n",
       "      <td>95</td>\n",
       "      <td>{'n_neighbors': 95}</td>\n",
       "      <td>0.101542</td>\n",
       "      <td>0.138414</td>\n",
       "      <td>0.302866</td>\n",
       "      <td>0.255584</td>\n",
       "      <td>0.175571</td>\n",
       "      <td>0.313516</td>\n",
       "      <td>0.214582</td>\n",
       "      <td>0.080999</td>\n",
       "      <td>86</td>\n",
       "    </tr>\n",
       "    <tr>\n",
       "      <th>86</th>\n",
       "      <td>0.002155</td>\n",
       "      <td>0.000695</td>\n",
       "      <td>0.005457</td>\n",
       "      <td>0.000734</td>\n",
       "      <td>96</td>\n",
       "      <td>{'n_neighbors': 96}</td>\n",
       "      <td>0.100380</td>\n",
       "      <td>0.138350</td>\n",
       "      <td>0.300760</td>\n",
       "      <td>0.253893</td>\n",
       "      <td>0.174344</td>\n",
       "      <td>0.314993</td>\n",
       "      <td>0.213787</td>\n",
       "      <td>0.081162</td>\n",
       "      <td>87</td>\n",
       "    </tr>\n",
       "    <tr>\n",
       "      <th>87</th>\n",
       "      <td>0.002158</td>\n",
       "      <td>0.000393</td>\n",
       "      <td>0.006008</td>\n",
       "      <td>0.000600</td>\n",
       "      <td>97</td>\n",
       "      <td>{'n_neighbors': 97}</td>\n",
       "      <td>0.100165</td>\n",
       "      <td>0.137444</td>\n",
       "      <td>0.298791</td>\n",
       "      <td>0.252085</td>\n",
       "      <td>0.172707</td>\n",
       "      <td>0.314367</td>\n",
       "      <td>0.212593</td>\n",
       "      <td>0.080856</td>\n",
       "      <td>88</td>\n",
       "    </tr>\n",
       "    <tr>\n",
       "      <th>88</th>\n",
       "      <td>0.001733</td>\n",
       "      <td>0.000537</td>\n",
       "      <td>0.005713</td>\n",
       "      <td>0.000679</td>\n",
       "      <td>98</td>\n",
       "      <td>{'n_neighbors': 98}</td>\n",
       "      <td>0.099377</td>\n",
       "      <td>0.136084</td>\n",
       "      <td>0.297283</td>\n",
       "      <td>0.250061</td>\n",
       "      <td>0.171691</td>\n",
       "      <td>0.313793</td>\n",
       "      <td>0.211382</td>\n",
       "      <td>0.080781</td>\n",
       "      <td>89</td>\n",
       "    </tr>\n",
       "    <tr>\n",
       "      <th>89</th>\n",
       "      <td>0.001995</td>\n",
       "      <td>0.000496</td>\n",
       "      <td>0.005676</td>\n",
       "      <td>0.000702</td>\n",
       "      <td>99</td>\n",
       "      <td>{'n_neighbors': 99}</td>\n",
       "      <td>0.098242</td>\n",
       "      <td>0.134383</td>\n",
       "      <td>0.295733</td>\n",
       "      <td>0.247839</td>\n",
       "      <td>0.171837</td>\n",
       "      <td>0.313215</td>\n",
       "      <td>0.210208</td>\n",
       "      <td>0.080725</td>\n",
       "      <td>90</td>\n",
       "    </tr>\n",
       "  </tbody>\n",
       "</table>\n",
       "<p>90 rows × 15 columns</p>\n",
       "</div>"
      ],
      "text/plain": [
       "    mean_fit_time  std_fit_time  mean_score_time  std_score_time  \\\n",
       "0        0.001995      0.000003         0.005215        0.000591   \n",
       "1        0.002053      0.000588         0.004954        0.000465   \n",
       "2        0.002242      0.000541         0.004617        0.001029   \n",
       "3        0.002061      0.000153         0.004746        0.000636   \n",
       "4        0.001879      0.000277         0.005103        0.000389   \n",
       "..            ...           ...              ...             ...   \n",
       "85       0.001988      0.000574         0.005673        0.000683   \n",
       "86       0.002155      0.000695         0.005457        0.000734   \n",
       "87       0.002158      0.000393         0.006008        0.000600   \n",
       "88       0.001733      0.000537         0.005713        0.000679   \n",
       "89       0.001995      0.000496         0.005676        0.000702   \n",
       "\n",
       "   param_n_neighbors               params  split0_test_score  \\\n",
       "0                 10  {'n_neighbors': 10}           0.239306   \n",
       "1                 11  {'n_neighbors': 11}           0.224621   \n",
       "2                 12  {'n_neighbors': 12}           0.210287   \n",
       "3                 13  {'n_neighbors': 13}           0.200625   \n",
       "4                 14  {'n_neighbors': 14}           0.247248   \n",
       "..               ...                  ...                ...   \n",
       "85                95  {'n_neighbors': 95}           0.101542   \n",
       "86                96  {'n_neighbors': 96}           0.100380   \n",
       "87                97  {'n_neighbors': 97}           0.100165   \n",
       "88                98  {'n_neighbors': 98}           0.099377   \n",
       "89                99  {'n_neighbors': 99}           0.098242   \n",
       "\n",
       "    split1_test_score  split2_test_score  split3_test_score  \\\n",
       "0            0.248983           0.237243           0.258456   \n",
       "1            0.235810           0.294121           0.212625   \n",
       "2            0.228949           0.314322           0.215540   \n",
       "3            0.259594           0.319224           0.233641   \n",
       "4            0.263735           0.314171           0.206774   \n",
       "..                ...                ...                ...   \n",
       "85           0.138414           0.302866           0.255584   \n",
       "86           0.138350           0.300760           0.253893   \n",
       "87           0.137444           0.298791           0.252085   \n",
       "88           0.136084           0.297283           0.250061   \n",
       "89           0.134383           0.295733           0.247839   \n",
       "\n",
       "    split4_test_score  split5_test_score  mean_test_score  std_test_score  \\\n",
       "0            0.443246           0.096452         0.253948        0.100976   \n",
       "1            0.437696           0.156313         0.260198        0.089043   \n",
       "2            0.441201           0.157361         0.261277        0.092846   \n",
       "3            0.414608           0.137949         0.260940        0.088055   \n",
       "4            0.400884           0.153416         0.264371        0.078568   \n",
       "..                ...                ...              ...             ...   \n",
       "85           0.175571           0.313516         0.214582        0.080999   \n",
       "86           0.174344           0.314993         0.213787        0.081162   \n",
       "87           0.172707           0.314367         0.212593        0.080856   \n",
       "88           0.171691           0.313793         0.211382        0.080781   \n",
       "89           0.171837           0.313215         0.210208        0.080725   \n",
       "\n",
       "    rank_test_score  \n",
       "0                18  \n",
       "1                 8  \n",
       "2                 5  \n",
       "3                 6  \n",
       "4                 4  \n",
       "..              ...  \n",
       "85               86  \n",
       "86               87  \n",
       "87               88  \n",
       "88               89  \n",
       "89               90  \n",
       "\n",
       "[90 rows x 15 columns]"
      ]
     },
     "execution_count": 150,
     "metadata": {},
     "output_type": "execute_result"
    }
   ],
   "source": [
    "pd.DataFrame(CV_knn.cv_results_)"
   ]
  },
  {
   "cell_type": "markdown",
   "metadata": {},
   "source": [
    "### - XGBoost"
   ]
  },
  {
   "cell_type": "code",
   "execution_count": 151,
   "metadata": {},
   "outputs": [],
   "source": [
    "xgboost_param_grid = {'n_estimators' : [100,200,300,400,500],\n",
    "              'max_features': ['auto', 'sqrt', 'log2'],\n",
    "              'max_depth' : [4,8,16,32,64],\n",
    "              'random_state': [12]}"
   ]
  },
  {
   "cell_type": "code",
   "execution_count": 154,
   "metadata": {},
   "outputs": [
    {
     "data": {
      "text/plain": [
       "GridSearchCV(cv=5, estimator=GradientBoostingRegressor(),\n",
       "             param_grid={'max_depth': [4, 8, 16, 32, 64],\n",
       "                         'max_features': ['auto', 'sqrt', 'log2'],\n",
       "                         'n_estimators': [100, 200, 300, 400, 500],\n",
       "                         'random_state': [12]},\n",
       "             scoring='r2')"
      ]
     },
     "execution_count": 154,
     "metadata": {},
     "output_type": "execute_result"
    }
   ],
   "source": [
    "CV_xgboost = GridSearchCV(estimator=GradientBoostingRegressor(), param_grid=xgboost_param_grid, cv= 5,scoring='r2')\n",
    "CV_xgboost.fit(X_train, y_train)"
   ]
  },
  {
   "cell_type": "code",
   "execution_count": 155,
   "metadata": {},
   "outputs": [
    {
     "data": {
      "text/plain": [
       "0.6325539548687196"
      ]
     },
     "execution_count": 155,
     "metadata": {},
     "output_type": "execute_result"
    }
   ],
   "source": [
    "CV_xgboost.best_score_"
   ]
  },
  {
   "cell_type": "code",
   "execution_count": 156,
   "metadata": {},
   "outputs": [],
   "source": [
    "model_boosted = CV_xgboost.best_estimator_"
   ]
  },
  {
   "cell_type": "code",
   "execution_count": 157,
   "metadata": {},
   "outputs": [
    {
     "data": {
      "text/plain": [
       "0.7745481674195466"
      ]
     },
     "execution_count": 157,
     "metadata": {},
     "output_type": "execute_result"
    }
   ],
   "source": [
    "model_boosted.score(X_test,y_test)"
   ]
  },
  {
   "cell_type": "code",
   "execution_count": 158,
   "metadata": {},
   "outputs": [
    {
     "data": {
      "text/html": [
       "<div>\n",
       "<style scoped>\n",
       "    .dataframe tbody tr th:only-of-type {\n",
       "        vertical-align: middle;\n",
       "    }\n",
       "\n",
       "    .dataframe tbody tr th {\n",
       "        vertical-align: top;\n",
       "    }\n",
       "\n",
       "    .dataframe thead th {\n",
       "        text-align: right;\n",
       "    }\n",
       "</style>\n",
       "<table border=\"1\" class=\"dataframe\">\n",
       "  <thead>\n",
       "    <tr style=\"text-align: right;\">\n",
       "      <th></th>\n",
       "      <th>mean_fit_time</th>\n",
       "      <th>std_fit_time</th>\n",
       "      <th>mean_score_time</th>\n",
       "      <th>std_score_time</th>\n",
       "      <th>param_max_depth</th>\n",
       "      <th>param_max_features</th>\n",
       "      <th>param_n_estimators</th>\n",
       "      <th>param_random_state</th>\n",
       "      <th>params</th>\n",
       "      <th>split0_test_score</th>\n",
       "      <th>split1_test_score</th>\n",
       "      <th>split2_test_score</th>\n",
       "      <th>split3_test_score</th>\n",
       "      <th>split4_test_score</th>\n",
       "      <th>mean_test_score</th>\n",
       "      <th>std_test_score</th>\n",
       "      <th>rank_test_score</th>\n",
       "    </tr>\n",
       "  </thead>\n",
       "  <tbody>\n",
       "    <tr>\n",
       "      <th>0</th>\n",
       "      <td>0.170476</td>\n",
       "      <td>0.003787</td>\n",
       "      <td>0.002165</td>\n",
       "      <td>0.000489</td>\n",
       "      <td>4</td>\n",
       "      <td>auto</td>\n",
       "      <td>100</td>\n",
       "      <td>12</td>\n",
       "      <td>{'max_depth': 4, 'max_features': 'auto', 'n_es...</td>\n",
       "      <td>0.693415</td>\n",
       "      <td>0.501074</td>\n",
       "      <td>-0.562763</td>\n",
       "      <td>0.668743</td>\n",
       "      <td>0.588282</td>\n",
       "      <td>0.377750</td>\n",
       "      <td>0.475062</td>\n",
       "      <td>51</td>\n",
       "    </tr>\n",
       "    <tr>\n",
       "      <th>1</th>\n",
       "      <td>0.342987</td>\n",
       "      <td>0.002599</td>\n",
       "      <td>0.002194</td>\n",
       "      <td>0.000403</td>\n",
       "      <td>4</td>\n",
       "      <td>auto</td>\n",
       "      <td>200</td>\n",
       "      <td>12</td>\n",
       "      <td>{'max_depth': 4, 'max_features': 'auto', 'n_es...</td>\n",
       "      <td>0.694882</td>\n",
       "      <td>0.439962</td>\n",
       "      <td>-0.568851</td>\n",
       "      <td>0.670715</td>\n",
       "      <td>0.558596</td>\n",
       "      <td>0.359061</td>\n",
       "      <td>0.472712</td>\n",
       "      <td>52</td>\n",
       "    </tr>\n",
       "    <tr>\n",
       "      <th>2</th>\n",
       "      <td>0.532288</td>\n",
       "      <td>0.009105</td>\n",
       "      <td>0.002985</td>\n",
       "      <td>0.000631</td>\n",
       "      <td>4</td>\n",
       "      <td>auto</td>\n",
       "      <td>300</td>\n",
       "      <td>12</td>\n",
       "      <td>{'max_depth': 4, 'max_features': 'auto', 'n_es...</td>\n",
       "      <td>0.695776</td>\n",
       "      <td>0.417235</td>\n",
       "      <td>-0.580349</td>\n",
       "      <td>0.674370</td>\n",
       "      <td>0.547533</td>\n",
       "      <td>0.350913</td>\n",
       "      <td>0.476206</td>\n",
       "      <td>53</td>\n",
       "    </tr>\n",
       "    <tr>\n",
       "      <th>3</th>\n",
       "      <td>0.717261</td>\n",
       "      <td>0.005894</td>\n",
       "      <td>0.003377</td>\n",
       "      <td>0.000470</td>\n",
       "      <td>4</td>\n",
       "      <td>auto</td>\n",
       "      <td>400</td>\n",
       "      <td>12</td>\n",
       "      <td>{'max_depth': 4, 'max_features': 'auto', 'n_es...</td>\n",
       "      <td>0.695622</td>\n",
       "      <td>0.408602</td>\n",
       "      <td>-0.591309</td>\n",
       "      <td>0.674289</td>\n",
       "      <td>0.547841</td>\n",
       "      <td>0.347009</td>\n",
       "      <td>0.480252</td>\n",
       "      <td>54</td>\n",
       "    </tr>\n",
       "    <tr>\n",
       "      <th>4</th>\n",
       "      <td>0.865631</td>\n",
       "      <td>0.016360</td>\n",
       "      <td>0.002522</td>\n",
       "      <td>0.000605</td>\n",
       "      <td>4</td>\n",
       "      <td>auto</td>\n",
       "      <td>500</td>\n",
       "      <td>12</td>\n",
       "      <td>{'max_depth': 4, 'max_features': 'auto', 'n_es...</td>\n",
       "      <td>0.695774</td>\n",
       "      <td>0.408122</td>\n",
       "      <td>-0.596054</td>\n",
       "      <td>0.674804</td>\n",
       "      <td>0.542161</td>\n",
       "      <td>0.344962</td>\n",
       "      <td>0.481716</td>\n",
       "      <td>55</td>\n",
       "    </tr>\n",
       "    <tr>\n",
       "      <th>...</th>\n",
       "      <td>...</td>\n",
       "      <td>...</td>\n",
       "      <td>...</td>\n",
       "      <td>...</td>\n",
       "      <td>...</td>\n",
       "      <td>...</td>\n",
       "      <td>...</td>\n",
       "      <td>...</td>\n",
       "      <td>...</td>\n",
       "      <td>...</td>\n",
       "      <td>...</td>\n",
       "      <td>...</td>\n",
       "      <td>...</td>\n",
       "      <td>...</td>\n",
       "      <td>...</td>\n",
       "      <td>...</td>\n",
       "      <td>...</td>\n",
       "    </tr>\n",
       "    <tr>\n",
       "      <th>70</th>\n",
       "      <td>0.174260</td>\n",
       "      <td>0.001791</td>\n",
       "      <td>0.004678</td>\n",
       "      <td>0.000763</td>\n",
       "      <td>64</td>\n",
       "      <td>log2</td>\n",
       "      <td>100</td>\n",
       "      <td>12</td>\n",
       "      <td>{'max_depth': 64, 'max_features': 'log2', 'n_e...</td>\n",
       "      <td>0.595218</td>\n",
       "      <td>0.462526</td>\n",
       "      <td>0.651078</td>\n",
       "      <td>0.686854</td>\n",
       "      <td>0.486655</td>\n",
       "      <td>0.576466</td>\n",
       "      <td>0.088490</td>\n",
       "      <td>31</td>\n",
       "    </tr>\n",
       "    <tr>\n",
       "      <th>71</th>\n",
       "      <td>0.340644</td>\n",
       "      <td>0.006128</td>\n",
       "      <td>0.007413</td>\n",
       "      <td>0.000495</td>\n",
       "      <td>64</td>\n",
       "      <td>log2</td>\n",
       "      <td>200</td>\n",
       "      <td>12</td>\n",
       "      <td>{'max_depth': 64, 'max_features': 'log2', 'n_e...</td>\n",
       "      <td>0.595231</td>\n",
       "      <td>0.462527</td>\n",
       "      <td>0.651053</td>\n",
       "      <td>0.686859</td>\n",
       "      <td>0.486654</td>\n",
       "      <td>0.576465</td>\n",
       "      <td>0.088487</td>\n",
       "      <td>33</td>\n",
       "    </tr>\n",
       "    <tr>\n",
       "      <th>72</th>\n",
       "      <td>0.384187</td>\n",
       "      <td>0.006273</td>\n",
       "      <td>0.008434</td>\n",
       "      <td>0.000450</td>\n",
       "      <td>64</td>\n",
       "      <td>log2</td>\n",
       "      <td>300</td>\n",
       "      <td>12</td>\n",
       "      <td>{'max_depth': 64, 'max_features': 'log2', 'n_e...</td>\n",
       "      <td>0.595231</td>\n",
       "      <td>0.462527</td>\n",
       "      <td>0.651053</td>\n",
       "      <td>0.686859</td>\n",
       "      <td>0.486654</td>\n",
       "      <td>0.576465</td>\n",
       "      <td>0.088487</td>\n",
       "      <td>35</td>\n",
       "    </tr>\n",
       "    <tr>\n",
       "      <th>73</th>\n",
       "      <td>0.399741</td>\n",
       "      <td>0.005583</td>\n",
       "      <td>0.008129</td>\n",
       "      <td>0.000679</td>\n",
       "      <td>64</td>\n",
       "      <td>log2</td>\n",
       "      <td>400</td>\n",
       "      <td>12</td>\n",
       "      <td>{'max_depth': 64, 'max_features': 'log2', 'n_e...</td>\n",
       "      <td>0.595231</td>\n",
       "      <td>0.462527</td>\n",
       "      <td>0.651053</td>\n",
       "      <td>0.686859</td>\n",
       "      <td>0.486654</td>\n",
       "      <td>0.576465</td>\n",
       "      <td>0.088487</td>\n",
       "      <td>35</td>\n",
       "    </tr>\n",
       "    <tr>\n",
       "      <th>74</th>\n",
       "      <td>0.417361</td>\n",
       "      <td>0.006566</td>\n",
       "      <td>0.008800</td>\n",
       "      <td>0.000734</td>\n",
       "      <td>64</td>\n",
       "      <td>log2</td>\n",
       "      <td>500</td>\n",
       "      <td>12</td>\n",
       "      <td>{'max_depth': 64, 'max_features': 'log2', 'n_e...</td>\n",
       "      <td>0.595231</td>\n",
       "      <td>0.462527</td>\n",
       "      <td>0.651053</td>\n",
       "      <td>0.686859</td>\n",
       "      <td>0.486654</td>\n",
       "      <td>0.576465</td>\n",
       "      <td>0.088487</td>\n",
       "      <td>35</td>\n",
       "    </tr>\n",
       "  </tbody>\n",
       "</table>\n",
       "<p>75 rows × 17 columns</p>\n",
       "</div>"
      ],
      "text/plain": [
       "    mean_fit_time  std_fit_time  mean_score_time  std_score_time  \\\n",
       "0        0.170476      0.003787         0.002165        0.000489   \n",
       "1        0.342987      0.002599         0.002194        0.000403   \n",
       "2        0.532288      0.009105         0.002985        0.000631   \n",
       "3        0.717261      0.005894         0.003377        0.000470   \n",
       "4        0.865631      0.016360         0.002522        0.000605   \n",
       "..            ...           ...              ...             ...   \n",
       "70       0.174260      0.001791         0.004678        0.000763   \n",
       "71       0.340644      0.006128         0.007413        0.000495   \n",
       "72       0.384187      0.006273         0.008434        0.000450   \n",
       "73       0.399741      0.005583         0.008129        0.000679   \n",
       "74       0.417361      0.006566         0.008800        0.000734   \n",
       "\n",
       "   param_max_depth param_max_features param_n_estimators param_random_state  \\\n",
       "0                4               auto                100                 12   \n",
       "1                4               auto                200                 12   \n",
       "2                4               auto                300                 12   \n",
       "3                4               auto                400                 12   \n",
       "4                4               auto                500                 12   \n",
       "..             ...                ...                ...                ...   \n",
       "70              64               log2                100                 12   \n",
       "71              64               log2                200                 12   \n",
       "72              64               log2                300                 12   \n",
       "73              64               log2                400                 12   \n",
       "74              64               log2                500                 12   \n",
       "\n",
       "                                               params  split0_test_score  \\\n",
       "0   {'max_depth': 4, 'max_features': 'auto', 'n_es...           0.693415   \n",
       "1   {'max_depth': 4, 'max_features': 'auto', 'n_es...           0.694882   \n",
       "2   {'max_depth': 4, 'max_features': 'auto', 'n_es...           0.695776   \n",
       "3   {'max_depth': 4, 'max_features': 'auto', 'n_es...           0.695622   \n",
       "4   {'max_depth': 4, 'max_features': 'auto', 'n_es...           0.695774   \n",
       "..                                                ...                ...   \n",
       "70  {'max_depth': 64, 'max_features': 'log2', 'n_e...           0.595218   \n",
       "71  {'max_depth': 64, 'max_features': 'log2', 'n_e...           0.595231   \n",
       "72  {'max_depth': 64, 'max_features': 'log2', 'n_e...           0.595231   \n",
       "73  {'max_depth': 64, 'max_features': 'log2', 'n_e...           0.595231   \n",
       "74  {'max_depth': 64, 'max_features': 'log2', 'n_e...           0.595231   \n",
       "\n",
       "    split1_test_score  split2_test_score  split3_test_score  \\\n",
       "0            0.501074          -0.562763           0.668743   \n",
       "1            0.439962          -0.568851           0.670715   \n",
       "2            0.417235          -0.580349           0.674370   \n",
       "3            0.408602          -0.591309           0.674289   \n",
       "4            0.408122          -0.596054           0.674804   \n",
       "..                ...                ...                ...   \n",
       "70           0.462526           0.651078           0.686854   \n",
       "71           0.462527           0.651053           0.686859   \n",
       "72           0.462527           0.651053           0.686859   \n",
       "73           0.462527           0.651053           0.686859   \n",
       "74           0.462527           0.651053           0.686859   \n",
       "\n",
       "    split4_test_score  mean_test_score  std_test_score  rank_test_score  \n",
       "0            0.588282         0.377750        0.475062               51  \n",
       "1            0.558596         0.359061        0.472712               52  \n",
       "2            0.547533         0.350913        0.476206               53  \n",
       "3            0.547841         0.347009        0.480252               54  \n",
       "4            0.542161         0.344962        0.481716               55  \n",
       "..                ...              ...             ...              ...  \n",
       "70           0.486655         0.576466        0.088490               31  \n",
       "71           0.486654         0.576465        0.088487               33  \n",
       "72           0.486654         0.576465        0.088487               35  \n",
       "73           0.486654         0.576465        0.088487               35  \n",
       "74           0.486654         0.576465        0.088487               35  \n",
       "\n",
       "[75 rows x 17 columns]"
      ]
     },
     "execution_count": 158,
     "metadata": {},
     "output_type": "execute_result"
    }
   ],
   "source": [
    "pd.DataFrame(CV_xgboost.cv_results_)"
   ]
  }
 ],
 "metadata": {
  "kernelspec": {
   "display_name": "Python 3.9.12 ('base')",
   "language": "python",
   "name": "python3"
  },
  "language_info": {
   "codemirror_mode": {
    "name": "ipython",
    "version": 3
   },
   "file_extension": ".py",
   "mimetype": "text/x-python",
   "name": "python",
   "nbconvert_exporter": "python",
   "pygments_lexer": "ipython3",
   "version": "3.9.12"
  },
  "orig_nbformat": 4,
  "vscode": {
   "interpreter": {
    "hash": "bd081ec4775106110a6ec263dfd69dc0c4175c1ef4a4b7bd7cc17da957142225"
   }
  }
 },
 "nbformat": 4,
 "nbformat_minor": 2
}
