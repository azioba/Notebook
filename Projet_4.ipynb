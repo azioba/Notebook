{
 "cells": [
  {
   "cell_type": "code",
   "execution_count": 1,
   "metadata": {},
   "outputs": [],
   "source": [
    "%matplotlib inline\n",
    "import pandas as pd\n",
    "import numpy as np\n",
    "import matplotlib.pyplot as plt\n",
    "import seaborn as sns\n",
    "import shap\n",
    "\n",
    "from sklearn.preprocessing import StandardScaler, OneHotEncoder, LabelBinarizer\n",
    "from sklearn.model_selection import train_test_split, GridSearchCV\n",
    "from sklearn.ensemble import RandomForestRegressor\n",
    "from sklearn.linear_model import Ridge\n",
    "from sklearn.neighbors import KNeighborsRegressor\n",
    "from sklearn.tree import DecisionTreeRegressor\n",
    "from sklearn.metrics import mean_absolute_error as m_a_e, mean_squared_error as m_s_e, r2_score as r2\n",
    "from sklearn.pipeline import Pipeline\n",
    "from sklearn.metrics import confusion_matrix\n",
    "from sklearn.dummy import DummyRegressor\n",
    "from sklearn.ensemble import GradientBoostingRegressor\n",
    "\n",
    "from scipy.stats.mstats import winsorize"
   ]
  },
  {
   "cell_type": "code",
   "execution_count": 2,
   "metadata": {},
   "outputs": [],
   "source": [
    "import warnings\n",
    "warnings.filterwarnings('ignore')"
   ]
  },
  {
   "cell_type": "code",
   "execution_count": 3,
   "metadata": {},
   "outputs": [],
   "source": [
    "dataset = \"E:/Formation Data Scientist/Projet_4/2016_Building_Energy_Benchmarking.csv\""
   ]
  },
  {
   "cell_type": "code",
   "execution_count": 4,
   "metadata": {},
   "outputs": [],
   "source": [
    "df = pd.read_csv(dataset)"
   ]
  },
  {
   "cell_type": "markdown",
   "metadata": {},
   "source": [
    "### <a name='C2'> EDA et Choix des features   </a>"
   ]
  },
  {
   "cell_type": "code",
   "execution_count": 5,
   "metadata": {},
   "outputs": [
    {
     "data": {
      "text/html": [
       "<div>\n",
       "<style scoped>\n",
       "    .dataframe tbody tr th:only-of-type {\n",
       "        vertical-align: middle;\n",
       "    }\n",
       "\n",
       "    .dataframe tbody tr th {\n",
       "        vertical-align: top;\n",
       "    }\n",
       "\n",
       "    .dataframe thead th {\n",
       "        text-align: right;\n",
       "    }\n",
       "</style>\n",
       "<table border=\"1\" class=\"dataframe\">\n",
       "  <thead>\n",
       "    <tr style=\"text-align: right;\">\n",
       "      <th></th>\n",
       "      <th>OSEBuildingID</th>\n",
       "      <th>DataYear</th>\n",
       "      <th>BuildingType</th>\n",
       "      <th>PrimaryPropertyType</th>\n",
       "      <th>PropertyName</th>\n",
       "      <th>Address</th>\n",
       "      <th>City</th>\n",
       "      <th>State</th>\n",
       "      <th>ZipCode</th>\n",
       "      <th>TaxParcelIdentificationNumber</th>\n",
       "      <th>...</th>\n",
       "      <th>Electricity(kWh)</th>\n",
       "      <th>Electricity(kBtu)</th>\n",
       "      <th>NaturalGas(therms)</th>\n",
       "      <th>NaturalGas(kBtu)</th>\n",
       "      <th>DefaultData</th>\n",
       "      <th>Comments</th>\n",
       "      <th>ComplianceStatus</th>\n",
       "      <th>Outlier</th>\n",
       "      <th>TotalGHGEmissions</th>\n",
       "      <th>GHGEmissionsIntensity</th>\n",
       "    </tr>\n",
       "  </thead>\n",
       "  <tbody>\n",
       "    <tr>\n",
       "      <th>0</th>\n",
       "      <td>1</td>\n",
       "      <td>2016</td>\n",
       "      <td>NonResidential</td>\n",
       "      <td>Hotel</td>\n",
       "      <td>Mayflower park hotel</td>\n",
       "      <td>405 Olive way</td>\n",
       "      <td>Seattle</td>\n",
       "      <td>WA</td>\n",
       "      <td>98101.0</td>\n",
       "      <td>0659000030</td>\n",
       "      <td>...</td>\n",
       "      <td>1.156514e+06</td>\n",
       "      <td>3946027.0</td>\n",
       "      <td>12764.52930</td>\n",
       "      <td>1276453.0</td>\n",
       "      <td>False</td>\n",
       "      <td>NaN</td>\n",
       "      <td>Compliant</td>\n",
       "      <td>NaN</td>\n",
       "      <td>249.98</td>\n",
       "      <td>2.83</td>\n",
       "    </tr>\n",
       "    <tr>\n",
       "      <th>1</th>\n",
       "      <td>2</td>\n",
       "      <td>2016</td>\n",
       "      <td>NonResidential</td>\n",
       "      <td>Hotel</td>\n",
       "      <td>Paramount Hotel</td>\n",
       "      <td>724 Pine street</td>\n",
       "      <td>Seattle</td>\n",
       "      <td>WA</td>\n",
       "      <td>98101.0</td>\n",
       "      <td>0659000220</td>\n",
       "      <td>...</td>\n",
       "      <td>9.504252e+05</td>\n",
       "      <td>3242851.0</td>\n",
       "      <td>51450.81641</td>\n",
       "      <td>5145082.0</td>\n",
       "      <td>False</td>\n",
       "      <td>NaN</td>\n",
       "      <td>Compliant</td>\n",
       "      <td>NaN</td>\n",
       "      <td>295.86</td>\n",
       "      <td>2.86</td>\n",
       "    </tr>\n",
       "    <tr>\n",
       "      <th>2</th>\n",
       "      <td>3</td>\n",
       "      <td>2016</td>\n",
       "      <td>NonResidential</td>\n",
       "      <td>Hotel</td>\n",
       "      <td>5673-The Westin Seattle</td>\n",
       "      <td>1900 5th Avenue</td>\n",
       "      <td>Seattle</td>\n",
       "      <td>WA</td>\n",
       "      <td>98101.0</td>\n",
       "      <td>0659000475</td>\n",
       "      <td>...</td>\n",
       "      <td>1.451544e+07</td>\n",
       "      <td>49526664.0</td>\n",
       "      <td>14938.00000</td>\n",
       "      <td>1493800.0</td>\n",
       "      <td>False</td>\n",
       "      <td>NaN</td>\n",
       "      <td>Compliant</td>\n",
       "      <td>NaN</td>\n",
       "      <td>2089.28</td>\n",
       "      <td>2.19</td>\n",
       "    </tr>\n",
       "  </tbody>\n",
       "</table>\n",
       "<p>3 rows × 46 columns</p>\n",
       "</div>"
      ],
      "text/plain": [
       "   OSEBuildingID  DataYear    BuildingType PrimaryPropertyType  \\\n",
       "0              1      2016  NonResidential               Hotel   \n",
       "1              2      2016  NonResidential               Hotel   \n",
       "2              3      2016  NonResidential               Hotel   \n",
       "\n",
       "              PropertyName          Address     City State  ZipCode  \\\n",
       "0     Mayflower park hotel    405 Olive way  Seattle    WA  98101.0   \n",
       "1          Paramount Hotel  724 Pine street  Seattle    WA  98101.0   \n",
       "2  5673-The Westin Seattle  1900 5th Avenue  Seattle    WA  98101.0   \n",
       "\n",
       "  TaxParcelIdentificationNumber  ...  Electricity(kWh) Electricity(kBtu)  \\\n",
       "0                    0659000030  ...      1.156514e+06         3946027.0   \n",
       "1                    0659000220  ...      9.504252e+05         3242851.0   \n",
       "2                    0659000475  ...      1.451544e+07        49526664.0   \n",
       "\n",
       "   NaturalGas(therms)  NaturalGas(kBtu)  DefaultData  Comments  \\\n",
       "0         12764.52930         1276453.0        False       NaN   \n",
       "1         51450.81641         5145082.0        False       NaN   \n",
       "2         14938.00000         1493800.0        False       NaN   \n",
       "\n",
       "   ComplianceStatus  Outlier  TotalGHGEmissions  GHGEmissionsIntensity  \n",
       "0         Compliant      NaN             249.98                   2.83  \n",
       "1         Compliant      NaN             295.86                   2.86  \n",
       "2         Compliant      NaN            2089.28                   2.19  \n",
       "\n",
       "[3 rows x 46 columns]"
      ]
     },
     "execution_count": 5,
     "metadata": {},
     "output_type": "execute_result"
    }
   ],
   "source": [
    "df.head(3)"
   ]
  },
  {
   "cell_type": "code",
   "execution_count": 6,
   "metadata": {},
   "outputs": [
    {
     "name": "stdout",
     "output_type": "stream",
     "text": [
      "<class 'pandas.core.frame.DataFrame'>\n",
      "RangeIndex: 3376 entries, 0 to 3375\n",
      "Data columns (total 46 columns):\n",
      " #   Column                           Non-Null Count  Dtype  \n",
      "---  ------                           --------------  -----  \n",
      " 0   OSEBuildingID                    3376 non-null   int64  \n",
      " 1   DataYear                         3376 non-null   int64  \n",
      " 2   BuildingType                     3376 non-null   object \n",
      " 3   PrimaryPropertyType              3376 non-null   object \n",
      " 4   PropertyName                     3376 non-null   object \n",
      " 5   Address                          3376 non-null   object \n",
      " 6   City                             3376 non-null   object \n",
      " 7   State                            3376 non-null   object \n",
      " 8   ZipCode                          3360 non-null   float64\n",
      " 9   TaxParcelIdentificationNumber    3376 non-null   object \n",
      " 10  CouncilDistrictCode              3376 non-null   int64  \n",
      " 11  Neighborhood                     3376 non-null   object \n",
      " 12  Latitude                         3376 non-null   float64\n",
      " 13  Longitude                        3376 non-null   float64\n",
      " 14  YearBuilt                        3376 non-null   int64  \n",
      " 15  NumberofBuildings                3368 non-null   float64\n",
      " 16  NumberofFloors                   3376 non-null   int64  \n",
      " 17  PropertyGFATotal                 3376 non-null   int64  \n",
      " 18  PropertyGFAParking               3376 non-null   int64  \n",
      " 19  PropertyGFABuilding(s)           3376 non-null   int64  \n",
      " 20  ListOfAllPropertyUseTypes        3367 non-null   object \n",
      " 21  LargestPropertyUseType           3356 non-null   object \n",
      " 22  LargestPropertyUseTypeGFA        3356 non-null   float64\n",
      " 23  SecondLargestPropertyUseType     1679 non-null   object \n",
      " 24  SecondLargestPropertyUseTypeGFA  1679 non-null   float64\n",
      " 25  ThirdLargestPropertyUseType      596 non-null    object \n",
      " 26  ThirdLargestPropertyUseTypeGFA   596 non-null    float64\n",
      " 27  YearsENERGYSTARCertified         119 non-null    object \n",
      " 28  ENERGYSTARScore                  2533 non-null   float64\n",
      " 29  SiteEUI(kBtu/sf)                 3369 non-null   float64\n",
      " 30  SiteEUIWN(kBtu/sf)               3370 non-null   float64\n",
      " 31  SourceEUI(kBtu/sf)               3367 non-null   float64\n",
      " 32  SourceEUIWN(kBtu/sf)             3367 non-null   float64\n",
      " 33  SiteEnergyUse(kBtu)              3371 non-null   float64\n",
      " 34  SiteEnergyUseWN(kBtu)            3370 non-null   float64\n",
      " 35  SteamUse(kBtu)                   3367 non-null   float64\n",
      " 36  Electricity(kWh)                 3367 non-null   float64\n",
      " 37  Electricity(kBtu)                3367 non-null   float64\n",
      " 38  NaturalGas(therms)               3367 non-null   float64\n",
      " 39  NaturalGas(kBtu)                 3367 non-null   float64\n",
      " 40  DefaultData                      3376 non-null   bool   \n",
      " 41  Comments                         0 non-null      float64\n",
      " 42  ComplianceStatus                 3376 non-null   object \n",
      " 43  Outlier                          32 non-null     object \n",
      " 44  TotalGHGEmissions                3367 non-null   float64\n",
      " 45  GHGEmissionsIntensity            3367 non-null   float64\n",
      "dtypes: bool(1), float64(22), int64(8), object(15)\n",
      "memory usage: 1.2+ MB\n"
     ]
    }
   ],
   "source": [
    "df.info()"
   ]
  },
  {
   "cell_type": "markdown",
   "metadata": {},
   "source": []
  },
  {
   "cell_type": "code",
   "execution_count": 7,
   "metadata": {},
   "outputs": [
    {
     "data": {
      "text/plain": [
       "(3376, 46)"
      ]
     },
     "execution_count": 7,
     "metadata": {},
     "output_type": "execute_result"
    }
   ],
   "source": [
    "df.shape"
   ]
  },
  {
   "cell_type": "markdown",
   "metadata": {},
   "source": []
  },
  {
   "cell_type": "markdown",
   "metadata": {},
   "source": [
    "- Exploration des valeurs nulles"
   ]
  },
  {
   "cell_type": "code",
   "execution_count": 8,
   "metadata": {},
   "outputs": [
    {
     "data": {
      "image/png": "[encoded data removed]",
      "text/plain": [
       "<Figure size 1152x864 with 1 Axes>"
      ]
     },
     "metadata": {
      "needs_background": "light"
     },
     "output_type": "display_data"
    }
   ],
   "source": [
    "plt.figure(figsize=(16,12))\n",
    "sns.heatmap(df.isna(),cbar=False)\n",
    "plt.show()"
   ]
  },
  {
   "cell_type": "markdown",
   "metadata": {},
   "source": []
  },
  {
   "cell_type": "markdown",
   "metadata": {},
   "source": [
    "- Typologie des variables"
   ]
  },
  {
   "cell_type": "code",
   "execution_count": 9,
   "metadata": {},
   "outputs": [
    {
     "data": {
      "text/plain": [
       "float64    22\n",
       "object     15\n",
       "int64       8\n",
       "bool        1\n",
       "dtype: int64"
      ]
     },
     "execution_count": 9,
     "metadata": {},
     "output_type": "execute_result"
    }
   ],
   "source": [
    "df.dtypes.value_counts()"
   ]
  },
  {
   "cell_type": "markdown",
   "metadata": {},
   "source": []
  },
  {
   "cell_type": "markdown",
   "metadata": {},
   "source": [
    "- Nombre de variables différentes par Feature"
   ]
  },
  {
   "cell_type": "code",
   "execution_count": 10,
   "metadata": {},
   "outputs": [
    {
     "data": {
      "text/plain": [
       "OSEBuildingID                      3376\n",
       "DataYear                              1\n",
       "BuildingType                          8\n",
       "PrimaryPropertyType                  24\n",
       "PropertyName                       3362\n",
       "Address                            3354\n",
       "City                                  1\n",
       "State                                 1\n",
       "ZipCode                              55\n",
       "TaxParcelIdentificationNumber      3268\n",
       "CouncilDistrictCode                   7\n",
       "Neighborhood                         19\n",
       "Latitude                           2876\n",
       "Longitude                          2656\n",
       "YearBuilt                           113\n",
       "NumberofBuildings                    17\n",
       "NumberofFloors                       50\n",
       "PropertyGFATotal                   3195\n",
       "PropertyGFAParking                  496\n",
       "PropertyGFABuilding(s)             3193\n",
       "ListOfAllPropertyUseTypes           466\n",
       "LargestPropertyUseType               56\n",
       "LargestPropertyUseTypeGFA          3122\n",
       "SecondLargestPropertyUseType         50\n",
       "SecondLargestPropertyUseTypeGFA    1352\n",
       "ThirdLargestPropertyUseType          44\n",
       "ThirdLargestPropertyUseTypeGFA      501\n",
       "YearsENERGYSTARCertified             65\n",
       "ENERGYSTARScore                     100\n",
       "SiteEUI(kBtu/sf)                   1085\n",
       "SiteEUIWN(kBtu/sf)                 1105\n",
       "SourceEUI(kBtu/sf)                 1648\n",
       "SourceEUIWN(kBtu/sf)               1694\n",
       "SiteEnergyUse(kBtu)                3354\n",
       "SiteEnergyUseWN(kBtu)              3341\n",
       "SteamUse(kBtu)                      131\n",
       "Electricity(kWh)                   3352\n",
       "Electricity(kBtu)                  3351\n",
       "NaturalGas(therms)                 2109\n",
       "NaturalGas(kBtu)                   2109\n",
       "DefaultData                           2\n",
       "Comments                              0\n",
       "ComplianceStatus                      4\n",
       "Outlier                               2\n",
       "TotalGHGEmissions                  2818\n",
       "GHGEmissionsIntensity               511\n",
       "dtype: int64"
      ]
     },
     "execution_count": 10,
     "metadata": {},
     "output_type": "execute_result"
    }
   ],
   "source": [
    "df.nunique()"
   ]
  },
  {
   "cell_type": "code",
   "execution_count": 11,
   "metadata": {},
   "outputs": [
    {
     "data": {
      "text/plain": [
       "Low outlier     23\n",
       "High outlier     9\n",
       "Name: Outlier, dtype: int64"
      ]
     },
     "execution_count": 11,
     "metadata": {},
     "output_type": "execute_result"
    }
   ],
   "source": [
    "df['Outlier'].value_counts()"
   ]
  },
  {
   "cell_type": "code",
   "execution_count": 12,
   "metadata": {},
   "outputs": [
    {
     "data": {
      "text/plain": [
       "Compliant                       3211\n",
       "Error - Correct Default Data     113\n",
       "Non-Compliant                     37\n",
       "Missing Data                      15\n",
       "Name: ComplianceStatus, dtype: int64"
      ]
     },
     "execution_count": 12,
     "metadata": {},
     "output_type": "execute_result"
    }
   ],
   "source": [
    "df['ComplianceStatus'].value_counts()"
   ]
  },
  {
   "cell_type": "markdown",
   "metadata": {},
   "source": [
    "On a 8 types de buiding, seuls les buildings résidentiels nous interressent dans le cadre de notre étude"
   ]
  },
  {
   "cell_type": "code",
   "execution_count": 13,
   "metadata": {},
   "outputs": [
    {
     "data": {
      "text/plain": [
       "NonResidential          1460\n",
       "Multifamily LR (1-4)    1018\n",
       "Multifamily MR (5-9)     580\n",
       "Multifamily HR (10+)     110\n",
       "SPS-District K-12         98\n",
       "Nonresidential COS        85\n",
       "Campus                    24\n",
       "Nonresidential WA          1\n",
       "Name: BuildingType, dtype: int64"
      ]
     },
     "execution_count": 13,
     "metadata": {},
     "output_type": "execute_result"
    }
   ],
   "source": [
    "df.iloc[:,2].value_counts()"
   ]
  },
  {
   "cell_type": "markdown",
   "metadata": {},
   "source": [
    "Ici ce sont les buildings de type Multifamily qui nous interressent (rajouter Campus??)"
   ]
  },
  {
   "cell_type": "code",
   "execution_count": 14,
   "metadata": {},
   "outputs": [
    {
     "data": {
      "text/plain": [
       "Low-Rise Multifamily           987\n",
       "Mid-Rise Multifamily           564\n",
       "Small- and Mid-Sized Office    293\n",
       "Other                          256\n",
       "Warehouse                      187\n",
       "Large Office                   173\n",
       "K-12 School                    139\n",
       "Mixed Use Property             133\n",
       "High-Rise Multifamily          105\n",
       "Retail Store                    91\n",
       "Hotel                           77\n",
       "Worship Facility                71\n",
       "Distribution Center             53\n",
       "Senior Care Community           45\n",
       "Supermarket / Grocery Store     40\n",
       "Medical Office                  39\n",
       "Self-Storage Facility           28\n",
       "University                      25\n",
       "Residence Hall                  23\n",
       "Refrigerated Warehouse          12\n",
       "Restaurant                      12\n",
       "Hospital                        10\n",
       "Laboratory                      10\n",
       "Office                           3\n",
       "Name: PrimaryPropertyType, dtype: int64"
      ]
     },
     "execution_count": 14,
     "metadata": {},
     "output_type": "execute_result"
    }
   ],
   "source": [
    "df.iloc[:,3].value_counts()"
   ]
  },
  {
   "cell_type": "code",
   "execution_count": null,
   "metadata": {},
   "outputs": [],
   "source": []
  },
  {
   "cell_type": "markdown",
   "metadata": {},
   "source": [
    "- Nombre de valeures nulles par feature"
   ]
  },
  {
   "cell_type": "code",
   "execution_count": 15,
   "metadata": {},
   "outputs": [
    {
     "data": {
      "text/plain": [
       "OSEBuildingID                         0\n",
       "DataYear                              0\n",
       "BuildingType                          0\n",
       "PrimaryPropertyType                   0\n",
       "PropertyName                          0\n",
       "Address                               0\n",
       "City                                  0\n",
       "State                                 0\n",
       "ZipCode                              16\n",
       "TaxParcelIdentificationNumber         0\n",
       "CouncilDistrictCode                   0\n",
       "Neighborhood                          0\n",
       "Latitude                              0\n",
       "Longitude                             0\n",
       "YearBuilt                             0\n",
       "NumberofBuildings                     8\n",
       "NumberofFloors                        0\n",
       "PropertyGFATotal                      0\n",
       "PropertyGFAParking                    0\n",
       "PropertyGFABuilding(s)                0\n",
       "ListOfAllPropertyUseTypes             9\n",
       "LargestPropertyUseType               20\n",
       "LargestPropertyUseTypeGFA            20\n",
       "SecondLargestPropertyUseType       1697\n",
       "SecondLargestPropertyUseTypeGFA    1697\n",
       "ThirdLargestPropertyUseType        2780\n",
       "ThirdLargestPropertyUseTypeGFA     2780\n",
       "YearsENERGYSTARCertified           3257\n",
       "ENERGYSTARScore                     843\n",
       "SiteEUI(kBtu/sf)                      7\n",
       "SiteEUIWN(kBtu/sf)                    6\n",
       "SourceEUI(kBtu/sf)                    9\n",
       "SourceEUIWN(kBtu/sf)                  9\n",
       "SiteEnergyUse(kBtu)                   5\n",
       "SiteEnergyUseWN(kBtu)                 6\n",
       "SteamUse(kBtu)                        9\n",
       "Electricity(kWh)                      9\n",
       "Electricity(kBtu)                     9\n",
       "NaturalGas(therms)                    9\n",
       "NaturalGas(kBtu)                      9\n",
       "DefaultData                           0\n",
       "Comments                           3376\n",
       "ComplianceStatus                      0\n",
       "Outlier                            3344\n",
       "TotalGHGEmissions                     9\n",
       "GHGEmissionsIntensity                 9\n",
       "dtype: int64"
      ]
     },
     "execution_count": 15,
     "metadata": {},
     "output_type": "execute_result"
    }
   ],
   "source": [
    "df.isna().sum()"
   ]
  },
  {
   "cell_type": "markdown",
   "metadata": {},
   "source": []
  },
  {
   "cell_type": "code",
   "execution_count": 16,
   "metadata": {},
   "outputs": [],
   "source": [
    "building_type = ['NonResidential','NonResidential COS','NonResidential WA'] # Réflechir sur rajouter ou non Campus comme building résidentiel,'Campus','SPS-District K-12',\n",
    "\n",
    "nonResidential = df[df['BuildingType'].isin(building_type)].reset_index(drop=True)"
   ]
  },
  {
   "cell_type": "markdown",
   "metadata": {},
   "source": [
    "- Nos deux targets sont **TotalGHGEmissions** et **SiteEnergyUse(kBtu)**"
   ]
  },
  {
   "cell_type": "code",
   "execution_count": 17,
   "metadata": {},
   "outputs": [],
   "source": [
    "compliant = ['Compliant']\n",
    "\n",
    "nonResidential = nonResidential[nonResidential['ComplianceStatus'].isin(compliant)].reset_index(drop=True)"
   ]
  },
  {
   "cell_type": "code",
   "execution_count": 18,
   "metadata": {},
   "outputs": [
    {
     "data": {
      "text/plain": [
       "(1432, 46)"
      ]
     },
     "execution_count": 18,
     "metadata": {},
     "output_type": "execute_result"
    }
   ],
   "source": [
    "nonResidential.shape"
   ]
  },
  {
   "cell_type": "code",
   "execution_count": 19,
   "metadata": {},
   "outputs": [
    {
     "data": {
      "text/plain": [
       "Small- and Mid-Sized Office    282\n",
       "Other                          181\n",
       "Warehouse                      178\n",
       "Large Office                   164\n",
       "Mixed Use Property             101\n",
       "Retail Store                    85\n",
       "Hotel                           75\n",
       "Worship Facility                69\n",
       "Distribution Center             51\n",
       "Supermarket / Grocery Store     40\n",
       "Medical Office                  38\n",
       "K-12 School                     38\n",
       "Self-Storage Facility           28\n",
       "Residence Hall                  21\n",
       "Senior Care Community           20\n",
       "University                      17\n",
       "Refrigerated Warehouse          12\n",
       "Restaurant                      11\n",
       "Hospital                        10\n",
       "Laboratory                      10\n",
       "Low-Rise Multifamily             1\n",
       "Name: PrimaryPropertyType, dtype: int64"
      ]
     },
     "execution_count": 19,
     "metadata": {},
     "output_type": "execute_result"
    }
   ],
   "source": [
    "nonResidential.iloc[:,3].value_counts()"
   ]
  },
  {
   "cell_type": "markdown",
   "metadata": {},
   "source": [
    "- Nettoyage et choix des features à utiliser"
   ]
  },
  {
   "cell_type": "code",
   "execution_count": 20,
   "metadata": {},
   "outputs": [],
   "source": [
    "nonResidential = nonResidential.drop(nonResidential[nonResidential['PrimaryPropertyType'] == 'Low-Rise Multifamily'].index)"
   ]
  },
  {
   "cell_type": "code",
   "execution_count": 21,
   "metadata": {},
   "outputs": [],
   "source": [
    "nonResidential = nonResidential.drop(nonResidential[nonResidential['PrimaryPropertyType'] == 'Residence Hall'].index)"
   ]
  },
  {
   "cell_type": "code",
   "execution_count": 22,
   "metadata": {},
   "outputs": [
    {
     "data": {
      "text/plain": [
       "Small- and Mid-Sized Office    282\n",
       "Other                          181\n",
       "Warehouse                      178\n",
       "Large Office                   164\n",
       "Mixed Use Property             101\n",
       "Retail Store                    85\n",
       "Hotel                           75\n",
       "Worship Facility                69\n",
       "Distribution Center             51\n",
       "Supermarket / Grocery Store     40\n",
       "K-12 School                     38\n",
       "Medical Office                  38\n",
       "Self-Storage Facility           28\n",
       "Senior Care Community           20\n",
       "University                      17\n",
       "Refrigerated Warehouse          12\n",
       "Restaurant                      11\n",
       "Hospital                        10\n",
       "Laboratory                      10\n",
       "Name: PrimaryPropertyType, dtype: int64"
      ]
     },
     "execution_count": 22,
     "metadata": {},
     "output_type": "execute_result"
    }
   ],
   "source": [
    "nonResidential.iloc[:,3].value_counts()"
   ]
  },
  {
   "cell_type": "code",
   "execution_count": 23,
   "metadata": {},
   "outputs": [
    {
     "data": {
      "text/plain": [
       "OSEBuildingID                         0\n",
       "DataYear                              0\n",
       "BuildingType                          0\n",
       "PrimaryPropertyType                   0\n",
       "PropertyName                          0\n",
       "Address                               0\n",
       "City                                  0\n",
       "State                                 0\n",
       "ZipCode                               0\n",
       "TaxParcelIdentificationNumber         0\n",
       "CouncilDistrictCode                   0\n",
       "Neighborhood                          0\n",
       "Latitude                              0\n",
       "Longitude                             0\n",
       "YearBuilt                             0\n",
       "NumberofBuildings                     0\n",
       "NumberofFloors                        0\n",
       "PropertyGFATotal                      0\n",
       "PropertyGFAParking                    0\n",
       "PropertyGFABuilding(s)                0\n",
       "ListOfAllPropertyUseTypes             0\n",
       "LargestPropertyUseType                4\n",
       "LargestPropertyUseTypeGFA             4\n",
       "SecondLargestPropertyUseType        633\n",
       "SecondLargestPropertyUseTypeGFA     633\n",
       "ThirdLargestPropertyUseType        1102\n",
       "ThirdLargestPropertyUseTypeGFA     1102\n",
       "YearsENERGYSTARCertified           1320\n",
       "ENERGYSTARScore                     454\n",
       "SiteEUI(kBtu/sf)                      0\n",
       "SiteEUIWN(kBtu/sf)                    1\n",
       "SourceEUI(kBtu/sf)                    0\n",
       "SourceEUIWN(kBtu/sf)                  0\n",
       "SiteEnergyUse(kBtu)                   0\n",
       "SiteEnergyUseWN(kBtu)                 1\n",
       "SteamUse(kBtu)                        0\n",
       "Electricity(kWh)                      0\n",
       "Electricity(kBtu)                     0\n",
       "NaturalGas(therms)                    0\n",
       "NaturalGas(kBtu)                      0\n",
       "DefaultData                           0\n",
       "Comments                           1410\n",
       "ComplianceStatus                      0\n",
       "Outlier                            1410\n",
       "TotalGHGEmissions                     0\n",
       "GHGEmissionsIntensity                 0\n",
       "dtype: int64"
      ]
     },
     "execution_count": 23,
     "metadata": {},
     "output_type": "execute_result"
    }
   ],
   "source": [
    "nonResidential.isna().sum()"
   ]
  },
  {
   "cell_type": "code",
   "execution_count": 24,
   "metadata": {},
   "outputs": [
    {
     "data": {
      "text/plain": [
       "Compliant    1410\n",
       "Name: ComplianceStatus, dtype: int64"
      ]
     },
     "execution_count": 24,
     "metadata": {},
     "output_type": "execute_result"
    }
   ],
   "source": [
    "nonResidential['ComplianceStatus'].value_counts()"
   ]
  },
  {
   "cell_type": "code",
   "execution_count": 25,
   "metadata": {},
   "outputs": [
    {
     "data": {
      "text/plain": [
       "Series([], Name: Outlier, dtype: int64)"
      ]
     },
     "execution_count": 25,
     "metadata": {},
     "output_type": "execute_result"
    }
   ],
   "source": [
    "nonResidential['Outlier'].value_counts()"
   ]
  },
  {
   "cell_type": "code",
   "execution_count": 26,
   "metadata": {},
   "outputs": [],
   "source": [
    "nonResidential = nonResidential[nonResidential.Outlier.isnull()]"
   ]
  },
  {
   "cell_type": "code",
   "execution_count": 27,
   "metadata": {},
   "outputs": [],
   "source": [
    "nonResidential = nonResidential[['PrimaryPropertyType','Latitude','Longitude','YearBuilt','NumberofBuildings','NumberofFloors'\\\n",
    "            ,'PropertyGFABuilding(s)','PropertyGFAParking','LargestPropertyUseTypeGFA','SteamUse(kBtu)','Electricity(kBtu)','NaturalGas(kBtu)','TotalGHGEmissions']]"
   ]
  },
  {
   "cell_type": "code",
   "execution_count": 28,
   "metadata": {},
   "outputs": [
    {
     "data": {
      "image/png": "[encoded data removed]",
      "text/plain": [
       "<Figure size 432x288 with 1 Axes>"
      ]
     },
     "metadata": {
      "needs_background": "light"
     },
     "output_type": "display_data"
    }
   ],
   "source": [
    "plt.scatter(nonResidential['Electricity(kBtu)'],nonResidential['NaturalGas(kBtu)'])\n",
    "plt.xlabel('Electricity')\n",
    "plt.ylabel('Natural Gas')\n",
    "plt.show()"
   ]
  },
  {
   "cell_type": "code",
   "execution_count": 29,
   "metadata": {},
   "outputs": [
    {
     "data": {
      "text/plain": [
       "PrimaryPropertyType          0\n",
       "Latitude                     0\n",
       "Longitude                    0\n",
       "YearBuilt                    0\n",
       "NumberofBuildings            0\n",
       "NumberofFloors               0\n",
       "PropertyGFABuilding(s)       0\n",
       "PropertyGFAParking           0\n",
       "LargestPropertyUseTypeGFA    4\n",
       "SteamUse(kBtu)               0\n",
       "Electricity(kBtu)            0\n",
       "NaturalGas(kBtu)             0\n",
       "TotalGHGEmissions            0\n",
       "dtype: int64"
      ]
     },
     "execution_count": 29,
     "metadata": {},
     "output_type": "execute_result"
    }
   ],
   "source": [
    "nonResidential.isna().sum()"
   ]
  },
  {
   "cell_type": "code",
   "execution_count": 30,
   "metadata": {},
   "outputs": [],
   "source": [
    "nonResidential = nonResidential.dropna(axis=0) "
   ]
  },
  {
   "cell_type": "code",
   "execution_count": 31,
   "metadata": {},
   "outputs": [
    {
     "data": {
      "text/plain": [
       "1.0    1329\n",
       "0.0      44\n",
       "2.0      11\n",
       "3.0      10\n",
       "6.0       4\n",
       "5.0       3\n",
       "4.0       2\n",
       "9.0       1\n",
       "7.0       1\n",
       "8.0       1\n",
       "Name: NumberofBuildings, dtype: int64"
      ]
     },
     "execution_count": 31,
     "metadata": {},
     "output_type": "execute_result"
    }
   ],
   "source": [
    "nonResidential['NumberofBuildings'].value_counts()"
   ]
  },
  {
   "cell_type": "markdown",
   "metadata": {},
   "source": [
    "- Calcul de l'age des batiments"
   ]
  },
  {
   "cell_type": "code",
   "execution_count": 32,
   "metadata": {},
   "outputs": [],
   "source": [
    "df1 = nonResidential.copy()"
   ]
  },
  {
   "cell_type": "code",
   "execution_count": 33,
   "metadata": {},
   "outputs": [],
   "source": [
    "def fill_date(data):\n",
    "    if data<= 1920:\n",
    "        return \"_1920\"\n",
    "    elif 1920<data<=1940:\n",
    "        return \"1920_1940\"\n",
    "    elif 1940<data<=1960:\n",
    "        return \"1940_1960\"\n",
    "    elif 1960<data<=1980:\n",
    "        return \"1960_1980\"\n",
    "    elif 1980<data<=2000:\n",
    "        return \"1980_2000\"\n",
    "    elif data>2000:\n",
    "        return \"2000_\""
   ]
  },
  {
   "cell_type": "code",
   "execution_count": 34,
   "metadata": {},
   "outputs": [],
   "source": [
    "df1['YearBuilt'] = df1['YearBuilt'].apply(fill_date)"
   ]
  },
  {
   "cell_type": "code",
   "execution_count": 35,
   "metadata": {},
   "outputs": [],
   "source": [
    "df1['SteamUse(kBtu)'] = df1['SteamUse(kBtu)'].apply(lambda x : 1 if x > 0 else 0 )\n",
    "df1['Electricity(kBtu)'] = df1['Electricity(kBtu)'].apply(lambda x : 1 if x > 0 else 0 )\n",
    "df1['NaturalGas(kBtu)'] = df1['NaturalGas(kBtu)'].apply(lambda x : 1 if x > 0 else 0 )"
   ]
  },
  {
   "cell_type": "code",
   "execution_count": 36,
   "metadata": {},
   "outputs": [],
   "source": [
    "df2_code = pd.get_dummies(df1 ,columns=['PrimaryPropertyType','YearBuilt'])"
   ]
  },
  {
   "cell_type": "code",
   "execution_count": 37,
   "metadata": {},
   "outputs": [],
   "source": [
    "train, test = train_test_split(df2_code, test_size=0.3, random_state=0) "
   ]
  },
  {
   "cell_type": "code",
   "execution_count": 38,
   "metadata": {},
   "outputs": [],
   "source": [
    "X_train, y_train, X_test, y_test = train.drop(columns = \"TotalGHGEmissions\"), train[\"TotalGHGEmissions\"],test.drop(columns = \"TotalGHGEmissions\") ,test[\"TotalGHGEmissions\"]"
   ]
  },
  {
   "cell_type": "code",
   "execution_count": 39,
   "metadata": {},
   "outputs": [],
   "source": [
    "r_forest = RandomForestRegressor(random_state=0)"
   ]
  },
  {
   "cell_type": "code",
   "execution_count": 40,
   "metadata": {},
   "outputs": [
    {
     "data": {
      "text/plain": [
       "RandomForestRegressor(random_state=0)"
      ]
     },
     "execution_count": 40,
     "metadata": {},
     "output_type": "execute_result"
    }
   ],
   "source": [
    "# entrainement du modèle\n",
    "r_forest.fit(X_train, y_train)"
   ]
  },
  {
   "cell_type": "code",
   "execution_count": 41,
   "metadata": {},
   "outputs": [
    {
     "name": "stdout",
     "output_type": "stream",
     "text": [
      "225.28196282908175\n"
     ]
    }
   ],
   "source": [
    "# prédiction\n",
    "preds = r_forest.predict(X_test)\n",
    "\n",
    "# calcul du RMSE\n",
    "print(m_s_e(y_test,preds, squared=False))"
   ]
  },
  {
   "cell_type": "code",
   "execution_count": 42,
   "metadata": {},
   "outputs": [
    {
     "data": {
      "text/plain": [
       "<matplotlib.collections.PathCollection at 0x260947e8a00>"
      ]
     },
     "execution_count": 42,
     "metadata": {},
     "output_type": "execute_result"
    },
    {
     "data": {
      "image/png": "[encoded data removed]",
      "text/plain": [
       "<Figure size 432x288 with 1 Axes>"
      ]
     },
     "metadata": {
      "needs_background": "light"
     },
     "output_type": "display_data"
    }
   ],
   "source": [
    "plt.scatter(preds,y_test)"
   ]
  },
  {
   "cell_type": "code",
   "execution_count": 43,
   "metadata": {},
   "outputs": [],
   "source": [
    "def get_error(n_estimator, X_train, X_test, y_train, y_test):\n",
    "    model = RandomForestRegressor(n_estimators=n_estimator, random_state=0)\n",
    "    model.fit(X_train, y_train)\n",
    "    preds_val = model.predict(X_test)\n",
    "    rmse = m_s_e(y_test, preds_val,squared=False)\n",
    "    mae = m_a_e(y_test, preds_val)\n",
    "    r_2 = r2(y_test,preds_val)\n",
    "    return(rmse, mae, r_2)"
   ]
  },
  {
   "cell_type": "markdown",
   "metadata": {},
   "source": []
  },
  {
   "cell_type": "code",
   "execution_count": 44,
   "metadata": {},
   "outputs": [],
   "source": [
    "def get_dummy_error(strategy, X_train, X_test, y_train, y_test):\n",
    "    model = DummyRegressor(strategy=strategy)\n",
    "    model.fit(X_train, y_train)\n",
    "    preds_val = model.predict(X_test)\n",
    "    rmse = m_s_e(y_test, preds_val,squared=False)\n",
    "    mae = m_a_e(y_test, preds_val)\n",
    "    r_2 = r2(y_test,preds_val)\n",
    "    return(rmse, mae, r_2)"
   ]
  },
  {
   "cell_type": "code",
   "execution_count": 45,
   "metadata": {},
   "outputs": [
    {
     "name": "stdout",
     "output_type": "stream",
     "text": [
      "strategy: mean  \t\t RMSE:  580.784464  \t\t MAE: 186.041318  \t\t R2:  -0.000272\n",
      "strategy: median  \t\t RMSE:  592.373010  \t\t MAE: 140.880142  \t\t R2:  -0.040587\n"
     ]
    }
   ],
   "source": [
    "# comparer RMSE et r2 avec differents valeurs de n_estimator\n",
    "lst_rmse = []\n",
    "lst_mae = []\n",
    "lst_r2 = []\n",
    "for strategy in ['mean', 'median']:\n",
    "    my_rmse = get_dummy_error(strategy, X_train, X_test, y_train, y_test)\n",
    "    lst_rmse.append(my_rmse[0])\n",
    "    lst_mae.append(my_rmse[1])\n",
    "    lst_r2.append(my_rmse[2])\n",
    "    print(\"strategy: %s  \\t\\t RMSE:  %f  \\t\\t MAE: %f  \\t\\t R2:  %f\" %(strategy, my_rmse[0], my_rmse[1], my_rmse[2]))"
   ]
  },
  {
   "cell_type": "code",
   "execution_count": 46,
   "metadata": {},
   "outputs": [
    {
     "name": "stdout",
     "output_type": "stream",
     "text": [
      "N_Estimator: 100  \t\t RMSE:  225.281963  \t\t MAE: 93.918171  \t\t R2:  0.849498\n",
      "N_Estimator: 200  \t\t RMSE:  247.327951  \t\t MAE: 96.410227  \t\t R2:  0.818601\n",
      "N_Estimator: 300  \t\t RMSE:  246.105985  \t\t MAE: 96.628927  \t\t R2:  0.820389\n",
      "N_Estimator: 400  \t\t RMSE:  250.427385  \t\t MAE: 96.689883  \t\t R2:  0.814026\n",
      "N_Estimator: 500  \t\t RMSE:  252.698587  \t\t MAE: 97.167913  \t\t R2:  0.810638\n"
     ]
    }
   ],
   "source": [
    "# comparer RMSE et r2 avec differents valeurs de n_estimator\n",
    "lst_rmse = []\n",
    "lst_mae = []\n",
    "lst_r2 = []\n",
    "for n_estimator in [100, 200, 300, 400, 500]:\n",
    "    my_rmse = get_error(n_estimator, X_train, X_test, y_train, y_test)\n",
    "    lst_rmse.append(my_rmse[0])\n",
    "    lst_mae.append(my_rmse[1])\n",
    "    lst_r2.append(my_rmse[2])\n",
    "    print(\"N_Estimator: %d  \\t\\t RMSE:  %f  \\t\\t MAE: %f  \\t\\t R2:  %f\" %(n_estimator, my_rmse[0], my_rmse[1], my_rmse[2]))"
   ]
  },
  {
   "cell_type": "code",
   "execution_count": 47,
   "metadata": {},
   "outputs": [
    {
     "data": {
      "image/png": "[encoded data removed]",
      "text/plain": [
       "<Figure size 432x288 with 2 Axes>"
      ]
     },
     "metadata": {
      "needs_background": "light"
     },
     "output_type": "display_data"
    }
   ],
   "source": [
    "fig,(ax1,ax2) = plt.subplots(2,1)\n",
    "fig.suptitle('Résultat de l\\'entrainement')\n",
    "\n",
    "ax1.plot(lst_rmse)\n",
    "ax1.set_ylabel('RMSE')\n",
    "ax1.set_xlabel('entrainement no')\n",
    "ax1.grid()\n",
    "\n",
    "ax2.plot(lst_r2)\n",
    "ax2.set_ylabel('R2')\n",
    "ax2.set_xlabel('entrainement no')\n",
    "ax2.grid()\n",
    "\n",
    "plt.show()"
   ]
  },
  {
   "cell_type": "markdown",
   "metadata": {},
   "source": [
    "### - Dummy Regressor"
   ]
  },
  {
   "cell_type": "code",
   "execution_count": 48,
   "metadata": {},
   "outputs": [],
   "source": [
    "dummy_param_grid = {'strategy' : ['mean','median']}"
   ]
  },
  {
   "cell_type": "code",
   "execution_count": 49,
   "metadata": {},
   "outputs": [
    {
     "data": {
      "text/plain": [
       "GridSearchCV(cv=5, estimator=DummyRegressor(),\n",
       "             param_grid={'strategy': ['mean', 'median']}, refit='r2',\n",
       "             scoring=['r2', 'neg_mean_squared_error',\n",
       "                      'neg_root_mean_squared_error'])"
      ]
     },
     "execution_count": 49,
     "metadata": {},
     "output_type": "execute_result"
    }
   ],
   "source": [
    "CV_dummy_mean = GridSearchCV(estimator=DummyRegressor(), param_grid=dummy_param_grid, cv= 5,scoring=['r2','neg_mean_absolute_error','neg_root_mean_squared_error'],refit='r2')\n",
    "CV_dummy_mean.fit(X_train, y_train)"
   ]
  },
  {
   "cell_type": "code",
   "execution_count": 50,
   "metadata": {},
   "outputs": [
    {
     "data": {
      "text/plain": [
       "-0.0037899037977626284"
      ]
     },
     "execution_count": 50,
     "metadata": {},
     "output_type": "execute_result"
    }
   ],
   "source": [
    "CV_dummy_mean.best_score_"
   ]
  },
  {
   "cell_type": "code",
   "execution_count": 51,
   "metadata": {},
   "outputs": [],
   "source": [
    "dummy_model = CV_dummy_mean.best_estimator_"
   ]
  },
  {
   "cell_type": "code",
   "execution_count": 52,
   "metadata": {},
   "outputs": [
    {
     "data": {
      "text/plain": [
       "-0.0002718438953386304"
      ]
     },
     "execution_count": 52,
     "metadata": {},
     "output_type": "execute_result"
    }
   ],
   "source": [
    "dummy_model.score(X_test,y_test)"
   ]
  },
  {
   "cell_type": "code",
   "execution_count": 53,
   "metadata": {},
   "outputs": [
    {
     "data": {
      "text/html": [
       "<div>\n",
       "<style scoped>\n",
       "    .dataframe tbody tr th:only-of-type {\n",
       "        vertical-align: middle;\n",
       "    }\n",
       "\n",
       "    .dataframe tbody tr th {\n",
       "        vertical-align: top;\n",
       "    }\n",
       "\n",
       "    .dataframe thead th {\n",
       "        text-align: right;\n",
       "    }\n",
       "</style>\n",
       "<table border=\"1\" class=\"dataframe\">\n",
       "  <thead>\n",
       "    <tr style=\"text-align: right;\">\n",
       "      <th></th>\n",
       "      <th>mean_fit_time</th>\n",
       "      <th>std_fit_time</th>\n",
       "      <th>mean_score_time</th>\n",
       "      <th>std_score_time</th>\n",
       "      <th>param_strategy</th>\n",
       "      <th>params</th>\n",
       "      <th>split0_test_r2</th>\n",
       "      <th>split1_test_r2</th>\n",
       "      <th>split2_test_r2</th>\n",
       "      <th>split3_test_r2</th>\n",
       "      <th>...</th>\n",
       "      <th>std_test_neg_mean_squared_error</th>\n",
       "      <th>rank_test_neg_mean_squared_error</th>\n",
       "      <th>split0_test_neg_root_mean_squared_error</th>\n",
       "      <th>split1_test_neg_root_mean_squared_error</th>\n",
       "      <th>split2_test_neg_root_mean_squared_error</th>\n",
       "      <th>split3_test_neg_root_mean_squared_error</th>\n",
       "      <th>split4_test_neg_root_mean_squared_error</th>\n",
       "      <th>mean_test_neg_root_mean_squared_error</th>\n",
       "      <th>std_test_neg_root_mean_squared_error</th>\n",
       "      <th>rank_test_neg_root_mean_squared_error</th>\n",
       "    </tr>\n",
       "  </thead>\n",
       "  <tbody>\n",
       "    <tr>\n",
       "      <th>0</th>\n",
       "      <td>0.001197</td>\n",
       "      <td>0.000401</td>\n",
       "      <td>0.000797</td>\n",
       "      <td>0.000399</td>\n",
       "      <td>mean</td>\n",
       "      <td>{'strategy': 'mean'}</td>\n",
       "      <td>-0.003262</td>\n",
       "      <td>-0.001102</td>\n",
       "      <td>-0.001170</td>\n",
       "      <td>-0.013402</td>\n",
       "      <td>...</td>\n",
       "      <td>259359.677374</td>\n",
       "      <td>1</td>\n",
       "      <td>-925.709043</td>\n",
       "      <td>-375.583289</td>\n",
       "      <td>-494.640353</td>\n",
       "      <td>-439.713799</td>\n",
       "      <td>-617.251663</td>\n",
       "      <td>-570.579629</td>\n",
       "      <td>194.530918</td>\n",
       "      <td>1</td>\n",
       "    </tr>\n",
       "    <tr>\n",
       "      <th>1</th>\n",
       "      <td>0.000996</td>\n",
       "      <td>0.000001</td>\n",
       "      <td>0.000998</td>\n",
       "      <td>0.000631</td>\n",
       "      <td>median</td>\n",
       "      <td>{'strategy': 'median'}</td>\n",
       "      <td>-0.033283</td>\n",
       "      <td>-0.136560</td>\n",
       "      <td>-0.052199</td>\n",
       "      <td>-0.037387</td>\n",
       "      <td>...</td>\n",
       "      <td>264376.949807</td>\n",
       "      <td>2</td>\n",
       "      <td>-939.457154</td>\n",
       "      <td>-400.187254</td>\n",
       "      <td>-507.089270</td>\n",
       "      <td>-444.886881</td>\n",
       "      <td>-630.632358</td>\n",
       "      <td>-584.450583</td>\n",
       "      <td>193.689543</td>\n",
       "      <td>2</td>\n",
       "    </tr>\n",
       "  </tbody>\n",
       "</table>\n",
       "<p>2 rows × 30 columns</p>\n",
       "</div>"
      ],
      "text/plain": [
       "   mean_fit_time  std_fit_time  mean_score_time  std_score_time  \\\n",
       "0       0.001197      0.000401         0.000797        0.000399   \n",
       "1       0.000996      0.000001         0.000998        0.000631   \n",
       "\n",
       "  param_strategy                  params  split0_test_r2  split1_test_r2  \\\n",
       "0           mean    {'strategy': 'mean'}       -0.003262       -0.001102   \n",
       "1         median  {'strategy': 'median'}       -0.033283       -0.136560   \n",
       "\n",
       "   split2_test_r2  split3_test_r2  ...  std_test_neg_mean_squared_error  \\\n",
       "0       -0.001170       -0.013402  ...                    259359.677374   \n",
       "1       -0.052199       -0.037387  ...                    264376.949807   \n",
       "\n",
       "   rank_test_neg_mean_squared_error  split0_test_neg_root_mean_squared_error  \\\n",
       "0                                 1                              -925.709043   \n",
       "1                                 2                              -939.457154   \n",
       "\n",
       "   split1_test_neg_root_mean_squared_error  \\\n",
       "0                              -375.583289   \n",
       "1                              -400.187254   \n",
       "\n",
       "   split2_test_neg_root_mean_squared_error  \\\n",
       "0                              -494.640353   \n",
       "1                              -507.089270   \n",
       "\n",
       "   split3_test_neg_root_mean_squared_error  \\\n",
       "0                              -439.713799   \n",
       "1                              -444.886881   \n",
       "\n",
       "   split4_test_neg_root_mean_squared_error  \\\n",
       "0                              -617.251663   \n",
       "1                              -630.632358   \n",
       "\n",
       "   mean_test_neg_root_mean_squared_error  \\\n",
       "0                            -570.579629   \n",
       "1                            -584.450583   \n",
       "\n",
       "   std_test_neg_root_mean_squared_error  rank_test_neg_root_mean_squared_error  \n",
       "0                            194.530918                                      1  \n",
       "1                            193.689543                                      2  \n",
       "\n",
       "[2 rows x 30 columns]"
      ]
     },
     "execution_count": 53,
     "metadata": {},
     "output_type": "execute_result"
    }
   ],
   "source": [
    "pd.DataFrame(CV_dummy_mean.cv_results_)"
   ]
  },
  {
   "cell_type": "markdown",
   "metadata": {},
   "source": [
    "### - Random Forest Regressor\n"
   ]
  },
  {
   "cell_type": "code",
   "execution_count": 54,
   "metadata": {},
   "outputs": [],
   "source": [
    "rfc_param_grid = {'n_estimators' : [100,200,300,400,500],\n",
    "              'max_features': ['auto', 'sqrt', 'log2'],\n",
    "              'max_depth' : [4,8,16,32,64],\n",
    "              'random_state': [12]}"
   ]
  },
  {
   "cell_type": "code",
   "execution_count": 55,
   "metadata": {},
   "outputs": [
    {
     "data": {
      "text/plain": [
       "GridSearchCV(cv=5, estimator=RandomForestRegressor(),\n",
       "             param_grid={'max_depth': [4, 8, 16, 32, 64],\n",
       "                         'max_features': ['auto', 'sqrt', 'log2'],\n",
       "                         'n_estimators': [100, 200, 300, 400, 500],\n",
       "                         'random_state': [12]},\n",
       "             refit='r2',\n",
       "             scoring=['r2', 'neg_mean_squared_error',\n",
       "                      'neg_root_mean_squared_error'])"
      ]
     },
     "execution_count": 55,
     "metadata": {},
     "output_type": "execute_result"
    }
   ],
   "source": [
    "CV_rfc = GridSearchCV(estimator=RandomForestRegressor(), param_grid=rfc_param_grid, cv= 5,scoring=['r2','neg_mean_squared_error','neg_root_mean_squared_error'],refit='r2')\n",
    "CV_rfc.fit(X_train, y_train)"
   ]
  },
  {
   "cell_type": "code",
   "execution_count": 56,
   "metadata": {},
   "outputs": [
    {
     "data": {
      "text/plain": [
       "{'max_depth': 8,\n",
       " 'max_features': 'sqrt',\n",
       " 'n_estimators': 100,\n",
       " 'random_state': 12}"
      ]
     },
     "execution_count": 56,
     "metadata": {},
     "output_type": "execute_result"
    }
   ],
   "source": [
    "CV_rfc.best_params_"
   ]
  },
  {
   "cell_type": "code",
   "execution_count": 57,
   "metadata": {},
   "outputs": [
    {
     "data": {
      "text/plain": [
       "0.6074766656519976"
      ]
     },
     "execution_count": 57,
     "metadata": {},
     "output_type": "execute_result"
    }
   ],
   "source": [
    "CV_rfc.best_score_"
   ]
  },
  {
   "cell_type": "code",
   "execution_count": 58,
   "metadata": {},
   "outputs": [],
   "source": [
    "model = CV_rfc.best_estimator_"
   ]
  },
  {
   "cell_type": "code",
   "execution_count": 59,
   "metadata": {},
   "outputs": [
    {
     "data": {
      "text/plain": [
       "0.780987580384676"
      ]
     },
     "execution_count": 59,
     "metadata": {},
     "output_type": "execute_result"
    }
   ],
   "source": [
    "model.score(X_test,y_test)"
   ]
  },
  {
   "cell_type": "code",
   "execution_count": 60,
   "metadata": {},
   "outputs": [
    {
     "data": {
      "text/html": [
       "<div>\n",
       "<style scoped>\n",
       "    .dataframe tbody tr th:only-of-type {\n",
       "        vertical-align: middle;\n",
       "    }\n",
       "\n",
       "    .dataframe tbody tr th {\n",
       "        vertical-align: top;\n",
       "    }\n",
       "\n",
       "    .dataframe thead th {\n",
       "        text-align: right;\n",
       "    }\n",
       "</style>\n",
       "<table border=\"1\" class=\"dataframe\">\n",
       "  <thead>\n",
       "    <tr style=\"text-align: right;\">\n",
       "      <th></th>\n",
       "      <th>0</th>\n",
       "    </tr>\n",
       "  </thead>\n",
       "  <tbody>\n",
       "    <tr>\n",
       "      <th>0</th>\n",
       "      <td>0.048303</td>\n",
       "    </tr>\n",
       "    <tr>\n",
       "      <th>1</th>\n",
       "      <td>0.061858</td>\n",
       "    </tr>\n",
       "    <tr>\n",
       "      <th>2</th>\n",
       "      <td>0.148728</td>\n",
       "    </tr>\n",
       "    <tr>\n",
       "      <th>3</th>\n",
       "      <td>0.047227</td>\n",
       "    </tr>\n",
       "    <tr>\n",
       "      <th>4</th>\n",
       "      <td>0.167477</td>\n",
       "    </tr>\n",
       "    <tr>\n",
       "      <th>5</th>\n",
       "      <td>0.007502</td>\n",
       "    </tr>\n",
       "    <tr>\n",
       "      <th>6</th>\n",
       "      <td>0.180036</td>\n",
       "    </tr>\n",
       "    <tr>\n",
       "      <th>7</th>\n",
       "      <td>0.028273</td>\n",
       "    </tr>\n",
       "    <tr>\n",
       "      <th>8</th>\n",
       "      <td>0.000292</td>\n",
       "    </tr>\n",
       "    <tr>\n",
       "      <th>9</th>\n",
       "      <td>0.009629</td>\n",
       "    </tr>\n",
       "    <tr>\n",
       "      <th>10</th>\n",
       "      <td>0.000207</td>\n",
       "    </tr>\n",
       "    <tr>\n",
       "      <th>11</th>\n",
       "      <td>0.214281</td>\n",
       "    </tr>\n",
       "    <tr>\n",
       "      <th>12</th>\n",
       "      <td>0.003549</td>\n",
       "    </tr>\n",
       "    <tr>\n",
       "      <th>13</th>\n",
       "      <td>0.000022</td>\n",
       "    </tr>\n",
       "    <tr>\n",
       "      <th>14</th>\n",
       "      <td>0.012516</td>\n",
       "    </tr>\n",
       "    <tr>\n",
       "      <th>15</th>\n",
       "      <td>0.012224</td>\n",
       "    </tr>\n",
       "    <tr>\n",
       "      <th>16</th>\n",
       "      <td>0.004214</td>\n",
       "    </tr>\n",
       "    <tr>\n",
       "      <th>17</th>\n",
       "      <td>0.001721</td>\n",
       "    </tr>\n",
       "    <tr>\n",
       "      <th>18</th>\n",
       "      <td>0.004017</td>\n",
       "    </tr>\n",
       "    <tr>\n",
       "      <th>19</th>\n",
       "      <td>0.000018</td>\n",
       "    </tr>\n",
       "    <tr>\n",
       "      <th>20</th>\n",
       "      <td>0.000125</td>\n",
       "    </tr>\n",
       "    <tr>\n",
       "      <th>21</th>\n",
       "      <td>0.001173</td>\n",
       "    </tr>\n",
       "    <tr>\n",
       "      <th>22</th>\n",
       "      <td>0.000047</td>\n",
       "    </tr>\n",
       "    <tr>\n",
       "      <th>23</th>\n",
       "      <td>0.000625</td>\n",
       "    </tr>\n",
       "    <tr>\n",
       "      <th>24</th>\n",
       "      <td>0.003084</td>\n",
       "    </tr>\n",
       "    <tr>\n",
       "      <th>25</th>\n",
       "      <td>0.000467</td>\n",
       "    </tr>\n",
       "    <tr>\n",
       "      <th>26</th>\n",
       "      <td>0.000316</td>\n",
       "    </tr>\n",
       "    <tr>\n",
       "      <th>27</th>\n",
       "      <td>0.002676</td>\n",
       "    </tr>\n",
       "    <tr>\n",
       "      <th>28</th>\n",
       "      <td>0.000125</td>\n",
       "    </tr>\n",
       "    <tr>\n",
       "      <th>29</th>\n",
       "      <td>0.001928</td>\n",
       "    </tr>\n",
       "    <tr>\n",
       "      <th>30</th>\n",
       "      <td>0.008561</td>\n",
       "    </tr>\n",
       "    <tr>\n",
       "      <th>31</th>\n",
       "      <td>0.007236</td>\n",
       "    </tr>\n",
       "    <tr>\n",
       "      <th>32</th>\n",
       "      <td>0.011409</td>\n",
       "    </tr>\n",
       "    <tr>\n",
       "      <th>33</th>\n",
       "      <td>0.004390</td>\n",
       "    </tr>\n",
       "    <tr>\n",
       "      <th>34</th>\n",
       "      <td>0.005744</td>\n",
       "    </tr>\n",
       "  </tbody>\n",
       "</table>\n",
       "</div>"
      ],
      "text/plain": [
       "           0\n",
       "0   0.048303\n",
       "1   0.061858\n",
       "2   0.148728\n",
       "3   0.047227\n",
       "4   0.167477\n",
       "5   0.007502\n",
       "6   0.180036\n",
       "7   0.028273\n",
       "8   0.000292\n",
       "9   0.009629\n",
       "10  0.000207\n",
       "11  0.214281\n",
       "12  0.003549\n",
       "13  0.000022\n",
       "14  0.012516\n",
       "15  0.012224\n",
       "16  0.004214\n",
       "17  0.001721\n",
       "18  0.004017\n",
       "19  0.000018\n",
       "20  0.000125\n",
       "21  0.001173\n",
       "22  0.000047\n",
       "23  0.000625\n",
       "24  0.003084\n",
       "25  0.000467\n",
       "26  0.000316\n",
       "27  0.002676\n",
       "28  0.000125\n",
       "29  0.001928\n",
       "30  0.008561\n",
       "31  0.007236\n",
       "32  0.011409\n",
       "33  0.004390\n",
       "34  0.005744"
      ]
     },
     "execution_count": 60,
     "metadata": {},
     "output_type": "execute_result"
    }
   ],
   "source": [
    "pd.DataFrame(model.feature_importances_)"
   ]
  },
  {
   "cell_type": "code",
   "execution_count": 61,
   "metadata": {},
   "outputs": [
    {
     "data": {
      "text/html": [
       "<div>\n",
       "<style scoped>\n",
       "    .dataframe tbody tr th:only-of-type {\n",
       "        vertical-align: middle;\n",
       "    }\n",
       "\n",
       "    .dataframe tbody tr th {\n",
       "        vertical-align: top;\n",
       "    }\n",
       "\n",
       "    .dataframe thead th {\n",
       "        text-align: right;\n",
       "    }\n",
       "</style>\n",
       "<table border=\"1\" class=\"dataframe\">\n",
       "  <thead>\n",
       "    <tr style=\"text-align: right;\">\n",
       "      <th></th>\n",
       "      <th>mean_fit_time</th>\n",
       "      <th>std_fit_time</th>\n",
       "      <th>mean_score_time</th>\n",
       "      <th>std_score_time</th>\n",
       "      <th>param_max_depth</th>\n",
       "      <th>param_max_features</th>\n",
       "      <th>param_n_estimators</th>\n",
       "      <th>param_random_state</th>\n",
       "      <th>params</th>\n",
       "      <th>split0_test_r2</th>\n",
       "      <th>...</th>\n",
       "      <th>std_test_neg_mean_squared_error</th>\n",
       "      <th>rank_test_neg_mean_squared_error</th>\n",
       "      <th>split0_test_neg_root_mean_squared_error</th>\n",
       "      <th>split1_test_neg_root_mean_squared_error</th>\n",
       "      <th>split2_test_neg_root_mean_squared_error</th>\n",
       "      <th>split3_test_neg_root_mean_squared_error</th>\n",
       "      <th>split4_test_neg_root_mean_squared_error</th>\n",
       "      <th>mean_test_neg_root_mean_squared_error</th>\n",
       "      <th>std_test_neg_root_mean_squared_error</th>\n",
       "      <th>rank_test_neg_root_mean_squared_error</th>\n",
       "    </tr>\n",
       "  </thead>\n",
       "  <tbody>\n",
       "    <tr>\n",
       "      <th>0</th>\n",
       "      <td>0.187290</td>\n",
       "      <td>0.006617</td>\n",
       "      <td>0.008448</td>\n",
       "      <td>0.000618</td>\n",
       "      <td>4</td>\n",
       "      <td>auto</td>\n",
       "      <td>100</td>\n",
       "      <td>12</td>\n",
       "      <td>{'max_depth': 4, 'max_features': 'auto', 'n_es...</td>\n",
       "      <td>0.648306</td>\n",
       "      <td>...</td>\n",
       "      <td>82893.887292</td>\n",
       "      <td>59</td>\n",
       "      <td>-548.087136</td>\n",
       "      <td>-388.863129</td>\n",
       "      <td>-312.854020</td>\n",
       "      <td>-236.616034</td>\n",
       "      <td>-408.280553</td>\n",
       "      <td>-378.940174</td>\n",
       "      <td>104.109133</td>\n",
       "      <td>65</td>\n",
       "    </tr>\n",
       "    <tr>\n",
       "      <th>1</th>\n",
       "      <td>0.386914</td>\n",
       "      <td>0.020215</td>\n",
       "      <td>0.015755</td>\n",
       "      <td>0.000857</td>\n",
       "      <td>4</td>\n",
       "      <td>auto</td>\n",
       "      <td>200</td>\n",
       "      <td>12</td>\n",
       "      <td>{'max_depth': 4, 'max_features': 'auto', 'n_es...</td>\n",
       "      <td>0.636476</td>\n",
       "      <td>...</td>\n",
       "      <td>83580.194736</td>\n",
       "      <td>69</td>\n",
       "      <td>-557.229412</td>\n",
       "      <td>-392.126936</td>\n",
       "      <td>-326.451310</td>\n",
       "      <td>-252.145078</td>\n",
       "      <td>-411.594930</td>\n",
       "      <td>-387.909533</td>\n",
       "      <td>101.446643</td>\n",
       "      <td>75</td>\n",
       "    </tr>\n",
       "    <tr>\n",
       "      <th>2</th>\n",
       "      <td>0.591961</td>\n",
       "      <td>0.021724</td>\n",
       "      <td>0.022384</td>\n",
       "      <td>0.000853</td>\n",
       "      <td>4</td>\n",
       "      <td>auto</td>\n",
       "      <td>300</td>\n",
       "      <td>12</td>\n",
       "      <td>{'max_depth': 4, 'max_features': 'auto', 'n_es...</td>\n",
       "      <td>0.635130</td>\n",
       "      <td>...</td>\n",
       "      <td>87692.910559</td>\n",
       "      <td>60</td>\n",
       "      <td>-558.260061</td>\n",
       "      <td>-388.673937</td>\n",
       "      <td>-324.887825</td>\n",
       "      <td>-219.154707</td>\n",
       "      <td>-396.931187</td>\n",
       "      <td>-377.581544</td>\n",
       "      <td>110.469785</td>\n",
       "      <td>62</td>\n",
       "    </tr>\n",
       "    <tr>\n",
       "      <th>3</th>\n",
       "      <td>0.780462</td>\n",
       "      <td>0.019011</td>\n",
       "      <td>0.028711</td>\n",
       "      <td>0.000501</td>\n",
       "      <td>4</td>\n",
       "      <td>auto</td>\n",
       "      <td>400</td>\n",
       "      <td>12</td>\n",
       "      <td>{'max_depth': 4, 'max_features': 'auto', 'n_es...</td>\n",
       "      <td>0.637670</td>\n",
       "      <td>...</td>\n",
       "      <td>87683.112186</td>\n",
       "      <td>57</td>\n",
       "      <td>-556.313284</td>\n",
       "      <td>-389.665314</td>\n",
       "      <td>-319.322280</td>\n",
       "      <td>-215.914651</td>\n",
       "      <td>-398.587389</td>\n",
       "      <td>-375.960584</td>\n",
       "      <td>111.399719</td>\n",
       "      <td>60</td>\n",
       "    </tr>\n",
       "    <tr>\n",
       "      <th>4</th>\n",
       "      <td>0.989209</td>\n",
       "      <td>0.006008</td>\n",
       "      <td>0.037617</td>\n",
       "      <td>0.005425</td>\n",
       "      <td>4</td>\n",
       "      <td>auto</td>\n",
       "      <td>500</td>\n",
       "      <td>12</td>\n",
       "      <td>{'max_depth': 4, 'max_features': 'auto', 'n_es...</td>\n",
       "      <td>0.635325</td>\n",
       "      <td>...</td>\n",
       "      <td>88885.319168</td>\n",
       "      <td>56</td>\n",
       "      <td>-558.110638</td>\n",
       "      <td>-389.635295</td>\n",
       "      <td>-324.482432</td>\n",
       "      <td>-207.287668</td>\n",
       "      <td>-390.892322</td>\n",
       "      <td>-374.081671</td>\n",
       "      <td>113.729062</td>\n",
       "      <td>57</td>\n",
       "    </tr>\n",
       "    <tr>\n",
       "      <th>...</th>\n",
       "      <td>...</td>\n",
       "      <td>...</td>\n",
       "      <td>...</td>\n",
       "      <td>...</td>\n",
       "      <td>...</td>\n",
       "      <td>...</td>\n",
       "      <td>...</td>\n",
       "      <td>...</td>\n",
       "      <td>...</td>\n",
       "      <td>...</td>\n",
       "      <td>...</td>\n",
       "      <td>...</td>\n",
       "      <td>...</td>\n",
       "      <td>...</td>\n",
       "      <td>...</td>\n",
       "      <td>...</td>\n",
       "      <td>...</td>\n",
       "      <td>...</td>\n",
       "      <td>...</td>\n",
       "      <td>...</td>\n",
       "      <td>...</td>\n",
       "    </tr>\n",
       "    <tr>\n",
       "      <th>70</th>\n",
       "      <td>0.192846</td>\n",
       "      <td>0.007848</td>\n",
       "      <td>0.011569</td>\n",
       "      <td>0.000797</td>\n",
       "      <td>64</td>\n",
       "      <td>log2</td>\n",
       "      <td>100</td>\n",
       "      <td>12</td>\n",
       "      <td>{'max_depth': 64, 'max_features': 'log2', 'n_e...</td>\n",
       "      <td>0.551305</td>\n",
       "      <td>...</td>\n",
       "      <td>124422.528217</td>\n",
       "      <td>22</td>\n",
       "      <td>-619.074448</td>\n",
       "      <td>-311.756410</td>\n",
       "      <td>-318.406529</td>\n",
       "      <td>-128.914512</td>\n",
       "      <td>-375.869187</td>\n",
       "      <td>-350.804217</td>\n",
       "      <td>157.738107</td>\n",
       "      <td>13</td>\n",
       "    </tr>\n",
       "    <tr>\n",
       "      <th>71</th>\n",
       "      <td>0.362600</td>\n",
       "      <td>0.010339</td>\n",
       "      <td>0.021476</td>\n",
       "      <td>0.002423</td>\n",
       "      <td>64</td>\n",
       "      <td>log2</td>\n",
       "      <td>200</td>\n",
       "      <td>12</td>\n",
       "      <td>{'max_depth': 64, 'max_features': 'log2', 'n_e...</td>\n",
       "      <td>0.586127</td>\n",
       "      <td>...</td>\n",
       "      <td>113464.048909</td>\n",
       "      <td>5</td>\n",
       "      <td>-594.566727</td>\n",
       "      <td>-315.010722</td>\n",
       "      <td>-319.642883</td>\n",
       "      <td>-121.280286</td>\n",
       "      <td>-383.310159</td>\n",
       "      <td>-346.762155</td>\n",
       "      <td>151.873990</td>\n",
       "      <td>5</td>\n",
       "    </tr>\n",
       "    <tr>\n",
       "      <th>72</th>\n",
       "      <td>0.584412</td>\n",
       "      <td>0.010231</td>\n",
       "      <td>0.032533</td>\n",
       "      <td>0.002166</td>\n",
       "      <td>64</td>\n",
       "      <td>log2</td>\n",
       "      <td>300</td>\n",
       "      <td>12</td>\n",
       "      <td>{'max_depth': 64, 'max_features': 'log2', 'n_e...</td>\n",
       "      <td>0.583226</td>\n",
       "      <td>...</td>\n",
       "      <td>113379.858979</td>\n",
       "      <td>13</td>\n",
       "      <td>-596.647344</td>\n",
       "      <td>-311.581177</td>\n",
       "      <td>-330.430164</td>\n",
       "      <td>-133.917057</td>\n",
       "      <td>-389.358652</td>\n",
       "      <td>-352.386879</td>\n",
       "      <td>148.933779</td>\n",
       "      <td>17</td>\n",
       "    </tr>\n",
       "    <tr>\n",
       "      <th>73</th>\n",
       "      <td>0.768778</td>\n",
       "      <td>0.015250</td>\n",
       "      <td>0.041127</td>\n",
       "      <td>0.002074</td>\n",
       "      <td>64</td>\n",
       "      <td>log2</td>\n",
       "      <td>400</td>\n",
       "      <td>12</td>\n",
       "      <td>{'max_depth': 64, 'max_features': 'log2', 'n_e...</td>\n",
       "      <td>0.576470</td>\n",
       "      <td>...</td>\n",
       "      <td>115023.308981</td>\n",
       "      <td>40</td>\n",
       "      <td>-601.463493</td>\n",
       "      <td>-311.315856</td>\n",
       "      <td>-340.329087</td>\n",
       "      <td>-135.907245</td>\n",
       "      <td>-393.741656</td>\n",
       "      <td>-356.551467</td>\n",
       "      <td>149.905510</td>\n",
       "      <td>31</td>\n",
       "    </tr>\n",
       "    <tr>\n",
       "      <th>74</th>\n",
       "      <td>0.979056</td>\n",
       "      <td>0.030864</td>\n",
       "      <td>0.051259</td>\n",
       "      <td>0.002957</td>\n",
       "      <td>64</td>\n",
       "      <td>log2</td>\n",
       "      <td>500</td>\n",
       "      <td>12</td>\n",
       "      <td>{'max_depth': 64, 'max_features': 'log2', 'n_e...</td>\n",
       "      <td>0.574180</td>\n",
       "      <td>...</td>\n",
       "      <td>116392.498658</td>\n",
       "      <td>28</td>\n",
       "      <td>-603.087377</td>\n",
       "      <td>-304.753691</td>\n",
       "      <td>-337.404809</td>\n",
       "      <td>-133.436559</td>\n",
       "      <td>-393.726058</td>\n",
       "      <td>-354.481699</td>\n",
       "      <td>151.637958</td>\n",
       "      <td>25</td>\n",
       "    </tr>\n",
       "  </tbody>\n",
       "</table>\n",
       "<p>75 rows × 33 columns</p>\n",
       "</div>"
      ],
      "text/plain": [
       "    mean_fit_time  std_fit_time  mean_score_time  std_score_time  \\\n",
       "0        0.187290      0.006617         0.008448        0.000618   \n",
       "1        0.386914      0.020215         0.015755        0.000857   \n",
       "2        0.591961      0.021724         0.022384        0.000853   \n",
       "3        0.780462      0.019011         0.028711        0.000501   \n",
       "4        0.989209      0.006008         0.037617        0.005425   \n",
       "..            ...           ...              ...             ...   \n",
       "70       0.192846      0.007848         0.011569        0.000797   \n",
       "71       0.362600      0.010339         0.021476        0.002423   \n",
       "72       0.584412      0.010231         0.032533        0.002166   \n",
       "73       0.768778      0.015250         0.041127        0.002074   \n",
       "74       0.979056      0.030864         0.051259        0.002957   \n",
       "\n",
       "   param_max_depth param_max_features param_n_estimators param_random_state  \\\n",
       "0                4               auto                100                 12   \n",
       "1                4               auto                200                 12   \n",
       "2                4               auto                300                 12   \n",
       "3                4               auto                400                 12   \n",
       "4                4               auto                500                 12   \n",
       "..             ...                ...                ...                ...   \n",
       "70              64               log2                100                 12   \n",
       "71              64               log2                200                 12   \n",
       "72              64               log2                300                 12   \n",
       "73              64               log2                400                 12   \n",
       "74              64               log2                500                 12   \n",
       "\n",
       "                                               params  split0_test_r2  ...  \\\n",
       "0   {'max_depth': 4, 'max_features': 'auto', 'n_es...        0.648306  ...   \n",
       "1   {'max_depth': 4, 'max_features': 'auto', 'n_es...        0.636476  ...   \n",
       "2   {'max_depth': 4, 'max_features': 'auto', 'n_es...        0.635130  ...   \n",
       "3   {'max_depth': 4, 'max_features': 'auto', 'n_es...        0.637670  ...   \n",
       "4   {'max_depth': 4, 'max_features': 'auto', 'n_es...        0.635325  ...   \n",
       "..                                                ...             ...  ...   \n",
       "70  {'max_depth': 64, 'max_features': 'log2', 'n_e...        0.551305  ...   \n",
       "71  {'max_depth': 64, 'max_features': 'log2', 'n_e...        0.586127  ...   \n",
       "72  {'max_depth': 64, 'max_features': 'log2', 'n_e...        0.583226  ...   \n",
       "73  {'max_depth': 64, 'max_features': 'log2', 'n_e...        0.576470  ...   \n",
       "74  {'max_depth': 64, 'max_features': 'log2', 'n_e...        0.574180  ...   \n",
       "\n",
       "    std_test_neg_mean_squared_error  rank_test_neg_mean_squared_error  \\\n",
       "0                      82893.887292                                59   \n",
       "1                      83580.194736                                69   \n",
       "2                      87692.910559                                60   \n",
       "3                      87683.112186                                57   \n",
       "4                      88885.319168                                56   \n",
       "..                              ...                               ...   \n",
       "70                    124422.528217                                22   \n",
       "71                    113464.048909                                 5   \n",
       "72                    113379.858979                                13   \n",
       "73                    115023.308981                                40   \n",
       "74                    116392.498658                                28   \n",
       "\n",
       "    split0_test_neg_root_mean_squared_error  \\\n",
       "0                               -548.087136   \n",
       "1                               -557.229412   \n",
       "2                               -558.260061   \n",
       "3                               -556.313284   \n",
       "4                               -558.110638   \n",
       "..                                      ...   \n",
       "70                              -619.074448   \n",
       "71                              -594.566727   \n",
       "72                              -596.647344   \n",
       "73                              -601.463493   \n",
       "74                              -603.087377   \n",
       "\n",
       "    split1_test_neg_root_mean_squared_error  \\\n",
       "0                               -388.863129   \n",
       "1                               -392.126936   \n",
       "2                               -388.673937   \n",
       "3                               -389.665314   \n",
       "4                               -389.635295   \n",
       "..                                      ...   \n",
       "70                              -311.756410   \n",
       "71                              -315.010722   \n",
       "72                              -311.581177   \n",
       "73                              -311.315856   \n",
       "74                              -304.753691   \n",
       "\n",
       "    split2_test_neg_root_mean_squared_error  \\\n",
       "0                               -312.854020   \n",
       "1                               -326.451310   \n",
       "2                               -324.887825   \n",
       "3                               -319.322280   \n",
       "4                               -324.482432   \n",
       "..                                      ...   \n",
       "70                              -318.406529   \n",
       "71                              -319.642883   \n",
       "72                              -330.430164   \n",
       "73                              -340.329087   \n",
       "74                              -337.404809   \n",
       "\n",
       "    split3_test_neg_root_mean_squared_error  \\\n",
       "0                               -236.616034   \n",
       "1                               -252.145078   \n",
       "2                               -219.154707   \n",
       "3                               -215.914651   \n",
       "4                               -207.287668   \n",
       "..                                      ...   \n",
       "70                              -128.914512   \n",
       "71                              -121.280286   \n",
       "72                              -133.917057   \n",
       "73                              -135.907245   \n",
       "74                              -133.436559   \n",
       "\n",
       "    split4_test_neg_root_mean_squared_error  \\\n",
       "0                               -408.280553   \n",
       "1                               -411.594930   \n",
       "2                               -396.931187   \n",
       "3                               -398.587389   \n",
       "4                               -390.892322   \n",
       "..                                      ...   \n",
       "70                              -375.869187   \n",
       "71                              -383.310159   \n",
       "72                              -389.358652   \n",
       "73                              -393.741656   \n",
       "74                              -393.726058   \n",
       "\n",
       "    mean_test_neg_root_mean_squared_error  \\\n",
       "0                             -378.940174   \n",
       "1                             -387.909533   \n",
       "2                             -377.581544   \n",
       "3                             -375.960584   \n",
       "4                             -374.081671   \n",
       "..                                    ...   \n",
       "70                            -350.804217   \n",
       "71                            -346.762155   \n",
       "72                            -352.386879   \n",
       "73                            -356.551467   \n",
       "74                            -354.481699   \n",
       "\n",
       "    std_test_neg_root_mean_squared_error  \\\n",
       "0                             104.109133   \n",
       "1                             101.446643   \n",
       "2                             110.469785   \n",
       "3                             111.399719   \n",
       "4                             113.729062   \n",
       "..                                   ...   \n",
       "70                            157.738107   \n",
       "71                            151.873990   \n",
       "72                            148.933779   \n",
       "73                            149.905510   \n",
       "74                            151.637958   \n",
       "\n",
       "    rank_test_neg_root_mean_squared_error  \n",
       "0                                      65  \n",
       "1                                      75  \n",
       "2                                      62  \n",
       "3                                      60  \n",
       "4                                      57  \n",
       "..                                    ...  \n",
       "70                                     13  \n",
       "71                                      5  \n",
       "72                                     17  \n",
       "73                                     31  \n",
       "74                                     25  \n",
       "\n",
       "[75 rows x 33 columns]"
      ]
     },
     "execution_count": 61,
     "metadata": {},
     "output_type": "execute_result"
    }
   ],
   "source": [
    "pd.DataFrame(CV_rfc.cv_results_)"
   ]
  },
  {
   "cell_type": "code",
   "execution_count": null,
   "metadata": {},
   "outputs": [],
   "source": []
  },
  {
   "cell_type": "markdown",
   "metadata": {},
   "source": []
  },
  {
   "cell_type": "markdown",
   "metadata": {},
   "source": [
    "### - Ridge Regressor"
   ]
  },
  {
   "cell_type": "code",
   "execution_count": 62,
   "metadata": {},
   "outputs": [],
   "source": [
    "ridge_param_grid = {'alpha' : [1e-3, 1e-2, 1e-1, 1, 2, 5, 10],\n",
    "              }"
   ]
  },
  {
   "cell_type": "code",
   "execution_count": 63,
   "metadata": {},
   "outputs": [
    {
     "data": {
      "text/plain": [
       "GridSearchCV(cv=6, estimator=Ridge(),\n",
       "             param_grid={'alpha': [0.001, 0.01, 0.1, 1, 2, 5, 10]}, refit='r2',\n",
       "             scoring=['r2', 'neg_mean_absolute_error',\n",
       "                      'neg_root_mean_squared_error'])"
      ]
     },
     "execution_count": 63,
     "metadata": {},
     "output_type": "execute_result"
    }
   ],
   "source": [
    "CV_ridge = GridSearchCV(estimator=Ridge(), param_grid=ridge_param_grid, cv= 6,scoring=['r2','neg_mean_absolute_error','neg_root_mean_squared_error'],refit='r2')\n",
    "CV_ridge.fit(X_train, y_train)"
   ]
  },
  {
   "cell_type": "code",
   "execution_count": 64,
   "metadata": {},
   "outputs": [
    {
     "data": {
      "text/plain": [
       "0.4753206706337553"
      ]
     },
     "execution_count": 64,
     "metadata": {},
     "output_type": "execute_result"
    }
   ],
   "source": [
    "CV_ridge.best_score_"
   ]
  },
  {
   "cell_type": "code",
   "execution_count": 65,
   "metadata": {},
   "outputs": [
    {
     "name": "stdout",
     "output_type": "stream",
     "text": [
      "Ridge(alpha=0.1)\n"
     ]
    }
   ],
   "source": [
    "model_ridge = CV_ridge.best_estimator_\n",
    "print(model_ridge)"
   ]
  },
  {
   "cell_type": "code",
   "execution_count": 66,
   "metadata": {},
   "outputs": [
    {
     "data": {
      "text/plain": [
       "0.7494712500432306"
      ]
     },
     "execution_count": 66,
     "metadata": {},
     "output_type": "execute_result"
    }
   ],
   "source": [
    "model_ridge.score(X_test,y_test)"
   ]
  },
  {
   "cell_type": "code",
   "execution_count": 67,
   "metadata": {},
   "outputs": [
    {
     "data": {
      "text/html": [
       "<div>\n",
       "<style scoped>\n",
       "    .dataframe tbody tr th:only-of-type {\n",
       "        vertical-align: middle;\n",
       "    }\n",
       "\n",
       "    .dataframe tbody tr th {\n",
       "        vertical-align: top;\n",
       "    }\n",
       "\n",
       "    .dataframe thead th {\n",
       "        text-align: right;\n",
       "    }\n",
       "</style>\n",
       "<table border=\"1\" class=\"dataframe\">\n",
       "  <thead>\n",
       "    <tr style=\"text-align: right;\">\n",
       "      <th></th>\n",
       "      <th>mean_fit_time</th>\n",
       "      <th>std_fit_time</th>\n",
       "      <th>mean_score_time</th>\n",
       "      <th>std_score_time</th>\n",
       "      <th>param_alpha</th>\n",
       "      <th>params</th>\n",
       "      <th>split0_test_r2</th>\n",
       "      <th>split1_test_r2</th>\n",
       "      <th>split2_test_r2</th>\n",
       "      <th>split3_test_r2</th>\n",
       "      <th>...</th>\n",
       "      <th>rank_test_neg_mean_absolute_error</th>\n",
       "      <th>split0_test_neg_root_mean_squared_error</th>\n",
       "      <th>split1_test_neg_root_mean_squared_error</th>\n",
       "      <th>split2_test_neg_root_mean_squared_error</th>\n",
       "      <th>split3_test_neg_root_mean_squared_error</th>\n",
       "      <th>split4_test_neg_root_mean_squared_error</th>\n",
       "      <th>split5_test_neg_root_mean_squared_error</th>\n",
       "      <th>mean_test_neg_root_mean_squared_error</th>\n",
       "      <th>std_test_neg_root_mean_squared_error</th>\n",
       "      <th>rank_test_neg_root_mean_squared_error</th>\n",
       "    </tr>\n",
       "  </thead>\n",
       "  <tbody>\n",
       "    <tr>\n",
       "      <th>0</th>\n",
       "      <td>0.003566</td>\n",
       "      <td>0.000722</td>\n",
       "      <td>0.002011</td>\n",
       "      <td>0.000569</td>\n",
       "      <td>0.001</td>\n",
       "      <td>{'alpha': 0.001}</td>\n",
       "      <td>0.702682</td>\n",
       "      <td>-0.015387</td>\n",
       "      <td>0.078840</td>\n",
       "      <td>0.645664</td>\n",
       "      <td>...</td>\n",
       "      <td>3</td>\n",
       "      <td>-541.454766</td>\n",
       "      <td>-433.682092</td>\n",
       "      <td>-224.913333</td>\n",
       "      <td>-343.683786</td>\n",
       "      <td>-189.606619</td>\n",
       "      <td>-392.409126</td>\n",
       "      <td>-354.291620</td>\n",
       "      <td>120.248528</td>\n",
       "      <td>3</td>\n",
       "    </tr>\n",
       "    <tr>\n",
       "      <th>1</th>\n",
       "      <td>0.002989</td>\n",
       "      <td>0.000137</td>\n",
       "      <td>0.002169</td>\n",
       "      <td>0.000378</td>\n",
       "      <td>0.01</td>\n",
       "      <td>{'alpha': 0.01}</td>\n",
       "      <td>0.702801</td>\n",
       "      <td>-0.013417</td>\n",
       "      <td>0.077958</td>\n",
       "      <td>0.645560</td>\n",
       "      <td>...</td>\n",
       "      <td>2</td>\n",
       "      <td>-541.346934</td>\n",
       "      <td>-433.261248</td>\n",
       "      <td>-225.020951</td>\n",
       "      <td>-343.734109</td>\n",
       "      <td>-189.618770</td>\n",
       "      <td>-392.615087</td>\n",
       "      <td>-354.266183</td>\n",
       "      <td>120.162453</td>\n",
       "      <td>2</td>\n",
       "    </tr>\n",
       "    <tr>\n",
       "      <th>2</th>\n",
       "      <td>0.003490</td>\n",
       "      <td>0.000750</td>\n",
       "      <td>0.002170</td>\n",
       "      <td>0.000386</td>\n",
       "      <td>0.1</td>\n",
       "      <td>{'alpha': 0.1}</td>\n",
       "      <td>0.703618</td>\n",
       "      <td>0.005394</td>\n",
       "      <td>0.069082</td>\n",
       "      <td>0.644418</td>\n",
       "      <td>...</td>\n",
       "      <td>1</td>\n",
       "      <td>-540.601652</td>\n",
       "      <td>-429.221394</td>\n",
       "      <td>-226.101442</td>\n",
       "      <td>-344.287221</td>\n",
       "      <td>-189.767424</td>\n",
       "      <td>-394.632439</td>\n",
       "      <td>-354.101929</td>\n",
       "      <td>119.411114</td>\n",
       "      <td>1</td>\n",
       "    </tr>\n",
       "    <tr>\n",
       "      <th>3</th>\n",
       "      <td>0.002747</td>\n",
       "      <td>0.000563</td>\n",
       "      <td>0.002078</td>\n",
       "      <td>0.000732</td>\n",
       "      <td>1</td>\n",
       "      <td>{'alpha': 1}</td>\n",
       "      <td>0.701344</td>\n",
       "      <td>0.125474</td>\n",
       "      <td>-0.016371</td>\n",
       "      <td>0.629265</td>\n",
       "      <td>...</td>\n",
       "      <td>4</td>\n",
       "      <td>-542.671752</td>\n",
       "      <td>-402.478013</td>\n",
       "      <td>-236.251083</td>\n",
       "      <td>-351.546441</td>\n",
       "      <td>-191.823526</td>\n",
       "      <td>-411.949871</td>\n",
       "      <td>-356.120114</td>\n",
       "      <td>116.512089</td>\n",
       "      <td>4</td>\n",
       "    </tr>\n",
       "    <tr>\n",
       "      <th>4</th>\n",
       "      <td>0.002829</td>\n",
       "      <td>0.000373</td>\n",
       "      <td>0.002490</td>\n",
       "      <td>0.000496</td>\n",
       "      <td>2</td>\n",
       "      <td>{'alpha': 2}</td>\n",
       "      <td>0.694752</td>\n",
       "      <td>0.180949</td>\n",
       "      <td>-0.097151</td>\n",
       "      <td>0.612179</td>\n",
       "      <td>...</td>\n",
       "      <td>5</td>\n",
       "      <td>-548.628132</td>\n",
       "      <td>-389.503424</td>\n",
       "      <td>-245.460063</td>\n",
       "      <td>-359.556130</td>\n",
       "      <td>-194.243450</td>\n",
       "      <td>-426.633204</td>\n",
       "      <td>-360.670734</td>\n",
       "      <td>116.535500</td>\n",
       "      <td>5</td>\n",
       "    </tr>\n",
       "    <tr>\n",
       "      <th>5</th>\n",
       "      <td>0.003160</td>\n",
       "      <td>0.000687</td>\n",
       "      <td>0.002411</td>\n",
       "      <td>0.000446</td>\n",
       "      <td>5</td>\n",
       "      <td>{'alpha': 5}</td>\n",
       "      <td>0.676310</td>\n",
       "      <td>0.211230</td>\n",
       "      <td>-0.265514</td>\n",
       "      <td>0.574373</td>\n",
       "      <td>...</td>\n",
       "      <td>6</td>\n",
       "      <td>-564.958534</td>\n",
       "      <td>-382.235535</td>\n",
       "      <td>-263.621602</td>\n",
       "      <td>-376.674033</td>\n",
       "      <td>-199.911907</td>\n",
       "      <td>-453.756731</td>\n",
       "      <td>-373.526390</td>\n",
       "      <td>119.296536</td>\n",
       "      <td>6</td>\n",
       "    </tr>\n",
       "    <tr>\n",
       "      <th>6</th>\n",
       "      <td>0.003158</td>\n",
       "      <td>0.000895</td>\n",
       "      <td>0.002493</td>\n",
       "      <td>0.000499</td>\n",
       "      <td>10</td>\n",
       "      <td>{'alpha': 10}</td>\n",
       "      <td>0.655848</td>\n",
       "      <td>0.185983</td>\n",
       "      <td>-0.420691</td>\n",
       "      <td>0.542131</td>\n",
       "      <td>...</td>\n",
       "      <td>7</td>\n",
       "      <td>-582.541679</td>\n",
       "      <td>-388.304653</td>\n",
       "      <td>-279.317043</td>\n",
       "      <td>-390.680365</td>\n",
       "      <td>-205.036895</td>\n",
       "      <td>-475.080714</td>\n",
       "      <td>-386.826891</td>\n",
       "      <td>122.960711</td>\n",
       "      <td>7</td>\n",
       "    </tr>\n",
       "  </tbody>\n",
       "</table>\n",
       "<p>7 rows × 33 columns</p>\n",
       "</div>"
      ],
      "text/plain": [
       "   mean_fit_time  std_fit_time  mean_score_time  std_score_time param_alpha  \\\n",
       "0       0.003566      0.000722         0.002011        0.000569       0.001   \n",
       "1       0.002989      0.000137         0.002169        0.000378        0.01   \n",
       "2       0.003490      0.000750         0.002170        0.000386         0.1   \n",
       "3       0.002747      0.000563         0.002078        0.000732           1   \n",
       "4       0.002829      0.000373         0.002490        0.000496           2   \n",
       "5       0.003160      0.000687         0.002411        0.000446           5   \n",
       "6       0.003158      0.000895         0.002493        0.000499          10   \n",
       "\n",
       "             params  split0_test_r2  split1_test_r2  split2_test_r2  \\\n",
       "0  {'alpha': 0.001}        0.702682       -0.015387        0.078840   \n",
       "1   {'alpha': 0.01}        0.702801       -0.013417        0.077958   \n",
       "2    {'alpha': 0.1}        0.703618        0.005394        0.069082   \n",
       "3      {'alpha': 1}        0.701344        0.125474       -0.016371   \n",
       "4      {'alpha': 2}        0.694752        0.180949       -0.097151   \n",
       "5      {'alpha': 5}        0.676310        0.211230       -0.265514   \n",
       "6     {'alpha': 10}        0.655848        0.185983       -0.420691   \n",
       "\n",
       "   split3_test_r2  ...  rank_test_neg_mean_absolute_error  \\\n",
       "0        0.645664  ...                                  3   \n",
       "1        0.645560  ...                                  2   \n",
       "2        0.644418  ...                                  1   \n",
       "3        0.629265  ...                                  4   \n",
       "4        0.612179  ...                                  5   \n",
       "5        0.574373  ...                                  6   \n",
       "6        0.542131  ...                                  7   \n",
       "\n",
       "   split0_test_neg_root_mean_squared_error  \\\n",
       "0                              -541.454766   \n",
       "1                              -541.346934   \n",
       "2                              -540.601652   \n",
       "3                              -542.671752   \n",
       "4                              -548.628132   \n",
       "5                              -564.958534   \n",
       "6                              -582.541679   \n",
       "\n",
       "   split1_test_neg_root_mean_squared_error  \\\n",
       "0                              -433.682092   \n",
       "1                              -433.261248   \n",
       "2                              -429.221394   \n",
       "3                              -402.478013   \n",
       "4                              -389.503424   \n",
       "5                              -382.235535   \n",
       "6                              -388.304653   \n",
       "\n",
       "   split2_test_neg_root_mean_squared_error  \\\n",
       "0                              -224.913333   \n",
       "1                              -225.020951   \n",
       "2                              -226.101442   \n",
       "3                              -236.251083   \n",
       "4                              -245.460063   \n",
       "5                              -263.621602   \n",
       "6                              -279.317043   \n",
       "\n",
       "   split3_test_neg_root_mean_squared_error  \\\n",
       "0                              -343.683786   \n",
       "1                              -343.734109   \n",
       "2                              -344.287221   \n",
       "3                              -351.546441   \n",
       "4                              -359.556130   \n",
       "5                              -376.674033   \n",
       "6                              -390.680365   \n",
       "\n",
       "   split4_test_neg_root_mean_squared_error  \\\n",
       "0                              -189.606619   \n",
       "1                              -189.618770   \n",
       "2                              -189.767424   \n",
       "3                              -191.823526   \n",
       "4                              -194.243450   \n",
       "5                              -199.911907   \n",
       "6                              -205.036895   \n",
       "\n",
       "   split5_test_neg_root_mean_squared_error  \\\n",
       "0                              -392.409126   \n",
       "1                              -392.615087   \n",
       "2                              -394.632439   \n",
       "3                              -411.949871   \n",
       "4                              -426.633204   \n",
       "5                              -453.756731   \n",
       "6                              -475.080714   \n",
       "\n",
       "   mean_test_neg_root_mean_squared_error  \\\n",
       "0                            -354.291620   \n",
       "1                            -354.266183   \n",
       "2                            -354.101929   \n",
       "3                            -356.120114   \n",
       "4                            -360.670734   \n",
       "5                            -373.526390   \n",
       "6                            -386.826891   \n",
       "\n",
       "   std_test_neg_root_mean_squared_error  rank_test_neg_root_mean_squared_error  \n",
       "0                            120.248528                                      3  \n",
       "1                            120.162453                                      2  \n",
       "2                            119.411114                                      1  \n",
       "3                            116.512089                                      4  \n",
       "4                            116.535500                                      5  \n",
       "5                            119.296536                                      6  \n",
       "6                            122.960711                                      7  \n",
       "\n",
       "[7 rows x 33 columns]"
      ]
     },
     "execution_count": 67,
     "metadata": {},
     "output_type": "execute_result"
    }
   ],
   "source": [
    "pd.DataFrame(CV_ridge.cv_results_)"
   ]
  },
  {
   "cell_type": "markdown",
   "metadata": {},
   "source": []
  },
  {
   "cell_type": "code",
   "execution_count": null,
   "metadata": {},
   "outputs": [],
   "source": []
  },
  {
   "cell_type": "code",
   "execution_count": 68,
   "metadata": {},
   "outputs": [
    {
     "data": {
      "image/png": "[encoded data removed]",
      "text/plain": [
       "<Figure size 432x288 with 1 Axes>"
      ]
     },
     "metadata": {
      "needs_background": "light"
     },
     "output_type": "display_data"
    }
   ],
   "source": [
    "alphas = [1e-3, 1e-2, 1e-1, 1, 2, 5, 10]\n",
    "coefs = []\n",
    "for a in alphas:\n",
    "    ridge = Ridge(alpha=a, fit_intercept=False)\n",
    "    ridge.fit(X_train, y_train)\n",
    "    coefs.append(ridge.coef_)\n",
    "\n",
    "ax = plt.gca()\n",
    "ax.plot(alphas, coefs)\n",
    "ax.set_xscale('log')\n",
    "ax.set_xlim(ax.get_xlim()[::-1])  # reverse axis\n",
    "plt.xlabel('alpha')\n",
    "plt.ylabel('weights')\n",
    "plt.title('Ridge coefficients as a function of the regularization')\n",
    "plt.axis('tight')\n",
    "plt.show()"
   ]
  },
  {
   "cell_type": "markdown",
   "metadata": {},
   "source": [
    "### - KNN Regressor"
   ]
  },
  {
   "cell_type": "code",
   "execution_count": 69,
   "metadata": {},
   "outputs": [],
   "source": [
    "knn_param_grid = {'n_neighbors' : list(range(10, 100)),\n",
    "              }"
   ]
  },
  {
   "cell_type": "code",
   "execution_count": 72,
   "metadata": {},
   "outputs": [
    {
     "data": {
      "text/plain": [
       "GridSearchCV(cv=6, estimator=KNeighborsRegressor(),\n",
       "             param_grid={'n_neighbors': [10, 11, 12, 13, 14, 15, 16, 17, 18, 19,\n",
       "                                         20, 21, 22, 23, 24, 25, 26, 27, 28, 29,\n",
       "                                         30, 31, 32, 33, 34, 35, 36, 37, 38, 39, ...]},\n",
       "             refit='r2',\n",
       "             scoring=['r2', 'neg_mean_absolute_error',\n",
       "                      'neg_root_mean_squared_error'])"
      ]
     },
     "execution_count": 72,
     "metadata": {},
     "output_type": "execute_result"
    }
   ],
   "source": [
    "CV_knn = GridSearchCV(estimator=KNeighborsRegressor(), param_grid=knn_param_grid, cv= 6,scoring=['r2','neg_mean_absolute_error','neg_root_mean_squared_error'],refit='r2')\n",
    "CV_knn.fit(X_train, y_train)"
   ]
  },
  {
   "cell_type": "code",
   "execution_count": 73,
   "metadata": {},
   "outputs": [
    {
     "data": {
      "text/plain": [
       "0.26514108758037963"
      ]
     },
     "execution_count": 73,
     "metadata": {},
     "output_type": "execute_result"
    }
   ],
   "source": [
    "CV_knn.best_score_"
   ]
  },
  {
   "cell_type": "code",
   "execution_count": 74,
   "metadata": {},
   "outputs": [],
   "source": [
    "model_knn = CV_knn.best_estimator_"
   ]
  },
  {
   "cell_type": "code",
   "execution_count": 75,
   "metadata": {},
   "outputs": [
    {
     "data": {
      "text/plain": [
       "0.3184745882722346"
      ]
     },
     "execution_count": 75,
     "metadata": {},
     "output_type": "execute_result"
    }
   ],
   "source": [
    "model_knn.score(X_test,y_test)"
   ]
  },
  {
   "cell_type": "code",
   "execution_count": 76,
   "metadata": {},
   "outputs": [
    {
     "data": {
      "text/plain": [
       "{'n_neighbors': 12}"
      ]
     },
     "execution_count": 76,
     "metadata": {},
     "output_type": "execute_result"
    }
   ],
   "source": [
    "CV_knn.best_params_"
   ]
  },
  {
   "cell_type": "code",
   "execution_count": 77,
   "metadata": {},
   "outputs": [
    {
     "data": {
      "text/html": [
       "<div>\n",
       "<style scoped>\n",
       "    .dataframe tbody tr th:only-of-type {\n",
       "        vertical-align: middle;\n",
       "    }\n",
       "\n",
       "    .dataframe tbody tr th {\n",
       "        vertical-align: top;\n",
       "    }\n",
       "\n",
       "    .dataframe thead th {\n",
       "        text-align: right;\n",
       "    }\n",
       "</style>\n",
       "<table border=\"1\" class=\"dataframe\">\n",
       "  <thead>\n",
       "    <tr style=\"text-align: right;\">\n",
       "      <th></th>\n",
       "      <th>mean_fit_time</th>\n",
       "      <th>std_fit_time</th>\n",
       "      <th>mean_score_time</th>\n",
       "      <th>std_score_time</th>\n",
       "      <th>param_n_neighbors</th>\n",
       "      <th>params</th>\n",
       "      <th>split0_test_r2</th>\n",
       "      <th>split1_test_r2</th>\n",
       "      <th>split2_test_r2</th>\n",
       "      <th>split3_test_r2</th>\n",
       "      <th>...</th>\n",
       "      <th>rank_test_neg_mean_absolute_error</th>\n",
       "      <th>split0_test_neg_root_mean_squared_error</th>\n",
       "      <th>split1_test_neg_root_mean_squared_error</th>\n",
       "      <th>split2_test_neg_root_mean_squared_error</th>\n",
       "      <th>split3_test_neg_root_mean_squared_error</th>\n",
       "      <th>split4_test_neg_root_mean_squared_error</th>\n",
       "      <th>split5_test_neg_root_mean_squared_error</th>\n",
       "      <th>mean_test_neg_root_mean_squared_error</th>\n",
       "      <th>std_test_neg_root_mean_squared_error</th>\n",
       "      <th>rank_test_neg_root_mean_squared_error</th>\n",
       "    </tr>\n",
       "  </thead>\n",
       "  <tbody>\n",
       "    <tr>\n",
       "      <th>0</th>\n",
       "      <td>0.002497</td>\n",
       "      <td>0.000497</td>\n",
       "      <td>0.006742</td>\n",
       "      <td>0.001463</td>\n",
       "      <td>10</td>\n",
       "      <td>{'n_neighbors': 10}</td>\n",
       "      <td>0.183391</td>\n",
       "      <td>0.244643</td>\n",
       "      <td>0.332690</td>\n",
       "      <td>0.349194</td>\n",
       "      <td>...</td>\n",
       "      <td>90</td>\n",
       "      <td>-897.343510</td>\n",
       "      <td>-374.051875</td>\n",
       "      <td>-191.430689</td>\n",
       "      <td>-465.775977</td>\n",
       "      <td>-332.824281</td>\n",
       "      <td>-643.365570</td>\n",
       "      <td>-484.131984</td>\n",
       "      <td>229.899160</td>\n",
       "      <td>5</td>\n",
       "    </tr>\n",
       "    <tr>\n",
       "      <th>1</th>\n",
       "      <td>0.003380</td>\n",
       "      <td>0.001415</td>\n",
       "      <td>0.007483</td>\n",
       "      <td>0.001354</td>\n",
       "      <td>11</td>\n",
       "      <td>{'n_neighbors': 11}</td>\n",
       "      <td>0.172325</td>\n",
       "      <td>0.256752</td>\n",
       "      <td>0.346346</td>\n",
       "      <td>0.350234</td>\n",
       "      <td>...</td>\n",
       "      <td>89</td>\n",
       "      <td>-903.403527</td>\n",
       "      <td>-371.041701</td>\n",
       "      <td>-189.461684</td>\n",
       "      <td>-465.403479</td>\n",
       "      <td>-331.607412</td>\n",
       "      <td>-627.118150</td>\n",
       "      <td>-481.339326</td>\n",
       "      <td>230.731220</td>\n",
       "      <td>2</td>\n",
       "    </tr>\n",
       "    <tr>\n",
       "      <th>2</th>\n",
       "      <td>0.002658</td>\n",
       "      <td>0.000751</td>\n",
       "      <td>0.005949</td>\n",
       "      <td>0.000572</td>\n",
       "      <td>12</td>\n",
       "      <td>{'n_neighbors': 12}</td>\n",
       "      <td>0.177491</td>\n",
       "      <td>0.263492</td>\n",
       "      <td>0.365132</td>\n",
       "      <td>0.370390</td>\n",
       "      <td>...</td>\n",
       "      <td>87</td>\n",
       "      <td>-900.579727</td>\n",
       "      <td>-369.355522</td>\n",
       "      <td>-186.719414</td>\n",
       "      <td>-458.128243</td>\n",
       "      <td>-337.628964</td>\n",
       "      <td>-627.150675</td>\n",
       "      <td>-479.927091</td>\n",
       "      <td>230.052235</td>\n",
       "      <td>1</td>\n",
       "    </tr>\n",
       "    <tr>\n",
       "      <th>3</th>\n",
       "      <td>0.001672</td>\n",
       "      <td>0.000462</td>\n",
       "      <td>0.004976</td>\n",
       "      <td>0.000470</td>\n",
       "      <td>13</td>\n",
       "      <td>{'n_neighbors': 13}</td>\n",
       "      <td>0.168085</td>\n",
       "      <td>0.276268</td>\n",
       "      <td>0.190026</td>\n",
       "      <td>0.355392</td>\n",
       "      <td>...</td>\n",
       "      <td>85</td>\n",
       "      <td>-905.714392</td>\n",
       "      <td>-366.137746</td>\n",
       "      <td>-210.903144</td>\n",
       "      <td>-463.552676</td>\n",
       "      <td>-334.108274</td>\n",
       "      <td>-613.164566</td>\n",
       "      <td>-482.263467</td>\n",
       "      <td>225.782878</td>\n",
       "      <td>3</td>\n",
       "    </tr>\n",
       "    <tr>\n",
       "      <th>4</th>\n",
       "      <td>0.001728</td>\n",
       "      <td>0.000530</td>\n",
       "      <td>0.005042</td>\n",
       "      <td>0.000879</td>\n",
       "      <td>14</td>\n",
       "      <td>{'n_neighbors': 14}</td>\n",
       "      <td>0.160374</td>\n",
       "      <td>0.207034</td>\n",
       "      <td>0.217769</td>\n",
       "      <td>0.323976</td>\n",
       "      <td>...</td>\n",
       "      <td>88</td>\n",
       "      <td>-909.901955</td>\n",
       "      <td>-383.250737</td>\n",
       "      <td>-207.259801</td>\n",
       "      <td>-474.714310</td>\n",
       "      <td>-334.748958</td>\n",
       "      <td>-614.671800</td>\n",
       "      <td>-487.424594</td>\n",
       "      <td>226.382743</td>\n",
       "      <td>7</td>\n",
       "    </tr>\n",
       "    <tr>\n",
       "      <th>...</th>\n",
       "      <td>...</td>\n",
       "      <td>...</td>\n",
       "      <td>...</td>\n",
       "      <td>...</td>\n",
       "      <td>...</td>\n",
       "      <td>...</td>\n",
       "      <td>...</td>\n",
       "      <td>...</td>\n",
       "      <td>...</td>\n",
       "      <td>...</td>\n",
       "      <td>...</td>\n",
       "      <td>...</td>\n",
       "      <td>...</td>\n",
       "      <td>...</td>\n",
       "      <td>...</td>\n",
       "      <td>...</td>\n",
       "      <td>...</td>\n",
       "      <td>...</td>\n",
       "      <td>...</td>\n",
       "      <td>...</td>\n",
       "      <td>...</td>\n",
       "    </tr>\n",
       "    <tr>\n",
       "      <th>85</th>\n",
       "      <td>0.002129</td>\n",
       "      <td>0.000245</td>\n",
       "      <td>0.006364</td>\n",
       "      <td>0.000436</td>\n",
       "      <td>95</td>\n",
       "      <td>{'n_neighbors': 95}</td>\n",
       "      <td>0.098013</td>\n",
       "      <td>0.250714</td>\n",
       "      <td>0.438135</td>\n",
       "      <td>0.171209</td>\n",
       "      <td>...</td>\n",
       "      <td>5</td>\n",
       "      <td>-943.087072</td>\n",
       "      <td>-372.545682</td>\n",
       "      <td>-175.656304</td>\n",
       "      <td>-525.622242</td>\n",
       "      <td>-350.777094</td>\n",
       "      <td>-619.949188</td>\n",
       "      <td>-497.939597</td>\n",
       "      <td>243.261142</td>\n",
       "      <td>86</td>\n",
       "    </tr>\n",
       "    <tr>\n",
       "      <th>86</th>\n",
       "      <td>0.002497</td>\n",
       "      <td>0.001135</td>\n",
       "      <td>0.006983</td>\n",
       "      <td>0.001390</td>\n",
       "      <td>96</td>\n",
       "      <td>{'n_neighbors': 96}</td>\n",
       "      <td>0.097316</td>\n",
       "      <td>0.248909</td>\n",
       "      <td>0.437978</td>\n",
       "      <td>0.171452</td>\n",
       "      <td>...</td>\n",
       "      <td>3</td>\n",
       "      <td>-943.451761</td>\n",
       "      <td>-372.994223</td>\n",
       "      <td>-175.680798</td>\n",
       "      <td>-525.545156</td>\n",
       "      <td>-351.162406</td>\n",
       "      <td>-620.219007</td>\n",
       "      <td>-498.175558</td>\n",
       "      <td>243.310740</td>\n",
       "      <td>87</td>\n",
       "    </tr>\n",
       "    <tr>\n",
       "      <th>87</th>\n",
       "      <td>0.002159</td>\n",
       "      <td>0.000355</td>\n",
       "      <td>0.006097</td>\n",
       "      <td>0.000704</td>\n",
       "      <td>97</td>\n",
       "      <td>{'n_neighbors': 97}</td>\n",
       "      <td>0.096374</td>\n",
       "      <td>0.248305</td>\n",
       "      <td>0.438516</td>\n",
       "      <td>0.170562</td>\n",
       "      <td>...</td>\n",
       "      <td>4</td>\n",
       "      <td>-943.943918</td>\n",
       "      <td>-373.144029</td>\n",
       "      <td>-175.596740</td>\n",
       "      <td>-525.827316</td>\n",
       "      <td>-351.507025</td>\n",
       "      <td>-620.558348</td>\n",
       "      <td>-498.429563</td>\n",
       "      <td>243.465551</td>\n",
       "      <td>88</td>\n",
       "    </tr>\n",
       "    <tr>\n",
       "      <th>88</th>\n",
       "      <td>0.002165</td>\n",
       "      <td>0.000676</td>\n",
       "      <td>0.006212</td>\n",
       "      <td>0.000526</td>\n",
       "      <td>98</td>\n",
       "      <td>{'n_neighbors': 98}</td>\n",
       "      <td>0.095453</td>\n",
       "      <td>0.249215</td>\n",
       "      <td>0.436098</td>\n",
       "      <td>0.171975</td>\n",
       "      <td>...</td>\n",
       "      <td>2</td>\n",
       "      <td>-944.424914</td>\n",
       "      <td>-372.918194</td>\n",
       "      <td>-175.974439</td>\n",
       "      <td>-525.379360</td>\n",
       "      <td>-351.910712</td>\n",
       "      <td>-620.612494</td>\n",
       "      <td>-498.536685</td>\n",
       "      <td>243.503911</td>\n",
       "      <td>89</td>\n",
       "    </tr>\n",
       "    <tr>\n",
       "      <th>89</th>\n",
       "      <td>0.001975</td>\n",
       "      <td>0.000799</td>\n",
       "      <td>0.006230</td>\n",
       "      <td>0.001042</td>\n",
       "      <td>99</td>\n",
       "      <td>{'n_neighbors': 99}</td>\n",
       "      <td>0.094580</td>\n",
       "      <td>0.247603</td>\n",
       "      <td>0.435277</td>\n",
       "      <td>0.171072</td>\n",
       "      <td>...</td>\n",
       "      <td>1</td>\n",
       "      <td>-944.880469</td>\n",
       "      <td>-373.318307</td>\n",
       "      <td>-176.102490</td>\n",
       "      <td>-525.665772</td>\n",
       "      <td>-352.276837</td>\n",
       "      <td>-620.850414</td>\n",
       "      <td>-498.849048</td>\n",
       "      <td>243.568683</td>\n",
       "      <td>90</td>\n",
       "    </tr>\n",
       "  </tbody>\n",
       "</table>\n",
       "<p>90 rows × 33 columns</p>\n",
       "</div>"
      ],
      "text/plain": [
       "    mean_fit_time  std_fit_time  mean_score_time  std_score_time  \\\n",
       "0        0.002497      0.000497         0.006742        0.001463   \n",
       "1        0.003380      0.001415         0.007483        0.001354   \n",
       "2        0.002658      0.000751         0.005949        0.000572   \n",
       "3        0.001672      0.000462         0.004976        0.000470   \n",
       "4        0.001728      0.000530         0.005042        0.000879   \n",
       "..            ...           ...              ...             ...   \n",
       "85       0.002129      0.000245         0.006364        0.000436   \n",
       "86       0.002497      0.001135         0.006983        0.001390   \n",
       "87       0.002159      0.000355         0.006097        0.000704   \n",
       "88       0.002165      0.000676         0.006212        0.000526   \n",
       "89       0.001975      0.000799         0.006230        0.001042   \n",
       "\n",
       "   param_n_neighbors               params  split0_test_r2  split1_test_r2  \\\n",
       "0                 10  {'n_neighbors': 10}        0.183391        0.244643   \n",
       "1                 11  {'n_neighbors': 11}        0.172325        0.256752   \n",
       "2                 12  {'n_neighbors': 12}        0.177491        0.263492   \n",
       "3                 13  {'n_neighbors': 13}        0.168085        0.276268   \n",
       "4                 14  {'n_neighbors': 14}        0.160374        0.207034   \n",
       "..               ...                  ...             ...             ...   \n",
       "85                95  {'n_neighbors': 95}        0.098013        0.250714   \n",
       "86                96  {'n_neighbors': 96}        0.097316        0.248909   \n",
       "87                97  {'n_neighbors': 97}        0.096374        0.248305   \n",
       "88                98  {'n_neighbors': 98}        0.095453        0.249215   \n",
       "89                99  {'n_neighbors': 99}        0.094580        0.247603   \n",
       "\n",
       "    split2_test_r2  split3_test_r2  ...  rank_test_neg_mean_absolute_error  \\\n",
       "0         0.332690        0.349194  ...                                 90   \n",
       "1         0.346346        0.350234  ...                                 89   \n",
       "2         0.365132        0.370390  ...                                 87   \n",
       "3         0.190026        0.355392  ...                                 85   \n",
       "4         0.217769        0.323976  ...                                 88   \n",
       "..             ...             ...  ...                                ...   \n",
       "85        0.438135        0.171209  ...                                  5   \n",
       "86        0.437978        0.171452  ...                                  3   \n",
       "87        0.438516        0.170562  ...                                  4   \n",
       "88        0.436098        0.171975  ...                                  2   \n",
       "89        0.435277        0.171072  ...                                  1   \n",
       "\n",
       "    split0_test_neg_root_mean_squared_error  \\\n",
       "0                               -897.343510   \n",
       "1                               -903.403527   \n",
       "2                               -900.579727   \n",
       "3                               -905.714392   \n",
       "4                               -909.901955   \n",
       "..                                      ...   \n",
       "85                              -943.087072   \n",
       "86                              -943.451761   \n",
       "87                              -943.943918   \n",
       "88                              -944.424914   \n",
       "89                              -944.880469   \n",
       "\n",
       "    split1_test_neg_root_mean_squared_error  \\\n",
       "0                               -374.051875   \n",
       "1                               -371.041701   \n",
       "2                               -369.355522   \n",
       "3                               -366.137746   \n",
       "4                               -383.250737   \n",
       "..                                      ...   \n",
       "85                              -372.545682   \n",
       "86                              -372.994223   \n",
       "87                              -373.144029   \n",
       "88                              -372.918194   \n",
       "89                              -373.318307   \n",
       "\n",
       "    split2_test_neg_root_mean_squared_error  \\\n",
       "0                               -191.430689   \n",
       "1                               -189.461684   \n",
       "2                               -186.719414   \n",
       "3                               -210.903144   \n",
       "4                               -207.259801   \n",
       "..                                      ...   \n",
       "85                              -175.656304   \n",
       "86                              -175.680798   \n",
       "87                              -175.596740   \n",
       "88                              -175.974439   \n",
       "89                              -176.102490   \n",
       "\n",
       "    split3_test_neg_root_mean_squared_error  \\\n",
       "0                               -465.775977   \n",
       "1                               -465.403479   \n",
       "2                               -458.128243   \n",
       "3                               -463.552676   \n",
       "4                               -474.714310   \n",
       "..                                      ...   \n",
       "85                              -525.622242   \n",
       "86                              -525.545156   \n",
       "87                              -525.827316   \n",
       "88                              -525.379360   \n",
       "89                              -525.665772   \n",
       "\n",
       "    split4_test_neg_root_mean_squared_error  \\\n",
       "0                               -332.824281   \n",
       "1                               -331.607412   \n",
       "2                               -337.628964   \n",
       "3                               -334.108274   \n",
       "4                               -334.748958   \n",
       "..                                      ...   \n",
       "85                              -350.777094   \n",
       "86                              -351.162406   \n",
       "87                              -351.507025   \n",
       "88                              -351.910712   \n",
       "89                              -352.276837   \n",
       "\n",
       "    split5_test_neg_root_mean_squared_error  \\\n",
       "0                               -643.365570   \n",
       "1                               -627.118150   \n",
       "2                               -627.150675   \n",
       "3                               -613.164566   \n",
       "4                               -614.671800   \n",
       "..                                      ...   \n",
       "85                              -619.949188   \n",
       "86                              -620.219007   \n",
       "87                              -620.558348   \n",
       "88                              -620.612494   \n",
       "89                              -620.850414   \n",
       "\n",
       "    mean_test_neg_root_mean_squared_error  \\\n",
       "0                             -484.131984   \n",
       "1                             -481.339326   \n",
       "2                             -479.927091   \n",
       "3                             -482.263467   \n",
       "4                             -487.424594   \n",
       "..                                    ...   \n",
       "85                            -497.939597   \n",
       "86                            -498.175558   \n",
       "87                            -498.429563   \n",
       "88                            -498.536685   \n",
       "89                            -498.849048   \n",
       "\n",
       "    std_test_neg_root_mean_squared_error  \\\n",
       "0                             229.899160   \n",
       "1                             230.731220   \n",
       "2                             230.052235   \n",
       "3                             225.782878   \n",
       "4                             226.382743   \n",
       "..                                   ...   \n",
       "85                            243.261142   \n",
       "86                            243.310740   \n",
       "87                            243.465551   \n",
       "88                            243.503911   \n",
       "89                            243.568683   \n",
       "\n",
       "    rank_test_neg_root_mean_squared_error  \n",
       "0                                       5  \n",
       "1                                       2  \n",
       "2                                       1  \n",
       "3                                       3  \n",
       "4                                       7  \n",
       "..                                    ...  \n",
       "85                                     86  \n",
       "86                                     87  \n",
       "87                                     88  \n",
       "88                                     89  \n",
       "89                                     90  \n",
       "\n",
       "[90 rows x 33 columns]"
      ]
     },
     "execution_count": 77,
     "metadata": {},
     "output_type": "execute_result"
    }
   ],
   "source": [
    "pd.DataFrame(CV_knn.cv_results_)"
   ]
  },
  {
   "cell_type": "markdown",
   "metadata": {},
   "source": [
    "### - XGBoost"
   ]
  },
  {
   "cell_type": "code",
   "execution_count": 78,
   "metadata": {},
   "outputs": [],
   "source": [
    "xgboost_param_grid = {'n_estimators' : [100,200,300,400,500],\n",
    "              'max_features': ['auto', 'sqrt', 'log2'],\n",
    "              'max_depth' : [4,8,16,32,64],\n",
    "              'random_state': [12]}"
   ]
  },
  {
   "cell_type": "code",
   "execution_count": 79,
   "metadata": {},
   "outputs": [
    {
     "data": {
      "text/plain": [
       "GridSearchCV(cv=5, estimator=GradientBoostingRegressor(),\n",
       "             param_grid={'max_depth': [4, 8, 16, 32, 64],\n",
       "                         'max_features': ['auto', 'sqrt', 'log2'],\n",
       "                         'n_estimators': [100, 200, 300, 400, 500],\n",
       "                         'random_state': [12]},\n",
       "             refit='r2',\n",
       "             scoring=['r2', 'neg_mean_absolute_error',\n",
       "                      'neg_root_mean_squared_error'])"
      ]
     },
     "execution_count": 79,
     "metadata": {},
     "output_type": "execute_result"
    }
   ],
   "source": [
    "CV_xgboost = GridSearchCV(estimator=GradientBoostingRegressor(), param_grid=xgboost_param_grid, cv= 5,scoring=['r2','neg_mean_absolute_error','neg_root_mean_squared_error'],refit='r2')\n",
    "CV_xgboost.fit(X_train, y_train)"
   ]
  },
  {
   "cell_type": "code",
   "execution_count": 80,
   "metadata": {},
   "outputs": [
    {
     "data": {
      "text/plain": [
       "0.6164486610259905"
      ]
     },
     "execution_count": 80,
     "metadata": {},
     "output_type": "execute_result"
    }
   ],
   "source": [
    "CV_xgboost.best_score_"
   ]
  },
  {
   "cell_type": "code",
   "execution_count": 81,
   "metadata": {},
   "outputs": [],
   "source": [
    "model_boosted = CV_xgboost.best_estimator_"
   ]
  },
  {
   "cell_type": "code",
   "execution_count": 82,
   "metadata": {},
   "outputs": [
    {
     "data": {
      "text/plain": [
       "0.8634272464462868"
      ]
     },
     "execution_count": 82,
     "metadata": {},
     "output_type": "execute_result"
    }
   ],
   "source": [
    "model_boosted.score(X_test,y_test)"
   ]
  },
  {
   "cell_type": "code",
   "execution_count": 83,
   "metadata": {},
   "outputs": [
    {
     "data": {
      "text/html": [
       "<div>\n",
       "<style scoped>\n",
       "    .dataframe tbody tr th:only-of-type {\n",
       "        vertical-align: middle;\n",
       "    }\n",
       "\n",
       "    .dataframe tbody tr th {\n",
       "        vertical-align: top;\n",
       "    }\n",
       "\n",
       "    .dataframe thead th {\n",
       "        text-align: right;\n",
       "    }\n",
       "</style>\n",
       "<table border=\"1\" class=\"dataframe\">\n",
       "  <thead>\n",
       "    <tr style=\"text-align: right;\">\n",
       "      <th></th>\n",
       "      <th>mean_fit_time</th>\n",
       "      <th>std_fit_time</th>\n",
       "      <th>mean_score_time</th>\n",
       "      <th>std_score_time</th>\n",
       "      <th>param_max_depth</th>\n",
       "      <th>param_max_features</th>\n",
       "      <th>param_n_estimators</th>\n",
       "      <th>param_random_state</th>\n",
       "      <th>params</th>\n",
       "      <th>split0_test_r2</th>\n",
       "      <th>...</th>\n",
       "      <th>std_test_neg_mean_absolute_error</th>\n",
       "      <th>rank_test_neg_mean_absolute_error</th>\n",
       "      <th>split0_test_neg_root_mean_squared_error</th>\n",
       "      <th>split1_test_neg_root_mean_squared_error</th>\n",
       "      <th>split2_test_neg_root_mean_squared_error</th>\n",
       "      <th>split3_test_neg_root_mean_squared_error</th>\n",
       "      <th>split4_test_neg_root_mean_squared_error</th>\n",
       "      <th>mean_test_neg_root_mean_squared_error</th>\n",
       "      <th>std_test_neg_root_mean_squared_error</th>\n",
       "      <th>rank_test_neg_root_mean_squared_error</th>\n",
       "    </tr>\n",
       "  </thead>\n",
       "  <tbody>\n",
       "    <tr>\n",
       "      <th>0</th>\n",
       "      <td>0.183878</td>\n",
       "      <td>0.006028</td>\n",
       "      <td>0.002464</td>\n",
       "      <td>0.000481</td>\n",
       "      <td>4</td>\n",
       "      <td>auto</td>\n",
       "      <td>100</td>\n",
       "      <td>12</td>\n",
       "      <td>{'max_depth': 4, 'max_features': 'auto', 'n_es...</td>\n",
       "      <td>0.680765</td>\n",
       "      <td>...</td>\n",
       "      <td>20.090081</td>\n",
       "      <td>51</td>\n",
       "      <td>-522.182801</td>\n",
       "      <td>-419.351027</td>\n",
       "      <td>-318.395864</td>\n",
       "      <td>-379.768569</td>\n",
       "      <td>-416.739163</td>\n",
       "      <td>-411.287485</td>\n",
       "      <td>66.354816</td>\n",
       "      <td>51</td>\n",
       "    </tr>\n",
       "    <tr>\n",
       "      <th>1</th>\n",
       "      <td>0.372728</td>\n",
       "      <td>0.007503</td>\n",
       "      <td>0.002763</td>\n",
       "      <td>0.000732</td>\n",
       "      <td>4</td>\n",
       "      <td>auto</td>\n",
       "      <td>200</td>\n",
       "      <td>12</td>\n",
       "      <td>{'max_depth': 4, 'max_features': 'auto', 'n_es...</td>\n",
       "      <td>0.681753</td>\n",
       "      <td>...</td>\n",
       "      <td>20.764012</td>\n",
       "      <td>52</td>\n",
       "      <td>-521.374388</td>\n",
       "      <td>-422.196911</td>\n",
       "      <td>-317.009402</td>\n",
       "      <td>-386.905233</td>\n",
       "      <td>-419.582212</td>\n",
       "      <td>-413.413629</td>\n",
       "      <td>65.980592</td>\n",
       "      <td>52</td>\n",
       "    </tr>\n",
       "    <tr>\n",
       "      <th>2</th>\n",
       "      <td>0.557108</td>\n",
       "      <td>0.019517</td>\n",
       "      <td>0.003250</td>\n",
       "      <td>0.000385</td>\n",
       "      <td>4</td>\n",
       "      <td>auto</td>\n",
       "      <td>300</td>\n",
       "      <td>12</td>\n",
       "      <td>{'max_depth': 4, 'max_features': 'auto', 'n_es...</td>\n",
       "      <td>0.682297</td>\n",
       "      <td>...</td>\n",
       "      <td>20.665017</td>\n",
       "      <td>53</td>\n",
       "      <td>-520.928405</td>\n",
       "      <td>-422.992689</td>\n",
       "      <td>-315.587601</td>\n",
       "      <td>-390.001784</td>\n",
       "      <td>-419.747052</td>\n",
       "      <td>-413.851506</td>\n",
       "      <td>66.042994</td>\n",
       "      <td>53</td>\n",
       "    </tr>\n",
       "    <tr>\n",
       "      <th>3</th>\n",
       "      <td>0.749416</td>\n",
       "      <td>0.006833</td>\n",
       "      <td>0.003069</td>\n",
       "      <td>0.000766</td>\n",
       "      <td>4</td>\n",
       "      <td>auto</td>\n",
       "      <td>400</td>\n",
       "      <td>12</td>\n",
       "      <td>{'max_depth': 4, 'max_features': 'auto', 'n_es...</td>\n",
       "      <td>0.682122</td>\n",
       "      <td>...</td>\n",
       "      <td>20.067760</td>\n",
       "      <td>54</td>\n",
       "      <td>-521.071505</td>\n",
       "      <td>-422.677060</td>\n",
       "      <td>-315.139128</td>\n",
       "      <td>-390.842416</td>\n",
       "      <td>-419.870418</td>\n",
       "      <td>-413.920105</td>\n",
       "      <td>66.157047</td>\n",
       "      <td>54</td>\n",
       "    </tr>\n",
       "    <tr>\n",
       "      <th>4</th>\n",
       "      <td>0.936331</td>\n",
       "      <td>0.012938</td>\n",
       "      <td>0.004244</td>\n",
       "      <td>0.000718</td>\n",
       "      <td>4</td>\n",
       "      <td>auto</td>\n",
       "      <td>500</td>\n",
       "      <td>12</td>\n",
       "      <td>{'max_depth': 4, 'max_features': 'auto', 'n_es...</td>\n",
       "      <td>0.682404</td>\n",
       "      <td>...</td>\n",
       "      <td>19.816759</td>\n",
       "      <td>56</td>\n",
       "      <td>-520.840259</td>\n",
       "      <td>-422.633002</td>\n",
       "      <td>-314.841006</td>\n",
       "      <td>-391.376661</td>\n",
       "      <td>-420.492882</td>\n",
       "      <td>-414.036762</td>\n",
       "      <td>66.145056</td>\n",
       "      <td>55</td>\n",
       "    </tr>\n",
       "    <tr>\n",
       "      <th>...</th>\n",
       "      <td>...</td>\n",
       "      <td>...</td>\n",
       "      <td>...</td>\n",
       "      <td>...</td>\n",
       "      <td>...</td>\n",
       "      <td>...</td>\n",
       "      <td>...</td>\n",
       "      <td>...</td>\n",
       "      <td>...</td>\n",
       "      <td>...</td>\n",
       "      <td>...</td>\n",
       "      <td>...</td>\n",
       "      <td>...</td>\n",
       "      <td>...</td>\n",
       "      <td>...</td>\n",
       "      <td>...</td>\n",
       "      <td>...</td>\n",
       "      <td>...</td>\n",
       "      <td>...</td>\n",
       "      <td>...</td>\n",
       "      <td>...</td>\n",
       "    </tr>\n",
       "    <tr>\n",
       "      <th>70</th>\n",
       "      <td>0.177382</td>\n",
       "      <td>0.003358</td>\n",
       "      <td>0.005585</td>\n",
       "      <td>0.000798</td>\n",
       "      <td>64</td>\n",
       "      <td>log2</td>\n",
       "      <td>100</td>\n",
       "      <td>12</td>\n",
       "      <td>{'max_depth': 64, 'max_features': 'log2', 'n_e...</td>\n",
       "      <td>0.609641</td>\n",
       "      <td>...</td>\n",
       "      <td>29.382082</td>\n",
       "      <td>29</td>\n",
       "      <td>-577.430215</td>\n",
       "      <td>-331.607925</td>\n",
       "      <td>-366.187200</td>\n",
       "      <td>-135.693036</td>\n",
       "      <td>-339.711461</td>\n",
       "      <td>-350.125967</td>\n",
       "      <td>140.255514</td>\n",
       "      <td>29</td>\n",
       "    </tr>\n",
       "    <tr>\n",
       "      <th>71</th>\n",
       "      <td>0.350438</td>\n",
       "      <td>0.004581</td>\n",
       "      <td>0.007924</td>\n",
       "      <td>0.000169</td>\n",
       "      <td>64</td>\n",
       "      <td>log2</td>\n",
       "      <td>200</td>\n",
       "      <td>12</td>\n",
       "      <td>{'max_depth': 64, 'max_features': 'log2', 'n_e...</td>\n",
       "      <td>0.609651</td>\n",
       "      <td>...</td>\n",
       "      <td>29.382099</td>\n",
       "      <td>27</td>\n",
       "      <td>-577.422401</td>\n",
       "      <td>-331.608260</td>\n",
       "      <td>-366.182238</td>\n",
       "      <td>-135.695501</td>\n",
       "      <td>-339.707545</td>\n",
       "      <td>-350.123189</td>\n",
       "      <td>140.252163</td>\n",
       "      <td>27</td>\n",
       "    </tr>\n",
       "    <tr>\n",
       "      <th>72</th>\n",
       "      <td>0.399663</td>\n",
       "      <td>0.004736</td>\n",
       "      <td>0.009066</td>\n",
       "      <td>0.000690</td>\n",
       "      <td>64</td>\n",
       "      <td>log2</td>\n",
       "      <td>300</td>\n",
       "      <td>12</td>\n",
       "      <td>{'max_depth': 64, 'max_features': 'log2', 'n_e...</td>\n",
       "      <td>0.609651</td>\n",
       "      <td>...</td>\n",
       "      <td>29.382099</td>\n",
       "      <td>21</td>\n",
       "      <td>-577.422401</td>\n",
       "      <td>-331.608260</td>\n",
       "      <td>-366.182238</td>\n",
       "      <td>-135.695501</td>\n",
       "      <td>-339.707545</td>\n",
       "      <td>-350.123189</td>\n",
       "      <td>140.252163</td>\n",
       "      <td>21</td>\n",
       "    </tr>\n",
       "    <tr>\n",
       "      <th>73</th>\n",
       "      <td>0.429864</td>\n",
       "      <td>0.025235</td>\n",
       "      <td>0.009489</td>\n",
       "      <td>0.001911</td>\n",
       "      <td>64</td>\n",
       "      <td>log2</td>\n",
       "      <td>400</td>\n",
       "      <td>12</td>\n",
       "      <td>{'max_depth': 64, 'max_features': 'log2', 'n_e...</td>\n",
       "      <td>0.609651</td>\n",
       "      <td>...</td>\n",
       "      <td>29.382099</td>\n",
       "      <td>21</td>\n",
       "      <td>-577.422401</td>\n",
       "      <td>-331.608260</td>\n",
       "      <td>-366.182238</td>\n",
       "      <td>-135.695501</td>\n",
       "      <td>-339.707545</td>\n",
       "      <td>-350.123189</td>\n",
       "      <td>140.252163</td>\n",
       "      <td>21</td>\n",
       "    </tr>\n",
       "    <tr>\n",
       "      <th>74</th>\n",
       "      <td>0.474111</td>\n",
       "      <td>0.024891</td>\n",
       "      <td>0.010737</td>\n",
       "      <td>0.001440</td>\n",
       "      <td>64</td>\n",
       "      <td>log2</td>\n",
       "      <td>500</td>\n",
       "      <td>12</td>\n",
       "      <td>{'max_depth': 64, 'max_features': 'log2', 'n_e...</td>\n",
       "      <td>0.609651</td>\n",
       "      <td>...</td>\n",
       "      <td>29.382099</td>\n",
       "      <td>21</td>\n",
       "      <td>-577.422401</td>\n",
       "      <td>-331.608260</td>\n",
       "      <td>-366.182238</td>\n",
       "      <td>-135.695501</td>\n",
       "      <td>-339.707545</td>\n",
       "      <td>-350.123189</td>\n",
       "      <td>140.252163</td>\n",
       "      <td>21</td>\n",
       "    </tr>\n",
       "  </tbody>\n",
       "</table>\n",
       "<p>75 rows × 33 columns</p>\n",
       "</div>"
      ],
      "text/plain": [
       "    mean_fit_time  std_fit_time  mean_score_time  std_score_time  \\\n",
       "0        0.183878      0.006028         0.002464        0.000481   \n",
       "1        0.372728      0.007503         0.002763        0.000732   \n",
       "2        0.557108      0.019517         0.003250        0.000385   \n",
       "3        0.749416      0.006833         0.003069        0.000766   \n",
       "4        0.936331      0.012938         0.004244        0.000718   \n",
       "..            ...           ...              ...             ...   \n",
       "70       0.177382      0.003358         0.005585        0.000798   \n",
       "71       0.350438      0.004581         0.007924        0.000169   \n",
       "72       0.399663      0.004736         0.009066        0.000690   \n",
       "73       0.429864      0.025235         0.009489        0.001911   \n",
       "74       0.474111      0.024891         0.010737        0.001440   \n",
       "\n",
       "   param_max_depth param_max_features param_n_estimators param_random_state  \\\n",
       "0                4               auto                100                 12   \n",
       "1                4               auto                200                 12   \n",
       "2                4               auto                300                 12   \n",
       "3                4               auto                400                 12   \n",
       "4                4               auto                500                 12   \n",
       "..             ...                ...                ...                ...   \n",
       "70              64               log2                100                 12   \n",
       "71              64               log2                200                 12   \n",
       "72              64               log2                300                 12   \n",
       "73              64               log2                400                 12   \n",
       "74              64               log2                500                 12   \n",
       "\n",
       "                                               params  split0_test_r2  ...  \\\n",
       "0   {'max_depth': 4, 'max_features': 'auto', 'n_es...        0.680765  ...   \n",
       "1   {'max_depth': 4, 'max_features': 'auto', 'n_es...        0.681753  ...   \n",
       "2   {'max_depth': 4, 'max_features': 'auto', 'n_es...        0.682297  ...   \n",
       "3   {'max_depth': 4, 'max_features': 'auto', 'n_es...        0.682122  ...   \n",
       "4   {'max_depth': 4, 'max_features': 'auto', 'n_es...        0.682404  ...   \n",
       "..                                                ...             ...  ...   \n",
       "70  {'max_depth': 64, 'max_features': 'log2', 'n_e...        0.609641  ...   \n",
       "71  {'max_depth': 64, 'max_features': 'log2', 'n_e...        0.609651  ...   \n",
       "72  {'max_depth': 64, 'max_features': 'log2', 'n_e...        0.609651  ...   \n",
       "73  {'max_depth': 64, 'max_features': 'log2', 'n_e...        0.609651  ...   \n",
       "74  {'max_depth': 64, 'max_features': 'log2', 'n_e...        0.609651  ...   \n",
       "\n",
       "    std_test_neg_mean_absolute_error  rank_test_neg_mean_absolute_error  \\\n",
       "0                          20.090081                                 51   \n",
       "1                          20.764012                                 52   \n",
       "2                          20.665017                                 53   \n",
       "3                          20.067760                                 54   \n",
       "4                          19.816759                                 56   \n",
       "..                               ...                                ...   \n",
       "70                         29.382082                                 29   \n",
       "71                         29.382099                                 27   \n",
       "72                         29.382099                                 21   \n",
       "73                         29.382099                                 21   \n",
       "74                         29.382099                                 21   \n",
       "\n",
       "    split0_test_neg_root_mean_squared_error  \\\n",
       "0                               -522.182801   \n",
       "1                               -521.374388   \n",
       "2                               -520.928405   \n",
       "3                               -521.071505   \n",
       "4                               -520.840259   \n",
       "..                                      ...   \n",
       "70                              -577.430215   \n",
       "71                              -577.422401   \n",
       "72                              -577.422401   \n",
       "73                              -577.422401   \n",
       "74                              -577.422401   \n",
       "\n",
       "    split1_test_neg_root_mean_squared_error  \\\n",
       "0                               -419.351027   \n",
       "1                               -422.196911   \n",
       "2                               -422.992689   \n",
       "3                               -422.677060   \n",
       "4                               -422.633002   \n",
       "..                                      ...   \n",
       "70                              -331.607925   \n",
       "71                              -331.608260   \n",
       "72                              -331.608260   \n",
       "73                              -331.608260   \n",
       "74                              -331.608260   \n",
       "\n",
       "    split2_test_neg_root_mean_squared_error  \\\n",
       "0                               -318.395864   \n",
       "1                               -317.009402   \n",
       "2                               -315.587601   \n",
       "3                               -315.139128   \n",
       "4                               -314.841006   \n",
       "..                                      ...   \n",
       "70                              -366.187200   \n",
       "71                              -366.182238   \n",
       "72                              -366.182238   \n",
       "73                              -366.182238   \n",
       "74                              -366.182238   \n",
       "\n",
       "    split3_test_neg_root_mean_squared_error  \\\n",
       "0                               -379.768569   \n",
       "1                               -386.905233   \n",
       "2                               -390.001784   \n",
       "3                               -390.842416   \n",
       "4                               -391.376661   \n",
       "..                                      ...   \n",
       "70                              -135.693036   \n",
       "71                              -135.695501   \n",
       "72                              -135.695501   \n",
       "73                              -135.695501   \n",
       "74                              -135.695501   \n",
       "\n",
       "    split4_test_neg_root_mean_squared_error  \\\n",
       "0                               -416.739163   \n",
       "1                               -419.582212   \n",
       "2                               -419.747052   \n",
       "3                               -419.870418   \n",
       "4                               -420.492882   \n",
       "..                                      ...   \n",
       "70                              -339.711461   \n",
       "71                              -339.707545   \n",
       "72                              -339.707545   \n",
       "73                              -339.707545   \n",
       "74                              -339.707545   \n",
       "\n",
       "    mean_test_neg_root_mean_squared_error  \\\n",
       "0                             -411.287485   \n",
       "1                             -413.413629   \n",
       "2                             -413.851506   \n",
       "3                             -413.920105   \n",
       "4                             -414.036762   \n",
       "..                                    ...   \n",
       "70                            -350.125967   \n",
       "71                            -350.123189   \n",
       "72                            -350.123189   \n",
       "73                            -350.123189   \n",
       "74                            -350.123189   \n",
       "\n",
       "    std_test_neg_root_mean_squared_error  \\\n",
       "0                              66.354816   \n",
       "1                              65.980592   \n",
       "2                              66.042994   \n",
       "3                              66.157047   \n",
       "4                              66.145056   \n",
       "..                                   ...   \n",
       "70                            140.255514   \n",
       "71                            140.252163   \n",
       "72                            140.252163   \n",
       "73                            140.252163   \n",
       "74                            140.252163   \n",
       "\n",
       "    rank_test_neg_root_mean_squared_error  \n",
       "0                                      51  \n",
       "1                                      52  \n",
       "2                                      53  \n",
       "3                                      54  \n",
       "4                                      55  \n",
       "..                                    ...  \n",
       "70                                     29  \n",
       "71                                     27  \n",
       "72                                     21  \n",
       "73                                     21  \n",
       "74                                     21  \n",
       "\n",
       "[75 rows x 33 columns]"
      ]
     },
     "execution_count": 83,
     "metadata": {},
     "output_type": "execute_result"
    }
   ],
   "source": [
    "pd.DataFrame(CV_xgboost.cv_results_)"
   ]
  }
 ],
 "metadata": {
  "kernelspec": {
   "display_name": "Python 3.9.12 ('base')",
   "language": "python",
   "name": "python3"
  },
  "language_info": {
   "codemirror_mode": {
    "name": "ipython",
    "version": 3
   },
   "file_extension": ".py",
   "mimetype": "text/x-python",
   "name": "python",
   "nbconvert_exporter": "python",
   "pygments_lexer": "ipython3",
   "version": "3.9.12"
  },
  "orig_nbformat": 4,
  "vscode": {
   "interpreter": {
    "hash": "bd081ec4775106110a6ec263dfd69dc0c4175c1ef4a4b7bd7cc17da957142225"
   }
  }
 },
 "nbformat": 4,
 "nbformat_minor": 2
}
