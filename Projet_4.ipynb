{
 "cells": [
  {
   "cell_type": "code",
   "execution_count": 73,
   "metadata": {},
   "outputs": [],
   "source": [
    "%matplotlib inline\n",
    "import pandas as pd\n",
    "import numpy as np\n",
    "import matplotlib.pyplot as plt\n",
    "import seaborn as sns\n",
    "import shap\n",
    "\n",
    "from sklearn.preprocessing import StandardScaler, OneHotEncoder, LabelBinarizer\n",
    "from sklearn.model_selection import train_test_split, GridSearchCV\n",
    "from sklearn.ensemble import RandomForestRegressor\n",
    "from sklearn.linear_model import Ridge\n",
    "from sklearn.tree import DecisionTreeRegressor\n",
    "from sklearn.metrics import mean_absolute_error as m_a_e, mean_squared_error as m_s_e, r2_score as r2\n",
    "from sklearn.pipeline import Pipeline\n",
    "from sklearn.metrics import confusion_matrix\n",
    "from sklearn.dummy import DummyRegressor\n",
    "\n",
    "from scipy.stats.mstats import winsorize"
   ]
  },
  {
   "cell_type": "code",
   "execution_count": 2,
   "metadata": {},
   "outputs": [],
   "source": [
    "import warnings\n",
    "warnings.filterwarnings('ignore')"
   ]
  },
  {
   "cell_type": "code",
   "execution_count": 3,
   "metadata": {},
   "outputs": [],
   "source": [
    "dataset = \"E:/Formation Data Scientist/Projet_4/2016_Building_Energy_Benchmarking.csv\""
   ]
  },
  {
   "cell_type": "code",
   "execution_count": 4,
   "metadata": {},
   "outputs": [],
   "source": [
    "df = pd.read_csv(dataset)"
   ]
  },
  {
   "cell_type": "markdown",
   "metadata": {},
   "source": [
    "### <a name='C2'> EDA et Choix des features   </a>"
   ]
  },
  {
   "cell_type": "code",
   "execution_count": 5,
   "metadata": {},
   "outputs": [
    {
     "data": {
      "text/html": [
       "<div>\n",
       "<style scoped>\n",
       "    .dataframe tbody tr th:only-of-type {\n",
       "        vertical-align: middle;\n",
       "    }\n",
       "\n",
       "    .dataframe tbody tr th {\n",
       "        vertical-align: top;\n",
       "    }\n",
       "\n",
       "    .dataframe thead th {\n",
       "        text-align: right;\n",
       "    }\n",
       "</style>\n",
       "<table border=\"1\" class=\"dataframe\">\n",
       "  <thead>\n",
       "    <tr style=\"text-align: right;\">\n",
       "      <th></th>\n",
       "      <th>OSEBuildingID</th>\n",
       "      <th>DataYear</th>\n",
       "      <th>BuildingType</th>\n",
       "      <th>PrimaryPropertyType</th>\n",
       "      <th>PropertyName</th>\n",
       "      <th>Address</th>\n",
       "      <th>City</th>\n",
       "      <th>State</th>\n",
       "      <th>ZipCode</th>\n",
       "      <th>TaxParcelIdentificationNumber</th>\n",
       "      <th>...</th>\n",
       "      <th>Electricity(kWh)</th>\n",
       "      <th>Electricity(kBtu)</th>\n",
       "      <th>NaturalGas(therms)</th>\n",
       "      <th>NaturalGas(kBtu)</th>\n",
       "      <th>DefaultData</th>\n",
       "      <th>Comments</th>\n",
       "      <th>ComplianceStatus</th>\n",
       "      <th>Outlier</th>\n",
       "      <th>TotalGHGEmissions</th>\n",
       "      <th>GHGEmissionsIntensity</th>\n",
       "    </tr>\n",
       "  </thead>\n",
       "  <tbody>\n",
       "    <tr>\n",
       "      <th>0</th>\n",
       "      <td>1</td>\n",
       "      <td>2016</td>\n",
       "      <td>NonResidential</td>\n",
       "      <td>Hotel</td>\n",
       "      <td>Mayflower park hotel</td>\n",
       "      <td>405 Olive way</td>\n",
       "      <td>Seattle</td>\n",
       "      <td>WA</td>\n",
       "      <td>98101.0</td>\n",
       "      <td>0659000030</td>\n",
       "      <td>...</td>\n",
       "      <td>1.156514e+06</td>\n",
       "      <td>3946027.0</td>\n",
       "      <td>12764.52930</td>\n",
       "      <td>1276453.0</td>\n",
       "      <td>False</td>\n",
       "      <td>NaN</td>\n",
       "      <td>Compliant</td>\n",
       "      <td>NaN</td>\n",
       "      <td>249.98</td>\n",
       "      <td>2.83</td>\n",
       "    </tr>\n",
       "    <tr>\n",
       "      <th>1</th>\n",
       "      <td>2</td>\n",
       "      <td>2016</td>\n",
       "      <td>NonResidential</td>\n",
       "      <td>Hotel</td>\n",
       "      <td>Paramount Hotel</td>\n",
       "      <td>724 Pine street</td>\n",
       "      <td>Seattle</td>\n",
       "      <td>WA</td>\n",
       "      <td>98101.0</td>\n",
       "      <td>0659000220</td>\n",
       "      <td>...</td>\n",
       "      <td>9.504252e+05</td>\n",
       "      <td>3242851.0</td>\n",
       "      <td>51450.81641</td>\n",
       "      <td>5145082.0</td>\n",
       "      <td>False</td>\n",
       "      <td>NaN</td>\n",
       "      <td>Compliant</td>\n",
       "      <td>NaN</td>\n",
       "      <td>295.86</td>\n",
       "      <td>2.86</td>\n",
       "    </tr>\n",
       "    <tr>\n",
       "      <th>2</th>\n",
       "      <td>3</td>\n",
       "      <td>2016</td>\n",
       "      <td>NonResidential</td>\n",
       "      <td>Hotel</td>\n",
       "      <td>5673-The Westin Seattle</td>\n",
       "      <td>1900 5th Avenue</td>\n",
       "      <td>Seattle</td>\n",
       "      <td>WA</td>\n",
       "      <td>98101.0</td>\n",
       "      <td>0659000475</td>\n",
       "      <td>...</td>\n",
       "      <td>1.451544e+07</td>\n",
       "      <td>49526664.0</td>\n",
       "      <td>14938.00000</td>\n",
       "      <td>1493800.0</td>\n",
       "      <td>False</td>\n",
       "      <td>NaN</td>\n",
       "      <td>Compliant</td>\n",
       "      <td>NaN</td>\n",
       "      <td>2089.28</td>\n",
       "      <td>2.19</td>\n",
       "    </tr>\n",
       "  </tbody>\n",
       "</table>\n",
       "<p>3 rows × 46 columns</p>\n",
       "</div>"
      ],
      "text/plain": [
       "   OSEBuildingID  DataYear    BuildingType PrimaryPropertyType  \\\n",
       "0              1      2016  NonResidential               Hotel   \n",
       "1              2      2016  NonResidential               Hotel   \n",
       "2              3      2016  NonResidential               Hotel   \n",
       "\n",
       "              PropertyName          Address     City State  ZipCode  \\\n",
       "0     Mayflower park hotel    405 Olive way  Seattle    WA  98101.0   \n",
       "1          Paramount Hotel  724 Pine street  Seattle    WA  98101.0   \n",
       "2  5673-The Westin Seattle  1900 5th Avenue  Seattle    WA  98101.0   \n",
       "\n",
       "  TaxParcelIdentificationNumber  ...  Electricity(kWh) Electricity(kBtu)  \\\n",
       "0                    0659000030  ...      1.156514e+06         3946027.0   \n",
       "1                    0659000220  ...      9.504252e+05         3242851.0   \n",
       "2                    0659000475  ...      1.451544e+07        49526664.0   \n",
       "\n",
       "   NaturalGas(therms)  NaturalGas(kBtu)  DefaultData  Comments  \\\n",
       "0         12764.52930         1276453.0        False       NaN   \n",
       "1         51450.81641         5145082.0        False       NaN   \n",
       "2         14938.00000         1493800.0        False       NaN   \n",
       "\n",
       "   ComplianceStatus  Outlier  TotalGHGEmissions  GHGEmissionsIntensity  \n",
       "0         Compliant      NaN             249.98                   2.83  \n",
       "1         Compliant      NaN             295.86                   2.86  \n",
       "2         Compliant      NaN            2089.28                   2.19  \n",
       "\n",
       "[3 rows x 46 columns]"
      ]
     },
     "execution_count": 5,
     "metadata": {},
     "output_type": "execute_result"
    }
   ],
   "source": [
    "df.head(3)"
   ]
  },
  {
   "cell_type": "code",
   "execution_count": 6,
   "metadata": {},
   "outputs": [
    {
     "name": "stdout",
     "output_type": "stream",
     "text": [
      "<class 'pandas.core.frame.DataFrame'>\n",
      "RangeIndex: 3376 entries, 0 to 3375\n",
      "Data columns (total 46 columns):\n",
      " #   Column                           Non-Null Count  Dtype  \n",
      "---  ------                           --------------  -----  \n",
      " 0   OSEBuildingID                    3376 non-null   int64  \n",
      " 1   DataYear                         3376 non-null   int64  \n",
      " 2   BuildingType                     3376 non-null   object \n",
      " 3   PrimaryPropertyType              3376 non-null   object \n",
      " 4   PropertyName                     3376 non-null   object \n",
      " 5   Address                          3376 non-null   object \n",
      " 6   City                             3376 non-null   object \n",
      " 7   State                            3376 non-null   object \n",
      " 8   ZipCode                          3360 non-null   float64\n",
      " 9   TaxParcelIdentificationNumber    3376 non-null   object \n",
      " 10  CouncilDistrictCode              3376 non-null   int64  \n",
      " 11  Neighborhood                     3376 non-null   object \n",
      " 12  Latitude                         3376 non-null   float64\n",
      " 13  Longitude                        3376 non-null   float64\n",
      " 14  YearBuilt                        3376 non-null   int64  \n",
      " 15  NumberofBuildings                3368 non-null   float64\n",
      " 16  NumberofFloors                   3376 non-null   int64  \n",
      " 17  PropertyGFATotal                 3376 non-null   int64  \n",
      " 18  PropertyGFAParking               3376 non-null   int64  \n",
      " 19  PropertyGFABuilding(s)           3376 non-null   int64  \n",
      " 20  ListOfAllPropertyUseTypes        3367 non-null   object \n",
      " 21  LargestPropertyUseType           3356 non-null   object \n",
      " 22  LargestPropertyUseTypeGFA        3356 non-null   float64\n",
      " 23  SecondLargestPropertyUseType     1679 non-null   object \n",
      " 24  SecondLargestPropertyUseTypeGFA  1679 non-null   float64\n",
      " 25  ThirdLargestPropertyUseType      596 non-null    object \n",
      " 26  ThirdLargestPropertyUseTypeGFA   596 non-null    float64\n",
      " 27  YearsENERGYSTARCertified         119 non-null    object \n",
      " 28  ENERGYSTARScore                  2533 non-null   float64\n",
      " 29  SiteEUI(kBtu/sf)                 3369 non-null   float64\n",
      " 30  SiteEUIWN(kBtu/sf)               3370 non-null   float64\n",
      " 31  SourceEUI(kBtu/sf)               3367 non-null   float64\n",
      " 32  SourceEUIWN(kBtu/sf)             3367 non-null   float64\n",
      " 33  SiteEnergyUse(kBtu)              3371 non-null   float64\n",
      " 34  SiteEnergyUseWN(kBtu)            3370 non-null   float64\n",
      " 35  SteamUse(kBtu)                   3367 non-null   float64\n",
      " 36  Electricity(kWh)                 3367 non-null   float64\n",
      " 37  Electricity(kBtu)                3367 non-null   float64\n",
      " 38  NaturalGas(therms)               3367 non-null   float64\n",
      " 39  NaturalGas(kBtu)                 3367 non-null   float64\n",
      " 40  DefaultData                      3376 non-null   bool   \n",
      " 41  Comments                         0 non-null      float64\n",
      " 42  ComplianceStatus                 3376 non-null   object \n",
      " 43  Outlier                          32 non-null     object \n",
      " 44  TotalGHGEmissions                3367 non-null   float64\n",
      " 45  GHGEmissionsIntensity            3367 non-null   float64\n",
      "dtypes: bool(1), float64(22), int64(8), object(15)\n",
      "memory usage: 1.2+ MB\n"
     ]
    }
   ],
   "source": [
    "df.info()"
   ]
  },
  {
   "cell_type": "markdown",
   "metadata": {},
   "source": []
  },
  {
   "cell_type": "code",
   "execution_count": 7,
   "metadata": {},
   "outputs": [
    {
     "data": {
      "text/plain": [
       "(3376, 46)"
      ]
     },
     "execution_count": 7,
     "metadata": {},
     "output_type": "execute_result"
    }
   ],
   "source": [
    "df.shape"
   ]
  },
  {
   "cell_type": "markdown",
   "metadata": {},
   "source": []
  },
  {
   "cell_type": "markdown",
   "metadata": {},
   "source": [
    "- Exploration des valeurs nulles"
   ]
  },
  {
   "cell_type": "code",
   "execution_count": 8,
   "metadata": {},
   "outputs": [
    {
     "data": {
      "image/png": "[encoded data removed]",
      "text/plain": [
       "<Figure size 1152x864 with 1 Axes>"
      ]
     },
     "metadata": {
      "needs_background": "light"
     },
     "output_type": "display_data"
    }
   ],
   "source": [
    "plt.figure(figsize=(16,12))\n",
    "sns.heatmap(df.isna(),cbar=False)\n",
    "plt.show()"
   ]
  },
  {
   "cell_type": "markdown",
   "metadata": {},
   "source": []
  },
  {
   "cell_type": "markdown",
   "metadata": {},
   "source": [
    "- Typologie des variables"
   ]
  },
  {
   "cell_type": "code",
   "execution_count": 9,
   "metadata": {},
   "outputs": [
    {
     "data": {
      "text/plain": [
       "float64    22\n",
       "object     15\n",
       "int64       8\n",
       "bool        1\n",
       "dtype: int64"
      ]
     },
     "execution_count": 9,
     "metadata": {},
     "output_type": "execute_result"
    }
   ],
   "source": [
    "df.dtypes.value_counts()"
   ]
  },
  {
   "cell_type": "markdown",
   "metadata": {},
   "source": []
  },
  {
   "cell_type": "markdown",
   "metadata": {},
   "source": [
    "- Nombre de variables différentes par Feature"
   ]
  },
  {
   "cell_type": "code",
   "execution_count": 10,
   "metadata": {},
   "outputs": [
    {
     "data": {
      "text/plain": [
       "OSEBuildingID                      3376\n",
       "DataYear                              1\n",
       "BuildingType                          8\n",
       "PrimaryPropertyType                  24\n",
       "PropertyName                       3362\n",
       "Address                            3354\n",
       "City                                  1\n",
       "State                                 1\n",
       "ZipCode                              55\n",
       "TaxParcelIdentificationNumber      3268\n",
       "CouncilDistrictCode                   7\n",
       "Neighborhood                         19\n",
       "Latitude                           2876\n",
       "Longitude                          2656\n",
       "YearBuilt                           113\n",
       "NumberofBuildings                    17\n",
       "NumberofFloors                       50\n",
       "PropertyGFATotal                   3195\n",
       "PropertyGFAParking                  496\n",
       "PropertyGFABuilding(s)             3193\n",
       "ListOfAllPropertyUseTypes           466\n",
       "LargestPropertyUseType               56\n",
       "LargestPropertyUseTypeGFA          3122\n",
       "SecondLargestPropertyUseType         50\n",
       "SecondLargestPropertyUseTypeGFA    1352\n",
       "ThirdLargestPropertyUseType          44\n",
       "ThirdLargestPropertyUseTypeGFA      501\n",
       "YearsENERGYSTARCertified             65\n",
       "ENERGYSTARScore                     100\n",
       "SiteEUI(kBtu/sf)                   1085\n",
       "SiteEUIWN(kBtu/sf)                 1105\n",
       "SourceEUI(kBtu/sf)                 1648\n",
       "SourceEUIWN(kBtu/sf)               1694\n",
       "SiteEnergyUse(kBtu)                3354\n",
       "SiteEnergyUseWN(kBtu)              3341\n",
       "SteamUse(kBtu)                      131\n",
       "Electricity(kWh)                   3352\n",
       "Electricity(kBtu)                  3351\n",
       "NaturalGas(therms)                 2109\n",
       "NaturalGas(kBtu)                   2109\n",
       "DefaultData                           2\n",
       "Comments                              0\n",
       "ComplianceStatus                      4\n",
       "Outlier                               2\n",
       "TotalGHGEmissions                  2818\n",
       "GHGEmissionsIntensity               511\n",
       "dtype: int64"
      ]
     },
     "execution_count": 10,
     "metadata": {},
     "output_type": "execute_result"
    }
   ],
   "source": [
    "df.nunique()"
   ]
  },
  {
   "cell_type": "code",
   "execution_count": 11,
   "metadata": {},
   "outputs": [
    {
     "data": {
      "text/plain": [
       "Low outlier     23\n",
       "High outlier     9\n",
       "Name: Outlier, dtype: int64"
      ]
     },
     "execution_count": 11,
     "metadata": {},
     "output_type": "execute_result"
    }
   ],
   "source": [
    "df['Outlier'].value_counts()"
   ]
  },
  {
   "cell_type": "code",
   "execution_count": 12,
   "metadata": {},
   "outputs": [
    {
     "data": {
      "text/plain": [
       "Compliant                       3211\n",
       "Error - Correct Default Data     113\n",
       "Non-Compliant                     37\n",
       "Missing Data                      15\n",
       "Name: ComplianceStatus, dtype: int64"
      ]
     },
     "execution_count": 12,
     "metadata": {},
     "output_type": "execute_result"
    }
   ],
   "source": [
    "df['ComplianceStatus'].value_counts()"
   ]
  },
  {
   "cell_type": "markdown",
   "metadata": {},
   "source": [
    "On a 8 types de buiding, seuls les buildings résidentiels nous interressent dans le cadre de notre étude"
   ]
  },
  {
   "cell_type": "code",
   "execution_count": 13,
   "metadata": {},
   "outputs": [
    {
     "data": {
      "text/plain": [
       "NonResidential          1460\n",
       "Multifamily LR (1-4)    1018\n",
       "Multifamily MR (5-9)     580\n",
       "Multifamily HR (10+)     110\n",
       "SPS-District K-12         98\n",
       "Nonresidential COS        85\n",
       "Campus                    24\n",
       "Nonresidential WA          1\n",
       "Name: BuildingType, dtype: int64"
      ]
     },
     "execution_count": 13,
     "metadata": {},
     "output_type": "execute_result"
    }
   ],
   "source": [
    "df.iloc[:,2].value_counts()"
   ]
  },
  {
   "cell_type": "markdown",
   "metadata": {},
   "source": [
    "Ici ce sont les buildings de type Multifamily qui nous interressent (rajouter Campus??)"
   ]
  },
  {
   "cell_type": "code",
   "execution_count": 14,
   "metadata": {},
   "outputs": [
    {
     "data": {
      "text/plain": [
       "Low-Rise Multifamily           987\n",
       "Mid-Rise Multifamily           564\n",
       "Small- and Mid-Sized Office    293\n",
       "Other                          256\n",
       "Warehouse                      187\n",
       "Large Office                   173\n",
       "K-12 School                    139\n",
       "Mixed Use Property             133\n",
       "High-Rise Multifamily          105\n",
       "Retail Store                    91\n",
       "Hotel                           77\n",
       "Worship Facility                71\n",
       "Distribution Center             53\n",
       "Senior Care Community           45\n",
       "Supermarket / Grocery Store     40\n",
       "Medical Office                  39\n",
       "Self-Storage Facility           28\n",
       "University                      25\n",
       "Residence Hall                  23\n",
       "Refrigerated Warehouse          12\n",
       "Restaurant                      12\n",
       "Hospital                        10\n",
       "Laboratory                      10\n",
       "Office                           3\n",
       "Name: PrimaryPropertyType, dtype: int64"
      ]
     },
     "execution_count": 14,
     "metadata": {},
     "output_type": "execute_result"
    }
   ],
   "source": [
    "df.iloc[:,3].value_counts()"
   ]
  },
  {
   "cell_type": "code",
   "execution_count": null,
   "metadata": {},
   "outputs": [],
   "source": []
  },
  {
   "cell_type": "markdown",
   "metadata": {},
   "source": [
    "- Nombre de valeures nulles par feature"
   ]
  },
  {
   "cell_type": "code",
   "execution_count": 15,
   "metadata": {},
   "outputs": [
    {
     "data": {
      "text/plain": [
       "OSEBuildingID                         0\n",
       "DataYear                              0\n",
       "BuildingType                          0\n",
       "PrimaryPropertyType                   0\n",
       "PropertyName                          0\n",
       "Address                               0\n",
       "City                                  0\n",
       "State                                 0\n",
       "ZipCode                              16\n",
       "TaxParcelIdentificationNumber         0\n",
       "CouncilDistrictCode                   0\n",
       "Neighborhood                          0\n",
       "Latitude                              0\n",
       "Longitude                             0\n",
       "YearBuilt                             0\n",
       "NumberofBuildings                     8\n",
       "NumberofFloors                        0\n",
       "PropertyGFATotal                      0\n",
       "PropertyGFAParking                    0\n",
       "PropertyGFABuilding(s)                0\n",
       "ListOfAllPropertyUseTypes             9\n",
       "LargestPropertyUseType               20\n",
       "LargestPropertyUseTypeGFA            20\n",
       "SecondLargestPropertyUseType       1697\n",
       "SecondLargestPropertyUseTypeGFA    1697\n",
       "ThirdLargestPropertyUseType        2780\n",
       "ThirdLargestPropertyUseTypeGFA     2780\n",
       "YearsENERGYSTARCertified           3257\n",
       "ENERGYSTARScore                     843\n",
       "SiteEUI(kBtu/sf)                      7\n",
       "SiteEUIWN(kBtu/sf)                    6\n",
       "SourceEUI(kBtu/sf)                    9\n",
       "SourceEUIWN(kBtu/sf)                  9\n",
       "SiteEnergyUse(kBtu)                   5\n",
       "SiteEnergyUseWN(kBtu)                 6\n",
       "SteamUse(kBtu)                        9\n",
       "Electricity(kWh)                      9\n",
       "Electricity(kBtu)                     9\n",
       "NaturalGas(therms)                    9\n",
       "NaturalGas(kBtu)                      9\n",
       "DefaultData                           0\n",
       "Comments                           3376\n",
       "ComplianceStatus                      0\n",
       "Outlier                            3344\n",
       "TotalGHGEmissions                     9\n",
       "GHGEmissionsIntensity                 9\n",
       "dtype: int64"
      ]
     },
     "execution_count": 15,
     "metadata": {},
     "output_type": "execute_result"
    }
   ],
   "source": [
    "df.isna().sum()"
   ]
  },
  {
   "cell_type": "markdown",
   "metadata": {},
   "source": []
  },
  {
   "cell_type": "code",
   "execution_count": 16,
   "metadata": {},
   "outputs": [],
   "source": [
    "building_type = ['NonResidential','NonResidential COS','NonResidential WA'] # Réflechir sur rajouter ou non Campus comme building résidentiel,'Campus','SPS-District K-12',\n",
    "\n",
    "nonResidential = df[df['BuildingType'].isin(building_type)].reset_index(drop=True)"
   ]
  },
  {
   "cell_type": "markdown",
   "metadata": {},
   "source": [
    "- Nos deux targets sont **TotalGHGEmissions** et **SiteEnergyUse(kBtu)**"
   ]
  },
  {
   "cell_type": "code",
   "execution_count": 17,
   "metadata": {},
   "outputs": [],
   "source": [
    "compliant = ['Compliant']\n",
    "\n",
    "nonResidential = nonResidential[nonResidential['ComplianceStatus'].isin(compliant)].reset_index(drop=True)"
   ]
  },
  {
   "cell_type": "code",
   "execution_count": 18,
   "metadata": {},
   "outputs": [
    {
     "data": {
      "text/plain": [
       "(1432, 46)"
      ]
     },
     "execution_count": 18,
     "metadata": {},
     "output_type": "execute_result"
    }
   ],
   "source": [
    "nonResidential.shape"
   ]
  },
  {
   "cell_type": "code",
   "execution_count": 19,
   "metadata": {},
   "outputs": [
    {
     "data": {
      "text/plain": [
       "Small- and Mid-Sized Office    282\n",
       "Other                          181\n",
       "Warehouse                      178\n",
       "Large Office                   164\n",
       "Mixed Use Property             101\n",
       "Retail Store                    85\n",
       "Hotel                           75\n",
       "Worship Facility                69\n",
       "Distribution Center             51\n",
       "Supermarket / Grocery Store     40\n",
       "Medical Office                  38\n",
       "K-12 School                     38\n",
       "Self-Storage Facility           28\n",
       "Residence Hall                  21\n",
       "Senior Care Community           20\n",
       "University                      17\n",
       "Refrigerated Warehouse          12\n",
       "Restaurant                      11\n",
       "Hospital                        10\n",
       "Laboratory                      10\n",
       "Low-Rise Multifamily             1\n",
       "Name: PrimaryPropertyType, dtype: int64"
      ]
     },
     "execution_count": 19,
     "metadata": {},
     "output_type": "execute_result"
    }
   ],
   "source": [
    "nonResidential.iloc[:,3].value_counts()"
   ]
  },
  {
   "cell_type": "markdown",
   "metadata": {},
   "source": [
    "- Nettoyage et choix des features à utiliser"
   ]
  },
  {
   "cell_type": "code",
   "execution_count": 20,
   "metadata": {},
   "outputs": [],
   "source": [
    "nonResidential = nonResidential.drop(nonResidential[nonResidential['PrimaryPropertyType'] == 'Low-Rise Multifamily'].index)"
   ]
  },
  {
   "cell_type": "code",
   "execution_count": 21,
   "metadata": {},
   "outputs": [],
   "source": [
    "nonResidential = nonResidential.drop(nonResidential[nonResidential['PrimaryPropertyType'] == 'Residence Hall'].index)"
   ]
  },
  {
   "cell_type": "code",
   "execution_count": 22,
   "metadata": {},
   "outputs": [
    {
     "data": {
      "text/plain": [
       "Small- and Mid-Sized Office    282\n",
       "Other                          181\n",
       "Warehouse                      178\n",
       "Large Office                   164\n",
       "Mixed Use Property             101\n",
       "Retail Store                    85\n",
       "Hotel                           75\n",
       "Worship Facility                69\n",
       "Distribution Center             51\n",
       "Supermarket / Grocery Store     40\n",
       "K-12 School                     38\n",
       "Medical Office                  38\n",
       "Self-Storage Facility           28\n",
       "Senior Care Community           20\n",
       "University                      17\n",
       "Refrigerated Warehouse          12\n",
       "Restaurant                      11\n",
       "Hospital                        10\n",
       "Laboratory                      10\n",
       "Name: PrimaryPropertyType, dtype: int64"
      ]
     },
     "execution_count": 22,
     "metadata": {},
     "output_type": "execute_result"
    }
   ],
   "source": [
    "nonResidential.iloc[:,3].value_counts()"
   ]
  },
  {
   "cell_type": "code",
   "execution_count": 23,
   "metadata": {},
   "outputs": [
    {
     "data": {
      "text/plain": [
       "OSEBuildingID                         0\n",
       "DataYear                              0\n",
       "BuildingType                          0\n",
       "PrimaryPropertyType                   0\n",
       "PropertyName                          0\n",
       "Address                               0\n",
       "City                                  0\n",
       "State                                 0\n",
       "ZipCode                               0\n",
       "TaxParcelIdentificationNumber         0\n",
       "CouncilDistrictCode                   0\n",
       "Neighborhood                          0\n",
       "Latitude                              0\n",
       "Longitude                             0\n",
       "YearBuilt                             0\n",
       "NumberofBuildings                     0\n",
       "NumberofFloors                        0\n",
       "PropertyGFATotal                      0\n",
       "PropertyGFAParking                    0\n",
       "PropertyGFABuilding(s)                0\n",
       "ListOfAllPropertyUseTypes             0\n",
       "LargestPropertyUseType                4\n",
       "LargestPropertyUseTypeGFA             4\n",
       "SecondLargestPropertyUseType        633\n",
       "SecondLargestPropertyUseTypeGFA     633\n",
       "ThirdLargestPropertyUseType        1102\n",
       "ThirdLargestPropertyUseTypeGFA     1102\n",
       "YearsENERGYSTARCertified           1320\n",
       "ENERGYSTARScore                     454\n",
       "SiteEUI(kBtu/sf)                      0\n",
       "SiteEUIWN(kBtu/sf)                    1\n",
       "SourceEUI(kBtu/sf)                    0\n",
       "SourceEUIWN(kBtu/sf)                  0\n",
       "SiteEnergyUse(kBtu)                   0\n",
       "SiteEnergyUseWN(kBtu)                 1\n",
       "SteamUse(kBtu)                        0\n",
       "Electricity(kWh)                      0\n",
       "Electricity(kBtu)                     0\n",
       "NaturalGas(therms)                    0\n",
       "NaturalGas(kBtu)                      0\n",
       "DefaultData                           0\n",
       "Comments                           1410\n",
       "ComplianceStatus                      0\n",
       "Outlier                            1410\n",
       "TotalGHGEmissions                     0\n",
       "GHGEmissionsIntensity                 0\n",
       "dtype: int64"
      ]
     },
     "execution_count": 23,
     "metadata": {},
     "output_type": "execute_result"
    }
   ],
   "source": [
    "nonResidential.isna().sum()"
   ]
  },
  {
   "cell_type": "code",
   "execution_count": 24,
   "metadata": {},
   "outputs": [
    {
     "data": {
      "text/plain": [
       "Compliant    1410\n",
       "Name: ComplianceStatus, dtype: int64"
      ]
     },
     "execution_count": 24,
     "metadata": {},
     "output_type": "execute_result"
    }
   ],
   "source": [
    "nonResidential['ComplianceStatus'].value_counts()"
   ]
  },
  {
   "cell_type": "code",
   "execution_count": 25,
   "metadata": {},
   "outputs": [
    {
     "data": {
      "text/plain": [
       "Series([], Name: Outlier, dtype: int64)"
      ]
     },
     "execution_count": 25,
     "metadata": {},
     "output_type": "execute_result"
    }
   ],
   "source": [
    "nonResidential['Outlier'].value_counts()"
   ]
  },
  {
   "cell_type": "code",
   "execution_count": 26,
   "metadata": {},
   "outputs": [],
   "source": [
    "nonResidential = nonResidential[nonResidential.Outlier.isnull()]"
   ]
  },
  {
   "cell_type": "code",
   "execution_count": 27,
   "metadata": {},
   "outputs": [],
   "source": [
    "nonResidential = nonResidential[['PrimaryPropertyType','Latitude','Longitude','YearBuilt','NumberofBuildings','NumberofFloors'\\\n",
    "            ,'PropertyGFABuilding(s)','PropertyGFAParking','LargestPropertyUseTypeGFA','SteamUse(kBtu)','Electricity(kBtu)','NaturalGas(kBtu)','TotalGHGEmissions']]"
   ]
  },
  {
   "cell_type": "code",
   "execution_count": 28,
   "metadata": {},
   "outputs": [
    {
     "data": {
      "image/png": "[encoded data removed]",
      "text/plain": [
       "<Figure size 432x288 with 1 Axes>"
      ]
     },
     "metadata": {
      "needs_background": "light"
     },
     "output_type": "display_data"
    }
   ],
   "source": [
    "plt.scatter(nonResidential['Electricity(kBtu)'],nonResidential['NaturalGas(kBtu)'])\n",
    "plt.xlabel('Electricity')\n",
    "plt.ylabel('Natural Gas')\n",
    "plt.show()"
   ]
  },
  {
   "cell_type": "code",
   "execution_count": 29,
   "metadata": {},
   "outputs": [
    {
     "data": {
      "text/plain": [
       "PrimaryPropertyType          0\n",
       "Latitude                     0\n",
       "Longitude                    0\n",
       "YearBuilt                    0\n",
       "NumberofBuildings            0\n",
       "NumberofFloors               0\n",
       "PropertyGFABuilding(s)       0\n",
       "PropertyGFAParking           0\n",
       "LargestPropertyUseTypeGFA    4\n",
       "SteamUse(kBtu)               0\n",
       "Electricity(kBtu)            0\n",
       "NaturalGas(kBtu)             0\n",
       "TotalGHGEmissions            0\n",
       "dtype: int64"
      ]
     },
     "execution_count": 29,
     "metadata": {},
     "output_type": "execute_result"
    }
   ],
   "source": [
    "nonResidential.isna().sum()"
   ]
  },
  {
   "cell_type": "code",
   "execution_count": 30,
   "metadata": {},
   "outputs": [],
   "source": [
    "nonResidential = nonResidential.dropna(axis=0) "
   ]
  },
  {
   "cell_type": "code",
   "execution_count": 31,
   "metadata": {},
   "outputs": [
    {
     "data": {
      "text/plain": [
       "1.0    1329\n",
       "0.0      44\n",
       "2.0      11\n",
       "3.0      10\n",
       "6.0       4\n",
       "5.0       3\n",
       "4.0       2\n",
       "9.0       1\n",
       "7.0       1\n",
       "8.0       1\n",
       "Name: NumberofBuildings, dtype: int64"
      ]
     },
     "execution_count": 31,
     "metadata": {},
     "output_type": "execute_result"
    }
   ],
   "source": [
    "nonResidential['NumberofBuildings'].value_counts()"
   ]
  },
  {
   "cell_type": "markdown",
   "metadata": {},
   "source": [
    "- Calcul de l'age des batiments"
   ]
  },
  {
   "cell_type": "code",
   "execution_count": 32,
   "metadata": {},
   "outputs": [],
   "source": [
    "df1 = nonResidential.copy()"
   ]
  },
  {
   "cell_type": "code",
   "execution_count": 33,
   "metadata": {},
   "outputs": [],
   "source": [
    "def fill_date(data):\n",
    "    if data<= 1920:\n",
    "        return \"_1920\"\n",
    "    elif 1920<data<=1940:\n",
    "        return \"1920_1940\"\n",
    "    elif 1940<data<=1960:\n",
    "        return \"1940_1960\"\n",
    "    elif 1960<data<=1980:\n",
    "        return \"1960_1980\"\n",
    "    elif 1980<data<=2000:\n",
    "        return \"1980_2000\"\n",
    "    elif data>2000:\n",
    "        return \"2000_\""
   ]
  },
  {
   "cell_type": "code",
   "execution_count": 34,
   "metadata": {},
   "outputs": [],
   "source": [
    "df1['YearBuilt'] = df1['YearBuilt'].apply(fill_date)"
   ]
  },
  {
   "cell_type": "code",
   "execution_count": 35,
   "metadata": {},
   "outputs": [],
   "source": [
    "df1['SteamUse(kBtu)'] = df1['SteamUse(kBtu)'].apply(lambda x : 1 if x > 0 else 0 )\n",
    "df1['Electricity(kBtu)'] = df1['Electricity(kBtu)'].apply(lambda x : 1 if x > 0 else 0 )\n",
    "df1['NaturalGas(kBtu)'] = df1['NaturalGas(kBtu)'].apply(lambda x : 1 if x > 0 else 0 )"
   ]
  },
  {
   "cell_type": "code",
   "execution_count": 36,
   "metadata": {},
   "outputs": [],
   "source": [
    "df2_code = pd.get_dummies(df1 ,columns=['PrimaryPropertyType','YearBuilt'])"
   ]
  },
  {
   "cell_type": "code",
   "execution_count": 37,
   "metadata": {},
   "outputs": [],
   "source": [
    "train, test = train_test_split(df2_code, test_size=0.2) "
   ]
  },
  {
   "cell_type": "code",
   "execution_count": 38,
   "metadata": {},
   "outputs": [],
   "source": [
    "X_train, y_train, X_test, y_test = train.drop(columns = \"TotalGHGEmissions\"), train[\"TotalGHGEmissions\"],test.drop(columns = \"TotalGHGEmissions\") ,test[\"TotalGHGEmissions\"]"
   ]
  },
  {
   "cell_type": "code",
   "execution_count": 39,
   "metadata": {},
   "outputs": [],
   "source": [
    "r_forest = RandomForestRegressor(random_state=0)"
   ]
  },
  {
   "cell_type": "code",
   "execution_count": 40,
   "metadata": {},
   "outputs": [
    {
     "data": {
      "text/plain": [
       "RandomForestRegressor(random_state=0)"
      ]
     },
     "execution_count": 40,
     "metadata": {},
     "output_type": "execute_result"
    }
   ],
   "source": [
    "# entrainement du modèle\n",
    "r_forest.fit(X_train, y_train)"
   ]
  },
  {
   "cell_type": "code",
   "execution_count": 41,
   "metadata": {},
   "outputs": [
    {
     "name": "stdout",
     "output_type": "stream",
     "text": [
      "308.6329244278285\n"
     ]
    }
   ],
   "source": [
    "# prédiction\n",
    "preds = r_forest.predict(X_test)\n",
    "\n",
    "# calcul du RMSE\n",
    "print(m_s_e(y_test,preds, squared=False))"
   ]
  },
  {
   "cell_type": "code",
   "execution_count": 42,
   "metadata": {},
   "outputs": [
    {
     "data": {
      "text/plain": [
       "<matplotlib.collections.PathCollection at 0x29bca3ba5e0>"
      ]
     },
     "execution_count": 42,
     "metadata": {},
     "output_type": "execute_result"
    },
    {
     "data": {
      "image/png": "[encoded data removed]",
      "text/plain": [
       "<Figure size 432x288 with 1 Axes>"
      ]
     },
     "metadata": {
      "needs_background": "light"
     },
     "output_type": "display_data"
    }
   ],
   "source": [
    "plt.scatter(preds,y_test)"
   ]
  },
  {
   "cell_type": "code",
   "execution_count": 43,
   "metadata": {},
   "outputs": [],
   "source": [
    "def get_error(n_estimator, X_train, X_test, y_train, y_test):\n",
    "    model = RandomForestRegressor(n_estimators=n_estimator, random_state=0)\n",
    "    model.fit(X_train, y_train)\n",
    "    preds_val = model.predict(X_test)\n",
    "    rmse = m_s_e(y_test, preds_val,squared=False)\n",
    "    mae = m_a_e(y_test, preds_val)\n",
    "    r_2 = r2(y_test,preds_val)\n",
    "    return(rmse, mae, r_2)"
   ]
  },
  {
   "cell_type": "markdown",
   "metadata": {},
   "source": []
  },
  {
   "cell_type": "code",
   "execution_count": 44,
   "metadata": {},
   "outputs": [],
   "source": [
    "def get_dummy_error(strategy, X_train, X_test, y_train, y_test):\n",
    "    model = DummyRegressor(strategy=strategy)\n",
    "    model.fit(X_train, y_train)\n",
    "    preds_val = model.predict(X_test)\n",
    "    rmse = m_s_e(y_test, preds_val,squared=False)\n",
    "    mae = m_a_e(y_test, preds_val)\n",
    "    r_2 = r2(y_test,preds_val)\n",
    "    return(rmse, mae, r_2)"
   ]
  },
  {
   "cell_type": "code",
   "execution_count": 45,
   "metadata": {},
   "outputs": [
    {
     "name": "stdout",
     "output_type": "stream",
     "text": [
      "strategy: mean  \t\t RMSE:  421.254123  \t\t MAE: 189.255503  \t\t R2:  -0.000114\n",
      "strategy: median  \t\t RMSE:  437.850325  \t\t MAE: 144.400709  \t\t R2:  -0.080469\n"
     ]
    }
   ],
   "source": [
    "# comparer RMSE et r2 avec differents valeurs de n_estimator\n",
    "lst_rmse = []\n",
    "lst_mae = []\n",
    "lst_r2 = []\n",
    "for strategy in ['mean', 'median']:\n",
    "    my_rmse = get_dummy_error(strategy, X_train, X_test, y_train, y_test)\n",
    "    lst_rmse.append(my_rmse[0])\n",
    "    lst_mae.append(my_rmse[1])\n",
    "    lst_r2.append(my_rmse[2])\n",
    "    print(\"strategy: %s  \\t\\t RMSE:  %f  \\t\\t MAE: %f  \\t\\t R2:  %f\" %(strategy, my_rmse[0], my_rmse[1], my_rmse[2]))"
   ]
  },
  {
   "cell_type": "code",
   "execution_count": 46,
   "metadata": {},
   "outputs": [
    {
     "name": "stdout",
     "output_type": "stream",
     "text": [
      "N_Estimator: 100  \t\t RMSE:  308.632924  \t\t MAE: 112.915717  \t\t R2:  0.463159\n",
      "N_Estimator: 200  \t\t RMSE:  310.665660  \t\t MAE: 111.945280  \t\t R2:  0.456064\n",
      "N_Estimator: 300  \t\t RMSE:  305.739131  \t\t MAE: 110.966469  \t\t R2:  0.473179\n",
      "N_Estimator: 400  \t\t RMSE:  300.791595  \t\t MAE: 109.885417  \t\t R2:  0.490091\n",
      "N_Estimator: 500  \t\t RMSE:  304.574616  \t\t MAE: 110.124041  \t\t R2:  0.477184\n"
     ]
    }
   ],
   "source": [
    "# comparer RMSE et r2 avec differents valeurs de n_estimator\n",
    "lst_rmse = []\n",
    "lst_mae = []\n",
    "lst_r2 = []\n",
    "for n_estimator in [100, 200, 300, 400, 500]:\n",
    "    my_rmse = get_error(n_estimator, X_train, X_test, y_train, y_test)\n",
    "    lst_rmse.append(my_rmse[0])\n",
    "    lst_mae.append(my_rmse[1])\n",
    "    lst_r2.append(my_rmse[2])\n",
    "    print(\"N_Estimator: %d  \\t\\t RMSE:  %f  \\t\\t MAE: %f  \\t\\t R2:  %f\" %(n_estimator, my_rmse[0], my_rmse[1], my_rmse[2]))"
   ]
  },
  {
   "cell_type": "code",
   "execution_count": 47,
   "metadata": {},
   "outputs": [
    {
     "data": {
      "image/png": "[encoded data removed]",
      "text/plain": [
       "<Figure size 432x288 with 2 Axes>"
      ]
     },
     "metadata": {
      "needs_background": "light"
     },
     "output_type": "display_data"
    }
   ],
   "source": [
    "fig,(ax1,ax2) = plt.subplots(2,1)\n",
    "fig.suptitle('Résultat de l\\'entrainement')\n",
    "\n",
    "ax1.plot(lst_rmse)\n",
    "ax1.set_ylabel('RMSE')\n",
    "ax1.set_xlabel('entrainement no')\n",
    "ax1.grid()\n",
    "\n",
    "ax2.plot(lst_r2)\n",
    "ax2.set_ylabel('R2')\n",
    "ax2.set_xlabel('entrainement no')\n",
    "ax2.grid()\n",
    "\n",
    "plt.show()"
   ]
  },
  {
   "cell_type": "code",
   "execution_count": 60,
   "metadata": {},
   "outputs": [],
   "source": [
    "dummy_param_grid = {'strategy' : ['mean','median']}"
   ]
  },
  {
   "cell_type": "code",
   "execution_count": 61,
   "metadata": {},
   "outputs": [
    {
     "data": {
      "text/plain": [
       "GridSearchCV(cv=6, estimator=DummyRegressor(),\n",
       "             param_grid={'strategy': ['mean', 'median']}, scoring='r2')"
      ]
     },
     "execution_count": 61,
     "metadata": {},
     "output_type": "execute_result"
    }
   ],
   "source": [
    "CV_dummy_mean = GridSearchCV(estimator=DummyRegressor(), param_grid=dummy_param_grid, cv= 6,scoring='r2')\n",
    "CV_dummy_mean.fit(X_train, y_train)"
   ]
  },
  {
   "cell_type": "code",
   "execution_count": 62,
   "metadata": {},
   "outputs": [
    {
     "data": {
      "text/plain": [
       "-0.011509436372381035"
      ]
     },
     "execution_count": 62,
     "metadata": {},
     "output_type": "execute_result"
    }
   ],
   "source": [
    "CV_dummy_mean.best_score_"
   ]
  },
  {
   "cell_type": "code",
   "execution_count": 63,
   "metadata": {},
   "outputs": [],
   "source": [
    "dummy_model = CV_dummy_mean.best_estimator_"
   ]
  },
  {
   "cell_type": "code",
   "execution_count": 64,
   "metadata": {},
   "outputs": [
    {
     "data": {
      "text/plain": [
       "-0.00011370903596374937"
      ]
     },
     "execution_count": 64,
     "metadata": {},
     "output_type": "execute_result"
    }
   ],
   "source": [
    "dummy_model.score(X_test,y_test)"
   ]
  },
  {
   "cell_type": "code",
   "execution_count": 72,
   "metadata": {},
   "outputs": [
    {
     "data": {
      "text/html": [
       "<div>\n",
       "<style scoped>\n",
       "    .dataframe tbody tr th:only-of-type {\n",
       "        vertical-align: middle;\n",
       "    }\n",
       "\n",
       "    .dataframe tbody tr th {\n",
       "        vertical-align: top;\n",
       "    }\n",
       "\n",
       "    .dataframe thead th {\n",
       "        text-align: right;\n",
       "    }\n",
       "</style>\n",
       "<table border=\"1\" class=\"dataframe\">\n",
       "  <thead>\n",
       "    <tr style=\"text-align: right;\">\n",
       "      <th></th>\n",
       "      <th>mean_fit_time</th>\n",
       "      <th>std_fit_time</th>\n",
       "      <th>mean_score_time</th>\n",
       "      <th>std_score_time</th>\n",
       "      <th>param_strategy</th>\n",
       "      <th>params</th>\n",
       "      <th>split0_test_score</th>\n",
       "      <th>split1_test_score</th>\n",
       "      <th>split2_test_score</th>\n",
       "      <th>split3_test_score</th>\n",
       "      <th>split4_test_score</th>\n",
       "      <th>split5_test_score</th>\n",
       "      <th>mean_test_score</th>\n",
       "      <th>std_test_score</th>\n",
       "      <th>rank_test_score</th>\n",
       "    </tr>\n",
       "  </thead>\n",
       "  <tbody>\n",
       "    <tr>\n",
       "      <th>0</th>\n",
       "      <td>0.001163</td>\n",
       "      <td>0.000372</td>\n",
       "      <td>0.000166</td>\n",
       "      <td>0.000372</td>\n",
       "      <td>mean</td>\n",
       "      <td>{'strategy': 'mean'}</td>\n",
       "      <td>-0.004951</td>\n",
       "      <td>-0.012480</td>\n",
       "      <td>-0.00396</td>\n",
       "      <td>-0.000823</td>\n",
       "      <td>-0.014230</td>\n",
       "      <td>-0.032613</td>\n",
       "      <td>-0.011509</td>\n",
       "      <td>0.010551</td>\n",
       "      <td>1</td>\n",
       "    </tr>\n",
       "    <tr>\n",
       "      <th>1</th>\n",
       "      <td>0.000825</td>\n",
       "      <td>0.000369</td>\n",
       "      <td>0.000332</td>\n",
       "      <td>0.000470</td>\n",
       "      <td>median</td>\n",
       "      <td>{'strategy': 'median'}</td>\n",
       "      <td>-0.033720</td>\n",
       "      <td>-0.125541</td>\n",
       "      <td>-0.03394</td>\n",
       "      <td>-0.045939</td>\n",
       "      <td>-0.081105</td>\n",
       "      <td>-0.116676</td>\n",
       "      <td>-0.072820</td>\n",
       "      <td>0.037715</td>\n",
       "      <td>2</td>\n",
       "    </tr>\n",
       "  </tbody>\n",
       "</table>\n",
       "</div>"
      ],
      "text/plain": [
       "   mean_fit_time  std_fit_time  mean_score_time  std_score_time  \\\n",
       "0       0.001163      0.000372         0.000166        0.000372   \n",
       "1       0.000825      0.000369         0.000332        0.000470   \n",
       "\n",
       "  param_strategy                  params  split0_test_score  \\\n",
       "0           mean    {'strategy': 'mean'}          -0.004951   \n",
       "1         median  {'strategy': 'median'}          -0.033720   \n",
       "\n",
       "   split1_test_score  split2_test_score  split3_test_score  split4_test_score  \\\n",
       "0          -0.012480           -0.00396          -0.000823          -0.014230   \n",
       "1          -0.125541           -0.03394          -0.045939          -0.081105   \n",
       "\n",
       "   split5_test_score  mean_test_score  std_test_score  rank_test_score  \n",
       "0          -0.032613        -0.011509        0.010551                1  \n",
       "1          -0.116676        -0.072820        0.037715                2  "
      ]
     },
     "execution_count": 72,
     "metadata": {},
     "output_type": "execute_result"
    }
   ],
   "source": [
    "pd.DataFrame(CV_dummy_mean.cv_results_)"
   ]
  },
  {
   "cell_type": "code",
   "execution_count": 70,
   "metadata": {},
   "outputs": [],
   "source": [
    "rfc_param_grid = {'n_estimators' : [100,200,300,400,500],\n",
    "              'max_features': ['auto', 'sqrt', 'log2'],\n",
    "              'max_depth' : [4,5,6,7,8],}"
   ]
  },
  {
   "cell_type": "code",
   "execution_count": 71,
   "metadata": {},
   "outputs": [
    {
     "data": {
      "text/plain": [
       "GridSearchCV(cv=6, estimator=RandomForestRegressor(),\n",
       "             param_grid={'max_depth': [4, 5, 6, 7, 8],\n",
       "                         'max_features': ['auto', 'sqrt', 'log2'],\n",
       "                         'n_estimators': [100, 200, 300, 400, 500]},\n",
       "             scoring='r2')"
      ]
     },
     "execution_count": 71,
     "metadata": {},
     "output_type": "execute_result"
    }
   ],
   "source": [
    "CV_rfc = GridSearchCV(estimator=RandomForestRegressor(), param_grid=rfc_param_grid, cv= 6,scoring='r2')\n",
    "CV_rfc.fit(X_train, y_train)"
   ]
  },
  {
   "cell_type": "code",
   "execution_count": 67,
   "metadata": {},
   "outputs": [
    {
     "data": {
      "text/plain": [
       "{'max_depth': 7, 'max_features': 'log2', 'n_estimators': 100}"
      ]
     },
     "execution_count": 67,
     "metadata": {},
     "output_type": "execute_result"
    }
   ],
   "source": [
    "CV_rfc.best_params_"
   ]
  },
  {
   "cell_type": "code",
   "execution_count": 68,
   "metadata": {},
   "outputs": [
    {
     "data": {
      "text/plain": [
       "0.5235600535396105"
      ]
     },
     "execution_count": 68,
     "metadata": {},
     "output_type": "execute_result"
    }
   ],
   "source": [
    "CV_rfc.best_score_"
   ]
  },
  {
   "cell_type": "code",
   "execution_count": 69,
   "metadata": {},
   "outputs": [],
   "source": [
    "model = CV_rfc.best_estimator_"
   ]
  },
  {
   "cell_type": "code",
   "execution_count": 58,
   "metadata": {},
   "outputs": [
    {
     "data": {
      "text/plain": [
       "0.6108079433845011"
      ]
     },
     "execution_count": 58,
     "metadata": {},
     "output_type": "execute_result"
    }
   ],
   "source": [
    "model.score(X_test,y_test)"
   ]
  },
  {
   "cell_type": "code",
   "execution_count": 59,
   "metadata": {},
   "outputs": [
    {
     "data": {
      "text/html": [
       "<div>\n",
       "<style scoped>\n",
       "    .dataframe tbody tr th:only-of-type {\n",
       "        vertical-align: middle;\n",
       "    }\n",
       "\n",
       "    .dataframe tbody tr th {\n",
       "        vertical-align: top;\n",
       "    }\n",
       "\n",
       "    .dataframe thead th {\n",
       "        text-align: right;\n",
       "    }\n",
       "</style>\n",
       "<table border=\"1\" class=\"dataframe\">\n",
       "  <thead>\n",
       "    <tr style=\"text-align: right;\">\n",
       "      <th></th>\n",
       "      <th>mean_fit_time</th>\n",
       "      <th>std_fit_time</th>\n",
       "      <th>mean_score_time</th>\n",
       "      <th>std_score_time</th>\n",
       "      <th>param_max_depth</th>\n",
       "      <th>param_max_features</th>\n",
       "      <th>param_n_estimators</th>\n",
       "      <th>params</th>\n",
       "      <th>split0_test_score</th>\n",
       "      <th>split1_test_score</th>\n",
       "      <th>split2_test_score</th>\n",
       "      <th>split3_test_score</th>\n",
       "      <th>split4_test_score</th>\n",
       "      <th>split5_test_score</th>\n",
       "      <th>mean_test_score</th>\n",
       "      <th>std_test_score</th>\n",
       "      <th>rank_test_score</th>\n",
       "    </tr>\n",
       "  </thead>\n",
       "  <tbody>\n",
       "    <tr>\n",
       "      <th>0</th>\n",
       "      <td>0.098489</td>\n",
       "      <td>0.002502</td>\n",
       "      <td>0.004736</td>\n",
       "      <td>0.000390</td>\n",
       "      <td>4</td>\n",
       "      <td>auto</td>\n",
       "      <td>50</td>\n",
       "      <td>{'max_depth': 4, 'max_features': 'auto', 'n_es...</td>\n",
       "      <td>0.620905</td>\n",
       "      <td>-2.095932</td>\n",
       "      <td>0.755559</td>\n",
       "      <td>0.712685</td>\n",
       "      <td>0.238730</td>\n",
       "      <td>0.355267</td>\n",
       "      <td>0.097869</td>\n",
       "      <td>0.998581</td>\n",
       "      <td>30</td>\n",
       "    </tr>\n",
       "    <tr>\n",
       "      <th>1</th>\n",
       "      <td>0.194446</td>\n",
       "      <td>0.002974</td>\n",
       "      <td>0.008257</td>\n",
       "      <td>0.000539</td>\n",
       "      <td>4</td>\n",
       "      <td>auto</td>\n",
       "      <td>100</td>\n",
       "      <td>{'max_depth': 4, 'max_features': 'auto', 'n_es...</td>\n",
       "      <td>0.634824</td>\n",
       "      <td>-1.683152</td>\n",
       "      <td>0.754090</td>\n",
       "      <td>0.714820</td>\n",
       "      <td>0.258245</td>\n",
       "      <td>0.298817</td>\n",
       "      <td>0.162941</td>\n",
       "      <td>0.847772</td>\n",
       "      <td>28</td>\n",
       "    </tr>\n",
       "    <tr>\n",
       "      <th>2</th>\n",
       "      <td>0.051002</td>\n",
       "      <td>0.001010</td>\n",
       "      <td>0.004902</td>\n",
       "      <td>0.000403</td>\n",
       "      <td>4</td>\n",
       "      <td>sqrt</td>\n",
       "      <td>50</td>\n",
       "      <td>{'max_depth': 4, 'max_features': 'sqrt', 'n_es...</td>\n",
       "      <td>0.441468</td>\n",
       "      <td>0.263950</td>\n",
       "      <td>0.625232</td>\n",
       "      <td>0.533539</td>\n",
       "      <td>0.203114</td>\n",
       "      <td>0.360158</td>\n",
       "      <td>0.404577</td>\n",
       "      <td>0.146638</td>\n",
       "      <td>20</td>\n",
       "    </tr>\n",
       "    <tr>\n",
       "      <th>3</th>\n",
       "      <td>0.098417</td>\n",
       "      <td>0.001042</td>\n",
       "      <td>0.008067</td>\n",
       "      <td>0.000063</td>\n",
       "      <td>4</td>\n",
       "      <td>sqrt</td>\n",
       "      <td>100</td>\n",
       "      <td>{'max_depth': 4, 'max_features': 'sqrt', 'n_es...</td>\n",
       "      <td>0.525761</td>\n",
       "      <td>0.436147</td>\n",
       "      <td>0.710504</td>\n",
       "      <td>0.606638</td>\n",
       "      <td>0.200209</td>\n",
       "      <td>0.351474</td>\n",
       "      <td>0.471789</td>\n",
       "      <td>0.167125</td>\n",
       "      <td>11</td>\n",
       "    </tr>\n",
       "    <tr>\n",
       "      <th>4</th>\n",
       "      <td>0.050136</td>\n",
       "      <td>0.000870</td>\n",
       "      <td>0.004728</td>\n",
       "      <td>0.000514</td>\n",
       "      <td>4</td>\n",
       "      <td>log2</td>\n",
       "      <td>50</td>\n",
       "      <td>{'max_depth': 4, 'max_features': 'log2', 'n_es...</td>\n",
       "      <td>0.369406</td>\n",
       "      <td>0.305371</td>\n",
       "      <td>0.769097</td>\n",
       "      <td>0.534545</td>\n",
       "      <td>0.192625</td>\n",
       "      <td>0.364643</td>\n",
       "      <td>0.422614</td>\n",
       "      <td>0.185028</td>\n",
       "      <td>19</td>\n",
       "    </tr>\n",
       "    <tr>\n",
       "      <th>5</th>\n",
       "      <td>0.098974</td>\n",
       "      <td>0.001584</td>\n",
       "      <td>0.007898</td>\n",
       "      <td>0.000290</td>\n",
       "      <td>4</td>\n",
       "      <td>log2</td>\n",
       "      <td>100</td>\n",
       "      <td>{'max_depth': 4, 'max_features': 'log2', 'n_es...</td>\n",
       "      <td>0.564017</td>\n",
       "      <td>0.326614</td>\n",
       "      <td>0.691946</td>\n",
       "      <td>0.647126</td>\n",
       "      <td>0.190384</td>\n",
       "      <td>0.397980</td>\n",
       "      <td>0.469678</td>\n",
       "      <td>0.179538</td>\n",
       "      <td>13</td>\n",
       "    </tr>\n",
       "    <tr>\n",
       "      <th>6</th>\n",
       "      <td>0.110737</td>\n",
       "      <td>0.001167</td>\n",
       "      <td>0.005120</td>\n",
       "      <td>0.000208</td>\n",
       "      <td>5</td>\n",
       "      <td>auto</td>\n",
       "      <td>50</td>\n",
       "      <td>{'max_depth': 5, 'max_features': 'auto', 'n_es...</td>\n",
       "      <td>0.637704</td>\n",
       "      <td>-1.891132</td>\n",
       "      <td>0.728762</td>\n",
       "      <td>0.754931</td>\n",
       "      <td>0.268167</td>\n",
       "      <td>0.308879</td>\n",
       "      <td>0.134552</td>\n",
       "      <td>0.925811</td>\n",
       "      <td>29</td>\n",
       "    </tr>\n",
       "    <tr>\n",
       "      <th>7</th>\n",
       "      <td>0.220860</td>\n",
       "      <td>0.002455</td>\n",
       "      <td>0.008743</td>\n",
       "      <td>0.000566</td>\n",
       "      <td>5</td>\n",
       "      <td>auto</td>\n",
       "      <td>100</td>\n",
       "      <td>{'max_depth': 5, 'max_features': 'auto', 'n_es...</td>\n",
       "      <td>0.649553</td>\n",
       "      <td>-1.697242</td>\n",
       "      <td>0.707298</td>\n",
       "      <td>0.701897</td>\n",
       "      <td>0.297181</td>\n",
       "      <td>0.469820</td>\n",
       "      <td>0.188084</td>\n",
       "      <td>0.855596</td>\n",
       "      <td>26</td>\n",
       "    </tr>\n",
       "    <tr>\n",
       "      <th>8</th>\n",
       "      <td>0.053522</td>\n",
       "      <td>0.000647</td>\n",
       "      <td>0.004839</td>\n",
       "      <td>0.000472</td>\n",
       "      <td>5</td>\n",
       "      <td>sqrt</td>\n",
       "      <td>50</td>\n",
       "      <td>{'max_depth': 5, 'max_features': 'sqrt', 'n_es...</td>\n",
       "      <td>0.564298</td>\n",
       "      <td>0.388545</td>\n",
       "      <td>0.739524</td>\n",
       "      <td>0.519416</td>\n",
       "      <td>0.241060</td>\n",
       "      <td>0.368738</td>\n",
       "      <td>0.470263</td>\n",
       "      <td>0.159833</td>\n",
       "      <td>12</td>\n",
       "    </tr>\n",
       "    <tr>\n",
       "      <th>9</th>\n",
       "      <td>0.105490</td>\n",
       "      <td>0.002306</td>\n",
       "      <td>0.008364</td>\n",
       "      <td>0.001475</td>\n",
       "      <td>5</td>\n",
       "      <td>sqrt</td>\n",
       "      <td>100</td>\n",
       "      <td>{'max_depth': 5, 'max_features': 'sqrt', 'n_es...</td>\n",
       "      <td>0.559084</td>\n",
       "      <td>0.293008</td>\n",
       "      <td>0.775311</td>\n",
       "      <td>0.577023</td>\n",
       "      <td>0.247629</td>\n",
       "      <td>0.419243</td>\n",
       "      <td>0.478550</td>\n",
       "      <td>0.180517</td>\n",
       "      <td>10</td>\n",
       "    </tr>\n",
       "    <tr>\n",
       "      <th>10</th>\n",
       "      <td>0.053417</td>\n",
       "      <td>0.001278</td>\n",
       "      <td>0.004903</td>\n",
       "      <td>0.000212</td>\n",
       "      <td>5</td>\n",
       "      <td>log2</td>\n",
       "      <td>50</td>\n",
       "      <td>{'max_depth': 5, 'max_features': 'log2', 'n_es...</td>\n",
       "      <td>0.485992</td>\n",
       "      <td>0.260619</td>\n",
       "      <td>0.727340</td>\n",
       "      <td>0.632963</td>\n",
       "      <td>0.218453</td>\n",
       "      <td>0.446850</td>\n",
       "      <td>0.462036</td>\n",
       "      <td>0.182715</td>\n",
       "      <td>14</td>\n",
       "    </tr>\n",
       "    <tr>\n",
       "      <th>11</th>\n",
       "      <td>0.106945</td>\n",
       "      <td>0.002232</td>\n",
       "      <td>0.008755</td>\n",
       "      <td>0.001251</td>\n",
       "      <td>5</td>\n",
       "      <td>log2</td>\n",
       "      <td>100</td>\n",
       "      <td>{'max_depth': 5, 'max_features': 'log2', 'n_es...</td>\n",
       "      <td>0.594405</td>\n",
       "      <td>0.310228</td>\n",
       "      <td>0.798640</td>\n",
       "      <td>0.644616</td>\n",
       "      <td>0.225293</td>\n",
       "      <td>0.362692</td>\n",
       "      <td>0.489312</td>\n",
       "      <td>0.203575</td>\n",
       "      <td>6</td>\n",
       "    </tr>\n",
       "    <tr>\n",
       "      <th>12</th>\n",
       "      <td>0.127484</td>\n",
       "      <td>0.006487</td>\n",
       "      <td>0.005319</td>\n",
       "      <td>0.000470</td>\n",
       "      <td>6</td>\n",
       "      <td>auto</td>\n",
       "      <td>50</td>\n",
       "      <td>{'max_depth': 6, 'max_features': 'auto', 'n_es...</td>\n",
       "      <td>0.660632</td>\n",
       "      <td>-1.542286</td>\n",
       "      <td>0.718999</td>\n",
       "      <td>0.749985</td>\n",
       "      <td>0.279162</td>\n",
       "      <td>0.390166</td>\n",
       "      <td>0.209443</td>\n",
       "      <td>0.802235</td>\n",
       "      <td>23</td>\n",
       "    </tr>\n",
       "    <tr>\n",
       "      <th>13</th>\n",
       "      <td>0.254238</td>\n",
       "      <td>0.008909</td>\n",
       "      <td>0.008498</td>\n",
       "      <td>0.000519</td>\n",
       "      <td>6</td>\n",
       "      <td>auto</td>\n",
       "      <td>100</td>\n",
       "      <td>{'max_depth': 6, 'max_features': 'auto', 'n_es...</td>\n",
       "      <td>0.641877</td>\n",
       "      <td>-1.471475</td>\n",
       "      <td>0.789689</td>\n",
       "      <td>0.781580</td>\n",
       "      <td>0.316614</td>\n",
       "      <td>0.402345</td>\n",
       "      <td>0.243438</td>\n",
       "      <td>0.787218</td>\n",
       "      <td>22</td>\n",
       "    </tr>\n",
       "    <tr>\n",
       "      <th>14</th>\n",
       "      <td>0.054910</td>\n",
       "      <td>0.000689</td>\n",
       "      <td>0.004937</td>\n",
       "      <td>0.000450</td>\n",
       "      <td>6</td>\n",
       "      <td>sqrt</td>\n",
       "      <td>50</td>\n",
       "      <td>{'max_depth': 6, 'max_features': 'sqrt', 'n_es...</td>\n",
       "      <td>0.684779</td>\n",
       "      <td>0.137921</td>\n",
       "      <td>0.790450</td>\n",
       "      <td>0.414172</td>\n",
       "      <td>0.265324</td>\n",
       "      <td>0.373795</td>\n",
       "      <td>0.444407</td>\n",
       "      <td>0.227093</td>\n",
       "      <td>17</td>\n",
       "    </tr>\n",
       "    <tr>\n",
       "      <th>15</th>\n",
       "      <td>0.106691</td>\n",
       "      <td>0.001346</td>\n",
       "      <td>0.008423</td>\n",
       "      <td>0.000714</td>\n",
       "      <td>6</td>\n",
       "      <td>sqrt</td>\n",
       "      <td>100</td>\n",
       "      <td>{'max_depth': 6, 'max_features': 'sqrt', 'n_es...</td>\n",
       "      <td>0.596659</td>\n",
       "      <td>0.304909</td>\n",
       "      <td>0.743571</td>\n",
       "      <td>0.581887</td>\n",
       "      <td>0.283495</td>\n",
       "      <td>0.384524</td>\n",
       "      <td>0.482507</td>\n",
       "      <td>0.169218</td>\n",
       "      <td>9</td>\n",
       "    </tr>\n",
       "    <tr>\n",
       "      <th>16</th>\n",
       "      <td>0.053099</td>\n",
       "      <td>0.001094</td>\n",
       "      <td>0.004992</td>\n",
       "      <td>0.000024</td>\n",
       "      <td>6</td>\n",
       "      <td>log2</td>\n",
       "      <td>50</td>\n",
       "      <td>{'max_depth': 6, 'max_features': 'log2', 'n_es...</td>\n",
       "      <td>0.528932</td>\n",
       "      <td>0.437612</td>\n",
       "      <td>0.747594</td>\n",
       "      <td>0.503510</td>\n",
       "      <td>0.281386</td>\n",
       "      <td>0.398395</td>\n",
       "      <td>0.482905</td>\n",
       "      <td>0.142833</td>\n",
       "      <td>8</td>\n",
       "    </tr>\n",
       "    <tr>\n",
       "      <th>17</th>\n",
       "      <td>0.107601</td>\n",
       "      <td>0.002852</td>\n",
       "      <td>0.007810</td>\n",
       "      <td>0.000470</td>\n",
       "      <td>6</td>\n",
       "      <td>log2</td>\n",
       "      <td>100</td>\n",
       "      <td>{'max_depth': 6, 'max_features': 'log2', 'n_es...</td>\n",
       "      <td>0.567671</td>\n",
       "      <td>0.026596</td>\n",
       "      <td>0.743791</td>\n",
       "      <td>0.713447</td>\n",
       "      <td>0.262631</td>\n",
       "      <td>0.421061</td>\n",
       "      <td>0.455866</td>\n",
       "      <td>0.253171</td>\n",
       "      <td>16</td>\n",
       "    </tr>\n",
       "    <tr>\n",
       "      <th>18</th>\n",
       "      <td>0.132440</td>\n",
       "      <td>0.001589</td>\n",
       "      <td>0.004919</td>\n",
       "      <td>0.000366</td>\n",
       "      <td>7</td>\n",
       "      <td>auto</td>\n",
       "      <td>50</td>\n",
       "      <td>{'max_depth': 7, 'max_features': 'auto', 'n_es...</td>\n",
       "      <td>0.719148</td>\n",
       "      <td>-1.804229</td>\n",
       "      <td>0.729937</td>\n",
       "      <td>0.705747</td>\n",
       "      <td>0.313289</td>\n",
       "      <td>0.320352</td>\n",
       "      <td>0.164041</td>\n",
       "      <td>0.898390</td>\n",
       "      <td>27</td>\n",
       "    </tr>\n",
       "    <tr>\n",
       "      <th>19</th>\n",
       "      <td>0.262042</td>\n",
       "      <td>0.002803</td>\n",
       "      <td>0.008367</td>\n",
       "      <td>0.000491</td>\n",
       "      <td>7</td>\n",
       "      <td>auto</td>\n",
       "      <td>100</td>\n",
       "      <td>{'max_depth': 7, 'max_features': 'auto', 'n_es...</td>\n",
       "      <td>0.621408</td>\n",
       "      <td>-1.681825</td>\n",
       "      <td>0.782071</td>\n",
       "      <td>0.763667</td>\n",
       "      <td>0.318406</td>\n",
       "      <td>0.418603</td>\n",
       "      <td>0.203721</td>\n",
       "      <td>0.859952</td>\n",
       "      <td>24</td>\n",
       "    </tr>\n",
       "    <tr>\n",
       "      <th>20</th>\n",
       "      <td>0.057514</td>\n",
       "      <td>0.001598</td>\n",
       "      <td>0.004954</td>\n",
       "      <td>0.000078</td>\n",
       "      <td>7</td>\n",
       "      <td>sqrt</td>\n",
       "      <td>50</td>\n",
       "      <td>{'max_depth': 7, 'max_features': 'sqrt', 'n_es...</td>\n",
       "      <td>0.688007</td>\n",
       "      <td>0.178321</td>\n",
       "      <td>0.779272</td>\n",
       "      <td>0.555485</td>\n",
       "      <td>0.316479</td>\n",
       "      <td>0.445237</td>\n",
       "      <td>0.493800</td>\n",
       "      <td>0.206698</td>\n",
       "      <td>4</td>\n",
       "    </tr>\n",
       "    <tr>\n",
       "      <th>21</th>\n",
       "      <td>0.110714</td>\n",
       "      <td>0.001799</td>\n",
       "      <td>0.008058</td>\n",
       "      <td>0.000147</td>\n",
       "      <td>7</td>\n",
       "      <td>sqrt</td>\n",
       "      <td>100</td>\n",
       "      <td>{'max_depth': 7, 'max_features': 'sqrt', 'n_es...</td>\n",
       "      <td>0.579864</td>\n",
       "      <td>0.386853</td>\n",
       "      <td>0.758786</td>\n",
       "      <td>0.553536</td>\n",
       "      <td>0.272767</td>\n",
       "      <td>0.458135</td>\n",
       "      <td>0.501657</td>\n",
       "      <td>0.154050</td>\n",
       "      <td>2</td>\n",
       "    </tr>\n",
       "    <tr>\n",
       "      <th>22</th>\n",
       "      <td>0.056368</td>\n",
       "      <td>0.000573</td>\n",
       "      <td>0.005084</td>\n",
       "      <td>0.000728</td>\n",
       "      <td>7</td>\n",
       "      <td>log2</td>\n",
       "      <td>50</td>\n",
       "      <td>{'max_depth': 7, 'max_features': 'log2', 'n_es...</td>\n",
       "      <td>0.566860</td>\n",
       "      <td>0.035481</td>\n",
       "      <td>0.738495</td>\n",
       "      <td>0.513777</td>\n",
       "      <td>0.304786</td>\n",
       "      <td>0.494741</td>\n",
       "      <td>0.442357</td>\n",
       "      <td>0.221930</td>\n",
       "      <td>18</td>\n",
       "    </tr>\n",
       "    <tr>\n",
       "      <th>23</th>\n",
       "      <td>0.112222</td>\n",
       "      <td>0.001915</td>\n",
       "      <td>0.008234</td>\n",
       "      <td>0.000357</td>\n",
       "      <td>7</td>\n",
       "      <td>log2</td>\n",
       "      <td>100</td>\n",
       "      <td>{'max_depth': 7, 'max_features': 'log2', 'n_es...</td>\n",
       "      <td>0.565556</td>\n",
       "      <td>0.422127</td>\n",
       "      <td>0.761402</td>\n",
       "      <td>0.566270</td>\n",
       "      <td>0.293590</td>\n",
       "      <td>0.493528</td>\n",
       "      <td>0.517079</td>\n",
       "      <td>0.143748</td>\n",
       "      <td>1</td>\n",
       "    </tr>\n",
       "    <tr>\n",
       "      <th>24</th>\n",
       "      <td>0.143558</td>\n",
       "      <td>0.001742</td>\n",
       "      <td>0.004992</td>\n",
       "      <td>0.000273</td>\n",
       "      <td>8</td>\n",
       "      <td>auto</td>\n",
       "      <td>50</td>\n",
       "      <td>{'max_depth': 8, 'max_features': 'auto', 'n_es...</td>\n",
       "      <td>0.701799</td>\n",
       "      <td>-1.133662</td>\n",
       "      <td>0.727454</td>\n",
       "      <td>0.809296</td>\n",
       "      <td>0.324022</td>\n",
       "      <td>0.249460</td>\n",
       "      <td>0.279728</td>\n",
       "      <td>0.665782</td>\n",
       "      <td>21</td>\n",
       "    </tr>\n",
       "    <tr>\n",
       "      <th>25</th>\n",
       "      <td>0.285572</td>\n",
       "      <td>0.001038</td>\n",
       "      <td>0.008353</td>\n",
       "      <td>0.000361</td>\n",
       "      <td>8</td>\n",
       "      <td>auto</td>\n",
       "      <td>100</td>\n",
       "      <td>{'max_depth': 8, 'max_features': 'auto', 'n_es...</td>\n",
       "      <td>0.691787</td>\n",
       "      <td>-1.745783</td>\n",
       "      <td>0.741111</td>\n",
       "      <td>0.757615</td>\n",
       "      <td>0.315870</td>\n",
       "      <td>0.454150</td>\n",
       "      <td>0.202459</td>\n",
       "      <td>0.885969</td>\n",
       "      <td>25</td>\n",
       "    </tr>\n",
       "    <tr>\n",
       "      <th>26</th>\n",
       "      <td>0.059717</td>\n",
       "      <td>0.000937</td>\n",
       "      <td>0.004982</td>\n",
       "      <td>0.000013</td>\n",
       "      <td>8</td>\n",
       "      <td>sqrt</td>\n",
       "      <td>50</td>\n",
       "      <td>{'max_depth': 8, 'max_features': 'sqrt', 'n_es...</td>\n",
       "      <td>0.586050</td>\n",
       "      <td>0.179134</td>\n",
       "      <td>0.743335</td>\n",
       "      <td>0.690169</td>\n",
       "      <td>0.311898</td>\n",
       "      <td>0.415875</td>\n",
       "      <td>0.487743</td>\n",
       "      <td>0.203016</td>\n",
       "      <td>7</td>\n",
       "    </tr>\n",
       "    <tr>\n",
       "      <th>27</th>\n",
       "      <td>0.119267</td>\n",
       "      <td>0.002561</td>\n",
       "      <td>0.008506</td>\n",
       "      <td>0.000431</td>\n",
       "      <td>8</td>\n",
       "      <td>sqrt</td>\n",
       "      <td>100</td>\n",
       "      <td>{'max_depth': 8, 'max_features': 'sqrt', 'n_es...</td>\n",
       "      <td>0.586583</td>\n",
       "      <td>0.204521</td>\n",
       "      <td>0.816374</td>\n",
       "      <td>0.564217</td>\n",
       "      <td>0.319808</td>\n",
       "      <td>0.451584</td>\n",
       "      <td>0.490514</td>\n",
       "      <td>0.197186</td>\n",
       "      <td>5</td>\n",
       "    </tr>\n",
       "    <tr>\n",
       "      <th>28</th>\n",
       "      <td>0.058863</td>\n",
       "      <td>0.001181</td>\n",
       "      <td>0.004969</td>\n",
       "      <td>0.000170</td>\n",
       "      <td>8</td>\n",
       "      <td>log2</td>\n",
       "      <td>50</td>\n",
       "      <td>{'max_depth': 8, 'max_features': 'log2', 'n_es...</td>\n",
       "      <td>0.572920</td>\n",
       "      <td>0.172551</td>\n",
       "      <td>0.738819</td>\n",
       "      <td>0.466705</td>\n",
       "      <td>0.295650</td>\n",
       "      <td>0.524875</td>\n",
       "      <td>0.461920</td>\n",
       "      <td>0.184554</td>\n",
       "      <td>15</td>\n",
       "    </tr>\n",
       "    <tr>\n",
       "      <th>29</th>\n",
       "      <td>0.118373</td>\n",
       "      <td>0.004085</td>\n",
       "      <td>0.008352</td>\n",
       "      <td>0.000438</td>\n",
       "      <td>8</td>\n",
       "      <td>log2</td>\n",
       "      <td>100</td>\n",
       "      <td>{'max_depth': 8, 'max_features': 'log2', 'n_es...</td>\n",
       "      <td>0.639808</td>\n",
       "      <td>0.189404</td>\n",
       "      <td>0.820913</td>\n",
       "      <td>0.608288</td>\n",
       "      <td>0.301024</td>\n",
       "      <td>0.428299</td>\n",
       "      <td>0.497956</td>\n",
       "      <td>0.214256</td>\n",
       "      <td>3</td>\n",
       "    </tr>\n",
       "  </tbody>\n",
       "</table>\n",
       "</div>"
      ],
      "text/plain": [
       "    mean_fit_time  std_fit_time  mean_score_time  std_score_time  \\\n",
       "0        0.098489      0.002502         0.004736        0.000390   \n",
       "1        0.194446      0.002974         0.008257        0.000539   \n",
       "2        0.051002      0.001010         0.004902        0.000403   \n",
       "3        0.098417      0.001042         0.008067        0.000063   \n",
       "4        0.050136      0.000870         0.004728        0.000514   \n",
       "5        0.098974      0.001584         0.007898        0.000290   \n",
       "6        0.110737      0.001167         0.005120        0.000208   \n",
       "7        0.220860      0.002455         0.008743        0.000566   \n",
       "8        0.053522      0.000647         0.004839        0.000472   \n",
       "9        0.105490      0.002306         0.008364        0.001475   \n",
       "10       0.053417      0.001278         0.004903        0.000212   \n",
       "11       0.106945      0.002232         0.008755        0.001251   \n",
       "12       0.127484      0.006487         0.005319        0.000470   \n",
       "13       0.254238      0.008909         0.008498        0.000519   \n",
       "14       0.054910      0.000689         0.004937        0.000450   \n",
       "15       0.106691      0.001346         0.008423        0.000714   \n",
       "16       0.053099      0.001094         0.004992        0.000024   \n",
       "17       0.107601      0.002852         0.007810        0.000470   \n",
       "18       0.132440      0.001589         0.004919        0.000366   \n",
       "19       0.262042      0.002803         0.008367        0.000491   \n",
       "20       0.057514      0.001598         0.004954        0.000078   \n",
       "21       0.110714      0.001799         0.008058        0.000147   \n",
       "22       0.056368      0.000573         0.005084        0.000728   \n",
       "23       0.112222      0.001915         0.008234        0.000357   \n",
       "24       0.143558      0.001742         0.004992        0.000273   \n",
       "25       0.285572      0.001038         0.008353        0.000361   \n",
       "26       0.059717      0.000937         0.004982        0.000013   \n",
       "27       0.119267      0.002561         0.008506        0.000431   \n",
       "28       0.058863      0.001181         0.004969        0.000170   \n",
       "29       0.118373      0.004085         0.008352        0.000438   \n",
       "\n",
       "   param_max_depth param_max_features param_n_estimators  \\\n",
       "0                4               auto                 50   \n",
       "1                4               auto                100   \n",
       "2                4               sqrt                 50   \n",
       "3                4               sqrt                100   \n",
       "4                4               log2                 50   \n",
       "5                4               log2                100   \n",
       "6                5               auto                 50   \n",
       "7                5               auto                100   \n",
       "8                5               sqrt                 50   \n",
       "9                5               sqrt                100   \n",
       "10               5               log2                 50   \n",
       "11               5               log2                100   \n",
       "12               6               auto                 50   \n",
       "13               6               auto                100   \n",
       "14               6               sqrt                 50   \n",
       "15               6               sqrt                100   \n",
       "16               6               log2                 50   \n",
       "17               6               log2                100   \n",
       "18               7               auto                 50   \n",
       "19               7               auto                100   \n",
       "20               7               sqrt                 50   \n",
       "21               7               sqrt                100   \n",
       "22               7               log2                 50   \n",
       "23               7               log2                100   \n",
       "24               8               auto                 50   \n",
       "25               8               auto                100   \n",
       "26               8               sqrt                 50   \n",
       "27               8               sqrt                100   \n",
       "28               8               log2                 50   \n",
       "29               8               log2                100   \n",
       "\n",
       "                                               params  split0_test_score  \\\n",
       "0   {'max_depth': 4, 'max_features': 'auto', 'n_es...           0.620905   \n",
       "1   {'max_depth': 4, 'max_features': 'auto', 'n_es...           0.634824   \n",
       "2   {'max_depth': 4, 'max_features': 'sqrt', 'n_es...           0.441468   \n",
       "3   {'max_depth': 4, 'max_features': 'sqrt', 'n_es...           0.525761   \n",
       "4   {'max_depth': 4, 'max_features': 'log2', 'n_es...           0.369406   \n",
       "5   {'max_depth': 4, 'max_features': 'log2', 'n_es...           0.564017   \n",
       "6   {'max_depth': 5, 'max_features': 'auto', 'n_es...           0.637704   \n",
       "7   {'max_depth': 5, 'max_features': 'auto', 'n_es...           0.649553   \n",
       "8   {'max_depth': 5, 'max_features': 'sqrt', 'n_es...           0.564298   \n",
       "9   {'max_depth': 5, 'max_features': 'sqrt', 'n_es...           0.559084   \n",
       "10  {'max_depth': 5, 'max_features': 'log2', 'n_es...           0.485992   \n",
       "11  {'max_depth': 5, 'max_features': 'log2', 'n_es...           0.594405   \n",
       "12  {'max_depth': 6, 'max_features': 'auto', 'n_es...           0.660632   \n",
       "13  {'max_depth': 6, 'max_features': 'auto', 'n_es...           0.641877   \n",
       "14  {'max_depth': 6, 'max_features': 'sqrt', 'n_es...           0.684779   \n",
       "15  {'max_depth': 6, 'max_features': 'sqrt', 'n_es...           0.596659   \n",
       "16  {'max_depth': 6, 'max_features': 'log2', 'n_es...           0.528932   \n",
       "17  {'max_depth': 6, 'max_features': 'log2', 'n_es...           0.567671   \n",
       "18  {'max_depth': 7, 'max_features': 'auto', 'n_es...           0.719148   \n",
       "19  {'max_depth': 7, 'max_features': 'auto', 'n_es...           0.621408   \n",
       "20  {'max_depth': 7, 'max_features': 'sqrt', 'n_es...           0.688007   \n",
       "21  {'max_depth': 7, 'max_features': 'sqrt', 'n_es...           0.579864   \n",
       "22  {'max_depth': 7, 'max_features': 'log2', 'n_es...           0.566860   \n",
       "23  {'max_depth': 7, 'max_features': 'log2', 'n_es...           0.565556   \n",
       "24  {'max_depth': 8, 'max_features': 'auto', 'n_es...           0.701799   \n",
       "25  {'max_depth': 8, 'max_features': 'auto', 'n_es...           0.691787   \n",
       "26  {'max_depth': 8, 'max_features': 'sqrt', 'n_es...           0.586050   \n",
       "27  {'max_depth': 8, 'max_features': 'sqrt', 'n_es...           0.586583   \n",
       "28  {'max_depth': 8, 'max_features': 'log2', 'n_es...           0.572920   \n",
       "29  {'max_depth': 8, 'max_features': 'log2', 'n_es...           0.639808   \n",
       "\n",
       "    split1_test_score  split2_test_score  split3_test_score  \\\n",
       "0           -2.095932           0.755559           0.712685   \n",
       "1           -1.683152           0.754090           0.714820   \n",
       "2            0.263950           0.625232           0.533539   \n",
       "3            0.436147           0.710504           0.606638   \n",
       "4            0.305371           0.769097           0.534545   \n",
       "5            0.326614           0.691946           0.647126   \n",
       "6           -1.891132           0.728762           0.754931   \n",
       "7           -1.697242           0.707298           0.701897   \n",
       "8            0.388545           0.739524           0.519416   \n",
       "9            0.293008           0.775311           0.577023   \n",
       "10           0.260619           0.727340           0.632963   \n",
       "11           0.310228           0.798640           0.644616   \n",
       "12          -1.542286           0.718999           0.749985   \n",
       "13          -1.471475           0.789689           0.781580   \n",
       "14           0.137921           0.790450           0.414172   \n",
       "15           0.304909           0.743571           0.581887   \n",
       "16           0.437612           0.747594           0.503510   \n",
       "17           0.026596           0.743791           0.713447   \n",
       "18          -1.804229           0.729937           0.705747   \n",
       "19          -1.681825           0.782071           0.763667   \n",
       "20           0.178321           0.779272           0.555485   \n",
       "21           0.386853           0.758786           0.553536   \n",
       "22           0.035481           0.738495           0.513777   \n",
       "23           0.422127           0.761402           0.566270   \n",
       "24          -1.133662           0.727454           0.809296   \n",
       "25          -1.745783           0.741111           0.757615   \n",
       "26           0.179134           0.743335           0.690169   \n",
       "27           0.204521           0.816374           0.564217   \n",
       "28           0.172551           0.738819           0.466705   \n",
       "29           0.189404           0.820913           0.608288   \n",
       "\n",
       "    split4_test_score  split5_test_score  mean_test_score  std_test_score  \\\n",
       "0            0.238730           0.355267         0.097869        0.998581   \n",
       "1            0.258245           0.298817         0.162941        0.847772   \n",
       "2            0.203114           0.360158         0.404577        0.146638   \n",
       "3            0.200209           0.351474         0.471789        0.167125   \n",
       "4            0.192625           0.364643         0.422614        0.185028   \n",
       "5            0.190384           0.397980         0.469678        0.179538   \n",
       "6            0.268167           0.308879         0.134552        0.925811   \n",
       "7            0.297181           0.469820         0.188084        0.855596   \n",
       "8            0.241060           0.368738         0.470263        0.159833   \n",
       "9            0.247629           0.419243         0.478550        0.180517   \n",
       "10           0.218453           0.446850         0.462036        0.182715   \n",
       "11           0.225293           0.362692         0.489312        0.203575   \n",
       "12           0.279162           0.390166         0.209443        0.802235   \n",
       "13           0.316614           0.402345         0.243438        0.787218   \n",
       "14           0.265324           0.373795         0.444407        0.227093   \n",
       "15           0.283495           0.384524         0.482507        0.169218   \n",
       "16           0.281386           0.398395         0.482905        0.142833   \n",
       "17           0.262631           0.421061         0.455866        0.253171   \n",
       "18           0.313289           0.320352         0.164041        0.898390   \n",
       "19           0.318406           0.418603         0.203721        0.859952   \n",
       "20           0.316479           0.445237         0.493800        0.206698   \n",
       "21           0.272767           0.458135         0.501657        0.154050   \n",
       "22           0.304786           0.494741         0.442357        0.221930   \n",
       "23           0.293590           0.493528         0.517079        0.143748   \n",
       "24           0.324022           0.249460         0.279728        0.665782   \n",
       "25           0.315870           0.454150         0.202459        0.885969   \n",
       "26           0.311898           0.415875         0.487743        0.203016   \n",
       "27           0.319808           0.451584         0.490514        0.197186   \n",
       "28           0.295650           0.524875         0.461920        0.184554   \n",
       "29           0.301024           0.428299         0.497956        0.214256   \n",
       "\n",
       "    rank_test_score  \n",
       "0                30  \n",
       "1                28  \n",
       "2                20  \n",
       "3                11  \n",
       "4                19  \n",
       "5                13  \n",
       "6                29  \n",
       "7                26  \n",
       "8                12  \n",
       "9                10  \n",
       "10               14  \n",
       "11                6  \n",
       "12               23  \n",
       "13               22  \n",
       "14               17  \n",
       "15                9  \n",
       "16                8  \n",
       "17               16  \n",
       "18               27  \n",
       "19               24  \n",
       "20                4  \n",
       "21                2  \n",
       "22               18  \n",
       "23                1  \n",
       "24               21  \n",
       "25               25  \n",
       "26                7  \n",
       "27                5  \n",
       "28               15  \n",
       "29                3  "
      ]
     },
     "execution_count": 59,
     "metadata": {},
     "output_type": "execute_result"
    }
   ],
   "source": [
    "pd.DataFrame(CV_rfc.cv_results_)"
   ]
  },
  {
   "cell_type": "markdown",
   "metadata": {},
   "source": [
    "- Ridge Regression"
   ]
  },
  {
   "cell_type": "code",
   "execution_count": 93,
   "metadata": {},
   "outputs": [],
   "source": [
    "ridge_param_grid = {'alpha' : [1e-3, 1e-2, 1e-1, 1, 2, 5, 10],\n",
    "              }"
   ]
  },
  {
   "cell_type": "code",
   "execution_count": 94,
   "metadata": {},
   "outputs": [
    {
     "data": {
      "text/plain": [
       "GridSearchCV(cv=6, estimator=Ridge(),\n",
       "             param_grid={'alpha': [0.001, 0.01, 0.1, 1, 2, 5, 10]},\n",
       "             scoring='r2')"
      ]
     },
     "execution_count": 94,
     "metadata": {},
     "output_type": "execute_result"
    }
   ],
   "source": [
    "CV_ridge = GridSearchCV(estimator=Ridge(), param_grid=ridge_param_grid, cv= 6,scoring='r2')\n",
    "CV_ridge.fit(X_train, y_train)"
   ]
  },
  {
   "cell_type": "code",
   "execution_count": 95,
   "metadata": {},
   "outputs": [
    {
     "data": {
      "text/plain": [
       "0.2667340884335481"
      ]
     },
     "execution_count": 95,
     "metadata": {},
     "output_type": "execute_result"
    }
   ],
   "source": [
    "CV_ridge.best_score_"
   ]
  },
  {
   "cell_type": "code",
   "execution_count": 96,
   "metadata": {},
   "outputs": [],
   "source": [
    "model_ridge = CV_ridge.best_estimator_"
   ]
  },
  {
   "cell_type": "code",
   "execution_count": 97,
   "metadata": {},
   "outputs": [
    {
     "data": {
      "text/plain": [
       "0.45936658436571587"
      ]
     },
     "execution_count": 97,
     "metadata": {},
     "output_type": "execute_result"
    }
   ],
   "source": [
    "model_ridge.score(X_test,y_test)"
   ]
  },
  {
   "cell_type": "code",
   "execution_count": 98,
   "metadata": {},
   "outputs": [
    {
     "data": {
      "text/html": [
       "<div>\n",
       "<style scoped>\n",
       "    .dataframe tbody tr th:only-of-type {\n",
       "        vertical-align: middle;\n",
       "    }\n",
       "\n",
       "    .dataframe tbody tr th {\n",
       "        vertical-align: top;\n",
       "    }\n",
       "\n",
       "    .dataframe thead th {\n",
       "        text-align: right;\n",
       "    }\n",
       "</style>\n",
       "<table border=\"1\" class=\"dataframe\">\n",
       "  <thead>\n",
       "    <tr style=\"text-align: right;\">\n",
       "      <th></th>\n",
       "      <th>mean_fit_time</th>\n",
       "      <th>std_fit_time</th>\n",
       "      <th>mean_score_time</th>\n",
       "      <th>std_score_time</th>\n",
       "      <th>param_alpha</th>\n",
       "      <th>params</th>\n",
       "      <th>split0_test_score</th>\n",
       "      <th>split1_test_score</th>\n",
       "      <th>split2_test_score</th>\n",
       "      <th>split3_test_score</th>\n",
       "      <th>split4_test_score</th>\n",
       "      <th>split5_test_score</th>\n",
       "      <th>mean_test_score</th>\n",
       "      <th>std_test_score</th>\n",
       "      <th>rank_test_score</th>\n",
       "    </tr>\n",
       "  </thead>\n",
       "  <tbody>\n",
       "    <tr>\n",
       "      <th>0</th>\n",
       "      <td>0.006657</td>\n",
       "      <td>0.005079</td>\n",
       "      <td>0.001995</td>\n",
       "      <td>0.000576</td>\n",
       "      <td>0.001</td>\n",
       "      <td>{'alpha': 0.001}</td>\n",
       "      <td>0.839682</td>\n",
       "      <td>-3.218021</td>\n",
       "      <td>0.784931</td>\n",
       "      <td>0.753071</td>\n",
       "      <td>0.379671</td>\n",
       "      <td>-0.051396</td>\n",
       "      <td>-0.085344</td>\n",
       "      <td>1.434518</td>\n",
       "      <td>7</td>\n",
       "    </tr>\n",
       "    <tr>\n",
       "      <th>1</th>\n",
       "      <td>0.002991</td>\n",
       "      <td>0.000575</td>\n",
       "      <td>0.001829</td>\n",
       "      <td>0.000686</td>\n",
       "      <td>0.01</td>\n",
       "      <td>{'alpha': 0.01}</td>\n",
       "      <td>0.839390</td>\n",
       "      <td>-3.183219</td>\n",
       "      <td>0.784830</td>\n",
       "      <td>0.752614</td>\n",
       "      <td>0.379720</td>\n",
       "      <td>-0.053659</td>\n",
       "      <td>-0.080054</td>\n",
       "      <td>1.421763</td>\n",
       "      <td>6</td>\n",
       "    </tr>\n",
       "    <tr>\n",
       "      <th>2</th>\n",
       "      <td>0.002577</td>\n",
       "      <td>0.000448</td>\n",
       "      <td>0.001330</td>\n",
       "      <td>0.000470</td>\n",
       "      <td>0.1</td>\n",
       "      <td>{'alpha': 0.1}</td>\n",
       "      <td>0.836526</td>\n",
       "      <td>-2.861081</td>\n",
       "      <td>0.783812</td>\n",
       "      <td>0.747966</td>\n",
       "      <td>0.379984</td>\n",
       "      <td>-0.076233</td>\n",
       "      <td>-0.031504</td>\n",
       "      <td>1.304072</td>\n",
       "      <td>5</td>\n",
       "    </tr>\n",
       "    <tr>\n",
       "      <th>3</th>\n",
       "      <td>0.002264</td>\n",
       "      <td>0.000397</td>\n",
       "      <td>0.001649</td>\n",
       "      <td>0.000439</td>\n",
       "      <td>1</td>\n",
       "      <td>{'alpha': 1}</td>\n",
       "      <td>0.812500</td>\n",
       "      <td>-1.147831</td>\n",
       "      <td>0.773576</td>\n",
       "      <td>0.700307</td>\n",
       "      <td>0.374966</td>\n",
       "      <td>-0.283346</td>\n",
       "      <td>0.205029</td>\n",
       "      <td>0.711242</td>\n",
       "      <td>3</td>\n",
       "    </tr>\n",
       "    <tr>\n",
       "      <th>4</th>\n",
       "      <td>0.002725</td>\n",
       "      <td>0.000370</td>\n",
       "      <td>0.001351</td>\n",
       "      <td>0.000458</td>\n",
       "      <td>2</td>\n",
       "      <td>{'alpha': 2}</td>\n",
       "      <td>0.793165</td>\n",
       "      <td>-0.512518</td>\n",
       "      <td>0.763495</td>\n",
       "      <td>0.654160</td>\n",
       "      <td>0.366359</td>\n",
       "      <td>-0.464256</td>\n",
       "      <td>0.266734</td>\n",
       "      <td>0.551589</td>\n",
       "      <td>1</td>\n",
       "    </tr>\n",
       "    <tr>\n",
       "      <th>5</th>\n",
       "      <td>0.002159</td>\n",
       "      <td>0.000358</td>\n",
       "      <td>0.001034</td>\n",
       "      <td>0.000030</td>\n",
       "      <td>5</td>\n",
       "      <td>{'alpha': 5}</td>\n",
       "      <td>0.758683</td>\n",
       "      <td>-0.103138</td>\n",
       "      <td>0.742583</td>\n",
       "      <td>0.563381</td>\n",
       "      <td>0.345427</td>\n",
       "      <td>-0.793287</td>\n",
       "      <td>0.252275</td>\n",
       "      <td>0.551034</td>\n",
       "      <td>2</td>\n",
       "    </tr>\n",
       "    <tr>\n",
       "      <th>6</th>\n",
       "      <td>0.002156</td>\n",
       "      <td>0.000341</td>\n",
       "      <td>0.001494</td>\n",
       "      <td>0.000485</td>\n",
       "      <td>10</td>\n",
       "      <td>{'alpha': 10}</td>\n",
       "      <td>0.731159</td>\n",
       "      <td>-0.080562</td>\n",
       "      <td>0.724019</td>\n",
       "      <td>0.490560</td>\n",
       "      <td>0.325625</td>\n",
       "      <td>-1.029747</td>\n",
       "      <td>0.193509</td>\n",
       "      <td>0.612055</td>\n",
       "      <td>4</td>\n",
       "    </tr>\n",
       "  </tbody>\n",
       "</table>\n",
       "</div>"
      ],
      "text/plain": [
       "   mean_fit_time  std_fit_time  mean_score_time  std_score_time param_alpha  \\\n",
       "0       0.006657      0.005079         0.001995        0.000576       0.001   \n",
       "1       0.002991      0.000575         0.001829        0.000686        0.01   \n",
       "2       0.002577      0.000448         0.001330        0.000470         0.1   \n",
       "3       0.002264      0.000397         0.001649        0.000439           1   \n",
       "4       0.002725      0.000370         0.001351        0.000458           2   \n",
       "5       0.002159      0.000358         0.001034        0.000030           5   \n",
       "6       0.002156      0.000341         0.001494        0.000485          10   \n",
       "\n",
       "             params  split0_test_score  split1_test_score  split2_test_score  \\\n",
       "0  {'alpha': 0.001}           0.839682          -3.218021           0.784931   \n",
       "1   {'alpha': 0.01}           0.839390          -3.183219           0.784830   \n",
       "2    {'alpha': 0.1}           0.836526          -2.861081           0.783812   \n",
       "3      {'alpha': 1}           0.812500          -1.147831           0.773576   \n",
       "4      {'alpha': 2}           0.793165          -0.512518           0.763495   \n",
       "5      {'alpha': 5}           0.758683          -0.103138           0.742583   \n",
       "6     {'alpha': 10}           0.731159          -0.080562           0.724019   \n",
       "\n",
       "   split3_test_score  split4_test_score  split5_test_score  mean_test_score  \\\n",
       "0           0.753071           0.379671          -0.051396        -0.085344   \n",
       "1           0.752614           0.379720          -0.053659        -0.080054   \n",
       "2           0.747966           0.379984          -0.076233        -0.031504   \n",
       "3           0.700307           0.374966          -0.283346         0.205029   \n",
       "4           0.654160           0.366359          -0.464256         0.266734   \n",
       "5           0.563381           0.345427          -0.793287         0.252275   \n",
       "6           0.490560           0.325625          -1.029747         0.193509   \n",
       "\n",
       "   std_test_score  rank_test_score  \n",
       "0        1.434518                7  \n",
       "1        1.421763                6  \n",
       "2        1.304072                5  \n",
       "3        0.711242                3  \n",
       "4        0.551589                1  \n",
       "5        0.551034                2  \n",
       "6        0.612055                4  "
      ]
     },
     "execution_count": 98,
     "metadata": {},
     "output_type": "execute_result"
    }
   ],
   "source": [
    "pd.DataFrame(CV_ridge.cv_results_)"
   ]
  }
 ],
 "metadata": {
  "kernelspec": {
   "display_name": "Python 3.9.12 ('base')",
   "language": "python",
   "name": "python3"
  },
  "language_info": {
   "codemirror_mode": {
    "name": "ipython",
    "version": 3
   },
   "file_extension": ".py",
   "mimetype": "text/x-python",
   "name": "python",
   "nbconvert_exporter": "python",
   "pygments_lexer": "ipython3",
   "version": "3.9.12"
  },
  "orig_nbformat": 4,
  "vscode": {
   "interpreter": {
    "hash": "bd081ec4775106110a6ec263dfd69dc0c4175c1ef4a4b7bd7cc17da957142225"
   }
  }
 },
 "nbformat": 4,
 "nbformat_minor": 2
}
