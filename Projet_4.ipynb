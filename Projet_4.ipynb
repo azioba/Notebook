{
 "cells": [
  {
   "cell_type": "code",
   "execution_count": 124,
   "metadata": {},
   "outputs": [],
   "source": [
    "%matplotlib inline\n",
    "import pandas as pd\n",
    "import numpy as np\n",
    "import matplotlib.pyplot as plt\n",
    "import seaborn as sns\n",
    "import shap\n",
    "import lime\n",
    "\n",
    "from sklearn.preprocessing import StandardScaler, OneHotEncoder, LabelBinarizer\n",
    "from sklearn.model_selection import train_test_split, GridSearchCV\n",
    "from sklearn.ensemble import RandomForestRegressor\n",
    "from sklearn.linear_model import Ridge\n",
    "from sklearn.neighbors import KNeighborsRegressor\n",
    "from sklearn.tree import DecisionTreeRegressor\n",
    "from sklearn.metrics import mean_absolute_error as m_a_e, mean_squared_error as m_s_e, r2_score as r2\n",
    "from sklearn.pipeline import Pipeline, make_pipeline\n",
    "from sklearn.metrics import confusion_matrix\n",
    "from sklearn.dummy import DummyRegressor\n",
    "from sklearn.ensemble import GradientBoostingRegressor\n",
    "from xgboost import XGBRegressor\n",
    "from lime import lime_tabular\n",
    "\n",
    "from scipy.stats.mstats import winsorize"
   ]
  },
  {
   "cell_type": "code",
   "execution_count": 2,
   "metadata": {},
   "outputs": [],
   "source": [
    "import warnings\n",
    "warnings.filterwarnings('ignore')"
   ]
  },
  {
   "cell_type": "code",
   "execution_count": 3,
   "metadata": {},
   "outputs": [],
   "source": [
    "dataset = \"E:/Formation Data Scientist/Projet_4/2016_Building_Energy_Benchmarking.csv\""
   ]
  },
  {
   "cell_type": "code",
   "execution_count": 4,
   "metadata": {},
   "outputs": [],
   "source": [
    "df = pd.read_csv(dataset)"
   ]
  },
  {
   "cell_type": "markdown",
   "metadata": {},
   "source": [
    "### <a name='C2'> EDA et Choix des features   </a>"
   ]
  },
  {
   "cell_type": "code",
   "execution_count": 5,
   "metadata": {},
   "outputs": [
    {
     "data": {
      "text/html": [
       "<div>\n",
       "<style scoped>\n",
       "    .dataframe tbody tr th:only-of-type {\n",
       "        vertical-align: middle;\n",
       "    }\n",
       "\n",
       "    .dataframe tbody tr th {\n",
       "        vertical-align: top;\n",
       "    }\n",
       "\n",
       "    .dataframe thead th {\n",
       "        text-align: right;\n",
       "    }\n",
       "</style>\n",
       "<table border=\"1\" class=\"dataframe\">\n",
       "  <thead>\n",
       "    <tr style=\"text-align: right;\">\n",
       "      <th></th>\n",
       "      <th>OSEBuildingID</th>\n",
       "      <th>DataYear</th>\n",
       "      <th>BuildingType</th>\n",
       "      <th>PrimaryPropertyType</th>\n",
       "      <th>PropertyName</th>\n",
       "      <th>Address</th>\n",
       "      <th>City</th>\n",
       "      <th>State</th>\n",
       "      <th>ZipCode</th>\n",
       "      <th>TaxParcelIdentificationNumber</th>\n",
       "      <th>...</th>\n",
       "      <th>Electricity(kWh)</th>\n",
       "      <th>Electricity(kBtu)</th>\n",
       "      <th>NaturalGas(therms)</th>\n",
       "      <th>NaturalGas(kBtu)</th>\n",
       "      <th>DefaultData</th>\n",
       "      <th>Comments</th>\n",
       "      <th>ComplianceStatus</th>\n",
       "      <th>Outlier</th>\n",
       "      <th>TotalGHGEmissions</th>\n",
       "      <th>GHGEmissionsIntensity</th>\n",
       "    </tr>\n",
       "  </thead>\n",
       "  <tbody>\n",
       "    <tr>\n",
       "      <th>0</th>\n",
       "      <td>1</td>\n",
       "      <td>2016</td>\n",
       "      <td>NonResidential</td>\n",
       "      <td>Hotel</td>\n",
       "      <td>Mayflower park hotel</td>\n",
       "      <td>405 Olive way</td>\n",
       "      <td>Seattle</td>\n",
       "      <td>WA</td>\n",
       "      <td>98101.0</td>\n",
       "      <td>0659000030</td>\n",
       "      <td>...</td>\n",
       "      <td>1.156514e+06</td>\n",
       "      <td>3946027.0</td>\n",
       "      <td>12764.52930</td>\n",
       "      <td>1276453.0</td>\n",
       "      <td>False</td>\n",
       "      <td>NaN</td>\n",
       "      <td>Compliant</td>\n",
       "      <td>NaN</td>\n",
       "      <td>249.98</td>\n",
       "      <td>2.83</td>\n",
       "    </tr>\n",
       "    <tr>\n",
       "      <th>1</th>\n",
       "      <td>2</td>\n",
       "      <td>2016</td>\n",
       "      <td>NonResidential</td>\n",
       "      <td>Hotel</td>\n",
       "      <td>Paramount Hotel</td>\n",
       "      <td>724 Pine street</td>\n",
       "      <td>Seattle</td>\n",
       "      <td>WA</td>\n",
       "      <td>98101.0</td>\n",
       "      <td>0659000220</td>\n",
       "      <td>...</td>\n",
       "      <td>9.504252e+05</td>\n",
       "      <td>3242851.0</td>\n",
       "      <td>51450.81641</td>\n",
       "      <td>5145082.0</td>\n",
       "      <td>False</td>\n",
       "      <td>NaN</td>\n",
       "      <td>Compliant</td>\n",
       "      <td>NaN</td>\n",
       "      <td>295.86</td>\n",
       "      <td>2.86</td>\n",
       "    </tr>\n",
       "    <tr>\n",
       "      <th>2</th>\n",
       "      <td>3</td>\n",
       "      <td>2016</td>\n",
       "      <td>NonResidential</td>\n",
       "      <td>Hotel</td>\n",
       "      <td>5673-The Westin Seattle</td>\n",
       "      <td>1900 5th Avenue</td>\n",
       "      <td>Seattle</td>\n",
       "      <td>WA</td>\n",
       "      <td>98101.0</td>\n",
       "      <td>0659000475</td>\n",
       "      <td>...</td>\n",
       "      <td>1.451544e+07</td>\n",
       "      <td>49526664.0</td>\n",
       "      <td>14938.00000</td>\n",
       "      <td>1493800.0</td>\n",
       "      <td>False</td>\n",
       "      <td>NaN</td>\n",
       "      <td>Compliant</td>\n",
       "      <td>NaN</td>\n",
       "      <td>2089.28</td>\n",
       "      <td>2.19</td>\n",
       "    </tr>\n",
       "  </tbody>\n",
       "</table>\n",
       "<p>3 rows × 46 columns</p>\n",
       "</div>"
      ],
      "text/plain": [
       "   OSEBuildingID  DataYear    BuildingType PrimaryPropertyType  \\\n",
       "0              1      2016  NonResidential               Hotel   \n",
       "1              2      2016  NonResidential               Hotel   \n",
       "2              3      2016  NonResidential               Hotel   \n",
       "\n",
       "              PropertyName          Address     City State  ZipCode  \\\n",
       "0     Mayflower park hotel    405 Olive way  Seattle    WA  98101.0   \n",
       "1          Paramount Hotel  724 Pine street  Seattle    WA  98101.0   \n",
       "2  5673-The Westin Seattle  1900 5th Avenue  Seattle    WA  98101.0   \n",
       "\n",
       "  TaxParcelIdentificationNumber  ...  Electricity(kWh) Electricity(kBtu)  \\\n",
       "0                    0659000030  ...      1.156514e+06         3946027.0   \n",
       "1                    0659000220  ...      9.504252e+05         3242851.0   \n",
       "2                    0659000475  ...      1.451544e+07        49526664.0   \n",
       "\n",
       "   NaturalGas(therms)  NaturalGas(kBtu)  DefaultData  Comments  \\\n",
       "0         12764.52930         1276453.0        False       NaN   \n",
       "1         51450.81641         5145082.0        False       NaN   \n",
       "2         14938.00000         1493800.0        False       NaN   \n",
       "\n",
       "   ComplianceStatus  Outlier  TotalGHGEmissions  GHGEmissionsIntensity  \n",
       "0         Compliant      NaN             249.98                   2.83  \n",
       "1         Compliant      NaN             295.86                   2.86  \n",
       "2         Compliant      NaN            2089.28                   2.19  \n",
       "\n",
       "[3 rows x 46 columns]"
      ]
     },
     "execution_count": 5,
     "metadata": {},
     "output_type": "execute_result"
    }
   ],
   "source": [
    "df.head(3)"
   ]
  },
  {
   "cell_type": "code",
   "execution_count": 6,
   "metadata": {},
   "outputs": [
    {
     "name": "stdout",
     "output_type": "stream",
     "text": [
      "<class 'pandas.core.frame.DataFrame'>\n",
      "RangeIndex: 3376 entries, 0 to 3375\n",
      "Data columns (total 46 columns):\n",
      " #   Column                           Non-Null Count  Dtype  \n",
      "---  ------                           --------------  -----  \n",
      " 0   OSEBuildingID                    3376 non-null   int64  \n",
      " 1   DataYear                         3376 non-null   int64  \n",
      " 2   BuildingType                     3376 non-null   object \n",
      " 3   PrimaryPropertyType              3376 non-null   object \n",
      " 4   PropertyName                     3376 non-null   object \n",
      " 5   Address                          3376 non-null   object \n",
      " 6   City                             3376 non-null   object \n",
      " 7   State                            3376 non-null   object \n",
      " 8   ZipCode                          3360 non-null   float64\n",
      " 9   TaxParcelIdentificationNumber    3376 non-null   object \n",
      " 10  CouncilDistrictCode              3376 non-null   int64  \n",
      " 11  Neighborhood                     3376 non-null   object \n",
      " 12  Latitude                         3376 non-null   float64\n",
      " 13  Longitude                        3376 non-null   float64\n",
      " 14  YearBuilt                        3376 non-null   int64  \n",
      " 15  NumberofBuildings                3368 non-null   float64\n",
      " 16  NumberofFloors                   3376 non-null   int64  \n",
      " 17  PropertyGFATotal                 3376 non-null   int64  \n",
      " 18  PropertyGFAParking               3376 non-null   int64  \n",
      " 19  PropertyGFABuilding(s)           3376 non-null   int64  \n",
      " 20  ListOfAllPropertyUseTypes        3367 non-null   object \n",
      " 21  LargestPropertyUseType           3356 non-null   object \n",
      " 22  LargestPropertyUseTypeGFA        3356 non-null   float64\n",
      " 23  SecondLargestPropertyUseType     1679 non-null   object \n",
      " 24  SecondLargestPropertyUseTypeGFA  1679 non-null   float64\n",
      " 25  ThirdLargestPropertyUseType      596 non-null    object \n",
      " 26  ThirdLargestPropertyUseTypeGFA   596 non-null    float64\n",
      " 27  YearsENERGYSTARCertified         119 non-null    object \n",
      " 28  ENERGYSTARScore                  2533 non-null   float64\n",
      " 29  SiteEUI(kBtu/sf)                 3369 non-null   float64\n",
      " 30  SiteEUIWN(kBtu/sf)               3370 non-null   float64\n",
      " 31  SourceEUI(kBtu/sf)               3367 non-null   float64\n",
      " 32  SourceEUIWN(kBtu/sf)             3367 non-null   float64\n",
      " 33  SiteEnergyUse(kBtu)              3371 non-null   float64\n",
      " 34  SiteEnergyUseWN(kBtu)            3370 non-null   float64\n",
      " 35  SteamUse(kBtu)                   3367 non-null   float64\n",
      " 36  Electricity(kWh)                 3367 non-null   float64\n",
      " 37  Electricity(kBtu)                3367 non-null   float64\n",
      " 38  NaturalGas(therms)               3367 non-null   float64\n",
      " 39  NaturalGas(kBtu)                 3367 non-null   float64\n",
      " 40  DefaultData                      3376 non-null   bool   \n",
      " 41  Comments                         0 non-null      float64\n",
      " 42  ComplianceStatus                 3376 non-null   object \n",
      " 43  Outlier                          32 non-null     object \n",
      " 44  TotalGHGEmissions                3367 non-null   float64\n",
      " 45  GHGEmissionsIntensity            3367 non-null   float64\n",
      "dtypes: bool(1), float64(22), int64(8), object(15)\n",
      "memory usage: 1.2+ MB\n"
     ]
    }
   ],
   "source": [
    "df.info()"
   ]
  },
  {
   "cell_type": "markdown",
   "metadata": {},
   "source": []
  },
  {
   "cell_type": "code",
   "execution_count": 7,
   "metadata": {},
   "outputs": [
    {
     "data": {
      "text/plain": [
       "(3376, 46)"
      ]
     },
     "execution_count": 7,
     "metadata": {},
     "output_type": "execute_result"
    }
   ],
   "source": [
    "df.shape"
   ]
  },
  {
   "cell_type": "markdown",
   "metadata": {},
   "source": []
  },
  {
   "cell_type": "markdown",
   "metadata": {},
   "source": [
    "- Exploration des valeurs nulles"
   ]
  },
  {
   "cell_type": "code",
   "execution_count": 8,
   "metadata": {},
   "outputs": [
    {
     "data": {
      "image/png": "[encoded data removed]",
      "text/plain": [
       "<Figure size 1152x864 with 1 Axes>"
      ]
     },
     "metadata": {
      "needs_background": "light"
     },
     "output_type": "display_data"
    }
   ],
   "source": [
    "plt.figure(figsize=(16,12))\n",
    "sns.heatmap(df.isna(),cbar=False)\n",
    "plt.show()"
   ]
  },
  {
   "cell_type": "markdown",
   "metadata": {},
   "source": []
  },
  {
   "cell_type": "markdown",
   "metadata": {},
   "source": [
    "- Typologie des variables"
   ]
  },
  {
   "cell_type": "code",
   "execution_count": 9,
   "metadata": {},
   "outputs": [
    {
     "data": {
      "text/plain": [
       "float64    22\n",
       "object     15\n",
       "int64       8\n",
       "bool        1\n",
       "dtype: int64"
      ]
     },
     "execution_count": 9,
     "metadata": {},
     "output_type": "execute_result"
    }
   ],
   "source": [
    "df.dtypes.value_counts()"
   ]
  },
  {
   "cell_type": "markdown",
   "metadata": {},
   "source": []
  },
  {
   "cell_type": "markdown",
   "metadata": {},
   "source": [
    "- Nombre de variables différentes par Feature"
   ]
  },
  {
   "cell_type": "code",
   "execution_count": 10,
   "metadata": {},
   "outputs": [
    {
     "data": {
      "text/plain": [
       "OSEBuildingID                      3376\n",
       "DataYear                              1\n",
       "BuildingType                          8\n",
       "PrimaryPropertyType                  24\n",
       "PropertyName                       3362\n",
       "Address                            3354\n",
       "City                                  1\n",
       "State                                 1\n",
       "ZipCode                              55\n",
       "TaxParcelIdentificationNumber      3268\n",
       "CouncilDistrictCode                   7\n",
       "Neighborhood                         19\n",
       "Latitude                           2876\n",
       "Longitude                          2656\n",
       "YearBuilt                           113\n",
       "NumberofBuildings                    17\n",
       "NumberofFloors                       50\n",
       "PropertyGFATotal                   3195\n",
       "PropertyGFAParking                  496\n",
       "PropertyGFABuilding(s)             3193\n",
       "ListOfAllPropertyUseTypes           466\n",
       "LargestPropertyUseType               56\n",
       "LargestPropertyUseTypeGFA          3122\n",
       "SecondLargestPropertyUseType         50\n",
       "SecondLargestPropertyUseTypeGFA    1352\n",
       "ThirdLargestPropertyUseType          44\n",
       "ThirdLargestPropertyUseTypeGFA      501\n",
       "YearsENERGYSTARCertified             65\n",
       "ENERGYSTARScore                     100\n",
       "SiteEUI(kBtu/sf)                   1085\n",
       "SiteEUIWN(kBtu/sf)                 1105\n",
       "SourceEUI(kBtu/sf)                 1648\n",
       "SourceEUIWN(kBtu/sf)               1694\n",
       "SiteEnergyUse(kBtu)                3354\n",
       "SiteEnergyUseWN(kBtu)              3341\n",
       "SteamUse(kBtu)                      131\n",
       "Electricity(kWh)                   3352\n",
       "Electricity(kBtu)                  3351\n",
       "NaturalGas(therms)                 2109\n",
       "NaturalGas(kBtu)                   2109\n",
       "DefaultData                           2\n",
       "Comments                              0\n",
       "ComplianceStatus                      4\n",
       "Outlier                               2\n",
       "TotalGHGEmissions                  2818\n",
       "GHGEmissionsIntensity               511\n",
       "dtype: int64"
      ]
     },
     "execution_count": 10,
     "metadata": {},
     "output_type": "execute_result"
    }
   ],
   "source": [
    "df.nunique()"
   ]
  },
  {
   "cell_type": "code",
   "execution_count": 11,
   "metadata": {},
   "outputs": [
    {
     "data": {
      "text/plain": [
       "Low outlier     23\n",
       "High outlier     9\n",
       "Name: Outlier, dtype: int64"
      ]
     },
     "execution_count": 11,
     "metadata": {},
     "output_type": "execute_result"
    }
   ],
   "source": [
    "df['Outlier'].value_counts()"
   ]
  },
  {
   "cell_type": "code",
   "execution_count": 12,
   "metadata": {},
   "outputs": [
    {
     "data": {
      "text/plain": [
       "Compliant                       3211\n",
       "Error - Correct Default Data     113\n",
       "Non-Compliant                     37\n",
       "Missing Data                      15\n",
       "Name: ComplianceStatus, dtype: int64"
      ]
     },
     "execution_count": 12,
     "metadata": {},
     "output_type": "execute_result"
    }
   ],
   "source": [
    "df['ComplianceStatus'].value_counts()"
   ]
  },
  {
   "cell_type": "markdown",
   "metadata": {},
   "source": [
    "On a 8 types de buiding, seuls les buildings résidentiels nous interressent dans le cadre de notre étude"
   ]
  },
  {
   "cell_type": "code",
   "execution_count": 13,
   "metadata": {},
   "outputs": [
    {
     "data": {
      "text/plain": [
       "NonResidential          1460\n",
       "Multifamily LR (1-4)    1018\n",
       "Multifamily MR (5-9)     580\n",
       "Multifamily HR (10+)     110\n",
       "SPS-District K-12         98\n",
       "Nonresidential COS        85\n",
       "Campus                    24\n",
       "Nonresidential WA          1\n",
       "Name: BuildingType, dtype: int64"
      ]
     },
     "execution_count": 13,
     "metadata": {},
     "output_type": "execute_result"
    }
   ],
   "source": [
    "df.iloc[:,2].value_counts()"
   ]
  },
  {
   "cell_type": "markdown",
   "metadata": {},
   "source": [
    "Ici ce sont les buildings de type Multifamily qui nous interressent (rajouter Campus??)"
   ]
  },
  {
   "cell_type": "code",
   "execution_count": 14,
   "metadata": {},
   "outputs": [
    {
     "data": {
      "text/plain": [
       "Low-Rise Multifamily           987\n",
       "Mid-Rise Multifamily           564\n",
       "Small- and Mid-Sized Office    293\n",
       "Other                          256\n",
       "Warehouse                      187\n",
       "Large Office                   173\n",
       "K-12 School                    139\n",
       "Mixed Use Property             133\n",
       "High-Rise Multifamily          105\n",
       "Retail Store                    91\n",
       "Hotel                           77\n",
       "Worship Facility                71\n",
       "Distribution Center             53\n",
       "Senior Care Community           45\n",
       "Supermarket / Grocery Store     40\n",
       "Medical Office                  39\n",
       "Self-Storage Facility           28\n",
       "University                      25\n",
       "Residence Hall                  23\n",
       "Refrigerated Warehouse          12\n",
       "Restaurant                      12\n",
       "Hospital                        10\n",
       "Laboratory                      10\n",
       "Office                           3\n",
       "Name: PrimaryPropertyType, dtype: int64"
      ]
     },
     "execution_count": 14,
     "metadata": {},
     "output_type": "execute_result"
    }
   ],
   "source": [
    "df.iloc[:,3].value_counts()"
   ]
  },
  {
   "cell_type": "code",
   "execution_count": null,
   "metadata": {},
   "outputs": [],
   "source": []
  },
  {
   "cell_type": "markdown",
   "metadata": {},
   "source": [
    "- Nombre de valeures nulles par feature"
   ]
  },
  {
   "cell_type": "code",
   "execution_count": 15,
   "metadata": {},
   "outputs": [
    {
     "data": {
      "text/plain": [
       "OSEBuildingID                         0\n",
       "DataYear                              0\n",
       "BuildingType                          0\n",
       "PrimaryPropertyType                   0\n",
       "PropertyName                          0\n",
       "Address                               0\n",
       "City                                  0\n",
       "State                                 0\n",
       "ZipCode                              16\n",
       "TaxParcelIdentificationNumber         0\n",
       "CouncilDistrictCode                   0\n",
       "Neighborhood                          0\n",
       "Latitude                              0\n",
       "Longitude                             0\n",
       "YearBuilt                             0\n",
       "NumberofBuildings                     8\n",
       "NumberofFloors                        0\n",
       "PropertyGFATotal                      0\n",
       "PropertyGFAParking                    0\n",
       "PropertyGFABuilding(s)                0\n",
       "ListOfAllPropertyUseTypes             9\n",
       "LargestPropertyUseType               20\n",
       "LargestPropertyUseTypeGFA            20\n",
       "SecondLargestPropertyUseType       1697\n",
       "SecondLargestPropertyUseTypeGFA    1697\n",
       "ThirdLargestPropertyUseType        2780\n",
       "ThirdLargestPropertyUseTypeGFA     2780\n",
       "YearsENERGYSTARCertified           3257\n",
       "ENERGYSTARScore                     843\n",
       "SiteEUI(kBtu/sf)                      7\n",
       "SiteEUIWN(kBtu/sf)                    6\n",
       "SourceEUI(kBtu/sf)                    9\n",
       "SourceEUIWN(kBtu/sf)                  9\n",
       "SiteEnergyUse(kBtu)                   5\n",
       "SiteEnergyUseWN(kBtu)                 6\n",
       "SteamUse(kBtu)                        9\n",
       "Electricity(kWh)                      9\n",
       "Electricity(kBtu)                     9\n",
       "NaturalGas(therms)                    9\n",
       "NaturalGas(kBtu)                      9\n",
       "DefaultData                           0\n",
       "Comments                           3376\n",
       "ComplianceStatus                      0\n",
       "Outlier                            3344\n",
       "TotalGHGEmissions                     9\n",
       "GHGEmissionsIntensity                 9\n",
       "dtype: int64"
      ]
     },
     "execution_count": 15,
     "metadata": {},
     "output_type": "execute_result"
    }
   ],
   "source": [
    "df.isna().sum()"
   ]
  },
  {
   "cell_type": "markdown",
   "metadata": {},
   "source": []
  },
  {
   "cell_type": "code",
   "execution_count": 16,
   "metadata": {},
   "outputs": [],
   "source": [
    "building_type = ['NonResidential','NonResidential COS','NonResidential WA'] # Réflechir sur rajouter ou non Campus comme building résidentiel,'Campus','SPS-District K-12',\n",
    "\n",
    "nonRes = df[df['BuildingType'].isin(building_type)].reset_index(drop=True)"
   ]
  },
  {
   "cell_type": "markdown",
   "metadata": {},
   "source": [
    "- Nos deux targets sont **TotalGHGEmissions** et **SiteEnergyUse(kBtu)**"
   ]
  },
  {
   "cell_type": "code",
   "execution_count": 17,
   "metadata": {},
   "outputs": [],
   "source": [
    "compliant = ['Compliant']\n",
    "\n",
    "nonRes = nonRes[nonRes['ComplianceStatus'].isin(compliant)].reset_index(drop=True)"
   ]
  },
  {
   "cell_type": "code",
   "execution_count": 18,
   "metadata": {},
   "outputs": [
    {
     "data": {
      "text/plain": [
       "(1432, 46)"
      ]
     },
     "execution_count": 18,
     "metadata": {},
     "output_type": "execute_result"
    }
   ],
   "source": [
    "nonRes.shape"
   ]
  },
  {
   "cell_type": "code",
   "execution_count": 19,
   "metadata": {},
   "outputs": [
    {
     "data": {
      "text/plain": [
       "Small- and Mid-Sized Office    282\n",
       "Other                          181\n",
       "Warehouse                      178\n",
       "Large Office                   164\n",
       "Mixed Use Property             101\n",
       "Retail Store                    85\n",
       "Hotel                           75\n",
       "Worship Facility                69\n",
       "Distribution Center             51\n",
       "Supermarket / Grocery Store     40\n",
       "Medical Office                  38\n",
       "K-12 School                     38\n",
       "Self-Storage Facility           28\n",
       "Residence Hall                  21\n",
       "Senior Care Community           20\n",
       "University                      17\n",
       "Refrigerated Warehouse          12\n",
       "Restaurant                      11\n",
       "Hospital                        10\n",
       "Laboratory                      10\n",
       "Low-Rise Multifamily             1\n",
       "Name: PrimaryPropertyType, dtype: int64"
      ]
     },
     "execution_count": 19,
     "metadata": {},
     "output_type": "execute_result"
    }
   ],
   "source": [
    "nonRes.iloc[:,3].value_counts()"
   ]
  },
  {
   "cell_type": "markdown",
   "metadata": {},
   "source": [
    "- Nettoyage et choix des features à utiliser"
   ]
  },
  {
   "cell_type": "code",
   "execution_count": 20,
   "metadata": {},
   "outputs": [],
   "source": [
    "nonRes = nonRes.drop(nonRes[nonRes['PrimaryPropertyType'] == 'Low-Rise Multifamily'].index)"
   ]
  },
  {
   "cell_type": "code",
   "execution_count": 21,
   "metadata": {},
   "outputs": [],
   "source": [
    "nonRes = nonRes.drop(nonRes[nonRes['PrimaryPropertyType'] == 'Residence Hall'].index)"
   ]
  },
  {
   "cell_type": "code",
   "execution_count": 22,
   "metadata": {},
   "outputs": [
    {
     "data": {
      "text/plain": [
       "Small- and Mid-Sized Office    282\n",
       "Other                          181\n",
       "Warehouse                      178\n",
       "Large Office                   164\n",
       "Mixed Use Property             101\n",
       "Retail Store                    85\n",
       "Hotel                           75\n",
       "Worship Facility                69\n",
       "Distribution Center             51\n",
       "Supermarket / Grocery Store     40\n",
       "K-12 School                     38\n",
       "Medical Office                  38\n",
       "Self-Storage Facility           28\n",
       "Senior Care Community           20\n",
       "University                      17\n",
       "Refrigerated Warehouse          12\n",
       "Restaurant                      11\n",
       "Hospital                        10\n",
       "Laboratory                      10\n",
       "Name: PrimaryPropertyType, dtype: int64"
      ]
     },
     "execution_count": 22,
     "metadata": {},
     "output_type": "execute_result"
    }
   ],
   "source": [
    "nonRes.iloc[:,3].value_counts()"
   ]
  },
  {
   "cell_type": "code",
   "execution_count": 23,
   "metadata": {},
   "outputs": [
    {
     "data": {
      "text/plain": [
       "OSEBuildingID                         0\n",
       "DataYear                              0\n",
       "BuildingType                          0\n",
       "PrimaryPropertyType                   0\n",
       "PropertyName                          0\n",
       "Address                               0\n",
       "City                                  0\n",
       "State                                 0\n",
       "ZipCode                               0\n",
       "TaxParcelIdentificationNumber         0\n",
       "CouncilDistrictCode                   0\n",
       "Neighborhood                          0\n",
       "Latitude                              0\n",
       "Longitude                             0\n",
       "YearBuilt                             0\n",
       "NumberofBuildings                     0\n",
       "NumberofFloors                        0\n",
       "PropertyGFATotal                      0\n",
       "PropertyGFAParking                    0\n",
       "PropertyGFABuilding(s)                0\n",
       "ListOfAllPropertyUseTypes             0\n",
       "LargestPropertyUseType                4\n",
       "LargestPropertyUseTypeGFA             4\n",
       "SecondLargestPropertyUseType        633\n",
       "SecondLargestPropertyUseTypeGFA     633\n",
       "ThirdLargestPropertyUseType        1102\n",
       "ThirdLargestPropertyUseTypeGFA     1102\n",
       "YearsENERGYSTARCertified           1320\n",
       "ENERGYSTARScore                     454\n",
       "SiteEUI(kBtu/sf)                      0\n",
       "SiteEUIWN(kBtu/sf)                    1\n",
       "SourceEUI(kBtu/sf)                    0\n",
       "SourceEUIWN(kBtu/sf)                  0\n",
       "SiteEnergyUse(kBtu)                   0\n",
       "SiteEnergyUseWN(kBtu)                 1\n",
       "SteamUse(kBtu)                        0\n",
       "Electricity(kWh)                      0\n",
       "Electricity(kBtu)                     0\n",
       "NaturalGas(therms)                    0\n",
       "NaturalGas(kBtu)                      0\n",
       "DefaultData                           0\n",
       "Comments                           1410\n",
       "ComplianceStatus                      0\n",
       "Outlier                            1410\n",
       "TotalGHGEmissions                     0\n",
       "GHGEmissionsIntensity                 0\n",
       "dtype: int64"
      ]
     },
     "execution_count": 23,
     "metadata": {},
     "output_type": "execute_result"
    }
   ],
   "source": [
    "nonRes.isna().sum()"
   ]
  },
  {
   "cell_type": "code",
   "execution_count": 24,
   "metadata": {},
   "outputs": [
    {
     "data": {
      "text/plain": [
       "Compliant    1410\n",
       "Name: ComplianceStatus, dtype: int64"
      ]
     },
     "execution_count": 24,
     "metadata": {},
     "output_type": "execute_result"
    }
   ],
   "source": [
    "nonRes['ComplianceStatus'].value_counts()"
   ]
  },
  {
   "cell_type": "code",
   "execution_count": 25,
   "metadata": {},
   "outputs": [
    {
     "data": {
      "text/plain": [
       "Series([], Name: Outlier, dtype: int64)"
      ]
     },
     "execution_count": 25,
     "metadata": {},
     "output_type": "execute_result"
    }
   ],
   "source": [
    "nonRes['Outlier'].value_counts()"
   ]
  },
  {
   "cell_type": "code",
   "execution_count": 26,
   "metadata": {},
   "outputs": [],
   "source": [
    "nonRes = nonRes[nonRes.Outlier.isnull()]"
   ]
  },
  {
   "cell_type": "code",
   "execution_count": 27,
   "metadata": {},
   "outputs": [],
   "source": [
    "nonResidential = nonRes[['PrimaryPropertyType','Latitude','Longitude','YearBuilt','NumberofBuildings','NumberofFloors'\\\n",
    "            ,'PropertyGFABuilding(s)','PropertyGFAParking','LargestPropertyUseTypeGFA','SteamUse(kBtu)','Electricity(kBtu)','NaturalGas(kBtu)','TotalGHGEmissions','SiteEnergyUse(kBtu)']]"
   ]
  },
  {
   "cell_type": "code",
   "execution_count": 28,
   "metadata": {},
   "outputs": [
    {
     "data": {
      "image/png": "[encoded data removed]",
      "text/plain": [
       "<Figure size 432x288 with 1 Axes>"
      ]
     },
     "metadata": {
      "needs_background": "light"
     },
     "output_type": "display_data"
    }
   ],
   "source": [
    "plt.scatter(nonResidential['Electricity(kBtu)'],nonResidential['NaturalGas(kBtu)'])\n",
    "plt.xlabel('Electricity')\n",
    "plt.ylabel('Natural Gas')\n",
    "plt.show()"
   ]
  },
  {
   "cell_type": "code",
   "execution_count": 29,
   "metadata": {},
   "outputs": [
    {
     "data": {
      "text/plain": [
       "PrimaryPropertyType          0\n",
       "Latitude                     0\n",
       "Longitude                    0\n",
       "YearBuilt                    0\n",
       "NumberofBuildings            0\n",
       "NumberofFloors               0\n",
       "PropertyGFABuilding(s)       0\n",
       "PropertyGFAParking           0\n",
       "LargestPropertyUseTypeGFA    4\n",
       "SteamUse(kBtu)               0\n",
       "Electricity(kBtu)            0\n",
       "NaturalGas(kBtu)             0\n",
       "TotalGHGEmissions            0\n",
       "SiteEnergyUse(kBtu)          0\n",
       "dtype: int64"
      ]
     },
     "execution_count": 29,
     "metadata": {},
     "output_type": "execute_result"
    }
   ],
   "source": [
    "nonResidential.isna().sum()"
   ]
  },
  {
   "cell_type": "code",
   "execution_count": 30,
   "metadata": {},
   "outputs": [],
   "source": [
    "nonResidential = nonResidential.dropna(axis=0) "
   ]
  },
  {
   "cell_type": "code",
   "execution_count": 31,
   "metadata": {},
   "outputs": [
    {
     "data": {
      "text/plain": [
       "1.0    1329\n",
       "0.0      44\n",
       "2.0      11\n",
       "3.0      10\n",
       "6.0       4\n",
       "5.0       3\n",
       "4.0       2\n",
       "9.0       1\n",
       "7.0       1\n",
       "8.0       1\n",
       "Name: NumberofBuildings, dtype: int64"
      ]
     },
     "execution_count": 31,
     "metadata": {},
     "output_type": "execute_result"
    }
   ],
   "source": [
    "nonResidential['NumberofBuildings'].value_counts()"
   ]
  },
  {
   "cell_type": "markdown",
   "metadata": {},
   "source": [
    "- Calcul de l'age des batiments"
   ]
  },
  {
   "cell_type": "code",
   "execution_count": 32,
   "metadata": {},
   "outputs": [],
   "source": [
    "df1 = nonResidential.copy()"
   ]
  },
  {
   "cell_type": "code",
   "execution_count": 33,
   "metadata": {},
   "outputs": [],
   "source": [
    "def fill_date(data):\n",
    "    if data<= 1920:\n",
    "        return \"_1920\"\n",
    "    elif 1920<data<=1940:\n",
    "        return \"1920_1940\"\n",
    "    elif 1940<data<=1960:\n",
    "        return \"1940_1960\"\n",
    "    elif 1960<data<=1980:\n",
    "        return \"1960_1980\"\n",
    "    elif 1980<data<=2000:\n",
    "        return \"1980_2000\"\n",
    "    elif data>2000:\n",
    "        return \"2000_\""
   ]
  },
  {
   "cell_type": "code",
   "execution_count": 34,
   "metadata": {},
   "outputs": [],
   "source": [
    "df1['YearBuilt'] = df1['YearBuilt'].apply(fill_date)"
   ]
  },
  {
   "cell_type": "code",
   "execution_count": 35,
   "metadata": {},
   "outputs": [],
   "source": [
    "df1['SteamUse(kBtu)'] = df1['SteamUse(kBtu)'].apply(lambda x : 1 if x > 0 else 0 )\n",
    "df1['Electricity(kBtu)'] = df1['Electricity(kBtu)'].apply(lambda x : 1 if x > 0 else 0 )\n",
    "df1['NaturalGas(kBtu)'] = df1['NaturalGas(kBtu)'].apply(lambda x : 1 if x > 0 else 0 )"
   ]
  },
  {
   "cell_type": "code",
   "execution_count": 36,
   "metadata": {},
   "outputs": [],
   "source": [
    "df2_code = pd.get_dummies(df1 ,columns=['PrimaryPropertyType','YearBuilt'])"
   ]
  },
  {
   "cell_type": "code",
   "execution_count": 37,
   "metadata": {},
   "outputs": [],
   "source": [
    "train, test = train_test_split(df2_code, test_size=0.3, random_state=0) "
   ]
  },
  {
   "cell_type": "code",
   "execution_count": 38,
   "metadata": {},
   "outputs": [],
   "source": [
    "X_train, y1_train, X_test, y1_test = train.drop(columns = [\"TotalGHGEmissions\",\"SiteEnergyUse(kBtu)\"]), train[\"TotalGHGEmissions\"],test.drop(columns = [\"TotalGHGEmissions\",'SiteEnergyUse(kBtu)']) ,test[\"TotalGHGEmissions\"]\n",
    "X_train, y2_train, X_test, y2_test = train.drop(columns = [\"TotalGHGEmissions\",\"SiteEnergyUse(kBtu)\"]), train[\"SiteEnergyUse(kBtu)\"],test.drop(columns = [\"TotalGHGEmissions\",'SiteEnergyUse(kBtu)']) ,test[\"SiteEnergyUse(kBtu)\"]"
   ]
  },
  {
   "cell_type": "markdown",
   "metadata": {},
   "source": [
    "### <a name='C2'> Prédictions de TotalGHGEmissions   </a>"
   ]
  },
  {
   "cell_type": "code",
   "execution_count": 39,
   "metadata": {},
   "outputs": [],
   "source": [
    "r_forest = RandomForestRegressor(random_state=0)"
   ]
  },
  {
   "cell_type": "code",
   "execution_count": 40,
   "metadata": {},
   "outputs": [
    {
     "data": {
      "text/plain": [
       "RandomForestRegressor(random_state=0)"
      ]
     },
     "execution_count": 40,
     "metadata": {},
     "output_type": "execute_result"
    }
   ],
   "source": [
    "# entrainement du modèle\n",
    "r_forest.fit(X_train, y1_train)"
   ]
  },
  {
   "cell_type": "code",
   "execution_count": 41,
   "metadata": {},
   "outputs": [
    {
     "name": "stdout",
     "output_type": "stream",
     "text": [
      "225.28196282908175\n"
     ]
    }
   ],
   "source": [
    "# prédiction\n",
    "preds = r_forest.predict(X_test)\n",
    "\n",
    "# calcul du RMSE\n",
    "print(m_s_e(y1_test,preds, squared=False))"
   ]
  },
  {
   "cell_type": "code",
   "execution_count": 42,
   "metadata": {},
   "outputs": [
    {
     "data": {
      "text/plain": [
       "<matplotlib.collections.PathCollection at 0x221beb8bf40>"
      ]
     },
     "execution_count": 42,
     "metadata": {},
     "output_type": "execute_result"
    },
    {
     "data": {
      "image/png": "[encoded data removed]",
      "text/plain": [
       "<Figure size 432x288 with 1 Axes>"
      ]
     },
     "metadata": {
      "needs_background": "light"
     },
     "output_type": "display_data"
    }
   ],
   "source": [
    "plt.scatter(preds,y1_test)"
   ]
  },
  {
   "cell_type": "code",
   "execution_count": 43,
   "metadata": {},
   "outputs": [],
   "source": [
    "def get_error(n_estimator, X_train, X_test, y_train, y_test):\n",
    "    model = RandomForestRegressor(n_estimators=n_estimator, random_state=0)\n",
    "    model.fit(X_train, y_train)\n",
    "    preds_val = model.predict(X_test)\n",
    "    rmse = m_s_e(y_test, preds_val,squared=False)\n",
    "    mae = m_a_e(y_test, preds_val)\n",
    "    r_2 = r2(y_test,preds_val)\n",
    "    return(rmse, mae, r_2)"
   ]
  },
  {
   "cell_type": "markdown",
   "metadata": {},
   "source": []
  },
  {
   "cell_type": "code",
   "execution_count": 44,
   "metadata": {},
   "outputs": [],
   "source": [
    "def get_dummy_error(strategy, X_train, X_test, y_train, y_test):\n",
    "    model = DummyRegressor(strategy=strategy)\n",
    "    model.fit(X_train, y_train)\n",
    "    preds_val = model.predict(X_test)\n",
    "    rmse = m_s_e(y_test, preds_val,squared=False)\n",
    "    mae = m_a_e(y_test, preds_val)\n",
    "    r_2 = r2(y_test,preds_val)\n",
    "    return(rmse, mae, r_2)"
   ]
  },
  {
   "cell_type": "code",
   "execution_count": 45,
   "metadata": {},
   "outputs": [
    {
     "name": "stdout",
     "output_type": "stream",
     "text": [
      "strategy: mean  \t\t RMSE:  580.784464  \t\t MAE: 186.041318  \t\t R2:  -0.000272\n",
      "strategy: median  \t\t RMSE:  592.373010  \t\t MAE: 140.880142  \t\t R2:  -0.040587\n"
     ]
    }
   ],
   "source": [
    "# comparer RMSE et r2 avec differents valeurs de n_estimator\n",
    "lst_rmse = []\n",
    "lst_mae = []\n",
    "lst_r2 = []\n",
    "for strategy in ['mean', 'median']:\n",
    "    my_rmse = get_dummy_error(strategy, X_train, X_test, y1_train, y1_test)\n",
    "    lst_rmse.append(my_rmse[0])\n",
    "    lst_mae.append(my_rmse[1])\n",
    "    lst_r2.append(my_rmse[2])\n",
    "    print(\"strategy: %s  \\t\\t RMSE:  %f  \\t\\t MAE: %f  \\t\\t R2:  %f\" %(strategy, my_rmse[0], my_rmse[1], my_rmse[2]))"
   ]
  },
  {
   "cell_type": "code",
   "execution_count": 46,
   "metadata": {},
   "outputs": [
    {
     "name": "stdout",
     "output_type": "stream",
     "text": [
      "N_Estimator: 100  \t\t RMSE:  225.281963  \t\t MAE: 93.918171  \t\t R2:  0.849498\n",
      "N_Estimator: 200  \t\t RMSE:  247.327951  \t\t MAE: 96.410227  \t\t R2:  0.818601\n",
      "N_Estimator: 300  \t\t RMSE:  246.105985  \t\t MAE: 96.628927  \t\t R2:  0.820389\n",
      "N_Estimator: 400  \t\t RMSE:  250.427385  \t\t MAE: 96.689883  \t\t R2:  0.814026\n",
      "N_Estimator: 500  \t\t RMSE:  252.698587  \t\t MAE: 97.167913  \t\t R2:  0.810638\n"
     ]
    }
   ],
   "source": [
    "# comparer RMSE et r2 avec differents valeurs de n_estimator\n",
    "lst_rmse = []\n",
    "lst_mae = []\n",
    "lst_r2 = []\n",
    "for n_estimator in [100, 200, 300, 400, 500]:\n",
    "    my_rmse = get_error(n_estimator, X_train, X_test, y1_train, y1_test)\n",
    "    lst_rmse.append(my_rmse[0])\n",
    "    lst_mae.append(my_rmse[1])\n",
    "    lst_r2.append(my_rmse[2])\n",
    "    print(\"N_Estimator: %d  \\t\\t RMSE:  %f  \\t\\t MAE: %f  \\t\\t R2:  %f\" %(n_estimator, my_rmse[0], my_rmse[1], my_rmse[2]))"
   ]
  },
  {
   "cell_type": "code",
   "execution_count": 47,
   "metadata": {},
   "outputs": [
    {
     "data": {
      "image/png": "[encoded data removed]",
      "text/plain": [
       "<Figure size 432x288 with 2 Axes>"
      ]
     },
     "metadata": {
      "needs_background": "light"
     },
     "output_type": "display_data"
    }
   ],
   "source": [
    "fig,(ax1,ax2) = plt.subplots(2,1)\n",
    "fig.suptitle('Résultat de l\\'entrainement')\n",
    "\n",
    "ax1.plot(lst_rmse)\n",
    "ax1.set_ylabel('RMSE')\n",
    "ax1.set_xlabel('entrainement no')\n",
    "ax1.grid()\n",
    "\n",
    "ax2.plot(lst_r2)\n",
    "ax2.set_ylabel('R2')\n",
    "ax2.set_xlabel('entrainement no')\n",
    "ax2.grid()\n",
    "\n",
    "plt.show()"
   ]
  },
  {
   "cell_type": "code",
   "execution_count": 48,
   "metadata": {},
   "outputs": [],
   "source": [
    "scores = []\n",
    "best_scores = []"
   ]
  },
  {
   "cell_type": "markdown",
   "metadata": {},
   "source": [
    "### - Dummy Regressor"
   ]
  },
  {
   "cell_type": "code",
   "execution_count": 49,
   "metadata": {},
   "outputs": [],
   "source": [
    "dummy_param_grid = {'strategy' : ['mean','median']}"
   ]
  },
  {
   "cell_type": "code",
   "execution_count": 50,
   "metadata": {},
   "outputs": [
    {
     "data": {
      "text/plain": [
       "GridSearchCV(cv=5, estimator=DummyRegressor(),\n",
       "             param_grid={'strategy': ['mean', 'median']}, refit='r2',\n",
       "             scoring=['r2', 'neg_mean_absolute_error',\n",
       "                      'neg_root_mean_squared_error'])"
      ]
     },
     "execution_count": 50,
     "metadata": {},
     "output_type": "execute_result"
    }
   ],
   "source": [
    "CV_dummy_mean = GridSearchCV(estimator=DummyRegressor(), param_grid=dummy_param_grid, cv= 5,scoring=['r2','neg_mean_absolute_error','neg_root_mean_squared_error'],refit='r2')\n",
    "CV_dummy_mean.fit(X_train, y1_train)"
   ]
  },
  {
   "cell_type": "code",
   "execution_count": 51,
   "metadata": {},
   "outputs": [
    {
     "data": {
      "text/plain": [
       "-0.0037899037977626284"
      ]
     },
     "execution_count": 51,
     "metadata": {},
     "output_type": "execute_result"
    }
   ],
   "source": [
    "CV_dummy_mean.best_score_"
   ]
  },
  {
   "cell_type": "code",
   "execution_count": 52,
   "metadata": {},
   "outputs": [],
   "source": [
    "dummy_model = CV_dummy_mean.best_estimator_"
   ]
  },
  {
   "cell_type": "code",
   "execution_count": 53,
   "metadata": {},
   "outputs": [
    {
     "data": {
      "text/plain": [
       "-0.0002718438953386304"
      ]
     },
     "execution_count": 53,
     "metadata": {},
     "output_type": "execute_result"
    }
   ],
   "source": [
    "dummy_model.score(X_test,y1_test)"
   ]
  },
  {
   "cell_type": "code",
   "execution_count": 54,
   "metadata": {},
   "outputs": [
    {
     "name": "stdout",
     "output_type": "stream",
     "text": [
      "Score - training data: 0.0 %\n",
      "Score - test data: -0.03 %\n"
     ]
    }
   ],
   "source": [
    "print(f\"Score - training data: {round(CV_dummy_mean.score(X_train,y1_train)*100,2)} %\")\n",
    "print(f\"Score - test data: {round(CV_dummy_mean.score(X_test,y1_test)*100,2)} %\")"
   ]
  },
  {
   "cell_type": "code",
   "execution_count": 55,
   "metadata": {},
   "outputs": [],
   "source": [
    "scores.append(dummy_model.score(X_test,y1_test))\n",
    "best_scores.append(CV_dummy_mean.best_score_)"
   ]
  },
  {
   "cell_type": "code",
   "execution_count": 56,
   "metadata": {},
   "outputs": [],
   "source": [
    "res_dummy = pd.DataFrame(CV_dummy_mean.cv_results_)"
   ]
  },
  {
   "cell_type": "markdown",
   "metadata": {},
   "source": [
    "### - Random Forest Regressor\n"
   ]
  },
  {
   "cell_type": "code",
   "execution_count": 57,
   "metadata": {},
   "outputs": [],
   "source": [
    "rfc_param_grid = {'n_estimators' : [100,200,300,400,500],\n",
    "              'max_features': ['auto', 'sqrt', 'log2'],\n",
    "              'max_depth' : [4,8,16,32,64],\n",
    "              'random_state': [12]}"
   ]
  },
  {
   "cell_type": "code",
   "execution_count": 58,
   "metadata": {},
   "outputs": [
    {
     "data": {
      "text/plain": [
       "GridSearchCV(cv=5, estimator=RandomForestRegressor(),\n",
       "             param_grid={'max_depth': [4, 8, 16, 32, 64],\n",
       "                         'max_features': ['auto', 'sqrt', 'log2'],\n",
       "                         'n_estimators': [100, 200, 300, 400, 500],\n",
       "                         'random_state': [12]},\n",
       "             refit='r2',\n",
       "             scoring=['r2', 'neg_mean_squared_error',\n",
       "                      'neg_root_mean_squared_error'])"
      ]
     },
     "execution_count": 58,
     "metadata": {},
     "output_type": "execute_result"
    }
   ],
   "source": [
    "CV_rfc = GridSearchCV(estimator=RandomForestRegressor(), param_grid=rfc_param_grid, cv= 5,scoring=['r2','neg_mean_squared_error','neg_root_mean_squared_error'],refit='r2')\n",
    "CV_rfc.fit(X_train, y1_train)"
   ]
  },
  {
   "cell_type": "code",
   "execution_count": 59,
   "metadata": {},
   "outputs": [
    {
     "data": {
      "text/plain": [
       "{'max_depth': 8,\n",
       " 'max_features': 'sqrt',\n",
       " 'n_estimators': 100,\n",
       " 'random_state': 12}"
      ]
     },
     "execution_count": 59,
     "metadata": {},
     "output_type": "execute_result"
    }
   ],
   "source": [
    "CV_rfc.best_params_"
   ]
  },
  {
   "cell_type": "code",
   "execution_count": 60,
   "metadata": {},
   "outputs": [
    {
     "data": {
      "text/plain": [
       "0.6074766656519976"
      ]
     },
     "execution_count": 60,
     "metadata": {},
     "output_type": "execute_result"
    }
   ],
   "source": [
    "CV_rfc.best_score_"
   ]
  },
  {
   "cell_type": "code",
   "execution_count": 61,
   "metadata": {},
   "outputs": [],
   "source": [
    "rfc_model= CV_rfc.best_estimator_"
   ]
  },
  {
   "cell_type": "code",
   "execution_count": 62,
   "metadata": {},
   "outputs": [
    {
     "data": {
      "text/plain": [
       "0.780987580384676"
      ]
     },
     "execution_count": 62,
     "metadata": {},
     "output_type": "execute_result"
    }
   ],
   "source": [
    "rfc_model.score(X_test,y1_test)"
   ]
  },
  {
   "cell_type": "code",
   "execution_count": 63,
   "metadata": {},
   "outputs": [
    {
     "name": "stdout",
     "output_type": "stream",
     "text": [
      "Score - training data: 91.0 %\n",
      "Score - test data: 78.1 %\n"
     ]
    }
   ],
   "source": [
    "print(f\"Score - training data: {round(CV_rfc.score(X_train,y1_train)*100,1)} %\")\n",
    "print(f\"Score - test data: {round(CV_rfc.score(X_test,y1_test)*100,1)} %\")"
   ]
  },
  {
   "cell_type": "code",
   "execution_count": 64,
   "metadata": {},
   "outputs": [],
   "source": [
    "scores.append(rfc_model.score(X_test,y1_test))\n",
    "best_scores.append(CV_rfc.best_score_)"
   ]
  },
  {
   "cell_type": "code",
   "execution_count": 66,
   "metadata": {},
   "outputs": [],
   "source": [
    "res_forest = pd.DataFrame(CV_rfc.cv_results_)"
   ]
  },
  {
   "cell_type": "markdown",
   "metadata": {},
   "source": []
  },
  {
   "cell_type": "markdown",
   "metadata": {},
   "source": [
    "### - Ridge Regressor"
   ]
  },
  {
   "cell_type": "code",
   "execution_count": 67,
   "metadata": {},
   "outputs": [],
   "source": [
    "ridge_param_grid = {'alpha' : [1e-3, 1e-2, 1e-1, 1, 2, 5, 10],\n",
    "              }"
   ]
  },
  {
   "cell_type": "code",
   "execution_count": 68,
   "metadata": {},
   "outputs": [
    {
     "data": {
      "text/plain": [
       "GridSearchCV(cv=6, estimator=Ridge(),\n",
       "             param_grid={'alpha': [0.001, 0.01, 0.1, 1, 2, 5, 10]}, refit='r2',\n",
       "             scoring=['r2', 'neg_mean_absolute_error',\n",
       "                      'neg_root_mean_squared_error'])"
      ]
     },
     "execution_count": 68,
     "metadata": {},
     "output_type": "execute_result"
    }
   ],
   "source": [
    "CV_ridge = GridSearchCV(estimator=Ridge(), param_grid=ridge_param_grid, cv= 6,scoring=['r2','neg_mean_absolute_error','neg_root_mean_squared_error'],refit='r2')\n",
    "CV_ridge.fit(X_train, y1_train)"
   ]
  },
  {
   "cell_type": "code",
   "execution_count": 69,
   "metadata": {},
   "outputs": [
    {
     "data": {
      "text/plain": [
       "0.4753206706337553"
      ]
     },
     "execution_count": 69,
     "metadata": {},
     "output_type": "execute_result"
    }
   ],
   "source": [
    "CV_ridge.best_score_"
   ]
  },
  {
   "cell_type": "code",
   "execution_count": 70,
   "metadata": {},
   "outputs": [
    {
     "name": "stdout",
     "output_type": "stream",
     "text": [
      "Ridge(alpha=0.1)\n"
     ]
    }
   ],
   "source": [
    "model_ridge = CV_ridge.best_estimator_\n",
    "print(model_ridge)"
   ]
  },
  {
   "cell_type": "code",
   "execution_count": 71,
   "metadata": {},
   "outputs": [
    {
     "data": {
      "text/plain": [
       "0.7494712500432306"
      ]
     },
     "execution_count": 71,
     "metadata": {},
     "output_type": "execute_result"
    }
   ],
   "source": [
    "model_ridge.score(X_test,y1_test)"
   ]
  },
  {
   "cell_type": "code",
   "execution_count": 72,
   "metadata": {},
   "outputs": [
    {
     "name": "stdout",
     "output_type": "stream",
     "text": [
      "Score - training data: 71.6 %\n",
      "Score - test data: 74.9 %\n"
     ]
    }
   ],
   "source": [
    "print(f\"Score - training data: {round(CV_ridge.score(X_train,y1_train)*100,1)} %\")\n",
    "print(f\"Score - test data: {round(CV_ridge.score(X_test,y1_test)*100,1)} %\")"
   ]
  },
  {
   "cell_type": "code",
   "execution_count": 73,
   "metadata": {},
   "outputs": [],
   "source": [
    "scores.append(model_ridge.score(X_test,y1_test))\n",
    "best_scores.append(CV_ridge.best_score_)"
   ]
  },
  {
   "cell_type": "code",
   "execution_count": 74,
   "metadata": {},
   "outputs": [],
   "source": [
    "res_ridge = pd.DataFrame(CV_ridge.cv_results_)"
   ]
  },
  {
   "cell_type": "markdown",
   "metadata": {},
   "source": []
  },
  {
   "cell_type": "code",
   "execution_count": null,
   "metadata": {},
   "outputs": [],
   "source": []
  },
  {
   "cell_type": "markdown",
   "metadata": {},
   "source": [
    "### - KNN Regressor"
   ]
  },
  {
   "cell_type": "code",
   "execution_count": 76,
   "metadata": {},
   "outputs": [],
   "source": [
    "knn_param_grid = {'n_neighbors' : list(range(10, 100)),\n",
    "              }"
   ]
  },
  {
   "cell_type": "code",
   "execution_count": 77,
   "metadata": {},
   "outputs": [
    {
     "data": {
      "text/plain": [
       "GridSearchCV(cv=6, estimator=KNeighborsRegressor(),\n",
       "             param_grid={'n_neighbors': [10, 11, 12, 13, 14, 15, 16, 17, 18, 19,\n",
       "                                         20, 21, 22, 23, 24, 25, 26, 27, 28, 29,\n",
       "                                         30, 31, 32, 33, 34, 35, 36, 37, 38, 39, ...]},\n",
       "             refit='r2',\n",
       "             scoring=['r2', 'neg_mean_absolute_error',\n",
       "                      'neg_root_mean_squared_error'])"
      ]
     },
     "execution_count": 77,
     "metadata": {},
     "output_type": "execute_result"
    }
   ],
   "source": [
    "CV_knn = GridSearchCV(estimator=KNeighborsRegressor(), param_grid=knn_param_grid, cv= 6,scoring=['r2','neg_mean_absolute_error','neg_root_mean_squared_error'],refit='r2')\n",
    "CV_knn.fit(X_train, y1_train)"
   ]
  },
  {
   "cell_type": "code",
   "execution_count": 78,
   "metadata": {},
   "outputs": [
    {
     "data": {
      "text/plain": [
       "0.26514108758037963"
      ]
     },
     "execution_count": 78,
     "metadata": {},
     "output_type": "execute_result"
    }
   ],
   "source": [
    "CV_knn.best_score_"
   ]
  },
  {
   "cell_type": "code",
   "execution_count": 79,
   "metadata": {},
   "outputs": [],
   "source": [
    "model_knn = CV_knn.best_estimator_"
   ]
  },
  {
   "cell_type": "code",
   "execution_count": 80,
   "metadata": {},
   "outputs": [
    {
     "data": {
      "text/plain": [
       "0.3184745882722346"
      ]
     },
     "execution_count": 80,
     "metadata": {},
     "output_type": "execute_result"
    }
   ],
   "source": [
    "model_knn.score(X_test,y1_test)"
   ]
  },
  {
   "cell_type": "code",
   "execution_count": 81,
   "metadata": {},
   "outputs": [
    {
     "name": "stdout",
     "output_type": "stream",
     "text": [
      "Score - training data: 28.4 %\n",
      "Score - test data: 31.8 %\n"
     ]
    }
   ],
   "source": [
    "print(f\"Score - training data: {round(CV_knn.score(X_train,y1_train)*100,1)} %\")\n",
    "print(f\"Score - test data: {round(CV_knn.score(X_test,y1_test)*100,1)} %\")"
   ]
  },
  {
   "cell_type": "code",
   "execution_count": 82,
   "metadata": {},
   "outputs": [],
   "source": [
    "scores.append(model_knn.score(X_test,y1_test))\n",
    "best_scores.append(CV_knn.best_score_)"
   ]
  },
  {
   "cell_type": "code",
   "execution_count": 83,
   "metadata": {},
   "outputs": [
    {
     "data": {
      "text/plain": [
       "{'n_neighbors': 12}"
      ]
     },
     "execution_count": 83,
     "metadata": {},
     "output_type": "execute_result"
    }
   ],
   "source": [
    "CV_knn.best_params_"
   ]
  },
  {
   "cell_type": "code",
   "execution_count": 84,
   "metadata": {},
   "outputs": [],
   "source": [
    "res_knn = pd.DataFrame(CV_knn.cv_results_)"
   ]
  },
  {
   "cell_type": "markdown",
   "metadata": {},
   "source": [
    "### - XGBoost"
   ]
  },
  {
   "cell_type": "code",
   "execution_count": 85,
   "metadata": {},
   "outputs": [],
   "source": [
    "xgboost_param_grid = {'n_estimators' : [100,200,300,400,500],\n",
    "              'max_features': ['auto', 'sqrt', 'log2'],\n",
    "              'max_depth' : [4,8,16,32,64],\n",
    "              'random_state': [12]}"
   ]
  },
  {
   "cell_type": "code",
   "execution_count": 86,
   "metadata": {},
   "outputs": [
    {
     "data": {
      "text/plain": [
       "GridSearchCV(cv=5, estimator=GradientBoostingRegressor(),\n",
       "             param_grid={'max_depth': [4, 8, 16, 32, 64],\n",
       "                         'max_features': ['auto', 'sqrt', 'log2'],\n",
       "                         'n_estimators': [100, 200, 300, 400, 500],\n",
       "                         'random_state': [12]},\n",
       "             refit='r2',\n",
       "             scoring=['r2', 'neg_mean_absolute_error',\n",
       "                      'neg_root_mean_squared_error'])"
      ]
     },
     "execution_count": 86,
     "metadata": {},
     "output_type": "execute_result"
    }
   ],
   "source": [
    "CV_xgboost = GridSearchCV(estimator=GradientBoostingRegressor(), param_grid=xgboost_param_grid, cv= 5,scoring=['r2','neg_mean_absolute_error','neg_root_mean_squared_error'],refit='r2')\n",
    "CV_xgboost.fit(X_train, y1_train)"
   ]
  },
  {
   "cell_type": "code",
   "execution_count": 87,
   "metadata": {},
   "outputs": [
    {
     "data": {
      "text/plain": [
       "0.6164486610259905"
      ]
     },
     "execution_count": 87,
     "metadata": {},
     "output_type": "execute_result"
    }
   ],
   "source": [
    "CV_xgboost.best_score_"
   ]
  },
  {
   "cell_type": "code",
   "execution_count": 88,
   "metadata": {},
   "outputs": [],
   "source": [
    "model_boosted = CV_xgboost.best_estimator_"
   ]
  },
  {
   "cell_type": "code",
   "execution_count": 89,
   "metadata": {},
   "outputs": [
    {
     "data": {
      "text/plain": [
       "0.8634272464462868"
      ]
     },
     "execution_count": 89,
     "metadata": {},
     "output_type": "execute_result"
    }
   ],
   "source": [
    "model_boosted.score(X_test,y1_test)"
   ]
  },
  {
   "cell_type": "code",
   "execution_count": 125,
   "metadata": {},
   "outputs": [
    {
     "data": {
      "text/plain": [
       "{'max_depth': 4,\n",
       " 'max_features': 'sqrt',\n",
       " 'n_estimators': 100,\n",
       " 'random_state': 12}"
      ]
     },
     "execution_count": 125,
     "metadata": {},
     "output_type": "execute_result"
    }
   ],
   "source": [
    "CV_xgboost.best_params_"
   ]
  },
  {
   "cell_type": "code",
   "execution_count": 90,
   "metadata": {},
   "outputs": [
    {
     "name": "stdout",
     "output_type": "stream",
     "text": [
      "Score - training data: 97.9 %\n",
      "Score - test data: 86.3 %\n"
     ]
    }
   ],
   "source": [
    "print(f\"Score - training data: {round(CV_xgboost.score(X_train,y1_train)*100,1)} %\")\n",
    "print(f\"Score - test data: {round(CV_xgboost.score(X_test,y1_test)*100,1)} %\")"
   ]
  },
  {
   "cell_type": "code",
   "execution_count": 91,
   "metadata": {},
   "outputs": [
    {
     "data": {
      "text/plain": [
       "array([4.79051023e-02, 2.61606025e-02, 1.57535654e-01, 7.92855255e-02,\n",
       "       1.27182456e-01, 2.78182320e-03, 1.20503960e-01, 3.37208631e-02,\n",
       "       2.24035783e-04, 1.06574259e-02, 1.63847004e-05, 3.26872045e-01,\n",
       "       3.56922801e-03, 7.97679187e-07, 1.21475396e-02, 5.52617026e-03,\n",
       "       5.50099633e-03, 2.25863556e-03, 2.20526313e-03, 1.22273067e-06,\n",
       "       4.01217839e-04, 7.59110800e-04, 1.18235986e-04, 9.61088462e-04,\n",
       "       7.33995362e-03, 7.75481642e-04, 2.78349391e-04, 1.25998965e-03,\n",
       "       2.91920160e-04, 1.16444224e-03, 2.80212948e-03, 2.44300196e-03,\n",
       "       9.12432103e-03, 5.12773719e-03, 3.09728942e-03])"
      ]
     },
     "execution_count": 91,
     "metadata": {},
     "output_type": "execute_result"
    }
   ],
   "source": [
    "model_boosted.feature_importances_"
   ]
  },
  {
   "cell_type": "code",
   "execution_count": 123,
   "metadata": {},
   "outputs": [
    {
     "name": "stdout",
     "output_type": "stream",
     "text": [
      "    Feature Importance                                     Feature Name\n",
      "11        3.268720e-01                     PrimaryPropertyType_Hospital\n",
      "2         1.575357e-01                                NumberofBuildings\n",
      "4         1.271825e-01                           PropertyGFABuilding(s)\n",
      "6         1.205040e-01                        LargestPropertyUseTypeGFA\n",
      "3         7.928553e-02                                   NumberofFloors\n",
      "0         4.790510e-02                                         Latitude\n",
      "7         3.372086e-02                                   SteamUse(kBtu)\n",
      "1         2.616060e-02                                        Longitude\n",
      "14        1.214754e-02                   PrimaryPropertyType_Laboratory\n",
      "9         1.065743e-02                                 NaturalGas(kBtu)\n",
      "32        9.124321e-03                              YearBuilt_1980_2000\n",
      "24        7.339954e-03  PrimaryPropertyType_Small- and Mid-Sized Office\n",
      "15        5.526170e-03                 PrimaryPropertyType_Large Office\n",
      "16        5.500996e-03               PrimaryPropertyType_Medical Office\n",
      "33        5.127737e-03                                  YearBuilt_2000_\n",
      "12        3.569228e-03                        PrimaryPropertyType_Hotel\n",
      "34        3.097289e-03                                  YearBuilt__1920\n",
      "30        2.802129e-03                              YearBuilt_1940_1960\n",
      "5         2.781823e-03                               PropertyGFAParking\n",
      "31        2.443002e-03                              YearBuilt_1960_1980\n",
      "17        2.258636e-03           PrimaryPropertyType_Mixed Use Property\n",
      "18        2.205263e-03                        PrimaryPropertyType_Other\n",
      "27        1.259990e-03                    PrimaryPropertyType_Warehouse\n",
      "29        1.164442e-03                              YearBuilt_1920_1940\n",
      "23        9.610885e-04        PrimaryPropertyType_Senior Care Community\n",
      "25        7.754816e-04  PrimaryPropertyType_Supermarket / Grocery Store\n",
      "21        7.591108e-04                 PrimaryPropertyType_Retail Store\n",
      "20        4.012178e-04                   PrimaryPropertyType_Restaurant\n",
      "28        2.919202e-04             PrimaryPropertyType_Worship Facility\n",
      "26        2.783494e-04                   PrimaryPropertyType_University\n",
      "8         2.240358e-04                                Electricity(kBtu)\n",
      "22        1.182360e-04        PrimaryPropertyType_Self-Storage Facility\n",
      "10        1.638470e-05          PrimaryPropertyType_Distribution Center\n",
      "19        1.222731e-06       PrimaryPropertyType_Refrigerated Warehouse\n",
      "13        7.976792e-07                  PrimaryPropertyType_K-12 School\n"
     ]
    },
    {
     "data": {
      "image/png": "[encoded data removed]",
      "text/plain": [
       "<Figure size 432x288 with 1 Axes>"
      ]
     },
     "metadata": {
      "needs_background": "light"
     },
     "output_type": "display_data"
    }
   ],
   "source": [
    "def display_feat_imp_xgboost(boosted):\n",
    "  feat_imp = model_boosted.feature_importances_\n",
    "  df_featimp = pd.DataFrame(feat_imp, columns = {\"Feature Importance\"})\n",
    "  df_featimp[\"Feature Name\"] = X_train.columns\n",
    "  df_featimp = df_featimp.sort_values(by=\"Feature Importance\", ascending=False)\n",
    "  print(df_featimp)\n",
    "  df_featimp.plot.barh(y=\"Feature Importance\", x=\"Feature Name\", title=\"Feature importance\", color=\"red\")\n",
    " \n",
    "display_feat_imp_xgboost(model_boosted)"
   ]
  },
  {
   "cell_type": "code",
   "execution_count": 93,
   "metadata": {},
   "outputs": [],
   "source": [
    "scores.append(model_boosted.score(X_test,y1_test))\n",
    "best_scores.append(CV_xgboost.best_score_)"
   ]
  },
  {
   "cell_type": "code",
   "execution_count": 94,
   "metadata": {},
   "outputs": [],
   "source": [
    "res_xgboost = pd.DataFrame(CV_xgboost.cv_results_)"
   ]
  },
  {
   "cell_type": "code",
   "execution_count": 95,
   "metadata": {},
   "outputs": [],
   "source": [
    "index = ['Dummy','Random Forest','Ridge','KNN','XGBoost']\n",
    "columns = ['test score']\n",
    "columns_b = ['validation score']"
   ]
  },
  {
   "cell_type": "code",
   "execution_count": 96,
   "metadata": {},
   "outputs": [],
   "source": [
    "df_scores = pd.DataFrame(data=scores,index=index,columns=columns)\n",
    "df_best_scores = pd.DataFrame(data=best_scores,index=index,columns=columns_b)"
   ]
  },
  {
   "cell_type": "code",
   "execution_count": 97,
   "metadata": {},
   "outputs": [
    {
     "data": {
      "text/html": [
       "<div>\n",
       "<style scoped>\n",
       "    .dataframe tbody tr th:only-of-type {\n",
       "        vertical-align: middle;\n",
       "    }\n",
       "\n",
       "    .dataframe tbody tr th {\n",
       "        vertical-align: top;\n",
       "    }\n",
       "\n",
       "    .dataframe thead th {\n",
       "        text-align: right;\n",
       "    }\n",
       "</style>\n",
       "<table border=\"1\" class=\"dataframe\">\n",
       "  <thead>\n",
       "    <tr style=\"text-align: right;\">\n",
       "      <th></th>\n",
       "      <th>test score</th>\n",
       "    </tr>\n",
       "  </thead>\n",
       "  <tbody>\n",
       "    <tr>\n",
       "      <th>Dummy</th>\n",
       "      <td>-0.000272</td>\n",
       "    </tr>\n",
       "    <tr>\n",
       "      <th>Random Forest</th>\n",
       "      <td>0.780988</td>\n",
       "    </tr>\n",
       "    <tr>\n",
       "      <th>Ridge</th>\n",
       "      <td>0.749471</td>\n",
       "    </tr>\n",
       "    <tr>\n",
       "      <th>KNN</th>\n",
       "      <td>0.318475</td>\n",
       "    </tr>\n",
       "    <tr>\n",
       "      <th>XGBoost</th>\n",
       "      <td>0.863427</td>\n",
       "    </tr>\n",
       "  </tbody>\n",
       "</table>\n",
       "</div>"
      ],
      "text/plain": [
       "               test score\n",
       "Dummy           -0.000272\n",
       "Random Forest    0.780988\n",
       "Ridge            0.749471\n",
       "KNN              0.318475\n",
       "XGBoost          0.863427"
      ]
     },
     "execution_count": 97,
     "metadata": {},
     "output_type": "execute_result"
    }
   ],
   "source": [
    "df_scores"
   ]
  },
  {
   "cell_type": "code",
   "execution_count": 98,
   "metadata": {},
   "outputs": [
    {
     "data": {
      "text/html": [
       "<div>\n",
       "<style scoped>\n",
       "    .dataframe tbody tr th:only-of-type {\n",
       "        vertical-align: middle;\n",
       "    }\n",
       "\n",
       "    .dataframe tbody tr th {\n",
       "        vertical-align: top;\n",
       "    }\n",
       "\n",
       "    .dataframe thead th {\n",
       "        text-align: right;\n",
       "    }\n",
       "</style>\n",
       "<table border=\"1\" class=\"dataframe\">\n",
       "  <thead>\n",
       "    <tr style=\"text-align: right;\">\n",
       "      <th></th>\n",
       "      <th>validation score</th>\n",
       "    </tr>\n",
       "  </thead>\n",
       "  <tbody>\n",
       "    <tr>\n",
       "      <th>Dummy</th>\n",
       "      <td>-0.003790</td>\n",
       "    </tr>\n",
       "    <tr>\n",
       "      <th>Random Forest</th>\n",
       "      <td>0.607477</td>\n",
       "    </tr>\n",
       "    <tr>\n",
       "      <th>Ridge</th>\n",
       "      <td>0.475321</td>\n",
       "    </tr>\n",
       "    <tr>\n",
       "      <th>KNN</th>\n",
       "      <td>0.265141</td>\n",
       "    </tr>\n",
       "    <tr>\n",
       "      <th>XGBoost</th>\n",
       "      <td>0.616449</td>\n",
       "    </tr>\n",
       "  </tbody>\n",
       "</table>\n",
       "</div>"
      ],
      "text/plain": [
       "               validation score\n",
       "Dummy                 -0.003790\n",
       "Random Forest          0.607477\n",
       "Ridge                  0.475321\n",
       "KNN                    0.265141\n",
       "XGBoost                0.616449"
      ]
     },
     "execution_count": 98,
     "metadata": {},
     "output_type": "execute_result"
    }
   ],
   "source": [
    "df_best_scores"
   ]
  },
  {
   "cell_type": "markdown",
   "metadata": {},
   "source": []
  },
  {
   "cell_type": "markdown",
   "metadata": {},
   "source": [
    "### Energy Star Score"
   ]
  },
  {
   "cell_type": "markdown",
   "metadata": {},
   "source": []
  },
  {
   "cell_type": "code",
   "execution_count": 99,
   "metadata": {},
   "outputs": [],
   "source": [
    "energyStar = nonRes[['PrimaryPropertyType','Latitude','Longitude','YearBuilt','NumberofBuildings','NumberofFloors'\\\n",
    "            ,'PropertyGFABuilding(s)','PropertyGFAParking','LargestPropertyUseTypeGFA','SteamUse(kBtu)','Electricity(kBtu)','NaturalGas(kBtu)','TotalGHGEmissions','ENERGYSTARScore']]"
   ]
  },
  {
   "cell_type": "code",
   "execution_count": 100,
   "metadata": {},
   "outputs": [],
   "source": [
    "energyStar = energyStar.dropna(axis=0)"
   ]
  },
  {
   "cell_type": "code",
   "execution_count": 101,
   "metadata": {},
   "outputs": [
    {
     "data": {
      "text/plain": [
       "PrimaryPropertyType          0\n",
       "Latitude                     0\n",
       "Longitude                    0\n",
       "YearBuilt                    0\n",
       "NumberofBuildings            0\n",
       "NumberofFloors               0\n",
       "PropertyGFABuilding(s)       0\n",
       "PropertyGFAParking           0\n",
       "LargestPropertyUseTypeGFA    0\n",
       "SteamUse(kBtu)               0\n",
       "Electricity(kBtu)            0\n",
       "NaturalGas(kBtu)             0\n",
       "TotalGHGEmissions            0\n",
       "ENERGYSTARScore              0\n",
       "dtype: int64"
      ]
     },
     "execution_count": 101,
     "metadata": {},
     "output_type": "execute_result"
    }
   ],
   "source": [
    "energyStar.isna().sum()"
   ]
  },
  {
   "cell_type": "code",
   "execution_count": 102,
   "metadata": {},
   "outputs": [],
   "source": [
    "energyStar['YearBuilt'] = energyStar['YearBuilt'].apply(fill_date)"
   ]
  },
  {
   "cell_type": "code",
   "execution_count": 103,
   "metadata": {},
   "outputs": [],
   "source": [
    "energyStar['SteamUse(kBtu)'] = energyStar['SteamUse(kBtu)'].apply(lambda x : 1 if x > 0 else 0 )\n",
    "energyStar['Electricity(kBtu)'] = energyStar['Electricity(kBtu)'].apply(lambda x : 1 if x > 0 else 0 )\n",
    "energyStar['NaturalGas(kBtu)'] = energyStar['NaturalGas(kBtu)'].apply(lambda x : 1 if x > 0 else 0 )"
   ]
  },
  {
   "cell_type": "code",
   "execution_count": 104,
   "metadata": {},
   "outputs": [],
   "source": [
    "energyStar_code = pd.get_dummies(energyStar ,columns=['PrimaryPropertyType','YearBuilt'])"
   ]
  },
  {
   "cell_type": "code",
   "execution_count": 105,
   "metadata": {},
   "outputs": [],
   "source": [
    "train_EStar, test_EStar = train_test_split(energyStar_code, test_size=0.3, random_state=0) "
   ]
  },
  {
   "cell_type": "code",
   "execution_count": 106,
   "metadata": {},
   "outputs": [],
   "source": [
    "Xe_train, ye_train, Xe_test, ye_test = train_EStar.drop(columns = ['TotalGHGEmissions']), train_EStar['TotalGHGEmissions'],test_EStar.drop(columns = ['TotalGHGEmissions']) ,test_EStar['TotalGHGEmissions']"
   ]
  },
  {
   "cell_type": "code",
   "execution_count": 126,
   "metadata": {},
   "outputs": [],
   "source": [
    "#CV_xgboost_Estar = GridSearchCV(estimator=GradientBoostingRegressor(), param_grid=xgboost_param_grid, cv= 5,scoring=['r2','neg_mean_absolute_error','neg_root_mean_squared_error'],refit='r2')\n",
    "#CV_xgboost_Estar.fit(Xe_train, ye_train)"
   ]
  },
  {
   "cell_type": "code",
   "execution_count": 138,
   "metadata": {},
   "outputs": [],
   "source": [
    "rfr_eStar = GradientBoostingRegressor( **CV_xgboost.best_params_)"
   ]
  },
  {
   "cell_type": "code",
   "execution_count": 139,
   "metadata": {},
   "outputs": [
    {
     "data": {
      "text/plain": [
       "GradientBoostingRegressor(max_depth=4, max_features='sqrt', random_state=12)"
      ]
     },
     "execution_count": 139,
     "metadata": {},
     "output_type": "execute_result"
    }
   ],
   "source": [
    "rfr_eStar.fit(Xe_train, ye_train)"
   ]
  },
  {
   "cell_type": "code",
   "execution_count": 140,
   "metadata": {},
   "outputs": [
    {
     "data": {
      "text/plain": [
       "0.7003878891285115"
      ]
     },
     "execution_count": 140,
     "metadata": {},
     "output_type": "execute_result"
    }
   ],
   "source": [
    "rfr_eStar.score(Xe_test,ye_test)"
   ]
  },
  {
   "cell_type": "code",
   "execution_count": 141,
   "metadata": {},
   "outputs": [
    {
     "name": "stdout",
     "output_type": "stream",
     "text": [
      "    Feature Importance                                     Feature Name\n",
      "12        2.789012e-01                     PrimaryPropertyType_Hospital\n",
      "4         2.271981e-01                           PropertyGFABuilding(s)\n",
      "6         2.080987e-01                        LargestPropertyUseTypeGFA\n",
      "2         8.098597e-02                                NumberofBuildings\n",
      "7         4.842098e-02                                   SteamUse(kBtu)\n",
      "3         4.237018e-02                                   NumberofFloors\n",
      "10        3.364057e-02                                  ENERGYSTARScore\n",
      "0         2.109431e-02                                         Latitude\n",
      "29        2.035025e-02                              YearBuilt_1980_2000\n",
      "1         9.989474e-03                                        Longitude\n",
      "9         5.912751e-03                                 NaturalGas(kBtu)\n",
      "13        5.786598e-03                        PrimaryPropertyType_Hotel\n",
      "18        3.138143e-03                        PrimaryPropertyType_Other\n",
      "15        2.900603e-03                 PrimaryPropertyType_Large Office\n",
      "23        2.207032e-03  PrimaryPropertyType_Supermarket / Grocery Store\n",
      "21        1.851259e-03        PrimaryPropertyType_Senior Care Community\n",
      "5         1.633483e-03                               PropertyGFAParking\n",
      "28        1.391223e-03                              YearBuilt_1960_1980\n",
      "27        1.353402e-03                              YearBuilt_1940_1960\n",
      "26        8.461243e-04                              YearBuilt_1920_1940\n",
      "22        6.961674e-04  PrimaryPropertyType_Small- and Mid-Sized Office\n",
      "24        5.081473e-04                    PrimaryPropertyType_Warehouse\n",
      "30        2.468584e-04                                  YearBuilt_2000_\n",
      "16        1.499429e-04               PrimaryPropertyType_Medical Office\n",
      "20        1.349052e-04                 PrimaryPropertyType_Retail Store\n",
      "31        9.212450e-05                                  YearBuilt__1920\n",
      "14        3.194298e-05                  PrimaryPropertyType_K-12 School\n",
      "17        2.462832e-05           PrimaryPropertyType_Mixed Use Property\n",
      "25        2.341058e-05             PrimaryPropertyType_Worship Facility\n",
      "11        2.135078e-05          PrimaryPropertyType_Distribution Center\n",
      "8         1.312878e-07                                Electricity(kBtu)\n",
      "19        0.000000e+00       PrimaryPropertyType_Refrigerated Warehouse\n"
     ]
    },
    {
     "data": {
      "image/png": "[encoded data removed]",
      "text/plain": [
       "<Figure size 432x288 with 1 Axes>"
      ]
     },
     "metadata": {
      "needs_background": "light"
     },
     "output_type": "display_data"
    }
   ],
   "source": [
    "def display_feat_imp_xgboost(boosted):\n",
    "  feat_imp = rfr_eStar.feature_importances_\n",
    "  df_featimp = pd.DataFrame(feat_imp, columns = {\"Feature Importance\"})\n",
    "  df_featimp[\"Feature Name\"] = Xe_train.columns\n",
    "  df_featimp = df_featimp.sort_values(by=\"Feature Importance\", ascending=False)\n",
    "  print(df_featimp)\n",
    "  df_featimp.plot.barh(y=\"Feature Importance\", x=\"Feature Name\", title=\"Feature importance\", color=\"red\")\n",
    " \n",
    "display_feat_imp_xgboost(rfr_eStar)"
   ]
  },
  {
   "cell_type": "code",
   "execution_count": 111,
   "metadata": {},
   "outputs": [],
   "source": [
    "Xee_train, yee_train, Xee_test, yee_test = train_EStar.drop(columns = ['TotalGHGEmissions','ENERGYSTARScore']), train_EStar['TotalGHGEmissions'],test_EStar.drop(columns = ['TotalGHGEmissions','ENERGYSTARScore']) ,test_EStar['TotalGHGEmissions']"
   ]
  },
  {
   "cell_type": "code",
   "execution_count": 137,
   "metadata": {},
   "outputs": [],
   "source": [
    "#CV_xgboost_EEstar = GridSearchCV(estimator=GradientBoostingRegressor(), param_grid=xgboost_param_grid, cv= 5,scoring=['r2','neg_mean_absolute_error','neg_root_mean_squared_error'],refit='r2')\n",
    "#CV_xgboost_EEstar.fit(Xee_train, yee_train)"
   ]
  },
  {
   "cell_type": "code",
   "execution_count": 142,
   "metadata": {},
   "outputs": [
    {
     "data": {
      "text/plain": [
       "GradientBoostingRegressor(max_depth=4, max_features='sqrt', random_state=12)"
      ]
     },
     "execution_count": 142,
     "metadata": {},
     "output_type": "execute_result"
    }
   ],
   "source": [
    "rfr_eStar.fit(Xee_train,yee_train)"
   ]
  },
  {
   "cell_type": "code",
   "execution_count": 143,
   "metadata": {},
   "outputs": [
    {
     "data": {
      "text/plain": [
       "0.5820535863427334"
      ]
     },
     "execution_count": 143,
     "metadata": {},
     "output_type": "execute_result"
    }
   ],
   "source": [
    "rfr_eStar.score(Xee_test,yee_test)"
   ]
  },
  {
   "cell_type": "markdown",
   "metadata": {},
   "source": [
    "### <a name='C2'> Prédictions de SiteEnergyUse(kbtu)   </a>"
   ]
  },
  {
   "cell_type": "markdown",
   "metadata": {},
   "source": [
    "### - Dummy Regressor"
   ]
  },
  {
   "cell_type": "code",
   "execution_count": 163,
   "metadata": {},
   "outputs": [
    {
     "data": {
      "text/plain": [
       "GridSearchCV(cv=5, estimator=DummyRegressor(),\n",
       "             param_grid={'strategy': ['mean', 'median']}, refit='r2',\n",
       "             scoring=['r2', 'neg_mean_absolute_error',\n",
       "                      'neg_root_mean_squared_error'])"
      ]
     },
     "execution_count": 163,
     "metadata": {},
     "output_type": "execute_result"
    }
   ],
   "source": [
    "CV_dummy_en = GridSearchCV(estimator=DummyRegressor(), param_grid=dummy_param_grid, cv= 5,scoring=['r2','neg_mean_absolute_error','neg_root_mean_squared_error'],refit='r2')\n",
    "CV_dummy_en.fit(X_train, y2_train)"
   ]
  },
  {
   "cell_type": "code",
   "execution_count": 159,
   "metadata": {},
   "outputs": [
    {
     "data": {
      "text/plain": [
       "-0.004232080647240721"
      ]
     },
     "execution_count": 159,
     "metadata": {},
     "output_type": "execute_result"
    }
   ],
   "source": [
    "CV_dummy_en.best_score_"
   ]
  },
  {
   "cell_type": "code",
   "execution_count": 160,
   "metadata": {},
   "outputs": [
    {
     "name": "stdout",
     "output_type": "stream",
     "text": [
      "Score - training data: 0.0 %\n",
      "Score - test data: -0.05 %\n"
     ]
    }
   ],
   "source": [
    "print(f\"Score - training data: {round(CV_dummy_en.score(X_train,y2_train)*100,2)} %\")\n",
    "print(f\"Score - test data: {round(CV_dummy_en.score(X_test,y2_test)*100,2)} %\")"
   ]
  },
  {
   "cell_type": "markdown",
   "metadata": {},
   "source": [
    "### - Random Forest"
   ]
  },
  {
   "cell_type": "code",
   "execution_count": 155,
   "metadata": {},
   "outputs": [
    {
     "data": {
      "text/plain": [
       "GridSearchCV(cv=5, estimator=RandomForestRegressor(),\n",
       "             param_grid={'max_depth': [4, 8, 16, 32, 64],\n",
       "                         'max_features': ['auto', 'sqrt', 'log2'],\n",
       "                         'n_estimators': [100, 200, 300, 400, 500],\n",
       "                         'random_state': [12]},\n",
       "             refit='r2',\n",
       "             scoring=['r2', 'neg_mean_squared_error',\n",
       "                      'neg_root_mean_squared_error'])"
      ]
     },
     "execution_count": 155,
     "metadata": {},
     "output_type": "execute_result"
    }
   ],
   "source": [
    "CV_rfr_en = GridSearchCV(estimator=RandomForestRegressor(), param_grid=rfc_param_grid, cv= 5,scoring=['r2','neg_mean_squared_error','neg_root_mean_squared_error'],refit='r2')\n",
    "CV_rfr_en.fit(X_train, y2_train)"
   ]
  },
  {
   "cell_type": "code",
   "execution_count": 156,
   "metadata": {},
   "outputs": [
    {
     "data": {
      "text/plain": [
       "0.6415500688335675"
      ]
     },
     "execution_count": 156,
     "metadata": {},
     "output_type": "execute_result"
    }
   ],
   "source": [
    "CV_rfr_en.best_score_"
   ]
  },
  {
   "cell_type": "code",
   "execution_count": 157,
   "metadata": {},
   "outputs": [
    {
     "name": "stdout",
     "output_type": "stream",
     "text": [
      "Score - training data: 93.82 %\n",
      "Score - test data: 76.44 %\n"
     ]
    }
   ],
   "source": [
    "print(f\"Score - training data: {round(CV_rfr_en.score(X_train,y2_train)*100,2)} %\")\n",
    "print(f\"Score - test data: {round(CV_rfr_en.score(X_test,y2_test)*100,2)} %\")"
   ]
  },
  {
   "cell_type": "markdown",
   "metadata": {},
   "source": [
    "### - Ridge Regressor"
   ]
  },
  {
   "cell_type": "code",
   "execution_count": 154,
   "metadata": {},
   "outputs": [
    {
     "data": {
      "text/plain": [
       "GridSearchCV(cv=6, estimator=Ridge(),\n",
       "             param_grid={'alpha': [0.001, 0.01, 0.1, 1, 2, 5, 10]}, refit='r2',\n",
       "             scoring=['r2', 'neg_mean_absolute_error',\n",
       "                      'neg_root_mean_squared_error'])"
      ]
     },
     "execution_count": 154,
     "metadata": {},
     "output_type": "execute_result"
    }
   ],
   "source": [
    "CV_ridge_en = GridSearchCV(estimator=Ridge(), param_grid=ridge_param_grid, cv= 6,scoring=['r2','neg_mean_absolute_error','neg_root_mean_squared_error'],refit='r2')\n",
    "CV_ridge_en.fit(X_train, y2_train)"
   ]
  },
  {
   "cell_type": "code",
   "execution_count": 161,
   "metadata": {},
   "outputs": [
    {
     "data": {
      "text/plain": [
       "0.587046098307877"
      ]
     },
     "execution_count": 161,
     "metadata": {},
     "output_type": "execute_result"
    }
   ],
   "source": [
    "CV_ridge_en.best_score_"
   ]
  },
  {
   "cell_type": "code",
   "execution_count": 162,
   "metadata": {},
   "outputs": [
    {
     "name": "stdout",
     "output_type": "stream",
     "text": [
      "Score - training data: 65.65 %\n",
      "Score - test data: 77.57 %\n"
     ]
    }
   ],
   "source": [
    "print(f\"Score - training data: {round(CV_ridge_en.score(X_train,y2_train)*100,2)} %\")\n",
    "print(f\"Score - test data: {round(CV_ridge_en.score(X_test,y2_test)*100,2)} %\")"
   ]
  },
  {
   "cell_type": "markdown",
   "metadata": {},
   "source": [
    "### - KNN Regressor"
   ]
  },
  {
   "cell_type": "code",
   "execution_count": 164,
   "metadata": {},
   "outputs": [
    {
     "data": {
      "text/plain": [
       "GridSearchCV(cv=6, estimator=KNeighborsRegressor(),\n",
       "             param_grid={'n_neighbors': [10, 11, 12, 13, 14, 15, 16, 17, 18, 19,\n",
       "                                         20, 21, 22, 23, 24, 25, 26, 27, 28, 29,\n",
       "                                         30, 31, 32, 33, 34, 35, 36, 37, 38, 39, ...]},\n",
       "             refit='r2',\n",
       "             scoring=['r2', 'neg_mean_absolute_error',\n",
       "                      'neg_root_mean_squared_error'])"
      ]
     },
     "execution_count": 164,
     "metadata": {},
     "output_type": "execute_result"
    }
   ],
   "source": [
    "CV_knn_en = GridSearchCV(estimator=KNeighborsRegressor(), param_grid=knn_param_grid, cv= 6,scoring=['r2','neg_mean_absolute_error','neg_root_mean_squared_error'],refit='r2')\n",
    "CV_knn_en.fit(X_train, y2_train)"
   ]
  },
  {
   "cell_type": "code",
   "execution_count": 165,
   "metadata": {},
   "outputs": [
    {
     "data": {
      "text/plain": [
       "0.45639760724407524"
      ]
     },
     "execution_count": 165,
     "metadata": {},
     "output_type": "execute_result"
    }
   ],
   "source": [
    "CV_knn_en.best_score_"
   ]
  },
  {
   "cell_type": "code",
   "execution_count": 166,
   "metadata": {},
   "outputs": [
    {
     "name": "stdout",
     "output_type": "stream",
     "text": [
      "Score - training data: 45.5 %\n",
      "Score - test data: 50.0 %\n"
     ]
    }
   ],
   "source": [
    "print(f\"Score - training data: {round(CV_knn_en.score(X_train,y2_train)*100,1)} %\")\n",
    "print(f\"Score - test data: {round(CV_knn_en.score(X_test,y2_test)*100,1)} %\")"
   ]
  },
  {
   "cell_type": "markdown",
   "metadata": {},
   "source": [
    "### - XGBoost"
   ]
  },
  {
   "cell_type": "code",
   "execution_count": 167,
   "metadata": {},
   "outputs": [
    {
     "data": {
      "text/plain": [
       "GridSearchCV(cv=5, estimator=GradientBoostingRegressor(),\n",
       "             param_grid={'max_depth': [4, 8, 16, 32, 64],\n",
       "                         'max_features': ['auto', 'sqrt', 'log2'],\n",
       "                         'n_estimators': [100, 200, 300, 400, 500],\n",
       "                         'random_state': [12]},\n",
       "             refit='r2',\n",
       "             scoring=['r2', 'neg_mean_absolute_error',\n",
       "                      'neg_root_mean_squared_error'])"
      ]
     },
     "execution_count": 167,
     "metadata": {},
     "output_type": "execute_result"
    }
   ],
   "source": [
    "CV_xgboost_en = GridSearchCV(estimator=GradientBoostingRegressor(), param_grid=xgboost_param_grid, cv= 5,scoring=['r2','neg_mean_absolute_error','neg_root_mean_squared_error'],refit='r2')\n",
    "CV_xgboost_en.fit(X_train, y2_train)"
   ]
  },
  {
   "cell_type": "code",
   "execution_count": 168,
   "metadata": {},
   "outputs": [
    {
     "data": {
      "text/plain": [
       "0.6412370567388679"
      ]
     },
     "execution_count": 168,
     "metadata": {},
     "output_type": "execute_result"
    }
   ],
   "source": [
    "CV_xgboost_en.best_score_"
   ]
  },
  {
   "cell_type": "code",
   "execution_count": 173,
   "metadata": {},
   "outputs": [
    {
     "data": {
      "text/plain": [
       "{'mean_fit_time': array([0.19885502, 0.40000105, 0.60337219, 0.81783872, 0.97452526,\n",
       "        0.05336986, 0.10668206, 0.15393138, 0.20610719, 0.2636899 ,\n",
       "        0.05275455, 0.11032085, 0.15904613, 0.20426331, 0.26663671,\n",
       "        0.36943932, 0.7331367 , 1.13253579, 1.43941975, 1.92149224,\n",
       "        0.0870059 , 0.19125934, 0.28202748, 0.38332911, 0.4131453 ,\n",
       "        0.09280605, 0.19961066, 0.25110173, 0.34834847, 0.46812377,\n",
       "        0.61890264, 1.24858789, 1.79568639, 2.35790553, 2.969315  ,\n",
       "        0.14005876, 0.27868366, 0.43506198, 0.57677774, 0.73196673,\n",
       "        0.14047961, 0.28314209, 0.42334566, 0.56726785, 0.70273061,\n",
       "        0.70970268, 1.42321773, 2.12031446, 2.30811706, 2.40046873,\n",
       "        0.18105831, 0.36273556, 0.54414921, 0.60195508, 0.63958421,\n",
       "        0.18058686, 0.36334176, 0.53909388, 0.59768815, 0.63970919,\n",
       "        0.70738807, 1.41465116, 2.11713309, 2.30773044, 2.39159408,\n",
       "        0.18294702, 0.36254888, 0.53886232, 0.59887724, 0.6356565 ,\n",
       "        0.18478971, 0.36015005, 0.54888902, 0.59671645, 0.64044924]),\n",
       " 'std_fit_time': array([0.00550099, 0.0174903 , 0.00655513, 0.0283452 , 0.01392426,\n",
       "        0.00287103, 0.00379222, 0.00474407, 0.00486135, 0.01029815,\n",
       "        0.00117248, 0.00601438, 0.00435793, 0.00431889, 0.00867446,\n",
       "        0.0062214 , 0.00415587, 0.02948606, 0.01430818, 0.0335109 ,\n",
       "        0.00267212, 0.02074418, 0.00735942, 0.05057612, 0.04659299,\n",
       "        0.00632924, 0.02200306, 0.01164837, 0.04574576, 0.03839281,\n",
       "        0.04247195, 0.05020759, 0.04676302, 0.02099537, 0.01729728,\n",
       "        0.00174765, 0.00353371, 0.01672652, 0.01868539, 0.03023694,\n",
       "        0.00103247, 0.00128201, 0.00269315, 0.00579769, 0.00699698,\n",
       "        0.00873155, 0.0321134 , 0.02711345, 0.0579298 , 0.03539588,\n",
       "        0.00161681, 0.0049627 , 0.00647328, 0.00692674, 0.0080321 ,\n",
       "        0.00335549, 0.00607881, 0.00634919, 0.01165223, 0.00264465,\n",
       "        0.0049951 , 0.01561867, 0.02680876, 0.03518214, 0.0455522 ,\n",
       "        0.00373369, 0.00848438, 0.00635003, 0.00939118, 0.00539853,\n",
       "        0.00644274, 0.00434682, 0.00572694, 0.00669914, 0.00806959]),\n",
       " 'mean_score_time': array([0.00248981, 0.0033814 , 0.00391512, 0.0034627 , 0.00423751,\n",
       "        0.00299153, 0.00408649, 0.00354414, 0.00393248, 0.00510435,\n",
       "        0.00285702, 0.00319567, 0.00321236, 0.00419941, 0.00477023,\n",
       "        0.00300136, 0.00488882, 0.00514436, 0.00658364, 0.00775571,\n",
       "        0.00359721, 0.00454898, 0.00606451, 0.00708957, 0.00760055,\n",
       "        0.00360928, 0.00480342, 0.00591869, 0.00628071, 0.0100368 ,\n",
       "        0.00562401, 0.00732355, 0.00877099, 0.01047668, 0.01322451,\n",
       "        0.00450644, 0.00689583, 0.00994754, 0.01345177, 0.015554  ,\n",
       "        0.0047277 , 0.00658574, 0.01050811, 0.01263552, 0.01519275,\n",
       "        0.00575099, 0.00961528, 0.01149964, 0.01393633, 0.01356559,\n",
       "        0.00590777, 0.00881267, 0.01212077, 0.01382098, 0.01428437,\n",
       "        0.005476  , 0.00871906, 0.01219993, 0.01261506, 0.01436911,\n",
       "        0.00516109, 0.00960946, 0.01302857, 0.01345592, 0.01366129,\n",
       "        0.00604439, 0.00968857, 0.01262026, 0.01240029, 0.01463671,\n",
       "        0.00597568, 0.00911145, 0.0126297 , 0.01331096, 0.01354437]),\n",
       " 'std_score_time': array([0.00065123, 0.00047025, 0.00052595, 0.00043408, 0.00124363,\n",
       "        0.00109167, 0.00199954, 0.00045637, 0.0006367 , 0.00103714,\n",
       "        0.00125001, 0.00074116, 0.00039093, 0.00054313, 0.00086669,\n",
       "        0.00089098, 0.00067969, 0.00068662, 0.00095676, 0.0011552 ,\n",
       "        0.00051032, 0.00113457, 0.00083085, 0.00114665, 0.00055481,\n",
       "        0.0007812 , 0.00130861, 0.00064312, 0.00065551, 0.00109174,\n",
       "        0.00122358, 0.00149664, 0.00072623, 0.00095027, 0.00035985,\n",
       "        0.00065763, 0.00093951, 0.00088761, 0.00231261, 0.0009555 ,\n",
       "        0.0003725 , 0.00039383, 0.000602  , 0.00091908, 0.00097168,\n",
       "        0.00095401, 0.00083925, 0.00047745, 0.00136429, 0.00115794,\n",
       "        0.00051421, 0.00069877, 0.00101721, 0.0008831 , 0.00098925,\n",
       "        0.00044669, 0.00064085, 0.00083624, 0.0012246 , 0.00118283,\n",
       "        0.00019657, 0.00048813, 0.00121946, 0.0014506 , 0.00159325,\n",
       "        0.00051505, 0.00109893, 0.00087243, 0.00082428, 0.00190266,\n",
       "        0.00090339, 0.0008391 , 0.00111541, 0.00134355, 0.00055969]),\n",
       " 'param_max_depth': masked_array(data=[4, 4, 4, 4, 4, 4, 4, 4, 4, 4, 4, 4, 4, 4, 4, 8, 8, 8,\n",
       "                    8, 8, 8, 8, 8, 8, 8, 8, 8, 8, 8, 8, 16, 16, 16, 16, 16,\n",
       "                    16, 16, 16, 16, 16, 16, 16, 16, 16, 16, 32, 32, 32, 32,\n",
       "                    32, 32, 32, 32, 32, 32, 32, 32, 32, 32, 32, 64, 64, 64,\n",
       "                    64, 64, 64, 64, 64, 64, 64, 64, 64, 64, 64, 64],\n",
       "              mask=[False, False, False, False, False, False, False, False,\n",
       "                    False, False, False, False, False, False, False, False,\n",
       "                    False, False, False, False, False, False, False, False,\n",
       "                    False, False, False, False, False, False, False, False,\n",
       "                    False, False, False, False, False, False, False, False,\n",
       "                    False, False, False, False, False, False, False, False,\n",
       "                    False, False, False, False, False, False, False, False,\n",
       "                    False, False, False, False, False, False, False, False,\n",
       "                    False, False, False, False, False, False, False, False,\n",
       "                    False, False, False],\n",
       "        fill_value='?',\n",
       "             dtype=object),\n",
       " 'param_max_features': masked_array(data=['auto', 'auto', 'auto', 'auto', 'auto', 'sqrt', 'sqrt',\n",
       "                    'sqrt', 'sqrt', 'sqrt', 'log2', 'log2', 'log2', 'log2',\n",
       "                    'log2', 'auto', 'auto', 'auto', 'auto', 'auto', 'sqrt',\n",
       "                    'sqrt', 'sqrt', 'sqrt', 'sqrt', 'log2', 'log2', 'log2',\n",
       "                    'log2', 'log2', 'auto', 'auto', 'auto', 'auto', 'auto',\n",
       "                    'sqrt', 'sqrt', 'sqrt', 'sqrt', 'sqrt', 'log2', 'log2',\n",
       "                    'log2', 'log2', 'log2', 'auto', 'auto', 'auto', 'auto',\n",
       "                    'auto', 'sqrt', 'sqrt', 'sqrt', 'sqrt', 'sqrt', 'log2',\n",
       "                    'log2', 'log2', 'log2', 'log2', 'auto', 'auto', 'auto',\n",
       "                    'auto', 'auto', 'sqrt', 'sqrt', 'sqrt', 'sqrt', 'sqrt',\n",
       "                    'log2', 'log2', 'log2', 'log2', 'log2'],\n",
       "              mask=[False, False, False, False, False, False, False, False,\n",
       "                    False, False, False, False, False, False, False, False,\n",
       "                    False, False, False, False, False, False, False, False,\n",
       "                    False, False, False, False, False, False, False, False,\n",
       "                    False, False, False, False, False, False, False, False,\n",
       "                    False, False, False, False, False, False, False, False,\n",
       "                    False, False, False, False, False, False, False, False,\n",
       "                    False, False, False, False, False, False, False, False,\n",
       "                    False, False, False, False, False, False, False, False,\n",
       "                    False, False, False],\n",
       "        fill_value='?',\n",
       "             dtype=object),\n",
       " 'param_n_estimators': masked_array(data=[100, 200, 300, 400, 500, 100, 200, 300, 400, 500, 100,\n",
       "                    200, 300, 400, 500, 100, 200, 300, 400, 500, 100, 200,\n",
       "                    300, 400, 500, 100, 200, 300, 400, 500, 100, 200, 300,\n",
       "                    400, 500, 100, 200, 300, 400, 500, 100, 200, 300, 400,\n",
       "                    500, 100, 200, 300, 400, 500, 100, 200, 300, 400, 500,\n",
       "                    100, 200, 300, 400, 500, 100, 200, 300, 400, 500, 100,\n",
       "                    200, 300, 400, 500, 100, 200, 300, 400, 500],\n",
       "              mask=[False, False, False, False, False, False, False, False,\n",
       "                    False, False, False, False, False, False, False, False,\n",
       "                    False, False, False, False, False, False, False, False,\n",
       "                    False, False, False, False, False, False, False, False,\n",
       "                    False, False, False, False, False, False, False, False,\n",
       "                    False, False, False, False, False, False, False, False,\n",
       "                    False, False, False, False, False, False, False, False,\n",
       "                    False, False, False, False, False, False, False, False,\n",
       "                    False, False, False, False, False, False, False, False,\n",
       "                    False, False, False],\n",
       "        fill_value='?',\n",
       "             dtype=object),\n",
       " 'param_random_state': masked_array(data=[12, 12, 12, 12, 12, 12, 12, 12, 12, 12, 12, 12, 12, 12,\n",
       "                    12, 12, 12, 12, 12, 12, 12, 12, 12, 12, 12, 12, 12, 12,\n",
       "                    12, 12, 12, 12, 12, 12, 12, 12, 12, 12, 12, 12, 12, 12,\n",
       "                    12, 12, 12, 12, 12, 12, 12, 12, 12, 12, 12, 12, 12, 12,\n",
       "                    12, 12, 12, 12, 12, 12, 12, 12, 12, 12, 12, 12, 12, 12,\n",
       "                    12, 12, 12, 12, 12],\n",
       "              mask=[False, False, False, False, False, False, False, False,\n",
       "                    False, False, False, False, False, False, False, False,\n",
       "                    False, False, False, False, False, False, False, False,\n",
       "                    False, False, False, False, False, False, False, False,\n",
       "                    False, False, False, False, False, False, False, False,\n",
       "                    False, False, False, False, False, False, False, False,\n",
       "                    False, False, False, False, False, False, False, False,\n",
       "                    False, False, False, False, False, False, False, False,\n",
       "                    False, False, False, False, False, False, False, False,\n",
       "                    False, False, False],\n",
       "        fill_value='?',\n",
       "             dtype=object),\n",
       " 'params': [{'max_depth': 4,\n",
       "   'max_features': 'auto',\n",
       "   'n_estimators': 100,\n",
       "   'random_state': 12},\n",
       "  {'max_depth': 4,\n",
       "   'max_features': 'auto',\n",
       "   'n_estimators': 200,\n",
       "   'random_state': 12},\n",
       "  {'max_depth': 4,\n",
       "   'max_features': 'auto',\n",
       "   'n_estimators': 300,\n",
       "   'random_state': 12},\n",
       "  {'max_depth': 4,\n",
       "   'max_features': 'auto',\n",
       "   'n_estimators': 400,\n",
       "   'random_state': 12},\n",
       "  {'max_depth': 4,\n",
       "   'max_features': 'auto',\n",
       "   'n_estimators': 500,\n",
       "   'random_state': 12},\n",
       "  {'max_depth': 4,\n",
       "   'max_features': 'sqrt',\n",
       "   'n_estimators': 100,\n",
       "   'random_state': 12},\n",
       "  {'max_depth': 4,\n",
       "   'max_features': 'sqrt',\n",
       "   'n_estimators': 200,\n",
       "   'random_state': 12},\n",
       "  {'max_depth': 4,\n",
       "   'max_features': 'sqrt',\n",
       "   'n_estimators': 300,\n",
       "   'random_state': 12},\n",
       "  {'max_depth': 4,\n",
       "   'max_features': 'sqrt',\n",
       "   'n_estimators': 400,\n",
       "   'random_state': 12},\n",
       "  {'max_depth': 4,\n",
       "   'max_features': 'sqrt',\n",
       "   'n_estimators': 500,\n",
       "   'random_state': 12},\n",
       "  {'max_depth': 4,\n",
       "   'max_features': 'log2',\n",
       "   'n_estimators': 100,\n",
       "   'random_state': 12},\n",
       "  {'max_depth': 4,\n",
       "   'max_features': 'log2',\n",
       "   'n_estimators': 200,\n",
       "   'random_state': 12},\n",
       "  {'max_depth': 4,\n",
       "   'max_features': 'log2',\n",
       "   'n_estimators': 300,\n",
       "   'random_state': 12},\n",
       "  {'max_depth': 4,\n",
       "   'max_features': 'log2',\n",
       "   'n_estimators': 400,\n",
       "   'random_state': 12},\n",
       "  {'max_depth': 4,\n",
       "   'max_features': 'log2',\n",
       "   'n_estimators': 500,\n",
       "   'random_state': 12},\n",
       "  {'max_depth': 8,\n",
       "   'max_features': 'auto',\n",
       "   'n_estimators': 100,\n",
       "   'random_state': 12},\n",
       "  {'max_depth': 8,\n",
       "   'max_features': 'auto',\n",
       "   'n_estimators': 200,\n",
       "   'random_state': 12},\n",
       "  {'max_depth': 8,\n",
       "   'max_features': 'auto',\n",
       "   'n_estimators': 300,\n",
       "   'random_state': 12},\n",
       "  {'max_depth': 8,\n",
       "   'max_features': 'auto',\n",
       "   'n_estimators': 400,\n",
       "   'random_state': 12},\n",
       "  {'max_depth': 8,\n",
       "   'max_features': 'auto',\n",
       "   'n_estimators': 500,\n",
       "   'random_state': 12},\n",
       "  {'max_depth': 8,\n",
       "   'max_features': 'sqrt',\n",
       "   'n_estimators': 100,\n",
       "   'random_state': 12},\n",
       "  {'max_depth': 8,\n",
       "   'max_features': 'sqrt',\n",
       "   'n_estimators': 200,\n",
       "   'random_state': 12},\n",
       "  {'max_depth': 8,\n",
       "   'max_features': 'sqrt',\n",
       "   'n_estimators': 300,\n",
       "   'random_state': 12},\n",
       "  {'max_depth': 8,\n",
       "   'max_features': 'sqrt',\n",
       "   'n_estimators': 400,\n",
       "   'random_state': 12},\n",
       "  {'max_depth': 8,\n",
       "   'max_features': 'sqrt',\n",
       "   'n_estimators': 500,\n",
       "   'random_state': 12},\n",
       "  {'max_depth': 8,\n",
       "   'max_features': 'log2',\n",
       "   'n_estimators': 100,\n",
       "   'random_state': 12},\n",
       "  {'max_depth': 8,\n",
       "   'max_features': 'log2',\n",
       "   'n_estimators': 200,\n",
       "   'random_state': 12},\n",
       "  {'max_depth': 8,\n",
       "   'max_features': 'log2',\n",
       "   'n_estimators': 300,\n",
       "   'random_state': 12},\n",
       "  {'max_depth': 8,\n",
       "   'max_features': 'log2',\n",
       "   'n_estimators': 400,\n",
       "   'random_state': 12},\n",
       "  {'max_depth': 8,\n",
       "   'max_features': 'log2',\n",
       "   'n_estimators': 500,\n",
       "   'random_state': 12},\n",
       "  {'max_depth': 16,\n",
       "   'max_features': 'auto',\n",
       "   'n_estimators': 100,\n",
       "   'random_state': 12},\n",
       "  {'max_depth': 16,\n",
       "   'max_features': 'auto',\n",
       "   'n_estimators': 200,\n",
       "   'random_state': 12},\n",
       "  {'max_depth': 16,\n",
       "   'max_features': 'auto',\n",
       "   'n_estimators': 300,\n",
       "   'random_state': 12},\n",
       "  {'max_depth': 16,\n",
       "   'max_features': 'auto',\n",
       "   'n_estimators': 400,\n",
       "   'random_state': 12},\n",
       "  {'max_depth': 16,\n",
       "   'max_features': 'auto',\n",
       "   'n_estimators': 500,\n",
       "   'random_state': 12},\n",
       "  {'max_depth': 16,\n",
       "   'max_features': 'sqrt',\n",
       "   'n_estimators': 100,\n",
       "   'random_state': 12},\n",
       "  {'max_depth': 16,\n",
       "   'max_features': 'sqrt',\n",
       "   'n_estimators': 200,\n",
       "   'random_state': 12},\n",
       "  {'max_depth': 16,\n",
       "   'max_features': 'sqrt',\n",
       "   'n_estimators': 300,\n",
       "   'random_state': 12},\n",
       "  {'max_depth': 16,\n",
       "   'max_features': 'sqrt',\n",
       "   'n_estimators': 400,\n",
       "   'random_state': 12},\n",
       "  {'max_depth': 16,\n",
       "   'max_features': 'sqrt',\n",
       "   'n_estimators': 500,\n",
       "   'random_state': 12},\n",
       "  {'max_depth': 16,\n",
       "   'max_features': 'log2',\n",
       "   'n_estimators': 100,\n",
       "   'random_state': 12},\n",
       "  {'max_depth': 16,\n",
       "   'max_features': 'log2',\n",
       "   'n_estimators': 200,\n",
       "   'random_state': 12},\n",
       "  {'max_depth': 16,\n",
       "   'max_features': 'log2',\n",
       "   'n_estimators': 300,\n",
       "   'random_state': 12},\n",
       "  {'max_depth': 16,\n",
       "   'max_features': 'log2',\n",
       "   'n_estimators': 400,\n",
       "   'random_state': 12},\n",
       "  {'max_depth': 16,\n",
       "   'max_features': 'log2',\n",
       "   'n_estimators': 500,\n",
       "   'random_state': 12},\n",
       "  {'max_depth': 32,\n",
       "   'max_features': 'auto',\n",
       "   'n_estimators': 100,\n",
       "   'random_state': 12},\n",
       "  {'max_depth': 32,\n",
       "   'max_features': 'auto',\n",
       "   'n_estimators': 200,\n",
       "   'random_state': 12},\n",
       "  {'max_depth': 32,\n",
       "   'max_features': 'auto',\n",
       "   'n_estimators': 300,\n",
       "   'random_state': 12},\n",
       "  {'max_depth': 32,\n",
       "   'max_features': 'auto',\n",
       "   'n_estimators': 400,\n",
       "   'random_state': 12},\n",
       "  {'max_depth': 32,\n",
       "   'max_features': 'auto',\n",
       "   'n_estimators': 500,\n",
       "   'random_state': 12},\n",
       "  {'max_depth': 32,\n",
       "   'max_features': 'sqrt',\n",
       "   'n_estimators': 100,\n",
       "   'random_state': 12},\n",
       "  {'max_depth': 32,\n",
       "   'max_features': 'sqrt',\n",
       "   'n_estimators': 200,\n",
       "   'random_state': 12},\n",
       "  {'max_depth': 32,\n",
       "   'max_features': 'sqrt',\n",
       "   'n_estimators': 300,\n",
       "   'random_state': 12},\n",
       "  {'max_depth': 32,\n",
       "   'max_features': 'sqrt',\n",
       "   'n_estimators': 400,\n",
       "   'random_state': 12},\n",
       "  {'max_depth': 32,\n",
       "   'max_features': 'sqrt',\n",
       "   'n_estimators': 500,\n",
       "   'random_state': 12},\n",
       "  {'max_depth': 32,\n",
       "   'max_features': 'log2',\n",
       "   'n_estimators': 100,\n",
       "   'random_state': 12},\n",
       "  {'max_depth': 32,\n",
       "   'max_features': 'log2',\n",
       "   'n_estimators': 200,\n",
       "   'random_state': 12},\n",
       "  {'max_depth': 32,\n",
       "   'max_features': 'log2',\n",
       "   'n_estimators': 300,\n",
       "   'random_state': 12},\n",
       "  {'max_depth': 32,\n",
       "   'max_features': 'log2',\n",
       "   'n_estimators': 400,\n",
       "   'random_state': 12},\n",
       "  {'max_depth': 32,\n",
       "   'max_features': 'log2',\n",
       "   'n_estimators': 500,\n",
       "   'random_state': 12},\n",
       "  {'max_depth': 64,\n",
       "   'max_features': 'auto',\n",
       "   'n_estimators': 100,\n",
       "   'random_state': 12},\n",
       "  {'max_depth': 64,\n",
       "   'max_features': 'auto',\n",
       "   'n_estimators': 200,\n",
       "   'random_state': 12},\n",
       "  {'max_depth': 64,\n",
       "   'max_features': 'auto',\n",
       "   'n_estimators': 300,\n",
       "   'random_state': 12},\n",
       "  {'max_depth': 64,\n",
       "   'max_features': 'auto',\n",
       "   'n_estimators': 400,\n",
       "   'random_state': 12},\n",
       "  {'max_depth': 64,\n",
       "   'max_features': 'auto',\n",
       "   'n_estimators': 500,\n",
       "   'random_state': 12},\n",
       "  {'max_depth': 64,\n",
       "   'max_features': 'sqrt',\n",
       "   'n_estimators': 100,\n",
       "   'random_state': 12},\n",
       "  {'max_depth': 64,\n",
       "   'max_features': 'sqrt',\n",
       "   'n_estimators': 200,\n",
       "   'random_state': 12},\n",
       "  {'max_depth': 64,\n",
       "   'max_features': 'sqrt',\n",
       "   'n_estimators': 300,\n",
       "   'random_state': 12},\n",
       "  {'max_depth': 64,\n",
       "   'max_features': 'sqrt',\n",
       "   'n_estimators': 400,\n",
       "   'random_state': 12},\n",
       "  {'max_depth': 64,\n",
       "   'max_features': 'sqrt',\n",
       "   'n_estimators': 500,\n",
       "   'random_state': 12},\n",
       "  {'max_depth': 64,\n",
       "   'max_features': 'log2',\n",
       "   'n_estimators': 100,\n",
       "   'random_state': 12},\n",
       "  {'max_depth': 64,\n",
       "   'max_features': 'log2',\n",
       "   'n_estimators': 200,\n",
       "   'random_state': 12},\n",
       "  {'max_depth': 64,\n",
       "   'max_features': 'log2',\n",
       "   'n_estimators': 300,\n",
       "   'random_state': 12},\n",
       "  {'max_depth': 64,\n",
       "   'max_features': 'log2',\n",
       "   'n_estimators': 400,\n",
       "   'random_state': 12},\n",
       "  {'max_depth': 64,\n",
       "   'max_features': 'log2',\n",
       "   'n_estimators': 500,\n",
       "   'random_state': 12}],\n",
       " 'split0_test_r2': array([0.87010217, 0.87099953, 0.87051242, 0.87039602, 0.87030307,\n",
       "        0.83287331, 0.83764927, 0.83977268, 0.84043966, 0.84031161,\n",
       "        0.83287331, 0.83764927, 0.83977268, 0.84043966, 0.84031161,\n",
       "        0.81035603, 0.81062278, 0.81066447, 0.81069753, 0.81070314,\n",
       "        0.73663213, 0.73764487, 0.73759479, 0.73760225, 0.73760908,\n",
       "        0.73663213, 0.73764487, 0.73759479, 0.73760225, 0.73760908,\n",
       "        0.7571096 , 0.75711754, 0.75711755, 0.75711755, 0.75711755,\n",
       "        0.7216436 , 0.72165855, 0.72165855, 0.72165855, 0.72165855,\n",
       "        0.7216436 , 0.72165855, 0.72165855, 0.72165855, 0.72165855,\n",
       "        0.7957941 , 0.79579439, 0.79579439, 0.79579439, 0.79579439,\n",
       "        0.76829986, 0.76830463, 0.76830463, 0.76830463, 0.76830463,\n",
       "        0.76829986, 0.76830463, 0.76830463, 0.76830463, 0.76830463,\n",
       "        0.76896186, 0.76896494, 0.76896494, 0.76896494, 0.76896494,\n",
       "        0.72664968, 0.72665682, 0.72665682, 0.72665682, 0.72665682,\n",
       "        0.72664968, 0.72665682, 0.72665682, 0.72665682, 0.72665682]),\n",
       " 'split1_test_r2': array([0.27082403, 0.27275727, 0.27275736, 0.2711449 , 0.27394969,\n",
       "        0.55939539, 0.56374719, 0.56568047, 0.5623213 , 0.56110196,\n",
       "        0.55939539, 0.56374719, 0.56568047, 0.5623213 , 0.56110196,\n",
       "        0.26352215, 0.26386932, 0.26435344, 0.26437377, 0.26434175,\n",
       "        0.54014457, 0.54141737, 0.54109017, 0.54109934, 0.54110568,\n",
       "        0.54014457, 0.54141737, 0.54109017, 0.54109934, 0.54110568,\n",
       "        0.22186465, 0.22189034, 0.22188989, 0.22188988, 0.22188988,\n",
       "        0.53040537, 0.5303958 , 0.5303958 , 0.5303958 , 0.5303958 ,\n",
       "        0.53040537, 0.5303958 , 0.5303958 , 0.5303958 , 0.5303958 ,\n",
       "        0.17554567, 0.17553018, 0.17553018, 0.17553018, 0.17553018,\n",
       "        0.47894629, 0.47894733, 0.47894733, 0.47894733, 0.47894733,\n",
       "        0.47894629, 0.47894733, 0.47894733, 0.47894733, 0.47894733,\n",
       "        0.17554567, 0.17553018, 0.17553018, 0.17553018, 0.17553018,\n",
       "        0.51431099, 0.51431087, 0.51431087, 0.51431087, 0.51431087,\n",
       "        0.51431099, 0.51431087, 0.51431087, 0.51431087, 0.51431087]),\n",
       " 'split2_test_r2': array([0.38595547, 0.38036038, 0.37635129, 0.37480711, 0.37515321,\n",
       "        0.37638094, 0.38498144, 0.38661665, 0.391384  , 0.39240102,\n",
       "        0.37638094, 0.38498144, 0.38661665, 0.391384  , 0.39240102,\n",
       "        0.36183779, 0.36123837, 0.36114597, 0.36115403, 0.36114376,\n",
       "        0.39130061, 0.39135828, 0.39158581, 0.39155278, 0.39155368,\n",
       "        0.39130061, 0.39135828, 0.39158581, 0.39155278, 0.39155368,\n",
       "        0.37799758, 0.37800207, 0.3780021 , 0.3780021 , 0.3780021 ,\n",
       "        0.39385151, 0.39385382, 0.39385383, 0.39385383, 0.39385383,\n",
       "        0.39385151, 0.39385382, 0.39385383, 0.39385383, 0.39385383,\n",
       "        0.37870518, 0.37871036, 0.37871036, 0.37871036, 0.37871036,\n",
       "        0.35312025, 0.35312726, 0.35312726, 0.35312726, 0.35312726,\n",
       "        0.35312025, 0.35312726, 0.35312726, 0.35312726, 0.35312726,\n",
       "        0.37870518, 0.37871036, 0.37871036, 0.37871036, 0.37871036,\n",
       "        0.29891004, 0.29891669, 0.29891669, 0.29891669, 0.29891669,\n",
       "        0.29891004, 0.29891669, 0.29891669, 0.29891669, 0.29891669]),\n",
       " 'split3_test_r2': array([0.70368767, 0.70048577, 0.69630549, 0.69299982, 0.69371138,\n",
       "        0.74494623, 0.75412782, 0.74979232, 0.74485907, 0.74184999,\n",
       "        0.74494623, 0.75412782, 0.74979232, 0.74485907, 0.74184999,\n",
       "        0.18741897, 0.18310337, 0.18303822, 0.18304066, 0.18302479,\n",
       "        0.74633269, 0.74361167, 0.74327208, 0.74325062, 0.74324375,\n",
       "        0.74633269, 0.74361167, 0.74327208, 0.74325062, 0.74324375,\n",
       "        0.30214218, 0.30208242, 0.30208238, 0.30208238, 0.30208238,\n",
       "        0.81503513, 0.81501647, 0.81501648, 0.81501648, 0.81501648,\n",
       "        0.81503513, 0.81501647, 0.81501648, 0.81501648, 0.81501648,\n",
       "        0.18141268, 0.18134429, 0.18134429, 0.18134429, 0.18134429,\n",
       "        0.87100794, 0.8710048 , 0.8710048 , 0.8710048 , 0.8710048 ,\n",
       "        0.87100794, 0.8710048 , 0.8710048 , 0.8710048 , 0.8710048 ,\n",
       "        0.18141268, 0.18134429, 0.18134429, 0.18134429, 0.18134429,\n",
       "        0.87823034, 0.87823001, 0.87823001, 0.87823001, 0.87823001,\n",
       "        0.87823034, 0.87823001, 0.87823001, 0.87823001, 0.87823001]),\n",
       " 'split4_test_r2': array([ 0.29278832,  0.29585934,  0.29040374,  0.28785273,  0.2855491 ,\n",
       "         0.65700037,  0.66185834,  0.66432317,  0.6657654 ,  0.66553727,\n",
       "         0.65700037,  0.66185834,  0.66432317,  0.6657654 ,  0.66553727,\n",
       "         0.02417488,  0.02404035,  0.02422498,  0.02424961,  0.02426079,\n",
       "         0.66536199,  0.66569969,  0.665762  ,  0.6657475 ,  0.66574911,\n",
       "         0.66536199,  0.66569969,  0.665762  ,  0.6657475 ,  0.66574911,\n",
       "        -0.04092079, -0.0409203 , -0.04092024, -0.04092024, -0.04092024,\n",
       "         0.62292962,  0.6229399 ,  0.6229399 ,  0.6229399 ,  0.6229399 ,\n",
       "         0.62292962,  0.6229399 ,  0.6229399 ,  0.6229399 ,  0.6229399 ,\n",
       "        -0.08205602, -0.08208968, -0.08208968, -0.08208968, -0.08208968,\n",
       "         0.65257183,  0.65258091,  0.65258091,  0.65258091,  0.65258091,\n",
       "         0.65257183,  0.65258091,  0.65258091,  0.65258091,  0.65258091,\n",
       "        -0.08205602, -0.08208968, -0.08208968, -0.08208968, -0.08208968,\n",
       "         0.62251522,  0.62252832,  0.62252832,  0.62252832,  0.62252832,\n",
       "         0.62251522,  0.62252832,  0.62252832,  0.62252832,  0.62252832]),\n",
       " 'mean_test_r2': array([0.50467153, 0.50409246, 0.50126606, 0.49944011, 0.49973329,\n",
       "        0.63411925, 0.64047281, 0.64123706, 0.64095389, 0.64024037,\n",
       "        0.63411925, 0.64047281, 0.64123706, 0.64095389, 0.64024037,\n",
       "        0.32946196, 0.32857484, 0.32868541, 0.32870312, 0.32869485,\n",
       "        0.6159544 , 0.61594638, 0.61586097, 0.6158505 , 0.61585226,\n",
       "        0.6159544 , 0.61594638, 0.61586097, 0.6158505 , 0.61585226,\n",
       "        0.32363864, 0.32363441, 0.32363434, 0.32363434, 0.32363434,\n",
       "        0.61677304, 0.61677291, 0.61677291, 0.61677291, 0.61677291,\n",
       "        0.61677304, 0.61677291, 0.61677291, 0.61677291, 0.61677291,\n",
       "        0.28988032, 0.28985791, 0.28985791, 0.28985791, 0.28985791,\n",
       "        0.62478923, 0.62479299, 0.62479299, 0.62479299, 0.62479299,\n",
       "        0.62478923, 0.62479299, 0.62479299, 0.62479299, 0.62479299,\n",
       "        0.28451388, 0.28449202, 0.28449202, 0.28449202, 0.28449202,\n",
       "        0.60812326, 0.60812854, 0.60812854, 0.60812854, 0.60812854,\n",
       "        0.60812326, 0.60812854, 0.60812854, 0.60812854, 0.60812854]),\n",
       " 'std_test_r2': array([0.23950767, 0.2389049 , 0.23944356, 0.23978947, 0.23971765,\n",
       "        0.15768452, 0.15710889, 0.15638028, 0.1547092 , 0.15406504,\n",
       "        0.15768452, 0.15710889, 0.15638028, 0.1547092 , 0.15406504,\n",
       "        0.26458714, 0.2651517 , 0.26510578, 0.26511108, 0.2651136 ,\n",
       "        0.13432734, 0.13384971, 0.13374068, 0.13374692, 0.13374596,\n",
       "        0.13432734, 0.13384971, 0.13374068, 0.13374692, 0.13374596,\n",
       "        0.25867957, 0.25868125, 0.25868128, 0.25868128, 0.25868128,\n",
       "        0.14662672, 0.14662433, 0.14662432, 0.14662432, 0.14662432,\n",
       "        0.14662672, 0.14662433, 0.14662432, 0.14662432, 0.14662432,\n",
       "        0.29223719, 0.29225247, 0.29225247, 0.29225247, 0.29225247,\n",
       "        0.18818343, 0.18818143, 0.18818143, 0.18818143, 0.18818143,\n",
       "        0.18818343, 0.18818143, 0.18818143, 0.18818143, 0.18818143,\n",
       "        0.28299797, 0.28301427, 0.28301427, 0.28301427, 0.28301427,\n",
       "        0.19576876, 0.19576764, 0.19576764, 0.19576764, 0.19576764,\n",
       "        0.19576876, 0.19576764, 0.19576764, 0.19576764, 0.19576764]),\n",
       " 'rank_test_r2': array([51, 52, 53, 55, 54,  9,  5,  1,  3,  7,  9,  5,  1,  3,  7, 56, 60,\n",
       "        59, 57, 58, 31, 33, 35, 39, 37, 31, 33, 35, 39, 37, 61, 62, 63, 65,\n",
       "        64, 21, 29, 23, 25, 27, 21, 29, 23, 25, 27, 66, 67, 68, 69, 70, 19,\n",
       "        17, 15, 13, 11, 19, 17, 15, 13, 11, 71, 72, 73, 74, 75, 49, 47, 45,\n",
       "        43, 41, 49, 47, 45, 43, 41]),\n",
       " 'split0_test_neg_mean_absolute_error': array([-3522743.06906395, -3591729.09060488, -3635117.50262595,\n",
       "        -3682800.76230222, -3697967.66241425, -4051305.29367599,\n",
       "        -3999861.38156356, -3992708.53504934, -4004951.93003458,\n",
       "        -4044980.17031595, -4051305.29367599, -3999861.38156356,\n",
       "        -3992708.53504934, -4004951.93003458, -4044980.17031595,\n",
       "        -4209291.95881005, -4236875.18688502, -4241780.44442618,\n",
       "        -4242504.99315628, -4242349.93597928, -4141662.50675682,\n",
       "        -4161004.11086849, -4162674.59238158, -4162912.90375936,\n",
       "        -4163096.59931984, -4141662.50675682, -4161004.11086849,\n",
       "        -4162674.59238158, -4162912.90375936, -4163096.59931984,\n",
       "        -4748815.29329105, -4748798.31883175, -4748798.58741152,\n",
       "        -4748798.60916779, -4748798.6094795 , -4320400.50649685,\n",
       "        -4321042.22173537, -4321042.37459168, -4321042.37537906,\n",
       "        -4321042.3753804 , -4320400.50649685, -4321042.22173537,\n",
       "        -4321042.37459168, -4321042.37537906, -4321042.3753804 ,\n",
       "        -4888456.74105559, -4888488.77007759, -4888488.7708835 ,\n",
       "        -4888488.77088351, -4888488.77088351, -4340134.18031518,\n",
       "        -4340101.41870616, -4340101.41778108, -4340101.41778105,\n",
       "        -4340101.41778106, -4340134.18031518, -4340101.41870616,\n",
       "        -4340101.41778108, -4340101.41778105, -4340101.41778106,\n",
       "        -5018852.95606057, -5018880.14075124, -5018880.14155574,\n",
       "        -5018880.14155574, -5018880.14155574, -4623957.09660368,\n",
       "        -4623914.75141109, -4623914.75038781, -4623914.75038778,\n",
       "        -4623914.75038779, -4623957.09660368, -4623914.75141109,\n",
       "        -4623914.75038781, -4623914.75038778, -4623914.75038779]),\n",
       " 'split1_test_neg_mean_absolute_error': array([-4732360.5012695 , -4692769.02178461, -4722855.78993711,\n",
       "        -4743705.86263448, -4748279.09980054, -4286524.47119984,\n",
       "        -4259538.15508837, -4275671.75042223, -4292930.9839398 ,\n",
       "        -4321919.38717705, -4286524.47119984, -4259538.15508837,\n",
       "        -4275671.75042223, -4292930.9839398 , -4321919.38717705,\n",
       "        -4584805.78134439, -4601330.47625395, -4608120.77379762,\n",
       "        -4609875.72284694, -4609665.26683271, -4346896.13051575,\n",
       "        -4337984.93884325, -4344582.46381467, -4345905.70207828,\n",
       "        -4345621.79780762, -4346896.13051575, -4337984.93884325,\n",
       "        -4344582.46381467, -4345905.70207828, -4345621.79780762,\n",
       "        -4844564.5345825 , -4844377.59438665, -4844378.57538514,\n",
       "        -4844378.58183095, -4844378.58175755, -4543168.94711282,\n",
       "        -4543209.53387629, -4543209.8446491 , -4543209.84465094,\n",
       "        -4543209.84465163, -4543168.94711282, -4543209.53387629,\n",
       "        -4543209.8446491 , -4543209.84465094, -4543209.84465163,\n",
       "        -5256811.18596756, -5256845.50257871, -5256845.50344727,\n",
       "        -5256845.50344728, -5256845.50344728, -4610938.36718162,\n",
       "        -4610946.8624756 , -4610946.86295409, -4610946.86295411,\n",
       "        -4610946.86295411, -4610938.36718162, -4610946.8624756 ,\n",
       "        -4610946.86295409, -4610946.86295411, -4610946.86295411,\n",
       "        -5256811.18596756, -5256845.50257871, -5256845.50344727,\n",
       "        -5256845.50344728, -5256845.50344728, -4565835.30139866,\n",
       "        -4565820.31414448, -4565820.31402314, -4565820.31402312,\n",
       "        -4565820.31402312, -4565835.30139866, -4565820.31414448,\n",
       "        -4565820.31402314, -4565820.31402312, -4565820.31402312]),\n",
       " 'split2_test_neg_mean_absolute_error': array([-4760013.34352149, -4788891.85863843, -4836654.85295283,\n",
       "        -4858487.40905448, -4849863.74684875, -4883568.07569496,\n",
       "        -4855574.31026265, -4855463.19211497, -4860212.61426135,\n",
       "        -4854664.1425092 , -4883568.07569496, -4855574.31026265,\n",
       "        -4855463.19211497, -4860212.61426135, -4854664.1425092 ,\n",
       "        -5038425.94299388, -5048211.61048333, -5052570.10570879,\n",
       "        -5053265.49921255, -5053530.85817014, -4675618.36350456,\n",
       "        -4670930.84352708, -4673800.18965073, -4674948.91240333,\n",
       "        -4675366.36575845, -4675618.36350456, -4670930.84352708,\n",
       "        -4673800.18965073, -4674948.91240333, -4675366.36575845,\n",
       "        -5533850.20728017, -5533899.85242817, -5533900.53524068,\n",
       "        -5533900.55518465, -5533900.55530807, -4795418.17865636,\n",
       "        -4795583.53950251, -4795583.67058172, -4795583.67022886,\n",
       "        -4795583.67022967, -4795418.17865636, -4795583.53950251,\n",
       "        -4795583.67058172, -4795583.67022886, -4795583.67022967,\n",
       "        -5826858.43729311, -5826893.34079169, -5826893.34173116,\n",
       "        -5826893.34173117, -5826893.34173117, -4956806.71201232,\n",
       "        -4956762.88530302, -4956762.88441724, -4956762.88441721,\n",
       "        -4956762.88441721, -4956806.71201232, -4956762.88530302,\n",
       "        -4956762.88441724, -4956762.88441721, -4956762.88441721,\n",
       "        -5826858.43729311, -5826893.34079169, -5826893.34173116,\n",
       "        -5826893.34173117, -5826893.34173117, -4891151.14808487,\n",
       "        -4891123.59513115, -4891123.59448452, -4891123.5944845 ,\n",
       "        -4891123.59448449, -4891151.14808487, -4891123.59513115,\n",
       "        -4891123.59448452, -4891123.5944845 , -4891123.59448449]),\n",
       " 'split3_test_neg_mean_absolute_error': array([-3082774.88564294, -3139256.6639116 , -3183204.67945418,\n",
       "        -3209851.60336787, -3219634.61208464, -3108224.07962165,\n",
       "        -3050606.10321726, -3081172.35650702, -3100354.02599038,\n",
       "        -3111070.68523534, -3108224.07962165, -3050606.10321726,\n",
       "        -3081172.35650702, -3100354.02599038, -3111070.68523534,\n",
       "        -3560629.24190492, -3585172.90861857, -3587308.90046294,\n",
       "        -3586780.73024597, -3587359.63986181, -2965544.19341871,\n",
       "        -3001467.16964658, -3005968.44027578, -3006813.24387378,\n",
       "        -3007046.0444143 , -2965544.19341871, -3001467.16964658,\n",
       "        -3005968.44027578, -3006813.24387378, -3007046.0444143 ,\n",
       "        -3793978.90127034, -3793984.82123212, -3793985.80720705,\n",
       "        -3793985.81080012, -3793985.81111795, -3036128.65641467,\n",
       "        -3036151.98996927, -3036152.23741723, -3036152.23751276,\n",
       "        -3036152.23751352, -3036128.65641467, -3036151.98996927,\n",
       "        -3036152.23741723, -3036152.23751276, -3036152.23751352,\n",
       "        -4352449.60910463, -4352533.7302604 , -4352533.7323811 ,\n",
       "        -4352533.73238114, -4352533.73238115, -2783093.61110786,\n",
       "        -2783065.11347438, -2783065.11252873, -2783065.11252872,\n",
       "        -2783065.11252872, -2783093.61110786, -2783065.11347438,\n",
       "        -2783065.11252873, -2783065.11252872, -2783065.11252872,\n",
       "        -4352449.60910463, -4352533.7302604 , -4352533.7323811 ,\n",
       "        -4352533.73238114, -4352533.73238115, -2675987.42483108,\n",
       "        -2675962.06415433, -2675962.06349906, -2675962.06349905,\n",
       "        -2675962.06349905, -2675987.42483108, -2675962.06415433,\n",
       "        -2675962.06349906, -2675962.06349905, -2675962.06349905]),\n",
       " 'split4_test_neg_mean_absolute_error': array([-4582525.83347937, -4645055.56326714, -4738534.03010689,\n",
       "        -4751159.86869281, -4771068.95207276, -3926239.21269066,\n",
       "        -3935669.17091771, -3912197.00832905, -3881770.30616089,\n",
       "        -3879376.85714743, -3926239.21269066, -3935669.17091771,\n",
       "        -3912197.00832905, -3881770.30616089, -3879376.85714743,\n",
       "        -4843318.72507983, -4880880.931322  , -4882848.84948286,\n",
       "        -4883458.07388639, -4883840.59098498, -3751249.23226111,\n",
       "        -3796031.41775344, -3801571.67663555, -3803059.81338255,\n",
       "        -3803102.13014998, -3751249.23226111, -3796031.41775344,\n",
       "        -3801571.67663555, -3803059.81338255, -3803102.13014998,\n",
       "        -5244464.78580824, -5244450.10532241, -5244450.71867129,\n",
       "        -5244450.76005519, -5244450.75945326, -3715219.91888671,\n",
       "        -3715227.96938108, -3715227.97072734, -3715227.97123733,\n",
       "        -3715227.97123793, -3715219.91888671, -3715227.96938108,\n",
       "        -3715227.97072734, -3715227.97123733, -3715227.97123793,\n",
       "        -5485223.77994546, -5485283.31566369, -5485283.31718735,\n",
       "        -5485283.31718737, -5485283.31718737, -3803866.61855622,\n",
       "        -3803818.28498239, -3803818.28367645, -3803818.28367641,\n",
       "        -3803818.28367641, -3803866.61855622, -3803818.28498239,\n",
       "        -3803818.28367645, -3803818.28367641, -3803818.28367641,\n",
       "        -5485223.77994546, -5485283.31566369, -5485283.31718735,\n",
       "        -5485283.31718737, -5485283.31718737, -3881328.4468268 ,\n",
       "        -3881267.78223176, -3881267.78046459, -3881267.78046454,\n",
       "        -3881267.78046453, -3881328.4468268 , -3881267.78223176,\n",
       "        -3881267.78046459, -3881267.78046454, -3881267.78046453]),\n",
       " 'mean_test_neg_mean_absolute_error': array([-4136083.52659545, -4171540.43964133, -4223273.37101539,\n",
       "        -4249201.10121037, -4257362.81464419, -4051172.22657662,\n",
       "        -4020249.82420991, -4023442.56848452, -4028043.9720774 ,\n",
       "        -4042402.24847699, -4051172.22657662, -4020249.82420991,\n",
       "        -4023442.56848452, -4028043.9720774 , -4042402.24847699,\n",
       "        -4447294.33002661, -4470494.22271257, -4474525.81477568,\n",
       "        -4475177.00386962, -4475349.25836578, -3976194.08529139,\n",
       "        -3993483.69612777, -3997719.47255166, -3998728.11509946,\n",
       "        -3998846.58749004, -3976194.08529139, -3993483.69612777,\n",
       "        -3997719.47255166, -3998728.11509946, -3998846.58749004,\n",
       "        -4833134.74444646, -4833102.13844022, -4833102.84478314,\n",
       "        -4833102.86340774, -4833102.86342327, -4082067.24151348,\n",
       "        -4082243.0508929 , -4082243.21959341, -4082243.21980179,\n",
       "        -4082243.21980263, -4082067.24151348, -4082243.0508929 ,\n",
       "        -4082243.21959341, -4082243.21980179, -4082243.21980263,\n",
       "        -5161959.95067327, -5162008.93187441, -5162008.93312608,\n",
       "        -5162008.9331261 , -5162008.9331261 , -4098967.89783464,\n",
       "        -4098938.91298831, -4098938.91227152, -4098938.9122715 ,\n",
       "        -4098938.9122715 , -4098967.89783464, -4098938.91298831,\n",
       "        -4098938.91227152, -4098938.9122715 , -4098938.9122715 ,\n",
       "        -5188039.19367426, -5188087.20600914, -5188087.20726052,\n",
       "        -5188087.20726054, -5188087.20726054, -4127651.88354902,\n",
       "        -4127617.70141456, -4127617.70057182, -4127617.7005718 ,\n",
       "        -4127617.7005718 , -4127651.88354902, -4127617.70141456,\n",
       "        -4127617.70057182, -4127617.7005718 , -4127617.7005718 ]),\n",
       " 'std_test_neg_mean_absolute_error': array([697107.0205215 , 675101.41101756, 681026.16560212, 673614.74016394,\n",
       "        670186.97511256, 574984.00189743, 583575.94595035, 575685.88417869,\n",
       "        573621.41555297, 571290.05241001, 574984.00189743, 583575.94595035,\n",
       "        575685.88417869, 573621.41555297, 571290.05241001, 523068.14312642,\n",
       "        521088.1766202 , 521542.86046128, 521997.64157203, 521922.24863695,\n",
       "        587538.51220782, 570747.40895669, 570377.6521152 , 570428.73077878,\n",
       "        570419.90377088, 587538.51220782, 570747.40895669, 570377.6521152 ,\n",
       "        570428.73077878, 570419.90377088, 591148.00839277, 591155.42027761,\n",
       "        591155.31698453, 591155.32561333, 591155.32543791, 633537.93407243,\n",
       "        633620.76558781, 633620.76997994, 633620.76986949, 633620.76986955,\n",
       "        633537.93407243, 633620.76558781, 633620.76997994, 633620.76986949,\n",
       "        633620.76986955, 507089.19460775, 507076.90945575, 507076.90916486,\n",
       "        507076.90916485, 507076.90916485, 758257.51191783, 758260.31193805,\n",
       "        758260.31217327, 758260.31217327, 758260.31217327, 758257.51191783,\n",
       "        758260.31193805, 758260.31217327, 758260.31217327, 758260.31217327,\n",
       "        495574.86378912, 495561.73188529, 495561.73156428, 495561.73156428,\n",
       "        495561.73156428, 798656.32600185, 798657.11206366, 798657.11214676,\n",
       "        798657.11214676, 798657.11214676, 798656.32600185, 798657.11206366,\n",
       "        798657.11214676, 798657.11214676, 798657.11214676]),\n",
       " 'rank_test_neg_mean_absolute_error': array([51, 52, 53, 54, 55, 19, 11, 13, 15, 17, 19, 11, 13, 15, 17, 56, 57,\n",
       "        58, 59, 60,  1,  3,  5,  7,  9,  1,  3,  5,  7,  9, 65, 61, 62, 63,\n",
       "        64, 21, 23, 25, 27, 29, 21, 23, 25, 27, 29, 66, 67, 68, 69, 70, 39,\n",
       "        37, 35, 31, 33, 39, 37, 35, 31, 33, 71, 72, 73, 75, 74, 49, 47, 45,\n",
       "        41, 41, 49, 47, 45, 41, 41]),\n",
       " 'split0_test_neg_root_mean_squared_error': array([ -8471352.54518743,  -8442040.95316629,  -8457964.69824689,\n",
       "         -8461765.60499353,  -8464799.13760794,  -9608923.0255491 ,\n",
       "         -9470631.4392685 ,  -9408493.72414871,  -9388890.92060486,\n",
       "         -9392657.55354176,  -9608923.0255491 ,  -9470631.4392685 ,\n",
       "         -9408493.72414871,  -9388890.92060486,  -9392657.55354176,\n",
       "        -10235789.25061451, -10228587.92902104, -10227462.08857923,\n",
       "        -10226569.04906298, -10226417.40488687, -12062385.56990558,\n",
       "        -12039171.3952499 , -12040320.35081235, -12040149.17982939,\n",
       "        -12039992.55820319, -12062385.56990558, -12039171.3952499 ,\n",
       "        -12040320.35081235, -12040149.17982939, -12039992.55820319,\n",
       "        -11583958.29102206, -11583769.09491416, -11583768.74332925,\n",
       "        -11583768.76724117, -11583768.76765856, -12400877.66047428,\n",
       "        -12400544.57632118, -12400544.59489799, -12400544.59483756,\n",
       "        -12400544.59483766, -12400877.66047428, -12400544.57632118,\n",
       "        -12400544.59489799, -12400544.59483756, -12400544.59483766,\n",
       "        -10621502.54368067, -10621495.1027019 , -10621495.10207146,\n",
       "        -10621495.10207142, -10621495.10207142, -11313968.30253644,\n",
       "        -11313851.89586434, -11313851.89271083, -11313851.89271075,\n",
       "        -11313851.89271076, -11313968.30253644, -11313851.89586434,\n",
       "        -11313851.89271083, -11313851.89271075, -11313851.89271076,\n",
       "        -11297793.9583752 , -11297718.76676822, -11297718.76531215,\n",
       "        -11297718.76531208, -11297718.76531208, -12288860.19803266,\n",
       "        -12288699.75101613, -12288699.74717105, -12288699.74717097,\n",
       "        -12288699.74717098, -12288860.19803266, -12288699.75101613,\n",
       "        -12288699.74717105, -12288699.74717097, -12288699.74717098]),\n",
       " 'split1_test_neg_root_mean_squared_error': array([-11499642.61498781, -11484388.19910732, -11484387.47796381,\n",
       "        -11497112.16668656, -11474969.19934429,  -8939077.21918936,\n",
       "         -8894822.56088366,  -8875091.76540241,  -8909347.05727566,\n",
       "         -8921748.79599602,  -8939077.21918936,  -8894822.56088366,\n",
       "         -8875091.76540241,  -8909347.05727566,  -8921748.79599602,\n",
       "        -11557077.2327224 , -11554352.9261132 , -11550552.96814244,\n",
       "        -11550393.29657673, -11550644.69666244,  -9132271.77530116,\n",
       "         -9119624.76094484,  -9122877.61753892,  -9122786.53025864,\n",
       "         -9122723.50186376,  -9132271.77530116,  -9119624.76094484,\n",
       "         -9122877.61753892,  -9122786.53025864,  -9122723.50186376,\n",
       "        -11879433.83295902, -11879237.7557522 , -11879241.19724434,\n",
       "        -11879241.21912339, -11879241.21907246,  -9228470.61022075,\n",
       "         -9228564.57554111,  -9228564.64259781,  -9228564.64277627,\n",
       "         -9228564.6427764 ,  -9228470.61022075,  -9228564.57554111,\n",
       "         -9228564.64259781,  -9228564.64277627,  -9228564.6427764 ,\n",
       "        -12227888.52312867, -12228003.43152413, -12228003.43488497,\n",
       "        -12228003.43488505, -12228003.43488505,  -9720965.84775811,\n",
       "         -9720956.17018512,  -9720956.17036876,  -9720956.17036877,\n",
       "         -9720956.17036877,  -9720965.84775811,  -9720956.17018512,\n",
       "         -9720956.17036876,  -9720956.17036877,  -9720956.17036877,\n",
       "        -12227888.52312867, -12228003.43152413, -12228003.43488497,\n",
       "        -12228003.43488505, -12228003.43488505,  -9385281.57718011,\n",
       "         -9385282.80593964,  -9385282.80611086,  -9385282.80611085,\n",
       "         -9385282.80611085,  -9385281.57718011,  -9385282.80593964,\n",
       "         -9385282.80611086,  -9385282.80611085,  -9385282.80611085]),\n",
       " 'split2_test_neg_root_mean_squared_error': array([-18940319.30503125, -19026414.44995205, -19087865.88254992,\n",
       "        -19111482.52406355, -19106191.81933481, -19087412.18907231,\n",
       "        -18955335.32591364, -18930119.37053553, -18856411.38171191,\n",
       "        -18840649.85383762, -19087412.18907231, -18955335.32591364,\n",
       "        -18930119.37053553, -18856411.38171191, -18840649.85383762,\n",
       "        -19308694.09593366, -19317760.26364363, -19319157.39489191,\n",
       "        -19319035.525916  , -19319190.8530568 , -18857703.13267372,\n",
       "        -18856809.87534554, -18853284.87905313, -18853796.51994311,\n",
       "        -18853782.69963363, -18857703.13267372, -18856809.87534554,\n",
       "        -18853284.87905313, -18853796.51994311, -18853782.69963363,\n",
       "        -19062655.43305352, -19062586.67492426, -19062586.18403243,\n",
       "        -19062586.18393679, -19062586.18383902, -18818147.84005656,\n",
       "        -18818111.89050946, -18818111.73140195, -18818111.73137271,\n",
       "        -18818111.73137369, -18818147.84005656, -18818111.89050946,\n",
       "        -18818111.73140195, -18818111.73137271, -18818111.73137369,\n",
       "        -19051809.43710225, -19051729.93524084, -19051729.93316141,\n",
       "        -19051729.93316135, -19051729.93316135, -19440128.84982273,\n",
       "        -19440023.59691299, -19440023.59428393, -19440023.59428385,\n",
       "        -19440023.59428385, -19440128.84982273, -19440023.59691299,\n",
       "        -19440023.59428393, -19440023.59428385, -19440023.59428385,\n",
       "        -19051809.43710225, -19051729.93524084, -19051729.93316141,\n",
       "        -19051729.93316135, -19051729.93316135, -20238309.55537178,\n",
       "        -20238213.6456309 , -20238213.6432645 , -20238213.64326444,\n",
       "        -20238213.64326443, -20238309.55537178, -20238213.6456309 ,\n",
       "        -20238213.6432645 , -20238213.64326444, -20238213.64326443]),\n",
       " 'split3_test_neg_root_mean_squared_error': array([ -8005224.84790296,  -8048360.09193957,  -8104330.46804439,\n",
       "         -8148318.3886994 ,  -8138869.87110049,  -7427019.17209161,\n",
       "         -7292112.55700862,  -7356123.19253344,  -7428288.11585357,\n",
       "         -7471963.53774996,  -7427019.17209161,  -7292112.55700862,\n",
       "         -7356123.19253344,  -7428288.11585357,  -7471963.53774996,\n",
       "        -13256595.6688902 , -13291751.80425658, -13292281.84626482,\n",
       "        -13292262.00419725, -13292391.13812689,  -7406805.25433852,\n",
       "         -7446424.58917291,  -7451354.39915879,  -7451665.88191515,\n",
       "         -7451765.64041462,  -7406805.25433852,  -7446424.58917291,\n",
       "         -7451354.39915879,  -7451665.88191515,  -7451765.64041462,\n",
       "        -12285197.62100643, -12285723.60985298, -12285723.93018532,\n",
       "        -12285723.92901943, -12285723.92886224,  -6324749.09749949,\n",
       "         -6325067.98126262,  -6325067.96623404,  -6325067.96669772,\n",
       "         -6325067.96669765,  -6324749.09749949,  -6325067.98126262,\n",
       "         -6325067.96623404,  -6325067.96669772,  -6325067.96669765,\n",
       "        -13305499.39116276, -13306055.14687621, -13306055.16118119,\n",
       "        -13306055.16118157, -13306055.16118161,  -5281778.257037  ,\n",
       "         -5281842.4593657 ,  -5281842.46025121,  -5281842.46025127,\n",
       "         -5281842.46025128,  -5281778.257037  ,  -5281842.4593657 ,\n",
       "         -5281842.46025121,  -5281842.46025127,  -5281842.46025128,\n",
       "        -13305499.39116276, -13306055.14687621, -13306055.16118119,\n",
       "        -13306055.16118157, -13306055.16118161,  -5131782.2830835 ,\n",
       "         -5131789.12086895,  -5131789.12097287,  -5131789.12097289,\n",
       "         -5131789.1209729 ,  -5131782.2830835 ,  -5131789.12086895,\n",
       "         -5131789.12097287,  -5131789.12097289,  -5131789.1209729 ]),\n",
       " 'split4_test_neg_root_mean_squared_error': array([-17915395.77914833, -17876455.21383977, -17945574.03102448,\n",
       "        -17977802.32963446, -18006855.94076348, -12476665.13787694,\n",
       "        -12387995.35880791, -12342762.60210789, -12316218.82731327,\n",
       "        -12320421.39511176, -12476665.13787694, -12387995.35880791,\n",
       "        -12342762.60210789, -12316218.82731327, -12320421.39511176,\n",
       "        -21044455.46970448, -21045906.02448737, -21043915.23422897,\n",
       "        -21043649.59396834, -21043529.02627978, -12323649.34372383,\n",
       "        -12317429.44287246, -12316281.56981621, -12316548.70198718,\n",
       "        -12316519.05532628, -12323649.34372383, -12317429.44287246,\n",
       "        -12316281.56981621, -12316548.70198718, -12316519.05532628,\n",
       "        -21735044.64303371, -21735039.54494418, -21735038.89806389,\n",
       "        -21735038.90511017, -21735038.90494024, -13081661.3427578 ,\n",
       "        -13081483.11936351, -13081483.05707086, -13081483.05728798,\n",
       "        -13081483.05728868, -13081661.3427578 , -13081483.11936351,\n",
       "        -13081483.05707086, -13081483.05728798, -13081483.05728868,\n",
       "        -22160347.51931853, -22160692.21431197, -22160692.2234114 ,\n",
       "        -22160692.2234116 , -22160692.22341157, -12556951.35067488,\n",
       "        -12556787.13184431, -12556787.1284528 , -12556787.12845264,\n",
       "        -12556787.1284526 , -12556951.35067488, -12556787.13184431,\n",
       "        -12556787.1284528 , -12556787.12845264, -12556787.1284526 ,\n",
       "        -22160347.51931853, -22160692.21431197, -22160692.2234114 ,\n",
       "        -22160692.2234116 , -22160692.22341157, -13088847.84848182,\n",
       "        -13088620.69377298, -13088620.68876044, -13088620.68876028,\n",
       "        -13088620.68876023, -13088847.84848182, -13088620.69377298,\n",
       "        -13088620.68876044, -13088620.68876028, -13088620.68876023]),\n",
       " 'mean_test_neg_root_mean_squared_error': array([-12966387.01845156, -12975531.781601  , -13016024.5115659 ,\n",
       "        -13039296.2028155 , -13038337.1936302 , -11507819.34875586,\n",
       "        -11400179.44837647, -11382518.13094559, -11379831.26055185,\n",
       "        -11389488.22724742, -11507819.34875586, -11400179.44837647,\n",
       "        -11382518.13094559, -11379831.26055185, -11389488.22724742,\n",
       "        -15080522.34357305, -15087671.78950436, -15086673.90642148,\n",
       "        -15086381.89394426, -15086434.62380255, -11956563.01518856,\n",
       "        -11955892.01271713, -11956823.76327588, -11956989.36278669,\n",
       "        -11956956.6910883 , -11956563.01518856, -11955892.01271713,\n",
       "        -11956823.76327588, -11956989.36278669, -11956956.6910883 ,\n",
       "        -15309257.96421495, -15309271.33607756, -15309271.79057105,\n",
       "        -15309271.80088619, -15309271.80087451, -11970781.31020178,\n",
       "        -11970754.42859958, -11970754.39844053, -11970754.39859445,\n",
       "        -11970754.39859482, -11970781.31020178, -11970754.42859958,\n",
       "        -11970754.39844053, -11970754.39859445, -11970754.39859482,\n",
       "        -15473409.48287858, -15473595.16613101, -15473595.17094209,\n",
       "        -15473595.1709422 , -15473595.1709422 , -11662758.52156584,\n",
       "        -11662692.25083449, -11662692.24921351, -11662692.24921345,\n",
       "        -11662692.24921345, -11662758.52156584, -11662692.25083449,\n",
       "        -11662692.24921351, -11662692.24921345, -11662692.24921345,\n",
       "        -15608667.76581748, -15608839.89894428, -15608839.90359023,\n",
       "        -15608839.90359033, -15608839.90359033, -12026616.29242997,\n",
       "        -12026521.20344572, -12026521.20125594, -12026521.20125588,\n",
       "        -12026521.20125588, -12026616.29242997, -12026521.20344572,\n",
       "        -12026521.20125594, -12026521.20125588, -12026521.20125588]),\n",
       " 'std_test_neg_root_mean_squared_error': array([4629262.55080656, 4640803.82454016, 4656485.27842293,\n",
       "        4658627.94045723, 4666287.35033062, 4129069.22306795,\n",
       "        4121464.37189256, 4105707.47748982, 4060982.66047981,\n",
       "        4045009.67814484, 4129069.22306795, 4121464.37189256,\n",
       "        4105707.47748982, 4060982.66047981, 4045009.67814484,\n",
       "        4304851.85357714, 4306148.4053615 , 4306705.80291384,\n",
       "        4306837.76441058, 4306817.12687766, 3910207.21693793,\n",
       "        3902307.53486152, 3899432.32956223, 3899558.76477797,\n",
       "        3899538.77311467, 3910207.21693793, 3902307.53486152,\n",
       "        3899432.32956223, 3899558.76477797, 3899538.77311467,\n",
       "        4246533.1550942 , 4246509.41999977, 4246508.59756835,\n",
       "        4246508.59211983, 4246508.5920085 , 4188159.82105572,\n",
       "        4188033.49219174, 4188033.43251181, 4188033.43236415,\n",
       "        4188033.43236451, 4188159.82105572, 4188033.49219174,\n",
       "        4188033.43251181, 4188033.43236415, 4188033.43236451,\n",
       "        4388492.40510113, 4388514.23208474, 4388514.23274796,\n",
       "        4388514.23274797, 4388514.23274795, 4602090.66794063,\n",
       "        4602033.48932582, 4602033.48809218, 4602033.48809213,\n",
       "        4602033.48809212, 4602090.66794063, 4602033.48932582,\n",
       "        4602033.48809218, 4602033.48809213, 4602033.48809212,\n",
       "        4244940.94174396, 4244971.11449558, 4244971.11517556,\n",
       "        4244971.11517557, 4244971.11517556, 4962749.21961138,\n",
       "        4962704.02998556, 4962704.02890015, 4962704.02890012,\n",
       "        4962704.02890011, 4962749.21961138, 4962704.02998556,\n",
       "        4962704.02890015, 4962704.02890012, 4962704.02890011]),\n",
       " 'rank_test_neg_root_mean_squared_error': array([51, 52, 53, 55, 54,  9,  7,  3,  1,  5,  9,  7,  3,  1,  5, 56, 60,\n",
       "        59, 57, 58, 23, 21, 25, 29, 27, 23, 21, 25, 29, 27, 61, 62, 63, 65,\n",
       "        64, 39, 37, 31, 33, 35, 39, 37, 31, 33, 35, 66, 67, 68, 69, 69, 19,\n",
       "        17, 15, 13, 11, 19, 17, 15, 13, 11, 71, 72, 73, 74, 75, 49, 47, 45,\n",
       "        43, 41, 49, 47, 45, 43, 41])}"
      ]
     },
     "execution_count": 173,
     "metadata": {},
     "output_type": "execute_result"
    }
   ],
   "source": [
    "CV_xgboost_en.cv_results_"
   ]
  },
  {
   "cell_type": "code",
   "execution_count": 169,
   "metadata": {},
   "outputs": [
    {
     "name": "stdout",
     "output_type": "stream",
     "text": [
      "Score - training data: 99.3 %\n",
      "Score - test data: 83.2 %\n"
     ]
    }
   ],
   "source": [
    "print(f\"Score - training data: {round(CV_xgboost_en.score(X_train,y2_train)*100,1)} %\")\n",
    "print(f\"Score - test data: {round(CV_xgboost_en.score(X_test,y2_test)*100,1)} %\")"
   ]
  }
 ],
 "metadata": {
  "kernelspec": {
   "display_name": "Python 3.9.12 ('base')",
   "language": "python",
   "name": "python3"
  },
  "language_info": {
   "codemirror_mode": {
    "name": "ipython",
    "version": 3
   },
   "file_extension": ".py",
   "mimetype": "text/x-python",
   "name": "python",
   "nbconvert_exporter": "python",
   "pygments_lexer": "ipython3",
   "version": "3.9.12"
  },
  "orig_nbformat": 4,
  "vscode": {
   "interpreter": {
    "hash": "bd081ec4775106110a6ec263dfd69dc0c4175c1ef4a4b7bd7cc17da957142225"
   }
  }
 },
 "nbformat": 4,
 "nbformat_minor": 2
}
