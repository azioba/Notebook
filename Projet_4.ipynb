{
 "cells": [
  {
   "cell_type": "code",
   "execution_count": 1,
   "metadata": {},
   "outputs": [],
   "source": [
    "%matplotlib inline\n",
    "import pandas as pd\n",
    "import numpy as np\n",
    "import matplotlib.pyplot as plt\n",
    "import seaborn as sns\n",
    "import shap\n",
    "\n",
    "from sklearn.preprocessing import StandardScaler, OneHotEncoder, LabelBinarizer\n",
    "from sklearn.model_selection import train_test_split, GridSearchCV\n",
    "from sklearn.ensemble import RandomForestRegressor\n",
    "from sklearn.linear_model import Ridge\n",
    "from sklearn.neighbors import KNeighborsRegressor\n",
    "from sklearn.tree import DecisionTreeRegressor\n",
    "from sklearn.metrics import mean_absolute_error as m_a_e, mean_squared_error as m_s_e, r2_score as r2\n",
    "from sklearn.pipeline import Pipeline\n",
    "from sklearn.metrics import confusion_matrix\n",
    "from sklearn.dummy import DummyRegressor\n",
    "from sklearn.ensemble import GradientBoostingRegressor\n",
    "\n",
    "from scipy.stats.mstats import winsorize"
   ]
  },
  {
   "cell_type": "code",
   "execution_count": 2,
   "metadata": {},
   "outputs": [],
   "source": [
    "import warnings\n",
    "warnings.filterwarnings('ignore')"
   ]
  },
  {
   "cell_type": "code",
   "execution_count": 3,
   "metadata": {},
   "outputs": [],
   "source": [
    "dataset = \"E:/Formation Data Scientist/Projet_4/2016_Building_Energy_Benchmarking.csv\""
   ]
  },
  {
   "cell_type": "code",
   "execution_count": 4,
   "metadata": {},
   "outputs": [],
   "source": [
    "df = pd.read_csv(dataset)"
   ]
  },
  {
   "cell_type": "markdown",
   "metadata": {},
   "source": [
    "### <a name='C2'> EDA et Choix des features   </a>"
   ]
  },
  {
   "cell_type": "code",
   "execution_count": 5,
   "metadata": {},
   "outputs": [
    {
     "data": {
      "text/html": [
       "<div>\n",
       "<style scoped>\n",
       "    .dataframe tbody tr th:only-of-type {\n",
       "        vertical-align: middle;\n",
       "    }\n",
       "\n",
       "    .dataframe tbody tr th {\n",
       "        vertical-align: top;\n",
       "    }\n",
       "\n",
       "    .dataframe thead th {\n",
       "        text-align: right;\n",
       "    }\n",
       "</style>\n",
       "<table border=\"1\" class=\"dataframe\">\n",
       "  <thead>\n",
       "    <tr style=\"text-align: right;\">\n",
       "      <th></th>\n",
       "      <th>OSEBuildingID</th>\n",
       "      <th>DataYear</th>\n",
       "      <th>BuildingType</th>\n",
       "      <th>PrimaryPropertyType</th>\n",
       "      <th>PropertyName</th>\n",
       "      <th>Address</th>\n",
       "      <th>City</th>\n",
       "      <th>State</th>\n",
       "      <th>ZipCode</th>\n",
       "      <th>TaxParcelIdentificationNumber</th>\n",
       "      <th>...</th>\n",
       "      <th>Electricity(kWh)</th>\n",
       "      <th>Electricity(kBtu)</th>\n",
       "      <th>NaturalGas(therms)</th>\n",
       "      <th>NaturalGas(kBtu)</th>\n",
       "      <th>DefaultData</th>\n",
       "      <th>Comments</th>\n",
       "      <th>ComplianceStatus</th>\n",
       "      <th>Outlier</th>\n",
       "      <th>TotalGHGEmissions</th>\n",
       "      <th>GHGEmissionsIntensity</th>\n",
       "    </tr>\n",
       "  </thead>\n",
       "  <tbody>\n",
       "    <tr>\n",
       "      <th>0</th>\n",
       "      <td>1</td>\n",
       "      <td>2016</td>\n",
       "      <td>NonResidential</td>\n",
       "      <td>Hotel</td>\n",
       "      <td>Mayflower park hotel</td>\n",
       "      <td>405 Olive way</td>\n",
       "      <td>Seattle</td>\n",
       "      <td>WA</td>\n",
       "      <td>98101.0</td>\n",
       "      <td>0659000030</td>\n",
       "      <td>...</td>\n",
       "      <td>1.156514e+06</td>\n",
       "      <td>3946027.0</td>\n",
       "      <td>12764.52930</td>\n",
       "      <td>1276453.0</td>\n",
       "      <td>False</td>\n",
       "      <td>NaN</td>\n",
       "      <td>Compliant</td>\n",
       "      <td>NaN</td>\n",
       "      <td>249.98</td>\n",
       "      <td>2.83</td>\n",
       "    </tr>\n",
       "    <tr>\n",
       "      <th>1</th>\n",
       "      <td>2</td>\n",
       "      <td>2016</td>\n",
       "      <td>NonResidential</td>\n",
       "      <td>Hotel</td>\n",
       "      <td>Paramount Hotel</td>\n",
       "      <td>724 Pine street</td>\n",
       "      <td>Seattle</td>\n",
       "      <td>WA</td>\n",
       "      <td>98101.0</td>\n",
       "      <td>0659000220</td>\n",
       "      <td>...</td>\n",
       "      <td>9.504252e+05</td>\n",
       "      <td>3242851.0</td>\n",
       "      <td>51450.81641</td>\n",
       "      <td>5145082.0</td>\n",
       "      <td>False</td>\n",
       "      <td>NaN</td>\n",
       "      <td>Compliant</td>\n",
       "      <td>NaN</td>\n",
       "      <td>295.86</td>\n",
       "      <td>2.86</td>\n",
       "    </tr>\n",
       "    <tr>\n",
       "      <th>2</th>\n",
       "      <td>3</td>\n",
       "      <td>2016</td>\n",
       "      <td>NonResidential</td>\n",
       "      <td>Hotel</td>\n",
       "      <td>5673-The Westin Seattle</td>\n",
       "      <td>1900 5th Avenue</td>\n",
       "      <td>Seattle</td>\n",
       "      <td>WA</td>\n",
       "      <td>98101.0</td>\n",
       "      <td>0659000475</td>\n",
       "      <td>...</td>\n",
       "      <td>1.451544e+07</td>\n",
       "      <td>49526664.0</td>\n",
       "      <td>14938.00000</td>\n",
       "      <td>1493800.0</td>\n",
       "      <td>False</td>\n",
       "      <td>NaN</td>\n",
       "      <td>Compliant</td>\n",
       "      <td>NaN</td>\n",
       "      <td>2089.28</td>\n",
       "      <td>2.19</td>\n",
       "    </tr>\n",
       "  </tbody>\n",
       "</table>\n",
       "<p>3 rows × 46 columns</p>\n",
       "</div>"
      ],
      "text/plain": [
       "   OSEBuildingID  DataYear    BuildingType PrimaryPropertyType  \\\n",
       "0              1      2016  NonResidential               Hotel   \n",
       "1              2      2016  NonResidential               Hotel   \n",
       "2              3      2016  NonResidential               Hotel   \n",
       "\n",
       "              PropertyName          Address     City State  ZipCode  \\\n",
       "0     Mayflower park hotel    405 Olive way  Seattle    WA  98101.0   \n",
       "1          Paramount Hotel  724 Pine street  Seattle    WA  98101.0   \n",
       "2  5673-The Westin Seattle  1900 5th Avenue  Seattle    WA  98101.0   \n",
       "\n",
       "  TaxParcelIdentificationNumber  ...  Electricity(kWh) Electricity(kBtu)  \\\n",
       "0                    0659000030  ...      1.156514e+06         3946027.0   \n",
       "1                    0659000220  ...      9.504252e+05         3242851.0   \n",
       "2                    0659000475  ...      1.451544e+07        49526664.0   \n",
       "\n",
       "   NaturalGas(therms)  NaturalGas(kBtu)  DefaultData  Comments  \\\n",
       "0         12764.52930         1276453.0        False       NaN   \n",
       "1         51450.81641         5145082.0        False       NaN   \n",
       "2         14938.00000         1493800.0        False       NaN   \n",
       "\n",
       "   ComplianceStatus  Outlier  TotalGHGEmissions  GHGEmissionsIntensity  \n",
       "0         Compliant      NaN             249.98                   2.83  \n",
       "1         Compliant      NaN             295.86                   2.86  \n",
       "2         Compliant      NaN            2089.28                   2.19  \n",
       "\n",
       "[3 rows x 46 columns]"
      ]
     },
     "execution_count": 5,
     "metadata": {},
     "output_type": "execute_result"
    }
   ],
   "source": [
    "df.head(3)"
   ]
  },
  {
   "cell_type": "code",
   "execution_count": 6,
   "metadata": {},
   "outputs": [
    {
     "name": "stdout",
     "output_type": "stream",
     "text": [
      "<class 'pandas.core.frame.DataFrame'>\n",
      "RangeIndex: 3376 entries, 0 to 3375\n",
      "Data columns (total 46 columns):\n",
      " #   Column                           Non-Null Count  Dtype  \n",
      "---  ------                           --------------  -----  \n",
      " 0   OSEBuildingID                    3376 non-null   int64  \n",
      " 1   DataYear                         3376 non-null   int64  \n",
      " 2   BuildingType                     3376 non-null   object \n",
      " 3   PrimaryPropertyType              3376 non-null   object \n",
      " 4   PropertyName                     3376 non-null   object \n",
      " 5   Address                          3376 non-null   object \n",
      " 6   City                             3376 non-null   object \n",
      " 7   State                            3376 non-null   object \n",
      " 8   ZipCode                          3360 non-null   float64\n",
      " 9   TaxParcelIdentificationNumber    3376 non-null   object \n",
      " 10  CouncilDistrictCode              3376 non-null   int64  \n",
      " 11  Neighborhood                     3376 non-null   object \n",
      " 12  Latitude                         3376 non-null   float64\n",
      " 13  Longitude                        3376 non-null   float64\n",
      " 14  YearBuilt                        3376 non-null   int64  \n",
      " 15  NumberofBuildings                3368 non-null   float64\n",
      " 16  NumberofFloors                   3376 non-null   int64  \n",
      " 17  PropertyGFATotal                 3376 non-null   int64  \n",
      " 18  PropertyGFAParking               3376 non-null   int64  \n",
      " 19  PropertyGFABuilding(s)           3376 non-null   int64  \n",
      " 20  ListOfAllPropertyUseTypes        3367 non-null   object \n",
      " 21  LargestPropertyUseType           3356 non-null   object \n",
      " 22  LargestPropertyUseTypeGFA        3356 non-null   float64\n",
      " 23  SecondLargestPropertyUseType     1679 non-null   object \n",
      " 24  SecondLargestPropertyUseTypeGFA  1679 non-null   float64\n",
      " 25  ThirdLargestPropertyUseType      596 non-null    object \n",
      " 26  ThirdLargestPropertyUseTypeGFA   596 non-null    float64\n",
      " 27  YearsENERGYSTARCertified         119 non-null    object \n",
      " 28  ENERGYSTARScore                  2533 non-null   float64\n",
      " 29  SiteEUI(kBtu/sf)                 3369 non-null   float64\n",
      " 30  SiteEUIWN(kBtu/sf)               3370 non-null   float64\n",
      " 31  SourceEUI(kBtu/sf)               3367 non-null   float64\n",
      " 32  SourceEUIWN(kBtu/sf)             3367 non-null   float64\n",
      " 33  SiteEnergyUse(kBtu)              3371 non-null   float64\n",
      " 34  SiteEnergyUseWN(kBtu)            3370 non-null   float64\n",
      " 35  SteamUse(kBtu)                   3367 non-null   float64\n",
      " 36  Electricity(kWh)                 3367 non-null   float64\n",
      " 37  Electricity(kBtu)                3367 non-null   float64\n",
      " 38  NaturalGas(therms)               3367 non-null   float64\n",
      " 39  NaturalGas(kBtu)                 3367 non-null   float64\n",
      " 40  DefaultData                      3376 non-null   bool   \n",
      " 41  Comments                         0 non-null      float64\n",
      " 42  ComplianceStatus                 3376 non-null   object \n",
      " 43  Outlier                          32 non-null     object \n",
      " 44  TotalGHGEmissions                3367 non-null   float64\n",
      " 45  GHGEmissionsIntensity            3367 non-null   float64\n",
      "dtypes: bool(1), float64(22), int64(8), object(15)\n",
      "memory usage: 1.2+ MB\n"
     ]
    }
   ],
   "source": [
    "df.info()"
   ]
  },
  {
   "cell_type": "markdown",
   "metadata": {},
   "source": []
  },
  {
   "cell_type": "code",
   "execution_count": 7,
   "metadata": {},
   "outputs": [
    {
     "data": {
      "text/plain": [
       "(3376, 46)"
      ]
     },
     "execution_count": 7,
     "metadata": {},
     "output_type": "execute_result"
    }
   ],
   "source": [
    "df.shape"
   ]
  },
  {
   "cell_type": "markdown",
   "metadata": {},
   "source": []
  },
  {
   "cell_type": "markdown",
   "metadata": {},
   "source": [
    "- Exploration des valeurs nulles"
   ]
  },
  {
   "cell_type": "code",
   "execution_count": 8,
   "metadata": {},
   "outputs": [
    {
     "data": {
      "image/png": "[encoded data removed]",
      "text/plain": [
       "<Figure size 1152x864 with 1 Axes>"
      ]
     },
     "metadata": {
      "needs_background": "light"
     },
     "output_type": "display_data"
    }
   ],
   "source": [
    "plt.figure(figsize=(16,12))\n",
    "sns.heatmap(df.isna(),cbar=False)\n",
    "plt.show()"
   ]
  },
  {
   "cell_type": "markdown",
   "metadata": {},
   "source": []
  },
  {
   "cell_type": "markdown",
   "metadata": {},
   "source": [
    "- Typologie des variables"
   ]
  },
  {
   "cell_type": "code",
   "execution_count": 9,
   "metadata": {},
   "outputs": [
    {
     "data": {
      "text/plain": [
       "float64    22\n",
       "object     15\n",
       "int64       8\n",
       "bool        1\n",
       "dtype: int64"
      ]
     },
     "execution_count": 9,
     "metadata": {},
     "output_type": "execute_result"
    }
   ],
   "source": [
    "df.dtypes.value_counts()"
   ]
  },
  {
   "cell_type": "markdown",
   "metadata": {},
   "source": []
  },
  {
   "cell_type": "markdown",
   "metadata": {},
   "source": [
    "- Nombre de variables différentes par Feature"
   ]
  },
  {
   "cell_type": "code",
   "execution_count": 10,
   "metadata": {},
   "outputs": [
    {
     "data": {
      "text/plain": [
       "OSEBuildingID                      3376\n",
       "DataYear                              1\n",
       "BuildingType                          8\n",
       "PrimaryPropertyType                  24\n",
       "PropertyName                       3362\n",
       "Address                            3354\n",
       "City                                  1\n",
       "State                                 1\n",
       "ZipCode                              55\n",
       "TaxParcelIdentificationNumber      3268\n",
       "CouncilDistrictCode                   7\n",
       "Neighborhood                         19\n",
       "Latitude                           2876\n",
       "Longitude                          2656\n",
       "YearBuilt                           113\n",
       "NumberofBuildings                    17\n",
       "NumberofFloors                       50\n",
       "PropertyGFATotal                   3195\n",
       "PropertyGFAParking                  496\n",
       "PropertyGFABuilding(s)             3193\n",
       "ListOfAllPropertyUseTypes           466\n",
       "LargestPropertyUseType               56\n",
       "LargestPropertyUseTypeGFA          3122\n",
       "SecondLargestPropertyUseType         50\n",
       "SecondLargestPropertyUseTypeGFA    1352\n",
       "ThirdLargestPropertyUseType          44\n",
       "ThirdLargestPropertyUseTypeGFA      501\n",
       "YearsENERGYSTARCertified             65\n",
       "ENERGYSTARScore                     100\n",
       "SiteEUI(kBtu/sf)                   1085\n",
       "SiteEUIWN(kBtu/sf)                 1105\n",
       "SourceEUI(kBtu/sf)                 1648\n",
       "SourceEUIWN(kBtu/sf)               1694\n",
       "SiteEnergyUse(kBtu)                3354\n",
       "SiteEnergyUseWN(kBtu)              3341\n",
       "SteamUse(kBtu)                      131\n",
       "Electricity(kWh)                   3352\n",
       "Electricity(kBtu)                  3351\n",
       "NaturalGas(therms)                 2109\n",
       "NaturalGas(kBtu)                   2109\n",
       "DefaultData                           2\n",
       "Comments                              0\n",
       "ComplianceStatus                      4\n",
       "Outlier                               2\n",
       "TotalGHGEmissions                  2818\n",
       "GHGEmissionsIntensity               511\n",
       "dtype: int64"
      ]
     },
     "execution_count": 10,
     "metadata": {},
     "output_type": "execute_result"
    }
   ],
   "source": [
    "df.nunique()"
   ]
  },
  {
   "cell_type": "code",
   "execution_count": 11,
   "metadata": {},
   "outputs": [
    {
     "data": {
      "text/plain": [
       "Low outlier     23\n",
       "High outlier     9\n",
       "Name: Outlier, dtype: int64"
      ]
     },
     "execution_count": 11,
     "metadata": {},
     "output_type": "execute_result"
    }
   ],
   "source": [
    "df['Outlier'].value_counts()"
   ]
  },
  {
   "cell_type": "code",
   "execution_count": 12,
   "metadata": {},
   "outputs": [
    {
     "data": {
      "text/plain": [
       "Compliant                       3211\n",
       "Error - Correct Default Data     113\n",
       "Non-Compliant                     37\n",
       "Missing Data                      15\n",
       "Name: ComplianceStatus, dtype: int64"
      ]
     },
     "execution_count": 12,
     "metadata": {},
     "output_type": "execute_result"
    }
   ],
   "source": [
    "df['ComplianceStatus'].value_counts()"
   ]
  },
  {
   "cell_type": "markdown",
   "metadata": {},
   "source": [
    "On a 8 types de buiding, seuls les buildings résidentiels nous interressent dans le cadre de notre étude"
   ]
  },
  {
   "cell_type": "code",
   "execution_count": 13,
   "metadata": {},
   "outputs": [
    {
     "data": {
      "text/plain": [
       "NonResidential          1460\n",
       "Multifamily LR (1-4)    1018\n",
       "Multifamily MR (5-9)     580\n",
       "Multifamily HR (10+)     110\n",
       "SPS-District K-12         98\n",
       "Nonresidential COS        85\n",
       "Campus                    24\n",
       "Nonresidential WA          1\n",
       "Name: BuildingType, dtype: int64"
      ]
     },
     "execution_count": 13,
     "metadata": {},
     "output_type": "execute_result"
    }
   ],
   "source": [
    "df.iloc[:,2].value_counts()"
   ]
  },
  {
   "cell_type": "markdown",
   "metadata": {},
   "source": [
    "Ici ce sont les buildings de type Multifamily qui nous interressent (rajouter Campus??)"
   ]
  },
  {
   "cell_type": "code",
   "execution_count": 14,
   "metadata": {},
   "outputs": [
    {
     "data": {
      "text/plain": [
       "Low-Rise Multifamily           987\n",
       "Mid-Rise Multifamily           564\n",
       "Small- and Mid-Sized Office    293\n",
       "Other                          256\n",
       "Warehouse                      187\n",
       "Large Office                   173\n",
       "K-12 School                    139\n",
       "Mixed Use Property             133\n",
       "High-Rise Multifamily          105\n",
       "Retail Store                    91\n",
       "Hotel                           77\n",
       "Worship Facility                71\n",
       "Distribution Center             53\n",
       "Senior Care Community           45\n",
       "Supermarket / Grocery Store     40\n",
       "Medical Office                  39\n",
       "Self-Storage Facility           28\n",
       "University                      25\n",
       "Residence Hall                  23\n",
       "Refrigerated Warehouse          12\n",
       "Restaurant                      12\n",
       "Hospital                        10\n",
       "Laboratory                      10\n",
       "Office                           3\n",
       "Name: PrimaryPropertyType, dtype: int64"
      ]
     },
     "execution_count": 14,
     "metadata": {},
     "output_type": "execute_result"
    }
   ],
   "source": [
    "df.iloc[:,3].value_counts()"
   ]
  },
  {
   "cell_type": "code",
   "execution_count": null,
   "metadata": {},
   "outputs": [],
   "source": []
  },
  {
   "cell_type": "markdown",
   "metadata": {},
   "source": [
    "- Nombre de valeures nulles par feature"
   ]
  },
  {
   "cell_type": "code",
   "execution_count": 15,
   "metadata": {},
   "outputs": [
    {
     "data": {
      "text/plain": [
       "OSEBuildingID                         0\n",
       "DataYear                              0\n",
       "BuildingType                          0\n",
       "PrimaryPropertyType                   0\n",
       "PropertyName                          0\n",
       "Address                               0\n",
       "City                                  0\n",
       "State                                 0\n",
       "ZipCode                              16\n",
       "TaxParcelIdentificationNumber         0\n",
       "CouncilDistrictCode                   0\n",
       "Neighborhood                          0\n",
       "Latitude                              0\n",
       "Longitude                             0\n",
       "YearBuilt                             0\n",
       "NumberofBuildings                     8\n",
       "NumberofFloors                        0\n",
       "PropertyGFATotal                      0\n",
       "PropertyGFAParking                    0\n",
       "PropertyGFABuilding(s)                0\n",
       "ListOfAllPropertyUseTypes             9\n",
       "LargestPropertyUseType               20\n",
       "LargestPropertyUseTypeGFA            20\n",
       "SecondLargestPropertyUseType       1697\n",
       "SecondLargestPropertyUseTypeGFA    1697\n",
       "ThirdLargestPropertyUseType        2780\n",
       "ThirdLargestPropertyUseTypeGFA     2780\n",
       "YearsENERGYSTARCertified           3257\n",
       "ENERGYSTARScore                     843\n",
       "SiteEUI(kBtu/sf)                      7\n",
       "SiteEUIWN(kBtu/sf)                    6\n",
       "SourceEUI(kBtu/sf)                    9\n",
       "SourceEUIWN(kBtu/sf)                  9\n",
       "SiteEnergyUse(kBtu)                   5\n",
       "SiteEnergyUseWN(kBtu)                 6\n",
       "SteamUse(kBtu)                        9\n",
       "Electricity(kWh)                      9\n",
       "Electricity(kBtu)                     9\n",
       "NaturalGas(therms)                    9\n",
       "NaturalGas(kBtu)                      9\n",
       "DefaultData                           0\n",
       "Comments                           3376\n",
       "ComplianceStatus                      0\n",
       "Outlier                            3344\n",
       "TotalGHGEmissions                     9\n",
       "GHGEmissionsIntensity                 9\n",
       "dtype: int64"
      ]
     },
     "execution_count": 15,
     "metadata": {},
     "output_type": "execute_result"
    }
   ],
   "source": [
    "df.isna().sum()"
   ]
  },
  {
   "cell_type": "markdown",
   "metadata": {},
   "source": []
  },
  {
   "cell_type": "code",
   "execution_count": 16,
   "metadata": {},
   "outputs": [],
   "source": [
    "building_type = ['NonResidential','NonResidential COS','NonResidential WA'] # Réflechir sur rajouter ou non Campus comme building résidentiel,'Campus','SPS-District K-12',\n",
    "\n",
    "nonResidential = df[df['BuildingType'].isin(building_type)].reset_index(drop=True)"
   ]
  },
  {
   "cell_type": "markdown",
   "metadata": {},
   "source": [
    "- Nos deux targets sont **TotalGHGEmissions** et **SiteEnergyUse(kBtu)**"
   ]
  },
  {
   "cell_type": "code",
   "execution_count": 17,
   "metadata": {},
   "outputs": [],
   "source": [
    "compliant = ['Compliant']\n",
    "\n",
    "nonResidential = nonResidential[nonResidential['ComplianceStatus'].isin(compliant)].reset_index(drop=True)"
   ]
  },
  {
   "cell_type": "code",
   "execution_count": 18,
   "metadata": {},
   "outputs": [
    {
     "data": {
      "text/plain": [
       "(1432, 46)"
      ]
     },
     "execution_count": 18,
     "metadata": {},
     "output_type": "execute_result"
    }
   ],
   "source": [
    "nonResidential.shape"
   ]
  },
  {
   "cell_type": "code",
   "execution_count": 19,
   "metadata": {},
   "outputs": [
    {
     "data": {
      "text/plain": [
       "Small- and Mid-Sized Office    282\n",
       "Other                          181\n",
       "Warehouse                      178\n",
       "Large Office                   164\n",
       "Mixed Use Property             101\n",
       "Retail Store                    85\n",
       "Hotel                           75\n",
       "Worship Facility                69\n",
       "Distribution Center             51\n",
       "Supermarket / Grocery Store     40\n",
       "Medical Office                  38\n",
       "K-12 School                     38\n",
       "Self-Storage Facility           28\n",
       "Residence Hall                  21\n",
       "Senior Care Community           20\n",
       "University                      17\n",
       "Refrigerated Warehouse          12\n",
       "Restaurant                      11\n",
       "Hospital                        10\n",
       "Laboratory                      10\n",
       "Low-Rise Multifamily             1\n",
       "Name: PrimaryPropertyType, dtype: int64"
      ]
     },
     "execution_count": 19,
     "metadata": {},
     "output_type": "execute_result"
    }
   ],
   "source": [
    "nonResidential.iloc[:,3].value_counts()"
   ]
  },
  {
   "cell_type": "markdown",
   "metadata": {},
   "source": [
    "- Nettoyage et choix des features à utiliser"
   ]
  },
  {
   "cell_type": "code",
   "execution_count": 20,
   "metadata": {},
   "outputs": [],
   "source": [
    "nonResidential = nonResidential.drop(nonResidential[nonResidential['PrimaryPropertyType'] == 'Low-Rise Multifamily'].index)"
   ]
  },
  {
   "cell_type": "code",
   "execution_count": 21,
   "metadata": {},
   "outputs": [],
   "source": [
    "nonResidential = nonResidential.drop(nonResidential[nonResidential['PrimaryPropertyType'] == 'Residence Hall'].index)"
   ]
  },
  {
   "cell_type": "code",
   "execution_count": 22,
   "metadata": {},
   "outputs": [
    {
     "data": {
      "text/plain": [
       "Small- and Mid-Sized Office    282\n",
       "Other                          181\n",
       "Warehouse                      178\n",
       "Large Office                   164\n",
       "Mixed Use Property             101\n",
       "Retail Store                    85\n",
       "Hotel                           75\n",
       "Worship Facility                69\n",
       "Distribution Center             51\n",
       "Supermarket / Grocery Store     40\n",
       "K-12 School                     38\n",
       "Medical Office                  38\n",
       "Self-Storage Facility           28\n",
       "Senior Care Community           20\n",
       "University                      17\n",
       "Refrigerated Warehouse          12\n",
       "Restaurant                      11\n",
       "Hospital                        10\n",
       "Laboratory                      10\n",
       "Name: PrimaryPropertyType, dtype: int64"
      ]
     },
     "execution_count": 22,
     "metadata": {},
     "output_type": "execute_result"
    }
   ],
   "source": [
    "nonResidential.iloc[:,3].value_counts()"
   ]
  },
  {
   "cell_type": "code",
   "execution_count": 23,
   "metadata": {},
   "outputs": [
    {
     "data": {
      "text/plain": [
       "OSEBuildingID                         0\n",
       "DataYear                              0\n",
       "BuildingType                          0\n",
       "PrimaryPropertyType                   0\n",
       "PropertyName                          0\n",
       "Address                               0\n",
       "City                                  0\n",
       "State                                 0\n",
       "ZipCode                               0\n",
       "TaxParcelIdentificationNumber         0\n",
       "CouncilDistrictCode                   0\n",
       "Neighborhood                          0\n",
       "Latitude                              0\n",
       "Longitude                             0\n",
       "YearBuilt                             0\n",
       "NumberofBuildings                     0\n",
       "NumberofFloors                        0\n",
       "PropertyGFATotal                      0\n",
       "PropertyGFAParking                    0\n",
       "PropertyGFABuilding(s)                0\n",
       "ListOfAllPropertyUseTypes             0\n",
       "LargestPropertyUseType                4\n",
       "LargestPropertyUseTypeGFA             4\n",
       "SecondLargestPropertyUseType        633\n",
       "SecondLargestPropertyUseTypeGFA     633\n",
       "ThirdLargestPropertyUseType        1102\n",
       "ThirdLargestPropertyUseTypeGFA     1102\n",
       "YearsENERGYSTARCertified           1320\n",
       "ENERGYSTARScore                     454\n",
       "SiteEUI(kBtu/sf)                      0\n",
       "SiteEUIWN(kBtu/sf)                    1\n",
       "SourceEUI(kBtu/sf)                    0\n",
       "SourceEUIWN(kBtu/sf)                  0\n",
       "SiteEnergyUse(kBtu)                   0\n",
       "SiteEnergyUseWN(kBtu)                 1\n",
       "SteamUse(kBtu)                        0\n",
       "Electricity(kWh)                      0\n",
       "Electricity(kBtu)                     0\n",
       "NaturalGas(therms)                    0\n",
       "NaturalGas(kBtu)                      0\n",
       "DefaultData                           0\n",
       "Comments                           1410\n",
       "ComplianceStatus                      0\n",
       "Outlier                            1410\n",
       "TotalGHGEmissions                     0\n",
       "GHGEmissionsIntensity                 0\n",
       "dtype: int64"
      ]
     },
     "execution_count": 23,
     "metadata": {},
     "output_type": "execute_result"
    }
   ],
   "source": [
    "nonResidential.isna().sum()"
   ]
  },
  {
   "cell_type": "code",
   "execution_count": 24,
   "metadata": {},
   "outputs": [
    {
     "data": {
      "text/plain": [
       "Compliant    1410\n",
       "Name: ComplianceStatus, dtype: int64"
      ]
     },
     "execution_count": 24,
     "metadata": {},
     "output_type": "execute_result"
    }
   ],
   "source": [
    "nonResidential['ComplianceStatus'].value_counts()"
   ]
  },
  {
   "cell_type": "code",
   "execution_count": 25,
   "metadata": {},
   "outputs": [
    {
     "data": {
      "text/plain": [
       "Series([], Name: Outlier, dtype: int64)"
      ]
     },
     "execution_count": 25,
     "metadata": {},
     "output_type": "execute_result"
    }
   ],
   "source": [
    "nonResidential['Outlier'].value_counts()"
   ]
  },
  {
   "cell_type": "code",
   "execution_count": 26,
   "metadata": {},
   "outputs": [],
   "source": [
    "nonResidential = nonResidential[nonResidential.Outlier.isnull()]"
   ]
  },
  {
   "cell_type": "code",
   "execution_count": 27,
   "metadata": {},
   "outputs": [],
   "source": [
    "nonResidential = nonResidential[['PrimaryPropertyType','Latitude','Longitude','YearBuilt','NumberofBuildings','NumberofFloors'\\\n",
    "            ,'PropertyGFABuilding(s)','PropertyGFAParking','LargestPropertyUseTypeGFA','SteamUse(kBtu)','Electricity(kBtu)','NaturalGas(kBtu)','TotalGHGEmissions']]"
   ]
  },
  {
   "cell_type": "code",
   "execution_count": 28,
   "metadata": {},
   "outputs": [
    {
     "data": {
      "image/png": "[encoded data removed]",
      "text/plain": [
       "<Figure size 432x288 with 1 Axes>"
      ]
     },
     "metadata": {
      "needs_background": "light"
     },
     "output_type": "display_data"
    }
   ],
   "source": [
    "plt.scatter(nonResidential['Electricity(kBtu)'],nonResidential['NaturalGas(kBtu)'])\n",
    "plt.xlabel('Electricity')\n",
    "plt.ylabel('Natural Gas')\n",
    "plt.show()"
   ]
  },
  {
   "cell_type": "code",
   "execution_count": 29,
   "metadata": {},
   "outputs": [
    {
     "data": {
      "text/plain": [
       "PrimaryPropertyType          0\n",
       "Latitude                     0\n",
       "Longitude                    0\n",
       "YearBuilt                    0\n",
       "NumberofBuildings            0\n",
       "NumberofFloors               0\n",
       "PropertyGFABuilding(s)       0\n",
       "PropertyGFAParking           0\n",
       "LargestPropertyUseTypeGFA    4\n",
       "SteamUse(kBtu)               0\n",
       "Electricity(kBtu)            0\n",
       "NaturalGas(kBtu)             0\n",
       "TotalGHGEmissions            0\n",
       "dtype: int64"
      ]
     },
     "execution_count": 29,
     "metadata": {},
     "output_type": "execute_result"
    }
   ],
   "source": [
    "nonResidential.isna().sum()"
   ]
  },
  {
   "cell_type": "code",
   "execution_count": 30,
   "metadata": {},
   "outputs": [],
   "source": [
    "nonResidential = nonResidential.dropna(axis=0) "
   ]
  },
  {
   "cell_type": "code",
   "execution_count": 31,
   "metadata": {},
   "outputs": [
    {
     "data": {
      "text/plain": [
       "1.0    1329\n",
       "0.0      44\n",
       "2.0      11\n",
       "3.0      10\n",
       "6.0       4\n",
       "5.0       3\n",
       "4.0       2\n",
       "9.0       1\n",
       "7.0       1\n",
       "8.0       1\n",
       "Name: NumberofBuildings, dtype: int64"
      ]
     },
     "execution_count": 31,
     "metadata": {},
     "output_type": "execute_result"
    }
   ],
   "source": [
    "nonResidential['NumberofBuildings'].value_counts()"
   ]
  },
  {
   "cell_type": "markdown",
   "metadata": {},
   "source": [
    "- Calcul de l'age des batiments"
   ]
  },
  {
   "cell_type": "code",
   "execution_count": 32,
   "metadata": {},
   "outputs": [],
   "source": [
    "df1 = nonResidential.copy()"
   ]
  },
  {
   "cell_type": "code",
   "execution_count": 33,
   "metadata": {},
   "outputs": [],
   "source": [
    "def fill_date(data):\n",
    "    if data<= 1920:\n",
    "        return \"_1920\"\n",
    "    elif 1920<data<=1940:\n",
    "        return \"1920_1940\"\n",
    "    elif 1940<data<=1960:\n",
    "        return \"1940_1960\"\n",
    "    elif 1960<data<=1980:\n",
    "        return \"1960_1980\"\n",
    "    elif 1980<data<=2000:\n",
    "        return \"1980_2000\"\n",
    "    elif data>2000:\n",
    "        return \"2000_\""
   ]
  },
  {
   "cell_type": "code",
   "execution_count": 34,
   "metadata": {},
   "outputs": [],
   "source": [
    "df1['YearBuilt'] = df1['YearBuilt'].apply(fill_date)"
   ]
  },
  {
   "cell_type": "code",
   "execution_count": 35,
   "metadata": {},
   "outputs": [],
   "source": [
    "df1['SteamUse(kBtu)'] = df1['SteamUse(kBtu)'].apply(lambda x : 1 if x > 0 else 0 )\n",
    "df1['Electricity(kBtu)'] = df1['Electricity(kBtu)'].apply(lambda x : 1 if x > 0 else 0 )\n",
    "df1['NaturalGas(kBtu)'] = df1['NaturalGas(kBtu)'].apply(lambda x : 1 if x > 0 else 0 )"
   ]
  },
  {
   "cell_type": "code",
   "execution_count": 36,
   "metadata": {},
   "outputs": [],
   "source": [
    "df2_code = pd.get_dummies(df1 ,columns=['PrimaryPropertyType','YearBuilt'])"
   ]
  },
  {
   "cell_type": "code",
   "execution_count": 82,
   "metadata": {},
   "outputs": [],
   "source": [
    "train, test = train_test_split(df2_code, test_size=0.3, random_state=0) "
   ]
  },
  {
   "cell_type": "code",
   "execution_count": 38,
   "metadata": {},
   "outputs": [],
   "source": [
    "X_train, y_train, X_test, y_test = train.drop(columns = \"TotalGHGEmissions\"), train[\"TotalGHGEmissions\"],test.drop(columns = \"TotalGHGEmissions\") ,test[\"TotalGHGEmissions\"]"
   ]
  },
  {
   "cell_type": "code",
   "execution_count": 39,
   "metadata": {},
   "outputs": [],
   "source": [
    "r_forest = RandomForestRegressor(random_state=0)"
   ]
  },
  {
   "cell_type": "code",
   "execution_count": 40,
   "metadata": {},
   "outputs": [
    {
     "data": {
      "text/plain": [
       "RandomForestRegressor(random_state=0)"
      ]
     },
     "execution_count": 40,
     "metadata": {},
     "output_type": "execute_result"
    }
   ],
   "source": [
    "# entrainement du modèle\n",
    "r_forest.fit(X_train, y_train)"
   ]
  },
  {
   "cell_type": "code",
   "execution_count": 41,
   "metadata": {},
   "outputs": [
    {
     "name": "stdout",
     "output_type": "stream",
     "text": [
      "221.9097494650815\n"
     ]
    }
   ],
   "source": [
    "# prédiction\n",
    "preds = r_forest.predict(X_test)\n",
    "\n",
    "# calcul du RMSE\n",
    "print(m_s_e(y_test,preds, squared=False))"
   ]
  },
  {
   "cell_type": "code",
   "execution_count": 42,
   "metadata": {},
   "outputs": [
    {
     "data": {
      "text/plain": [
       "<matplotlib.collections.PathCollection at 0x1ba295748e0>"
      ]
     },
     "execution_count": 42,
     "metadata": {},
     "output_type": "execute_result"
    },
    {
     "data": {
      "image/png": "[encoded data removed]",
      "text/plain": [
       "<Figure size 432x288 with 1 Axes>"
      ]
     },
     "metadata": {
      "needs_background": "light"
     },
     "output_type": "display_data"
    }
   ],
   "source": [
    "plt.scatter(preds,y_test)"
   ]
  },
  {
   "cell_type": "code",
   "execution_count": 43,
   "metadata": {},
   "outputs": [],
   "source": [
    "def get_error(n_estimator, X_train, X_test, y_train, y_test):\n",
    "    model = RandomForestRegressor(n_estimators=n_estimator, random_state=0)\n",
    "    model.fit(X_train, y_train)\n",
    "    preds_val = model.predict(X_test)\n",
    "    rmse = m_s_e(y_test, preds_val,squared=False)\n",
    "    mae = m_a_e(y_test, preds_val)\n",
    "    r_2 = r2(y_test,preds_val)\n",
    "    return(rmse, mae, r_2)"
   ]
  },
  {
   "cell_type": "markdown",
   "metadata": {},
   "source": []
  },
  {
   "cell_type": "code",
   "execution_count": 44,
   "metadata": {},
   "outputs": [],
   "source": [
    "def get_dummy_error(strategy, X_train, X_test, y_train, y_test):\n",
    "    model = DummyRegressor(strategy=strategy)\n",
    "    model.fit(X_train, y_train)\n",
    "    preds_val = model.predict(X_test)\n",
    "    rmse = m_s_e(y_test, preds_val,squared=False)\n",
    "    mae = m_a_e(y_test, preds_val)\n",
    "    r_2 = r2(y_test,preds_val)\n",
    "    return(rmse, mae, r_2)"
   ]
  },
  {
   "cell_type": "code",
   "execution_count": 45,
   "metadata": {},
   "outputs": [
    {
     "name": "stdout",
     "output_type": "stream",
     "text": [
      "strategy: mean  \t\t RMSE:  260.158884  \t\t MAE: 168.769917  \t\t R2:  -0.044254\n",
      "strategy: median  \t\t RMSE:  267.804295  \t\t MAE: 112.336280  \t\t R2:  -0.106531\n"
     ]
    }
   ],
   "source": [
    "# comparer RMSE et r2 avec differents valeurs de n_estimator\n",
    "lst_rmse = []\n",
    "lst_mae = []\n",
    "lst_r2 = []\n",
    "for strategy in ['mean', 'median']:\n",
    "    my_rmse = get_dummy_error(strategy, X_train, X_test, y_train, y_test)\n",
    "    lst_rmse.append(my_rmse[0])\n",
    "    lst_mae.append(my_rmse[1])\n",
    "    lst_r2.append(my_rmse[2])\n",
    "    print(\"strategy: %s  \\t\\t RMSE:  %f  \\t\\t MAE: %f  \\t\\t R2:  %f\" %(strategy, my_rmse[0], my_rmse[1], my_rmse[2]))"
   ]
  },
  {
   "cell_type": "code",
   "execution_count": 46,
   "metadata": {},
   "outputs": [
    {
     "name": "stdout",
     "output_type": "stream",
     "text": [
      "N_Estimator: 100  \t\t RMSE:  221.909749  \t\t MAE: 87.137054  \t\t R2:  0.240231\n",
      "N_Estimator: 200  \t\t RMSE:  215.468885  \t\t MAE: 86.100294  \t\t R2:  0.283695\n",
      "N_Estimator: 300  \t\t RMSE:  214.949087  \t\t MAE: 86.136948  \t\t R2:  0.287147\n",
      "N_Estimator: 400  \t\t RMSE:  215.411159  \t\t MAE: 86.065216  \t\t R2:  0.284079\n",
      "N_Estimator: 500  \t\t RMSE:  215.245067  \t\t MAE: 85.989506  \t\t R2:  0.285183\n"
     ]
    }
   ],
   "source": [
    "# comparer RMSE et r2 avec differents valeurs de n_estimator\n",
    "lst_rmse = []\n",
    "lst_mae = []\n",
    "lst_r2 = []\n",
    "for n_estimator in [100, 200, 300, 400, 500]:\n",
    "    my_rmse = get_error(n_estimator, X_train, X_test, y_train, y_test)\n",
    "    lst_rmse.append(my_rmse[0])\n",
    "    lst_mae.append(my_rmse[1])\n",
    "    lst_r2.append(my_rmse[2])\n",
    "    print(\"N_Estimator: %d  \\t\\t RMSE:  %f  \\t\\t MAE: %f  \\t\\t R2:  %f\" %(n_estimator, my_rmse[0], my_rmse[1], my_rmse[2]))"
   ]
  },
  {
   "cell_type": "code",
   "execution_count": 47,
   "metadata": {},
   "outputs": [
    {
     "data": {
      "image/png": "[encoded data removed]",
      "text/plain": [
       "<Figure size 432x288 with 2 Axes>"
      ]
     },
     "metadata": {
      "needs_background": "light"
     },
     "output_type": "display_data"
    }
   ],
   "source": [
    "fig,(ax1,ax2) = plt.subplots(2,1)\n",
    "fig.suptitle('Résultat de l\\'entrainement')\n",
    "\n",
    "ax1.plot(lst_rmse)\n",
    "ax1.set_ylabel('RMSE')\n",
    "ax1.set_xlabel('entrainement no')\n",
    "ax1.grid()\n",
    "\n",
    "ax2.plot(lst_r2)\n",
    "ax2.set_ylabel('R2')\n",
    "ax2.set_xlabel('entrainement no')\n",
    "ax2.grid()\n",
    "\n",
    "plt.show()"
   ]
  },
  {
   "cell_type": "markdown",
   "metadata": {},
   "source": [
    "### - Dummy Regressor"
   ]
  },
  {
   "cell_type": "code",
   "execution_count": 48,
   "metadata": {},
   "outputs": [],
   "source": [
    "dummy_param_grid = {'strategy' : ['mean','median']}"
   ]
  },
  {
   "cell_type": "code",
   "execution_count": 49,
   "metadata": {},
   "outputs": [
    {
     "data": {
      "text/plain": [
       "GridSearchCV(cv=5, estimator=DummyRegressor(),\n",
       "             param_grid={'strategy': ['mean', 'median']}, scoring='r2')"
      ]
     },
     "execution_count": 49,
     "metadata": {},
     "output_type": "execute_result"
    }
   ],
   "source": [
    "CV_dummy_mean = GridSearchCV(estimator=DummyRegressor(), param_grid=dummy_param_grid, cv= 5,scoring=['r2','neg_mean_squared_error','neg_root_mean_squared_error'],refit='r2')\n",
    "CV_dummy_mean.fit(X_train, y_train)"
   ]
  },
  {
   "cell_type": "code",
   "execution_count": 50,
   "metadata": {},
   "outputs": [
    {
     "data": {
      "text/plain": [
       "-0.04005679901373993"
      ]
     },
     "execution_count": 50,
     "metadata": {},
     "output_type": "execute_result"
    }
   ],
   "source": [
    "CV_dummy_mean.best_score_"
   ]
  },
  {
   "cell_type": "code",
   "execution_count": 51,
   "metadata": {},
   "outputs": [],
   "source": [
    "dummy_model = CV_dummy_mean.best_estimator_"
   ]
  },
  {
   "cell_type": "code",
   "execution_count": 52,
   "metadata": {},
   "outputs": [
    {
     "data": {
      "text/plain": [
       "-0.04425357537880048"
      ]
     },
     "execution_count": 52,
     "metadata": {},
     "output_type": "execute_result"
    }
   ],
   "source": [
    "dummy_model.score(X_test,y_test)"
   ]
  },
  {
   "cell_type": "code",
   "execution_count": 53,
   "metadata": {},
   "outputs": [
    {
     "data": {
      "text/html": [
       "<div>\n",
       "<style scoped>\n",
       "    .dataframe tbody tr th:only-of-type {\n",
       "        vertical-align: middle;\n",
       "    }\n",
       "\n",
       "    .dataframe tbody tr th {\n",
       "        vertical-align: top;\n",
       "    }\n",
       "\n",
       "    .dataframe thead th {\n",
       "        text-align: right;\n",
       "    }\n",
       "</style>\n",
       "<table border=\"1\" class=\"dataframe\">\n",
       "  <thead>\n",
       "    <tr style=\"text-align: right;\">\n",
       "      <th></th>\n",
       "      <th>mean_fit_time</th>\n",
       "      <th>std_fit_time</th>\n",
       "      <th>mean_score_time</th>\n",
       "      <th>std_score_time</th>\n",
       "      <th>param_strategy</th>\n",
       "      <th>params</th>\n",
       "      <th>split0_test_score</th>\n",
       "      <th>split1_test_score</th>\n",
       "      <th>split2_test_score</th>\n",
       "      <th>split3_test_score</th>\n",
       "      <th>split4_test_score</th>\n",
       "      <th>mean_test_score</th>\n",
       "      <th>std_test_score</th>\n",
       "      <th>rank_test_score</th>\n",
       "    </tr>\n",
       "  </thead>\n",
       "  <tbody>\n",
       "    <tr>\n",
       "      <th>0</th>\n",
       "      <td>0.000803</td>\n",
       "      <td>0.000402</td>\n",
       "      <td>0.000399</td>\n",
       "      <td>0.000489</td>\n",
       "      <td>mean</td>\n",
       "      <td>{'strategy': 'mean'}</td>\n",
       "      <td>-0.001422</td>\n",
       "      <td>-0.011349</td>\n",
       "      <td>-0.000008</td>\n",
       "      <td>-0.002899</td>\n",
       "      <td>-0.184606</td>\n",
       "      <td>-0.040057</td>\n",
       "      <td>0.072382</td>\n",
       "      <td>1</td>\n",
       "    </tr>\n",
       "    <tr>\n",
       "      <th>1</th>\n",
       "      <td>0.000798</td>\n",
       "      <td>0.000399</td>\n",
       "      <td>0.000199</td>\n",
       "      <td>0.000399</td>\n",
       "      <td>median</td>\n",
       "      <td>{'strategy': 'median'}</td>\n",
       "      <td>-0.040129</td>\n",
       "      <td>-0.039824</td>\n",
       "      <td>-0.040598</td>\n",
       "      <td>-0.149748</td>\n",
       "      <td>-0.111992</td>\n",
       "      <td>-0.076458</td>\n",
       "      <td>0.046004</td>\n",
       "      <td>2</td>\n",
       "    </tr>\n",
       "  </tbody>\n",
       "</table>\n",
       "</div>"
      ],
      "text/plain": [
       "   mean_fit_time  std_fit_time  mean_score_time  std_score_time  \\\n",
       "0       0.000803      0.000402         0.000399        0.000489   \n",
       "1       0.000798      0.000399         0.000199        0.000399   \n",
       "\n",
       "  param_strategy                  params  split0_test_score  \\\n",
       "0           mean    {'strategy': 'mean'}          -0.001422   \n",
       "1         median  {'strategy': 'median'}          -0.040129   \n",
       "\n",
       "   split1_test_score  split2_test_score  split3_test_score  split4_test_score  \\\n",
       "0          -0.011349          -0.000008          -0.002899          -0.184606   \n",
       "1          -0.039824          -0.040598          -0.149748          -0.111992   \n",
       "\n",
       "   mean_test_score  std_test_score  rank_test_score  \n",
       "0        -0.040057        0.072382                1  \n",
       "1        -0.076458        0.046004                2  "
      ]
     },
     "execution_count": 53,
     "metadata": {},
     "output_type": "execute_result"
    }
   ],
   "source": [
    "pd.DataFrame(CV_dummy_mean.cv_results_)"
   ]
  },
  {
   "cell_type": "markdown",
   "metadata": {},
   "source": [
    "### - Random Forest Regressor\n"
   ]
  },
  {
   "cell_type": "code",
   "execution_count": 54,
   "metadata": {},
   "outputs": [],
   "source": [
    "rfc_param_grid = {'n_estimators' : [100,200,300,400,500],\n",
    "              'max_features': ['auto', 'sqrt', 'log2'],\n",
    "              'max_depth' : [4,8,16,32,64],\n",
    "              'random_state': [12]}"
   ]
  },
  {
   "cell_type": "code",
   "execution_count": 84,
   "metadata": {},
   "outputs": [
    {
     "ename": "KeyboardInterrupt",
     "evalue": "",
     "output_type": "error",
     "traceback": [
      "\u001b[1;31m---------------------------------------------------------------------------\u001b[0m",
      "\u001b[1;31mKeyboardInterrupt\u001b[0m                         Traceback (most recent call last)",
      "\u001b[1;32me:\\Formation Data Scientist\\Projet_4\\Notebook\\Projet_4.ipynb Cellule 74\u001b[0m in \u001b[0;36m<cell line: 2>\u001b[1;34m()\u001b[0m\n\u001b[0;32m      <a href='vscode-notebook-cell:/e%3A/Formation%20Data%20Scientist/Projet_4/Notebook/Projet_4.ipynb#ch0000069?line=0'>1</a>\u001b[0m CV_rfc \u001b[39m=\u001b[39m GridSearchCV(estimator\u001b[39m=\u001b[39mRandomForestRegressor(), param_grid\u001b[39m=\u001b[39mrfc_param_grid, cv\u001b[39m=\u001b[39m \u001b[39m5\u001b[39m,scoring\u001b[39m=\u001b[39m[\u001b[39m'\u001b[39m\u001b[39mr2\u001b[39m\u001b[39m'\u001b[39m,\u001b[39m'\u001b[39m\u001b[39mneg_mean_squared_error\u001b[39m\u001b[39m'\u001b[39m,\u001b[39m'\u001b[39m\u001b[39mneg_root_mean_squared_error\u001b[39m\u001b[39m'\u001b[39m],refit\u001b[39m=\u001b[39m\u001b[39m'\u001b[39m\u001b[39mr2\u001b[39m\u001b[39m'\u001b[39m)\n\u001b[1;32m----> <a href='vscode-notebook-cell:/e%3A/Formation%20Data%20Scientist/Projet_4/Notebook/Projet_4.ipynb#ch0000069?line=1'>2</a>\u001b[0m CV_rfc\u001b[39m.\u001b[39;49mfit(X_train, y_train)\n",
      "File \u001b[1;32mc:\\Users\\GoGeo_Laptop_Aziz\\anaconda3\\lib\\site-packages\\sklearn\\model_selection\\_search.py:891\u001b[0m, in \u001b[0;36mBaseSearchCV.fit\u001b[1;34m(self, X, y, groups, **fit_params)\u001b[0m\n\u001b[0;32m    885\u001b[0m     results \u001b[39m=\u001b[39m \u001b[39mself\u001b[39m\u001b[39m.\u001b[39m_format_results(\n\u001b[0;32m    886\u001b[0m         all_candidate_params, n_splits, all_out, all_more_results\n\u001b[0;32m    887\u001b[0m     )\n\u001b[0;32m    889\u001b[0m     \u001b[39mreturn\u001b[39;00m results\n\u001b[1;32m--> 891\u001b[0m \u001b[39mself\u001b[39;49m\u001b[39m.\u001b[39;49m_run_search(evaluate_candidates)\n\u001b[0;32m    893\u001b[0m \u001b[39m# multimetric is determined here because in the case of a callable\u001b[39;00m\n\u001b[0;32m    894\u001b[0m \u001b[39m# self.scoring the return type is only known after calling\u001b[39;00m\n\u001b[0;32m    895\u001b[0m first_test_score \u001b[39m=\u001b[39m all_out[\u001b[39m0\u001b[39m][\u001b[39m\"\u001b[39m\u001b[39mtest_scores\u001b[39m\u001b[39m\"\u001b[39m]\n",
      "File \u001b[1;32mc:\\Users\\GoGeo_Laptop_Aziz\\anaconda3\\lib\\site-packages\\sklearn\\model_selection\\_search.py:1392\u001b[0m, in \u001b[0;36mGridSearchCV._run_search\u001b[1;34m(self, evaluate_candidates)\u001b[0m\n\u001b[0;32m   1390\u001b[0m \u001b[39mdef\u001b[39;00m \u001b[39m_run_search\u001b[39m(\u001b[39mself\u001b[39m, evaluate_candidates):\n\u001b[0;32m   1391\u001b[0m     \u001b[39m\"\"\"Search all candidates in param_grid\"\"\"\u001b[39;00m\n\u001b[1;32m-> 1392\u001b[0m     evaluate_candidates(ParameterGrid(\u001b[39mself\u001b[39;49m\u001b[39m.\u001b[39;49mparam_grid))\n",
      "File \u001b[1;32mc:\\Users\\GoGeo_Laptop_Aziz\\anaconda3\\lib\\site-packages\\sklearn\\model_selection\\_search.py:838\u001b[0m, in \u001b[0;36mBaseSearchCV.fit.<locals>.evaluate_candidates\u001b[1;34m(candidate_params, cv, more_results)\u001b[0m\n\u001b[0;32m    830\u001b[0m \u001b[39mif\u001b[39;00m \u001b[39mself\u001b[39m\u001b[39m.\u001b[39mverbose \u001b[39m>\u001b[39m \u001b[39m0\u001b[39m:\n\u001b[0;32m    831\u001b[0m     \u001b[39mprint\u001b[39m(\n\u001b[0;32m    832\u001b[0m         \u001b[39m\"\u001b[39m\u001b[39mFitting \u001b[39m\u001b[39m{0}\u001b[39;00m\u001b[39m folds for each of \u001b[39m\u001b[39m{1}\u001b[39;00m\u001b[39m candidates,\u001b[39m\u001b[39m\"\u001b[39m\n\u001b[0;32m    833\u001b[0m         \u001b[39m\"\u001b[39m\u001b[39m totalling \u001b[39m\u001b[39m{2}\u001b[39;00m\u001b[39m fits\u001b[39m\u001b[39m\"\u001b[39m\u001b[39m.\u001b[39mformat(\n\u001b[0;32m    834\u001b[0m             n_splits, n_candidates, n_candidates \u001b[39m*\u001b[39m n_splits\n\u001b[0;32m    835\u001b[0m         )\n\u001b[0;32m    836\u001b[0m     )\n\u001b[1;32m--> 838\u001b[0m out \u001b[39m=\u001b[39m parallel(\n\u001b[0;32m    839\u001b[0m     delayed(_fit_and_score)(\n\u001b[0;32m    840\u001b[0m         clone(base_estimator),\n\u001b[0;32m    841\u001b[0m         X,\n\u001b[0;32m    842\u001b[0m         y,\n\u001b[0;32m    843\u001b[0m         train\u001b[39m=\u001b[39;49mtrain,\n\u001b[0;32m    844\u001b[0m         test\u001b[39m=\u001b[39;49mtest,\n\u001b[0;32m    845\u001b[0m         parameters\u001b[39m=\u001b[39;49mparameters,\n\u001b[0;32m    846\u001b[0m         split_progress\u001b[39m=\u001b[39;49m(split_idx, n_splits),\n\u001b[0;32m    847\u001b[0m         candidate_progress\u001b[39m=\u001b[39;49m(cand_idx, n_candidates),\n\u001b[0;32m    848\u001b[0m         \u001b[39m*\u001b[39;49m\u001b[39m*\u001b[39;49mfit_and_score_kwargs,\n\u001b[0;32m    849\u001b[0m     )\n\u001b[0;32m    850\u001b[0m     \u001b[39mfor\u001b[39;49;00m (cand_idx, parameters), (split_idx, (train, test)) \u001b[39min\u001b[39;49;00m product(\n\u001b[0;32m    851\u001b[0m         \u001b[39menumerate\u001b[39;49m(candidate_params), \u001b[39menumerate\u001b[39;49m(cv\u001b[39m.\u001b[39;49msplit(X, y, groups))\n\u001b[0;32m    852\u001b[0m     )\n\u001b[0;32m    853\u001b[0m )\n\u001b[0;32m    855\u001b[0m \u001b[39mif\u001b[39;00m \u001b[39mlen\u001b[39m(out) \u001b[39m<\u001b[39m \u001b[39m1\u001b[39m:\n\u001b[0;32m    856\u001b[0m     \u001b[39mraise\u001b[39;00m \u001b[39mValueError\u001b[39;00m(\n\u001b[0;32m    857\u001b[0m         \u001b[39m\"\u001b[39m\u001b[39mNo fits were performed. \u001b[39m\u001b[39m\"\u001b[39m\n\u001b[0;32m    858\u001b[0m         \u001b[39m\"\u001b[39m\u001b[39mWas the CV iterator empty? \u001b[39m\u001b[39m\"\u001b[39m\n\u001b[0;32m    859\u001b[0m         \u001b[39m\"\u001b[39m\u001b[39mWere there no candidates?\u001b[39m\u001b[39m\"\u001b[39m\n\u001b[0;32m    860\u001b[0m     )\n",
      "File \u001b[1;32mc:\\Users\\GoGeo_Laptop_Aziz\\anaconda3\\lib\\site-packages\\joblib\\parallel.py:1046\u001b[0m, in \u001b[0;36mParallel.__call__\u001b[1;34m(self, iterable)\u001b[0m\n\u001b[0;32m   1043\u001b[0m \u001b[39mif\u001b[39;00m \u001b[39mself\u001b[39m\u001b[39m.\u001b[39mdispatch_one_batch(iterator):\n\u001b[0;32m   1044\u001b[0m     \u001b[39mself\u001b[39m\u001b[39m.\u001b[39m_iterating \u001b[39m=\u001b[39m \u001b[39mself\u001b[39m\u001b[39m.\u001b[39m_original_iterator \u001b[39mis\u001b[39;00m \u001b[39mnot\u001b[39;00m \u001b[39mNone\u001b[39;00m\n\u001b[1;32m-> 1046\u001b[0m \u001b[39mwhile\u001b[39;00m \u001b[39mself\u001b[39;49m\u001b[39m.\u001b[39;49mdispatch_one_batch(iterator):\n\u001b[0;32m   1047\u001b[0m     \u001b[39mpass\u001b[39;00m\n\u001b[0;32m   1049\u001b[0m \u001b[39mif\u001b[39;00m pre_dispatch \u001b[39m==\u001b[39m \u001b[39m\"\u001b[39m\u001b[39mall\u001b[39m\u001b[39m\"\u001b[39m \u001b[39mor\u001b[39;00m n_jobs \u001b[39m==\u001b[39m \u001b[39m1\u001b[39m:\n\u001b[0;32m   1050\u001b[0m     \u001b[39m# The iterable was consumed all at once by the above for loop.\u001b[39;00m\n\u001b[0;32m   1051\u001b[0m     \u001b[39m# No need to wait for async callbacks to trigger to\u001b[39;00m\n\u001b[0;32m   1052\u001b[0m     \u001b[39m# consumption.\u001b[39;00m\n",
      "File \u001b[1;32mc:\\Users\\GoGeo_Laptop_Aziz\\anaconda3\\lib\\site-packages\\joblib\\parallel.py:861\u001b[0m, in \u001b[0;36mParallel.dispatch_one_batch\u001b[1;34m(self, iterator)\u001b[0m\n\u001b[0;32m    859\u001b[0m     \u001b[39mreturn\u001b[39;00m \u001b[39mFalse\u001b[39;00m\n\u001b[0;32m    860\u001b[0m \u001b[39melse\u001b[39;00m:\n\u001b[1;32m--> 861\u001b[0m     \u001b[39mself\u001b[39;49m\u001b[39m.\u001b[39;49m_dispatch(tasks)\n\u001b[0;32m    862\u001b[0m     \u001b[39mreturn\u001b[39;00m \u001b[39mTrue\u001b[39;00m\n",
      "File \u001b[1;32mc:\\Users\\GoGeo_Laptop_Aziz\\anaconda3\\lib\\site-packages\\joblib\\parallel.py:779\u001b[0m, in \u001b[0;36mParallel._dispatch\u001b[1;34m(self, batch)\u001b[0m\n\u001b[0;32m    777\u001b[0m \u001b[39mwith\u001b[39;00m \u001b[39mself\u001b[39m\u001b[39m.\u001b[39m_lock:\n\u001b[0;32m    778\u001b[0m     job_idx \u001b[39m=\u001b[39m \u001b[39mlen\u001b[39m(\u001b[39mself\u001b[39m\u001b[39m.\u001b[39m_jobs)\n\u001b[1;32m--> 779\u001b[0m     job \u001b[39m=\u001b[39m \u001b[39mself\u001b[39;49m\u001b[39m.\u001b[39;49m_backend\u001b[39m.\u001b[39;49mapply_async(batch, callback\u001b[39m=\u001b[39;49mcb)\n\u001b[0;32m    780\u001b[0m     \u001b[39m# A job can complete so quickly than its callback is\u001b[39;00m\n\u001b[0;32m    781\u001b[0m     \u001b[39m# called before we get here, causing self._jobs to\u001b[39;00m\n\u001b[0;32m    782\u001b[0m     \u001b[39m# grow. To ensure correct results ordering, .insert is\u001b[39;00m\n\u001b[0;32m    783\u001b[0m     \u001b[39m# used (rather than .append) in the following line\u001b[39;00m\n\u001b[0;32m    784\u001b[0m     \u001b[39mself\u001b[39m\u001b[39m.\u001b[39m_jobs\u001b[39m.\u001b[39minsert(job_idx, job)\n",
      "File \u001b[1;32mc:\\Users\\GoGeo_Laptop_Aziz\\anaconda3\\lib\\site-packages\\joblib\\_parallel_backends.py:208\u001b[0m, in \u001b[0;36mSequentialBackend.apply_async\u001b[1;34m(self, func, callback)\u001b[0m\n\u001b[0;32m    206\u001b[0m \u001b[39mdef\u001b[39;00m \u001b[39mapply_async\u001b[39m(\u001b[39mself\u001b[39m, func, callback\u001b[39m=\u001b[39m\u001b[39mNone\u001b[39;00m):\n\u001b[0;32m    207\u001b[0m     \u001b[39m\"\"\"Schedule a func to be run\"\"\"\u001b[39;00m\n\u001b[1;32m--> 208\u001b[0m     result \u001b[39m=\u001b[39m ImmediateResult(func)\n\u001b[0;32m    209\u001b[0m     \u001b[39mif\u001b[39;00m callback:\n\u001b[0;32m    210\u001b[0m         callback(result)\n",
      "File \u001b[1;32mc:\\Users\\GoGeo_Laptop_Aziz\\anaconda3\\lib\\site-packages\\joblib\\_parallel_backends.py:572\u001b[0m, in \u001b[0;36mImmediateResult.__init__\u001b[1;34m(self, batch)\u001b[0m\n\u001b[0;32m    569\u001b[0m \u001b[39mdef\u001b[39;00m \u001b[39m__init__\u001b[39m(\u001b[39mself\u001b[39m, batch):\n\u001b[0;32m    570\u001b[0m     \u001b[39m# Don't delay the application, to avoid keeping the input\u001b[39;00m\n\u001b[0;32m    571\u001b[0m     \u001b[39m# arguments in memory\u001b[39;00m\n\u001b[1;32m--> 572\u001b[0m     \u001b[39mself\u001b[39m\u001b[39m.\u001b[39mresults \u001b[39m=\u001b[39m batch()\n",
      "File \u001b[1;32mc:\\Users\\GoGeo_Laptop_Aziz\\anaconda3\\lib\\site-packages\\joblib\\parallel.py:262\u001b[0m, in \u001b[0;36mBatchedCalls.__call__\u001b[1;34m(self)\u001b[0m\n\u001b[0;32m    258\u001b[0m \u001b[39mdef\u001b[39;00m \u001b[39m__call__\u001b[39m(\u001b[39mself\u001b[39m):\n\u001b[0;32m    259\u001b[0m     \u001b[39m# Set the default nested backend to self._backend but do not set the\u001b[39;00m\n\u001b[0;32m    260\u001b[0m     \u001b[39m# change the default number of processes to -1\u001b[39;00m\n\u001b[0;32m    261\u001b[0m     \u001b[39mwith\u001b[39;00m parallel_backend(\u001b[39mself\u001b[39m\u001b[39m.\u001b[39m_backend, n_jobs\u001b[39m=\u001b[39m\u001b[39mself\u001b[39m\u001b[39m.\u001b[39m_n_jobs):\n\u001b[1;32m--> 262\u001b[0m         \u001b[39mreturn\u001b[39;00m [func(\u001b[39m*\u001b[39margs, \u001b[39m*\u001b[39m\u001b[39m*\u001b[39mkwargs)\n\u001b[0;32m    263\u001b[0m                 \u001b[39mfor\u001b[39;00m func, args, kwargs \u001b[39min\u001b[39;00m \u001b[39mself\u001b[39m\u001b[39m.\u001b[39mitems]\n",
      "File \u001b[1;32mc:\\Users\\GoGeo_Laptop_Aziz\\anaconda3\\lib\\site-packages\\joblib\\parallel.py:262\u001b[0m, in \u001b[0;36m<listcomp>\u001b[1;34m(.0)\u001b[0m\n\u001b[0;32m    258\u001b[0m \u001b[39mdef\u001b[39;00m \u001b[39m__call__\u001b[39m(\u001b[39mself\u001b[39m):\n\u001b[0;32m    259\u001b[0m     \u001b[39m# Set the default nested backend to self._backend but do not set the\u001b[39;00m\n\u001b[0;32m    260\u001b[0m     \u001b[39m# change the default number of processes to -1\u001b[39;00m\n\u001b[0;32m    261\u001b[0m     \u001b[39mwith\u001b[39;00m parallel_backend(\u001b[39mself\u001b[39m\u001b[39m.\u001b[39m_backend, n_jobs\u001b[39m=\u001b[39m\u001b[39mself\u001b[39m\u001b[39m.\u001b[39m_n_jobs):\n\u001b[1;32m--> 262\u001b[0m         \u001b[39mreturn\u001b[39;00m [func(\u001b[39m*\u001b[39margs, \u001b[39m*\u001b[39m\u001b[39m*\u001b[39mkwargs)\n\u001b[0;32m    263\u001b[0m                 \u001b[39mfor\u001b[39;00m func, args, kwargs \u001b[39min\u001b[39;00m \u001b[39mself\u001b[39m\u001b[39m.\u001b[39mitems]\n",
      "File \u001b[1;32mc:\\Users\\GoGeo_Laptop_Aziz\\anaconda3\\lib\\site-packages\\sklearn\\utils\\fixes.py:216\u001b[0m, in \u001b[0;36m_FuncWrapper.__call__\u001b[1;34m(self, *args, **kwargs)\u001b[0m\n\u001b[0;32m    214\u001b[0m \u001b[39mdef\u001b[39;00m \u001b[39m__call__\u001b[39m(\u001b[39mself\u001b[39m, \u001b[39m*\u001b[39margs, \u001b[39m*\u001b[39m\u001b[39m*\u001b[39mkwargs):\n\u001b[0;32m    215\u001b[0m     \u001b[39mwith\u001b[39;00m config_context(\u001b[39m*\u001b[39m\u001b[39m*\u001b[39m\u001b[39mself\u001b[39m\u001b[39m.\u001b[39mconfig):\n\u001b[1;32m--> 216\u001b[0m         \u001b[39mreturn\u001b[39;00m \u001b[39mself\u001b[39m\u001b[39m.\u001b[39mfunction(\u001b[39m*\u001b[39margs, \u001b[39m*\u001b[39m\u001b[39m*\u001b[39mkwargs)\n",
      "File \u001b[1;32mc:\\Users\\GoGeo_Laptop_Aziz\\anaconda3\\lib\\site-packages\\sklearn\\model_selection\\_validation.py:680\u001b[0m, in \u001b[0;36m_fit_and_score\u001b[1;34m(estimator, X, y, scorer, train, test, verbose, parameters, fit_params, return_train_score, return_parameters, return_n_test_samples, return_times, return_estimator, split_progress, candidate_progress, error_score)\u001b[0m\n\u001b[0;32m    678\u001b[0m         estimator\u001b[39m.\u001b[39mfit(X_train, \u001b[39m*\u001b[39m\u001b[39m*\u001b[39mfit_params)\n\u001b[0;32m    679\u001b[0m     \u001b[39melse\u001b[39;00m:\n\u001b[1;32m--> 680\u001b[0m         estimator\u001b[39m.\u001b[39mfit(X_train, y_train, \u001b[39m*\u001b[39m\u001b[39m*\u001b[39mfit_params)\n\u001b[0;32m    682\u001b[0m \u001b[39mexcept\u001b[39;00m \u001b[39mException\u001b[39;00m:\n\u001b[0;32m    683\u001b[0m     \u001b[39m# Note fit time as time until error\u001b[39;00m\n\u001b[0;32m    684\u001b[0m     fit_time \u001b[39m=\u001b[39m time\u001b[39m.\u001b[39mtime() \u001b[39m-\u001b[39m start_time\n",
      "File \u001b[1;32mc:\\Users\\GoGeo_Laptop_Aziz\\anaconda3\\lib\\site-packages\\sklearn\\ensemble\\_forest.py:450\u001b[0m, in \u001b[0;36mBaseForest.fit\u001b[1;34m(self, X, y, sample_weight)\u001b[0m\n\u001b[0;32m    439\u001b[0m trees \u001b[39m=\u001b[39m [\n\u001b[0;32m    440\u001b[0m     \u001b[39mself\u001b[39m\u001b[39m.\u001b[39m_make_estimator(append\u001b[39m=\u001b[39m\u001b[39mFalse\u001b[39;00m, random_state\u001b[39m=\u001b[39mrandom_state)\n\u001b[0;32m    441\u001b[0m     \u001b[39mfor\u001b[39;00m i \u001b[39min\u001b[39;00m \u001b[39mrange\u001b[39m(n_more_estimators)\n\u001b[0;32m    442\u001b[0m ]\n\u001b[0;32m    444\u001b[0m \u001b[39m# Parallel loop: we prefer the threading backend as the Cython code\u001b[39;00m\n\u001b[0;32m    445\u001b[0m \u001b[39m# for fitting the trees is internally releasing the Python GIL\u001b[39;00m\n\u001b[0;32m    446\u001b[0m \u001b[39m# making threading more efficient than multiprocessing in\u001b[39;00m\n\u001b[0;32m    447\u001b[0m \u001b[39m# that case. However, for joblib 0.12+ we respect any\u001b[39;00m\n\u001b[0;32m    448\u001b[0m \u001b[39m# parallel_backend contexts set at a higher level,\u001b[39;00m\n\u001b[0;32m    449\u001b[0m \u001b[39m# since correctness does not rely on using threads.\u001b[39;00m\n\u001b[1;32m--> 450\u001b[0m trees \u001b[39m=\u001b[39m Parallel(\n\u001b[0;32m    451\u001b[0m     n_jobs\u001b[39m=\u001b[39;49m\u001b[39mself\u001b[39;49m\u001b[39m.\u001b[39;49mn_jobs,\n\u001b[0;32m    452\u001b[0m     verbose\u001b[39m=\u001b[39;49m\u001b[39mself\u001b[39;49m\u001b[39m.\u001b[39;49mverbose,\n\u001b[0;32m    453\u001b[0m     \u001b[39m*\u001b[39;49m\u001b[39m*\u001b[39;49m_joblib_parallel_args(prefer\u001b[39m=\u001b[39;49m\u001b[39m\"\u001b[39;49m\u001b[39mthreads\u001b[39;49m\u001b[39m\"\u001b[39;49m),\n\u001b[0;32m    454\u001b[0m )(\n\u001b[0;32m    455\u001b[0m     delayed(_parallel_build_trees)(\n\u001b[0;32m    456\u001b[0m         t,\n\u001b[0;32m    457\u001b[0m         \u001b[39mself\u001b[39;49m,\n\u001b[0;32m    458\u001b[0m         X,\n\u001b[0;32m    459\u001b[0m         y,\n\u001b[0;32m    460\u001b[0m         sample_weight,\n\u001b[0;32m    461\u001b[0m         i,\n\u001b[0;32m    462\u001b[0m         \u001b[39mlen\u001b[39;49m(trees),\n\u001b[0;32m    463\u001b[0m         verbose\u001b[39m=\u001b[39;49m\u001b[39mself\u001b[39;49m\u001b[39m.\u001b[39;49mverbose,\n\u001b[0;32m    464\u001b[0m         class_weight\u001b[39m=\u001b[39;49m\u001b[39mself\u001b[39;49m\u001b[39m.\u001b[39;49mclass_weight,\n\u001b[0;32m    465\u001b[0m         n_samples_bootstrap\u001b[39m=\u001b[39;49mn_samples_bootstrap,\n\u001b[0;32m    466\u001b[0m     )\n\u001b[0;32m    467\u001b[0m     \u001b[39mfor\u001b[39;49;00m i, t \u001b[39min\u001b[39;49;00m \u001b[39menumerate\u001b[39;49m(trees)\n\u001b[0;32m    468\u001b[0m )\n\u001b[0;32m    470\u001b[0m \u001b[39m# Collect newly grown trees\u001b[39;00m\n\u001b[0;32m    471\u001b[0m \u001b[39mself\u001b[39m\u001b[39m.\u001b[39mestimators_\u001b[39m.\u001b[39mextend(trees)\n",
      "File \u001b[1;32mc:\\Users\\GoGeo_Laptop_Aziz\\anaconda3\\lib\\site-packages\\joblib\\parallel.py:1046\u001b[0m, in \u001b[0;36mParallel.__call__\u001b[1;34m(self, iterable)\u001b[0m\n\u001b[0;32m   1043\u001b[0m \u001b[39mif\u001b[39;00m \u001b[39mself\u001b[39m\u001b[39m.\u001b[39mdispatch_one_batch(iterator):\n\u001b[0;32m   1044\u001b[0m     \u001b[39mself\u001b[39m\u001b[39m.\u001b[39m_iterating \u001b[39m=\u001b[39m \u001b[39mself\u001b[39m\u001b[39m.\u001b[39m_original_iterator \u001b[39mis\u001b[39;00m \u001b[39mnot\u001b[39;00m \u001b[39mNone\u001b[39;00m\n\u001b[1;32m-> 1046\u001b[0m \u001b[39mwhile\u001b[39;00m \u001b[39mself\u001b[39;49m\u001b[39m.\u001b[39;49mdispatch_one_batch(iterator):\n\u001b[0;32m   1047\u001b[0m     \u001b[39mpass\u001b[39;00m\n\u001b[0;32m   1049\u001b[0m \u001b[39mif\u001b[39;00m pre_dispatch \u001b[39m==\u001b[39m \u001b[39m\"\u001b[39m\u001b[39mall\u001b[39m\u001b[39m\"\u001b[39m \u001b[39mor\u001b[39;00m n_jobs \u001b[39m==\u001b[39m \u001b[39m1\u001b[39m:\n\u001b[0;32m   1050\u001b[0m     \u001b[39m# The iterable was consumed all at once by the above for loop.\u001b[39;00m\n\u001b[0;32m   1051\u001b[0m     \u001b[39m# No need to wait for async callbacks to trigger to\u001b[39;00m\n\u001b[0;32m   1052\u001b[0m     \u001b[39m# consumption.\u001b[39;00m\n",
      "File \u001b[1;32mc:\\Users\\GoGeo_Laptop_Aziz\\anaconda3\\lib\\site-packages\\joblib\\parallel.py:861\u001b[0m, in \u001b[0;36mParallel.dispatch_one_batch\u001b[1;34m(self, iterator)\u001b[0m\n\u001b[0;32m    859\u001b[0m     \u001b[39mreturn\u001b[39;00m \u001b[39mFalse\u001b[39;00m\n\u001b[0;32m    860\u001b[0m \u001b[39melse\u001b[39;00m:\n\u001b[1;32m--> 861\u001b[0m     \u001b[39mself\u001b[39;49m\u001b[39m.\u001b[39;49m_dispatch(tasks)\n\u001b[0;32m    862\u001b[0m     \u001b[39mreturn\u001b[39;00m \u001b[39mTrue\u001b[39;00m\n",
      "File \u001b[1;32mc:\\Users\\GoGeo_Laptop_Aziz\\anaconda3\\lib\\site-packages\\joblib\\parallel.py:779\u001b[0m, in \u001b[0;36mParallel._dispatch\u001b[1;34m(self, batch)\u001b[0m\n\u001b[0;32m    777\u001b[0m \u001b[39mwith\u001b[39;00m \u001b[39mself\u001b[39m\u001b[39m.\u001b[39m_lock:\n\u001b[0;32m    778\u001b[0m     job_idx \u001b[39m=\u001b[39m \u001b[39mlen\u001b[39m(\u001b[39mself\u001b[39m\u001b[39m.\u001b[39m_jobs)\n\u001b[1;32m--> 779\u001b[0m     job \u001b[39m=\u001b[39m \u001b[39mself\u001b[39;49m\u001b[39m.\u001b[39;49m_backend\u001b[39m.\u001b[39;49mapply_async(batch, callback\u001b[39m=\u001b[39;49mcb)\n\u001b[0;32m    780\u001b[0m     \u001b[39m# A job can complete so quickly than its callback is\u001b[39;00m\n\u001b[0;32m    781\u001b[0m     \u001b[39m# called before we get here, causing self._jobs to\u001b[39;00m\n\u001b[0;32m    782\u001b[0m     \u001b[39m# grow. To ensure correct results ordering, .insert is\u001b[39;00m\n\u001b[0;32m    783\u001b[0m     \u001b[39m# used (rather than .append) in the following line\u001b[39;00m\n\u001b[0;32m    784\u001b[0m     \u001b[39mself\u001b[39m\u001b[39m.\u001b[39m_jobs\u001b[39m.\u001b[39minsert(job_idx, job)\n",
      "File \u001b[1;32mc:\\Users\\GoGeo_Laptop_Aziz\\anaconda3\\lib\\site-packages\\joblib\\_parallel_backends.py:208\u001b[0m, in \u001b[0;36mSequentialBackend.apply_async\u001b[1;34m(self, func, callback)\u001b[0m\n\u001b[0;32m    206\u001b[0m \u001b[39mdef\u001b[39;00m \u001b[39mapply_async\u001b[39m(\u001b[39mself\u001b[39m, func, callback\u001b[39m=\u001b[39m\u001b[39mNone\u001b[39;00m):\n\u001b[0;32m    207\u001b[0m     \u001b[39m\"\"\"Schedule a func to be run\"\"\"\u001b[39;00m\n\u001b[1;32m--> 208\u001b[0m     result \u001b[39m=\u001b[39m ImmediateResult(func)\n\u001b[0;32m    209\u001b[0m     \u001b[39mif\u001b[39;00m callback:\n\u001b[0;32m    210\u001b[0m         callback(result)\n",
      "File \u001b[1;32mc:\\Users\\GoGeo_Laptop_Aziz\\anaconda3\\lib\\site-packages\\joblib\\_parallel_backends.py:572\u001b[0m, in \u001b[0;36mImmediateResult.__init__\u001b[1;34m(self, batch)\u001b[0m\n\u001b[0;32m    569\u001b[0m \u001b[39mdef\u001b[39;00m \u001b[39m__init__\u001b[39m(\u001b[39mself\u001b[39m, batch):\n\u001b[0;32m    570\u001b[0m     \u001b[39m# Don't delay the application, to avoid keeping the input\u001b[39;00m\n\u001b[0;32m    571\u001b[0m     \u001b[39m# arguments in memory\u001b[39;00m\n\u001b[1;32m--> 572\u001b[0m     \u001b[39mself\u001b[39m\u001b[39m.\u001b[39mresults \u001b[39m=\u001b[39m batch()\n",
      "File \u001b[1;32mc:\\Users\\GoGeo_Laptop_Aziz\\anaconda3\\lib\\site-packages\\joblib\\parallel.py:262\u001b[0m, in \u001b[0;36mBatchedCalls.__call__\u001b[1;34m(self)\u001b[0m\n\u001b[0;32m    258\u001b[0m \u001b[39mdef\u001b[39;00m \u001b[39m__call__\u001b[39m(\u001b[39mself\u001b[39m):\n\u001b[0;32m    259\u001b[0m     \u001b[39m# Set the default nested backend to self._backend but do not set the\u001b[39;00m\n\u001b[0;32m    260\u001b[0m     \u001b[39m# change the default number of processes to -1\u001b[39;00m\n\u001b[0;32m    261\u001b[0m     \u001b[39mwith\u001b[39;00m parallel_backend(\u001b[39mself\u001b[39m\u001b[39m.\u001b[39m_backend, n_jobs\u001b[39m=\u001b[39m\u001b[39mself\u001b[39m\u001b[39m.\u001b[39m_n_jobs):\n\u001b[1;32m--> 262\u001b[0m         \u001b[39mreturn\u001b[39;00m [func(\u001b[39m*\u001b[39margs, \u001b[39m*\u001b[39m\u001b[39m*\u001b[39mkwargs)\n\u001b[0;32m    263\u001b[0m                 \u001b[39mfor\u001b[39;00m func, args, kwargs \u001b[39min\u001b[39;00m \u001b[39mself\u001b[39m\u001b[39m.\u001b[39mitems]\n",
      "File \u001b[1;32mc:\\Users\\GoGeo_Laptop_Aziz\\anaconda3\\lib\\site-packages\\joblib\\parallel.py:262\u001b[0m, in \u001b[0;36m<listcomp>\u001b[1;34m(.0)\u001b[0m\n\u001b[0;32m    258\u001b[0m \u001b[39mdef\u001b[39;00m \u001b[39m__call__\u001b[39m(\u001b[39mself\u001b[39m):\n\u001b[0;32m    259\u001b[0m     \u001b[39m# Set the default nested backend to self._backend but do not set the\u001b[39;00m\n\u001b[0;32m    260\u001b[0m     \u001b[39m# change the default number of processes to -1\u001b[39;00m\n\u001b[0;32m    261\u001b[0m     \u001b[39mwith\u001b[39;00m parallel_backend(\u001b[39mself\u001b[39m\u001b[39m.\u001b[39m_backend, n_jobs\u001b[39m=\u001b[39m\u001b[39mself\u001b[39m\u001b[39m.\u001b[39m_n_jobs):\n\u001b[1;32m--> 262\u001b[0m         \u001b[39mreturn\u001b[39;00m [func(\u001b[39m*\u001b[39margs, \u001b[39m*\u001b[39m\u001b[39m*\u001b[39mkwargs)\n\u001b[0;32m    263\u001b[0m                 \u001b[39mfor\u001b[39;00m func, args, kwargs \u001b[39min\u001b[39;00m \u001b[39mself\u001b[39m\u001b[39m.\u001b[39mitems]\n",
      "File \u001b[1;32mc:\\Users\\GoGeo_Laptop_Aziz\\anaconda3\\lib\\site-packages\\sklearn\\utils\\fixes.py:216\u001b[0m, in \u001b[0;36m_FuncWrapper.__call__\u001b[1;34m(self, *args, **kwargs)\u001b[0m\n\u001b[0;32m    214\u001b[0m \u001b[39mdef\u001b[39;00m \u001b[39m__call__\u001b[39m(\u001b[39mself\u001b[39m, \u001b[39m*\u001b[39margs, \u001b[39m*\u001b[39m\u001b[39m*\u001b[39mkwargs):\n\u001b[0;32m    215\u001b[0m     \u001b[39mwith\u001b[39;00m config_context(\u001b[39m*\u001b[39m\u001b[39m*\u001b[39m\u001b[39mself\u001b[39m\u001b[39m.\u001b[39mconfig):\n\u001b[1;32m--> 216\u001b[0m         \u001b[39mreturn\u001b[39;00m \u001b[39mself\u001b[39m\u001b[39m.\u001b[39mfunction(\u001b[39m*\u001b[39margs, \u001b[39m*\u001b[39m\u001b[39m*\u001b[39mkwargs)\n",
      "File \u001b[1;32mc:\\Users\\GoGeo_Laptop_Aziz\\anaconda3\\lib\\site-packages\\sklearn\\ensemble\\_forest.py:185\u001b[0m, in \u001b[0;36m_parallel_build_trees\u001b[1;34m(tree, forest, X, y, sample_weight, tree_idx, n_trees, verbose, class_weight, n_samples_bootstrap)\u001b[0m\n\u001b[0;32m    182\u001b[0m     \u001b[39melif\u001b[39;00m class_weight \u001b[39m==\u001b[39m \u001b[39m\"\u001b[39m\u001b[39mbalanced_subsample\u001b[39m\u001b[39m\"\u001b[39m:\n\u001b[0;32m    183\u001b[0m         curr_sample_weight \u001b[39m*\u001b[39m\u001b[39m=\u001b[39m compute_sample_weight(\u001b[39m\"\u001b[39m\u001b[39mbalanced\u001b[39m\u001b[39m\"\u001b[39m, y, indices\u001b[39m=\u001b[39mindices)\n\u001b[1;32m--> 185\u001b[0m     tree\u001b[39m.\u001b[39;49mfit(X, y, sample_weight\u001b[39m=\u001b[39;49mcurr_sample_weight, check_input\u001b[39m=\u001b[39;49m\u001b[39mFalse\u001b[39;49;00m)\n\u001b[0;32m    186\u001b[0m \u001b[39melse\u001b[39;00m:\n\u001b[0;32m    187\u001b[0m     tree\u001b[39m.\u001b[39mfit(X, y, sample_weight\u001b[39m=\u001b[39msample_weight, check_input\u001b[39m=\u001b[39m\u001b[39mFalse\u001b[39;00m)\n",
      "File \u001b[1;32mc:\\Users\\GoGeo_Laptop_Aziz\\anaconda3\\lib\\site-packages\\sklearn\\tree\\_classes.py:1315\u001b[0m, in \u001b[0;36mDecisionTreeRegressor.fit\u001b[1;34m(self, X, y, sample_weight, check_input, X_idx_sorted)\u001b[0m\n\u001b[0;32m   1278\u001b[0m \u001b[39mdef\u001b[39;00m \u001b[39mfit\u001b[39m(\n\u001b[0;32m   1279\u001b[0m     \u001b[39mself\u001b[39m, X, y, sample_weight\u001b[39m=\u001b[39m\u001b[39mNone\u001b[39;00m, check_input\u001b[39m=\u001b[39m\u001b[39mTrue\u001b[39;00m, X_idx_sorted\u001b[39m=\u001b[39m\u001b[39m\"\u001b[39m\u001b[39mdeprecated\u001b[39m\u001b[39m\"\u001b[39m\n\u001b[0;32m   1280\u001b[0m ):\n\u001b[0;32m   1281\u001b[0m     \u001b[39m\"\"\"Build a decision tree regressor from the training set (X, y).\u001b[39;00m\n\u001b[0;32m   1282\u001b[0m \n\u001b[0;32m   1283\u001b[0m \u001b[39m    Parameters\u001b[39;00m\n\u001b[1;32m   (...)\u001b[0m\n\u001b[0;32m   1312\u001b[0m \u001b[39m        Fitted estimator.\u001b[39;00m\n\u001b[0;32m   1313\u001b[0m \u001b[39m    \"\"\"\u001b[39;00m\n\u001b[1;32m-> 1315\u001b[0m     \u001b[39msuper\u001b[39;49m()\u001b[39m.\u001b[39;49mfit(\n\u001b[0;32m   1316\u001b[0m         X,\n\u001b[0;32m   1317\u001b[0m         y,\n\u001b[0;32m   1318\u001b[0m         sample_weight\u001b[39m=\u001b[39;49msample_weight,\n\u001b[0;32m   1319\u001b[0m         check_input\u001b[39m=\u001b[39;49mcheck_input,\n\u001b[0;32m   1320\u001b[0m         X_idx_sorted\u001b[39m=\u001b[39;49mX_idx_sorted,\n\u001b[0;32m   1321\u001b[0m     )\n\u001b[0;32m   1322\u001b[0m     \u001b[39mreturn\u001b[39;00m \u001b[39mself\u001b[39m\n",
      "File \u001b[1;32mc:\\Users\\GoGeo_Laptop_Aziz\\anaconda3\\lib\\site-packages\\sklearn\\tree\\_classes.py:420\u001b[0m, in \u001b[0;36mBaseDecisionTree.fit\u001b[1;34m(self, X, y, sample_weight, check_input, X_idx_sorted)\u001b[0m\n\u001b[0;32m    409\u001b[0m \u001b[39melse\u001b[39;00m:\n\u001b[0;32m    410\u001b[0m     builder \u001b[39m=\u001b[39m BestFirstTreeBuilder(\n\u001b[0;32m    411\u001b[0m         splitter,\n\u001b[0;32m    412\u001b[0m         min_samples_split,\n\u001b[1;32m   (...)\u001b[0m\n\u001b[0;32m    417\u001b[0m         \u001b[39mself\u001b[39m\u001b[39m.\u001b[39mmin_impurity_decrease,\n\u001b[0;32m    418\u001b[0m     )\n\u001b[1;32m--> 420\u001b[0m builder\u001b[39m.\u001b[39;49mbuild(\u001b[39mself\u001b[39;49m\u001b[39m.\u001b[39;49mtree_, X, y, sample_weight)\n\u001b[0;32m    422\u001b[0m \u001b[39mif\u001b[39;00m \u001b[39mself\u001b[39m\u001b[39m.\u001b[39mn_outputs_ \u001b[39m==\u001b[39m \u001b[39m1\u001b[39m \u001b[39mand\u001b[39;00m is_classifier(\u001b[39mself\u001b[39m):\n\u001b[0;32m    423\u001b[0m     \u001b[39mself\u001b[39m\u001b[39m.\u001b[39mn_classes_ \u001b[39m=\u001b[39m \u001b[39mself\u001b[39m\u001b[39m.\u001b[39mn_classes_[\u001b[39m0\u001b[39m]\n",
      "\u001b[1;31mKeyboardInterrupt\u001b[0m: "
     ]
    }
   ],
   "source": [
    "CV_rfc = GridSearchCV(estimator=RandomForestRegressor(), param_grid=rfc_param_grid, cv= 5,scoring=['r2','neg_mean_squared_error','neg_root_mean_squared_error'],refit='r2')\n",
    "CV_rfc.fit(X_train, y_train)"
   ]
  },
  {
   "cell_type": "code",
   "execution_count": 56,
   "metadata": {},
   "outputs": [
    {
     "data": {
      "text/plain": [
       "{'max_depth': 16,\n",
       " 'max_features': 'sqrt',\n",
       " 'n_estimators': 400,\n",
       " 'random_state': 12}"
      ]
     },
     "execution_count": 56,
     "metadata": {},
     "output_type": "execute_result"
    }
   ],
   "source": [
    "CV_rfc.best_params_"
   ]
  },
  {
   "cell_type": "code",
   "execution_count": 57,
   "metadata": {},
   "outputs": [
    {
     "data": {
      "text/plain": [
       "0.536332240235964"
      ]
     },
     "execution_count": 57,
     "metadata": {},
     "output_type": "execute_result"
    }
   ],
   "source": [
    "CV_rfc.best_score_"
   ]
  },
  {
   "cell_type": "code",
   "execution_count": 58,
   "metadata": {},
   "outputs": [],
   "source": [
    "model = CV_rfc.best_estimator_"
   ]
  },
  {
   "cell_type": "code",
   "execution_count": 59,
   "metadata": {},
   "outputs": [
    {
     "data": {
      "text/plain": [
       "0.4334947214171825"
      ]
     },
     "execution_count": 59,
     "metadata": {},
     "output_type": "execute_result"
    }
   ],
   "source": [
    "model.score(X_test,y_test)"
   ]
  },
  {
   "cell_type": "code",
   "execution_count": 60,
   "metadata": {},
   "outputs": [
    {
     "data": {
      "text/html": [
       "<div>\n",
       "<style scoped>\n",
       "    .dataframe tbody tr th:only-of-type {\n",
       "        vertical-align: middle;\n",
       "    }\n",
       "\n",
       "    .dataframe tbody tr th {\n",
       "        vertical-align: top;\n",
       "    }\n",
       "\n",
       "    .dataframe thead th {\n",
       "        text-align: right;\n",
       "    }\n",
       "</style>\n",
       "<table border=\"1\" class=\"dataframe\">\n",
       "  <thead>\n",
       "    <tr style=\"text-align: right;\">\n",
       "      <th></th>\n",
       "      <th>0</th>\n",
       "    </tr>\n",
       "  </thead>\n",
       "  <tbody>\n",
       "    <tr>\n",
       "      <th>0</th>\n",
       "      <td>0.038548</td>\n",
       "    </tr>\n",
       "    <tr>\n",
       "      <th>1</th>\n",
       "      <td>0.052585</td>\n",
       "    </tr>\n",
       "    <tr>\n",
       "      <th>2</th>\n",
       "      <td>0.164780</td>\n",
       "    </tr>\n",
       "    <tr>\n",
       "      <th>3</th>\n",
       "      <td>0.047196</td>\n",
       "    </tr>\n",
       "    <tr>\n",
       "      <th>4</th>\n",
       "      <td>0.153842</td>\n",
       "    </tr>\n",
       "    <tr>\n",
       "      <th>5</th>\n",
       "      <td>0.012107</td>\n",
       "    </tr>\n",
       "    <tr>\n",
       "      <th>6</th>\n",
       "      <td>0.202407</td>\n",
       "    </tr>\n",
       "    <tr>\n",
       "      <th>7</th>\n",
       "      <td>0.027327</td>\n",
       "    </tr>\n",
       "    <tr>\n",
       "      <th>8</th>\n",
       "      <td>0.000338</td>\n",
       "    </tr>\n",
       "    <tr>\n",
       "      <th>9</th>\n",
       "      <td>0.012030</td>\n",
       "    </tr>\n",
       "    <tr>\n",
       "      <th>10</th>\n",
       "      <td>0.000212</td>\n",
       "    </tr>\n",
       "    <tr>\n",
       "      <th>11</th>\n",
       "      <td>0.198814</td>\n",
       "    </tr>\n",
       "    <tr>\n",
       "      <th>12</th>\n",
       "      <td>0.005935</td>\n",
       "    </tr>\n",
       "    <tr>\n",
       "      <th>13</th>\n",
       "      <td>0.000044</td>\n",
       "    </tr>\n",
       "    <tr>\n",
       "      <th>14</th>\n",
       "      <td>0.003352</td>\n",
       "    </tr>\n",
       "    <tr>\n",
       "      <th>15</th>\n",
       "      <td>0.016324</td>\n",
       "    </tr>\n",
       "    <tr>\n",
       "      <th>16</th>\n",
       "      <td>0.004391</td>\n",
       "    </tr>\n",
       "    <tr>\n",
       "      <th>17</th>\n",
       "      <td>0.002434</td>\n",
       "    </tr>\n",
       "    <tr>\n",
       "      <th>18</th>\n",
       "      <td>0.006692</td>\n",
       "    </tr>\n",
       "    <tr>\n",
       "      <th>19</th>\n",
       "      <td>0.000009</td>\n",
       "    </tr>\n",
       "    <tr>\n",
       "      <th>20</th>\n",
       "      <td>0.000282</td>\n",
       "    </tr>\n",
       "    <tr>\n",
       "      <th>21</th>\n",
       "      <td>0.000838</td>\n",
       "    </tr>\n",
       "    <tr>\n",
       "      <th>22</th>\n",
       "      <td>0.000090</td>\n",
       "    </tr>\n",
       "    <tr>\n",
       "      <th>23</th>\n",
       "      <td>0.001908</td>\n",
       "    </tr>\n",
       "    <tr>\n",
       "      <th>24</th>\n",
       "      <td>0.002866</td>\n",
       "    </tr>\n",
       "    <tr>\n",
       "      <th>25</th>\n",
       "      <td>0.000838</td>\n",
       "    </tr>\n",
       "    <tr>\n",
       "      <th>26</th>\n",
       "      <td>0.000449</td>\n",
       "    </tr>\n",
       "    <tr>\n",
       "      <th>27</th>\n",
       "      <td>0.001611</td>\n",
       "    </tr>\n",
       "    <tr>\n",
       "      <th>28</th>\n",
       "      <td>0.000165</td>\n",
       "    </tr>\n",
       "    <tr>\n",
       "      <th>29</th>\n",
       "      <td>0.003333</td>\n",
       "    </tr>\n",
       "    <tr>\n",
       "      <th>30</th>\n",
       "      <td>0.010906</td>\n",
       "    </tr>\n",
       "    <tr>\n",
       "      <th>31</th>\n",
       "      <td>0.005493</td>\n",
       "    </tr>\n",
       "    <tr>\n",
       "      <th>32</th>\n",
       "      <td>0.011783</td>\n",
       "    </tr>\n",
       "    <tr>\n",
       "      <th>33</th>\n",
       "      <td>0.004103</td>\n",
       "    </tr>\n",
       "    <tr>\n",
       "      <th>34</th>\n",
       "      <td>0.005966</td>\n",
       "    </tr>\n",
       "  </tbody>\n",
       "</table>\n",
       "</div>"
      ],
      "text/plain": [
       "           0\n",
       "0   0.038548\n",
       "1   0.052585\n",
       "2   0.164780\n",
       "3   0.047196\n",
       "4   0.153842\n",
       "5   0.012107\n",
       "6   0.202407\n",
       "7   0.027327\n",
       "8   0.000338\n",
       "9   0.012030\n",
       "10  0.000212\n",
       "11  0.198814\n",
       "12  0.005935\n",
       "13  0.000044\n",
       "14  0.003352\n",
       "15  0.016324\n",
       "16  0.004391\n",
       "17  0.002434\n",
       "18  0.006692\n",
       "19  0.000009\n",
       "20  0.000282\n",
       "21  0.000838\n",
       "22  0.000090\n",
       "23  0.001908\n",
       "24  0.002866\n",
       "25  0.000838\n",
       "26  0.000449\n",
       "27  0.001611\n",
       "28  0.000165\n",
       "29  0.003333\n",
       "30  0.010906\n",
       "31  0.005493\n",
       "32  0.011783\n",
       "33  0.004103\n",
       "34  0.005966"
      ]
     },
     "execution_count": 60,
     "metadata": {},
     "output_type": "execute_result"
    }
   ],
   "source": [
    "pd.DataFrame(model.feature_importances_)"
   ]
  },
  {
   "cell_type": "code",
   "execution_count": 61,
   "metadata": {},
   "outputs": [
    {
     "data": {
      "text/html": [
       "<div>\n",
       "<style scoped>\n",
       "    .dataframe tbody tr th:only-of-type {\n",
       "        vertical-align: middle;\n",
       "    }\n",
       "\n",
       "    .dataframe tbody tr th {\n",
       "        vertical-align: top;\n",
       "    }\n",
       "\n",
       "    .dataframe thead th {\n",
       "        text-align: right;\n",
       "    }\n",
       "</style>\n",
       "<table border=\"1\" class=\"dataframe\">\n",
       "  <thead>\n",
       "    <tr style=\"text-align: right;\">\n",
       "      <th></th>\n",
       "      <th>mean_fit_time</th>\n",
       "      <th>std_fit_time</th>\n",
       "      <th>mean_score_time</th>\n",
       "      <th>std_score_time</th>\n",
       "      <th>param_max_depth</th>\n",
       "      <th>param_max_features</th>\n",
       "      <th>param_n_estimators</th>\n",
       "      <th>param_random_state</th>\n",
       "      <th>params</th>\n",
       "      <th>split0_test_r2</th>\n",
       "      <th>split1_test_r2</th>\n",
       "      <th>split2_test_r2</th>\n",
       "      <th>split3_test_r2</th>\n",
       "      <th>split4_test_r2</th>\n",
       "      <th>mean_test_r2</th>\n",
       "      <th>std_test_r2</th>\n",
       "      <th>rank_test_r2</th>\n",
       "    </tr>\n",
       "  </thead>\n",
       "  <tbody>\n",
       "    <tr>\n",
       "      <th>0</th>\n",
       "      <td>0.189272</td>\n",
       "      <td>0.004116</td>\n",
       "      <td>0.008103</td>\n",
       "      <td>0.000516</td>\n",
       "      <td>4</td>\n",
       "      <td>auto</td>\n",
       "      <td>100</td>\n",
       "      <td>12</td>\n",
       "      <td>{'max_depth': 4, 'max_features': 'auto', 'n_es...</td>\n",
       "      <td>0.625470</td>\n",
       "      <td>0.719655</td>\n",
       "      <td>0.614819</td>\n",
       "      <td>0.317225</td>\n",
       "      <td>-0.571703</td>\n",
       "      <td>0.341093</td>\n",
       "      <td>0.475998</td>\n",
       "      <td>70</td>\n",
       "    </tr>\n",
       "    <tr>\n",
       "      <th>1</th>\n",
       "      <td>0.371164</td>\n",
       "      <td>0.005912</td>\n",
       "      <td>0.014138</td>\n",
       "      <td>0.000236</td>\n",
       "      <td>4</td>\n",
       "      <td>auto</td>\n",
       "      <td>200</td>\n",
       "      <td>12</td>\n",
       "      <td>{'max_depth': 4, 'max_features': 'auto', 'n_es...</td>\n",
       "      <td>0.635144</td>\n",
       "      <td>0.720615</td>\n",
       "      <td>0.660036</td>\n",
       "      <td>0.309612</td>\n",
       "      <td>-0.635357</td>\n",
       "      <td>0.338010</td>\n",
       "      <td>0.507272</td>\n",
       "      <td>72</td>\n",
       "    </tr>\n",
       "    <tr>\n",
       "      <th>2</th>\n",
       "      <td>0.552933</td>\n",
       "      <td>0.006370</td>\n",
       "      <td>0.020918</td>\n",
       "      <td>0.000828</td>\n",
       "      <td>4</td>\n",
       "      <td>auto</td>\n",
       "      <td>300</td>\n",
       "      <td>12</td>\n",
       "      <td>{'max_depth': 4, 'max_features': 'auto', 'n_es...</td>\n",
       "      <td>0.636532</td>\n",
       "      <td>0.718740</td>\n",
       "      <td>0.642371</td>\n",
       "      <td>0.319910</td>\n",
       "      <td>-0.501523</td>\n",
       "      <td>0.363206</td>\n",
       "      <td>0.453580</td>\n",
       "      <td>54</td>\n",
       "    </tr>\n",
       "    <tr>\n",
       "      <th>3</th>\n",
       "      <td>0.742904</td>\n",
       "      <td>0.003558</td>\n",
       "      <td>0.028315</td>\n",
       "      <td>0.001230</td>\n",
       "      <td>4</td>\n",
       "      <td>auto</td>\n",
       "      <td>400</td>\n",
       "      <td>12</td>\n",
       "      <td>{'max_depth': 4, 'max_features': 'auto', 'n_es...</td>\n",
       "      <td>0.653722</td>\n",
       "      <td>0.717415</td>\n",
       "      <td>0.647109</td>\n",
       "      <td>0.337499</td>\n",
       "      <td>-0.519182</td>\n",
       "      <td>0.367313</td>\n",
       "      <td>0.462526</td>\n",
       "      <td>53</td>\n",
       "    </tr>\n",
       "    <tr>\n",
       "      <th>4</th>\n",
       "      <td>0.872036</td>\n",
       "      <td>0.010180</td>\n",
       "      <td>0.032370</td>\n",
       "      <td>0.000773</td>\n",
       "      <td>4</td>\n",
       "      <td>auto</td>\n",
       "      <td>500</td>\n",
       "      <td>12</td>\n",
       "      <td>{'max_depth': 4, 'max_features': 'auto', 'n_es...</td>\n",
       "      <td>0.651537</td>\n",
       "      <td>0.713771</td>\n",
       "      <td>0.623223</td>\n",
       "      <td>0.317003</td>\n",
       "      <td>-0.541972</td>\n",
       "      <td>0.352713</td>\n",
       "      <td>0.467883</td>\n",
       "      <td>60</td>\n",
       "    </tr>\n",
       "    <tr>\n",
       "      <th>...</th>\n",
       "      <td>...</td>\n",
       "      <td>...</td>\n",
       "      <td>...</td>\n",
       "      <td>...</td>\n",
       "      <td>...</td>\n",
       "      <td>...</td>\n",
       "      <td>...</td>\n",
       "      <td>...</td>\n",
       "      <td>...</td>\n",
       "      <td>...</td>\n",
       "      <td>...</td>\n",
       "      <td>...</td>\n",
       "      <td>...</td>\n",
       "      <td>...</td>\n",
       "      <td>...</td>\n",
       "      <td>...</td>\n",
       "      <td>...</td>\n",
       "    </tr>\n",
       "    <tr>\n",
       "      <th>70</th>\n",
       "      <td>0.199744</td>\n",
       "      <td>0.003815</td>\n",
       "      <td>0.011673</td>\n",
       "      <td>0.000390</td>\n",
       "      <td>64</td>\n",
       "      <td>log2</td>\n",
       "      <td>100</td>\n",
       "      <td>12</td>\n",
       "      <td>{'max_depth': 64, 'max_features': 'log2', 'n_e...</td>\n",
       "      <td>0.646568</td>\n",
       "      <td>0.609544</td>\n",
       "      <td>0.709715</td>\n",
       "      <td>0.266836</td>\n",
       "      <td>0.309095</td>\n",
       "      <td>0.508352</td>\n",
       "      <td>0.183261</td>\n",
       "      <td>37</td>\n",
       "    </tr>\n",
       "    <tr>\n",
       "      <th>71</th>\n",
       "      <td>0.395852</td>\n",
       "      <td>0.006863</td>\n",
       "      <td>0.022690</td>\n",
       "      <td>0.001920</td>\n",
       "      <td>64</td>\n",
       "      <td>log2</td>\n",
       "      <td>200</td>\n",
       "      <td>12</td>\n",
       "      <td>{'max_depth': 64, 'max_features': 'log2', 'n_e...</td>\n",
       "      <td>0.681653</td>\n",
       "      <td>0.625874</td>\n",
       "      <td>0.691803</td>\n",
       "      <td>0.301150</td>\n",
       "      <td>0.325711</td>\n",
       "      <td>0.525238</td>\n",
       "      <td>0.174565</td>\n",
       "      <td>13</td>\n",
       "    </tr>\n",
       "    <tr>\n",
       "      <th>72</th>\n",
       "      <td>0.600959</td>\n",
       "      <td>0.018449</td>\n",
       "      <td>0.032929</td>\n",
       "      <td>0.001700</td>\n",
       "      <td>64</td>\n",
       "      <td>log2</td>\n",
       "      <td>300</td>\n",
       "      <td>12</td>\n",
       "      <td>{'max_depth': 64, 'max_features': 'log2', 'n_e...</td>\n",
       "      <td>0.660814</td>\n",
       "      <td>0.616355</td>\n",
       "      <td>0.688580</td>\n",
       "      <td>0.276602</td>\n",
       "      <td>0.368565</td>\n",
       "      <td>0.522183</td>\n",
       "      <td>0.167143</td>\n",
       "      <td>17</td>\n",
       "    </tr>\n",
       "    <tr>\n",
       "      <th>73</th>\n",
       "      <td>0.798821</td>\n",
       "      <td>0.016371</td>\n",
       "      <td>0.041784</td>\n",
       "      <td>0.001377</td>\n",
       "      <td>64</td>\n",
       "      <td>log2</td>\n",
       "      <td>400</td>\n",
       "      <td>12</td>\n",
       "      <td>{'max_depth': 64, 'max_features': 'log2', 'n_e...</td>\n",
       "      <td>0.668244</td>\n",
       "      <td>0.609000</td>\n",
       "      <td>0.689135</td>\n",
       "      <td>0.302162</td>\n",
       "      <td>0.374421</td>\n",
       "      <td>0.528592</td>\n",
       "      <td>0.159237</td>\n",
       "      <td>7</td>\n",
       "    </tr>\n",
       "    <tr>\n",
       "      <th>74</th>\n",
       "      <td>0.994413</td>\n",
       "      <td>0.014538</td>\n",
       "      <td>0.055264</td>\n",
       "      <td>0.002974</td>\n",
       "      <td>64</td>\n",
       "      <td>log2</td>\n",
       "      <td>500</td>\n",
       "      <td>12</td>\n",
       "      <td>{'max_depth': 64, 'max_features': 'log2', 'n_e...</td>\n",
       "      <td>0.643980</td>\n",
       "      <td>0.602574</td>\n",
       "      <td>0.681117</td>\n",
       "      <td>0.312346</td>\n",
       "      <td>0.356726</td>\n",
       "      <td>0.519349</td>\n",
       "      <td>0.153574</td>\n",
       "      <td>27</td>\n",
       "    </tr>\n",
       "  </tbody>\n",
       "</table>\n",
       "<p>75 rows × 17 columns</p>\n",
       "</div>"
      ],
      "text/plain": [
       "    mean_fit_time  std_fit_time  mean_score_time  std_score_time  \\\n",
       "0        0.189272      0.004116         0.008103        0.000516   \n",
       "1        0.371164      0.005912         0.014138        0.000236   \n",
       "2        0.552933      0.006370         0.020918        0.000828   \n",
       "3        0.742904      0.003558         0.028315        0.001230   \n",
       "4        0.872036      0.010180         0.032370        0.000773   \n",
       "..            ...           ...              ...             ...   \n",
       "70       0.199744      0.003815         0.011673        0.000390   \n",
       "71       0.395852      0.006863         0.022690        0.001920   \n",
       "72       0.600959      0.018449         0.032929        0.001700   \n",
       "73       0.798821      0.016371         0.041784        0.001377   \n",
       "74       0.994413      0.014538         0.055264        0.002974   \n",
       "\n",
       "   param_max_depth param_max_features param_n_estimators param_random_state  \\\n",
       "0                4               auto                100                 12   \n",
       "1                4               auto                200                 12   \n",
       "2                4               auto                300                 12   \n",
       "3                4               auto                400                 12   \n",
       "4                4               auto                500                 12   \n",
       "..             ...                ...                ...                ...   \n",
       "70              64               log2                100                 12   \n",
       "71              64               log2                200                 12   \n",
       "72              64               log2                300                 12   \n",
       "73              64               log2                400                 12   \n",
       "74              64               log2                500                 12   \n",
       "\n",
       "                                               params  split0_test_r2  \\\n",
       "0   {'max_depth': 4, 'max_features': 'auto', 'n_es...        0.625470   \n",
       "1   {'max_depth': 4, 'max_features': 'auto', 'n_es...        0.635144   \n",
       "2   {'max_depth': 4, 'max_features': 'auto', 'n_es...        0.636532   \n",
       "3   {'max_depth': 4, 'max_features': 'auto', 'n_es...        0.653722   \n",
       "4   {'max_depth': 4, 'max_features': 'auto', 'n_es...        0.651537   \n",
       "..                                                ...             ...   \n",
       "70  {'max_depth': 64, 'max_features': 'log2', 'n_e...        0.646568   \n",
       "71  {'max_depth': 64, 'max_features': 'log2', 'n_e...        0.681653   \n",
       "72  {'max_depth': 64, 'max_features': 'log2', 'n_e...        0.660814   \n",
       "73  {'max_depth': 64, 'max_features': 'log2', 'n_e...        0.668244   \n",
       "74  {'max_depth': 64, 'max_features': 'log2', 'n_e...        0.643980   \n",
       "\n",
       "    split1_test_r2  split2_test_r2  split3_test_r2  split4_test_r2  \\\n",
       "0         0.719655        0.614819        0.317225       -0.571703   \n",
       "1         0.720615        0.660036        0.309612       -0.635357   \n",
       "2         0.718740        0.642371        0.319910       -0.501523   \n",
       "3         0.717415        0.647109        0.337499       -0.519182   \n",
       "4         0.713771        0.623223        0.317003       -0.541972   \n",
       "..             ...             ...             ...             ...   \n",
       "70        0.609544        0.709715        0.266836        0.309095   \n",
       "71        0.625874        0.691803        0.301150        0.325711   \n",
       "72        0.616355        0.688580        0.276602        0.368565   \n",
       "73        0.609000        0.689135        0.302162        0.374421   \n",
       "74        0.602574        0.681117        0.312346        0.356726   \n",
       "\n",
       "    mean_test_r2  std_test_r2  rank_test_r2  \n",
       "0       0.341093     0.475998            70  \n",
       "1       0.338010     0.507272            72  \n",
       "2       0.363206     0.453580            54  \n",
       "3       0.367313     0.462526            53  \n",
       "4       0.352713     0.467883            60  \n",
       "..           ...          ...           ...  \n",
       "70      0.508352     0.183261            37  \n",
       "71      0.525238     0.174565            13  \n",
       "72      0.522183     0.167143            17  \n",
       "73      0.528592     0.159237             7  \n",
       "74      0.519349     0.153574            27  \n",
       "\n",
       "[75 rows x 17 columns]"
      ]
     },
     "execution_count": 61,
     "metadata": {},
     "output_type": "execute_result"
    }
   ],
   "source": [
    "pd.DataFrame(CV_rfc.cv_results_)"
   ]
  },
  {
   "cell_type": "code",
   "execution_count": null,
   "metadata": {},
   "outputs": [],
   "source": []
  },
  {
   "cell_type": "markdown",
   "metadata": {},
   "source": []
  },
  {
   "cell_type": "markdown",
   "metadata": {},
   "source": [
    "### - Ridge Regressor"
   ]
  },
  {
   "cell_type": "code",
   "execution_count": 62,
   "metadata": {},
   "outputs": [],
   "source": [
    "ridge_param_grid = {'alpha' : [1e-3, 1e-2, 1e-1, 1, 2, 5, 10],\n",
    "              }"
   ]
  },
  {
   "cell_type": "code",
   "execution_count": 63,
   "metadata": {},
   "outputs": [
    {
     "data": {
      "text/plain": [
       "GridSearchCV(cv=6, estimator=Ridge(),\n",
       "             param_grid={'alpha': [0.001, 0.01, 0.1, 1, 2, 5, 10]},\n",
       "             scoring='r2')"
      ]
     },
     "execution_count": 63,
     "metadata": {},
     "output_type": "execute_result"
    }
   ],
   "source": [
    "CV_ridge = GridSearchCV(estimator=Ridge(), param_grid=ridge_param_grid, cv= 6,scoring=['r2','neg_mean_squared_error','neg_root_mean_squared_error'],refit='r2')\n",
    "CV_ridge.fit(X_train, y_train)"
   ]
  },
  {
   "cell_type": "code",
   "execution_count": 64,
   "metadata": {},
   "outputs": [
    {
     "data": {
      "text/plain": [
       "0.3407824018929184"
      ]
     },
     "execution_count": 64,
     "metadata": {},
     "output_type": "execute_result"
    }
   ],
   "source": [
    "CV_ridge.best_score_"
   ]
  },
  {
   "cell_type": "code",
   "execution_count": 65,
   "metadata": {},
   "outputs": [
    {
     "name": "stdout",
     "output_type": "stream",
     "text": [
      "Ridge(alpha=5)\n"
     ]
    }
   ],
   "source": [
    "model_ridge = CV_ridge.best_estimator_\n",
    "print(model_ridge)"
   ]
  },
  {
   "cell_type": "code",
   "execution_count": 66,
   "metadata": {},
   "outputs": [
    {
     "data": {
      "text/plain": [
       "-0.014194216940971671"
      ]
     },
     "execution_count": 66,
     "metadata": {},
     "output_type": "execute_result"
    }
   ],
   "source": [
    "model_ridge.score(X_test,y_test)"
   ]
  },
  {
   "cell_type": "code",
   "execution_count": 67,
   "metadata": {},
   "outputs": [
    {
     "data": {
      "text/html": [
       "<div>\n",
       "<style scoped>\n",
       "    .dataframe tbody tr th:only-of-type {\n",
       "        vertical-align: middle;\n",
       "    }\n",
       "\n",
       "    .dataframe tbody tr th {\n",
       "        vertical-align: top;\n",
       "    }\n",
       "\n",
       "    .dataframe thead th {\n",
       "        text-align: right;\n",
       "    }\n",
       "</style>\n",
       "<table border=\"1\" class=\"dataframe\">\n",
       "  <thead>\n",
       "    <tr style=\"text-align: right;\">\n",
       "      <th></th>\n",
       "      <th>mean_fit_time</th>\n",
       "      <th>std_fit_time</th>\n",
       "      <th>mean_score_time</th>\n",
       "      <th>std_score_time</th>\n",
       "      <th>param_alpha</th>\n",
       "      <th>params</th>\n",
       "      <th>split0_test_score</th>\n",
       "      <th>split1_test_score</th>\n",
       "      <th>split2_test_score</th>\n",
       "      <th>split3_test_score</th>\n",
       "      <th>split4_test_score</th>\n",
       "      <th>split5_test_score</th>\n",
       "      <th>mean_test_score</th>\n",
       "      <th>std_test_score</th>\n",
       "      <th>rank_test_score</th>\n",
       "    </tr>\n",
       "  </thead>\n",
       "  <tbody>\n",
       "    <tr>\n",
       "      <th>0</th>\n",
       "      <td>0.003882</td>\n",
       "      <td>0.001379</td>\n",
       "      <td>0.002168</td>\n",
       "      <td>0.000741</td>\n",
       "      <td>0.001</td>\n",
       "      <td>{'alpha': 0.001}</td>\n",
       "      <td>0.570410</td>\n",
       "      <td>0.753518</td>\n",
       "      <td>0.749073</td>\n",
       "      <td>0.746735</td>\n",
       "      <td>0.064984</td>\n",
       "      <td>-2.007933</td>\n",
       "      <td>0.146131</td>\n",
       "      <td>0.993292</td>\n",
       "      <td>7</td>\n",
       "    </tr>\n",
       "    <tr>\n",
       "      <th>1</th>\n",
       "      <td>0.004066</td>\n",
       "      <td>0.001319</td>\n",
       "      <td>0.001761</td>\n",
       "      <td>0.001119</td>\n",
       "      <td>0.01</td>\n",
       "      <td>{'alpha': 0.01}</td>\n",
       "      <td>0.569886</td>\n",
       "      <td>0.753210</td>\n",
       "      <td>0.748964</td>\n",
       "      <td>0.746989</td>\n",
       "      <td>0.066067</td>\n",
       "      <td>-1.996767</td>\n",
       "      <td>0.148058</td>\n",
       "      <td>0.989187</td>\n",
       "      <td>6</td>\n",
       "    </tr>\n",
       "    <tr>\n",
       "      <th>2</th>\n",
       "      <td>0.003808</td>\n",
       "      <td>0.001336</td>\n",
       "      <td>0.001672</td>\n",
       "      <td>0.000452</td>\n",
       "      <td>0.1</td>\n",
       "      <td>{'alpha': 0.1}</td>\n",
       "      <td>0.564709</td>\n",
       "      <td>0.750152</td>\n",
       "      <td>0.747894</td>\n",
       "      <td>0.749069</td>\n",
       "      <td>0.076112</td>\n",
       "      <td>-1.890429</td>\n",
       "      <td>0.166251</td>\n",
       "      <td>0.950066</td>\n",
       "      <td>5</td>\n",
       "    </tr>\n",
       "    <tr>\n",
       "      <th>3</th>\n",
       "      <td>0.003423</td>\n",
       "      <td>0.000918</td>\n",
       "      <td>0.002125</td>\n",
       "      <td>0.000809</td>\n",
       "      <td>1</td>\n",
       "      <td>{'alpha': 1}</td>\n",
       "      <td>0.517648</td>\n",
       "      <td>0.721361</td>\n",
       "      <td>0.738540</td>\n",
       "      <td>0.754627</td>\n",
       "      <td>0.124204</td>\n",
       "      <td>-1.186916</td>\n",
       "      <td>0.278244</td>\n",
       "      <td>0.690761</td>\n",
       "      <td>4</td>\n",
       "    </tr>\n",
       "    <tr>\n",
       "      <th>4</th>\n",
       "      <td>0.002927</td>\n",
       "      <td>0.000741</td>\n",
       "      <td>0.002811</td>\n",
       "      <td>0.001189</td>\n",
       "      <td>2</td>\n",
       "      <td>{'alpha': 2}</td>\n",
       "      <td>0.474362</td>\n",
       "      <td>0.693970</td>\n",
       "      <td>0.730191</td>\n",
       "      <td>0.752104</td>\n",
       "      <td>0.124176</td>\n",
       "      <td>-0.814814</td>\n",
       "      <td>0.326665</td>\n",
       "      <td>0.554457</td>\n",
       "      <td>2</td>\n",
       "    </tr>\n",
       "    <tr>\n",
       "      <th>5</th>\n",
       "      <td>0.003313</td>\n",
       "      <td>0.001217</td>\n",
       "      <td>0.001846</td>\n",
       "      <td>0.001038</td>\n",
       "      <td>5</td>\n",
       "      <td>{'alpha': 5}</td>\n",
       "      <td>0.386667</td>\n",
       "      <td>0.636408</td>\n",
       "      <td>0.712690</td>\n",
       "      <td>0.737414</td>\n",
       "      <td>0.057258</td>\n",
       "      <td>-0.485742</td>\n",
       "      <td>0.340782</td>\n",
       "      <td>0.437543</td>\n",
       "      <td>1</td>\n",
       "    </tr>\n",
       "    <tr>\n",
       "      <th>6</th>\n",
       "      <td>0.003703</td>\n",
       "      <td>0.000892</td>\n",
       "      <td>0.001623</td>\n",
       "      <td>0.000445</td>\n",
       "      <td>10</td>\n",
       "      <td>{'alpha': 10}</td>\n",
       "      <td>0.313668</td>\n",
       "      <td>0.584905</td>\n",
       "      <td>0.695222</td>\n",
       "      <td>0.718277</td>\n",
       "      <td>-0.040677</td>\n",
       "      <td>-0.462347</td>\n",
       "      <td>0.301508</td>\n",
       "      <td>0.430065</td>\n",
       "      <td>3</td>\n",
       "    </tr>\n",
       "  </tbody>\n",
       "</table>\n",
       "</div>"
      ],
      "text/plain": [
       "   mean_fit_time  std_fit_time  mean_score_time  std_score_time param_alpha  \\\n",
       "0       0.003882      0.001379         0.002168        0.000741       0.001   \n",
       "1       0.004066      0.001319         0.001761        0.001119        0.01   \n",
       "2       0.003808      0.001336         0.001672        0.000452         0.1   \n",
       "3       0.003423      0.000918         0.002125        0.000809           1   \n",
       "4       0.002927      0.000741         0.002811        0.001189           2   \n",
       "5       0.003313      0.001217         0.001846        0.001038           5   \n",
       "6       0.003703      0.000892         0.001623        0.000445          10   \n",
       "\n",
       "             params  split0_test_score  split1_test_score  split2_test_score  \\\n",
       "0  {'alpha': 0.001}           0.570410           0.753518           0.749073   \n",
       "1   {'alpha': 0.01}           0.569886           0.753210           0.748964   \n",
       "2    {'alpha': 0.1}           0.564709           0.750152           0.747894   \n",
       "3      {'alpha': 1}           0.517648           0.721361           0.738540   \n",
       "4      {'alpha': 2}           0.474362           0.693970           0.730191   \n",
       "5      {'alpha': 5}           0.386667           0.636408           0.712690   \n",
       "6     {'alpha': 10}           0.313668           0.584905           0.695222   \n",
       "\n",
       "   split3_test_score  split4_test_score  split5_test_score  mean_test_score  \\\n",
       "0           0.746735           0.064984          -2.007933         0.146131   \n",
       "1           0.746989           0.066067          -1.996767         0.148058   \n",
       "2           0.749069           0.076112          -1.890429         0.166251   \n",
       "3           0.754627           0.124204          -1.186916         0.278244   \n",
       "4           0.752104           0.124176          -0.814814         0.326665   \n",
       "5           0.737414           0.057258          -0.485742         0.340782   \n",
       "6           0.718277          -0.040677          -0.462347         0.301508   \n",
       "\n",
       "   std_test_score  rank_test_score  \n",
       "0        0.993292                7  \n",
       "1        0.989187                6  \n",
       "2        0.950066                5  \n",
       "3        0.690761                4  \n",
       "4        0.554457                2  \n",
       "5        0.437543                1  \n",
       "6        0.430065                3  "
      ]
     },
     "execution_count": 67,
     "metadata": {},
     "output_type": "execute_result"
    }
   ],
   "source": [
    "pd.DataFrame(CV_ridge.cv_results_)"
   ]
  },
  {
   "cell_type": "markdown",
   "metadata": {},
   "source": []
  },
  {
   "cell_type": "code",
   "execution_count": null,
   "metadata": {},
   "outputs": [],
   "source": []
  },
  {
   "cell_type": "code",
   "execution_count": 68,
   "metadata": {},
   "outputs": [
    {
     "data": {
      "image/png": "[encoded data removed]",
      "text/plain": [
       "<Figure size 432x288 with 1 Axes>"
      ]
     },
     "metadata": {
      "needs_background": "light"
     },
     "output_type": "display_data"
    }
   ],
   "source": [
    "alphas = [1e-3, 1e-2, 1e-1, 1, 2, 5, 10]\n",
    "coefs = []\n",
    "for a in alphas:\n",
    "    ridge = Ridge(alpha=a, fit_intercept=False)\n",
    "    ridge.fit(X_train, y_train)\n",
    "    coefs.append(ridge.coef_)\n",
    "\n",
    "ax = plt.gca()\n",
    "ax.plot(alphas, coefs)\n",
    "ax.set_xscale('log')\n",
    "ax.set_xlim(ax.get_xlim()[::-1])  # reverse axis\n",
    "plt.xlabel('alpha')\n",
    "plt.ylabel('weights')\n",
    "plt.title('Ridge coefficients as a function of the regularization')\n",
    "plt.axis('tight')\n",
    "plt.show()"
   ]
  },
  {
   "cell_type": "markdown",
   "metadata": {},
   "source": [
    "### - KNN Regressor"
   ]
  },
  {
   "cell_type": "code",
   "execution_count": 69,
   "metadata": {},
   "outputs": [],
   "source": [
    "knn_param_grid = {'n_neighbors' : list(range(10, 100)),\n",
    "              }"
   ]
  },
  {
   "cell_type": "code",
   "execution_count": 70,
   "metadata": {},
   "outputs": [
    {
     "data": {
      "text/plain": [
       "GridSearchCV(cv=6, estimator=KNeighborsRegressor(),\n",
       "             param_grid={'n_neighbors': [10, 11, 12, 13, 14, 15, 16, 17, 18, 19,\n",
       "                                         20, 21, 22, 23, 24, 25, 26, 27, 28, 29,\n",
       "                                         30, 31, 32, 33, 34, 35, 36, 37, 38, 39, ...]},\n",
       "             scoring='r2')"
      ]
     },
     "execution_count": 70,
     "metadata": {},
     "output_type": "execute_result"
    }
   ],
   "source": [
    "CV_knn = GridSearchCV(estimator=KNeighborsRegressor(), param_grid=knn_param_grid, cv= 6,scoring=['r2','neg_mean_squared_error','neg_root_mean_squared_error'],refit='r2')\n",
    "CV_knn.fit(X_train, y_train)"
   ]
  },
  {
   "cell_type": "code",
   "execution_count": 71,
   "metadata": {},
   "outputs": [
    {
     "data": {
      "text/plain": [
       "0.18196926551964598"
      ]
     },
     "execution_count": 71,
     "metadata": {},
     "output_type": "execute_result"
    }
   ],
   "source": [
    "CV_knn.best_score_"
   ]
  },
  {
   "cell_type": "code",
   "execution_count": 72,
   "metadata": {},
   "outputs": [],
   "source": [
    "model_knn = CV_knn.best_estimator_"
   ]
  },
  {
   "cell_type": "code",
   "execution_count": 73,
   "metadata": {},
   "outputs": [
    {
     "data": {
      "text/plain": [
       "0.2882577166312903"
      ]
     },
     "execution_count": 73,
     "metadata": {},
     "output_type": "execute_result"
    }
   ],
   "source": [
    "model_knn.score(X_test,y_test)"
   ]
  },
  {
   "cell_type": "code",
   "execution_count": 74,
   "metadata": {},
   "outputs": [
    {
     "data": {
      "text/plain": [
       "{'n_neighbors': 83}"
      ]
     },
     "execution_count": 74,
     "metadata": {},
     "output_type": "execute_result"
    }
   ],
   "source": [
    "CV_knn.best_params_"
   ]
  },
  {
   "cell_type": "code",
   "execution_count": 75,
   "metadata": {},
   "outputs": [
    {
     "data": {
      "text/html": [
       "<div>\n",
       "<style scoped>\n",
       "    .dataframe tbody tr th:only-of-type {\n",
       "        vertical-align: middle;\n",
       "    }\n",
       "\n",
       "    .dataframe tbody tr th {\n",
       "        vertical-align: top;\n",
       "    }\n",
       "\n",
       "    .dataframe thead th {\n",
       "        text-align: right;\n",
       "    }\n",
       "</style>\n",
       "<table border=\"1\" class=\"dataframe\">\n",
       "  <thead>\n",
       "    <tr style=\"text-align: right;\">\n",
       "      <th></th>\n",
       "      <th>mean_fit_time</th>\n",
       "      <th>std_fit_time</th>\n",
       "      <th>mean_score_time</th>\n",
       "      <th>std_score_time</th>\n",
       "      <th>param_n_neighbors</th>\n",
       "      <th>params</th>\n",
       "      <th>split0_test_score</th>\n",
       "      <th>split1_test_score</th>\n",
       "      <th>split2_test_score</th>\n",
       "      <th>split3_test_score</th>\n",
       "      <th>split4_test_score</th>\n",
       "      <th>split5_test_score</th>\n",
       "      <th>mean_test_score</th>\n",
       "      <th>std_test_score</th>\n",
       "      <th>rank_test_score</th>\n",
       "    </tr>\n",
       "  </thead>\n",
       "  <tbody>\n",
       "    <tr>\n",
       "      <th>0</th>\n",
       "      <td>0.002498</td>\n",
       "      <td>0.000758</td>\n",
       "      <td>0.006310</td>\n",
       "      <td>0.001481</td>\n",
       "      <td>10</td>\n",
       "      <td>{'n_neighbors': 10}</td>\n",
       "      <td>-0.366769</td>\n",
       "      <td>0.205108</td>\n",
       "      <td>0.199720</td>\n",
       "      <td>0.184808</td>\n",
       "      <td>-0.446444</td>\n",
       "      <td>-0.960955</td>\n",
       "      <td>-0.197422</td>\n",
       "      <td>0.435799</td>\n",
       "      <td>90</td>\n",
       "    </tr>\n",
       "    <tr>\n",
       "      <th>1</th>\n",
       "      <td>0.002779</td>\n",
       "      <td>0.000935</td>\n",
       "      <td>0.006485</td>\n",
       "      <td>0.000608</td>\n",
       "      <td>11</td>\n",
       "      <td>{'n_neighbors': 11}</td>\n",
       "      <td>-0.271130</td>\n",
       "      <td>0.340611</td>\n",
       "      <td>0.206266</td>\n",
       "      <td>0.217852</td>\n",
       "      <td>-0.284844</td>\n",
       "      <td>-0.993698</td>\n",
       "      <td>-0.130824</td>\n",
       "      <td>0.455598</td>\n",
       "      <td>89</td>\n",
       "    </tr>\n",
       "    <tr>\n",
       "      <th>2</th>\n",
       "      <td>0.002782</td>\n",
       "      <td>0.000993</td>\n",
       "      <td>0.005315</td>\n",
       "      <td>0.001259</td>\n",
       "      <td>12</td>\n",
       "      <td>{'n_neighbors': 12}</td>\n",
       "      <td>-0.186538</td>\n",
       "      <td>0.380029</td>\n",
       "      <td>0.197746</td>\n",
       "      <td>0.212066</td>\n",
       "      <td>-0.190186</td>\n",
       "      <td>-1.021079</td>\n",
       "      <td>-0.101327</td>\n",
       "      <td>0.461964</td>\n",
       "      <td>88</td>\n",
       "    </tr>\n",
       "    <tr>\n",
       "      <th>3</th>\n",
       "      <td>0.002213</td>\n",
       "      <td>0.000949</td>\n",
       "      <td>0.006181</td>\n",
       "      <td>0.001041</td>\n",
       "      <td>13</td>\n",
       "      <td>{'n_neighbors': 13}</td>\n",
       "      <td>-0.132170</td>\n",
       "      <td>0.363137</td>\n",
       "      <td>0.182838</td>\n",
       "      <td>0.240785</td>\n",
       "      <td>-0.099414</td>\n",
       "      <td>-0.955978</td>\n",
       "      <td>-0.066800</td>\n",
       "      <td>0.435459</td>\n",
       "      <td>85</td>\n",
       "    </tr>\n",
       "    <tr>\n",
       "      <th>4</th>\n",
       "      <td>0.002411</td>\n",
       "      <td>0.000907</td>\n",
       "      <td>0.006450</td>\n",
       "      <td>0.001034</td>\n",
       "      <td>14</td>\n",
       "      <td>{'n_neighbors': 14}</td>\n",
       "      <td>-0.153340</td>\n",
       "      <td>0.384407</td>\n",
       "      <td>0.181338</td>\n",
       "      <td>0.247592</td>\n",
       "      <td>-0.002643</td>\n",
       "      <td>-0.997892</td>\n",
       "      <td>-0.056756</td>\n",
       "      <td>0.454961</td>\n",
       "      <td>84</td>\n",
       "    </tr>\n",
       "    <tr>\n",
       "      <th>...</th>\n",
       "      <td>...</td>\n",
       "      <td>...</td>\n",
       "      <td>...</td>\n",
       "      <td>...</td>\n",
       "      <td>...</td>\n",
       "      <td>...</td>\n",
       "      <td>...</td>\n",
       "      <td>...</td>\n",
       "      <td>...</td>\n",
       "      <td>...</td>\n",
       "      <td>...</td>\n",
       "      <td>...</td>\n",
       "      <td>...</td>\n",
       "      <td>...</td>\n",
       "      <td>...</td>\n",
       "    </tr>\n",
       "    <tr>\n",
       "      <th>85</th>\n",
       "      <td>0.002837</td>\n",
       "      <td>0.001211</td>\n",
       "      <td>0.006964</td>\n",
       "      <td>0.000997</td>\n",
       "      <td>95</td>\n",
       "      <td>{'n_neighbors': 95}</td>\n",
       "      <td>0.197521</td>\n",
       "      <td>0.222089</td>\n",
       "      <td>0.099148</td>\n",
       "      <td>0.162454</td>\n",
       "      <td>0.329579</td>\n",
       "      <td>0.069206</td>\n",
       "      <td>0.180000</td>\n",
       "      <td>0.085218</td>\n",
       "      <td>13</td>\n",
       "    </tr>\n",
       "    <tr>\n",
       "      <th>86</th>\n",
       "      <td>0.002333</td>\n",
       "      <td>0.000464</td>\n",
       "      <td>0.006790</td>\n",
       "      <td>0.001039</td>\n",
       "      <td>96</td>\n",
       "      <td>{'n_neighbors': 96}</td>\n",
       "      <td>0.196408</td>\n",
       "      <td>0.220029</td>\n",
       "      <td>0.098027</td>\n",
       "      <td>0.161658</td>\n",
       "      <td>0.327939</td>\n",
       "      <td>0.071790</td>\n",
       "      <td>0.179309</td>\n",
       "      <td>0.084182</td>\n",
       "      <td>18</td>\n",
       "    </tr>\n",
       "    <tr>\n",
       "      <th>87</th>\n",
       "      <td>0.002583</td>\n",
       "      <td>0.000943</td>\n",
       "      <td>0.007609</td>\n",
       "      <td>0.001537</td>\n",
       "      <td>97</td>\n",
       "      <td>{'n_neighbors': 97}</td>\n",
       "      <td>0.195042</td>\n",
       "      <td>0.219115</td>\n",
       "      <td>0.096983</td>\n",
       "      <td>0.160586</td>\n",
       "      <td>0.329854</td>\n",
       "      <td>0.076451</td>\n",
       "      <td>0.179672</td>\n",
       "      <td>0.083868</td>\n",
       "      <td>16</td>\n",
       "    </tr>\n",
       "    <tr>\n",
       "      <th>88</th>\n",
       "      <td>0.002619</td>\n",
       "      <td>0.000921</td>\n",
       "      <td>0.007718</td>\n",
       "      <td>0.002186</td>\n",
       "      <td>98</td>\n",
       "      <td>{'n_neighbors': 98}</td>\n",
       "      <td>0.195158</td>\n",
       "      <td>0.217751</td>\n",
       "      <td>0.096040</td>\n",
       "      <td>0.159512</td>\n",
       "      <td>0.327855</td>\n",
       "      <td>0.077269</td>\n",
       "      <td>0.178931</td>\n",
       "      <td>0.083198</td>\n",
       "      <td>19</td>\n",
       "    </tr>\n",
       "    <tr>\n",
       "      <th>89</th>\n",
       "      <td>0.002050</td>\n",
       "      <td>0.000615</td>\n",
       "      <td>0.007322</td>\n",
       "      <td>0.001184</td>\n",
       "      <td>99</td>\n",
       "      <td>{'n_neighbors': 99}</td>\n",
       "      <td>0.194044</td>\n",
       "      <td>0.216328</td>\n",
       "      <td>0.095003</td>\n",
       "      <td>0.158159</td>\n",
       "      <td>0.328649</td>\n",
       "      <td>0.085824</td>\n",
       "      <td>0.179668</td>\n",
       "      <td>0.081837</td>\n",
       "      <td>17</td>\n",
       "    </tr>\n",
       "  </tbody>\n",
       "</table>\n",
       "<p>90 rows × 15 columns</p>\n",
       "</div>"
      ],
      "text/plain": [
       "    mean_fit_time  std_fit_time  mean_score_time  std_score_time  \\\n",
       "0        0.002498      0.000758         0.006310        0.001481   \n",
       "1        0.002779      0.000935         0.006485        0.000608   \n",
       "2        0.002782      0.000993         0.005315        0.001259   \n",
       "3        0.002213      0.000949         0.006181        0.001041   \n",
       "4        0.002411      0.000907         0.006450        0.001034   \n",
       "..            ...           ...              ...             ...   \n",
       "85       0.002837      0.001211         0.006964        0.000997   \n",
       "86       0.002333      0.000464         0.006790        0.001039   \n",
       "87       0.002583      0.000943         0.007609        0.001537   \n",
       "88       0.002619      0.000921         0.007718        0.002186   \n",
       "89       0.002050      0.000615         0.007322        0.001184   \n",
       "\n",
       "   param_n_neighbors               params  split0_test_score  \\\n",
       "0                 10  {'n_neighbors': 10}          -0.366769   \n",
       "1                 11  {'n_neighbors': 11}          -0.271130   \n",
       "2                 12  {'n_neighbors': 12}          -0.186538   \n",
       "3                 13  {'n_neighbors': 13}          -0.132170   \n",
       "4                 14  {'n_neighbors': 14}          -0.153340   \n",
       "..               ...                  ...                ...   \n",
       "85                95  {'n_neighbors': 95}           0.197521   \n",
       "86                96  {'n_neighbors': 96}           0.196408   \n",
       "87                97  {'n_neighbors': 97}           0.195042   \n",
       "88                98  {'n_neighbors': 98}           0.195158   \n",
       "89                99  {'n_neighbors': 99}           0.194044   \n",
       "\n",
       "    split1_test_score  split2_test_score  split3_test_score  \\\n",
       "0            0.205108           0.199720           0.184808   \n",
       "1            0.340611           0.206266           0.217852   \n",
       "2            0.380029           0.197746           0.212066   \n",
       "3            0.363137           0.182838           0.240785   \n",
       "4            0.384407           0.181338           0.247592   \n",
       "..                ...                ...                ...   \n",
       "85           0.222089           0.099148           0.162454   \n",
       "86           0.220029           0.098027           0.161658   \n",
       "87           0.219115           0.096983           0.160586   \n",
       "88           0.217751           0.096040           0.159512   \n",
       "89           0.216328           0.095003           0.158159   \n",
       "\n",
       "    split4_test_score  split5_test_score  mean_test_score  std_test_score  \\\n",
       "0           -0.446444          -0.960955        -0.197422        0.435799   \n",
       "1           -0.284844          -0.993698        -0.130824        0.455598   \n",
       "2           -0.190186          -1.021079        -0.101327        0.461964   \n",
       "3           -0.099414          -0.955978        -0.066800        0.435459   \n",
       "4           -0.002643          -0.997892        -0.056756        0.454961   \n",
       "..                ...                ...              ...             ...   \n",
       "85           0.329579           0.069206         0.180000        0.085218   \n",
       "86           0.327939           0.071790         0.179309        0.084182   \n",
       "87           0.329854           0.076451         0.179672        0.083868   \n",
       "88           0.327855           0.077269         0.178931        0.083198   \n",
       "89           0.328649           0.085824         0.179668        0.081837   \n",
       "\n",
       "    rank_test_score  \n",
       "0                90  \n",
       "1                89  \n",
       "2                88  \n",
       "3                85  \n",
       "4                84  \n",
       "..              ...  \n",
       "85               13  \n",
       "86               18  \n",
       "87               16  \n",
       "88               19  \n",
       "89               17  \n",
       "\n",
       "[90 rows x 15 columns]"
      ]
     },
     "execution_count": 75,
     "metadata": {},
     "output_type": "execute_result"
    }
   ],
   "source": [
    "pd.DataFrame(CV_knn.cv_results_)"
   ]
  },
  {
   "cell_type": "markdown",
   "metadata": {},
   "source": [
    "### - XGBoost"
   ]
  },
  {
   "cell_type": "code",
   "execution_count": 76,
   "metadata": {},
   "outputs": [],
   "source": [
    "xgboost_param_grid = {'n_estimators' : [100,200,300,400,500],\n",
    "              'max_features': ['auto', 'sqrt', 'log2'],\n",
    "              'max_depth' : [4,8,16,32,64],\n",
    "              'random_state': [12]}"
   ]
  },
  {
   "cell_type": "code",
   "execution_count": 77,
   "metadata": {},
   "outputs": [
    {
     "data": {
      "text/plain": [
       "GridSearchCV(cv=5, estimator=GradientBoostingRegressor(),\n",
       "             param_grid={'max_depth': [4, 8, 16, 32, 64],\n",
       "                         'max_features': ['auto', 'sqrt', 'log2'],\n",
       "                         'n_estimators': [100, 200, 300, 400, 500],\n",
       "                         'random_state': [12]},\n",
       "             scoring='r2')"
      ]
     },
     "execution_count": 77,
     "metadata": {},
     "output_type": "execute_result"
    }
   ],
   "source": [
    "CV_xgboost = GridSearchCV(estimator=GradientBoostingRegressor(), param_grid=xgboost_param_grid, cv= 5,scoring=['r2','neg_mean_squared_error','neg_root_mean_squared_error'],refit='r2')\n",
    "CV_xgboost.fit(X_train, y_train)"
   ]
  },
  {
   "cell_type": "code",
   "execution_count": 78,
   "metadata": {},
   "outputs": [
    {
     "data": {
      "text/plain": [
       "0.518067493402039"
      ]
     },
     "execution_count": 78,
     "metadata": {},
     "output_type": "execute_result"
    }
   ],
   "source": [
    "CV_xgboost.best_score_"
   ]
  },
  {
   "cell_type": "code",
   "execution_count": 79,
   "metadata": {},
   "outputs": [],
   "source": [
    "model_boosted = CV_xgboost.best_estimator_"
   ]
  },
  {
   "cell_type": "code",
   "execution_count": 80,
   "metadata": {},
   "outputs": [
    {
     "data": {
      "text/plain": [
       "0.4383364140955366"
      ]
     },
     "execution_count": 80,
     "metadata": {},
     "output_type": "execute_result"
    }
   ],
   "source": [
    "model_boosted.score(X_test,y_test)"
   ]
  },
  {
   "cell_type": "code",
   "execution_count": 81,
   "metadata": {},
   "outputs": [
    {
     "data": {
      "text/html": [
       "<div>\n",
       "<style scoped>\n",
       "    .dataframe tbody tr th:only-of-type {\n",
       "        vertical-align: middle;\n",
       "    }\n",
       "\n",
       "    .dataframe tbody tr th {\n",
       "        vertical-align: top;\n",
       "    }\n",
       "\n",
       "    .dataframe thead th {\n",
       "        text-align: right;\n",
       "    }\n",
       "</style>\n",
       "<table border=\"1\" class=\"dataframe\">\n",
       "  <thead>\n",
       "    <tr style=\"text-align: right;\">\n",
       "      <th></th>\n",
       "      <th>mean_fit_time</th>\n",
       "      <th>std_fit_time</th>\n",
       "      <th>mean_score_time</th>\n",
       "      <th>std_score_time</th>\n",
       "      <th>param_max_depth</th>\n",
       "      <th>param_max_features</th>\n",
       "      <th>param_n_estimators</th>\n",
       "      <th>param_random_state</th>\n",
       "      <th>params</th>\n",
       "      <th>split0_test_score</th>\n",
       "      <th>split1_test_score</th>\n",
       "      <th>split2_test_score</th>\n",
       "      <th>split3_test_score</th>\n",
       "      <th>split4_test_score</th>\n",
       "      <th>mean_test_score</th>\n",
       "      <th>std_test_score</th>\n",
       "      <th>rank_test_score</th>\n",
       "    </tr>\n",
       "  </thead>\n",
       "  <tbody>\n",
       "    <tr>\n",
       "      <th>0</th>\n",
       "      <td>0.223605</td>\n",
       "      <td>0.021519</td>\n",
       "      <td>0.002517</td>\n",
       "      <td>0.000439</td>\n",
       "      <td>4</td>\n",
       "      <td>auto</td>\n",
       "      <td>100</td>\n",
       "      <td>12</td>\n",
       "      <td>{'max_depth': 4, 'max_features': 'auto', 'n_es...</td>\n",
       "      <td>0.690948</td>\n",
       "      <td>0.783470</td>\n",
       "      <td>0.091270</td>\n",
       "      <td>0.397428</td>\n",
       "      <td>-0.139992</td>\n",
       "      <td>0.364625</td>\n",
       "      <td>0.349959</td>\n",
       "      <td>51</td>\n",
       "    </tr>\n",
       "    <tr>\n",
       "      <th>1</th>\n",
       "      <td>0.450525</td>\n",
       "      <td>0.023284</td>\n",
       "      <td>0.003366</td>\n",
       "      <td>0.000802</td>\n",
       "      <td>4</td>\n",
       "      <td>auto</td>\n",
       "      <td>200</td>\n",
       "      <td>12</td>\n",
       "      <td>{'max_depth': 4, 'max_features': 'auto', 'n_es...</td>\n",
       "      <td>0.693497</td>\n",
       "      <td>0.782735</td>\n",
       "      <td>0.093285</td>\n",
       "      <td>0.362391</td>\n",
       "      <td>-0.140516</td>\n",
       "      <td>0.358278</td>\n",
       "      <td>0.349734</td>\n",
       "      <td>52</td>\n",
       "    </tr>\n",
       "    <tr>\n",
       "      <th>2</th>\n",
       "      <td>0.638276</td>\n",
       "      <td>0.004587</td>\n",
       "      <td>0.002603</td>\n",
       "      <td>0.001212</td>\n",
       "      <td>4</td>\n",
       "      <td>auto</td>\n",
       "      <td>300</td>\n",
       "      <td>12</td>\n",
       "      <td>{'max_depth': 4, 'max_features': 'auto', 'n_es...</td>\n",
       "      <td>0.697910</td>\n",
       "      <td>0.783805</td>\n",
       "      <td>0.093397</td>\n",
       "      <td>0.356157</td>\n",
       "      <td>-0.159443</td>\n",
       "      <td>0.354365</td>\n",
       "      <td>0.356244</td>\n",
       "      <td>55</td>\n",
       "    </tr>\n",
       "    <tr>\n",
       "      <th>3</th>\n",
       "      <td>0.852060</td>\n",
       "      <td>0.022501</td>\n",
       "      <td>0.004573</td>\n",
       "      <td>0.000791</td>\n",
       "      <td>4</td>\n",
       "      <td>auto</td>\n",
       "      <td>400</td>\n",
       "      <td>12</td>\n",
       "      <td>{'max_depth': 4, 'max_features': 'auto', 'n_es...</td>\n",
       "      <td>0.698345</td>\n",
       "      <td>0.784632</td>\n",
       "      <td>0.094079</td>\n",
       "      <td>0.357807</td>\n",
       "      <td>-0.154914</td>\n",
       "      <td>0.355990</td>\n",
       "      <td>0.355124</td>\n",
       "      <td>53</td>\n",
       "    </tr>\n",
       "    <tr>\n",
       "      <th>4</th>\n",
       "      <td>1.041666</td>\n",
       "      <td>0.021639</td>\n",
       "      <td>0.004211</td>\n",
       "      <td>0.000744</td>\n",
       "      <td>4</td>\n",
       "      <td>auto</td>\n",
       "      <td>500</td>\n",
       "      <td>12</td>\n",
       "      <td>{'max_depth': 4, 'max_features': 'auto', 'n_es...</td>\n",
       "      <td>0.698051</td>\n",
       "      <td>0.785725</td>\n",
       "      <td>0.092987</td>\n",
       "      <td>0.357750</td>\n",
       "      <td>-0.155255</td>\n",
       "      <td>0.355852</td>\n",
       "      <td>0.355590</td>\n",
       "      <td>54</td>\n",
       "    </tr>\n",
       "    <tr>\n",
       "      <th>...</th>\n",
       "      <td>...</td>\n",
       "      <td>...</td>\n",
       "      <td>...</td>\n",
       "      <td>...</td>\n",
       "      <td>...</td>\n",
       "      <td>...</td>\n",
       "      <td>...</td>\n",
       "      <td>...</td>\n",
       "      <td>...</td>\n",
       "      <td>...</td>\n",
       "      <td>...</td>\n",
       "      <td>...</td>\n",
       "      <td>...</td>\n",
       "      <td>...</td>\n",
       "      <td>...</td>\n",
       "      <td>...</td>\n",
       "      <td>...</td>\n",
       "    </tr>\n",
       "    <tr>\n",
       "      <th>70</th>\n",
       "      <td>0.203175</td>\n",
       "      <td>0.005809</td>\n",
       "      <td>0.005906</td>\n",
       "      <td>0.000502</td>\n",
       "      <td>64</td>\n",
       "      <td>log2</td>\n",
       "      <td>100</td>\n",
       "      <td>12</td>\n",
       "      <td>{'max_depth': 64, 'max_features': 'log2', 'n_e...</td>\n",
       "      <td>0.658938</td>\n",
       "      <td>0.567129</td>\n",
       "      <td>0.682272</td>\n",
       "      <td>0.176083</td>\n",
       "      <td>0.108830</td>\n",
       "      <td>0.438651</td>\n",
       "      <td>0.245808</td>\n",
       "      <td>41</td>\n",
       "    </tr>\n",
       "    <tr>\n",
       "      <th>71</th>\n",
       "      <td>0.398522</td>\n",
       "      <td>0.012421</td>\n",
       "      <td>0.010112</td>\n",
       "      <td>0.000665</td>\n",
       "      <td>64</td>\n",
       "      <td>log2</td>\n",
       "      <td>200</td>\n",
       "      <td>12</td>\n",
       "      <td>{'max_depth': 64, 'max_features': 'log2', 'n_e...</td>\n",
       "      <td>0.658938</td>\n",
       "      <td>0.567143</td>\n",
       "      <td>0.682281</td>\n",
       "      <td>0.176056</td>\n",
       "      <td>0.108812</td>\n",
       "      <td>0.438646</td>\n",
       "      <td>0.245822</td>\n",
       "      <td>43</td>\n",
       "    </tr>\n",
       "    <tr>\n",
       "      <th>72</th>\n",
       "      <td>0.455097</td>\n",
       "      <td>0.004900</td>\n",
       "      <td>0.010691</td>\n",
       "      <td>0.000626</td>\n",
       "      <td>64</td>\n",
       "      <td>log2</td>\n",
       "      <td>300</td>\n",
       "      <td>12</td>\n",
       "      <td>{'max_depth': 64, 'max_features': 'log2', 'n_e...</td>\n",
       "      <td>0.658938</td>\n",
       "      <td>0.567143</td>\n",
       "      <td>0.682281</td>\n",
       "      <td>0.176056</td>\n",
       "      <td>0.108812</td>\n",
       "      <td>0.438646</td>\n",
       "      <td>0.245822</td>\n",
       "      <td>45</td>\n",
       "    </tr>\n",
       "    <tr>\n",
       "      <th>73</th>\n",
       "      <td>0.466241</td>\n",
       "      <td>0.010716</td>\n",
       "      <td>0.010371</td>\n",
       "      <td>0.000983</td>\n",
       "      <td>64</td>\n",
       "      <td>log2</td>\n",
       "      <td>400</td>\n",
       "      <td>12</td>\n",
       "      <td>{'max_depth': 64, 'max_features': 'log2', 'n_e...</td>\n",
       "      <td>0.658938</td>\n",
       "      <td>0.567143</td>\n",
       "      <td>0.682281</td>\n",
       "      <td>0.176056</td>\n",
       "      <td>0.108812</td>\n",
       "      <td>0.438646</td>\n",
       "      <td>0.245822</td>\n",
       "      <td>45</td>\n",
       "    </tr>\n",
       "    <tr>\n",
       "      <th>74</th>\n",
       "      <td>0.485061</td>\n",
       "      <td>0.011462</td>\n",
       "      <td>0.010561</td>\n",
       "      <td>0.000826</td>\n",
       "      <td>64</td>\n",
       "      <td>log2</td>\n",
       "      <td>500</td>\n",
       "      <td>12</td>\n",
       "      <td>{'max_depth': 64, 'max_features': 'log2', 'n_e...</td>\n",
       "      <td>0.658938</td>\n",
       "      <td>0.567143</td>\n",
       "      <td>0.682281</td>\n",
       "      <td>0.176056</td>\n",
       "      <td>0.108812</td>\n",
       "      <td>0.438646</td>\n",
       "      <td>0.245822</td>\n",
       "      <td>45</td>\n",
       "    </tr>\n",
       "  </tbody>\n",
       "</table>\n",
       "<p>75 rows × 17 columns</p>\n",
       "</div>"
      ],
      "text/plain": [
       "    mean_fit_time  std_fit_time  mean_score_time  std_score_time  \\\n",
       "0        0.223605      0.021519         0.002517        0.000439   \n",
       "1        0.450525      0.023284         0.003366        0.000802   \n",
       "2        0.638276      0.004587         0.002603        0.001212   \n",
       "3        0.852060      0.022501         0.004573        0.000791   \n",
       "4        1.041666      0.021639         0.004211        0.000744   \n",
       "..            ...           ...              ...             ...   \n",
       "70       0.203175      0.005809         0.005906        0.000502   \n",
       "71       0.398522      0.012421         0.010112        0.000665   \n",
       "72       0.455097      0.004900         0.010691        0.000626   \n",
       "73       0.466241      0.010716         0.010371        0.000983   \n",
       "74       0.485061      0.011462         0.010561        0.000826   \n",
       "\n",
       "   param_max_depth param_max_features param_n_estimators param_random_state  \\\n",
       "0                4               auto                100                 12   \n",
       "1                4               auto                200                 12   \n",
       "2                4               auto                300                 12   \n",
       "3                4               auto                400                 12   \n",
       "4                4               auto                500                 12   \n",
       "..             ...                ...                ...                ...   \n",
       "70              64               log2                100                 12   \n",
       "71              64               log2                200                 12   \n",
       "72              64               log2                300                 12   \n",
       "73              64               log2                400                 12   \n",
       "74              64               log2                500                 12   \n",
       "\n",
       "                                               params  split0_test_score  \\\n",
       "0   {'max_depth': 4, 'max_features': 'auto', 'n_es...           0.690948   \n",
       "1   {'max_depth': 4, 'max_features': 'auto', 'n_es...           0.693497   \n",
       "2   {'max_depth': 4, 'max_features': 'auto', 'n_es...           0.697910   \n",
       "3   {'max_depth': 4, 'max_features': 'auto', 'n_es...           0.698345   \n",
       "4   {'max_depth': 4, 'max_features': 'auto', 'n_es...           0.698051   \n",
       "..                                                ...                ...   \n",
       "70  {'max_depth': 64, 'max_features': 'log2', 'n_e...           0.658938   \n",
       "71  {'max_depth': 64, 'max_features': 'log2', 'n_e...           0.658938   \n",
       "72  {'max_depth': 64, 'max_features': 'log2', 'n_e...           0.658938   \n",
       "73  {'max_depth': 64, 'max_features': 'log2', 'n_e...           0.658938   \n",
       "74  {'max_depth': 64, 'max_features': 'log2', 'n_e...           0.658938   \n",
       "\n",
       "    split1_test_score  split2_test_score  split3_test_score  \\\n",
       "0            0.783470           0.091270           0.397428   \n",
       "1            0.782735           0.093285           0.362391   \n",
       "2            0.783805           0.093397           0.356157   \n",
       "3            0.784632           0.094079           0.357807   \n",
       "4            0.785725           0.092987           0.357750   \n",
       "..                ...                ...                ...   \n",
       "70           0.567129           0.682272           0.176083   \n",
       "71           0.567143           0.682281           0.176056   \n",
       "72           0.567143           0.682281           0.176056   \n",
       "73           0.567143           0.682281           0.176056   \n",
       "74           0.567143           0.682281           0.176056   \n",
       "\n",
       "    split4_test_score  mean_test_score  std_test_score  rank_test_score  \n",
       "0           -0.139992         0.364625        0.349959               51  \n",
       "1           -0.140516         0.358278        0.349734               52  \n",
       "2           -0.159443         0.354365        0.356244               55  \n",
       "3           -0.154914         0.355990        0.355124               53  \n",
       "4           -0.155255         0.355852        0.355590               54  \n",
       "..                ...              ...             ...              ...  \n",
       "70           0.108830         0.438651        0.245808               41  \n",
       "71           0.108812         0.438646        0.245822               43  \n",
       "72           0.108812         0.438646        0.245822               45  \n",
       "73           0.108812         0.438646        0.245822               45  \n",
       "74           0.108812         0.438646        0.245822               45  \n",
       "\n",
       "[75 rows x 17 columns]"
      ]
     },
     "execution_count": 81,
     "metadata": {},
     "output_type": "execute_result"
    }
   ],
   "source": [
    "pd.DataFrame(CV_xgboost.cv_results_)"
   ]
  }
 ],
 "metadata": {
  "kernelspec": {
   "display_name": "Python 3.9.12 ('base')",
   "language": "python",
   "name": "python3"
  },
  "language_info": {
   "codemirror_mode": {
    "name": "ipython",
    "version": 3
   },
   "file_extension": ".py",
   "mimetype": "text/x-python",
   "name": "python",
   "nbconvert_exporter": "python",
   "pygments_lexer": "ipython3",
   "version": "3.9.12"
  },
  "orig_nbformat": 4,
  "vscode": {
   "interpreter": {
    "hash": "bd081ec4775106110a6ec263dfd69dc0c4175c1ef4a4b7bd7cc17da957142225"
   }
  }
 },
 "nbformat": 4,
 "nbformat_minor": 2
}
