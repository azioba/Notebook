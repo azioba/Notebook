{
 "cells": [
  {
   "cell_type": "code",
   "execution_count": 2,
   "metadata": {},
   "outputs": [],
   "source": [
    "%matplotlib inline\n",
    "import pandas as pd\n",
    "import numpy as np\n",
    "import matplotlib.pyplot as plt\n",
    "import seaborn as sns\n",
    "import shap\n",
    "import lime\n",
    "\n",
    "from sklearn.preprocessing import StandardScaler, OneHotEncoder, LabelBinarizer\n",
    "from sklearn.model_selection import train_test_split, GridSearchCV\n",
    "from sklearn.ensemble import RandomForestRegressor\n",
    "from sklearn.linear_model import Ridge\n",
    "from sklearn.neighbors import KNeighborsRegressor\n",
    "from sklearn.tree import DecisionTreeRegressor\n",
    "from sklearn.metrics import mean_absolute_error as m_a_e, mean_squared_error as m_s_e, r2_score as r2\n",
    "from sklearn.pipeline import Pipeline, make_pipeline\n",
    "from sklearn.dummy import DummyRegressor\n",
    "from sklearn.ensemble import GradientBoostingRegressor\n",
    "from xgboost import XGBRegressor\n",
    "from lime import lime_tabular\n",
    "\n",
    "from scipy.stats.mstats import winsorize"
   ]
  },
  {
   "cell_type": "code",
   "execution_count": 3,
   "metadata": {},
   "outputs": [],
   "source": [
    "import warnings\n",
    "warnings.filterwarnings('ignore')"
   ]
  },
  {
   "cell_type": "code",
   "execution_count": 4,
   "metadata": {},
   "outputs": [],
   "source": [
    "dataset = \"E:/Formation Data Scientist/Projet_4/2016_Building_Energy_Benchmarking.csv\""
   ]
  },
  {
   "cell_type": "code",
   "execution_count": 5,
   "metadata": {},
   "outputs": [],
   "source": [
    "df = pd.read_csv(dataset)"
   ]
  },
  {
   "cell_type": "markdown",
   "metadata": {},
   "source": [
    "## <a name='C2'> EDA et Choix des features   </a>"
   ]
  },
  {
   "cell_type": "code",
   "execution_count": 6,
   "metadata": {},
   "outputs": [
    {
     "data": {
      "text/html": [
       "<div>\n",
       "<style scoped>\n",
       "    .dataframe tbody tr th:only-of-type {\n",
       "        vertical-align: middle;\n",
       "    }\n",
       "\n",
       "    .dataframe tbody tr th {\n",
       "        vertical-align: top;\n",
       "    }\n",
       "\n",
       "    .dataframe thead th {\n",
       "        text-align: right;\n",
       "    }\n",
       "</style>\n",
       "<table border=\"1\" class=\"dataframe\">\n",
       "  <thead>\n",
       "    <tr style=\"text-align: right;\">\n",
       "      <th></th>\n",
       "      <th>OSEBuildingID</th>\n",
       "      <th>DataYear</th>\n",
       "      <th>BuildingType</th>\n",
       "      <th>PrimaryPropertyType</th>\n",
       "      <th>PropertyName</th>\n",
       "      <th>Address</th>\n",
       "      <th>City</th>\n",
       "      <th>State</th>\n",
       "      <th>ZipCode</th>\n",
       "      <th>TaxParcelIdentificationNumber</th>\n",
       "      <th>...</th>\n",
       "      <th>Electricity(kWh)</th>\n",
       "      <th>Electricity(kBtu)</th>\n",
       "      <th>NaturalGas(therms)</th>\n",
       "      <th>NaturalGas(kBtu)</th>\n",
       "      <th>DefaultData</th>\n",
       "      <th>Comments</th>\n",
       "      <th>ComplianceStatus</th>\n",
       "      <th>Outlier</th>\n",
       "      <th>TotalGHGEmissions</th>\n",
       "      <th>GHGEmissionsIntensity</th>\n",
       "    </tr>\n",
       "  </thead>\n",
       "  <tbody>\n",
       "    <tr>\n",
       "      <th>0</th>\n",
       "      <td>1</td>\n",
       "      <td>2016</td>\n",
       "      <td>NonResidential</td>\n",
       "      <td>Hotel</td>\n",
       "      <td>Mayflower park hotel</td>\n",
       "      <td>405 Olive way</td>\n",
       "      <td>Seattle</td>\n",
       "      <td>WA</td>\n",
       "      <td>98101.0</td>\n",
       "      <td>0659000030</td>\n",
       "      <td>...</td>\n",
       "      <td>1.156514e+06</td>\n",
       "      <td>3946027.0</td>\n",
       "      <td>12764.52930</td>\n",
       "      <td>1276453.0</td>\n",
       "      <td>False</td>\n",
       "      <td>NaN</td>\n",
       "      <td>Compliant</td>\n",
       "      <td>NaN</td>\n",
       "      <td>249.98</td>\n",
       "      <td>2.83</td>\n",
       "    </tr>\n",
       "    <tr>\n",
       "      <th>1</th>\n",
       "      <td>2</td>\n",
       "      <td>2016</td>\n",
       "      <td>NonResidential</td>\n",
       "      <td>Hotel</td>\n",
       "      <td>Paramount Hotel</td>\n",
       "      <td>724 Pine street</td>\n",
       "      <td>Seattle</td>\n",
       "      <td>WA</td>\n",
       "      <td>98101.0</td>\n",
       "      <td>0659000220</td>\n",
       "      <td>...</td>\n",
       "      <td>9.504252e+05</td>\n",
       "      <td>3242851.0</td>\n",
       "      <td>51450.81641</td>\n",
       "      <td>5145082.0</td>\n",
       "      <td>False</td>\n",
       "      <td>NaN</td>\n",
       "      <td>Compliant</td>\n",
       "      <td>NaN</td>\n",
       "      <td>295.86</td>\n",
       "      <td>2.86</td>\n",
       "    </tr>\n",
       "    <tr>\n",
       "      <th>2</th>\n",
       "      <td>3</td>\n",
       "      <td>2016</td>\n",
       "      <td>NonResidential</td>\n",
       "      <td>Hotel</td>\n",
       "      <td>5673-The Westin Seattle</td>\n",
       "      <td>1900 5th Avenue</td>\n",
       "      <td>Seattle</td>\n",
       "      <td>WA</td>\n",
       "      <td>98101.0</td>\n",
       "      <td>0659000475</td>\n",
       "      <td>...</td>\n",
       "      <td>1.451544e+07</td>\n",
       "      <td>49526664.0</td>\n",
       "      <td>14938.00000</td>\n",
       "      <td>1493800.0</td>\n",
       "      <td>False</td>\n",
       "      <td>NaN</td>\n",
       "      <td>Compliant</td>\n",
       "      <td>NaN</td>\n",
       "      <td>2089.28</td>\n",
       "      <td>2.19</td>\n",
       "    </tr>\n",
       "  </tbody>\n",
       "</table>\n",
       "<p>3 rows × 46 columns</p>\n",
       "</div>"
      ],
      "text/plain": [
       "   OSEBuildingID  DataYear    BuildingType PrimaryPropertyType  \\\n",
       "0              1      2016  NonResidential               Hotel   \n",
       "1              2      2016  NonResidential               Hotel   \n",
       "2              3      2016  NonResidential               Hotel   \n",
       "\n",
       "              PropertyName          Address     City State  ZipCode  \\\n",
       "0     Mayflower park hotel    405 Olive way  Seattle    WA  98101.0   \n",
       "1          Paramount Hotel  724 Pine street  Seattle    WA  98101.0   \n",
       "2  5673-The Westin Seattle  1900 5th Avenue  Seattle    WA  98101.0   \n",
       "\n",
       "  TaxParcelIdentificationNumber  ...  Electricity(kWh) Electricity(kBtu)  \\\n",
       "0                    0659000030  ...      1.156514e+06         3946027.0   \n",
       "1                    0659000220  ...      9.504252e+05         3242851.0   \n",
       "2                    0659000475  ...      1.451544e+07        49526664.0   \n",
       "\n",
       "   NaturalGas(therms)  NaturalGas(kBtu)  DefaultData  Comments  \\\n",
       "0         12764.52930         1276453.0        False       NaN   \n",
       "1         51450.81641         5145082.0        False       NaN   \n",
       "2         14938.00000         1493800.0        False       NaN   \n",
       "\n",
       "   ComplianceStatus  Outlier  TotalGHGEmissions  GHGEmissionsIntensity  \n",
       "0         Compliant      NaN             249.98                   2.83  \n",
       "1         Compliant      NaN             295.86                   2.86  \n",
       "2         Compliant      NaN            2089.28                   2.19  \n",
       "\n",
       "[3 rows x 46 columns]"
      ]
     },
     "execution_count": 6,
     "metadata": {},
     "output_type": "execute_result"
    }
   ],
   "source": [
    "df.head(3)"
   ]
  },
  {
   "cell_type": "code",
   "execution_count": 7,
   "metadata": {},
   "outputs": [
    {
     "name": "stdout",
     "output_type": "stream",
     "text": [
      "<class 'pandas.core.frame.DataFrame'>\n",
      "RangeIndex: 3376 entries, 0 to 3375\n",
      "Data columns (total 46 columns):\n",
      " #   Column                           Non-Null Count  Dtype  \n",
      "---  ------                           --------------  -----  \n",
      " 0   OSEBuildingID                    3376 non-null   int64  \n",
      " 1   DataYear                         3376 non-null   int64  \n",
      " 2   BuildingType                     3376 non-null   object \n",
      " 3   PrimaryPropertyType              3376 non-null   object \n",
      " 4   PropertyName                     3376 non-null   object \n",
      " 5   Address                          3376 non-null   object \n",
      " 6   City                             3376 non-null   object \n",
      " 7   State                            3376 non-null   object \n",
      " 8   ZipCode                          3360 non-null   float64\n",
      " 9   TaxParcelIdentificationNumber    3376 non-null   object \n",
      " 10  CouncilDistrictCode              3376 non-null   int64  \n",
      " 11  Neighborhood                     3376 non-null   object \n",
      " 12  Latitude                         3376 non-null   float64\n",
      " 13  Longitude                        3376 non-null   float64\n",
      " 14  YearBuilt                        3376 non-null   int64  \n",
      " 15  NumberofBuildings                3368 non-null   float64\n",
      " 16  NumberofFloors                   3376 non-null   int64  \n",
      " 17  PropertyGFATotal                 3376 non-null   int64  \n",
      " 18  PropertyGFAParking               3376 non-null   int64  \n",
      " 19  PropertyGFABuilding(s)           3376 non-null   int64  \n",
      " 20  ListOfAllPropertyUseTypes        3367 non-null   object \n",
      " 21  LargestPropertyUseType           3356 non-null   object \n",
      " 22  LargestPropertyUseTypeGFA        3356 non-null   float64\n",
      " 23  SecondLargestPropertyUseType     1679 non-null   object \n",
      " 24  SecondLargestPropertyUseTypeGFA  1679 non-null   float64\n",
      " 25  ThirdLargestPropertyUseType      596 non-null    object \n",
      " 26  ThirdLargestPropertyUseTypeGFA   596 non-null    float64\n",
      " 27  YearsENERGYSTARCertified         119 non-null    object \n",
      " 28  ENERGYSTARScore                  2533 non-null   float64\n",
      " 29  SiteEUI(kBtu/sf)                 3369 non-null   float64\n",
      " 30  SiteEUIWN(kBtu/sf)               3370 non-null   float64\n",
      " 31  SourceEUI(kBtu/sf)               3367 non-null   float64\n",
      " 32  SourceEUIWN(kBtu/sf)             3367 non-null   float64\n",
      " 33  SiteEnergyUse(kBtu)              3371 non-null   float64\n",
      " 34  SiteEnergyUseWN(kBtu)            3370 non-null   float64\n",
      " 35  SteamUse(kBtu)                   3367 non-null   float64\n",
      " 36  Electricity(kWh)                 3367 non-null   float64\n",
      " 37  Electricity(kBtu)                3367 non-null   float64\n",
      " 38  NaturalGas(therms)               3367 non-null   float64\n",
      " 39  NaturalGas(kBtu)                 3367 non-null   float64\n",
      " 40  DefaultData                      3376 non-null   bool   \n",
      " 41  Comments                         0 non-null      float64\n",
      " 42  ComplianceStatus                 3376 non-null   object \n",
      " 43  Outlier                          32 non-null     object \n",
      " 44  TotalGHGEmissions                3367 non-null   float64\n",
      " 45  GHGEmissionsIntensity            3367 non-null   float64\n",
      "dtypes: bool(1), float64(22), int64(8), object(15)\n",
      "memory usage: 1.2+ MB\n"
     ]
    }
   ],
   "source": [
    "df.info()"
   ]
  },
  {
   "cell_type": "markdown",
   "metadata": {},
   "source": []
  },
  {
   "cell_type": "code",
   "execution_count": 8,
   "metadata": {},
   "outputs": [
    {
     "data": {
      "text/plain": [
       "(3376, 46)"
      ]
     },
     "execution_count": 8,
     "metadata": {},
     "output_type": "execute_result"
    }
   ],
   "source": [
    "df.shape"
   ]
  },
  {
   "cell_type": "markdown",
   "metadata": {},
   "source": []
  },
  {
   "cell_type": "markdown",
   "metadata": {},
   "source": [
    "- Exploration des valeurs nulles"
   ]
  },
  {
   "cell_type": "code",
   "execution_count": 9,
   "metadata": {},
   "outputs": [
    {
     "data": {
      "image/png": "[encoded data removed]",
      "text/plain": [
       "<Figure size 1152x864 with 1 Axes>"
      ]
     },
     "metadata": {
      "needs_background": "light"
     },
     "output_type": "display_data"
    }
   ],
   "source": [
    "plt.figure(figsize=(16,12))\n",
    "sns.heatmap(df.isna(),cbar=False)\n",
    "plt.show()"
   ]
  },
  {
   "cell_type": "markdown",
   "metadata": {},
   "source": [
    "La trame de données est plutot bien remplie, la plupart des colonnes ne possèdent pas ou très peu de valeures nulles"
   ]
  },
  {
   "cell_type": "markdown",
   "metadata": {},
   "source": [
    "- Typologie des variables"
   ]
  },
  {
   "cell_type": "code",
   "execution_count": 10,
   "metadata": {},
   "outputs": [
    {
     "data": {
      "text/plain": [
       "float64    22\n",
       "object     15\n",
       "int64       8\n",
       "bool        1\n",
       "dtype: int64"
      ]
     },
     "execution_count": 10,
     "metadata": {},
     "output_type": "execute_result"
    }
   ],
   "source": [
    "df.dtypes.value_counts()"
   ]
  },
  {
   "cell_type": "markdown",
   "metadata": {},
   "source": [
    "- Exploration des varibles catégoriques"
   ]
  },
  {
   "cell_type": "code",
   "execution_count": 13,
   "metadata": {},
   "outputs": [
    {
     "data": {
      "text/html": [
       "<div>\n",
       "<style scoped>\n",
       "    .dataframe tbody tr th:only-of-type {\n",
       "        vertical-align: middle;\n",
       "    }\n",
       "\n",
       "    .dataframe tbody tr th {\n",
       "        vertical-align: top;\n",
       "    }\n",
       "\n",
       "    .dataframe thead th {\n",
       "        text-align: right;\n",
       "    }\n",
       "</style>\n",
       "<table border=\"1\" class=\"dataframe\">\n",
       "  <thead>\n",
       "    <tr style=\"text-align: right;\">\n",
       "      <th></th>\n",
       "      <th>BuildingType</th>\n",
       "      <th>PrimaryPropertyType</th>\n",
       "      <th>PropertyName</th>\n",
       "      <th>Address</th>\n",
       "      <th>City</th>\n",
       "      <th>State</th>\n",
       "      <th>TaxParcelIdentificationNumber</th>\n",
       "      <th>Neighborhood</th>\n",
       "      <th>ListOfAllPropertyUseTypes</th>\n",
       "      <th>LargestPropertyUseType</th>\n",
       "      <th>SecondLargestPropertyUseType</th>\n",
       "      <th>ThirdLargestPropertyUseType</th>\n",
       "      <th>YearsENERGYSTARCertified</th>\n",
       "      <th>ComplianceStatus</th>\n",
       "      <th>Outlier</th>\n",
       "    </tr>\n",
       "  </thead>\n",
       "  <tbody>\n",
       "    <tr>\n",
       "      <th>0</th>\n",
       "      <td>NonResidential</td>\n",
       "      <td>Hotel</td>\n",
       "      <td>Mayflower park hotel</td>\n",
       "      <td>405 Olive way</td>\n",
       "      <td>Seattle</td>\n",
       "      <td>WA</td>\n",
       "      <td>0659000030</td>\n",
       "      <td>DOWNTOWN</td>\n",
       "      <td>Hotel</td>\n",
       "      <td>Hotel</td>\n",
       "      <td>NaN</td>\n",
       "      <td>NaN</td>\n",
       "      <td>NaN</td>\n",
       "      <td>Compliant</td>\n",
       "      <td>NaN</td>\n",
       "    </tr>\n",
       "  </tbody>\n",
       "</table>\n",
       "</div>"
      ],
      "text/plain": [
       "     BuildingType PrimaryPropertyType          PropertyName        Address  \\\n",
       "0  NonResidential               Hotel  Mayflower park hotel  405 Olive way   \n",
       "\n",
       "      City State TaxParcelIdentificationNumber Neighborhood  \\\n",
       "0  Seattle    WA                    0659000030     DOWNTOWN   \n",
       "\n",
       "  ListOfAllPropertyUseTypes LargestPropertyUseType  \\\n",
       "0                     Hotel                  Hotel   \n",
       "\n",
       "  SecondLargestPropertyUseType ThirdLargestPropertyUseType  \\\n",
       "0                          NaN                         NaN   \n",
       "\n",
       "  YearsENERGYSTARCertified ComplianceStatus Outlier  \n",
       "0                      NaN        Compliant     NaN  "
      ]
     },
     "execution_count": 13,
     "metadata": {},
     "output_type": "execute_result"
    }
   ],
   "source": [
    "df_cat = df.select_dtypes(include='object').copy()\n",
    "df_cat.head(1)"
   ]
  },
  {
   "cell_type": "code",
   "execution_count": 14,
   "metadata": {},
   "outputs": [
    {
     "data": {
      "image/png": "[encoded data removed]",
      "text/plain": [
       "<Figure size 1152x864 with 1 Axes>"
      ]
     },
     "metadata": {
      "needs_background": "light"
     },
     "output_type": "display_data"
    }
   ],
   "source": [
    "plt.figure(figsize=(16,12))\n",
    "sns.heatmap(df_cat.isna(),cbar=False)\n",
    "plt.show()"
   ]
  },
  {
   "cell_type": "markdown",
   "metadata": {},
   "source": [
    "- BoxPlot des targets"
   ]
  },
  {
   "cell_type": "code",
   "execution_count": 11,
   "metadata": {},
   "outputs": [
    {
     "data": {
      "text/plain": [
       "<AxesSubplot:xlabel='SiteEnergyUse(kBtu)'>"
      ]
     },
     "execution_count": 11,
     "metadata": {},
     "output_type": "execute_result"
    },
    {
     "data": {
      "image/png": "[encoded data removed]",
      "text/plain": [
       "<Figure size 432x288 with 1 Axes>"
      ]
     },
     "metadata": {
      "needs_background": "light"
     },
     "output_type": "display_data"
    }
   ],
   "source": [
    "sns.boxplot(x=df['SiteEnergyUse(kBtu)'])"
   ]
  },
  {
   "cell_type": "code",
   "execution_count": 12,
   "metadata": {},
   "outputs": [
    {
     "data": {
      "text/plain": [
       "<AxesSubplot:xlabel='TotalGHGEmissions'>"
      ]
     },
     "execution_count": 12,
     "metadata": {},
     "output_type": "execute_result"
    },
    {
     "data": {
      "image/png": "[encoded data removed]",
      "text/plain": [
       "<Figure size 432x288 with 1 Axes>"
      ]
     },
     "metadata": {
      "needs_background": "light"
     },
     "output_type": "display_data"
    }
   ],
   "source": [
    "sns.boxplot(x=df['TotalGHGEmissions'])"
   ]
  },
  {
   "cell_type": "markdown",
   "metadata": {},
   "source": [
    "Nous avons un certains nombre de valeurs de consommation d'énergie et émission de CO2 pouvant être considéré comme outliers"
   ]
  },
  {
   "cell_type": "markdown",
   "metadata": {},
   "source": []
  },
  {
   "cell_type": "markdown",
   "metadata": {},
   "source": [
    "- Boxplot de la consommation en energie des differents types de building "
   ]
  },
  {
   "cell_type": "code",
   "execution_count": 17,
   "metadata": {},
   "outputs": [
    {
     "data": {
      "image/png": "[encoded data removed]",
      "text/plain": [
       "<Figure size 720x720 with 1 Axes>"
      ]
     },
     "metadata": {
      "needs_background": "light"
     },
     "output_type": "display_data"
    }
   ],
   "source": [
    "plt.figure(figsize=(10,10))\n",
    "sns.boxplot(data=df, x='BuildingType',y='SiteEnergyUse(kBtu)')\n",
    "plt.show()"
   ]
  },
  {
   "cell_type": "markdown",
   "metadata": {},
   "source": [
    "- Boxplot des émissions de CO2 des differents types de building "
   ]
  },
  {
   "cell_type": "code",
   "execution_count": 19,
   "metadata": {},
   "outputs": [
    {
     "data": {
      "image/png": "[encoded data removed]",
      "text/plain": [
       "<Figure size 720x720 with 1 Axes>"
      ]
     },
     "metadata": {
      "needs_background": "light"
     },
     "output_type": "display_data"
    }
   ],
   "source": [
    "plt.figure(figsize=(10,10))\n",
    "sns.boxplot(data=df, x='BuildingType',y='TotalGHGEmissions')\n",
    "plt.show()"
   ]
  },
  {
   "cell_type": "markdown",
   "metadata": {},
   "source": [
    "- Nombre de variables différentes par Feature"
   ]
  },
  {
   "cell_type": "code",
   "execution_count": 16,
   "metadata": {},
   "outputs": [
    {
     "data": {
      "text/plain": [
       "OSEBuildingID                      3376\n",
       "DataYear                              1\n",
       "BuildingType                          8\n",
       "PrimaryPropertyType                  24\n",
       "PropertyName                       3362\n",
       "Address                            3354\n",
       "City                                  1\n",
       "State                                 1\n",
       "ZipCode                              55\n",
       "TaxParcelIdentificationNumber      3268\n",
       "CouncilDistrictCode                   7\n",
       "Neighborhood                         19\n",
       "Latitude                           2876\n",
       "Longitude                          2656\n",
       "YearBuilt                           113\n",
       "NumberofBuildings                    17\n",
       "NumberofFloors                       50\n",
       "PropertyGFATotal                   3195\n",
       "PropertyGFAParking                  496\n",
       "PropertyGFABuilding(s)             3193\n",
       "ListOfAllPropertyUseTypes           466\n",
       "LargestPropertyUseType               56\n",
       "LargestPropertyUseTypeGFA          3122\n",
       "SecondLargestPropertyUseType         50\n",
       "SecondLargestPropertyUseTypeGFA    1352\n",
       "ThirdLargestPropertyUseType          44\n",
       "ThirdLargestPropertyUseTypeGFA      501\n",
       "YearsENERGYSTARCertified             65\n",
       "ENERGYSTARScore                     100\n",
       "SiteEUI(kBtu/sf)                   1085\n",
       "SiteEUIWN(kBtu/sf)                 1105\n",
       "SourceEUI(kBtu/sf)                 1648\n",
       "SourceEUIWN(kBtu/sf)               1694\n",
       "SiteEnergyUse(kBtu)                3354\n",
       "SiteEnergyUseWN(kBtu)              3341\n",
       "SteamUse(kBtu)                      131\n",
       "Electricity(kWh)                   3352\n",
       "Electricity(kBtu)                  3351\n",
       "NaturalGas(therms)                 2109\n",
       "NaturalGas(kBtu)                   2109\n",
       "DefaultData                           2\n",
       "Comments                              0\n",
       "ComplianceStatus                      4\n",
       "Outlier                               2\n",
       "TotalGHGEmissions                  2818\n",
       "GHGEmissionsIntensity               511\n",
       "dtype: int64"
      ]
     },
     "execution_count": 16,
     "metadata": {},
     "output_type": "execute_result"
    }
   ],
   "source": [
    "df.nunique()"
   ]
  },
  {
   "cell_type": "code",
   "execution_count": 17,
   "metadata": {},
   "outputs": [
    {
     "data": {
      "text/plain": [
       "Low outlier     23\n",
       "High outlier     9\n",
       "Name: Outlier, dtype: int64"
      ]
     },
     "execution_count": 17,
     "metadata": {},
     "output_type": "execute_result"
    }
   ],
   "source": [
    "df['Outlier'].value_counts()"
   ]
  },
  {
   "cell_type": "code",
   "execution_count": 18,
   "metadata": {},
   "outputs": [
    {
     "data": {
      "text/plain": [
       "Compliant                       3211\n",
       "Error - Correct Default Data     113\n",
       "Non-Compliant                     37\n",
       "Missing Data                      15\n",
       "Name: ComplianceStatus, dtype: int64"
      ]
     },
     "execution_count": 18,
     "metadata": {},
     "output_type": "execute_result"
    }
   ],
   "source": [
    "df['ComplianceStatus'].value_counts()"
   ]
  },
  {
   "cell_type": "markdown",
   "metadata": {},
   "source": [
    "On a 8 types de buiding, seuls les buildings résidentiels nous interressent dans le cadre de notre étude"
   ]
  },
  {
   "cell_type": "code",
   "execution_count": 19,
   "metadata": {},
   "outputs": [
    {
     "data": {
      "text/plain": [
       "NonResidential          1460\n",
       "Multifamily LR (1-4)    1018\n",
       "Multifamily MR (5-9)     580\n",
       "Multifamily HR (10+)     110\n",
       "SPS-District K-12         98\n",
       "Nonresidential COS        85\n",
       "Campus                    24\n",
       "Nonresidential WA          1\n",
       "Name: BuildingType, dtype: int64"
      ]
     },
     "execution_count": 19,
     "metadata": {},
     "output_type": "execute_result"
    }
   ],
   "source": [
    "df.iloc[:,2].value_counts()"
   ]
  },
  {
   "cell_type": "markdown",
   "metadata": {},
   "source": [
    "Ici ce sont les buildings de type Multifamily qui nous interressent (rajouter Campus??)"
   ]
  },
  {
   "cell_type": "code",
   "execution_count": 20,
   "metadata": {},
   "outputs": [
    {
     "data": {
      "text/plain": [
       "Low-Rise Multifamily           987\n",
       "Mid-Rise Multifamily           564\n",
       "Small- and Mid-Sized Office    293\n",
       "Other                          256\n",
       "Warehouse                      187\n",
       "Large Office                   173\n",
       "K-12 School                    139\n",
       "Mixed Use Property             133\n",
       "High-Rise Multifamily          105\n",
       "Retail Store                    91\n",
       "Hotel                           77\n",
       "Worship Facility                71\n",
       "Distribution Center             53\n",
       "Senior Care Community           45\n",
       "Supermarket / Grocery Store     40\n",
       "Medical Office                  39\n",
       "Self-Storage Facility           28\n",
       "University                      25\n",
       "Residence Hall                  23\n",
       "Refrigerated Warehouse          12\n",
       "Restaurant                      12\n",
       "Hospital                        10\n",
       "Laboratory                      10\n",
       "Office                           3\n",
       "Name: PrimaryPropertyType, dtype: int64"
      ]
     },
     "execution_count": 20,
     "metadata": {},
     "output_type": "execute_result"
    }
   ],
   "source": [
    "df.iloc[:,3].value_counts()"
   ]
  },
  {
   "cell_type": "code",
   "execution_count": null,
   "metadata": {},
   "outputs": [],
   "source": []
  },
  {
   "cell_type": "markdown",
   "metadata": {},
   "source": [
    "- Nombre de valeures nulles par feature"
   ]
  },
  {
   "cell_type": "code",
   "execution_count": 21,
   "metadata": {},
   "outputs": [
    {
     "data": {
      "text/plain": [
       "OSEBuildingID                         0\n",
       "DataYear                              0\n",
       "BuildingType                          0\n",
       "PrimaryPropertyType                   0\n",
       "PropertyName                          0\n",
       "Address                               0\n",
       "City                                  0\n",
       "State                                 0\n",
       "ZipCode                              16\n",
       "TaxParcelIdentificationNumber         0\n",
       "CouncilDistrictCode                   0\n",
       "Neighborhood                          0\n",
       "Latitude                              0\n",
       "Longitude                             0\n",
       "YearBuilt                             0\n",
       "NumberofBuildings                     8\n",
       "NumberofFloors                        0\n",
       "PropertyGFATotal                      0\n",
       "PropertyGFAParking                    0\n",
       "PropertyGFABuilding(s)                0\n",
       "ListOfAllPropertyUseTypes             9\n",
       "LargestPropertyUseType               20\n",
       "LargestPropertyUseTypeGFA            20\n",
       "SecondLargestPropertyUseType       1697\n",
       "SecondLargestPropertyUseTypeGFA    1697\n",
       "ThirdLargestPropertyUseType        2780\n",
       "ThirdLargestPropertyUseTypeGFA     2780\n",
       "YearsENERGYSTARCertified           3257\n",
       "ENERGYSTARScore                     843\n",
       "SiteEUI(kBtu/sf)                      7\n",
       "SiteEUIWN(kBtu/sf)                    6\n",
       "SourceEUI(kBtu/sf)                    9\n",
       "SourceEUIWN(kBtu/sf)                  9\n",
       "SiteEnergyUse(kBtu)                   5\n",
       "SiteEnergyUseWN(kBtu)                 6\n",
       "SteamUse(kBtu)                        9\n",
       "Electricity(kWh)                      9\n",
       "Electricity(kBtu)                     9\n",
       "NaturalGas(therms)                    9\n",
       "NaturalGas(kBtu)                      9\n",
       "DefaultData                           0\n",
       "Comments                           3376\n",
       "ComplianceStatus                      0\n",
       "Outlier                            3344\n",
       "TotalGHGEmissions                     9\n",
       "GHGEmissionsIntensity                 9\n",
       "dtype: int64"
      ]
     },
     "execution_count": 21,
     "metadata": {},
     "output_type": "execute_result"
    }
   ],
   "source": [
    "df.isna().sum()"
   ]
  },
  {
   "cell_type": "markdown",
   "metadata": {},
   "source": []
  },
  {
   "cell_type": "markdown",
   "metadata": {},
   "source": [
    "## <a name='C2'> Feature Engineering   </a>"
   ]
  },
  {
   "cell_type": "code",
   "execution_count": 22,
   "metadata": {},
   "outputs": [],
   "source": [
    "building_type = ['NonResidential','NonResidential COS','NonResidential WA','Campus','SPS-District K-12'] \n",
    "\n",
    "nonRes = df[df['BuildingType'].isin(building_type)].reset_index(drop=True)"
   ]
  },
  {
   "cell_type": "markdown",
   "metadata": {},
   "source": [
    "- Nos deux targets sont **TotalGHGEmissions** et **SiteEnergyUse(kBtu)**"
   ]
  },
  {
   "cell_type": "code",
   "execution_count": 23,
   "metadata": {},
   "outputs": [],
   "source": [
    "compliant = ['Compliant']\n",
    "\n",
    "nonRes = nonRes[nonRes['ComplianceStatus'].isin(compliant)].reset_index(drop=True)"
   ]
  },
  {
   "cell_type": "code",
   "execution_count": 24,
   "metadata": {},
   "outputs": [
    {
     "data": {
      "text/plain": [
       "(1466, 46)"
      ]
     },
     "execution_count": 24,
     "metadata": {},
     "output_type": "execute_result"
    }
   ],
   "source": [
    "nonRes.shape"
   ]
  },
  {
   "cell_type": "code",
   "execution_count": 25,
   "metadata": {},
   "outputs": [
    {
     "data": {
      "text/html": [
       "<div>\n",
       "<style scoped>\n",
       "    .dataframe tbody tr th:only-of-type {\n",
       "        vertical-align: middle;\n",
       "    }\n",
       "\n",
       "    .dataframe tbody tr th {\n",
       "        vertical-align: top;\n",
       "    }\n",
       "\n",
       "    .dataframe thead th {\n",
       "        text-align: right;\n",
       "    }\n",
       "</style>\n",
       "<table border=\"1\" class=\"dataframe\">\n",
       "  <thead>\n",
       "    <tr style=\"text-align: right;\">\n",
       "      <th></th>\n",
       "      <th>OSEBuildingID</th>\n",
       "      <th>DataYear</th>\n",
       "      <th>BuildingType</th>\n",
       "      <th>PrimaryPropertyType</th>\n",
       "      <th>PropertyName</th>\n",
       "      <th>Address</th>\n",
       "      <th>City</th>\n",
       "      <th>State</th>\n",
       "      <th>ZipCode</th>\n",
       "      <th>TaxParcelIdentificationNumber</th>\n",
       "      <th>...</th>\n",
       "      <th>Electricity(kWh)</th>\n",
       "      <th>Electricity(kBtu)</th>\n",
       "      <th>NaturalGas(therms)</th>\n",
       "      <th>NaturalGas(kBtu)</th>\n",
       "      <th>DefaultData</th>\n",
       "      <th>Comments</th>\n",
       "      <th>ComplianceStatus</th>\n",
       "      <th>Outlier</th>\n",
       "      <th>TotalGHGEmissions</th>\n",
       "      <th>GHGEmissionsIntensity</th>\n",
       "    </tr>\n",
       "  </thead>\n",
       "  <tbody>\n",
       "    <tr>\n",
       "      <th>0</th>\n",
       "      <td>1</td>\n",
       "      <td>2016</td>\n",
       "      <td>NonResidential</td>\n",
       "      <td>Hotel</td>\n",
       "      <td>Mayflower park hotel</td>\n",
       "      <td>405 Olive way</td>\n",
       "      <td>Seattle</td>\n",
       "      <td>WA</td>\n",
       "      <td>98101.0</td>\n",
       "      <td>0659000030</td>\n",
       "      <td>...</td>\n",
       "      <td>1156514.25</td>\n",
       "      <td>3946027.0</td>\n",
       "      <td>12764.5293</td>\n",
       "      <td>1276453.0</td>\n",
       "      <td>False</td>\n",
       "      <td>NaN</td>\n",
       "      <td>Compliant</td>\n",
       "      <td>NaN</td>\n",
       "      <td>249.98</td>\n",
       "      <td>2.83</td>\n",
       "    </tr>\n",
       "  </tbody>\n",
       "</table>\n",
       "<p>1 rows × 46 columns</p>\n",
       "</div>"
      ],
      "text/plain": [
       "   OSEBuildingID  DataYear    BuildingType PrimaryPropertyType  \\\n",
       "0              1      2016  NonResidential               Hotel   \n",
       "\n",
       "           PropertyName        Address     City State  ZipCode  \\\n",
       "0  Mayflower park hotel  405 Olive way  Seattle    WA  98101.0   \n",
       "\n",
       "  TaxParcelIdentificationNumber  ...  Electricity(kWh) Electricity(kBtu)  \\\n",
       "0                    0659000030  ...        1156514.25         3946027.0   \n",
       "\n",
       "   NaturalGas(therms)  NaturalGas(kBtu)  DefaultData  Comments  \\\n",
       "0          12764.5293         1276453.0        False       NaN   \n",
       "\n",
       "   ComplianceStatus  Outlier  TotalGHGEmissions  GHGEmissionsIntensity  \n",
       "0         Compliant      NaN             249.98                   2.83  \n",
       "\n",
       "[1 rows x 46 columns]"
      ]
     },
     "execution_count": 25,
     "metadata": {},
     "output_type": "execute_result"
    }
   ],
   "source": [
    "nonRes.head(1)"
   ]
  },
  {
   "cell_type": "code",
   "execution_count": 26,
   "metadata": {},
   "outputs": [
    {
     "data": {
      "image/png": "[encoded data removed]",
      "text/plain": [
       "<Figure size 720x720 with 1 Axes>"
      ]
     },
     "metadata": {
      "needs_background": "light"
     },
     "output_type": "display_data"
    }
   ],
   "source": [
    "plt.figure(figsize=(10,10))\n",
    "sns.boxplot(data=nonRes, x='BuildingType',y='SiteEnergyUse(kBtu)')\n",
    "plt.show()"
   ]
  },
  {
   "cell_type": "code",
   "execution_count": 27,
   "metadata": {},
   "outputs": [
    {
     "data": {
      "image/png": "[encoded data removed]",
      "text/plain": [
       "<Figure size 720x720 with 1 Axes>"
      ]
     },
     "metadata": {
      "needs_background": "light"
     },
     "output_type": "display_data"
    }
   ],
   "source": [
    "plt.figure(figsize=(10,10))\n",
    "sns.boxplot(data=nonRes, x='BuildingType',y='TotalGHGEmissions')\n",
    "plt.show()"
   ]
  },
  {
   "cell_type": "code",
   "execution_count": 28,
   "metadata": {},
   "outputs": [],
   "source": [
    "#nonRes[nonRes['BuildingType'] == 'Campus']"
   ]
  },
  {
   "cell_type": "code",
   "execution_count": 29,
   "metadata": {},
   "outputs": [
    {
     "data": {
      "text/plain": [
       "Small- and Mid-Sized Office    282\n",
       "Other                          190\n",
       "Warehouse                      178\n",
       "Large Office                   165\n",
       "Mixed Use Property             105\n",
       "Retail Store                    85\n",
       "Hotel                           75\n",
       "Worship Facility                69\n",
       "Distribution Center             51\n",
       "K-12 School                     50\n",
       "Supermarket / Grocery Store     40\n",
       "Medical Office                  38\n",
       "Self-Storage Facility           28\n",
       "University                      23\n",
       "Residence Hall                  21\n",
       "Senior Care Community           20\n",
       "Refrigerated Warehouse          12\n",
       "Restaurant                      12\n",
       "Hospital                        10\n",
       "Laboratory                      10\n",
       "Low-Rise Multifamily             2\n",
       "Name: PrimaryPropertyType, dtype: int64"
      ]
     },
     "execution_count": 29,
     "metadata": {},
     "output_type": "execute_result"
    }
   ],
   "source": [
    "nonRes.iloc[:,3].value_counts()"
   ]
  },
  {
   "cell_type": "markdown",
   "metadata": {},
   "source": [
    "- Nettoyage et choix des features à utiliser"
   ]
  },
  {
   "cell_type": "code",
   "execution_count": 30,
   "metadata": {},
   "outputs": [],
   "source": [
    "nonRes = nonRes.drop(nonRes[nonRes['PrimaryPropertyType'] == 'Low-Rise Multifamily'].index)\n",
    "nonRes = nonRes.drop(nonRes[nonRes['PrimaryPropertyType'] == 'Residence Hall'].index)\n",
    "#nonRes = nonRes.drop(nonRes[nonRes['PrimaryPropertyType'] == 'Other'].index)"
   ]
  },
  {
   "cell_type": "code",
   "execution_count": 31,
   "metadata": {},
   "outputs": [
    {
     "data": {
      "text/plain": [
       "Small- and Mid-Sized Office    282\n",
       "Other                          190\n",
       "Warehouse                      178\n",
       "Large Office                   165\n",
       "Mixed Use Property             105\n",
       "Retail Store                    85\n",
       "Hotel                           75\n",
       "Worship Facility                69\n",
       "Distribution Center             51\n",
       "K-12 School                     50\n",
       "Supermarket / Grocery Store     40\n",
       "Medical Office                  38\n",
       "Self-Storage Facility           28\n",
       "University                      23\n",
       "Senior Care Community           20\n",
       "Refrigerated Warehouse          12\n",
       "Restaurant                      12\n",
       "Hospital                        10\n",
       "Laboratory                      10\n",
       "Name: PrimaryPropertyType, dtype: int64"
      ]
     },
     "execution_count": 31,
     "metadata": {},
     "output_type": "execute_result"
    }
   ],
   "source": [
    "nonRes.iloc[:,3].value_counts()"
   ]
  },
  {
   "cell_type": "code",
   "execution_count": 32,
   "metadata": {},
   "outputs": [
    {
     "data": {
      "text/plain": [
       "OSEBuildingID                         0\n",
       "DataYear                              0\n",
       "BuildingType                          0\n",
       "PrimaryPropertyType                   0\n",
       "PropertyName                          0\n",
       "Address                               0\n",
       "City                                  0\n",
       "State                                 0\n",
       "ZipCode                               0\n",
       "TaxParcelIdentificationNumber         0\n",
       "CouncilDistrictCode                   0\n",
       "Neighborhood                          0\n",
       "Latitude                              0\n",
       "Longitude                             0\n",
       "YearBuilt                             0\n",
       "NumberofBuildings                     0\n",
       "NumberofFloors                        0\n",
       "PropertyGFATotal                      0\n",
       "PropertyGFAParking                    0\n",
       "PropertyGFABuilding(s)                0\n",
       "ListOfAllPropertyUseTypes             0\n",
       "LargestPropertyUseType                4\n",
       "LargestPropertyUseTypeGFA             4\n",
       "SecondLargestPropertyUseType        654\n",
       "SecondLargestPropertyUseTypeGFA     654\n",
       "ThirdLargestPropertyUseType        1128\n",
       "ThirdLargestPropertyUseTypeGFA     1128\n",
       "YearsENERGYSTARCertified           1347\n",
       "ENERGYSTARScore                     474\n",
       "SiteEUI(kBtu/sf)                      0\n",
       "SiteEUIWN(kBtu/sf)                    1\n",
       "SourceEUI(kBtu/sf)                    0\n",
       "SourceEUIWN(kBtu/sf)                  0\n",
       "SiteEnergyUse(kBtu)                   0\n",
       "SiteEnergyUseWN(kBtu)                 1\n",
       "SteamUse(kBtu)                        0\n",
       "Electricity(kWh)                      0\n",
       "Electricity(kBtu)                     0\n",
       "NaturalGas(therms)                    0\n",
       "NaturalGas(kBtu)                      0\n",
       "DefaultData                           0\n",
       "Comments                           1443\n",
       "ComplianceStatus                      0\n",
       "Outlier                            1443\n",
       "TotalGHGEmissions                     0\n",
       "GHGEmissionsIntensity                 0\n",
       "dtype: int64"
      ]
     },
     "execution_count": 32,
     "metadata": {},
     "output_type": "execute_result"
    }
   ],
   "source": [
    "nonRes.isna().sum()"
   ]
  },
  {
   "cell_type": "code",
   "execution_count": 33,
   "metadata": {},
   "outputs": [
    {
     "data": {
      "text/plain": [
       "Compliant    1443\n",
       "Name: ComplianceStatus, dtype: int64"
      ]
     },
     "execution_count": 33,
     "metadata": {},
     "output_type": "execute_result"
    }
   ],
   "source": [
    "nonRes['ComplianceStatus'].value_counts()"
   ]
  },
  {
   "cell_type": "code",
   "execution_count": 34,
   "metadata": {},
   "outputs": [
    {
     "data": {
      "text/plain": [
       "Series([], Name: Outlier, dtype: int64)"
      ]
     },
     "execution_count": 34,
     "metadata": {},
     "output_type": "execute_result"
    }
   ],
   "source": [
    "nonRes['Outlier'].value_counts()"
   ]
  },
  {
   "cell_type": "code",
   "execution_count": 35,
   "metadata": {},
   "outputs": [],
   "source": [
    "nonRes = nonRes[nonRes.Outlier.isnull()]"
   ]
  },
  {
   "cell_type": "code",
   "execution_count": 36,
   "metadata": {},
   "outputs": [],
   "source": [
    "nonResidential = nonRes[['PrimaryPropertyType','Latitude','Longitude','YearBuilt','NumberofBuildings','NumberofFloors'\\\n",
    "            ,'PropertyGFABuilding(s)','PropertyGFAParking','LargestPropertyUseTypeGFA','SteamUse(kBtu)','Electricity(kBtu)','NaturalGas(kBtu)','TotalGHGEmissions','SiteEnergyUse(kBtu)']]"
   ]
  },
  {
   "cell_type": "code",
   "execution_count": 37,
   "metadata": {},
   "outputs": [
    {
     "data": {
      "image/png": "[encoded data removed]",
      "text/plain": [
       "<Figure size 432x288 with 1 Axes>"
      ]
     },
     "metadata": {
      "needs_background": "light"
     },
     "output_type": "display_data"
    }
   ],
   "source": [
    "plt.scatter(nonResidential['TotalGHGEmissions'],nonResidential['SiteEnergyUse(kBtu)'])\n",
    "plt.xlabel('TotalGHGEmissions')\n",
    "plt.ylabel('SiteEnergyUse(kBtu)')\n",
    "plt.show()"
   ]
  },
  {
   "cell_type": "code",
   "execution_count": 38,
   "metadata": {},
   "outputs": [
    {
     "data": {
      "image/png": "[encoded data removed]",
      "text/plain": [
       "<Figure size 432x288 with 1 Axes>"
      ]
     },
     "metadata": {
      "needs_background": "light"
     },
     "output_type": "display_data"
    }
   ],
   "source": [
    "plt.scatter(nonResidential['LargestPropertyUseTypeGFA'],nonResidential['PropertyGFABuilding(s)'])\n",
    "plt.xlabel('LargestPropertyUseTypeGFA')\n",
    "plt.ylabel('PropertyGFABuilding(s)')\n",
    "plt.show()"
   ]
  },
  {
   "cell_type": "code",
   "execution_count": 39,
   "metadata": {},
   "outputs": [
    {
     "data": {
      "text/html": [
       "<div>\n",
       "<style scoped>\n",
       "    .dataframe tbody tr th:only-of-type {\n",
       "        vertical-align: middle;\n",
       "    }\n",
       "\n",
       "    .dataframe tbody tr th {\n",
       "        vertical-align: top;\n",
       "    }\n",
       "\n",
       "    .dataframe thead th {\n",
       "        text-align: right;\n",
       "    }\n",
       "</style>\n",
       "<table border=\"1\" class=\"dataframe\">\n",
       "  <thead>\n",
       "    <tr style=\"text-align: right;\">\n",
       "      <th></th>\n",
       "      <th>PrimaryPropertyType</th>\n",
       "      <th>Latitude</th>\n",
       "      <th>Longitude</th>\n",
       "      <th>YearBuilt</th>\n",
       "      <th>NumberofBuildings</th>\n",
       "      <th>NumberofFloors</th>\n",
       "      <th>PropertyGFABuilding(s)</th>\n",
       "      <th>PropertyGFAParking</th>\n",
       "      <th>LargestPropertyUseTypeGFA</th>\n",
       "      <th>SteamUse(kBtu)</th>\n",
       "      <th>Electricity(kBtu)</th>\n",
       "      <th>NaturalGas(kBtu)</th>\n",
       "      <th>TotalGHGEmissions</th>\n",
       "      <th>SiteEnergyUse(kBtu)</th>\n",
       "    </tr>\n",
       "  </thead>\n",
       "  <tbody>\n",
       "    <tr>\n",
       "      <th>28</th>\n",
       "      <td>Mixed Use Property</td>\n",
       "      <td>47.534930</td>\n",
       "      <td>-122.317880</td>\n",
       "      <td>1992</td>\n",
       "      <td>1.0</td>\n",
       "      <td>3</td>\n",
       "      <td>494835</td>\n",
       "      <td>0</td>\n",
       "      <td>757027.0</td>\n",
       "      <td>0.0</td>\n",
       "      <td>150476283.0</td>\n",
       "      <td>297909000.0</td>\n",
       "      <td>16870.98</td>\n",
       "      <td>448385312.0</td>\n",
       "    </tr>\n",
       "    <tr>\n",
       "      <th>92</th>\n",
       "      <td>Hospital</td>\n",
       "      <td>47.662310</td>\n",
       "      <td>-122.281460</td>\n",
       "      <td>1953</td>\n",
       "      <td>6.0</td>\n",
       "      <td>10</td>\n",
       "      <td>879000</td>\n",
       "      <td>0</td>\n",
       "      <td>879000.0</td>\n",
       "      <td>0.0</td>\n",
       "      <td>115641210.0</td>\n",
       "      <td>138191238.0</td>\n",
       "      <td>8145.52</td>\n",
       "      <td>253832464.0</td>\n",
       "    </tr>\n",
       "    <tr>\n",
       "      <th>117</th>\n",
       "      <td>Hospital</td>\n",
       "      <td>47.603990</td>\n",
       "      <td>-122.323770</td>\n",
       "      <td>2000</td>\n",
       "      <td>9.0</td>\n",
       "      <td>8</td>\n",
       "      <td>1158691</td>\n",
       "      <td>0</td>\n",
       "      <td>1350182.0</td>\n",
       "      <td>122575032.0</td>\n",
       "      <td>168683602.0</td>\n",
       "      <td>1832129.0</td>\n",
       "      <td>10734.57</td>\n",
       "      <td>293090784.0</td>\n",
       "    </tr>\n",
       "    <tr>\n",
       "      <th>475</th>\n",
       "      <td>Other</td>\n",
       "      <td>47.614380</td>\n",
       "      <td>-122.338710</td>\n",
       "      <td>1981</td>\n",
       "      <td>1.0</td>\n",
       "      <td>33</td>\n",
       "      <td>429405</td>\n",
       "      <td>0</td>\n",
       "      <td>218997.0</td>\n",
       "      <td>0.0</td>\n",
       "      <td>274532495.0</td>\n",
       "      <td>149672.0</td>\n",
       "      <td>1921.82</td>\n",
       "      <td>274682208.0</td>\n",
       "    </tr>\n",
       "    <tr>\n",
       "      <th>532</th>\n",
       "      <td>Hospital</td>\n",
       "      <td>47.608951</td>\n",
       "      <td>-122.322402</td>\n",
       "      <td>1994</td>\n",
       "      <td>7.0</td>\n",
       "      <td>14</td>\n",
       "      <td>1765970</td>\n",
       "      <td>0</td>\n",
       "      <td>1639334.0</td>\n",
       "      <td>134943456.0</td>\n",
       "      <td>139354828.0</td>\n",
       "      <td>17316120.0</td>\n",
       "      <td>12307.16</td>\n",
       "      <td>291614432.0</td>\n",
       "    </tr>\n",
       "    <tr>\n",
       "      <th>1443</th>\n",
       "      <td>University</td>\n",
       "      <td>47.656440</td>\n",
       "      <td>-122.310410</td>\n",
       "      <td>1900</td>\n",
       "      <td>111.0</td>\n",
       "      <td>0</td>\n",
       "      <td>9320156</td>\n",
       "      <td>0</td>\n",
       "      <td>9320156.0</td>\n",
       "      <td>84985240.0</td>\n",
       "      <td>657074389.0</td>\n",
       "      <td>0.0</td>\n",
       "      <td>11140.56</td>\n",
       "      <td>873923712.0</td>\n",
       "    </tr>\n",
       "  </tbody>\n",
       "</table>\n",
       "</div>"
      ],
      "text/plain": [
       "     PrimaryPropertyType   Latitude   Longitude  YearBuilt  NumberofBuildings  \\\n",
       "28    Mixed Use Property  47.534930 -122.317880       1992                1.0   \n",
       "92              Hospital  47.662310 -122.281460       1953                6.0   \n",
       "117             Hospital  47.603990 -122.323770       2000                9.0   \n",
       "475                Other  47.614380 -122.338710       1981                1.0   \n",
       "532             Hospital  47.608951 -122.322402       1994                7.0   \n",
       "1443          University  47.656440 -122.310410       1900              111.0   \n",
       "\n",
       "      NumberofFloors  PropertyGFABuilding(s)  PropertyGFAParking  \\\n",
       "28                 3                  494835                   0   \n",
       "92                10                  879000                   0   \n",
       "117                8                 1158691                   0   \n",
       "475               33                  429405                   0   \n",
       "532               14                 1765970                   0   \n",
       "1443               0                 9320156                   0   \n",
       "\n",
       "      LargestPropertyUseTypeGFA  SteamUse(kBtu)  Electricity(kBtu)  \\\n",
       "28                     757027.0             0.0        150476283.0   \n",
       "92                     879000.0             0.0        115641210.0   \n",
       "117                   1350182.0     122575032.0        168683602.0   \n",
       "475                    218997.0             0.0        274532495.0   \n",
       "532                   1639334.0     134943456.0        139354828.0   \n",
       "1443                  9320156.0      84985240.0        657074389.0   \n",
       "\n",
       "      NaturalGas(kBtu)  TotalGHGEmissions  SiteEnergyUse(kBtu)  \n",
       "28         297909000.0           16870.98          448385312.0  \n",
       "92         138191238.0            8145.52          253832464.0  \n",
       "117          1832129.0           10734.57          293090784.0  \n",
       "475           149672.0            1921.82          274682208.0  \n",
       "532         17316120.0           12307.16          291614432.0  \n",
       "1443               0.0           11140.56          873923712.0  "
      ]
     },
     "execution_count": 39,
     "metadata": {},
     "output_type": "execute_result"
    }
   ],
   "source": [
    "nonResidential[nonResidential['SiteEnergyUse(kBtu)'] > 200000000]\n",
    "# Index des outliers à virer: 1443, 475,28"
   ]
  },
  {
   "cell_type": "markdown",
   "metadata": {},
   "source": [
    "- Drop des Outliers"
   ]
  },
  {
   "cell_type": "code",
   "execution_count": 40,
   "metadata": {},
   "outputs": [
    {
     "data": {
      "text/html": [
       "<div>\n",
       "<style scoped>\n",
       "    .dataframe tbody tr th:only-of-type {\n",
       "        vertical-align: middle;\n",
       "    }\n",
       "\n",
       "    .dataframe tbody tr th {\n",
       "        vertical-align: top;\n",
       "    }\n",
       "\n",
       "    .dataframe thead th {\n",
       "        text-align: right;\n",
       "    }\n",
       "</style>\n",
       "<table border=\"1\" class=\"dataframe\">\n",
       "  <thead>\n",
       "    <tr style=\"text-align: right;\">\n",
       "      <th></th>\n",
       "      <th>PrimaryPropertyType</th>\n",
       "      <th>Latitude</th>\n",
       "      <th>Longitude</th>\n",
       "      <th>YearBuilt</th>\n",
       "      <th>NumberofBuildings</th>\n",
       "      <th>NumberofFloors</th>\n",
       "      <th>PropertyGFABuilding(s)</th>\n",
       "      <th>PropertyGFAParking</th>\n",
       "      <th>LargestPropertyUseTypeGFA</th>\n",
       "      <th>SteamUse(kBtu)</th>\n",
       "      <th>Electricity(kBtu)</th>\n",
       "      <th>NaturalGas(kBtu)</th>\n",
       "      <th>TotalGHGEmissions</th>\n",
       "      <th>SiteEnergyUse(kBtu)</th>\n",
       "    </tr>\n",
       "  </thead>\n",
       "  <tbody>\n",
       "    <tr>\n",
       "      <th>28</th>\n",
       "      <td>Mixed Use Property</td>\n",
       "      <td>47.534930</td>\n",
       "      <td>-122.317880</td>\n",
       "      <td>1992</td>\n",
       "      <td>1.0</td>\n",
       "      <td>3</td>\n",
       "      <td>494835</td>\n",
       "      <td>0</td>\n",
       "      <td>757027.0</td>\n",
       "      <td>0.0</td>\n",
       "      <td>150476283.0</td>\n",
       "      <td>297909000.0</td>\n",
       "      <td>16870.98</td>\n",
       "      <td>448385312.0</td>\n",
       "    </tr>\n",
       "    <tr>\n",
       "      <th>117</th>\n",
       "      <td>Hospital</td>\n",
       "      <td>47.603990</td>\n",
       "      <td>-122.323770</td>\n",
       "      <td>2000</td>\n",
       "      <td>9.0</td>\n",
       "      <td>8</td>\n",
       "      <td>1158691</td>\n",
       "      <td>0</td>\n",
       "      <td>1350182.0</td>\n",
       "      <td>122575032.0</td>\n",
       "      <td>168683602.0</td>\n",
       "      <td>1832129.0</td>\n",
       "      <td>10734.57</td>\n",
       "      <td>293090784.0</td>\n",
       "    </tr>\n",
       "    <tr>\n",
       "      <th>532</th>\n",
       "      <td>Hospital</td>\n",
       "      <td>47.608951</td>\n",
       "      <td>-122.322402</td>\n",
       "      <td>1994</td>\n",
       "      <td>7.0</td>\n",
       "      <td>14</td>\n",
       "      <td>1765970</td>\n",
       "      <td>0</td>\n",
       "      <td>1639334.0</td>\n",
       "      <td>134943456.0</td>\n",
       "      <td>139354828.0</td>\n",
       "      <td>17316120.0</td>\n",
       "      <td>12307.16</td>\n",
       "      <td>291614432.0</td>\n",
       "    </tr>\n",
       "    <tr>\n",
       "      <th>1443</th>\n",
       "      <td>University</td>\n",
       "      <td>47.656440</td>\n",
       "      <td>-122.310410</td>\n",
       "      <td>1900</td>\n",
       "      <td>111.0</td>\n",
       "      <td>0</td>\n",
       "      <td>9320156</td>\n",
       "      <td>0</td>\n",
       "      <td>9320156.0</td>\n",
       "      <td>84985240.0</td>\n",
       "      <td>657074389.0</td>\n",
       "      <td>0.0</td>\n",
       "      <td>11140.56</td>\n",
       "      <td>873923712.0</td>\n",
       "    </tr>\n",
       "  </tbody>\n",
       "</table>\n",
       "</div>"
      ],
      "text/plain": [
       "     PrimaryPropertyType   Latitude   Longitude  YearBuilt  NumberofBuildings  \\\n",
       "28    Mixed Use Property  47.534930 -122.317880       1992                1.0   \n",
       "117             Hospital  47.603990 -122.323770       2000                9.0   \n",
       "532             Hospital  47.608951 -122.322402       1994                7.0   \n",
       "1443          University  47.656440 -122.310410       1900              111.0   \n",
       "\n",
       "      NumberofFloors  PropertyGFABuilding(s)  PropertyGFAParking  \\\n",
       "28                 3                  494835                   0   \n",
       "117                8                 1158691                   0   \n",
       "532               14                 1765970                   0   \n",
       "1443               0                 9320156                   0   \n",
       "\n",
       "      LargestPropertyUseTypeGFA  SteamUse(kBtu)  Electricity(kBtu)  \\\n",
       "28                     757027.0             0.0        150476283.0   \n",
       "117                   1350182.0     122575032.0        168683602.0   \n",
       "532                   1639334.0     134943456.0        139354828.0   \n",
       "1443                  9320156.0      84985240.0        657074389.0   \n",
       "\n",
       "      NaturalGas(kBtu)  TotalGHGEmissions  SiteEnergyUse(kBtu)  \n",
       "28         297909000.0           16870.98          448385312.0  \n",
       "117          1832129.0           10734.57          293090784.0  \n",
       "532         17316120.0           12307.16          291614432.0  \n",
       "1443               0.0           11140.56          873923712.0  "
      ]
     },
     "execution_count": 40,
     "metadata": {},
     "output_type": "execute_result"
    }
   ],
   "source": [
    "nonResidential[nonResidential['TotalGHGEmissions'] > 10000]"
   ]
  },
  {
   "cell_type": "code",
   "execution_count": 41,
   "metadata": {},
   "outputs": [],
   "source": [
    "# suppression des valeurs GHGE > 10000\n",
    "#nonResidential = nonResidential[nonResidential['TotalGHGEmissions'] < 10000]"
   ]
  },
  {
   "cell_type": "code",
   "execution_count": 42,
   "metadata": {},
   "outputs": [],
   "source": [
    "# suppression des valeurs energy > 600000000\n",
    "#nonResidential = nonResidential[nonResidential['SiteEnergyUse(kBtu)'] < 250000000]"
   ]
  },
  {
   "cell_type": "code",
   "execution_count": 43,
   "metadata": {},
   "outputs": [],
   "source": [
    "nonResidential = nonResidential.drop([1443, 475,28], axis = 0)"
   ]
  },
  {
   "cell_type": "code",
   "execution_count": 44,
   "metadata": {},
   "outputs": [
    {
     "data": {
      "image/png": "[encoded data removed]",
      "text/plain": [
       "<Figure size 432x288 with 1 Axes>"
      ]
     },
     "metadata": {
      "needs_background": "light"
     },
     "output_type": "display_data"
    }
   ],
   "source": [
    "plt.scatter(nonResidential['TotalGHGEmissions'],nonResidential['SiteEnergyUse(kBtu)'])\n",
    "plt.xlabel('TotalGHGEmissions')\n",
    "plt.ylabel('SiteEnergyUse(kBtu)')\n",
    "plt.show()"
   ]
  },
  {
   "cell_type": "code",
   "execution_count": 45,
   "metadata": {},
   "outputs": [
    {
     "data": {
      "text/plain": [
       "PrimaryPropertyType          0\n",
       "Latitude                     0\n",
       "Longitude                    0\n",
       "YearBuilt                    0\n",
       "NumberofBuildings            0\n",
       "NumberofFloors               0\n",
       "PropertyGFABuilding(s)       0\n",
       "PropertyGFAParking           0\n",
       "LargestPropertyUseTypeGFA    4\n",
       "SteamUse(kBtu)               0\n",
       "Electricity(kBtu)            0\n",
       "NaturalGas(kBtu)             0\n",
       "TotalGHGEmissions            0\n",
       "SiteEnergyUse(kBtu)          0\n",
       "dtype: int64"
      ]
     },
     "execution_count": 45,
     "metadata": {},
     "output_type": "execute_result"
    }
   ],
   "source": [
    "nonResidential.isna().sum()"
   ]
  },
  {
   "cell_type": "code",
   "execution_count": 46,
   "metadata": {},
   "outputs": [
    {
     "data": {
      "text/html": [
       "<div>\n",
       "<style scoped>\n",
       "    .dataframe tbody tr th:only-of-type {\n",
       "        vertical-align: middle;\n",
       "    }\n",
       "\n",
       "    .dataframe tbody tr th {\n",
       "        vertical-align: top;\n",
       "    }\n",
       "\n",
       "    .dataframe thead th {\n",
       "        text-align: right;\n",
       "    }\n",
       "</style>\n",
       "<table border=\"1\" class=\"dataframe\">\n",
       "  <thead>\n",
       "    <tr style=\"text-align: right;\">\n",
       "      <th></th>\n",
       "      <th>PrimaryPropertyType</th>\n",
       "      <th>Latitude</th>\n",
       "      <th>Longitude</th>\n",
       "      <th>YearBuilt</th>\n",
       "      <th>NumberofBuildings</th>\n",
       "      <th>NumberofFloors</th>\n",
       "      <th>PropertyGFABuilding(s)</th>\n",
       "      <th>PropertyGFAParking</th>\n",
       "      <th>LargestPropertyUseTypeGFA</th>\n",
       "      <th>SteamUse(kBtu)</th>\n",
       "      <th>Electricity(kBtu)</th>\n",
       "      <th>NaturalGas(kBtu)</th>\n",
       "      <th>TotalGHGEmissions</th>\n",
       "      <th>SiteEnergyUse(kBtu)</th>\n",
       "    </tr>\n",
       "  </thead>\n",
       "  <tbody>\n",
       "    <tr>\n",
       "      <th>281</th>\n",
       "      <td>Self-Storage Facility</td>\n",
       "      <td>47.66838</td>\n",
       "      <td>-122.39310</td>\n",
       "      <td>1946</td>\n",
       "      <td>2.0</td>\n",
       "      <td>2</td>\n",
       "      <td>111445</td>\n",
       "      <td>0</td>\n",
       "      <td>NaN</td>\n",
       "      <td>0.0</td>\n",
       "      <td>3007514.0</td>\n",
       "      <td>2689958.0</td>\n",
       "      <td>163.83</td>\n",
       "      <td>5.697472e+06</td>\n",
       "    </tr>\n",
       "    <tr>\n",
       "      <th>726</th>\n",
       "      <td>Hotel</td>\n",
       "      <td>47.61203</td>\n",
       "      <td>-122.34165</td>\n",
       "      <td>1910</td>\n",
       "      <td>1.0</td>\n",
       "      <td>8</td>\n",
       "      <td>61721</td>\n",
       "      <td>0</td>\n",
       "      <td>NaN</td>\n",
       "      <td>0.0</td>\n",
       "      <td>2534592.0</td>\n",
       "      <td>362488.0</td>\n",
       "      <td>36.92</td>\n",
       "      <td>2.897080e+06</td>\n",
       "    </tr>\n",
       "    <tr>\n",
       "      <th>1201</th>\n",
       "      <td>Small- and Mid-Sized Office</td>\n",
       "      <td>47.64747</td>\n",
       "      <td>-122.34086</td>\n",
       "      <td>2008</td>\n",
       "      <td>1.0</td>\n",
       "      <td>4</td>\n",
       "      <td>48350</td>\n",
       "      <td>0</td>\n",
       "      <td>NaN</td>\n",
       "      <td>0.0</td>\n",
       "      <td>3168131.0</td>\n",
       "      <td>0.0</td>\n",
       "      <td>22.09</td>\n",
       "      <td>3.168131e+06</td>\n",
       "    </tr>\n",
       "    <tr>\n",
       "      <th>1217</th>\n",
       "      <td>Restaurant</td>\n",
       "      <td>47.59697</td>\n",
       "      <td>-122.32474</td>\n",
       "      <td>1913</td>\n",
       "      <td>1.0</td>\n",
       "      <td>3</td>\n",
       "      <td>28800</td>\n",
       "      <td>0</td>\n",
       "      <td>NaN</td>\n",
       "      <td>0.0</td>\n",
       "      <td>402907.0</td>\n",
       "      <td>497017.0</td>\n",
       "      <td>29.21</td>\n",
       "      <td>8.999242e+05</td>\n",
       "    </tr>\n",
       "  </tbody>\n",
       "</table>\n",
       "</div>"
      ],
      "text/plain": [
       "              PrimaryPropertyType  Latitude  Longitude  YearBuilt  \\\n",
       "281         Self-Storage Facility  47.66838 -122.39310       1946   \n",
       "726                         Hotel  47.61203 -122.34165       1910   \n",
       "1201  Small- and Mid-Sized Office  47.64747 -122.34086       2008   \n",
       "1217                   Restaurant  47.59697 -122.32474       1913   \n",
       "\n",
       "      NumberofBuildings  NumberofFloors  PropertyGFABuilding(s)  \\\n",
       "281                 2.0               2                  111445   \n",
       "726                 1.0               8                   61721   \n",
       "1201                1.0               4                   48350   \n",
       "1217                1.0               3                   28800   \n",
       "\n",
       "      PropertyGFAParking  LargestPropertyUseTypeGFA  SteamUse(kBtu)  \\\n",
       "281                    0                        NaN             0.0   \n",
       "726                    0                        NaN             0.0   \n",
       "1201                   0                        NaN             0.0   \n",
       "1217                   0                        NaN             0.0   \n",
       "\n",
       "      Electricity(kBtu)  NaturalGas(kBtu)  TotalGHGEmissions  \\\n",
       "281           3007514.0         2689958.0             163.83   \n",
       "726           2534592.0          362488.0              36.92   \n",
       "1201          3168131.0               0.0              22.09   \n",
       "1217           402907.0          497017.0              29.21   \n",
       "\n",
       "      SiteEnergyUse(kBtu)  \n",
       "281          5.697472e+06  \n",
       "726          2.897080e+06  \n",
       "1201         3.168131e+06  \n",
       "1217         8.999242e+05  "
      ]
     },
     "execution_count": 46,
     "metadata": {},
     "output_type": "execute_result"
    }
   ],
   "source": [
    "nonResidential[nonResidential['LargestPropertyUseTypeGFA'].isna()]"
   ]
  },
  {
   "cell_type": "code",
   "execution_count": 47,
   "metadata": {},
   "outputs": [
    {
     "data": {
      "text/plain": [
       "Small- and Mid-Sized Office    282\n",
       "Other                          189\n",
       "Warehouse                      178\n",
       "Large Office                   165\n",
       "Mixed Use Property             104\n",
       "Retail Store                    85\n",
       "Hotel                           75\n",
       "Worship Facility                69\n",
       "Distribution Center             51\n",
       "K-12 School                     50\n",
       "Supermarket / Grocery Store     40\n",
       "Medical Office                  38\n",
       "Self-Storage Facility           28\n",
       "University                      22\n",
       "Senior Care Community           20\n",
       "Refrigerated Warehouse          12\n",
       "Restaurant                      12\n",
       "Hospital                        10\n",
       "Laboratory                      10\n",
       "Name: PrimaryPropertyType, dtype: int64"
      ]
     },
     "execution_count": 47,
     "metadata": {},
     "output_type": "execute_result"
    }
   ],
   "source": [
    "nonResidential['PrimaryPropertyType'].value_counts()"
   ]
  },
  {
   "cell_type": "code",
   "execution_count": 48,
   "metadata": {},
   "outputs": [],
   "source": [
    "nonResidential = nonResidential.dropna(axis=0) "
   ]
  },
  {
   "cell_type": "code",
   "execution_count": 49,
   "metadata": {},
   "outputs": [
    {
     "data": {
      "text/plain": [
       "1.0     1346\n",
       "0.0       44\n",
       "3.0       12\n",
       "2.0       11\n",
       "5.0        6\n",
       "4.0        4\n",
       "6.0        4\n",
       "14.0       2\n",
       "27.0       1\n",
       "11.0       1\n",
       "9.0        1\n",
       "7.0        1\n",
       "8.0        1\n",
       "23.0       1\n",
       "10.0       1\n",
       "Name: NumberofBuildings, dtype: int64"
      ]
     },
     "execution_count": 49,
     "metadata": {},
     "output_type": "execute_result"
    }
   ],
   "source": [
    "nonResidential['NumberofBuildings'].value_counts()"
   ]
  },
  {
   "cell_type": "markdown",
   "metadata": {},
   "source": [
    "- Calcul de l'age des batiments"
   ]
  },
  {
   "cell_type": "code",
   "execution_count": 50,
   "metadata": {},
   "outputs": [],
   "source": [
    "df1 = nonResidential.copy()"
   ]
  },
  {
   "cell_type": "code",
   "execution_count": 51,
   "metadata": {},
   "outputs": [],
   "source": [
    "def fill_date(data):\n",
    "    if data<= 1920:\n",
    "        return \"_1920\"\n",
    "    elif 1920<data<=1940:\n",
    "        return \"1920_1940\"\n",
    "    elif 1940<data<=1960:\n",
    "        return \"1940_1960\"\n",
    "    elif 1960<data<=1980:\n",
    "        return \"1960_1980\"\n",
    "    elif 1980<data<=2000:\n",
    "        return \"1980_2000\"\n",
    "    elif data>2000:\n",
    "        return \"2000_\""
   ]
  },
  {
   "cell_type": "code",
   "execution_count": 52,
   "metadata": {},
   "outputs": [],
   "source": [
    "df1['YearBuilt'] = df1['YearBuilt'].apply(fill_date)"
   ]
  },
  {
   "cell_type": "code",
   "execution_count": 53,
   "metadata": {},
   "outputs": [],
   "source": [
    "df1['SteamUse(kBtu)'] = df1['SteamUse(kBtu)'].apply(lambda x : 1 if x > 0 else 0 )\n",
    "df1['Electricity(kBtu)'] = df1['Electricity(kBtu)'].apply(lambda x : 1 if x > 0 else 0 )\n",
    "df1['NaturalGas(kBtu)'] = df1['NaturalGas(kBtu)'].apply(lambda x : 1 if x > 0 else 0 )"
   ]
  },
  {
   "cell_type": "code",
   "execution_count": 54,
   "metadata": {},
   "outputs": [],
   "source": [
    "df2_code = pd.get_dummies(df1 ,columns=['PrimaryPropertyType','YearBuilt'])"
   ]
  },
  {
   "cell_type": "code",
   "execution_count": 55,
   "metadata": {},
   "outputs": [
    {
     "data": {
      "text/html": [
       "<div>\n",
       "<style scoped>\n",
       "    .dataframe tbody tr th:only-of-type {\n",
       "        vertical-align: middle;\n",
       "    }\n",
       "\n",
       "    .dataframe tbody tr th {\n",
       "        vertical-align: top;\n",
       "    }\n",
       "\n",
       "    .dataframe thead th {\n",
       "        text-align: right;\n",
       "    }\n",
       "</style>\n",
       "<table border=\"1\" class=\"dataframe\">\n",
       "  <thead>\n",
       "    <tr style=\"text-align: right;\">\n",
       "      <th></th>\n",
       "      <th>Latitude</th>\n",
       "      <th>Longitude</th>\n",
       "      <th>NumberofBuildings</th>\n",
       "      <th>NumberofFloors</th>\n",
       "      <th>PropertyGFABuilding(s)</th>\n",
       "      <th>PropertyGFAParking</th>\n",
       "      <th>LargestPropertyUseTypeGFA</th>\n",
       "      <th>SteamUse(kBtu)</th>\n",
       "      <th>Electricity(kBtu)</th>\n",
       "      <th>NaturalGas(kBtu)</th>\n",
       "      <th>...</th>\n",
       "      <th>PrimaryPropertyType_Supermarket / Grocery Store</th>\n",
       "      <th>PrimaryPropertyType_University</th>\n",
       "      <th>PrimaryPropertyType_Warehouse</th>\n",
       "      <th>PrimaryPropertyType_Worship Facility</th>\n",
       "      <th>YearBuilt_1920_1940</th>\n",
       "      <th>YearBuilt_1940_1960</th>\n",
       "      <th>YearBuilt_1960_1980</th>\n",
       "      <th>YearBuilt_1980_2000</th>\n",
       "      <th>YearBuilt_2000_</th>\n",
       "      <th>YearBuilt__1920</th>\n",
       "    </tr>\n",
       "  </thead>\n",
       "  <tbody>\n",
       "    <tr>\n",
       "      <th>0</th>\n",
       "      <td>47.61220</td>\n",
       "      <td>-122.33799</td>\n",
       "      <td>1.0</td>\n",
       "      <td>12</td>\n",
       "      <td>88434</td>\n",
       "      <td>0</td>\n",
       "      <td>88434.0</td>\n",
       "      <td>1</td>\n",
       "      <td>1</td>\n",
       "      <td>1</td>\n",
       "      <td>...</td>\n",
       "      <td>0</td>\n",
       "      <td>0</td>\n",
       "      <td>0</td>\n",
       "      <td>0</td>\n",
       "      <td>1</td>\n",
       "      <td>0</td>\n",
       "      <td>0</td>\n",
       "      <td>0</td>\n",
       "      <td>0</td>\n",
       "      <td>0</td>\n",
       "    </tr>\n",
       "    <tr>\n",
       "      <th>1</th>\n",
       "      <td>47.61317</td>\n",
       "      <td>-122.33393</td>\n",
       "      <td>1.0</td>\n",
       "      <td>11</td>\n",
       "      <td>88502</td>\n",
       "      <td>15064</td>\n",
       "      <td>83880.0</td>\n",
       "      <td>0</td>\n",
       "      <td>1</td>\n",
       "      <td>1</td>\n",
       "      <td>...</td>\n",
       "      <td>0</td>\n",
       "      <td>0</td>\n",
       "      <td>0</td>\n",
       "      <td>0</td>\n",
       "      <td>0</td>\n",
       "      <td>0</td>\n",
       "      <td>0</td>\n",
       "      <td>1</td>\n",
       "      <td>0</td>\n",
       "      <td>0</td>\n",
       "    </tr>\n",
       "    <tr>\n",
       "      <th>2</th>\n",
       "      <td>47.61393</td>\n",
       "      <td>-122.33810</td>\n",
       "      <td>1.0</td>\n",
       "      <td>41</td>\n",
       "      <td>759392</td>\n",
       "      <td>196718</td>\n",
       "      <td>756493.0</td>\n",
       "      <td>1</td>\n",
       "      <td>1</td>\n",
       "      <td>1</td>\n",
       "      <td>...</td>\n",
       "      <td>0</td>\n",
       "      <td>0</td>\n",
       "      <td>0</td>\n",
       "      <td>0</td>\n",
       "      <td>0</td>\n",
       "      <td>0</td>\n",
       "      <td>1</td>\n",
       "      <td>0</td>\n",
       "      <td>0</td>\n",
       "      <td>0</td>\n",
       "    </tr>\n",
       "    <tr>\n",
       "      <th>3</th>\n",
       "      <td>47.61412</td>\n",
       "      <td>-122.33664</td>\n",
       "      <td>1.0</td>\n",
       "      <td>10</td>\n",
       "      <td>61320</td>\n",
       "      <td>0</td>\n",
       "      <td>61320.0</td>\n",
       "      <td>1</td>\n",
       "      <td>1</td>\n",
       "      <td>1</td>\n",
       "      <td>...</td>\n",
       "      <td>0</td>\n",
       "      <td>0</td>\n",
       "      <td>0</td>\n",
       "      <td>0</td>\n",
       "      <td>1</td>\n",
       "      <td>0</td>\n",
       "      <td>0</td>\n",
       "      <td>0</td>\n",
       "      <td>0</td>\n",
       "      <td>0</td>\n",
       "    </tr>\n",
       "    <tr>\n",
       "      <th>4</th>\n",
       "      <td>47.61375</td>\n",
       "      <td>-122.34047</td>\n",
       "      <td>1.0</td>\n",
       "      <td>18</td>\n",
       "      <td>113580</td>\n",
       "      <td>62000</td>\n",
       "      <td>123445.0</td>\n",
       "      <td>0</td>\n",
       "      <td>1</td>\n",
       "      <td>1</td>\n",
       "      <td>...</td>\n",
       "      <td>0</td>\n",
       "      <td>0</td>\n",
       "      <td>0</td>\n",
       "      <td>0</td>\n",
       "      <td>0</td>\n",
       "      <td>0</td>\n",
       "      <td>1</td>\n",
       "      <td>0</td>\n",
       "      <td>0</td>\n",
       "      <td>0</td>\n",
       "    </tr>\n",
       "    <tr>\n",
       "      <th>...</th>\n",
       "      <td>...</td>\n",
       "      <td>...</td>\n",
       "      <td>...</td>\n",
       "      <td>...</td>\n",
       "      <td>...</td>\n",
       "      <td>...</td>\n",
       "      <td>...</td>\n",
       "      <td>...</td>\n",
       "      <td>...</td>\n",
       "      <td>...</td>\n",
       "      <td>...</td>\n",
       "      <td>...</td>\n",
       "      <td>...</td>\n",
       "      <td>...</td>\n",
       "      <td>...</td>\n",
       "      <td>...</td>\n",
       "      <td>...</td>\n",
       "      <td>...</td>\n",
       "      <td>...</td>\n",
       "      <td>...</td>\n",
       "      <td>...</td>\n",
       "    </tr>\n",
       "    <tr>\n",
       "      <th>1461</th>\n",
       "      <td>47.54425</td>\n",
       "      <td>-122.31776</td>\n",
       "      <td>1.0</td>\n",
       "      <td>1</td>\n",
       "      <td>47863</td>\n",
       "      <td>4222</td>\n",
       "      <td>52085.0</td>\n",
       "      <td>0</td>\n",
       "      <td>1</td>\n",
       "      <td>1</td>\n",
       "      <td>...</td>\n",
       "      <td>0</td>\n",
       "      <td>0</td>\n",
       "      <td>1</td>\n",
       "      <td>0</td>\n",
       "      <td>0</td>\n",
       "      <td>1</td>\n",
       "      <td>0</td>\n",
       "      <td>0</td>\n",
       "      <td>0</td>\n",
       "      <td>0</td>\n",
       "    </tr>\n",
       "    <tr>\n",
       "      <th>1462</th>\n",
       "      <td>47.53161</td>\n",
       "      <td>-122.29944</td>\n",
       "      <td>1.0</td>\n",
       "      <td>2</td>\n",
       "      <td>24990</td>\n",
       "      <td>0</td>\n",
       "      <td>24990.0</td>\n",
       "      <td>0</td>\n",
       "      <td>1</td>\n",
       "      <td>1</td>\n",
       "      <td>...</td>\n",
       "      <td>0</td>\n",
       "      <td>0</td>\n",
       "      <td>0</td>\n",
       "      <td>0</td>\n",
       "      <td>1</td>\n",
       "      <td>0</td>\n",
       "      <td>0</td>\n",
       "      <td>0</td>\n",
       "      <td>0</td>\n",
       "      <td>0</td>\n",
       "    </tr>\n",
       "    <tr>\n",
       "      <th>1463</th>\n",
       "      <td>47.68109</td>\n",
       "      <td>-122.26180</td>\n",
       "      <td>1.0</td>\n",
       "      <td>1</td>\n",
       "      <td>72000</td>\n",
       "      <td>0</td>\n",
       "      <td>72000.0</td>\n",
       "      <td>0</td>\n",
       "      <td>1</td>\n",
       "      <td>1</td>\n",
       "      <td>...</td>\n",
       "      <td>0</td>\n",
       "      <td>0</td>\n",
       "      <td>0</td>\n",
       "      <td>0</td>\n",
       "      <td>0</td>\n",
       "      <td>0</td>\n",
       "      <td>0</td>\n",
       "      <td>0</td>\n",
       "      <td>1</td>\n",
       "      <td>0</td>\n",
       "    </tr>\n",
       "    <tr>\n",
       "      <th>1464</th>\n",
       "      <td>47.58831</td>\n",
       "      <td>-122.30650</td>\n",
       "      <td>1.0</td>\n",
       "      <td>3</td>\n",
       "      <td>45000</td>\n",
       "      <td>0</td>\n",
       "      <td>45728.0</td>\n",
       "      <td>0</td>\n",
       "      <td>1</td>\n",
       "      <td>0</td>\n",
       "      <td>...</td>\n",
       "      <td>0</td>\n",
       "      <td>0</td>\n",
       "      <td>0</td>\n",
       "      <td>0</td>\n",
       "      <td>0</td>\n",
       "      <td>0</td>\n",
       "      <td>0</td>\n",
       "      <td>0</td>\n",
       "      <td>1</td>\n",
       "      <td>0</td>\n",
       "    </tr>\n",
       "    <tr>\n",
       "      <th>1465</th>\n",
       "      <td>47.62497</td>\n",
       "      <td>-122.33883</td>\n",
       "      <td>1.0</td>\n",
       "      <td>6</td>\n",
       "      <td>260262</td>\n",
       "      <td>85028</td>\n",
       "      <td>151523.0</td>\n",
       "      <td>0</td>\n",
       "      <td>1</td>\n",
       "      <td>1</td>\n",
       "      <td>...</td>\n",
       "      <td>0</td>\n",
       "      <td>0</td>\n",
       "      <td>0</td>\n",
       "      <td>0</td>\n",
       "      <td>0</td>\n",
       "      <td>0</td>\n",
       "      <td>0</td>\n",
       "      <td>0</td>\n",
       "      <td>1</td>\n",
       "      <td>0</td>\n",
       "    </tr>\n",
       "  </tbody>\n",
       "</table>\n",
       "<p>1436 rows × 37 columns</p>\n",
       "</div>"
      ],
      "text/plain": [
       "      Latitude  Longitude  NumberofBuildings  NumberofFloors  \\\n",
       "0     47.61220 -122.33799                1.0              12   \n",
       "1     47.61317 -122.33393                1.0              11   \n",
       "2     47.61393 -122.33810                1.0              41   \n",
       "3     47.61412 -122.33664                1.0              10   \n",
       "4     47.61375 -122.34047                1.0              18   \n",
       "...        ...        ...                ...             ...   \n",
       "1461  47.54425 -122.31776                1.0               1   \n",
       "1462  47.53161 -122.29944                1.0               2   \n",
       "1463  47.68109 -122.26180                1.0               1   \n",
       "1464  47.58831 -122.30650                1.0               3   \n",
       "1465  47.62497 -122.33883                1.0               6   \n",
       "\n",
       "      PropertyGFABuilding(s)  PropertyGFAParking  LargestPropertyUseTypeGFA  \\\n",
       "0                      88434                   0                    88434.0   \n",
       "1                      88502               15064                    83880.0   \n",
       "2                     759392              196718                   756493.0   \n",
       "3                      61320                   0                    61320.0   \n",
       "4                     113580               62000                   123445.0   \n",
       "...                      ...                 ...                        ...   \n",
       "1461                   47863                4222                    52085.0   \n",
       "1462                   24990                   0                    24990.0   \n",
       "1463                   72000                   0                    72000.0   \n",
       "1464                   45000                   0                    45728.0   \n",
       "1465                  260262               85028                   151523.0   \n",
       "\n",
       "      SteamUse(kBtu)  Electricity(kBtu)  NaturalGas(kBtu)  ...  \\\n",
       "0                  1                  1                 1  ...   \n",
       "1                  0                  1                 1  ...   \n",
       "2                  1                  1                 1  ...   \n",
       "3                  1                  1                 1  ...   \n",
       "4                  0                  1                 1  ...   \n",
       "...              ...                ...               ...  ...   \n",
       "1461               0                  1                 1  ...   \n",
       "1462               0                  1                 1  ...   \n",
       "1463               0                  1                 1  ...   \n",
       "1464               0                  1                 0  ...   \n",
       "1465               0                  1                 1  ...   \n",
       "\n",
       "      PrimaryPropertyType_Supermarket / Grocery Store  \\\n",
       "0                                                   0   \n",
       "1                                                   0   \n",
       "2                                                   0   \n",
       "3                                                   0   \n",
       "4                                                   0   \n",
       "...                                               ...   \n",
       "1461                                                0   \n",
       "1462                                                0   \n",
       "1463                                                0   \n",
       "1464                                                0   \n",
       "1465                                                0   \n",
       "\n",
       "      PrimaryPropertyType_University  PrimaryPropertyType_Warehouse  \\\n",
       "0                                  0                              0   \n",
       "1                                  0                              0   \n",
       "2                                  0                              0   \n",
       "3                                  0                              0   \n",
       "4                                  0                              0   \n",
       "...                              ...                            ...   \n",
       "1461                               0                              1   \n",
       "1462                               0                              0   \n",
       "1463                               0                              0   \n",
       "1464                               0                              0   \n",
       "1465                               0                              0   \n",
       "\n",
       "      PrimaryPropertyType_Worship Facility  YearBuilt_1920_1940  \\\n",
       "0                                        0                    1   \n",
       "1                                        0                    0   \n",
       "2                                        0                    0   \n",
       "3                                        0                    1   \n",
       "4                                        0                    0   \n",
       "...                                    ...                  ...   \n",
       "1461                                     0                    0   \n",
       "1462                                     0                    1   \n",
       "1463                                     0                    0   \n",
       "1464                                     0                    0   \n",
       "1465                                     0                    0   \n",
       "\n",
       "      YearBuilt_1940_1960  YearBuilt_1960_1980  YearBuilt_1980_2000  \\\n",
       "0                       0                    0                    0   \n",
       "1                       0                    0                    1   \n",
       "2                       0                    1                    0   \n",
       "3                       0                    0                    0   \n",
       "4                       0                    1                    0   \n",
       "...                   ...                  ...                  ...   \n",
       "1461                    1                    0                    0   \n",
       "1462                    0                    0                    0   \n",
       "1463                    0                    0                    0   \n",
       "1464                    0                    0                    0   \n",
       "1465                    0                    0                    0   \n",
       "\n",
       "      YearBuilt_2000_  YearBuilt__1920  \n",
       "0                   0                0  \n",
       "1                   0                0  \n",
       "2                   0                0  \n",
       "3                   0                0  \n",
       "4                   0                0  \n",
       "...               ...              ...  \n",
       "1461                0                0  \n",
       "1462                0                0  \n",
       "1463                1                0  \n",
       "1464                1                0  \n",
       "1465                1                0  \n",
       "\n",
       "[1436 rows x 37 columns]"
      ]
     },
     "execution_count": 55,
     "metadata": {},
     "output_type": "execute_result"
    }
   ],
   "source": [
    "df2_code"
   ]
  },
  {
   "cell_type": "code",
   "execution_count": 56,
   "metadata": {},
   "outputs": [],
   "source": [
    "features = df2_code.drop(columns = [\"TotalGHGEmissions\",\"SiteEnergyUse(kBtu)\"])"
   ]
  },
  {
   "cell_type": "code",
   "execution_count": 57,
   "metadata": {},
   "outputs": [],
   "source": [
    "features_names = features.columns"
   ]
  },
  {
   "cell_type": "code",
   "execution_count": 58,
   "metadata": {},
   "outputs": [
    {
     "data": {
      "text/plain": [
       "Index(['Latitude', 'Longitude', 'NumberofBuildings', 'NumberofFloors',\n",
       "       'PropertyGFABuilding(s)', 'PropertyGFAParking',\n",
       "       'LargestPropertyUseTypeGFA', 'SteamUse(kBtu)', 'Electricity(kBtu)',\n",
       "       'NaturalGas(kBtu)', 'PrimaryPropertyType_Distribution Center',\n",
       "       'PrimaryPropertyType_Hospital', 'PrimaryPropertyType_Hotel',\n",
       "       'PrimaryPropertyType_K-12 School', 'PrimaryPropertyType_Laboratory',\n",
       "       'PrimaryPropertyType_Large Office',\n",
       "       'PrimaryPropertyType_Medical Office',\n",
       "       'PrimaryPropertyType_Mixed Use Property', 'PrimaryPropertyType_Other',\n",
       "       'PrimaryPropertyType_Refrigerated Warehouse',\n",
       "       'PrimaryPropertyType_Restaurant', 'PrimaryPropertyType_Retail Store',\n",
       "       'PrimaryPropertyType_Self-Storage Facility',\n",
       "       'PrimaryPropertyType_Senior Care Community',\n",
       "       'PrimaryPropertyType_Small- and Mid-Sized Office',\n",
       "       'PrimaryPropertyType_Supermarket / Grocery Store',\n",
       "       'PrimaryPropertyType_University', 'PrimaryPropertyType_Warehouse',\n",
       "       'PrimaryPropertyType_Worship Facility', 'YearBuilt_1920_1940',\n",
       "       'YearBuilt_1940_1960', 'YearBuilt_1960_1980', 'YearBuilt_1980_2000',\n",
       "       'YearBuilt_2000_', 'YearBuilt__1920'],\n",
       "      dtype='object')"
      ]
     },
     "execution_count": 58,
     "metadata": {},
     "output_type": "execute_result"
    }
   ],
   "source": [
    "features_names"
   ]
  }
 ],
 "metadata": {
  "kernelspec": {
   "display_name": "Python 3.9.12 ('base')",
   "language": "python",
   "name": "python3"
  },
  "language_info": {
   "codemirror_mode": {
    "name": "ipython",
    "version": 3
   },
   "file_extension": ".py",
   "mimetype": "text/x-python",
   "name": "python",
   "nbconvert_exporter": "python",
   "pygments_lexer": "ipython3",
   "version": "3.9.12"
  },
  "orig_nbformat": 4,
  "vscode": {
   "interpreter": {
    "hash": "bd081ec4775106110a6ec263dfd69dc0c4175c1ef4a4b7bd7cc17da957142225"
   }
  }
 },
 "nbformat": 4,
 "nbformat_minor": 2
}
